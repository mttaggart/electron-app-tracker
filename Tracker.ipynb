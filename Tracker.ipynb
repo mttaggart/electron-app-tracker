{
 "cells": [
  {
   "cell_type": "markdown",
   "id": "a87e1929-bbb8-4f3b-8e19-faaf9e5aa092",
   "metadata": {},
   "source": [
    "# Electron Vulnerability Tracker: The Notebook\n",
    "\n",
    "This notebook serves as a PoC as well proof of execution of the code.\n",
    "\n",
    "This notebook can be run by anyone, provided the dependencies listed in `pyproject.toml` are installed."
   ]
  },
  {
   "cell_type": "markdown",
   "id": "aacc19c7-2780-4009-9c76-b0f71fddb311",
   "metadata": {},
   "source": [
    "We'll start with some prerequisite code"
   ]
  },
  {
   "cell_type": "code",
   "execution_count": 1,
   "id": "4f66512b-d32f-467f-a120-68219f989e81",
   "metadata": {
    "tags": []
   },
   "outputs": [],
   "source": [
    "# Set Autreload\n",
    "%load_ext autoreload\n",
    "%autoreload 2"
   ]
  },
  {
   "cell_type": "code",
   "execution_count": 2,
   "id": "6319ece1-191a-457c-b497-747e04893c7c",
   "metadata": {
    "tags": []
   },
   "outputs": [],
   "source": [
    "# Import Deps\n",
    "import csv\n",
    "import json\n",
    "import time\n",
    "from electron_tracker import logger, vulncheck, scraper\n",
    "# Set Logging Level\n",
    "logger.LOG_LEVEL = logger.INFO"
   ]
  },
  {
   "cell_type": "markdown",
   "id": "c92028a8-960e-4b9f-9771-e2ddc380a1c5",
   "metadata": {},
   "source": [
    "Now to load our data"
   ]
  },
  {
   "cell_type": "code",
   "execution_count": 3,
   "id": "d0294dd1-cdc2-4826-b4f1-fc1ecfbed941",
   "metadata": {
    "tags": []
   },
   "outputs": [],
   "source": [
    "# Load App data\n",
    "with open(\"electron_apps.csv\") as f:\n",
    "    reader = csv.DictReader(f)\n",
    "    apps = [l for l in reader]"
   ]
  },
  {
   "cell_type": "markdown",
   "id": "c281a715-cd73-4c39-8090-da256bc9f3f5",
   "metadata": {},
   "source": [
    "## Filtering Data\n",
    "\n",
    "We only want to run against apps with repos that are set to \"programmatic\" access. This prevents automated processes from overriding human intelligence. In some cases, we known an app is patched, even if this algorithm can't easily discover that fact."
   ]
  },
  {
   "cell_type": "code",
   "execution_count": 4,
   "id": "8b4429c5-2393-4fbb-80c5-5f4d730822db",
   "metadata": {
    "tags": []
   },
   "outputs": [],
   "source": [
    "# Filter for only apps with listed repos\n",
    "apps_with_repos = [a for a in apps if a[\"repo\"] != \"\"]"
   ]
  },
  {
   "cell_type": "code",
   "execution_count": 5,
   "id": "200d6715-013c-48dc-a043-d73d3c6846f7",
   "metadata": {},
   "outputs": [],
   "source": [
    "# Further filter to exclude manual apps\n",
    "non_manual_apps = [a for a in apps_with_repos if a[\"access_type\"] == \"programmatic\"]"
   ]
  },
  {
   "cell_type": "markdown",
   "id": "e00664d2-6160-46ef-a7e4-7ef9fb42426f",
   "metadata": {},
   "source": [
    "## Scraping Repos\n",
    "\n",
    "Now we make a bunch of HTTPS requests to scrape public repos for their contents, using the responses (at least from GitHub), to determine whether the app is vulnerable."
   ]
  },
  {
   "cell_type": "code",
   "execution_count": 6,
   "id": "4c782105-de26-44d7-b989-1d9e1f69e1e7",
   "metadata": {},
   "outputs": [
    {
     "data": {
      "text/html": [
       "<pre style=\"white-space:pre;overflow-x:auto;line-height:normal;font-family:Menlo,'DejaVu Sans Mono',consolas,'Courier New',monospace\"><span style=\"color: #008080; text-decoration-color: #008080; font-weight: bold\">[+] Getting repo: </span><span style=\"color: #008080; text-decoration-color: #008080; font-weight: bold; text-decoration: underline\">https://github.com/wiziple/1clipboard</span>\n",
       "</pre>\n"
      ],
      "text/plain": [
       "\u001b[1;36m[\u001b[0m\u001b[1;36m+\u001b[0m\u001b[1;36m]\u001b[0m\u001b[1;36m Getting repo: \u001b[0m\u001b[1;4;36mhttps://github.com/wiziple/1clipboard\u001b[0m\n"
      ]
     },
     "metadata": {},
     "output_type": "display_data"
    },
    {
     "data": {
      "text/html": [
       "<pre style=\"white-space:pre;overflow-x:auto;line-height:normal;font-family:Menlo,'DejaVu Sans Mono',consolas,'Courier New',monospace\"><span style=\"color: #008080; text-decoration-color: #008080; font-weight: bold\">[+] Successfully retrieved repo: </span><span style=\"color: #008080; text-decoration-color: #008080; font-weight: bold; text-decoration: underline\">https://github.com/wiziple/1clipboard</span>\n",
       "</pre>\n"
      ],
      "text/plain": [
       "\u001b[1;36m[\u001b[0m\u001b[1;36m+\u001b[0m\u001b[1;36m]\u001b[0m\u001b[1;36m Successfully retrieved repo: \u001b[0m\u001b[1;4;36mhttps://github.com/wiziple/1clipboard\u001b[0m\n"
      ]
     },
     "metadata": {},
     "output_type": "display_data"
    },
    {
     "data": {
      "text/html": [
       "<pre style=\"white-space:pre;overflow-x:auto;line-height:normal;font-family:Menlo,'DejaVu Sans Mono',consolas,'Courier New',monospace\"><span style=\"color: #ff5f00; text-decoration-color: #ff5f00; font-weight: bold\">[!] Package.json not found at root of </span><span style=\"color: #ff5f00; text-decoration-color: #ff5f00; font-weight: bold; text-decoration: underline\">https://github.com/wiziple/1clipboard;</span><span style=\"color: #ff5f00; text-decoration-color: #ff5f00; font-weight: bold\"> trying directories</span>\n",
       "</pre>\n"
      ],
      "text/plain": [
       "\u001b[1;38;5;202m[\u001b[0m\u001b[1;38;5;202m!\u001b[0m\u001b[1;38;5;202m]\u001b[0m\u001b[1;38;5;202m Package.json not found at root of \u001b[0m\u001b[1;4;38;5;202mhttps://github.com/wiziple/1clipboard;\u001b[0m\u001b[1;38;5;202m trying directories\u001b[0m\n"
      ]
     },
     "metadata": {},
     "output_type": "display_data"
    },
    {
     "data": {
      "text/html": [
       "<pre style=\"white-space:pre;overflow-x:auto;line-height:normal;font-family:Menlo,'DejaVu Sans Mono',consolas,'Courier New',monospace\"><span style=\"color: #008080; text-decoration-color: #008080; font-weight: bold\">[+] Trying </span><span style=\"color: #008080; text-decoration-color: #008080; font-weight: bold; text-decoration: underline\">https://github.com/wiziple/1Clipboard/tree/master/resources/github</span>\n",
       "</pre>\n"
      ],
      "text/plain": [
       "\u001b[1;36m[\u001b[0m\u001b[1;36m+\u001b[0m\u001b[1;36m]\u001b[0m\u001b[1;36m Trying \u001b[0m\u001b[1;4;36mhttps://github.com/wiziple/1Clipboard/tree/master/resources/github\u001b[0m\n"
      ]
     },
     "metadata": {},
     "output_type": "display_data"
    },
    {
     "data": {
      "text/html": [
       "<pre style=\"white-space:pre;overflow-x:auto;line-height:normal;font-family:Menlo,'DejaVu Sans Mono',consolas,'Courier New',monospace\"><span style=\"color: #800000; text-decoration-color: #800000; font-weight: bold\">[💀] Could not find package.json in first-level-subdirs</span>\n",
       "</pre>\n"
      ],
      "text/plain": [
       "\u001b[1;31m[\u001b[0m\u001b[1;31m💀\u001b[0m\u001b[1;31m]\u001b[0m\u001b[1;31m Could not find package.json in first-level-subdirs\u001b[0m\n"
      ]
     },
     "metadata": {},
     "output_type": "display_data"
    },
    {
     "data": {
      "text/html": [
       "<pre style=\"white-space:pre;overflow-x:auto;line-height:normal;font-family:Menlo,'DejaVu Sans Mono',consolas,'Courier New',monospace\"><span style=\"color: #008080; text-decoration-color: #008080; font-weight: bold\">[+] Getting repo: </span><span style=\"color: #008080; text-decoration-color: #008080; font-weight: bold; text-decoration: underline\">https://github.com/advanced-rest-client/arc-electron</span>\n",
       "</pre>\n"
      ],
      "text/plain": [
       "\u001b[1;36m[\u001b[0m\u001b[1;36m+\u001b[0m\u001b[1;36m]\u001b[0m\u001b[1;36m Getting repo: \u001b[0m\u001b[1;4;36mhttps://github.com/advanced-rest-client/arc-electron\u001b[0m\n"
      ]
     },
     "metadata": {},
     "output_type": "display_data"
    },
    {
     "data": {
      "text/html": [
       "<pre style=\"white-space:pre;overflow-x:auto;line-height:normal;font-family:Menlo,'DejaVu Sans Mono',consolas,'Courier New',monospace\"><span style=\"color: #008080; text-decoration-color: #008080; font-weight: bold\">[+] Successfully retrieved repo: </span><span style=\"color: #008080; text-decoration-color: #008080; font-weight: bold; text-decoration: underline\">https://github.com/advanced-rest-client/arc-electron</span>\n",
       "</pre>\n"
      ],
      "text/plain": [
       "\u001b[1;36m[\u001b[0m\u001b[1;36m+\u001b[0m\u001b[1;36m]\u001b[0m\u001b[1;36m Successfully retrieved repo: \u001b[0m\u001b[1;4;36mhttps://github.com/advanced-rest-client/arc-electron\u001b[0m\n"
      ]
     },
     "metadata": {},
     "output_type": "display_data"
    },
    {
     "data": {
      "text/html": [
       "<pre style=\"white-space:pre;overflow-x:auto;line-height:normal;font-family:Menlo,'DejaVu Sans Mono',consolas,'Courier New',monospace\"><span style=\"color: #008080; text-decoration-color: #008080; font-weight: bold\">[+] Found package.json at </span><span style=\"color: #008080; text-decoration-color: #008080; font-weight: bold; text-decoration: underline\">https://github.com/advanced-rest-client/arc-electron</span>\n",
       "</pre>\n"
      ],
      "text/plain": [
       "\u001b[1;36m[\u001b[0m\u001b[1;36m+\u001b[0m\u001b[1;36m]\u001b[0m\u001b[1;36m Found package.json at \u001b[0m\u001b[1;4;36mhttps://github.com/advanced-rest-client/arc-electron\u001b[0m\n"
      ]
     },
     "metadata": {},
     "output_type": "display_data"
    },
    {
     "data": {
      "text/html": [
       "<pre style=\"white-space:pre;overflow-x:auto;line-height:normal;font-family:Menlo,'DejaVu Sans Mono',consolas,'Courier New',monospace\"><span style=\"color: #008080; text-decoration-color: #008080; font-weight: bold\">[+] Getting </span><span style=\"color: #008080; text-decoration-color: #008080; font-weight: bold; text-decoration: underline\">https://github.com/advanced-rest-client/arc-electron/blob/master/package.json</span>\n",
       "</pre>\n"
      ],
      "text/plain": [
       "\u001b[1;36m[\u001b[0m\u001b[1;36m+\u001b[0m\u001b[1;36m]\u001b[0m\u001b[1;36m Getting \u001b[0m\u001b[1;4;36mhttps://github.com/advanced-rest-client/arc-electron/blob/master/package.json\u001b[0m\n"
      ]
     },
     "metadata": {},
     "output_type": "display_data"
    },
    {
     "data": {
      "text/html": [
       "<pre style=\"white-space:pre;overflow-x:auto;line-height:normal;font-family:Menlo,'DejaVu Sans Mono',consolas,'Courier New',monospace\"><span style=\"color: #008080; text-decoration-color: #008080; font-weight: bold\">[+] Getting repo: </span><span style=\"color: #008080; text-decoration-color: #008080; font-weight: bold; text-decoration: underline\">https://github.com/leinelissen/aeon</span>\n",
       "</pre>\n"
      ],
      "text/plain": [
       "\u001b[1;36m[\u001b[0m\u001b[1;36m+\u001b[0m\u001b[1;36m]\u001b[0m\u001b[1;36m Getting repo: \u001b[0m\u001b[1;4;36mhttps://github.com/leinelissen/aeon\u001b[0m\n"
      ]
     },
     "metadata": {},
     "output_type": "display_data"
    },
    {
     "data": {
      "text/html": [
       "<pre style=\"white-space:pre;overflow-x:auto;line-height:normal;font-family:Menlo,'DejaVu Sans Mono',consolas,'Courier New',monospace\"><span style=\"color: #008080; text-decoration-color: #008080; font-weight: bold\">[+] Successfully retrieved repo: </span><span style=\"color: #008080; text-decoration-color: #008080; font-weight: bold; text-decoration: underline\">https://github.com/leinelissen/aeon</span>\n",
       "</pre>\n"
      ],
      "text/plain": [
       "\u001b[1;36m[\u001b[0m\u001b[1;36m+\u001b[0m\u001b[1;36m]\u001b[0m\u001b[1;36m Successfully retrieved repo: \u001b[0m\u001b[1;4;36mhttps://github.com/leinelissen/aeon\u001b[0m\n"
      ]
     },
     "metadata": {},
     "output_type": "display_data"
    },
    {
     "data": {
      "text/html": [
       "<pre style=\"white-space:pre;overflow-x:auto;line-height:normal;font-family:Menlo,'DejaVu Sans Mono',consolas,'Courier New',monospace\"><span style=\"color: #008080; text-decoration-color: #008080; font-weight: bold\">[+] Found package.json at </span><span style=\"color: #008080; text-decoration-color: #008080; font-weight: bold; text-decoration: underline\">https://github.com/leinelissen/aeon</span>\n",
       "</pre>\n"
      ],
      "text/plain": [
       "\u001b[1;36m[\u001b[0m\u001b[1;36m+\u001b[0m\u001b[1;36m]\u001b[0m\u001b[1;36m Found package.json at \u001b[0m\u001b[1;4;36mhttps://github.com/leinelissen/aeon\u001b[0m\n"
      ]
     },
     "metadata": {},
     "output_type": "display_data"
    },
    {
     "data": {
      "text/html": [
       "<pre style=\"white-space:pre;overflow-x:auto;line-height:normal;font-family:Menlo,'DejaVu Sans Mono',consolas,'Courier New',monospace\"><span style=\"color: #008080; text-decoration-color: #008080; font-weight: bold\">[+] Getting </span><span style=\"color: #008080; text-decoration-color: #008080; font-weight: bold; text-decoration: underline\">https://github.com/leinelissen/aeon/blob/master/package.json</span>\n",
       "</pre>\n"
      ],
      "text/plain": [
       "\u001b[1;36m[\u001b[0m\u001b[1;36m+\u001b[0m\u001b[1;36m]\u001b[0m\u001b[1;36m Getting \u001b[0m\u001b[1;4;36mhttps://github.com/leinelissen/aeon/blob/master/package.json\u001b[0m\n"
      ]
     },
     "metadata": {},
     "output_type": "display_data"
    },
    {
     "data": {
      "text/html": [
       "<pre style=\"white-space:pre;overflow-x:auto;line-height:normal;font-family:Menlo,'DejaVu Sans Mono',consolas,'Courier New',monospace\"><span style=\"color: #008080; text-decoration-color: #008080; font-weight: bold\">[+] Getting repo: </span><span style=\"color: #008080; text-decoration-color: #008080; font-weight: bold; text-decoration: underline\">https://github.com/aethereans/aether-app</span>\n",
       "</pre>\n"
      ],
      "text/plain": [
       "\u001b[1;36m[\u001b[0m\u001b[1;36m+\u001b[0m\u001b[1;36m]\u001b[0m\u001b[1;36m Getting repo: \u001b[0m\u001b[1;4;36mhttps://github.com/aethereans/aether-app\u001b[0m\n"
      ]
     },
     "metadata": {},
     "output_type": "display_data"
    },
    {
     "data": {
      "text/html": [
       "<pre style=\"white-space:pre;overflow-x:auto;line-height:normal;font-family:Menlo,'DejaVu Sans Mono',consolas,'Courier New',monospace\"><span style=\"color: #008080; text-decoration-color: #008080; font-weight: bold\">[+] Successfully retrieved repo: </span><span style=\"color: #008080; text-decoration-color: #008080; font-weight: bold; text-decoration: underline\">https://github.com/aethereans/aether-app</span>\n",
       "</pre>\n"
      ],
      "text/plain": [
       "\u001b[1;36m[\u001b[0m\u001b[1;36m+\u001b[0m\u001b[1;36m]\u001b[0m\u001b[1;36m Successfully retrieved repo: \u001b[0m\u001b[1;4;36mhttps://github.com/aethereans/aether-app\u001b[0m\n"
      ]
     },
     "metadata": {},
     "output_type": "display_data"
    },
    {
     "data": {
      "text/html": [
       "<pre style=\"white-space:pre;overflow-x:auto;line-height:normal;font-family:Menlo,'DejaVu Sans Mono',consolas,'Courier New',monospace\"><span style=\"color: #ff5f00; text-decoration-color: #ff5f00; font-weight: bold\">[!] Package.json not found at root of </span><span style=\"color: #ff5f00; text-decoration-color: #ff5f00; font-weight: bold; text-decoration: underline\">https://github.com/aethereans/aether-app;</span><span style=\"color: #ff5f00; text-decoration-color: #ff5f00; font-weight: bold\"> trying directories</span>\n",
       "</pre>\n"
      ],
      "text/plain": [
       "\u001b[1;38;5;202m[\u001b[0m\u001b[1;38;5;202m!\u001b[0m\u001b[1;38;5;202m]\u001b[0m\u001b[1;38;5;202m Package.json not found at root of \u001b[0m\u001b[1;4;38;5;202mhttps://github.com/aethereans/aether-app;\u001b[0m\u001b[1;38;5;202m trying directories\u001b[0m\n"
      ]
     },
     "metadata": {},
     "output_type": "display_data"
    },
    {
     "data": {
      "text/html": [
       "<pre style=\"white-space:pre;overflow-x:auto;line-height:normal;font-family:Menlo,'DejaVu Sans Mono',consolas,'Courier New',monospace\"><span style=\"color: #008080; text-decoration-color: #008080; font-weight: bold\">[+] Trying </span><span style=\"color: #008080; text-decoration-color: #008080; font-weight: bold; text-decoration: underline\">https://github.com/aethereans/aether-app/tree/master/.github</span>\n",
       "</pre>\n"
      ],
      "text/plain": [
       "\u001b[1;36m[\u001b[0m\u001b[1;36m+\u001b[0m\u001b[1;36m]\u001b[0m\u001b[1;36m Trying \u001b[0m\u001b[1;4;36mhttps://github.com/aethereans/aether-app/tree/master/.github\u001b[0m\n"
      ]
     },
     "metadata": {},
     "output_type": "display_data"
    },
    {
     "data": {
      "text/html": [
       "<pre style=\"white-space:pre;overflow-x:auto;line-height:normal;font-family:Menlo,'DejaVu Sans Mono',consolas,'Courier New',monospace\"><span style=\"color: #008080; text-decoration-color: #008080; font-weight: bold\">[+] Trying </span><span style=\"color: #008080; text-decoration-color: #008080; font-weight: bold; text-decoration: underline\">https://github.com/aethereans/aether-app/tree/master/aether-core</span>\n",
       "</pre>\n"
      ],
      "text/plain": [
       "\u001b[1;36m[\u001b[0m\u001b[1;36m+\u001b[0m\u001b[1;36m]\u001b[0m\u001b[1;36m Trying \u001b[0m\u001b[1;4;36mhttps://github.com/aethereans/aether-app/tree/master/aether-core\u001b[0m\n"
      ]
     },
     "metadata": {},
     "output_type": "display_data"
    },
    {
     "data": {
      "text/html": [
       "<pre style=\"white-space:pre;overflow-x:auto;line-height:normal;font-family:Menlo,'DejaVu Sans Mono',consolas,'Courier New',monospace\"><span style=\"color: #800000; text-decoration-color: #800000; font-weight: bold\">[💀] Could not find package.json in first-level-subdirs</span>\n",
       "</pre>\n"
      ],
      "text/plain": [
       "\u001b[1;31m[\u001b[0m\u001b[1;31m💀\u001b[0m\u001b[1;31m]\u001b[0m\u001b[1;31m Could not find package.json in first-level-subdirs\u001b[0m\n"
      ]
     },
     "metadata": {},
     "output_type": "display_data"
    },
    {
     "data": {
      "text/html": [
       "<pre style=\"white-space:pre;overflow-x:auto;line-height:normal;font-family:Menlo,'DejaVu Sans Mono',consolas,'Courier New',monospace\"><span style=\"color: #008080; text-decoration-color: #008080; font-weight: bold\">[+] Getting repo: </span><span style=\"color: #008080; text-decoration-color: #008080; font-weight: bold; text-decoration: underline\">https://github.com/netless-io/flat</span>\n",
       "</pre>\n"
      ],
      "text/plain": [
       "\u001b[1;36m[\u001b[0m\u001b[1;36m+\u001b[0m\u001b[1;36m]\u001b[0m\u001b[1;36m Getting repo: \u001b[0m\u001b[1;4;36mhttps://github.com/netless-io/flat\u001b[0m\n"
      ]
     },
     "metadata": {},
     "output_type": "display_data"
    },
    {
     "data": {
      "text/html": [
       "<pre style=\"white-space:pre;overflow-x:auto;line-height:normal;font-family:Menlo,'DejaVu Sans Mono',consolas,'Courier New',monospace\"><span style=\"color: #008080; text-decoration-color: #008080; font-weight: bold\">[+] Successfully retrieved repo: </span><span style=\"color: #008080; text-decoration-color: #008080; font-weight: bold; text-decoration: underline\">https://github.com/netless-io/flat</span>\n",
       "</pre>\n"
      ],
      "text/plain": [
       "\u001b[1;36m[\u001b[0m\u001b[1;36m+\u001b[0m\u001b[1;36m]\u001b[0m\u001b[1;36m Successfully retrieved repo: \u001b[0m\u001b[1;4;36mhttps://github.com/netless-io/flat\u001b[0m\n"
      ]
     },
     "metadata": {},
     "output_type": "display_data"
    },
    {
     "data": {
      "text/html": [
       "<pre style=\"white-space:pre;overflow-x:auto;line-height:normal;font-family:Menlo,'DejaVu Sans Mono',consolas,'Courier New',monospace\"><span style=\"color: #008080; text-decoration-color: #008080; font-weight: bold\">[+] Found package.json at </span><span style=\"color: #008080; text-decoration-color: #008080; font-weight: bold; text-decoration: underline\">https://github.com/netless-io/flat</span>\n",
       "</pre>\n"
      ],
      "text/plain": [
       "\u001b[1;36m[\u001b[0m\u001b[1;36m+\u001b[0m\u001b[1;36m]\u001b[0m\u001b[1;36m Found package.json at \u001b[0m\u001b[1;4;36mhttps://github.com/netless-io/flat\u001b[0m\n"
      ]
     },
     "metadata": {},
     "output_type": "display_data"
    },
    {
     "data": {
      "text/html": [
       "<pre style=\"white-space:pre;overflow-x:auto;line-height:normal;font-family:Menlo,'DejaVu Sans Mono',consolas,'Courier New',monospace\"><span style=\"color: #008080; text-decoration-color: #008080; font-weight: bold\">[+] Getting </span><span style=\"color: #008080; text-decoration-color: #008080; font-weight: bold; text-decoration: underline\">https://github.com/netless-io/flat/blob/main/package.json</span>\n",
       "</pre>\n"
      ],
      "text/plain": [
       "\u001b[1;36m[\u001b[0m\u001b[1;36m+\u001b[0m\u001b[1;36m]\u001b[0m\u001b[1;36m Getting \u001b[0m\u001b[1;4;36mhttps://github.com/netless-io/flat/blob/main/package.json\u001b[0m\n"
      ]
     },
     "metadata": {},
     "output_type": "display_data"
    },
    {
     "data": {
      "text/html": [
       "<pre style=\"white-space:pre;overflow-x:auto;line-height:normal;font-family:Menlo,'DejaVu Sans Mono',consolas,'Courier New',monospace\"><span style=\"color: #008080; text-decoration-color: #008080; font-weight: bold\">[+] Getting repo: </span><span style=\"color: #008080; text-decoration-color: #008080; font-weight: bold; text-decoration: underline\">https://github.com/imolorhe/altair</span>\n",
       "</pre>\n"
      ],
      "text/plain": [
       "\u001b[1;36m[\u001b[0m\u001b[1;36m+\u001b[0m\u001b[1;36m]\u001b[0m\u001b[1;36m Getting repo: \u001b[0m\u001b[1;4;36mhttps://github.com/imolorhe/altair\u001b[0m\n"
      ]
     },
     "metadata": {},
     "output_type": "display_data"
    },
    {
     "data": {
      "text/html": [
       "<pre style=\"white-space:pre;overflow-x:auto;line-height:normal;font-family:Menlo,'DejaVu Sans Mono',consolas,'Courier New',monospace\"><span style=\"color: #008080; text-decoration-color: #008080; font-weight: bold\">[+] Successfully retrieved repo: </span><span style=\"color: #008080; text-decoration-color: #008080; font-weight: bold; text-decoration: underline\">https://github.com/imolorhe/altair</span>\n",
       "</pre>\n"
      ],
      "text/plain": [
       "\u001b[1;36m[\u001b[0m\u001b[1;36m+\u001b[0m\u001b[1;36m]\u001b[0m\u001b[1;36m Successfully retrieved repo: \u001b[0m\u001b[1;4;36mhttps://github.com/imolorhe/altair\u001b[0m\n"
      ]
     },
     "metadata": {},
     "output_type": "display_data"
    },
    {
     "data": {
      "text/html": [
       "<pre style=\"white-space:pre;overflow-x:auto;line-height:normal;font-family:Menlo,'DejaVu Sans Mono',consolas,'Courier New',monospace\"><span style=\"color: #008080; text-decoration-color: #008080; font-weight: bold\">[+] Found package.json at </span><span style=\"color: #008080; text-decoration-color: #008080; font-weight: bold; text-decoration: underline\">https://github.com/imolorhe/altair</span>\n",
       "</pre>\n"
      ],
      "text/plain": [
       "\u001b[1;36m[\u001b[0m\u001b[1;36m+\u001b[0m\u001b[1;36m]\u001b[0m\u001b[1;36m Found package.json at \u001b[0m\u001b[1;4;36mhttps://github.com/imolorhe/altair\u001b[0m\n"
      ]
     },
     "metadata": {},
     "output_type": "display_data"
    },
    {
     "data": {
      "text/html": [
       "<pre style=\"white-space:pre;overflow-x:auto;line-height:normal;font-family:Menlo,'DejaVu Sans Mono',consolas,'Courier New',monospace\"><span style=\"color: #008080; text-decoration-color: #008080; font-weight: bold\">[+] Getting </span><span style=\"color: #008080; text-decoration-color: #008080; font-weight: bold; text-decoration: underline\">https://github.com/altair-graphql/altair/blob/master/package.json</span>\n",
       "</pre>\n"
      ],
      "text/plain": [
       "\u001b[1;36m[\u001b[0m\u001b[1;36m+\u001b[0m\u001b[1;36m]\u001b[0m\u001b[1;36m Getting \u001b[0m\u001b[1;4;36mhttps://github.com/altair-graphql/altair/blob/master/package.json\u001b[0m\n"
      ]
     },
     "metadata": {},
     "output_type": "display_data"
    },
    {
     "data": {
      "text/html": [
       "<pre style=\"white-space:pre;overflow-x:auto;line-height:normal;font-family:Menlo,'DejaVu Sans Mono',consolas,'Courier New',monospace\"><span style=\"color: #008080; text-decoration-color: #008080; font-weight: bold\">[+] Getting repo: </span><span style=\"color: #008080; text-decoration-color: #008080; font-weight: bold; text-decoration: underline\">https://github.com/Fabio286/antares</span>\n",
       "</pre>\n"
      ],
      "text/plain": [
       "\u001b[1;36m[\u001b[0m\u001b[1;36m+\u001b[0m\u001b[1;36m]\u001b[0m\u001b[1;36m Getting repo: \u001b[0m\u001b[1;4;36mhttps://github.com/Fabio286/antares\u001b[0m\n"
      ]
     },
     "metadata": {},
     "output_type": "display_data"
    },
    {
     "data": {
      "text/html": [
       "<pre style=\"white-space:pre;overflow-x:auto;line-height:normal;font-family:Menlo,'DejaVu Sans Mono',consolas,'Courier New',monospace\"><span style=\"color: #008080; text-decoration-color: #008080; font-weight: bold\">[+] Successfully retrieved repo: </span><span style=\"color: #008080; text-decoration-color: #008080; font-weight: bold; text-decoration: underline\">https://github.com/Fabio286/antares</span>\n",
       "</pre>\n"
      ],
      "text/plain": [
       "\u001b[1;36m[\u001b[0m\u001b[1;36m+\u001b[0m\u001b[1;36m]\u001b[0m\u001b[1;36m Successfully retrieved repo: \u001b[0m\u001b[1;4;36mhttps://github.com/Fabio286/antares\u001b[0m\n"
      ]
     },
     "metadata": {},
     "output_type": "display_data"
    },
    {
     "data": {
      "text/html": [
       "<pre style=\"white-space:pre;overflow-x:auto;line-height:normal;font-family:Menlo,'DejaVu Sans Mono',consolas,'Courier New',monospace\"><span style=\"color: #008080; text-decoration-color: #008080; font-weight: bold\">[+] Found package.json at </span><span style=\"color: #008080; text-decoration-color: #008080; font-weight: bold; text-decoration: underline\">https://github.com/Fabio286/antares</span>\n",
       "</pre>\n"
      ],
      "text/plain": [
       "\u001b[1;36m[\u001b[0m\u001b[1;36m+\u001b[0m\u001b[1;36m]\u001b[0m\u001b[1;36m Found package.json at \u001b[0m\u001b[1;4;36mhttps://github.com/Fabio286/antares\u001b[0m\n"
      ]
     },
     "metadata": {},
     "output_type": "display_data"
    },
    {
     "data": {
      "text/html": [
       "<pre style=\"white-space:pre;overflow-x:auto;line-height:normal;font-family:Menlo,'DejaVu Sans Mono',consolas,'Courier New',monospace\"><span style=\"color: #008080; text-decoration-color: #008080; font-weight: bold\">[+] Getting </span><span style=\"color: #008080; text-decoration-color: #008080; font-weight: bold; text-decoration: underline\">https://github.com/antares-sql/antares/blob/master/package.json</span>\n",
       "</pre>\n"
      ],
      "text/plain": [
       "\u001b[1;36m[\u001b[0m\u001b[1;36m+\u001b[0m\u001b[1;36m]\u001b[0m\u001b[1;36m Getting \u001b[0m\u001b[1;4;36mhttps://github.com/antares-sql/antares/blob/master/package.json\u001b[0m\n"
      ]
     },
     "metadata": {},
     "output_type": "display_data"
    },
    {
     "data": {
      "text/html": [
       "<pre style=\"white-space:pre;overflow-x:auto;line-height:normal;font-family:Menlo,'DejaVu Sans Mono',consolas,'Courier New',monospace\"><span style=\"color: #008080; text-decoration-color: #008080; font-weight: bold\">[+] Getting repo: </span><span style=\"color: #008080; text-decoration-color: #008080; font-weight: bold; text-decoration: underline\">https://github.com/appium/appium-desktop</span>\n",
       "</pre>\n"
      ],
      "text/plain": [
       "\u001b[1;36m[\u001b[0m\u001b[1;36m+\u001b[0m\u001b[1;36m]\u001b[0m\u001b[1;36m Getting repo: \u001b[0m\u001b[1;4;36mhttps://github.com/appium/appium-desktop\u001b[0m\n"
      ]
     },
     "metadata": {},
     "output_type": "display_data"
    },
    {
     "data": {
      "text/html": [
       "<pre style=\"white-space:pre;overflow-x:auto;line-height:normal;font-family:Menlo,'DejaVu Sans Mono',consolas,'Courier New',monospace\"><span style=\"color: #008080; text-decoration-color: #008080; font-weight: bold\">[+] Successfully retrieved repo: </span><span style=\"color: #008080; text-decoration-color: #008080; font-weight: bold; text-decoration: underline\">https://github.com/appium/appium-desktop</span>\n",
       "</pre>\n"
      ],
      "text/plain": [
       "\u001b[1;36m[\u001b[0m\u001b[1;36m+\u001b[0m\u001b[1;36m]\u001b[0m\u001b[1;36m Successfully retrieved repo: \u001b[0m\u001b[1;4;36mhttps://github.com/appium/appium-desktop\u001b[0m\n"
      ]
     },
     "metadata": {},
     "output_type": "display_data"
    },
    {
     "data": {
      "text/html": [
       "<pre style=\"white-space:pre;overflow-x:auto;line-height:normal;font-family:Menlo,'DejaVu Sans Mono',consolas,'Courier New',monospace\"><span style=\"color: #008080; text-decoration-color: #008080; font-weight: bold\">[+] Found package.json at </span><span style=\"color: #008080; text-decoration-color: #008080; font-weight: bold; text-decoration: underline\">https://github.com/appium/appium-desktop</span>\n",
       "</pre>\n"
      ],
      "text/plain": [
       "\u001b[1;36m[\u001b[0m\u001b[1;36m+\u001b[0m\u001b[1;36m]\u001b[0m\u001b[1;36m Found package.json at \u001b[0m\u001b[1;4;36mhttps://github.com/appium/appium-desktop\u001b[0m\n"
      ]
     },
     "metadata": {},
     "output_type": "display_data"
    },
    {
     "data": {
      "text/html": [
       "<pre style=\"white-space:pre;overflow-x:auto;line-height:normal;font-family:Menlo,'DejaVu Sans Mono',consolas,'Courier New',monospace\"><span style=\"color: #008080; text-decoration-color: #008080; font-weight: bold\">[+] Getting </span><span style=\"color: #008080; text-decoration-color: #008080; font-weight: bold; text-decoration: underline\">https://github.com/appium/appium-desktop/blob/master/package.json</span>\n",
       "</pre>\n"
      ],
      "text/plain": [
       "\u001b[1;36m[\u001b[0m\u001b[1;36m+\u001b[0m\u001b[1;36m]\u001b[0m\u001b[1;36m Getting \u001b[0m\u001b[1;4;36mhttps://github.com/appium/appium-desktop/blob/master/package.json\u001b[0m\n"
      ]
     },
     "metadata": {},
     "output_type": "display_data"
    },
    {
     "data": {
      "text/html": [
       "<pre style=\"white-space:pre;overflow-x:auto;line-height:normal;font-family:Menlo,'DejaVu Sans Mono',consolas,'Courier New',monospace\"><span style=\"color: #ff5f00; text-decoration-color: #ff5f00; font-weight: bold\">[!] Invalid Semantic version: </span><span style=\"color: #ff5f00; text-decoration-color: #ff5f00; font-weight: bold\">10.0</span>\n",
       "</pre>\n"
      ],
      "text/plain": [
       "\u001b[1;38;5;202m[\u001b[0m\u001b[1;38;5;202m!\u001b[0m\u001b[1;38;5;202m]\u001b[0m\u001b[1;38;5;202m Invalid Semantic version: \u001b[0m\u001b[1;38;5;202m10.0\u001b[0m\n"
      ]
     },
     "metadata": {},
     "output_type": "display_data"
    },
    {
     "data": {
      "text/html": [
       "<pre style=\"white-space:pre;overflow-x:auto;line-height:normal;font-family:Menlo,'DejaVu Sans Mono',consolas,'Courier New',monospace\"><span style=\"color: #ff5f00; text-decoration-color: #ff5f00; font-weight: bold\">[!] Invalid Semantic version: </span><span style=\"color: #ff5f00; text-decoration-color: #ff5f00; font-weight: bold\">10.0</span>\n",
       "</pre>\n"
      ],
      "text/plain": [
       "\u001b[1;38;5;202m[\u001b[0m\u001b[1;38;5;202m!\u001b[0m\u001b[1;38;5;202m]\u001b[0m\u001b[1;38;5;202m Invalid Semantic version: \u001b[0m\u001b[1;38;5;202m10.0\u001b[0m\n"
      ]
     },
     "metadata": {},
     "output_type": "display_data"
    },
    {
     "data": {
      "text/html": [
       "<pre style=\"white-space:pre;overflow-x:auto;line-height:normal;font-family:Menlo,'DejaVu Sans Mono',consolas,'Courier New',monospace\"><span style=\"color: #008080; text-decoration-color: #008080; font-weight: bold\">[+] Getting repo: </span><span style=\"color: #008080; text-decoration-color: #008080; font-weight: bold; text-decoration: underline\">https://github.com/tazzben/Assessment-Disaggregation.git</span>\n",
       "</pre>\n"
      ],
      "text/plain": [
       "\u001b[1;36m[\u001b[0m\u001b[1;36m+\u001b[0m\u001b[1;36m]\u001b[0m\u001b[1;36m Getting repo: \u001b[0m\u001b[1;4;36mhttps://github.com/tazzben/Assessment-Disaggregation.git\u001b[0m\n"
      ]
     },
     "metadata": {},
     "output_type": "display_data"
    },
    {
     "data": {
      "text/html": [
       "<pre style=\"white-space:pre;overflow-x:auto;line-height:normal;font-family:Menlo,'DejaVu Sans Mono',consolas,'Courier New',monospace\"><span style=\"color: #008080; text-decoration-color: #008080; font-weight: bold\">[+] Successfully retrieved repo: </span><span style=\"color: #008080; text-decoration-color: #008080; font-weight: bold; text-decoration: underline\">https://github.com/tazzben/Assessment-Disaggregation.git</span>\n",
       "</pre>\n"
      ],
      "text/plain": [
       "\u001b[1;36m[\u001b[0m\u001b[1;36m+\u001b[0m\u001b[1;36m]\u001b[0m\u001b[1;36m Successfully retrieved repo: \u001b[0m\u001b[1;4;36mhttps://github.com/tazzben/Assessment-Disaggregation.git\u001b[0m\n"
      ]
     },
     "metadata": {},
     "output_type": "display_data"
    },
    {
     "data": {
      "text/html": [
       "<pre style=\"white-space:pre;overflow-x:auto;line-height:normal;font-family:Menlo,'DejaVu Sans Mono',consolas,'Courier New',monospace\"><span style=\"color: #008080; text-decoration-color: #008080; font-weight: bold\">[+] Found package.json at </span><span style=\"color: #008080; text-decoration-color: #008080; font-weight: bold; text-decoration: underline\">https://github.com/tazzben/Assessment-Disaggregation.git</span>\n",
       "</pre>\n"
      ],
      "text/plain": [
       "\u001b[1;36m[\u001b[0m\u001b[1;36m+\u001b[0m\u001b[1;36m]\u001b[0m\u001b[1;36m Found package.json at \u001b[0m\u001b[1;4;36mhttps://github.com/tazzben/Assessment-Disaggregation.git\u001b[0m\n"
      ]
     },
     "metadata": {},
     "output_type": "display_data"
    },
    {
     "data": {
      "text/html": [
       "<pre style=\"white-space:pre;overflow-x:auto;line-height:normal;font-family:Menlo,'DejaVu Sans Mono',consolas,'Courier New',monospace\"><span style=\"color: #008080; text-decoration-color: #008080; font-weight: bold\">[+] Getting </span><span style=\"color: #008080; text-decoration-color: #008080; font-weight: bold; text-decoration: underline\">https://github.com/tazzben/Assessment-Disaggregation/blob/main/package.json</span>\n",
       "</pre>\n"
      ],
      "text/plain": [
       "\u001b[1;36m[\u001b[0m\u001b[1;36m+\u001b[0m\u001b[1;36m]\u001b[0m\u001b[1;36m Getting \u001b[0m\u001b[1;4;36mhttps://github.com/tazzben/Assessment-Disaggregation/blob/main/package.json\u001b[0m\n"
      ]
     },
     "metadata": {},
     "output_type": "display_data"
    },
    {
     "data": {
      "text/html": [
       "<pre style=\"white-space:pre;overflow-x:auto;line-height:normal;font-family:Menlo,'DejaVu Sans Mono',consolas,'Courier New',monospace\"><span style=\"color: #008080; text-decoration-color: #008080; font-weight: bold\">[+] Getting repo: </span><span style=\"color: #008080; text-decoration-color: #008080; font-weight: bold; text-decoration: underline\">https://github.com/atom/atom</span>\n",
       "</pre>\n"
      ],
      "text/plain": [
       "\u001b[1;36m[\u001b[0m\u001b[1;36m+\u001b[0m\u001b[1;36m]\u001b[0m\u001b[1;36m Getting repo: \u001b[0m\u001b[1;4;36mhttps://github.com/atom/atom\u001b[0m\n"
      ]
     },
     "metadata": {},
     "output_type": "display_data"
    },
    {
     "data": {
      "text/html": [
       "<pre style=\"white-space:pre;overflow-x:auto;line-height:normal;font-family:Menlo,'DejaVu Sans Mono',consolas,'Courier New',monospace\"><span style=\"color: #008080; text-decoration-color: #008080; font-weight: bold\">[+] Successfully retrieved repo: </span><span style=\"color: #008080; text-decoration-color: #008080; font-weight: bold; text-decoration: underline\">https://github.com/atom/atom</span>\n",
       "</pre>\n"
      ],
      "text/plain": [
       "\u001b[1;36m[\u001b[0m\u001b[1;36m+\u001b[0m\u001b[1;36m]\u001b[0m\u001b[1;36m Successfully retrieved repo: \u001b[0m\u001b[1;4;36mhttps://github.com/atom/atom\u001b[0m\n"
      ]
     },
     "metadata": {},
     "output_type": "display_data"
    },
    {
     "data": {
      "text/html": [
       "<pre style=\"white-space:pre;overflow-x:auto;line-height:normal;font-family:Menlo,'DejaVu Sans Mono',consolas,'Courier New',monospace\"><span style=\"color: #008080; text-decoration-color: #008080; font-weight: bold\">[+] Found package.json at </span><span style=\"color: #008080; text-decoration-color: #008080; font-weight: bold; text-decoration: underline\">https://github.com/atom/atom</span>\n",
       "</pre>\n"
      ],
      "text/plain": [
       "\u001b[1;36m[\u001b[0m\u001b[1;36m+\u001b[0m\u001b[1;36m]\u001b[0m\u001b[1;36m Found package.json at \u001b[0m\u001b[1;4;36mhttps://github.com/atom/atom\u001b[0m\n"
      ]
     },
     "metadata": {},
     "output_type": "display_data"
    },
    {
     "data": {
      "text/html": [
       "<pre style=\"white-space:pre;overflow-x:auto;line-height:normal;font-family:Menlo,'DejaVu Sans Mono',consolas,'Courier New',monospace\"><span style=\"color: #008080; text-decoration-color: #008080; font-weight: bold\">[+] Getting </span><span style=\"color: #008080; text-decoration-color: #008080; font-weight: bold; text-decoration: underline\">https://github.com/atom/atom/blob/master/package.json</span>\n",
       "</pre>\n"
      ],
      "text/plain": [
       "\u001b[1;36m[\u001b[0m\u001b[1;36m+\u001b[0m\u001b[1;36m]\u001b[0m\u001b[1;36m Getting \u001b[0m\u001b[1;4;36mhttps://github.com/atom/atom/blob/master/package.json\u001b[0m\n"
      ]
     },
     "metadata": {},
     "output_type": "display_data"
    },
    {
     "data": {
      "text/html": [
       "<pre style=\"white-space:pre;overflow-x:auto;line-height:normal;font-family:Menlo,'DejaVu Sans Mono',consolas,'Courier New',monospace\"><span style=\"color: #008080; text-decoration-color: #008080; font-weight: bold\">[+] Getting repo: </span><span style=\"color: #008080; text-decoration-color: #008080; font-weight: bold; text-decoration: underline\">https://github.com/rapid7/awsaml</span>\n",
       "</pre>\n"
      ],
      "text/plain": [
       "\u001b[1;36m[\u001b[0m\u001b[1;36m+\u001b[0m\u001b[1;36m]\u001b[0m\u001b[1;36m Getting repo: \u001b[0m\u001b[1;4;36mhttps://github.com/rapid7/awsaml\u001b[0m\n"
      ]
     },
     "metadata": {},
     "output_type": "display_data"
    },
    {
     "data": {
      "text/html": [
       "<pre style=\"white-space:pre;overflow-x:auto;line-height:normal;font-family:Menlo,'DejaVu Sans Mono',consolas,'Courier New',monospace\"><span style=\"color: #008080; text-decoration-color: #008080; font-weight: bold\">[+] Successfully retrieved repo: </span><span style=\"color: #008080; text-decoration-color: #008080; font-weight: bold; text-decoration: underline\">https://github.com/rapid7/awsaml</span>\n",
       "</pre>\n"
      ],
      "text/plain": [
       "\u001b[1;36m[\u001b[0m\u001b[1;36m+\u001b[0m\u001b[1;36m]\u001b[0m\u001b[1;36m Successfully retrieved repo: \u001b[0m\u001b[1;4;36mhttps://github.com/rapid7/awsaml\u001b[0m\n"
      ]
     },
     "metadata": {},
     "output_type": "display_data"
    },
    {
     "data": {
      "text/html": [
       "<pre style=\"white-space:pre;overflow-x:auto;line-height:normal;font-family:Menlo,'DejaVu Sans Mono',consolas,'Courier New',monospace\"><span style=\"color: #008080; text-decoration-color: #008080; font-weight: bold\">[+] Found package.json at </span><span style=\"color: #008080; text-decoration-color: #008080; font-weight: bold; text-decoration: underline\">https://github.com/rapid7/awsaml</span>\n",
       "</pre>\n"
      ],
      "text/plain": [
       "\u001b[1;36m[\u001b[0m\u001b[1;36m+\u001b[0m\u001b[1;36m]\u001b[0m\u001b[1;36m Found package.json at \u001b[0m\u001b[1;4;36mhttps://github.com/rapid7/awsaml\u001b[0m\n"
      ]
     },
     "metadata": {},
     "output_type": "display_data"
    },
    {
     "data": {
      "text/html": [
       "<pre style=\"white-space:pre;overflow-x:auto;line-height:normal;font-family:Menlo,'DejaVu Sans Mono',consolas,'Courier New',monospace\"><span style=\"color: #008080; text-decoration-color: #008080; font-weight: bold\">[+] Getting </span><span style=\"color: #008080; text-decoration-color: #008080; font-weight: bold; text-decoration: underline\">https://github.com/rapid7/awsaml/blob/master/package.json</span>\n",
       "</pre>\n"
      ],
      "text/plain": [
       "\u001b[1;36m[\u001b[0m\u001b[1;36m+\u001b[0m\u001b[1;36m]\u001b[0m\u001b[1;36m Getting \u001b[0m\u001b[1;4;36mhttps://github.com/rapid7/awsaml/blob/master/package.json\u001b[0m\n"
      ]
     },
     "metadata": {},
     "output_type": "display_data"
    },
    {
     "data": {
      "text/html": [
       "<pre style=\"white-space:pre;overflow-x:auto;line-height:normal;font-family:Menlo,'DejaVu Sans Mono',consolas,'Courier New',monospace\"><span style=\"color: #008080; text-decoration-color: #008080; font-weight: bold\">[+] Getting repo: </span><span style=\"color: #008080; text-decoration-color: #008080; font-weight: bold; text-decoration: underline\">https://github.com/kanekotic/barklarm</span>\n",
       "</pre>\n"
      ],
      "text/plain": [
       "\u001b[1;36m[\u001b[0m\u001b[1;36m+\u001b[0m\u001b[1;36m]\u001b[0m\u001b[1;36m Getting repo: \u001b[0m\u001b[1;4;36mhttps://github.com/kanekotic/barklarm\u001b[0m\n"
      ]
     },
     "metadata": {},
     "output_type": "display_data"
    },
    {
     "data": {
      "text/html": [
       "<pre style=\"white-space:pre;overflow-x:auto;line-height:normal;font-family:Menlo,'DejaVu Sans Mono',consolas,'Courier New',monospace\"><span style=\"color: #008080; text-decoration-color: #008080; font-weight: bold\">[+] Successfully retrieved repo: </span><span style=\"color: #008080; text-decoration-color: #008080; font-weight: bold; text-decoration: underline\">https://github.com/kanekotic/barklarm</span>\n",
       "</pre>\n"
      ],
      "text/plain": [
       "\u001b[1;36m[\u001b[0m\u001b[1;36m+\u001b[0m\u001b[1;36m]\u001b[0m\u001b[1;36m Successfully retrieved repo: \u001b[0m\u001b[1;4;36mhttps://github.com/kanekotic/barklarm\u001b[0m\n"
      ]
     },
     "metadata": {},
     "output_type": "display_data"
    },
    {
     "data": {
      "text/html": [
       "<pre style=\"white-space:pre;overflow-x:auto;line-height:normal;font-family:Menlo,'DejaVu Sans Mono',consolas,'Courier New',monospace\"><span style=\"color: #008080; text-decoration-color: #008080; font-weight: bold\">[+] Found package.json at </span><span style=\"color: #008080; text-decoration-color: #008080; font-weight: bold; text-decoration: underline\">https://github.com/kanekotic/barklarm</span>\n",
       "</pre>\n"
      ],
      "text/plain": [
       "\u001b[1;36m[\u001b[0m\u001b[1;36m+\u001b[0m\u001b[1;36m]\u001b[0m\u001b[1;36m Found package.json at \u001b[0m\u001b[1;4;36mhttps://github.com/kanekotic/barklarm\u001b[0m\n"
      ]
     },
     "metadata": {},
     "output_type": "display_data"
    },
    {
     "data": {
      "text/html": [
       "<pre style=\"white-space:pre;overflow-x:auto;line-height:normal;font-family:Menlo,'DejaVu Sans Mono',consolas,'Courier New',monospace\"><span style=\"color: #008080; text-decoration-color: #008080; font-weight: bold\">[+] Getting </span><span style=\"color: #008080; text-decoration-color: #008080; font-weight: bold; text-decoration: underline\">https://github.com/Barklarm/barklarm-app/blob/main/package.json</span>\n",
       "</pre>\n"
      ],
      "text/plain": [
       "\u001b[1;36m[\u001b[0m\u001b[1;36m+\u001b[0m\u001b[1;36m]\u001b[0m\u001b[1;36m Getting \u001b[0m\u001b[1;4;36mhttps://github.com/Barklarm/barklarm-app/blob/main/package.json\u001b[0m\n"
      ]
     },
     "metadata": {},
     "output_type": "display_data"
    },
    {
     "data": {
      "text/html": [
       "<pre style=\"white-space:pre;overflow-x:auto;line-height:normal;font-family:Menlo,'DejaVu Sans Mono',consolas,'Courier New',monospace\"><span style=\"color: #008080; text-decoration-color: #008080; font-weight: bold\">[+] Getting repo: </span><span style=\"color: #008080; text-decoration-color: #008080; font-weight: bold; text-decoration: underline\">https://github.com/beakerbrowser/beaker</span>\n",
       "</pre>\n"
      ],
      "text/plain": [
       "\u001b[1;36m[\u001b[0m\u001b[1;36m+\u001b[0m\u001b[1;36m]\u001b[0m\u001b[1;36m Getting repo: \u001b[0m\u001b[1;4;36mhttps://github.com/beakerbrowser/beaker\u001b[0m\n"
      ]
     },
     "metadata": {},
     "output_type": "display_data"
    },
    {
     "data": {
      "text/html": [
       "<pre style=\"white-space:pre;overflow-x:auto;line-height:normal;font-family:Menlo,'DejaVu Sans Mono',consolas,'Courier New',monospace\"><span style=\"color: #008080; text-decoration-color: #008080; font-weight: bold\">[+] Successfully retrieved repo: </span><span style=\"color: #008080; text-decoration-color: #008080; font-weight: bold; text-decoration: underline\">https://github.com/beakerbrowser/beaker</span>\n",
       "</pre>\n"
      ],
      "text/plain": [
       "\u001b[1;36m[\u001b[0m\u001b[1;36m+\u001b[0m\u001b[1;36m]\u001b[0m\u001b[1;36m Successfully retrieved repo: \u001b[0m\u001b[1;4;36mhttps://github.com/beakerbrowser/beaker\u001b[0m\n"
      ]
     },
     "metadata": {},
     "output_type": "display_data"
    },
    {
     "data": {
      "text/html": [
       "<pre style=\"white-space:pre;overflow-x:auto;line-height:normal;font-family:Menlo,'DejaVu Sans Mono',consolas,'Courier New',monospace\"><span style=\"color: #ff5f00; text-decoration-color: #ff5f00; font-weight: bold\">[!] Package.json not found at root of </span><span style=\"color: #ff5f00; text-decoration-color: #ff5f00; font-weight: bold; text-decoration: underline\">https://github.com/beakerbrowser/beaker;</span><span style=\"color: #ff5f00; text-decoration-color: #ff5f00; font-weight: bold\"> trying directories</span>\n",
       "</pre>\n"
      ],
      "text/plain": [
       "\u001b[1;38;5;202m[\u001b[0m\u001b[1;38;5;202m!\u001b[0m\u001b[1;38;5;202m]\u001b[0m\u001b[1;38;5;202m Package.json not found at root of \u001b[0m\u001b[1;4;38;5;202mhttps://github.com/beakerbrowser/beaker;\u001b[0m\u001b[1;38;5;202m trying directories\u001b[0m\n"
      ]
     },
     "metadata": {},
     "output_type": "display_data"
    },
    {
     "data": {
      "text/html": [
       "<pre style=\"white-space:pre;overflow-x:auto;line-height:normal;font-family:Menlo,'DejaVu Sans Mono',consolas,'Courier New',monospace\"><span style=\"color: #008080; text-decoration-color: #008080; font-weight: bold\">[+] Trying </span><span style=\"color: #008080; text-decoration-color: #008080; font-weight: bold; text-decoration: underline\">https://github.com/beakerbrowser/beaker/tree/master/.github/ISSUE_TEMPLATE</span>\n",
       "</pre>\n"
      ],
      "text/plain": [
       "\u001b[1;36m[\u001b[0m\u001b[1;36m+\u001b[0m\u001b[1;36m]\u001b[0m\u001b[1;36m Trying \u001b[0m\u001b[1;4;36mhttps://github.com/beakerbrowser/beaker/tree/master/.github/ISSUE_TEMPLATE\u001b[0m\n"
      ]
     },
     "metadata": {},
     "output_type": "display_data"
    },
    {
     "data": {
      "text/html": [
       "<pre style=\"white-space:pre;overflow-x:auto;line-height:normal;font-family:Menlo,'DejaVu Sans Mono',consolas,'Courier New',monospace\"><span style=\"color: #008080; text-decoration-color: #008080; font-weight: bold\">[+] Trying </span><span style=\"color: #008080; text-decoration-color: #008080; font-weight: bold; text-decoration: underline\">https://github.com/beakerbrowser/beaker/tree/master/app</span>\n",
       "</pre>\n"
      ],
      "text/plain": [
       "\u001b[1;36m[\u001b[0m\u001b[1;36m+\u001b[0m\u001b[1;36m]\u001b[0m\u001b[1;36m Trying \u001b[0m\u001b[1;4;36mhttps://github.com/beakerbrowser/beaker/tree/master/app\u001b[0m\n"
      ]
     },
     "metadata": {},
     "output_type": "display_data"
    },
    {
     "data": {
      "text/html": [
       "<pre style=\"white-space:pre;overflow-x:auto;line-height:normal;font-family:Menlo,'DejaVu Sans Mono',consolas,'Courier New',monospace\"><span style=\"color: #008080; text-decoration-color: #008080; font-weight: bold\">[+] Trying </span><span style=\"color: #008080; text-decoration-color: #008080; font-weight: bold; text-decoration: underline\">https://github.com/beakerbrowser/beaker/tree/master/build</span>\n",
       "</pre>\n"
      ],
      "text/plain": [
       "\u001b[1;36m[\u001b[0m\u001b[1;36m+\u001b[0m\u001b[1;36m]\u001b[0m\u001b[1;36m Trying \u001b[0m\u001b[1;4;36mhttps://github.com/beakerbrowser/beaker/tree/master/build\u001b[0m\n"
      ]
     },
     "metadata": {},
     "output_type": "display_data"
    },
    {
     "data": {
      "text/html": [
       "<pre style=\"white-space:pre;overflow-x:auto;line-height:normal;font-family:Menlo,'DejaVu Sans Mono',consolas,'Courier New',monospace\"><span style=\"color: #008080; text-decoration-color: #008080; font-weight: bold\">[+] Trying </span><span style=\"color: #008080; text-decoration-color: #008080; font-weight: bold; text-decoration: underline\">https://github.com/beakerbrowser/beaker/tree/master/scripts</span>\n",
       "</pre>\n"
      ],
      "text/plain": [
       "\u001b[1;36m[\u001b[0m\u001b[1;36m+\u001b[0m\u001b[1;36m]\u001b[0m\u001b[1;36m Trying \u001b[0m\u001b[1;4;36mhttps://github.com/beakerbrowser/beaker/tree/master/scripts\u001b[0m\n"
      ]
     },
     "metadata": {},
     "output_type": "display_data"
    },
    {
     "data": {
      "text/html": [
       "<pre style=\"white-space:pre;overflow-x:auto;line-height:normal;font-family:Menlo,'DejaVu Sans Mono',consolas,'Courier New',monospace\"><span style=\"color: #008080; text-decoration-color: #008080; font-weight: bold\">[+] Trying </span><span style=\"color: #008080; text-decoration-color: #008080; font-weight: bold; text-decoration: underline\">https://github.com/beakerbrowser/beaker/tree/master/tests/session-perms-test</span>\n",
       "</pre>\n"
      ],
      "text/plain": [
       "\u001b[1;36m[\u001b[0m\u001b[1;36m+\u001b[0m\u001b[1;36m]\u001b[0m\u001b[1;36m Trying \u001b[0m\u001b[1;4;36mhttps://github.com/beakerbrowser/beaker/tree/master/tests/session-perms-test\u001b[0m\n"
      ]
     },
     "metadata": {},
     "output_type": "display_data"
    },
    {
     "data": {
      "text/html": [
       "<pre style=\"white-space:pre;overflow-x:auto;line-height:normal;font-family:Menlo,'DejaVu Sans Mono',consolas,'Courier New',monospace\"><span style=\"color: #800000; text-decoration-color: #800000; font-weight: bold\">[💀] Could not find package.json in first-level-subdirs</span>\n",
       "</pre>\n"
      ],
      "text/plain": [
       "\u001b[1;31m[\u001b[0m\u001b[1;31m💀\u001b[0m\u001b[1;31m]\u001b[0m\u001b[1;31m Could not find package.json in first-level-subdirs\u001b[0m\n"
      ]
     },
     "metadata": {},
     "output_type": "display_data"
    },
    {
     "data": {
      "text/html": [
       "<pre style=\"white-space:pre;overflow-x:auto;line-height:normal;font-family:Menlo,'DejaVu Sans Mono',consolas,'Courier New',monospace\"><span style=\"color: #008080; text-decoration-color: #008080; font-weight: bold\">[+] Getting repo: </span><span style=\"color: #008080; text-decoration-color: #008080; font-weight: bold; text-decoration: underline\">https://github.com/beekeeper-studio/beekeeper-studio</span>\n",
       "</pre>\n"
      ],
      "text/plain": [
       "\u001b[1;36m[\u001b[0m\u001b[1;36m+\u001b[0m\u001b[1;36m]\u001b[0m\u001b[1;36m Getting repo: \u001b[0m\u001b[1;4;36mhttps://github.com/beekeeper-studio/beekeeper-studio\u001b[0m\n"
      ]
     },
     "metadata": {},
     "output_type": "display_data"
    },
    {
     "data": {
      "text/html": [
       "<pre style=\"white-space:pre;overflow-x:auto;line-height:normal;font-family:Menlo,'DejaVu Sans Mono',consolas,'Courier New',monospace\"><span style=\"color: #008080; text-decoration-color: #008080; font-weight: bold\">[+] Successfully retrieved repo: </span><span style=\"color: #008080; text-decoration-color: #008080; font-weight: bold; text-decoration: underline\">https://github.com/beekeeper-studio/beekeeper-studio</span>\n",
       "</pre>\n"
      ],
      "text/plain": [
       "\u001b[1;36m[\u001b[0m\u001b[1;36m+\u001b[0m\u001b[1;36m]\u001b[0m\u001b[1;36m Successfully retrieved repo: \u001b[0m\u001b[1;4;36mhttps://github.com/beekeeper-studio/beekeeper-studio\u001b[0m\n"
      ]
     },
     "metadata": {},
     "output_type": "display_data"
    },
    {
     "data": {
      "text/html": [
       "<pre style=\"white-space:pre;overflow-x:auto;line-height:normal;font-family:Menlo,'DejaVu Sans Mono',consolas,'Courier New',monospace\"><span style=\"color: #008080; text-decoration-color: #008080; font-weight: bold\">[+] Found package.json at </span><span style=\"color: #008080; text-decoration-color: #008080; font-weight: bold; text-decoration: underline\">https://github.com/beekeeper-studio/beekeeper-studio</span>\n",
       "</pre>\n"
      ],
      "text/plain": [
       "\u001b[1;36m[\u001b[0m\u001b[1;36m+\u001b[0m\u001b[1;36m]\u001b[0m\u001b[1;36m Found package.json at \u001b[0m\u001b[1;4;36mhttps://github.com/beekeeper-studio/beekeeper-studio\u001b[0m\n"
      ]
     },
     "metadata": {},
     "output_type": "display_data"
    },
    {
     "data": {
      "text/html": [
       "<pre style=\"white-space:pre;overflow-x:auto;line-height:normal;font-family:Menlo,'DejaVu Sans Mono',consolas,'Courier New',monospace\"><span style=\"color: #008080; text-decoration-color: #008080; font-weight: bold\">[+] Getting </span><span style=\"color: #008080; text-decoration-color: #008080; font-weight: bold; text-decoration: underline\">https://github.com/beekeeper-studio/beekeeper-studio/blob/master/package.json</span>\n",
       "</pre>\n"
      ],
      "text/plain": [
       "\u001b[1;36m[\u001b[0m\u001b[1;36m+\u001b[0m\u001b[1;36m]\u001b[0m\u001b[1;36m Getting \u001b[0m\u001b[1;4;36mhttps://github.com/beekeeper-studio/beekeeper-studio/blob/master/package.json\u001b[0m\n"
      ]
     },
     "metadata": {},
     "output_type": "display_data"
    },
    {
     "data": {
      "text/html": [
       "<pre style=\"white-space:pre;overflow-x:auto;line-height:normal;font-family:Menlo,'DejaVu Sans Mono',consolas,'Courier New',monospace\"><span style=\"color: #008080; text-decoration-color: #008080; font-weight: bold\">[+] Getting repo: </span><span style=\"color: #008080; text-decoration-color: #008080; font-weight: bold; text-decoration: underline\">https://github.com/Bible-Projects/believers-sword-app</span>\n",
       "</pre>\n"
      ],
      "text/plain": [
       "\u001b[1;36m[\u001b[0m\u001b[1;36m+\u001b[0m\u001b[1;36m]\u001b[0m\u001b[1;36m Getting repo: \u001b[0m\u001b[1;4;36mhttps://github.com/Bible-Projects/believers-sword-app\u001b[0m\n"
      ]
     },
     "metadata": {},
     "output_type": "display_data"
    },
    {
     "data": {
      "text/html": [
       "<pre style=\"white-space:pre;overflow-x:auto;line-height:normal;font-family:Menlo,'DejaVu Sans Mono',consolas,'Courier New',monospace\"><span style=\"color: #008080; text-decoration-color: #008080; font-weight: bold\">[+] Successfully retrieved repo: </span><span style=\"color: #008080; text-decoration-color: #008080; font-weight: bold; text-decoration: underline\">https://github.com/Bible-Projects/believers-sword-app</span>\n",
       "</pre>\n"
      ],
      "text/plain": [
       "\u001b[1;36m[\u001b[0m\u001b[1;36m+\u001b[0m\u001b[1;36m]\u001b[0m\u001b[1;36m Successfully retrieved repo: \u001b[0m\u001b[1;4;36mhttps://github.com/Bible-Projects/believers-sword-app\u001b[0m\n"
      ]
     },
     "metadata": {},
     "output_type": "display_data"
    },
    {
     "data": {
      "text/html": [
       "<pre style=\"white-space:pre;overflow-x:auto;line-height:normal;font-family:Menlo,'DejaVu Sans Mono',consolas,'Courier New',monospace\"><span style=\"color: #008080; text-decoration-color: #008080; font-weight: bold\">[+] Found package.json at </span><span style=\"color: #008080; text-decoration-color: #008080; font-weight: bold; text-decoration: underline\">https://github.com/Bible-Projects/believers-sword-app</span>\n",
       "</pre>\n"
      ],
      "text/plain": [
       "\u001b[1;36m[\u001b[0m\u001b[1;36m+\u001b[0m\u001b[1;36m]\u001b[0m\u001b[1;36m Found package.json at \u001b[0m\u001b[1;4;36mhttps://github.com/Bible-Projects/believers-sword-app\u001b[0m\n"
      ]
     },
     "metadata": {},
     "output_type": "display_data"
    },
    {
     "data": {
      "text/html": [
       "<pre style=\"white-space:pre;overflow-x:auto;line-height:normal;font-family:Menlo,'DejaVu Sans Mono',consolas,'Courier New',monospace\"><span style=\"color: #008080; text-decoration-color: #008080; font-weight: bold\">[+] Getting </span><span style=\"color: #008080; text-decoration-color: #008080; font-weight: bold; text-decoration: underline\">https://github.com/Bible-Projects/believers-sword-app/blob/main/package.json</span>\n",
       "</pre>\n"
      ],
      "text/plain": [
       "\u001b[1;36m[\u001b[0m\u001b[1;36m+\u001b[0m\u001b[1;36m]\u001b[0m\u001b[1;36m Getting \u001b[0m\u001b[1;4;36mhttps://github.com/Bible-Projects/believers-sword-app/blob/main/package.json\u001b[0m\n"
      ]
     },
     "metadata": {},
     "output_type": "display_data"
    },
    {
     "data": {
      "text/html": [
       "<pre style=\"white-space:pre;overflow-x:auto;line-height:normal;font-family:Menlo,'DejaVu Sans Mono',consolas,'Courier New',monospace\"><span style=\"color: #008080; text-decoration-color: #008080; font-weight: bold\">[+] Getting repo: </span><span style=\"color: #008080; text-decoration-color: #008080; font-weight: bold; text-decoration: underline\">https://github.com/andreafeccomandi/bibisco/</span>\n",
       "</pre>\n"
      ],
      "text/plain": [
       "\u001b[1;36m[\u001b[0m\u001b[1;36m+\u001b[0m\u001b[1;36m]\u001b[0m\u001b[1;36m Getting repo: \u001b[0m\u001b[1;4;36mhttps://github.com/andreafeccomandi/bibisco/\u001b[0m\n"
      ]
     },
     "metadata": {},
     "output_type": "display_data"
    },
    {
     "data": {
      "text/html": [
       "<pre style=\"white-space:pre;overflow-x:auto;line-height:normal;font-family:Menlo,'DejaVu Sans Mono',consolas,'Courier New',monospace\"><span style=\"color: #008080; text-decoration-color: #008080; font-weight: bold\">[+] Successfully retrieved repo: </span><span style=\"color: #008080; text-decoration-color: #008080; font-weight: bold; text-decoration: underline\">https://github.com/andreafeccomandi/bibisco/</span>\n",
       "</pre>\n"
      ],
      "text/plain": [
       "\u001b[1;36m[\u001b[0m\u001b[1;36m+\u001b[0m\u001b[1;36m]\u001b[0m\u001b[1;36m Successfully retrieved repo: \u001b[0m\u001b[1;4;36mhttps://github.com/andreafeccomandi/bibisco/\u001b[0m\n"
      ]
     },
     "metadata": {},
     "output_type": "display_data"
    },
    {
     "data": {
      "text/html": [
       "<pre style=\"white-space:pre;overflow-x:auto;line-height:normal;font-family:Menlo,'DejaVu Sans Mono',consolas,'Courier New',monospace\"><span style=\"color: #ff5f00; text-decoration-color: #ff5f00; font-weight: bold\">[!] Package.json not found at root of </span><span style=\"color: #ff5f00; text-decoration-color: #ff5f00; font-weight: bold; text-decoration: underline\">https://github.com/andreafeccomandi/bibisco/;</span><span style=\"color: #ff5f00; text-decoration-color: #ff5f00; font-weight: bold\"> trying directories</span>\n",
       "</pre>\n"
      ],
      "text/plain": [
       "\u001b[1;38;5;202m[\u001b[0m\u001b[1;38;5;202m!\u001b[0m\u001b[1;38;5;202m]\u001b[0m\u001b[1;38;5;202m Package.json not found at root of \u001b[0m\u001b[1;4;38;5;202mhttps://github.com/andreafeccomandi/bibisco/;\u001b[0m\u001b[1;38;5;202m trying directories\u001b[0m\n"
      ]
     },
     "metadata": {},
     "output_type": "display_data"
    },
    {
     "data": {
      "text/html": [
       "<pre style=\"white-space:pre;overflow-x:auto;line-height:normal;font-family:Menlo,'DejaVu Sans Mono',consolas,'Courier New',monospace\"><span style=\"color: #008080; text-decoration-color: #008080; font-weight: bold\">[+] Trying </span><span style=\"color: #008080; text-decoration-color: #008080; font-weight: bold; text-decoration: underline\">https://github.com/andreafeccomandi/bibisco/tree/master/bibisco</span>\n",
       "</pre>\n"
      ],
      "text/plain": [
       "\u001b[1;36m[\u001b[0m\u001b[1;36m+\u001b[0m\u001b[1;36m]\u001b[0m\u001b[1;36m Trying \u001b[0m\u001b[1;4;36mhttps://github.com/andreafeccomandi/bibisco/tree/master/bibisco\u001b[0m\n"
      ]
     },
     "metadata": {},
     "output_type": "display_data"
    },
    {
     "data": {
      "text/html": [
       "<pre style=\"white-space:pre;overflow-x:auto;line-height:normal;font-family:Menlo,'DejaVu Sans Mono',consolas,'Courier New',monospace\"><span style=\"color: #008080; text-decoration-color: #008080; font-weight: bold\">[+] Trying </span><span style=\"color: #008080; text-decoration-color: #008080; font-weight: bold; text-decoration: underline\">https://github.com/andreafeccomandi/bibisco/tree/master/images</span>\n",
       "</pre>\n"
      ],
      "text/plain": [
       "\u001b[1;36m[\u001b[0m\u001b[1;36m+\u001b[0m\u001b[1;36m]\u001b[0m\u001b[1;36m Trying \u001b[0m\u001b[1;4;36mhttps://github.com/andreafeccomandi/bibisco/tree/master/images\u001b[0m\n"
      ]
     },
     "metadata": {},
     "output_type": "display_data"
    },
    {
     "data": {
      "text/html": [
       "<pre style=\"white-space:pre;overflow-x:auto;line-height:normal;font-family:Menlo,'DejaVu Sans Mono',consolas,'Courier New',monospace\"><span style=\"color: #800000; text-decoration-color: #800000; font-weight: bold\">[💀] Could not find package.json in first-level-subdirs</span>\n",
       "</pre>\n"
      ],
      "text/plain": [
       "\u001b[1;31m[\u001b[0m\u001b[1;31m💀\u001b[0m\u001b[1;31m]\u001b[0m\u001b[1;31m Could not find package.json in first-level-subdirs\u001b[0m\n"
      ]
     },
     "metadata": {},
     "output_type": "display_data"
    },
    {
     "data": {
      "text/html": [
       "<pre style=\"white-space:pre;overflow-x:auto;line-height:normal;font-family:Menlo,'DejaVu Sans Mono',consolas,'Courier New',monospace\"><span style=\"color: #008080; text-decoration-color: #008080; font-weight: bold\">[+] Getting repo: </span><span style=\"color: #008080; text-decoration-color: #008080; font-weight: bold; text-decoration: underline\">https://github.com/JannisX11/blockbench</span>\n",
       "</pre>\n"
      ],
      "text/plain": [
       "\u001b[1;36m[\u001b[0m\u001b[1;36m+\u001b[0m\u001b[1;36m]\u001b[0m\u001b[1;36m Getting repo: \u001b[0m\u001b[1;4;36mhttps://github.com/JannisX11/blockbench\u001b[0m\n"
      ]
     },
     "metadata": {},
     "output_type": "display_data"
    },
    {
     "data": {
      "text/html": [
       "<pre style=\"white-space:pre;overflow-x:auto;line-height:normal;font-family:Menlo,'DejaVu Sans Mono',consolas,'Courier New',monospace\"><span style=\"color: #008080; text-decoration-color: #008080; font-weight: bold\">[+] Successfully retrieved repo: </span><span style=\"color: #008080; text-decoration-color: #008080; font-weight: bold; text-decoration: underline\">https://github.com/JannisX11/blockbench</span>\n",
       "</pre>\n"
      ],
      "text/plain": [
       "\u001b[1;36m[\u001b[0m\u001b[1;36m+\u001b[0m\u001b[1;36m]\u001b[0m\u001b[1;36m Successfully retrieved repo: \u001b[0m\u001b[1;4;36mhttps://github.com/JannisX11/blockbench\u001b[0m\n"
      ]
     },
     "metadata": {},
     "output_type": "display_data"
    },
    {
     "data": {
      "text/html": [
       "<pre style=\"white-space:pre;overflow-x:auto;line-height:normal;font-family:Menlo,'DejaVu Sans Mono',consolas,'Courier New',monospace\"><span style=\"color: #008080; text-decoration-color: #008080; font-weight: bold\">[+] Found package.json at </span><span style=\"color: #008080; text-decoration-color: #008080; font-weight: bold; text-decoration: underline\">https://github.com/JannisX11/blockbench</span>\n",
       "</pre>\n"
      ],
      "text/plain": [
       "\u001b[1;36m[\u001b[0m\u001b[1;36m+\u001b[0m\u001b[1;36m]\u001b[0m\u001b[1;36m Found package.json at \u001b[0m\u001b[1;4;36mhttps://github.com/JannisX11/blockbench\u001b[0m\n"
      ]
     },
     "metadata": {},
     "output_type": "display_data"
    },
    {
     "data": {
      "text/html": [
       "<pre style=\"white-space:pre;overflow-x:auto;line-height:normal;font-family:Menlo,'DejaVu Sans Mono',consolas,'Courier New',monospace\"><span style=\"color: #008080; text-decoration-color: #008080; font-weight: bold\">[+] Getting </span><span style=\"color: #008080; text-decoration-color: #008080; font-weight: bold; text-decoration: underline\">https://github.com/JannisX11/blockbench/blob/master/package.json</span>\n",
       "</pre>\n"
      ],
      "text/plain": [
       "\u001b[1;36m[\u001b[0m\u001b[1;36m+\u001b[0m\u001b[1;36m]\u001b[0m\u001b[1;36m Getting \u001b[0m\u001b[1;4;36mhttps://github.com/JannisX11/blockbench/blob/master/package.json\u001b[0m\n"
      ]
     },
     "metadata": {},
     "output_type": "display_data"
    },
    {
     "data": {
      "text/html": [
       "<pre style=\"white-space:pre;overflow-x:auto;line-height:normal;font-family:Menlo,'DejaVu Sans Mono',consolas,'Courier New',monospace\"><span style=\"color: #008080; text-decoration-color: #008080; font-weight: bold\">[+] Getting repo: </span><span style=\"color: #008080; text-decoration-color: #008080; font-weight: bold; text-decoration: underline\">https://github.com/bgpworks/boxhero-electron</span>\n",
       "</pre>\n"
      ],
      "text/plain": [
       "\u001b[1;36m[\u001b[0m\u001b[1;36m+\u001b[0m\u001b[1;36m]\u001b[0m\u001b[1;36m Getting repo: \u001b[0m\u001b[1;4;36mhttps://github.com/bgpworks/boxhero-electron\u001b[0m\n"
      ]
     },
     "metadata": {},
     "output_type": "display_data"
    },
    {
     "data": {
      "text/html": [
       "<pre style=\"white-space:pre;overflow-x:auto;line-height:normal;font-family:Menlo,'DejaVu Sans Mono',consolas,'Courier New',monospace\"><span style=\"color: #008080; text-decoration-color: #008080; font-weight: bold\">[+] Successfully retrieved repo: </span><span style=\"color: #008080; text-decoration-color: #008080; font-weight: bold; text-decoration: underline\">https://github.com/bgpworks/boxhero-electron</span>\n",
       "</pre>\n"
      ],
      "text/plain": [
       "\u001b[1;36m[\u001b[0m\u001b[1;36m+\u001b[0m\u001b[1;36m]\u001b[0m\u001b[1;36m Successfully retrieved repo: \u001b[0m\u001b[1;4;36mhttps://github.com/bgpworks/boxhero-electron\u001b[0m\n"
      ]
     },
     "metadata": {},
     "output_type": "display_data"
    },
    {
     "data": {
      "text/html": [
       "<pre style=\"white-space:pre;overflow-x:auto;line-height:normal;font-family:Menlo,'DejaVu Sans Mono',consolas,'Courier New',monospace\"><span style=\"color: #008080; text-decoration-color: #008080; font-weight: bold\">[+] Found package.json at </span><span style=\"color: #008080; text-decoration-color: #008080; font-weight: bold; text-decoration: underline\">https://github.com/bgpworks/boxhero-electron</span>\n",
       "</pre>\n"
      ],
      "text/plain": [
       "\u001b[1;36m[\u001b[0m\u001b[1;36m+\u001b[0m\u001b[1;36m]\u001b[0m\u001b[1;36m Found package.json at \u001b[0m\u001b[1;4;36mhttps://github.com/bgpworks/boxhero-electron\u001b[0m\n"
      ]
     },
     "metadata": {},
     "output_type": "display_data"
    },
    {
     "data": {
      "text/html": [
       "<pre style=\"white-space:pre;overflow-x:auto;line-height:normal;font-family:Menlo,'DejaVu Sans Mono',consolas,'Courier New',monospace\"><span style=\"color: #008080; text-decoration-color: #008080; font-weight: bold\">[+] Getting </span><span style=\"color: #008080; text-decoration-color: #008080; font-weight: bold; text-decoration: underline\">https://github.com/bgpworks/boxhero-electron/blob/master/package.json</span>\n",
       "</pre>\n"
      ],
      "text/plain": [
       "\u001b[1;36m[\u001b[0m\u001b[1;36m+\u001b[0m\u001b[1;36m]\u001b[0m\u001b[1;36m Getting \u001b[0m\u001b[1;4;36mhttps://github.com/bgpworks/boxhero-electron/blob/master/package.json\u001b[0m\n"
      ]
     },
     "metadata": {},
     "output_type": "display_data"
    },
    {
     "data": {
      "text/html": [
       "<pre style=\"white-space:pre;overflow-x:auto;line-height:normal;font-family:Menlo,'DejaVu Sans Mono',consolas,'Courier New',monospace\"><span style=\"color: #008080; text-decoration-color: #008080; font-weight: bold\">[+] Getting repo: </span><span style=\"color: #008080; text-decoration-color: #008080; font-weight: bold; text-decoration: underline\">https://github.com/brimsec/brim</span>\n",
       "</pre>\n"
      ],
      "text/plain": [
       "\u001b[1;36m[\u001b[0m\u001b[1;36m+\u001b[0m\u001b[1;36m]\u001b[0m\u001b[1;36m Getting repo: \u001b[0m\u001b[1;4;36mhttps://github.com/brimsec/brim\u001b[0m\n"
      ]
     },
     "metadata": {},
     "output_type": "display_data"
    },
    {
     "data": {
      "text/html": [
       "<pre style=\"white-space:pre;overflow-x:auto;line-height:normal;font-family:Menlo,'DejaVu Sans Mono',consolas,'Courier New',monospace\"><span style=\"color: #008080; text-decoration-color: #008080; font-weight: bold\">[+] Successfully retrieved repo: </span><span style=\"color: #008080; text-decoration-color: #008080; font-weight: bold; text-decoration: underline\">https://github.com/brimsec/brim</span>\n",
       "</pre>\n"
      ],
      "text/plain": [
       "\u001b[1;36m[\u001b[0m\u001b[1;36m+\u001b[0m\u001b[1;36m]\u001b[0m\u001b[1;36m Successfully retrieved repo: \u001b[0m\u001b[1;4;36mhttps://github.com/brimsec/brim\u001b[0m\n"
      ]
     },
     "metadata": {},
     "output_type": "display_data"
    },
    {
     "data": {
      "text/html": [
       "<pre style=\"white-space:pre;overflow-x:auto;line-height:normal;font-family:Menlo,'DejaVu Sans Mono',consolas,'Courier New',monospace\"><span style=\"color: #008080; text-decoration-color: #008080; font-weight: bold\">[+] Found package.json at </span><span style=\"color: #008080; text-decoration-color: #008080; font-weight: bold; text-decoration: underline\">https://github.com/brimsec/brim</span>\n",
       "</pre>\n"
      ],
      "text/plain": [
       "\u001b[1;36m[\u001b[0m\u001b[1;36m+\u001b[0m\u001b[1;36m]\u001b[0m\u001b[1;36m Found package.json at \u001b[0m\u001b[1;4;36mhttps://github.com/brimsec/brim\u001b[0m\n"
      ]
     },
     "metadata": {},
     "output_type": "display_data"
    },
    {
     "data": {
      "text/html": [
       "<pre style=\"white-space:pre;overflow-x:auto;line-height:normal;font-family:Menlo,'DejaVu Sans Mono',consolas,'Courier New',monospace\"><span style=\"color: #008080; text-decoration-color: #008080; font-weight: bold\">[+] Getting </span><span style=\"color: #008080; text-decoration-color: #008080; font-weight: bold; text-decoration: underline\">https://github.com/brimdata/zui/blob/main/package.json</span>\n",
       "</pre>\n"
      ],
      "text/plain": [
       "\u001b[1;36m[\u001b[0m\u001b[1;36m+\u001b[0m\u001b[1;36m]\u001b[0m\u001b[1;36m Getting \u001b[0m\u001b[1;4;36mhttps://github.com/brimdata/zui/blob/main/package.json\u001b[0m\n"
      ]
     },
     "metadata": {},
     "output_type": "display_data"
    },
    {
     "data": {
      "text/html": [
       "<pre style=\"white-space:pre;overflow-x:auto;line-height:normal;font-family:Menlo,'DejaVu Sans Mono',consolas,'Courier New',monospace\"><span style=\"color: #008080; text-decoration-color: #008080; font-weight: bold\">[+] Getting repo: </span><span style=\"color: #008080; text-decoration-color: #008080; font-weight: bold; text-decoration: underline\">https://github.com/buttercup/buttercup-desktop</span>\n",
       "</pre>\n"
      ],
      "text/plain": [
       "\u001b[1;36m[\u001b[0m\u001b[1;36m+\u001b[0m\u001b[1;36m]\u001b[0m\u001b[1;36m Getting repo: \u001b[0m\u001b[1;4;36mhttps://github.com/buttercup/buttercup-desktop\u001b[0m\n"
      ]
     },
     "metadata": {},
     "output_type": "display_data"
    },
    {
     "data": {
      "text/html": [
       "<pre style=\"white-space:pre;overflow-x:auto;line-height:normal;font-family:Menlo,'DejaVu Sans Mono',consolas,'Courier New',monospace\"><span style=\"color: #008080; text-decoration-color: #008080; font-weight: bold\">[+] Successfully retrieved repo: </span><span style=\"color: #008080; text-decoration-color: #008080; font-weight: bold; text-decoration: underline\">https://github.com/buttercup/buttercup-desktop</span>\n",
       "</pre>\n"
      ],
      "text/plain": [
       "\u001b[1;36m[\u001b[0m\u001b[1;36m+\u001b[0m\u001b[1;36m]\u001b[0m\u001b[1;36m Successfully retrieved repo: \u001b[0m\u001b[1;4;36mhttps://github.com/buttercup/buttercup-desktop\u001b[0m\n"
      ]
     },
     "metadata": {},
     "output_type": "display_data"
    },
    {
     "data": {
      "text/html": [
       "<pre style=\"white-space:pre;overflow-x:auto;line-height:normal;font-family:Menlo,'DejaVu Sans Mono',consolas,'Courier New',monospace\"><span style=\"color: #008080; text-decoration-color: #008080; font-weight: bold\">[+] Found package.json at </span><span style=\"color: #008080; text-decoration-color: #008080; font-weight: bold; text-decoration: underline\">https://github.com/buttercup/buttercup-desktop</span>\n",
       "</pre>\n"
      ],
      "text/plain": [
       "\u001b[1;36m[\u001b[0m\u001b[1;36m+\u001b[0m\u001b[1;36m]\u001b[0m\u001b[1;36m Found package.json at \u001b[0m\u001b[1;4;36mhttps://github.com/buttercup/buttercup-desktop\u001b[0m\n"
      ]
     },
     "metadata": {},
     "output_type": "display_data"
    },
    {
     "data": {
      "text/html": [
       "<pre style=\"white-space:pre;overflow-x:auto;line-height:normal;font-family:Menlo,'DejaVu Sans Mono',consolas,'Courier New',monospace\"><span style=\"color: #008080; text-decoration-color: #008080; font-weight: bold\">[+] Getting </span><span style=\"color: #008080; text-decoration-color: #008080; font-weight: bold; text-decoration: underline\">https://github.com/buttercup/buttercup-desktop/blob/master/package.json</span>\n",
       "</pre>\n"
      ],
      "text/plain": [
       "\u001b[1;36m[\u001b[0m\u001b[1;36m+\u001b[0m\u001b[1;36m]\u001b[0m\u001b[1;36m Getting \u001b[0m\u001b[1;4;36mhttps://github.com/buttercup/buttercup-desktop/blob/master/package.json\u001b[0m\n"
      ]
     },
     "metadata": {},
     "output_type": "display_data"
    },
    {
     "data": {
      "text/html": [
       "<pre style=\"white-space:pre;overflow-x:auto;line-height:normal;font-family:Menlo,'DejaVu Sans Mono',consolas,'Courier New',monospace\"><span style=\"color: #008080; text-decoration-color: #008080; font-weight: bold\">[+] Getting repo: </span><span style=\"color: #008080; text-decoration-color: #008080; font-weight: bold; text-decoration: underline\">https://github.com/camunda/camunda-modeler/</span>\n",
       "</pre>\n"
      ],
      "text/plain": [
       "\u001b[1;36m[\u001b[0m\u001b[1;36m+\u001b[0m\u001b[1;36m]\u001b[0m\u001b[1;36m Getting repo: \u001b[0m\u001b[1;4;36mhttps://github.com/camunda/camunda-modeler/\u001b[0m\n"
      ]
     },
     "metadata": {},
     "output_type": "display_data"
    },
    {
     "data": {
      "text/html": [
       "<pre style=\"white-space:pre;overflow-x:auto;line-height:normal;font-family:Menlo,'DejaVu Sans Mono',consolas,'Courier New',monospace\"><span style=\"color: #008080; text-decoration-color: #008080; font-weight: bold\">[+] Successfully retrieved repo: </span><span style=\"color: #008080; text-decoration-color: #008080; font-weight: bold; text-decoration: underline\">https://github.com/camunda/camunda-modeler/</span>\n",
       "</pre>\n"
      ],
      "text/plain": [
       "\u001b[1;36m[\u001b[0m\u001b[1;36m+\u001b[0m\u001b[1;36m]\u001b[0m\u001b[1;36m Successfully retrieved repo: \u001b[0m\u001b[1;4;36mhttps://github.com/camunda/camunda-modeler/\u001b[0m\n"
      ]
     },
     "metadata": {},
     "output_type": "display_data"
    },
    {
     "data": {
      "text/html": [
       "<pre style=\"white-space:pre;overflow-x:auto;line-height:normal;font-family:Menlo,'DejaVu Sans Mono',consolas,'Courier New',monospace\"><span style=\"color: #008080; text-decoration-color: #008080; font-weight: bold\">[+] Found package.json at </span><span style=\"color: #008080; text-decoration-color: #008080; font-weight: bold; text-decoration: underline\">https://github.com/camunda/camunda-modeler/</span>\n",
       "</pre>\n"
      ],
      "text/plain": [
       "\u001b[1;36m[\u001b[0m\u001b[1;36m+\u001b[0m\u001b[1;36m]\u001b[0m\u001b[1;36m Found package.json at \u001b[0m\u001b[1;4;36mhttps://github.com/camunda/camunda-modeler/\u001b[0m\n"
      ]
     },
     "metadata": {},
     "output_type": "display_data"
    },
    {
     "data": {
      "text/html": [
       "<pre style=\"white-space:pre;overflow-x:auto;line-height:normal;font-family:Menlo,'DejaVu Sans Mono',consolas,'Courier New',monospace\"><span style=\"color: #008080; text-decoration-color: #008080; font-weight: bold\">[+] Getting </span><span style=\"color: #008080; text-decoration-color: #008080; font-weight: bold; text-decoration: underline\">https://github.com/camunda/camunda-modeler/blob/develop/package.json</span>\n",
       "</pre>\n"
      ],
      "text/plain": [
       "\u001b[1;36m[\u001b[0m\u001b[1;36m+\u001b[0m\u001b[1;36m]\u001b[0m\u001b[1;36m Getting \u001b[0m\u001b[1;4;36mhttps://github.com/camunda/camunda-modeler/blob/develop/package.json\u001b[0m\n"
      ]
     },
     "metadata": {},
     "output_type": "display_data"
    },
    {
     "data": {
      "text/html": [
       "<pre style=\"white-space:pre;overflow-x:auto;line-height:normal;font-family:Menlo,'DejaVu Sans Mono',consolas,'Courier New',monospace\"><span style=\"color: #008080; text-decoration-color: #008080; font-weight: bold\">[+] Getting repo: </span><span style=\"color: #008080; text-decoration-color: #008080; font-weight: bold; text-decoration: underline\">https://github.com/ciderapp/Cider</span>\n",
       "</pre>\n"
      ],
      "text/plain": [
       "\u001b[1;36m[\u001b[0m\u001b[1;36m+\u001b[0m\u001b[1;36m]\u001b[0m\u001b[1;36m Getting repo: \u001b[0m\u001b[1;4;36mhttps://github.com/ciderapp/Cider\u001b[0m\n"
      ]
     },
     "metadata": {},
     "output_type": "display_data"
    },
    {
     "data": {
      "text/html": [
       "<pre style=\"white-space:pre;overflow-x:auto;line-height:normal;font-family:Menlo,'DejaVu Sans Mono',consolas,'Courier New',monospace\"><span style=\"color: #008080; text-decoration-color: #008080; font-weight: bold\">[+] Successfully retrieved repo: </span><span style=\"color: #008080; text-decoration-color: #008080; font-weight: bold; text-decoration: underline\">https://github.com/ciderapp/Cider</span>\n",
       "</pre>\n"
      ],
      "text/plain": [
       "\u001b[1;36m[\u001b[0m\u001b[1;36m+\u001b[0m\u001b[1;36m]\u001b[0m\u001b[1;36m Successfully retrieved repo: \u001b[0m\u001b[1;4;36mhttps://github.com/ciderapp/Cider\u001b[0m\n"
      ]
     },
     "metadata": {},
     "output_type": "display_data"
    },
    {
     "data": {
      "text/html": [
       "<pre style=\"white-space:pre;overflow-x:auto;line-height:normal;font-family:Menlo,'DejaVu Sans Mono',consolas,'Courier New',monospace\"><span style=\"color: #008080; text-decoration-color: #008080; font-weight: bold\">[+] Found package.json at </span><span style=\"color: #008080; text-decoration-color: #008080; font-weight: bold; text-decoration: underline\">https://github.com/ciderapp/Cider</span>\n",
       "</pre>\n"
      ],
      "text/plain": [
       "\u001b[1;36m[\u001b[0m\u001b[1;36m+\u001b[0m\u001b[1;36m]\u001b[0m\u001b[1;36m Found package.json at \u001b[0m\u001b[1;4;36mhttps://github.com/ciderapp/Cider\u001b[0m\n"
      ]
     },
     "metadata": {},
     "output_type": "display_data"
    },
    {
     "data": {
      "text/html": [
       "<pre style=\"white-space:pre;overflow-x:auto;line-height:normal;font-family:Menlo,'DejaVu Sans Mono',consolas,'Courier New',monospace\"><span style=\"color: #008080; text-decoration-color: #008080; font-weight: bold\">[+] Getting </span><span style=\"color: #008080; text-decoration-color: #008080; font-weight: bold; text-decoration: underline\">https://github.com/ciderapp/Cider/blob/main/package.json</span>\n",
       "</pre>\n"
      ],
      "text/plain": [
       "\u001b[1;36m[\u001b[0m\u001b[1;36m+\u001b[0m\u001b[1;36m]\u001b[0m\u001b[1;36m Getting \u001b[0m\u001b[1;4;36mhttps://github.com/ciderapp/Cider/blob/main/package.json\u001b[0m\n"
      ]
     },
     "metadata": {},
     "output_type": "display_data"
    },
    {
     "data": {
      "text/html": [
       "<pre style=\"white-space:pre;overflow-x:auto;line-height:normal;font-family:Menlo,'DejaVu Sans Mono',consolas,'Courier New',monospace\"><span style=\"color: #ff5f00; text-decoration-color: #ff5f00; font-weight: bold\">[!] Invalid Semantic version: github:castlabs/electron-releases</span>\n",
       "</pre>\n"
      ],
      "text/plain": [
       "\u001b[1;38;5;202m[\u001b[0m\u001b[1;38;5;202m!\u001b[0m\u001b[1;38;5;202m]\u001b[0m\u001b[1;38;5;202m Invalid Semantic version: githu\u001b[0m\u001b[1;38;5;202mb:ca\u001b[0m\u001b[1;38;5;202mstlabs/electron-releases\u001b[0m\n"
      ]
     },
     "metadata": {},
     "output_type": "display_data"
    },
    {
     "data": {
      "text/html": [
       "<pre style=\"white-space:pre;overflow-x:auto;line-height:normal;font-family:Menlo,'DejaVu Sans Mono',consolas,'Courier New',monospace\"><span style=\"color: #ff5f00; text-decoration-color: #ff5f00; font-weight: bold\">[!] Invalid Semantic version: github:castlabs/electron-releases</span>\n",
       "</pre>\n"
      ],
      "text/plain": [
       "\u001b[1;38;5;202m[\u001b[0m\u001b[1;38;5;202m!\u001b[0m\u001b[1;38;5;202m]\u001b[0m\u001b[1;38;5;202m Invalid Semantic version: githu\u001b[0m\u001b[1;38;5;202mb:ca\u001b[0m\u001b[1;38;5;202mstlabs/electron-releases\u001b[0m\n"
      ]
     },
     "metadata": {},
     "output_type": "display_data"
    },
    {
     "data": {
      "text/html": [
       "<pre style=\"white-space:pre;overflow-x:auto;line-height:normal;font-family:Menlo,'DejaVu Sans Mono',consolas,'Courier New',monospace\"><span style=\"color: #008080; text-decoration-color: #008080; font-weight: bold\">[+] Getting repo: </span><span style=\"color: #008080; text-decoration-color: #008080; font-weight: bold; text-decoration: underline\">https://github.com/webcatalog/neutron</span>\n",
       "</pre>\n"
      ],
      "text/plain": [
       "\u001b[1;36m[\u001b[0m\u001b[1;36m+\u001b[0m\u001b[1;36m]\u001b[0m\u001b[1;36m Getting repo: \u001b[0m\u001b[1;4;36mhttps://github.com/webcatalog/neutron\u001b[0m\n"
      ]
     },
     "metadata": {},
     "output_type": "display_data"
    },
    {
     "data": {
      "text/html": [
       "<pre style=\"white-space:pre;overflow-x:auto;line-height:normal;font-family:Menlo,'DejaVu Sans Mono',consolas,'Courier New',monospace\"><span style=\"color: #008080; text-decoration-color: #008080; font-weight: bold\">[+] Successfully retrieved repo: </span><span style=\"color: #008080; text-decoration-color: #008080; font-weight: bold; text-decoration: underline\">https://github.com/webcatalog/neutron</span>\n",
       "</pre>\n"
      ],
      "text/plain": [
       "\u001b[1;36m[\u001b[0m\u001b[1;36m+\u001b[0m\u001b[1;36m]\u001b[0m\u001b[1;36m Successfully retrieved repo: \u001b[0m\u001b[1;4;36mhttps://github.com/webcatalog/neutron\u001b[0m\n"
      ]
     },
     "metadata": {},
     "output_type": "display_data"
    },
    {
     "data": {
      "text/html": [
       "<pre style=\"white-space:pre;overflow-x:auto;line-height:normal;font-family:Menlo,'DejaVu Sans Mono',consolas,'Courier New',monospace\"><span style=\"color: #008080; text-decoration-color: #008080; font-weight: bold\">[+] Found package.json at </span><span style=\"color: #008080; text-decoration-color: #008080; font-weight: bold; text-decoration: underline\">https://github.com/webcatalog/neutron</span>\n",
       "</pre>\n"
      ],
      "text/plain": [
       "\u001b[1;36m[\u001b[0m\u001b[1;36m+\u001b[0m\u001b[1;36m]\u001b[0m\u001b[1;36m Found package.json at \u001b[0m\u001b[1;4;36mhttps://github.com/webcatalog/neutron\u001b[0m\n"
      ]
     },
     "metadata": {},
     "output_type": "display_data"
    },
    {
     "data": {
      "text/html": [
       "<pre style=\"white-space:pre;overflow-x:auto;line-height:normal;font-family:Menlo,'DejaVu Sans Mono',consolas,'Courier New',monospace\"><span style=\"color: #008080; text-decoration-color: #008080; font-weight: bold\">[+] Getting </span><span style=\"color: #008080; text-decoration-color: #008080; font-weight: bold; text-decoration: underline\">https://github.com/webcatalog/neutron/blob/master/package.json</span>\n",
       "</pre>\n"
      ],
      "text/plain": [
       "\u001b[1;36m[\u001b[0m\u001b[1;36m+\u001b[0m\u001b[1;36m]\u001b[0m\u001b[1;36m Getting \u001b[0m\u001b[1;4;36mhttps://github.com/webcatalog/neutron/blob/master/package.json\u001b[0m\n"
      ]
     },
     "metadata": {},
     "output_type": "display_data"
    },
    {
     "data": {
      "text/html": [
       "<pre style=\"white-space:pre;overflow-x:auto;line-height:normal;font-family:Menlo,'DejaVu Sans Mono',consolas,'Courier New',monospace\"><span style=\"color: #008080; text-decoration-color: #008080; font-weight: bold\">[+] Getting repo: </span><span style=\"color: #008080; text-decoration-color: #008080; font-weight: bold; text-decoration: underline\">https://github.com/cocos-creator/engine</span>\n",
       "</pre>\n"
      ],
      "text/plain": [
       "\u001b[1;36m[\u001b[0m\u001b[1;36m+\u001b[0m\u001b[1;36m]\u001b[0m\u001b[1;36m Getting repo: \u001b[0m\u001b[1;4;36mhttps://github.com/cocos-creator/engine\u001b[0m\n"
      ]
     },
     "metadata": {},
     "output_type": "display_data"
    },
    {
     "data": {
      "text/html": [
       "<pre style=\"white-space:pre;overflow-x:auto;line-height:normal;font-family:Menlo,'DejaVu Sans Mono',consolas,'Courier New',monospace\"><span style=\"color: #008080; text-decoration-color: #008080; font-weight: bold\">[+] Successfully retrieved repo: </span><span style=\"color: #008080; text-decoration-color: #008080; font-weight: bold; text-decoration: underline\">https://github.com/cocos-creator/engine</span>\n",
       "</pre>\n"
      ],
      "text/plain": [
       "\u001b[1;36m[\u001b[0m\u001b[1;36m+\u001b[0m\u001b[1;36m]\u001b[0m\u001b[1;36m Successfully retrieved repo: \u001b[0m\u001b[1;4;36mhttps://github.com/cocos-creator/engine\u001b[0m\n"
      ]
     },
     "metadata": {},
     "output_type": "display_data"
    },
    {
     "data": {
      "text/html": [
       "<pre style=\"white-space:pre;overflow-x:auto;line-height:normal;font-family:Menlo,'DejaVu Sans Mono',consolas,'Courier New',monospace\"><span style=\"color: #008080; text-decoration-color: #008080; font-weight: bold\">[+] Found package.json at </span><span style=\"color: #008080; text-decoration-color: #008080; font-weight: bold; text-decoration: underline\">https://github.com/cocos-creator/engine</span>\n",
       "</pre>\n"
      ],
      "text/plain": [
       "\u001b[1;36m[\u001b[0m\u001b[1;36m+\u001b[0m\u001b[1;36m]\u001b[0m\u001b[1;36m Found package.json at \u001b[0m\u001b[1;4;36mhttps://github.com/cocos-creator/engine\u001b[0m\n"
      ]
     },
     "metadata": {},
     "output_type": "display_data"
    },
    {
     "data": {
      "text/html": [
       "<pre style=\"white-space:pre;overflow-x:auto;line-height:normal;font-family:Menlo,'DejaVu Sans Mono',consolas,'Courier New',monospace\"><span style=\"color: #008080; text-decoration-color: #008080; font-weight: bold\">[+] Getting </span><span style=\"color: #008080; text-decoration-color: #008080; font-weight: bold; text-decoration: underline\">https://github.com/cocos/cocos-engine/blob/develop/package.json</span>\n",
       "</pre>\n"
      ],
      "text/plain": [
       "\u001b[1;36m[\u001b[0m\u001b[1;36m+\u001b[0m\u001b[1;36m]\u001b[0m\u001b[1;36m Getting \u001b[0m\u001b[1;4;36mhttps://github.com/cocos/cocos-engine/blob/develop/package.json\u001b[0m\n"
      ]
     },
     "metadata": {},
     "output_type": "display_data"
    },
    {
     "data": {
      "text/html": [
       "<pre style=\"white-space:pre;overflow-x:auto;line-height:normal;font-family:Menlo,'DejaVu Sans Mono',consolas,'Courier New',monospace\"><span style=\"color: #008080; text-decoration-color: #008080; font-weight: bold\">[+] Getting repo: </span><span style=\"color: #008080; text-decoration-color: #008080; font-weight: bold; text-decoration: underline\">https://github.com/jcv8000/Codex</span>\n",
       "</pre>\n"
      ],
      "text/plain": [
       "\u001b[1;36m[\u001b[0m\u001b[1;36m+\u001b[0m\u001b[1;36m]\u001b[0m\u001b[1;36m Getting repo: \u001b[0m\u001b[1;4;36mhttps://github.com/jcv8000/Codex\u001b[0m\n"
      ]
     },
     "metadata": {},
     "output_type": "display_data"
    },
    {
     "data": {
      "text/html": [
       "<pre style=\"white-space:pre;overflow-x:auto;line-height:normal;font-family:Menlo,'DejaVu Sans Mono',consolas,'Courier New',monospace\"><span style=\"color: #008080; text-decoration-color: #008080; font-weight: bold\">[+] Successfully retrieved repo: </span><span style=\"color: #008080; text-decoration-color: #008080; font-weight: bold; text-decoration: underline\">https://github.com/jcv8000/Codex</span>\n",
       "</pre>\n"
      ],
      "text/plain": [
       "\u001b[1;36m[\u001b[0m\u001b[1;36m+\u001b[0m\u001b[1;36m]\u001b[0m\u001b[1;36m Successfully retrieved repo: \u001b[0m\u001b[1;4;36mhttps://github.com/jcv8000/Codex\u001b[0m\n"
      ]
     },
     "metadata": {},
     "output_type": "display_data"
    },
    {
     "data": {
      "text/html": [
       "<pre style=\"white-space:pre;overflow-x:auto;line-height:normal;font-family:Menlo,'DejaVu Sans Mono',consolas,'Courier New',monospace\"><span style=\"color: #008080; text-decoration-color: #008080; font-weight: bold\">[+] Found package.json at </span><span style=\"color: #008080; text-decoration-color: #008080; font-weight: bold; text-decoration: underline\">https://github.com/jcv8000/Codex</span>\n",
       "</pre>\n"
      ],
      "text/plain": [
       "\u001b[1;36m[\u001b[0m\u001b[1;36m+\u001b[0m\u001b[1;36m]\u001b[0m\u001b[1;36m Found package.json at \u001b[0m\u001b[1;4;36mhttps://github.com/jcv8000/Codex\u001b[0m\n"
      ]
     },
     "metadata": {},
     "output_type": "display_data"
    },
    {
     "data": {
      "text/html": [
       "<pre style=\"white-space:pre;overflow-x:auto;line-height:normal;font-family:Menlo,'DejaVu Sans Mono',consolas,'Courier New',monospace\"><span style=\"color: #008080; text-decoration-color: #008080; font-weight: bold\">[+] Getting </span><span style=\"color: #008080; text-decoration-color: #008080; font-weight: bold; text-decoration: underline\">https://github.com/jcv8000/Codex/blob/master/package.json</span>\n",
       "</pre>\n"
      ],
      "text/plain": [
       "\u001b[1;36m[\u001b[0m\u001b[1;36m+\u001b[0m\u001b[1;36m]\u001b[0m\u001b[1;36m Getting \u001b[0m\u001b[1;4;36mhttps://github.com/jcv8000/Codex/blob/master/package.json\u001b[0m\n"
      ]
     },
     "metadata": {},
     "output_type": "display_data"
    },
    {
     "data": {
      "text/html": [
       "<pre style=\"white-space:pre;overflow-x:auto;line-height:normal;font-family:Menlo,'DejaVu Sans Mono',consolas,'Courier New',monospace\"><span style=\"color: #008080; text-decoration-color: #008080; font-weight: bold\">[+] Getting repo: </span><span style=\"color: #008080; text-decoration-color: #008080; font-weight: bold; text-decoration: underline\">https://github.com/Toinane/colorpicker</span>\n",
       "</pre>\n"
      ],
      "text/plain": [
       "\u001b[1;36m[\u001b[0m\u001b[1;36m+\u001b[0m\u001b[1;36m]\u001b[0m\u001b[1;36m Getting repo: \u001b[0m\u001b[1;4;36mhttps://github.com/Toinane/colorpicker\u001b[0m\n"
      ]
     },
     "metadata": {},
     "output_type": "display_data"
    },
    {
     "data": {
      "text/html": [
       "<pre style=\"white-space:pre;overflow-x:auto;line-height:normal;font-family:Menlo,'DejaVu Sans Mono',consolas,'Courier New',monospace\"><span style=\"color: #008080; text-decoration-color: #008080; font-weight: bold\">[+] Successfully retrieved repo: </span><span style=\"color: #008080; text-decoration-color: #008080; font-weight: bold; text-decoration: underline\">https://github.com/Toinane/colorpicker</span>\n",
       "</pre>\n"
      ],
      "text/plain": [
       "\u001b[1;36m[\u001b[0m\u001b[1;36m+\u001b[0m\u001b[1;36m]\u001b[0m\u001b[1;36m Successfully retrieved repo: \u001b[0m\u001b[1;4;36mhttps://github.com/Toinane/colorpicker\u001b[0m\n"
      ]
     },
     "metadata": {},
     "output_type": "display_data"
    },
    {
     "data": {
      "text/html": [
       "<pre style=\"white-space:pre;overflow-x:auto;line-height:normal;font-family:Menlo,'DejaVu Sans Mono',consolas,'Courier New',monospace\"><span style=\"color: #008080; text-decoration-color: #008080; font-weight: bold\">[+] Found package.json at </span><span style=\"color: #008080; text-decoration-color: #008080; font-weight: bold; text-decoration: underline\">https://github.com/Toinane/colorpicker</span>\n",
       "</pre>\n"
      ],
      "text/plain": [
       "\u001b[1;36m[\u001b[0m\u001b[1;36m+\u001b[0m\u001b[1;36m]\u001b[0m\u001b[1;36m Found package.json at \u001b[0m\u001b[1;4;36mhttps://github.com/Toinane/colorpicker\u001b[0m\n"
      ]
     },
     "metadata": {},
     "output_type": "display_data"
    },
    {
     "data": {
      "text/html": [
       "<pre style=\"white-space:pre;overflow-x:auto;line-height:normal;font-family:Menlo,'DejaVu Sans Mono',consolas,'Courier New',monospace\"><span style=\"color: #008080; text-decoration-color: #008080; font-weight: bold\">[+] Getting </span><span style=\"color: #008080; text-decoration-color: #008080; font-weight: bold; text-decoration: underline\">https://github.com/Toinane/colorpicker/blob/master/package.json</span>\n",
       "</pre>\n"
      ],
      "text/plain": [
       "\u001b[1;36m[\u001b[0m\u001b[1;36m+\u001b[0m\u001b[1;36m]\u001b[0m\u001b[1;36m Getting \u001b[0m\u001b[1;4;36mhttps://github.com/Toinane/colorpicker/blob/master/package.json\u001b[0m\n"
      ]
     },
     "metadata": {},
     "output_type": "display_data"
    },
    {
     "data": {
      "text/html": [
       "<pre style=\"white-space:pre;overflow-x:auto;line-height:normal;font-family:Menlo,'DejaVu Sans Mono',consolas,'Courier New',monospace\"><span style=\"color: #008080; text-decoration-color: #008080; font-weight: bold\">[+] Getting repo: </span><span style=\"color: #008080; text-decoration-color: #008080; font-weight: bold; text-decoration: underline\">https://github.com/commandeer/open</span>\n",
       "</pre>\n"
      ],
      "text/plain": [
       "\u001b[1;36m[\u001b[0m\u001b[1;36m+\u001b[0m\u001b[1;36m]\u001b[0m\u001b[1;36m Getting repo: \u001b[0m\u001b[1;4;36mhttps://github.com/commandeer/open\u001b[0m\n"
      ]
     },
     "metadata": {},
     "output_type": "display_data"
    },
    {
     "data": {
      "text/html": [
       "<pre style=\"white-space:pre;overflow-x:auto;line-height:normal;font-family:Menlo,'DejaVu Sans Mono',consolas,'Courier New',monospace\"><span style=\"color: #008080; text-decoration-color: #008080; font-weight: bold\">[+] Successfully retrieved repo: </span><span style=\"color: #008080; text-decoration-color: #008080; font-weight: bold; text-decoration: underline\">https://github.com/commandeer/open</span>\n",
       "</pre>\n"
      ],
      "text/plain": [
       "\u001b[1;36m[\u001b[0m\u001b[1;36m+\u001b[0m\u001b[1;36m]\u001b[0m\u001b[1;36m Successfully retrieved repo: \u001b[0m\u001b[1;4;36mhttps://github.com/commandeer/open\u001b[0m\n"
      ]
     },
     "metadata": {},
     "output_type": "display_data"
    },
    {
     "data": {
      "text/html": [
       "<pre style=\"white-space:pre;overflow-x:auto;line-height:normal;font-family:Menlo,'DejaVu Sans Mono',consolas,'Courier New',monospace\"><span style=\"color: #008080; text-decoration-color: #008080; font-weight: bold\">[+] Found package.json at </span><span style=\"color: #008080; text-decoration-color: #008080; font-weight: bold; text-decoration: underline\">https://github.com/commandeer/open</span>\n",
       "</pre>\n"
      ],
      "text/plain": [
       "\u001b[1;36m[\u001b[0m\u001b[1;36m+\u001b[0m\u001b[1;36m]\u001b[0m\u001b[1;36m Found package.json at \u001b[0m\u001b[1;4;36mhttps://github.com/commandeer/open\u001b[0m\n"
      ]
     },
     "metadata": {},
     "output_type": "display_data"
    },
    {
     "data": {
      "text/html": [
       "<pre style=\"white-space:pre;overflow-x:auto;line-height:normal;font-family:Menlo,'DejaVu Sans Mono',consolas,'Courier New',monospace\"><span style=\"color: #008080; text-decoration-color: #008080; font-weight: bold\">[+] Getting </span><span style=\"color: #008080; text-decoration-color: #008080; font-weight: bold; text-decoration: underline\">https://github.com/commandeer/open/blob/development/package.json</span>\n",
       "</pre>\n"
      ],
      "text/plain": [
       "\u001b[1;36m[\u001b[0m\u001b[1;36m+\u001b[0m\u001b[1;36m]\u001b[0m\u001b[1;36m Getting \u001b[0m\u001b[1;4;36mhttps://github.com/commandeer/open/blob/development/package.json\u001b[0m\n"
      ]
     },
     "metadata": {},
     "output_type": "display_data"
    },
    {
     "data": {
      "text/html": [
       "<pre style=\"white-space:pre;overflow-x:auto;line-height:normal;font-family:Menlo,'DejaVu Sans Mono',consolas,'Courier New',monospace\"><span style=\"color: #008080; text-decoration-color: #008080; font-weight: bold\">[+] Getting repo: </span><span style=\"color: #008080; text-decoration-color: #008080; font-weight: bold; text-decoration: underline\">https://github.com/cozy-labs/cozy-desktop</span>\n",
       "</pre>\n"
      ],
      "text/plain": [
       "\u001b[1;36m[\u001b[0m\u001b[1;36m+\u001b[0m\u001b[1;36m]\u001b[0m\u001b[1;36m Getting repo: \u001b[0m\u001b[1;4;36mhttps://github.com/cozy-labs/cozy-desktop\u001b[0m\n"
      ]
     },
     "metadata": {},
     "output_type": "display_data"
    },
    {
     "data": {
      "text/html": [
       "<pre style=\"white-space:pre;overflow-x:auto;line-height:normal;font-family:Menlo,'DejaVu Sans Mono',consolas,'Courier New',monospace\"><span style=\"color: #008080; text-decoration-color: #008080; font-weight: bold\">[+] Successfully retrieved repo: </span><span style=\"color: #008080; text-decoration-color: #008080; font-weight: bold; text-decoration: underline\">https://github.com/cozy-labs/cozy-desktop</span>\n",
       "</pre>\n"
      ],
      "text/plain": [
       "\u001b[1;36m[\u001b[0m\u001b[1;36m+\u001b[0m\u001b[1;36m]\u001b[0m\u001b[1;36m Successfully retrieved repo: \u001b[0m\u001b[1;4;36mhttps://github.com/cozy-labs/cozy-desktop\u001b[0m\n"
      ]
     },
     "metadata": {},
     "output_type": "display_data"
    },
    {
     "data": {
      "text/html": [
       "<pre style=\"white-space:pre;overflow-x:auto;line-height:normal;font-family:Menlo,'DejaVu Sans Mono',consolas,'Courier New',monospace\"><span style=\"color: #008080; text-decoration-color: #008080; font-weight: bold\">[+] Found package.json at </span><span style=\"color: #008080; text-decoration-color: #008080; font-weight: bold; text-decoration: underline\">https://github.com/cozy-labs/cozy-desktop</span>\n",
       "</pre>\n"
      ],
      "text/plain": [
       "\u001b[1;36m[\u001b[0m\u001b[1;36m+\u001b[0m\u001b[1;36m]\u001b[0m\u001b[1;36m Found package.json at \u001b[0m\u001b[1;4;36mhttps://github.com/cozy-labs/cozy-desktop\u001b[0m\n"
      ]
     },
     "metadata": {},
     "output_type": "display_data"
    },
    {
     "data": {
      "text/html": [
       "<pre style=\"white-space:pre;overflow-x:auto;line-height:normal;font-family:Menlo,'DejaVu Sans Mono',consolas,'Courier New',monospace\"><span style=\"color: #008080; text-decoration-color: #008080; font-weight: bold\">[+] Getting </span><span style=\"color: #008080; text-decoration-color: #008080; font-weight: bold; text-decoration: underline\">https://github.com/cozy-labs/cozy-desktop/blob/master/package.json</span>\n",
       "</pre>\n"
      ],
      "text/plain": [
       "\u001b[1;36m[\u001b[0m\u001b[1;36m+\u001b[0m\u001b[1;36m]\u001b[0m\u001b[1;36m Getting \u001b[0m\u001b[1;4;36mhttps://github.com/cozy-labs/cozy-desktop/blob/master/package.json\u001b[0m\n"
      ]
     },
     "metadata": {},
     "output_type": "display_data"
    },
    {
     "data": {
      "text/html": [
       "<pre style=\"white-space:pre;overflow-x:auto;line-height:normal;font-family:Menlo,'DejaVu Sans Mono',consolas,'Courier New',monospace\"><span style=\"color: #008080; text-decoration-color: #008080; font-weight: bold\">[+] Getting repo: </span><span style=\"color: #008080; text-decoration-color: #008080; font-weight: bold; text-decoration: underline\">https://github.com/TrustedRu/CryptoARMGOST</span>\n",
       "</pre>\n"
      ],
      "text/plain": [
       "\u001b[1;36m[\u001b[0m\u001b[1;36m+\u001b[0m\u001b[1;36m]\u001b[0m\u001b[1;36m Getting repo: \u001b[0m\u001b[1;4;36mhttps://github.com/TrustedRu/CryptoARMGOST\u001b[0m\n"
      ]
     },
     "metadata": {},
     "output_type": "display_data"
    },
    {
     "data": {
      "text/html": [
       "<pre style=\"white-space:pre;overflow-x:auto;line-height:normal;font-family:Menlo,'DejaVu Sans Mono',consolas,'Courier New',monospace\"><span style=\"color: #008080; text-decoration-color: #008080; font-weight: bold\">[+] Successfully retrieved repo: </span><span style=\"color: #008080; text-decoration-color: #008080; font-weight: bold; text-decoration: underline\">https://github.com/TrustedRu/CryptoARMGOST</span>\n",
       "</pre>\n"
      ],
      "text/plain": [
       "\u001b[1;36m[\u001b[0m\u001b[1;36m+\u001b[0m\u001b[1;36m]\u001b[0m\u001b[1;36m Successfully retrieved repo: \u001b[0m\u001b[1;4;36mhttps://github.com/TrustedRu/CryptoARMGOST\u001b[0m\n"
      ]
     },
     "metadata": {},
     "output_type": "display_data"
    },
    {
     "data": {
      "text/html": [
       "<pre style=\"white-space:pre;overflow-x:auto;line-height:normal;font-family:Menlo,'DejaVu Sans Mono',consolas,'Courier New',monospace\"><span style=\"color: #008080; text-decoration-color: #008080; font-weight: bold\">[+] Found package.json at </span><span style=\"color: #008080; text-decoration-color: #008080; font-weight: bold; text-decoration: underline\">https://github.com/TrustedRu/CryptoARMGOST</span>\n",
       "</pre>\n"
      ],
      "text/plain": [
       "\u001b[1;36m[\u001b[0m\u001b[1;36m+\u001b[0m\u001b[1;36m]\u001b[0m\u001b[1;36m Found package.json at \u001b[0m\u001b[1;4;36mhttps://github.com/TrustedRu/CryptoARMGOST\u001b[0m\n"
      ]
     },
     "metadata": {},
     "output_type": "display_data"
    },
    {
     "data": {
      "text/html": [
       "<pre style=\"white-space:pre;overflow-x:auto;line-height:normal;font-family:Menlo,'DejaVu Sans Mono',consolas,'Courier New',monospace\"><span style=\"color: #008080; text-decoration-color: #008080; font-weight: bold\">[+] Getting </span><span style=\"color: #008080; text-decoration-color: #008080; font-weight: bold; text-decoration: underline\">https://github.com/CryptoARM/CryptoARMGOST/blob/master/package.json</span>\n",
       "</pre>\n"
      ],
      "text/plain": [
       "\u001b[1;36m[\u001b[0m\u001b[1;36m+\u001b[0m\u001b[1;36m]\u001b[0m\u001b[1;36m Getting \u001b[0m\u001b[1;4;36mhttps://github.com/CryptoARM/CryptoARMGOST/blob/master/package.json\u001b[0m\n"
      ]
     },
     "metadata": {},
     "output_type": "display_data"
    },
    {
     "data": {
      "text/html": [
       "<pre style=\"white-space:pre;overflow-x:auto;line-height:normal;font-family:Menlo,'DejaVu Sans Mono',consolas,'Courier New',monospace\"><span style=\"color: #008080; text-decoration-color: #008080; font-weight: bold\">[+] Getting repo: </span><span style=\"color: #008080; text-decoration-color: #008080; font-weight: bold; text-decoration: underline\">https://github.com/caesiumstudio/csBooks-updates.git</span>\n",
       "</pre>\n"
      ],
      "text/plain": [
       "\u001b[1;36m[\u001b[0m\u001b[1;36m+\u001b[0m\u001b[1;36m]\u001b[0m\u001b[1;36m Getting repo: \u001b[0m\u001b[1;4;36mhttps://github.com/caesiumstudio/csBooks-updates.git\u001b[0m\n"
      ]
     },
     "metadata": {},
     "output_type": "display_data"
    },
    {
     "data": {
      "text/html": [
       "<pre style=\"white-space:pre;overflow-x:auto;line-height:normal;font-family:Menlo,'DejaVu Sans Mono',consolas,'Courier New',monospace\"><span style=\"color: #008080; text-decoration-color: #008080; font-weight: bold\">[+] Successfully retrieved repo: </span><span style=\"color: #008080; text-decoration-color: #008080; font-weight: bold; text-decoration: underline\">https://github.com/caesiumstudio/csBooks-updates.git</span>\n",
       "</pre>\n"
      ],
      "text/plain": [
       "\u001b[1;36m[\u001b[0m\u001b[1;36m+\u001b[0m\u001b[1;36m]\u001b[0m\u001b[1;36m Successfully retrieved repo: \u001b[0m\u001b[1;4;36mhttps://github.com/caesiumstudio/csBooks-updates.git\u001b[0m\n"
      ]
     },
     "metadata": {},
     "output_type": "display_data"
    },
    {
     "data": {
      "text/html": [
       "<pre style=\"white-space:pre;overflow-x:auto;line-height:normal;font-family:Menlo,'DejaVu Sans Mono',consolas,'Courier New',monospace\"><span style=\"color: #ff5f00; text-decoration-color: #ff5f00; font-weight: bold\">[!] Package.json not found at root of </span><span style=\"color: #ff5f00; text-decoration-color: #ff5f00; font-weight: bold; text-decoration: underline\">https://github.com/caesiumstudio/csBooks-updates.git;</span><span style=\"color: #ff5f00; text-decoration-color: #ff5f00; font-weight: bold\"> trying directories</span>\n",
       "</pre>\n"
      ],
      "text/plain": [
       "\u001b[1;38;5;202m[\u001b[0m\u001b[1;38;5;202m!\u001b[0m\u001b[1;38;5;202m]\u001b[0m\u001b[1;38;5;202m Package.json not found at root of \u001b[0m\u001b[1;4;38;5;202mhttps://github.com/caesiumstudio/csBooks-updates.git;\u001b[0m\u001b[1;38;5;202m trying directories\u001b[0m\n"
      ]
     },
     "metadata": {},
     "output_type": "display_data"
    },
    {
     "data": {
      "text/html": [
       "<pre style=\"white-space:pre;overflow-x:auto;line-height:normal;font-family:Menlo,'DejaVu Sans Mono',consolas,'Courier New',monospace\"><span style=\"color: #008080; text-decoration-color: #008080; font-weight: bold\">[+] Trying </span><span style=\"color: #008080; text-decoration-color: #008080; font-weight: bold; text-decoration: underline\">https://github.com/caesiumstudio/csBooks-updates/tree/master/.github</span>\n",
       "</pre>\n"
      ],
      "text/plain": [
       "\u001b[1;36m[\u001b[0m\u001b[1;36m+\u001b[0m\u001b[1;36m]\u001b[0m\u001b[1;36m Trying \u001b[0m\u001b[1;4;36mhttps://github.com/caesiumstudio/csBooks-updates/tree/master/.github\u001b[0m\n"
      ]
     },
     "metadata": {},
     "output_type": "display_data"
    },
    {
     "data": {
      "text/html": [
       "<pre style=\"white-space:pre;overflow-x:auto;line-height:normal;font-family:Menlo,'DejaVu Sans Mono',consolas,'Courier New',monospace\"><span style=\"color: #008080; text-decoration-color: #008080; font-weight: bold\">[+] Trying </span><span style=\"color: #008080; text-decoration-color: #008080; font-weight: bold; text-decoration: underline\">https://github.com/caesiumstudio/csBooks-updates/tree/master/assets</span>\n",
       "</pre>\n"
      ],
      "text/plain": [
       "\u001b[1;36m[\u001b[0m\u001b[1;36m+\u001b[0m\u001b[1;36m]\u001b[0m\u001b[1;36m Trying \u001b[0m\u001b[1;4;36mhttps://github.com/caesiumstudio/csBooks-updates/tree/master/assets\u001b[0m\n"
      ]
     },
     "metadata": {},
     "output_type": "display_data"
    },
    {
     "data": {
      "text/html": [
       "<pre style=\"white-space:pre;overflow-x:auto;line-height:normal;font-family:Menlo,'DejaVu Sans Mono',consolas,'Courier New',monospace\"><span style=\"color: #800000; text-decoration-color: #800000; font-weight: bold\">[💀] Could not find package.json in first-level-subdirs</span>\n",
       "</pre>\n"
      ],
      "text/plain": [
       "\u001b[1;31m[\u001b[0m\u001b[1;31m💀\u001b[0m\u001b[1;31m]\u001b[0m\u001b[1;31m Could not find package.json in first-level-subdirs\u001b[0m\n"
      ]
     },
     "metadata": {},
     "output_type": "display_data"
    },
    {
     "data": {
      "text/html": [
       "<pre style=\"white-space:pre;overflow-x:auto;line-height:normal;font-family:Menlo,'DejaVu Sans Mono',consolas,'Courier New',monospace\"><span style=\"color: #008080; text-decoration-color: #008080; font-weight: bold\">[+] Getting repo: </span><span style=\"color: #008080; text-decoration-color: #008080; font-weight: bold; text-decoration: underline\">https://github.com/datproject/dat-desktop</span>\n",
       "</pre>\n"
      ],
      "text/plain": [
       "\u001b[1;36m[\u001b[0m\u001b[1;36m+\u001b[0m\u001b[1;36m]\u001b[0m\u001b[1;36m Getting repo: \u001b[0m\u001b[1;4;36mhttps://github.com/datproject/dat-desktop\u001b[0m\n"
      ]
     },
     "metadata": {},
     "output_type": "display_data"
    },
    {
     "data": {
      "text/html": [
       "<pre style=\"white-space:pre;overflow-x:auto;line-height:normal;font-family:Menlo,'DejaVu Sans Mono',consolas,'Courier New',monospace\"><span style=\"color: #008080; text-decoration-color: #008080; font-weight: bold\">[+] Successfully retrieved repo: </span><span style=\"color: #008080; text-decoration-color: #008080; font-weight: bold; text-decoration: underline\">https://github.com/datproject/dat-desktop</span>\n",
       "</pre>\n"
      ],
      "text/plain": [
       "\u001b[1;36m[\u001b[0m\u001b[1;36m+\u001b[0m\u001b[1;36m]\u001b[0m\u001b[1;36m Successfully retrieved repo: \u001b[0m\u001b[1;4;36mhttps://github.com/datproject/dat-desktop\u001b[0m\n"
      ]
     },
     "metadata": {},
     "output_type": "display_data"
    },
    {
     "data": {
      "text/html": [
       "<pre style=\"white-space:pre;overflow-x:auto;line-height:normal;font-family:Menlo,'DejaVu Sans Mono',consolas,'Courier New',monospace\"><span style=\"color: #008080; text-decoration-color: #008080; font-weight: bold\">[+] Found package.json at </span><span style=\"color: #008080; text-decoration-color: #008080; font-weight: bold; text-decoration: underline\">https://github.com/datproject/dat-desktop</span>\n",
       "</pre>\n"
      ],
      "text/plain": [
       "\u001b[1;36m[\u001b[0m\u001b[1;36m+\u001b[0m\u001b[1;36m]\u001b[0m\u001b[1;36m Found package.json at \u001b[0m\u001b[1;4;36mhttps://github.com/datproject/dat-desktop\u001b[0m\n"
      ]
     },
     "metadata": {},
     "output_type": "display_data"
    },
    {
     "data": {
      "text/html": [
       "<pre style=\"white-space:pre;overflow-x:auto;line-height:normal;font-family:Menlo,'DejaVu Sans Mono',consolas,'Courier New',monospace\"><span style=\"color: #008080; text-decoration-color: #008080; font-weight: bold\">[+] Getting </span><span style=\"color: #008080; text-decoration-color: #008080; font-weight: bold; text-decoration: underline\">https://github.com/dat-ecosystem-archive/dat-desktop/blob/master/package.json</span>\n",
       "</pre>\n"
      ],
      "text/plain": [
       "\u001b[1;36m[\u001b[0m\u001b[1;36m+\u001b[0m\u001b[1;36m]\u001b[0m\u001b[1;36m Getting \u001b[0m\u001b[1;4;36mhttps://github.com/dat-ecosystem-archive/dat-desktop/blob/master/package.json\u001b[0m\n"
      ]
     },
     "metadata": {},
     "output_type": "display_data"
    },
    {
     "data": {
      "text/html": [
       "<pre style=\"white-space:pre;overflow-x:auto;line-height:normal;font-family:Menlo,'DejaVu Sans Mono',consolas,'Courier New',monospace\"><span style=\"color: #008080; text-decoration-color: #008080; font-weight: bold\">[+] Getting repo: </span><span style=\"color: #008080; text-decoration-color: #008080; font-weight: bold; text-decoration: underline\">https://github.com/felipeleivav/dbcloner-app</span>\n",
       "</pre>\n"
      ],
      "text/plain": [
       "\u001b[1;36m[\u001b[0m\u001b[1;36m+\u001b[0m\u001b[1;36m]\u001b[0m\u001b[1;36m Getting repo: \u001b[0m\u001b[1;4;36mhttps://github.com/felipeleivav/dbcloner-app\u001b[0m\n"
      ]
     },
     "metadata": {},
     "output_type": "display_data"
    },
    {
     "data": {
      "text/html": [
       "<pre style=\"white-space:pre;overflow-x:auto;line-height:normal;font-family:Menlo,'DejaVu Sans Mono',consolas,'Courier New',monospace\"><span style=\"color: #008080; text-decoration-color: #008080; font-weight: bold\">[+] Successfully retrieved repo: </span><span style=\"color: #008080; text-decoration-color: #008080; font-weight: bold; text-decoration: underline\">https://github.com/felipeleivav/dbcloner-app</span>\n",
       "</pre>\n"
      ],
      "text/plain": [
       "\u001b[1;36m[\u001b[0m\u001b[1;36m+\u001b[0m\u001b[1;36m]\u001b[0m\u001b[1;36m Successfully retrieved repo: \u001b[0m\u001b[1;4;36mhttps://github.com/felipeleivav/dbcloner-app\u001b[0m\n"
      ]
     },
     "metadata": {},
     "output_type": "display_data"
    },
    {
     "data": {
      "text/html": [
       "<pre style=\"white-space:pre;overflow-x:auto;line-height:normal;font-family:Menlo,'DejaVu Sans Mono',consolas,'Courier New',monospace\"><span style=\"color: #ff5f00; text-decoration-color: #ff5f00; font-weight: bold\">[!] Package.json not found at root of </span><span style=\"color: #ff5f00; text-decoration-color: #ff5f00; font-weight: bold; text-decoration: underline\">https://github.com/felipeleivav/dbcloner-app;</span><span style=\"color: #ff5f00; text-decoration-color: #ff5f00; font-weight: bold\"> trying directories</span>\n",
       "</pre>\n"
      ],
      "text/plain": [
       "\u001b[1;38;5;202m[\u001b[0m\u001b[1;38;5;202m!\u001b[0m\u001b[1;38;5;202m]\u001b[0m\u001b[1;38;5;202m Package.json not found at root of \u001b[0m\u001b[1;4;38;5;202mhttps://github.com/felipeleivav/dbcloner-app;\u001b[0m\u001b[1;38;5;202m trying directories\u001b[0m\n"
      ]
     },
     "metadata": {},
     "output_type": "display_data"
    },
    {
     "data": {
      "text/html": [
       "<pre style=\"white-space:pre;overflow-x:auto;line-height:normal;font-family:Menlo,'DejaVu Sans Mono',consolas,'Courier New',monospace\"><span style=\"color: #008080; text-decoration-color: #008080; font-weight: bold\">[+] Trying </span><span style=\"color: #008080; text-decoration-color: #008080; font-weight: bold; text-decoration: underline\">https://github.com/felipeleivav/dbcloner-app/tree/main/assets</span>\n",
       "</pre>\n"
      ],
      "text/plain": [
       "\u001b[1;36m[\u001b[0m\u001b[1;36m+\u001b[0m\u001b[1;36m]\u001b[0m\u001b[1;36m Trying \u001b[0m\u001b[1;4;36mhttps://github.com/felipeleivav/dbcloner-app/tree/main/assets\u001b[0m\n"
      ]
     },
     "metadata": {},
     "output_type": "display_data"
    },
    {
     "data": {
      "text/html": [
       "<pre style=\"white-space:pre;overflow-x:auto;line-height:normal;font-family:Menlo,'DejaVu Sans Mono',consolas,'Courier New',monospace\"><span style=\"color: #800000; text-decoration-color: #800000; font-weight: bold\">[💀] Could not find package.json in first-level-subdirs</span>\n",
       "</pre>\n"
      ],
      "text/plain": [
       "\u001b[1;31m[\u001b[0m\u001b[1;31m💀\u001b[0m\u001b[1;31m]\u001b[0m\u001b[1;31m Could not find package.json in first-level-subdirs\u001b[0m\n"
      ]
     },
     "metadata": {},
     "output_type": "display_data"
    },
    {
     "data": {
      "text/html": [
       "<pre style=\"white-space:pre;overflow-x:auto;line-height:normal;font-family:Menlo,'DejaVu Sans Mono',consolas,'Courier New',monospace\"><span style=\"color: #008080; text-decoration-color: #008080; font-weight: bold\">[+] Getting repo: </span><span style=\"color: #008080; text-decoration-color: #008080; font-weight: bold; text-decoration: underline\">https://github.com/dbgate/dbgate</span>\n",
       "</pre>\n"
      ],
      "text/plain": [
       "\u001b[1;36m[\u001b[0m\u001b[1;36m+\u001b[0m\u001b[1;36m]\u001b[0m\u001b[1;36m Getting repo: \u001b[0m\u001b[1;4;36mhttps://github.com/dbgate/dbgate\u001b[0m\n"
      ]
     },
     "metadata": {},
     "output_type": "display_data"
    },
    {
     "data": {
      "text/html": [
       "<pre style=\"white-space:pre;overflow-x:auto;line-height:normal;font-family:Menlo,'DejaVu Sans Mono',consolas,'Courier New',monospace\"><span style=\"color: #008080; text-decoration-color: #008080; font-weight: bold\">[+] Successfully retrieved repo: </span><span style=\"color: #008080; text-decoration-color: #008080; font-weight: bold; text-decoration: underline\">https://github.com/dbgate/dbgate</span>\n",
       "</pre>\n"
      ],
      "text/plain": [
       "\u001b[1;36m[\u001b[0m\u001b[1;36m+\u001b[0m\u001b[1;36m]\u001b[0m\u001b[1;36m Successfully retrieved repo: \u001b[0m\u001b[1;4;36mhttps://github.com/dbgate/dbgate\u001b[0m\n"
      ]
     },
     "metadata": {},
     "output_type": "display_data"
    },
    {
     "data": {
      "text/html": [
       "<pre style=\"white-space:pre;overflow-x:auto;line-height:normal;font-family:Menlo,'DejaVu Sans Mono',consolas,'Courier New',monospace\"><span style=\"color: #008080; text-decoration-color: #008080; font-weight: bold\">[+] Found package.json at </span><span style=\"color: #008080; text-decoration-color: #008080; font-weight: bold; text-decoration: underline\">https://github.com/dbgate/dbgate</span>\n",
       "</pre>\n"
      ],
      "text/plain": [
       "\u001b[1;36m[\u001b[0m\u001b[1;36m+\u001b[0m\u001b[1;36m]\u001b[0m\u001b[1;36m Found package.json at \u001b[0m\u001b[1;4;36mhttps://github.com/dbgate/dbgate\u001b[0m\n"
      ]
     },
     "metadata": {},
     "output_type": "display_data"
    },
    {
     "data": {
      "text/html": [
       "<pre style=\"white-space:pre;overflow-x:auto;line-height:normal;font-family:Menlo,'DejaVu Sans Mono',consolas,'Courier New',monospace\"><span style=\"color: #008080; text-decoration-color: #008080; font-weight: bold\">[+] Getting </span><span style=\"color: #008080; text-decoration-color: #008080; font-weight: bold; text-decoration: underline\">https://github.com/dbgate/dbgate/blob/master/package.json</span>\n",
       "</pre>\n"
      ],
      "text/plain": [
       "\u001b[1;36m[\u001b[0m\u001b[1;36m+\u001b[0m\u001b[1;36m]\u001b[0m\u001b[1;36m Getting \u001b[0m\u001b[1;4;36mhttps://github.com/dbgate/dbgate/blob/master/package.json\u001b[0m\n"
      ]
     },
     "metadata": {},
     "output_type": "display_data"
    },
    {
     "data": {
      "text/html": [
       "<pre style=\"white-space:pre;overflow-x:auto;line-height:normal;font-family:Menlo,'DejaVu Sans Mono',consolas,'Courier New',monospace\"><span style=\"color: #008080; text-decoration-color: #008080; font-weight: bold\">[+] Getting repo: </span><span style=\"color: #008080; text-decoration-color: #008080; font-weight: bold; text-decoration: underline\">https://github.com/web-pal/DBGlass</span>\n",
       "</pre>\n"
      ],
      "text/plain": [
       "\u001b[1;36m[\u001b[0m\u001b[1;36m+\u001b[0m\u001b[1;36m]\u001b[0m\u001b[1;36m Getting repo: \u001b[0m\u001b[1;4;36mhttps://github.com/web-pal/DBGlass\u001b[0m\n"
      ]
     },
     "metadata": {},
     "output_type": "display_data"
    },
    {
     "data": {
      "text/html": [
       "<pre style=\"white-space:pre;overflow-x:auto;line-height:normal;font-family:Menlo,'DejaVu Sans Mono',consolas,'Courier New',monospace\"><span style=\"color: #008080; text-decoration-color: #008080; font-weight: bold\">[+] Successfully retrieved repo: </span><span style=\"color: #008080; text-decoration-color: #008080; font-weight: bold; text-decoration: underline\">https://github.com/web-pal/DBGlass</span>\n",
       "</pre>\n"
      ],
      "text/plain": [
       "\u001b[1;36m[\u001b[0m\u001b[1;36m+\u001b[0m\u001b[1;36m]\u001b[0m\u001b[1;36m Successfully retrieved repo: \u001b[0m\u001b[1;4;36mhttps://github.com/web-pal/DBGlass\u001b[0m\n"
      ]
     },
     "metadata": {},
     "output_type": "display_data"
    },
    {
     "data": {
      "text/html": [
       "<pre style=\"white-space:pre;overflow-x:auto;line-height:normal;font-family:Menlo,'DejaVu Sans Mono',consolas,'Courier New',monospace\"><span style=\"color: #008080; text-decoration-color: #008080; font-weight: bold\">[+] Found package.json at </span><span style=\"color: #008080; text-decoration-color: #008080; font-weight: bold; text-decoration: underline\">https://github.com/web-pal/DBGlass</span>\n",
       "</pre>\n"
      ],
      "text/plain": [
       "\u001b[1;36m[\u001b[0m\u001b[1;36m+\u001b[0m\u001b[1;36m]\u001b[0m\u001b[1;36m Found package.json at \u001b[0m\u001b[1;4;36mhttps://github.com/web-pal/DBGlass\u001b[0m\n"
      ]
     },
     "metadata": {},
     "output_type": "display_data"
    },
    {
     "data": {
      "text/html": [
       "<pre style=\"white-space:pre;overflow-x:auto;line-height:normal;font-family:Menlo,'DejaVu Sans Mono',consolas,'Courier New',monospace\"><span style=\"color: #008080; text-decoration-color: #008080; font-weight: bold\">[+] Getting </span><span style=\"color: #008080; text-decoration-color: #008080; font-weight: bold; text-decoration: underline\">https://github.com/web-pal/DBGlass/blob/master/package.json</span>\n",
       "</pre>\n"
      ],
      "text/plain": [
       "\u001b[1;36m[\u001b[0m\u001b[1;36m+\u001b[0m\u001b[1;36m]\u001b[0m\u001b[1;36m Getting \u001b[0m\u001b[1;4;36mhttps://github.com/web-pal/DBGlass/blob/master/package.json\u001b[0m\n"
      ]
     },
     "metadata": {},
     "output_type": "display_data"
    },
    {
     "data": {
      "text/html": [
       "<pre style=\"white-space:pre;overflow-x:auto;line-height:normal;font-family:Menlo,'DejaVu Sans Mono',consolas,'Courier New',monospace\"><span style=\"color: #008080; text-decoration-color: #008080; font-weight: bold\">[+] Getting repo: </span><span style=\"color: #008080; text-decoration-color: #008080; font-weight: bold; text-decoration: underline\">https://github.com/sfx101/docker-stacks</span>\n",
       "</pre>\n"
      ],
      "text/plain": [
       "\u001b[1;36m[\u001b[0m\u001b[1;36m+\u001b[0m\u001b[1;36m]\u001b[0m\u001b[1;36m Getting repo: \u001b[0m\u001b[1;4;36mhttps://github.com/sfx101/docker-stacks\u001b[0m\n"
      ]
     },
     "metadata": {},
     "output_type": "display_data"
    },
    {
     "data": {
      "text/html": [
       "<pre style=\"white-space:pre;overflow-x:auto;line-height:normal;font-family:Menlo,'DejaVu Sans Mono',consolas,'Courier New',monospace\"><span style=\"color: #008080; text-decoration-color: #008080; font-weight: bold\">[+] Successfully retrieved repo: </span><span style=\"color: #008080; text-decoration-color: #008080; font-weight: bold; text-decoration: underline\">https://github.com/sfx101/docker-stacks</span>\n",
       "</pre>\n"
      ],
      "text/plain": [
       "\u001b[1;36m[\u001b[0m\u001b[1;36m+\u001b[0m\u001b[1;36m]\u001b[0m\u001b[1;36m Successfully retrieved repo: \u001b[0m\u001b[1;4;36mhttps://github.com/sfx101/docker-stacks\u001b[0m\n"
      ]
     },
     "metadata": {},
     "output_type": "display_data"
    },
    {
     "data": {
      "text/html": [
       "<pre style=\"white-space:pre;overflow-x:auto;line-height:normal;font-family:Menlo,'DejaVu Sans Mono',consolas,'Courier New',monospace\"><span style=\"color: #008080; text-decoration-color: #008080; font-weight: bold\">[+] Found package.json at </span><span style=\"color: #008080; text-decoration-color: #008080; font-weight: bold; text-decoration: underline\">https://github.com/sfx101/docker-stacks</span>\n",
       "</pre>\n"
      ],
      "text/plain": [
       "\u001b[1;36m[\u001b[0m\u001b[1;36m+\u001b[0m\u001b[1;36m]\u001b[0m\u001b[1;36m Found package.json at \u001b[0m\u001b[1;4;36mhttps://github.com/sfx101/docker-stacks\u001b[0m\n"
      ]
     },
     "metadata": {},
     "output_type": "display_data"
    },
    {
     "data": {
      "text/html": [
       "<pre style=\"white-space:pre;overflow-x:auto;line-height:normal;font-family:Menlo,'DejaVu Sans Mono',consolas,'Courier New',monospace\"><span style=\"color: #008080; text-decoration-color: #008080; font-weight: bold\">[+] Getting </span><span style=\"color: #008080; text-decoration-color: #008080; font-weight: bold; text-decoration: underline\">https://github.com/sfx101/deck/blob/master/package.json</span>\n",
       "</pre>\n"
      ],
      "text/plain": [
       "\u001b[1;36m[\u001b[0m\u001b[1;36m+\u001b[0m\u001b[1;36m]\u001b[0m\u001b[1;36m Getting \u001b[0m\u001b[1;4;36mhttps://github.com/sfx101/deck/blob/master/package.json\u001b[0m\n"
      ]
     },
     "metadata": {},
     "output_type": "display_data"
    },
    {
     "data": {
      "text/html": [
       "<pre style=\"white-space:pre;overflow-x:auto;line-height:normal;font-family:Menlo,'DejaVu Sans Mono',consolas,'Courier New',monospace\"><span style=\"color: #008080; text-decoration-color: #008080; font-weight: bold\">[+] Getting repo: </span><span style=\"color: #008080; text-decoration-color: #008080; font-weight: bold; text-decoration: underline\">https://github.com/rivafarabi/deckboard</span>\n",
       "</pre>\n"
      ],
      "text/plain": [
       "\u001b[1;36m[\u001b[0m\u001b[1;36m+\u001b[0m\u001b[1;36m]\u001b[0m\u001b[1;36m Getting repo: \u001b[0m\u001b[1;4;36mhttps://github.com/rivafarabi/deckboard\u001b[0m\n"
      ]
     },
     "metadata": {},
     "output_type": "display_data"
    },
    {
     "data": {
      "text/html": [
       "<pre style=\"white-space:pre;overflow-x:auto;line-height:normal;font-family:Menlo,'DejaVu Sans Mono',consolas,'Courier New',monospace\"><span style=\"color: #008080; text-decoration-color: #008080; font-weight: bold\">[+] Successfully retrieved repo: </span><span style=\"color: #008080; text-decoration-color: #008080; font-weight: bold; text-decoration: underline\">https://github.com/rivafarabi/deckboard</span>\n",
       "</pre>\n"
      ],
      "text/plain": [
       "\u001b[1;36m[\u001b[0m\u001b[1;36m+\u001b[0m\u001b[1;36m]\u001b[0m\u001b[1;36m Successfully retrieved repo: \u001b[0m\u001b[1;4;36mhttps://github.com/rivafarabi/deckboard\u001b[0m\n"
      ]
     },
     "metadata": {},
     "output_type": "display_data"
    },
    {
     "data": {
      "text/html": [
       "<pre style=\"white-space:pre;overflow-x:auto;line-height:normal;font-family:Menlo,'DejaVu Sans Mono',consolas,'Courier New',monospace\"><span style=\"color: #ff5f00; text-decoration-color: #ff5f00; font-weight: bold\">[!] Package.json not found at root of </span><span style=\"color: #ff5f00; text-decoration-color: #ff5f00; font-weight: bold; text-decoration: underline\">https://github.com/rivafarabi/deckboard;</span><span style=\"color: #ff5f00; text-decoration-color: #ff5f00; font-weight: bold\"> trying directories</span>\n",
       "</pre>\n"
      ],
      "text/plain": [
       "\u001b[1;38;5;202m[\u001b[0m\u001b[1;38;5;202m!\u001b[0m\u001b[1;38;5;202m]\u001b[0m\u001b[1;38;5;202m Package.json not found at root of \u001b[0m\u001b[1;4;38;5;202mhttps://github.com/rivafarabi/deckboard;\u001b[0m\u001b[1;38;5;202m trying directories\u001b[0m\n"
      ]
     },
     "metadata": {},
     "output_type": "display_data"
    },
    {
     "data": {
      "text/html": [
       "<pre style=\"white-space:pre;overflow-x:auto;line-height:normal;font-family:Menlo,'DejaVu Sans Mono',consolas,'Courier New',monospace\"><span style=\"color: #008080; text-decoration-color: #008080; font-weight: bold\">[+] Trying </span><span style=\"color: #008080; text-decoration-color: #008080; font-weight: bold; text-decoration: underline\">https://github.com/rivafarabi/deckboard/tree/master/.github</span>\n",
       "</pre>\n"
      ],
      "text/plain": [
       "\u001b[1;36m[\u001b[0m\u001b[1;36m+\u001b[0m\u001b[1;36m]\u001b[0m\u001b[1;36m Trying \u001b[0m\u001b[1;4;36mhttps://github.com/rivafarabi/deckboard/tree/master/.github\u001b[0m\n"
      ]
     },
     "metadata": {},
     "output_type": "display_data"
    },
    {
     "data": {
      "text/html": [
       "<pre style=\"white-space:pre;overflow-x:auto;line-height:normal;font-family:Menlo,'DejaVu Sans Mono',consolas,'Courier New',monospace\"><span style=\"color: #008080; text-decoration-color: #008080; font-weight: bold\">[+] Trying </span><span style=\"color: #008080; text-decoration-color: #008080; font-weight: bold; text-decoration: underline\">https://github.com/rivafarabi/deckboard/tree/master/media</span>\n",
       "</pre>\n"
      ],
      "text/plain": [
       "\u001b[1;36m[\u001b[0m\u001b[1;36m+\u001b[0m\u001b[1;36m]\u001b[0m\u001b[1;36m Trying \u001b[0m\u001b[1;4;36mhttps://github.com/rivafarabi/deckboard/tree/master/media\u001b[0m\n"
      ]
     },
     "metadata": {},
     "output_type": "display_data"
    },
    {
     "data": {
      "text/html": [
       "<pre style=\"white-space:pre;overflow-x:auto;line-height:normal;font-family:Menlo,'DejaVu Sans Mono',consolas,'Courier New',monospace\"><span style=\"color: #008080; text-decoration-color: #008080; font-weight: bold\">[+] Trying </span><span style=\"color: #008080; text-decoration-color: #008080; font-weight: bold; text-decoration: underline\">https://github.com/rivafarabi/deckboard/tree/master/static</span>\n",
       "</pre>\n"
      ],
      "text/plain": [
       "\u001b[1;36m[\u001b[0m\u001b[1;36m+\u001b[0m\u001b[1;36m]\u001b[0m\u001b[1;36m Trying \u001b[0m\u001b[1;4;36mhttps://github.com/rivafarabi/deckboard/tree/master/static\u001b[0m\n"
      ]
     },
     "metadata": {},
     "output_type": "display_data"
    },
    {
     "data": {
      "text/html": [
       "<pre style=\"white-space:pre;overflow-x:auto;line-height:normal;font-family:Menlo,'DejaVu Sans Mono',consolas,'Courier New',monospace\"><span style=\"color: #800000; text-decoration-color: #800000; font-weight: bold\">[💀] Could not find package.json in first-level-subdirs</span>\n",
       "</pre>\n"
      ],
      "text/plain": [
       "\u001b[1;31m[\u001b[0m\u001b[1;31m💀\u001b[0m\u001b[1;31m]\u001b[0m\u001b[1;31m Could not find package.json in first-level-subdirs\u001b[0m\n"
      ]
     },
     "metadata": {},
     "output_type": "display_data"
    },
    {
     "data": {
      "text/html": [
       "<pre style=\"white-space:pre;overflow-x:auto;line-height:normal;font-family:Menlo,'DejaVu Sans Mono',consolas,'Courier New',monospace\"><span style=\"color: #008080; text-decoration-color: #008080; font-weight: bold\">[+] Getting repo: </span><span style=\"color: #008080; text-decoration-color: #008080; font-weight: bold; text-decoration: underline\">https://github.com/TheOtterlord/deckmaster</span>\n",
       "</pre>\n"
      ],
      "text/plain": [
       "\u001b[1;36m[\u001b[0m\u001b[1;36m+\u001b[0m\u001b[1;36m]\u001b[0m\u001b[1;36m Getting repo: \u001b[0m\u001b[1;4;36mhttps://github.com/TheOtterlord/deckmaster\u001b[0m\n"
      ]
     },
     "metadata": {},
     "output_type": "display_data"
    },
    {
     "data": {
      "text/html": [
       "<pre style=\"white-space:pre;overflow-x:auto;line-height:normal;font-family:Menlo,'DejaVu Sans Mono',consolas,'Courier New',monospace\"><span style=\"color: #008080; text-decoration-color: #008080; font-weight: bold\">[+] Successfully retrieved repo: </span><span style=\"color: #008080; text-decoration-color: #008080; font-weight: bold; text-decoration: underline\">https://github.com/TheOtterlord/deckmaster</span>\n",
       "</pre>\n"
      ],
      "text/plain": [
       "\u001b[1;36m[\u001b[0m\u001b[1;36m+\u001b[0m\u001b[1;36m]\u001b[0m\u001b[1;36m Successfully retrieved repo: \u001b[0m\u001b[1;4;36mhttps://github.com/TheOtterlord/deckmaster\u001b[0m\n"
      ]
     },
     "metadata": {},
     "output_type": "display_data"
    },
    {
     "data": {
      "text/html": [
       "<pre style=\"white-space:pre;overflow-x:auto;line-height:normal;font-family:Menlo,'DejaVu Sans Mono',consolas,'Courier New',monospace\"><span style=\"color: #008080; text-decoration-color: #008080; font-weight: bold\">[+] Found package.json at </span><span style=\"color: #008080; text-decoration-color: #008080; font-weight: bold; text-decoration: underline\">https://github.com/TheOtterlord/deckmaster</span>\n",
       "</pre>\n"
      ],
      "text/plain": [
       "\u001b[1;36m[\u001b[0m\u001b[1;36m+\u001b[0m\u001b[1;36m]\u001b[0m\u001b[1;36m Found package.json at \u001b[0m\u001b[1;4;36mhttps://github.com/TheOtterlord/deckmaster\u001b[0m\n"
      ]
     },
     "metadata": {},
     "output_type": "display_data"
    },
    {
     "data": {
      "text/html": [
       "<pre style=\"white-space:pre;overflow-x:auto;line-height:normal;font-family:Menlo,'DejaVu Sans Mono',consolas,'Courier New',monospace\"><span style=\"color: #008080; text-decoration-color: #008080; font-weight: bold\">[+] Getting </span><span style=\"color: #008080; text-decoration-color: #008080; font-weight: bold; text-decoration: underline\">https://github.com/TheOtterlord/deckmaster/blob/main/package.json</span>\n",
       "</pre>\n"
      ],
      "text/plain": [
       "\u001b[1;36m[\u001b[0m\u001b[1;36m+\u001b[0m\u001b[1;36m]\u001b[0m\u001b[1;36m Getting \u001b[0m\u001b[1;4;36mhttps://github.com/TheOtterlord/deckmaster/blob/main/package.json\u001b[0m\n"
      ]
     },
     "metadata": {},
     "output_type": "display_data"
    },
    {
     "data": {
      "text/html": [
       "<pre style=\"white-space:pre;overflow-x:auto;line-height:normal;font-family:Menlo,'DejaVu Sans Mono',consolas,'Courier New',monospace\"><span style=\"color: #008080; text-decoration-color: #008080; font-weight: bold\">[+] Getting repo: </span><span style=\"color: #008080; text-decoration-color: #008080; font-weight: bold; text-decoration: underline\">https://github.com/decosoftware/deco-ide</span>\n",
       "</pre>\n"
      ],
      "text/plain": [
       "\u001b[1;36m[\u001b[0m\u001b[1;36m+\u001b[0m\u001b[1;36m]\u001b[0m\u001b[1;36m Getting repo: \u001b[0m\u001b[1;4;36mhttps://github.com/decosoftware/deco-ide\u001b[0m\n"
      ]
     },
     "metadata": {},
     "output_type": "display_data"
    },
    {
     "data": {
      "text/html": [
       "<pre style=\"white-space:pre;overflow-x:auto;line-height:normal;font-family:Menlo,'DejaVu Sans Mono',consolas,'Courier New',monospace\"><span style=\"color: #008080; text-decoration-color: #008080; font-weight: bold\">[+] Successfully retrieved repo: </span><span style=\"color: #008080; text-decoration-color: #008080; font-weight: bold; text-decoration: underline\">https://github.com/decosoftware/deco-ide</span>\n",
       "</pre>\n"
      ],
      "text/plain": [
       "\u001b[1;36m[\u001b[0m\u001b[1;36m+\u001b[0m\u001b[1;36m]\u001b[0m\u001b[1;36m Successfully retrieved repo: \u001b[0m\u001b[1;4;36mhttps://github.com/decosoftware/deco-ide\u001b[0m\n"
      ]
     },
     "metadata": {},
     "output_type": "display_data"
    },
    {
     "data": {
      "text/html": [
       "<pre style=\"white-space:pre;overflow-x:auto;line-height:normal;font-family:Menlo,'DejaVu Sans Mono',consolas,'Courier New',monospace\"><span style=\"color: #ff5f00; text-decoration-color: #ff5f00; font-weight: bold\">[!] Package.json not found at root of </span><span style=\"color: #ff5f00; text-decoration-color: #ff5f00; font-weight: bold; text-decoration: underline\">https://github.com/decosoftware/deco-ide;</span><span style=\"color: #ff5f00; text-decoration-color: #ff5f00; font-weight: bold\"> trying directories</span>\n",
       "</pre>\n"
      ],
      "text/plain": [
       "\u001b[1;38;5;202m[\u001b[0m\u001b[1;38;5;202m!\u001b[0m\u001b[1;38;5;202m]\u001b[0m\u001b[1;38;5;202m Package.json not found at root of \u001b[0m\u001b[1;4;38;5;202mhttps://github.com/decosoftware/deco-ide;\u001b[0m\u001b[1;38;5;202m trying directories\u001b[0m\n"
      ]
     },
     "metadata": {},
     "output_type": "display_data"
    },
    {
     "data": {
      "text/html": [
       "<pre style=\"white-space:pre;overflow-x:auto;line-height:normal;font-family:Menlo,'DejaVu Sans Mono',consolas,'Courier New',monospace\"><span style=\"color: #008080; text-decoration-color: #008080; font-weight: bold\">[+] Trying </span><span style=\"color: #008080; text-decoration-color: #008080; font-weight: bold; text-decoration: underline\">https://github.com/decosoftware/deco-ide/tree/master/build</span>\n",
       "</pre>\n"
      ],
      "text/plain": [
       "\u001b[1;36m[\u001b[0m\u001b[1;36m+\u001b[0m\u001b[1;36m]\u001b[0m\u001b[1;36m Trying \u001b[0m\u001b[1;4;36mhttps://github.com/decosoftware/deco-ide/tree/master/build\u001b[0m\n"
      ]
     },
     "metadata": {},
     "output_type": "display_data"
    },
    {
     "data": {
      "text/html": [
       "<pre style=\"white-space:pre;overflow-x:auto;line-height:normal;font-family:Menlo,'DejaVu Sans Mono',consolas,'Courier New',monospace\"><span style=\"color: #008080; text-decoration-color: #008080; font-weight: bold\">[+] Trying </span><span style=\"color: #008080; text-decoration-color: #008080; font-weight: bold; text-decoration: underline\">https://github.com/decosoftware/deco-ide/tree/master/desktop</span>\n",
       "</pre>\n"
      ],
      "text/plain": [
       "\u001b[1;36m[\u001b[0m\u001b[1;36m+\u001b[0m\u001b[1;36m]\u001b[0m\u001b[1;36m Trying \u001b[0m\u001b[1;4;36mhttps://github.com/decosoftware/deco-ide/tree/master/desktop\u001b[0m\n"
      ]
     },
     "metadata": {},
     "output_type": "display_data"
    },
    {
     "data": {
      "text/html": [
       "<pre style=\"white-space:pre;overflow-x:auto;line-height:normal;font-family:Menlo,'DejaVu Sans Mono',consolas,'Courier New',monospace\"><span style=\"color: #008080; text-decoration-color: #008080; font-weight: bold\">[+] Trying </span><span style=\"color: #008080; text-decoration-color: #008080; font-weight: bold; text-decoration: underline\">https://github.com/decosoftware/deco-ide/tree/master/shared</span>\n",
       "</pre>\n"
      ],
      "text/plain": [
       "\u001b[1;36m[\u001b[0m\u001b[1;36m+\u001b[0m\u001b[1;36m]\u001b[0m\u001b[1;36m Trying \u001b[0m\u001b[1;4;36mhttps://github.com/decosoftware/deco-ide/tree/master/shared\u001b[0m\n"
      ]
     },
     "metadata": {},
     "output_type": "display_data"
    },
    {
     "data": {
      "text/html": [
       "<pre style=\"white-space:pre;overflow-x:auto;line-height:normal;font-family:Menlo,'DejaVu Sans Mono',consolas,'Courier New',monospace\"><span style=\"color: #008080; text-decoration-color: #008080; font-weight: bold\">[+] Trying </span><span style=\"color: #008080; text-decoration-color: #008080; font-weight: bold; text-decoration: underline\">https://github.com/decosoftware/deco-ide/tree/master/web</span>\n",
       "</pre>\n"
      ],
      "text/plain": [
       "\u001b[1;36m[\u001b[0m\u001b[1;36m+\u001b[0m\u001b[1;36m]\u001b[0m\u001b[1;36m Trying \u001b[0m\u001b[1;4;36mhttps://github.com/decosoftware/deco-ide/tree/master/web\u001b[0m\n"
      ]
     },
     "metadata": {},
     "output_type": "display_data"
    },
    {
     "data": {
      "text/html": [
       "<pre style=\"white-space:pre;overflow-x:auto;line-height:normal;font-family:Menlo,'DejaVu Sans Mono',consolas,'Courier New',monospace\"><span style=\"color: #800000; text-decoration-color: #800000; font-weight: bold\">[💀] Could not find package.json in first-level-subdirs</span>\n",
       "</pre>\n"
      ],
      "text/plain": [
       "\u001b[1;31m[\u001b[0m\u001b[1;31m💀\u001b[0m\u001b[1;31m]\u001b[0m\u001b[1;31m Could not find package.json in first-level-subdirs\u001b[0m\n"
      ]
     },
     "metadata": {},
     "output_type": "display_data"
    },
    {
     "data": {
      "text/html": [
       "<pre style=\"white-space:pre;overflow-x:auto;line-height:normal;font-family:Menlo,'DejaVu Sans Mono',consolas,'Courier New',monospace\"><span style=\"color: #008080; text-decoration-color: #008080; font-weight: bold\">[+] Getting repo: </span><span style=\"color: #008080; text-decoration-color: #008080; font-weight: bold; text-decoration: underline\">https://github.com/deskfiler/deskfiler</span>\n",
       "</pre>\n"
      ],
      "text/plain": [
       "\u001b[1;36m[\u001b[0m\u001b[1;36m+\u001b[0m\u001b[1;36m]\u001b[0m\u001b[1;36m Getting repo: \u001b[0m\u001b[1;4;36mhttps://github.com/deskfiler/deskfiler\u001b[0m\n"
      ]
     },
     "metadata": {},
     "output_type": "display_data"
    },
    {
     "data": {
      "text/html": [
       "<pre style=\"white-space:pre;overflow-x:auto;line-height:normal;font-family:Menlo,'DejaVu Sans Mono',consolas,'Courier New',monospace\"><span style=\"color: #008080; text-decoration-color: #008080; font-weight: bold\">[+] Successfully retrieved repo: </span><span style=\"color: #008080; text-decoration-color: #008080; font-weight: bold; text-decoration: underline\">https://github.com/deskfiler/deskfiler</span>\n",
       "</pre>\n"
      ],
      "text/plain": [
       "\u001b[1;36m[\u001b[0m\u001b[1;36m+\u001b[0m\u001b[1;36m]\u001b[0m\u001b[1;36m Successfully retrieved repo: \u001b[0m\u001b[1;4;36mhttps://github.com/deskfiler/deskfiler\u001b[0m\n"
      ]
     },
     "metadata": {},
     "output_type": "display_data"
    },
    {
     "data": {
      "text/html": [
       "<pre style=\"white-space:pre;overflow-x:auto;line-height:normal;font-family:Menlo,'DejaVu Sans Mono',consolas,'Courier New',monospace\"><span style=\"color: #008080; text-decoration-color: #008080; font-weight: bold\">[+] Found package.json at </span><span style=\"color: #008080; text-decoration-color: #008080; font-weight: bold; text-decoration: underline\">https://github.com/deskfiler/deskfiler</span>\n",
       "</pre>\n"
      ],
      "text/plain": [
       "\u001b[1;36m[\u001b[0m\u001b[1;36m+\u001b[0m\u001b[1;36m]\u001b[0m\u001b[1;36m Found package.json at \u001b[0m\u001b[1;4;36mhttps://github.com/deskfiler/deskfiler\u001b[0m\n"
      ]
     },
     "metadata": {},
     "output_type": "display_data"
    },
    {
     "data": {
      "text/html": [
       "<pre style=\"white-space:pre;overflow-x:auto;line-height:normal;font-family:Menlo,'DejaVu Sans Mono',consolas,'Courier New',monospace\"><span style=\"color: #008080; text-decoration-color: #008080; font-weight: bold\">[+] Getting </span><span style=\"color: #008080; text-decoration-color: #008080; font-weight: bold; text-decoration: underline\">https://github.com/deskfiler/deskfiler/blob/master/package.json</span>\n",
       "</pre>\n"
      ],
      "text/plain": [
       "\u001b[1;36m[\u001b[0m\u001b[1;36m+\u001b[0m\u001b[1;36m]\u001b[0m\u001b[1;36m Getting \u001b[0m\u001b[1;4;36mhttps://github.com/deskfiler/deskfiler/blob/master/package.json\u001b[0m\n"
      ]
     },
     "metadata": {},
     "output_type": "display_data"
    },
    {
     "data": {
      "text/html": [
       "<pre style=\"white-space:pre;overflow-x:auto;line-height:normal;font-family:Menlo,'DejaVu Sans Mono',consolas,'Courier New',monospace\"><span style=\"color: #008080; text-decoration-color: #008080; font-weight: bold\">[+] Getting repo: </span><span style=\"color: #008080; text-decoration-color: #008080; font-weight: bold; text-decoration: underline\">https://github.com/bryht/Dict</span>\n",
       "</pre>\n"
      ],
      "text/plain": [
       "\u001b[1;36m[\u001b[0m\u001b[1;36m+\u001b[0m\u001b[1;36m]\u001b[0m\u001b[1;36m Getting repo: \u001b[0m\u001b[1;4;36mhttps://github.com/bryht/Dict\u001b[0m\n"
      ]
     },
     "metadata": {},
     "output_type": "display_data"
    },
    {
     "data": {
      "text/html": [
       "<pre style=\"white-space:pre;overflow-x:auto;line-height:normal;font-family:Menlo,'DejaVu Sans Mono',consolas,'Courier New',monospace\"><span style=\"color: #008080; text-decoration-color: #008080; font-weight: bold\">[+] Successfully retrieved repo: </span><span style=\"color: #008080; text-decoration-color: #008080; font-weight: bold; text-decoration: underline\">https://github.com/bryht/Dict</span>\n",
       "</pre>\n"
      ],
      "text/plain": [
       "\u001b[1;36m[\u001b[0m\u001b[1;36m+\u001b[0m\u001b[1;36m]\u001b[0m\u001b[1;36m Successfully retrieved repo: \u001b[0m\u001b[1;4;36mhttps://github.com/bryht/Dict\u001b[0m\n"
      ]
     },
     "metadata": {},
     "output_type": "display_data"
    },
    {
     "data": {
      "text/html": [
       "<pre style=\"white-space:pre;overflow-x:auto;line-height:normal;font-family:Menlo,'DejaVu Sans Mono',consolas,'Courier New',monospace\"><span style=\"color: #008080; text-decoration-color: #008080; font-weight: bold\">[+] Found package.json at </span><span style=\"color: #008080; text-decoration-color: #008080; font-weight: bold; text-decoration: underline\">https://github.com/bryht/Dict</span>\n",
       "</pre>\n"
      ],
      "text/plain": [
       "\u001b[1;36m[\u001b[0m\u001b[1;36m+\u001b[0m\u001b[1;36m]\u001b[0m\u001b[1;36m Found package.json at \u001b[0m\u001b[1;4;36mhttps://github.com/bryht/Dict\u001b[0m\n"
      ]
     },
     "metadata": {},
     "output_type": "display_data"
    },
    {
     "data": {
      "text/html": [
       "<pre style=\"white-space:pre;overflow-x:auto;line-height:normal;font-family:Menlo,'DejaVu Sans Mono',consolas,'Courier New',monospace\"><span style=\"color: #008080; text-decoration-color: #008080; font-weight: bold\">[+] Getting </span><span style=\"color: #008080; text-decoration-color: #008080; font-weight: bold; text-decoration: underline\">https://github.com/bryht/dian/blob/master/package.json</span>\n",
       "</pre>\n"
      ],
      "text/plain": [
       "\u001b[1;36m[\u001b[0m\u001b[1;36m+\u001b[0m\u001b[1;36m]\u001b[0m\u001b[1;36m Getting \u001b[0m\u001b[1;4;36mhttps://github.com/bryht/dian/blob/master/package.json\u001b[0m\n"
      ]
     },
     "metadata": {},
     "output_type": "display_data"
    },
    {
     "data": {
      "text/html": [
       "<pre style=\"white-space:pre;overflow-x:auto;line-height:normal;font-family:Menlo,'DejaVu Sans Mono',consolas,'Courier New',monospace\"><span style=\"color: #008080; text-decoration-color: #008080; font-weight: bold\">[+] Getting repo: </span><span style=\"color: #008080; text-decoration-color: #008080; font-weight: bold; text-decoration: underline\">https://github.com/icidasset/diffuse</span>\n",
       "</pre>\n"
      ],
      "text/plain": [
       "\u001b[1;36m[\u001b[0m\u001b[1;36m+\u001b[0m\u001b[1;36m]\u001b[0m\u001b[1;36m Getting repo: \u001b[0m\u001b[1;4;36mhttps://github.com/icidasset/diffuse\u001b[0m\n"
      ]
     },
     "metadata": {},
     "output_type": "display_data"
    },
    {
     "data": {
      "text/html": [
       "<pre style=\"white-space:pre;overflow-x:auto;line-height:normal;font-family:Menlo,'DejaVu Sans Mono',consolas,'Courier New',monospace\"><span style=\"color: #008080; text-decoration-color: #008080; font-weight: bold\">[+] Successfully retrieved repo: </span><span style=\"color: #008080; text-decoration-color: #008080; font-weight: bold; text-decoration: underline\">https://github.com/icidasset/diffuse</span>\n",
       "</pre>\n"
      ],
      "text/plain": [
       "\u001b[1;36m[\u001b[0m\u001b[1;36m+\u001b[0m\u001b[1;36m]\u001b[0m\u001b[1;36m Successfully retrieved repo: \u001b[0m\u001b[1;4;36mhttps://github.com/icidasset/diffuse\u001b[0m\n"
      ]
     },
     "metadata": {},
     "output_type": "display_data"
    },
    {
     "data": {
      "text/html": [
       "<pre style=\"white-space:pre;overflow-x:auto;line-height:normal;font-family:Menlo,'DejaVu Sans Mono',consolas,'Courier New',monospace\"><span style=\"color: #008080; text-decoration-color: #008080; font-weight: bold\">[+] Found package.json at </span><span style=\"color: #008080; text-decoration-color: #008080; font-weight: bold; text-decoration: underline\">https://github.com/icidasset/diffuse</span>\n",
       "</pre>\n"
      ],
      "text/plain": [
       "\u001b[1;36m[\u001b[0m\u001b[1;36m+\u001b[0m\u001b[1;36m]\u001b[0m\u001b[1;36m Found package.json at \u001b[0m\u001b[1;4;36mhttps://github.com/icidasset/diffuse\u001b[0m\n"
      ]
     },
     "metadata": {},
     "output_type": "display_data"
    },
    {
     "data": {
      "text/html": [
       "<pre style=\"white-space:pre;overflow-x:auto;line-height:normal;font-family:Menlo,'DejaVu Sans Mono',consolas,'Courier New',monospace\"><span style=\"color: #008080; text-decoration-color: #008080; font-weight: bold\">[+] Getting </span><span style=\"color: #008080; text-decoration-color: #008080; font-weight: bold; text-decoration: underline\">https://github.com/icidasset/diffuse/blob/main/package.json</span>\n",
       "</pre>\n"
      ],
      "text/plain": [
       "\u001b[1;36m[\u001b[0m\u001b[1;36m+\u001b[0m\u001b[1;36m]\u001b[0m\u001b[1;36m Getting \u001b[0m\u001b[1;4;36mhttps://github.com/icidasset/diffuse/blob/main/package.json\u001b[0m\n"
      ]
     },
     "metadata": {},
     "output_type": "display_data"
    },
    {
     "data": {
      "text/html": [
       "<pre style=\"white-space:pre;overflow-x:auto;line-height:normal;font-family:Menlo,'DejaVu Sans Mono',consolas,'Courier New',monospace\"><span style=\"color: #008080; text-decoration-color: #008080; font-weight: bold\">[+] Getting repo: </span><span style=\"color: #008080; text-decoration-color: #008080; font-weight: bold; text-decoration: underline\">https://github.com/thatonecalculator/discordrpcmaker</span>\n",
       "</pre>\n"
      ],
      "text/plain": [
       "\u001b[1;36m[\u001b[0m\u001b[1;36m+\u001b[0m\u001b[1;36m]\u001b[0m\u001b[1;36m Getting repo: \u001b[0m\u001b[1;4;36mhttps://github.com/thatonecalculator/discordrpcmaker\u001b[0m\n"
      ]
     },
     "metadata": {},
     "output_type": "display_data"
    },
    {
     "data": {
      "text/html": [
       "<pre style=\"white-space:pre;overflow-x:auto;line-height:normal;font-family:Menlo,'DejaVu Sans Mono',consolas,'Courier New',monospace\"><span style=\"color: #008080; text-decoration-color: #008080; font-weight: bold\">[+] Successfully retrieved repo: </span><span style=\"color: #008080; text-decoration-color: #008080; font-weight: bold; text-decoration: underline\">https://github.com/thatonecalculator/discordrpcmaker</span>\n",
       "</pre>\n"
      ],
      "text/plain": [
       "\u001b[1;36m[\u001b[0m\u001b[1;36m+\u001b[0m\u001b[1;36m]\u001b[0m\u001b[1;36m Successfully retrieved repo: \u001b[0m\u001b[1;4;36mhttps://github.com/thatonecalculator/discordrpcmaker\u001b[0m\n"
      ]
     },
     "metadata": {},
     "output_type": "display_data"
    },
    {
     "data": {
      "text/html": [
       "<pre style=\"white-space:pre;overflow-x:auto;line-height:normal;font-family:Menlo,'DejaVu Sans Mono',consolas,'Courier New',monospace\"><span style=\"color: #008080; text-decoration-color: #008080; font-weight: bold\">[+] Found package.json at </span><span style=\"color: #008080; text-decoration-color: #008080; font-weight: bold; text-decoration: underline\">https://github.com/thatonecalculator/discordrpcmaker</span>\n",
       "</pre>\n"
      ],
      "text/plain": [
       "\u001b[1;36m[\u001b[0m\u001b[1;36m+\u001b[0m\u001b[1;36m]\u001b[0m\u001b[1;36m Found package.json at \u001b[0m\u001b[1;4;36mhttps://github.com/thatonecalculator/discordrpcmaker\u001b[0m\n"
      ]
     },
     "metadata": {},
     "output_type": "display_data"
    },
    {
     "data": {
      "text/html": [
       "<pre style=\"white-space:pre;overflow-x:auto;line-height:normal;font-family:Menlo,'DejaVu Sans Mono',consolas,'Courier New',monospace\"><span style=\"color: #008080; text-decoration-color: #008080; font-weight: bold\">[+] Getting </span><span style=\"color: #008080; text-decoration-color: #008080; font-weight: bold; text-decoration: underline\">https://github.com/ThatOneCalculator/DiscordRPCMaker/blob/main/package.json</span>\n",
       "</pre>\n"
      ],
      "text/plain": [
       "\u001b[1;36m[\u001b[0m\u001b[1;36m+\u001b[0m\u001b[1;36m]\u001b[0m\u001b[1;36m Getting \u001b[0m\u001b[1;4;36mhttps://github.com/ThatOneCalculator/DiscordRPCMaker/blob/main/package.json\u001b[0m\n"
      ]
     },
     "metadata": {},
     "output_type": "display_data"
    },
    {
     "data": {
      "text/html": [
       "<pre style=\"white-space:pre;overflow-x:auto;line-height:normal;font-family:Menlo,'DejaVu Sans Mono',consolas,'Courier New',monospace\"><span style=\"color: #008080; text-decoration-color: #008080; font-weight: bold\">[+] Getting repo: </span><span style=\"color: #008080; text-decoration-color: #008080; font-weight: bold; text-decoration: underline\">https://github.com/synle/display-dj</span>\n",
       "</pre>\n"
      ],
      "text/plain": [
       "\u001b[1;36m[\u001b[0m\u001b[1;36m+\u001b[0m\u001b[1;36m]\u001b[0m\u001b[1;36m Getting repo: \u001b[0m\u001b[1;4;36mhttps://github.com/synle/display-dj\u001b[0m\n"
      ]
     },
     "metadata": {},
     "output_type": "display_data"
    },
    {
     "data": {
      "text/html": [
       "<pre style=\"white-space:pre;overflow-x:auto;line-height:normal;font-family:Menlo,'DejaVu Sans Mono',consolas,'Courier New',monospace\"><span style=\"color: #008080; text-decoration-color: #008080; font-weight: bold\">[+] Successfully retrieved repo: </span><span style=\"color: #008080; text-decoration-color: #008080; font-weight: bold; text-decoration: underline\">https://github.com/synle/display-dj</span>\n",
       "</pre>\n"
      ],
      "text/plain": [
       "\u001b[1;36m[\u001b[0m\u001b[1;36m+\u001b[0m\u001b[1;36m]\u001b[0m\u001b[1;36m Successfully retrieved repo: \u001b[0m\u001b[1;4;36mhttps://github.com/synle/display-dj\u001b[0m\n"
      ]
     },
     "metadata": {},
     "output_type": "display_data"
    },
    {
     "data": {
      "text/html": [
       "<pre style=\"white-space:pre;overflow-x:auto;line-height:normal;font-family:Menlo,'DejaVu Sans Mono',consolas,'Courier New',monospace\"><span style=\"color: #008080; text-decoration-color: #008080; font-weight: bold\">[+] Found package.json at </span><span style=\"color: #008080; text-decoration-color: #008080; font-weight: bold; text-decoration: underline\">https://github.com/synle/display-dj</span>\n",
       "</pre>\n"
      ],
      "text/plain": [
       "\u001b[1;36m[\u001b[0m\u001b[1;36m+\u001b[0m\u001b[1;36m]\u001b[0m\u001b[1;36m Found package.json at \u001b[0m\u001b[1;4;36mhttps://github.com/synle/display-dj\u001b[0m\n"
      ]
     },
     "metadata": {},
     "output_type": "display_data"
    },
    {
     "data": {
      "text/html": [
       "<pre style=\"white-space:pre;overflow-x:auto;line-height:normal;font-family:Menlo,'DejaVu Sans Mono',consolas,'Courier New',monospace\"><span style=\"color: #008080; text-decoration-color: #008080; font-weight: bold\">[+] Getting </span><span style=\"color: #008080; text-decoration-color: #008080; font-weight: bold; text-decoration: underline\">https://github.com/synle/display-dj/blob/main/package.json</span>\n",
       "</pre>\n"
      ],
      "text/plain": [
       "\u001b[1;36m[\u001b[0m\u001b[1;36m+\u001b[0m\u001b[1;36m]\u001b[0m\u001b[1;36m Getting \u001b[0m\u001b[1;4;36mhttps://github.com/synle/display-dj/blob/main/package.json\u001b[0m\n"
      ]
     },
     "metadata": {},
     "output_type": "display_data"
    },
    {
     "data": {
      "text/html": [
       "<pre style=\"white-space:pre;overflow-x:auto;line-height:normal;font-family:Menlo,'DejaVu Sans Mono',consolas,'Courier New',monospace\"><span style=\"color: #008080; text-decoration-color: #008080; font-weight: bold\">[+] Getting repo: </span><span style=\"color: #008080; text-decoration-color: #008080; font-weight: bold; text-decoration: underline\">https://github.com/dixahq/dixa-desktop-app-release</span>\n",
       "</pre>\n"
      ],
      "text/plain": [
       "\u001b[1;36m[\u001b[0m\u001b[1;36m+\u001b[0m\u001b[1;36m]\u001b[0m\u001b[1;36m Getting repo: \u001b[0m\u001b[1;4;36mhttps://github.com/dixahq/dixa-desktop-app-release\u001b[0m\n"
      ]
     },
     "metadata": {},
     "output_type": "display_data"
    },
    {
     "data": {
      "text/html": [
       "<pre style=\"white-space:pre;overflow-x:auto;line-height:normal;font-family:Menlo,'DejaVu Sans Mono',consolas,'Courier New',monospace\"><span style=\"color: #008080; text-decoration-color: #008080; font-weight: bold\">[+] Successfully retrieved repo: </span><span style=\"color: #008080; text-decoration-color: #008080; font-weight: bold; text-decoration: underline\">https://github.com/dixahq/dixa-desktop-app-release</span>\n",
       "</pre>\n"
      ],
      "text/plain": [
       "\u001b[1;36m[\u001b[0m\u001b[1;36m+\u001b[0m\u001b[1;36m]\u001b[0m\u001b[1;36m Successfully retrieved repo: \u001b[0m\u001b[1;4;36mhttps://github.com/dixahq/dixa-desktop-app-release\u001b[0m\n"
      ]
     },
     "metadata": {},
     "output_type": "display_data"
    },
    {
     "data": {
      "text/html": [
       "<pre style=\"white-space:pre;overflow-x:auto;line-height:normal;font-family:Menlo,'DejaVu Sans Mono',consolas,'Courier New',monospace\"><span style=\"color: #ff5f00; text-decoration-color: #ff5f00; font-weight: bold\">[!] Package.json not found at root of </span><span style=\"color: #ff5f00; text-decoration-color: #ff5f00; font-weight: bold; text-decoration: underline\">https://github.com/dixahq/dixa-desktop-app-release;</span><span style=\"color: #ff5f00; text-decoration-color: #ff5f00; font-weight: bold\"> trying directories</span>\n",
       "</pre>\n"
      ],
      "text/plain": [
       "\u001b[1;38;5;202m[\u001b[0m\u001b[1;38;5;202m!\u001b[0m\u001b[1;38;5;202m]\u001b[0m\u001b[1;38;5;202m Package.json not found at root of \u001b[0m\u001b[1;4;38;5;202mhttps://github.com/dixahq/dixa-desktop-app-release;\u001b[0m\u001b[1;38;5;202m trying directories\u001b[0m\n"
      ]
     },
     "metadata": {},
     "output_type": "display_data"
    },
    {
     "data": {
      "text/html": [
       "<pre style=\"white-space:pre;overflow-x:auto;line-height:normal;font-family:Menlo,'DejaVu Sans Mono',consolas,'Courier New',monospace\"><span style=\"color: #008080; text-decoration-color: #008080; font-weight: bold\">[+] Trying </span><span style=\"color: #008080; text-decoration-color: #008080; font-weight: bold; text-decoration: underline\">https://github.com/dixahq/dixa-desktop-app-release/tree/master/.github</span>\n",
       "</pre>\n"
      ],
      "text/plain": [
       "\u001b[1;36m[\u001b[0m\u001b[1;36m+\u001b[0m\u001b[1;36m]\u001b[0m\u001b[1;36m Trying \u001b[0m\u001b[1;4;36mhttps://github.com/dixahq/dixa-desktop-app-release/tree/master/.github\u001b[0m\n"
      ]
     },
     "metadata": {},
     "output_type": "display_data"
    },
    {
     "data": {
      "text/html": [
       "<pre style=\"white-space:pre;overflow-x:auto;line-height:normal;font-family:Menlo,'DejaVu Sans Mono',consolas,'Courier New',monospace\"><span style=\"color: #800000; text-decoration-color: #800000; font-weight: bold\">[💀] Could not find package.json in first-level-subdirs</span>\n",
       "</pre>\n"
      ],
      "text/plain": [
       "\u001b[1;31m[\u001b[0m\u001b[1;31m💀\u001b[0m\u001b[1;31m]\u001b[0m\u001b[1;31m Could not find package.json in first-level-subdirs\u001b[0m\n"
      ]
     },
     "metadata": {},
     "output_type": "display_data"
    },
    {
     "data": {
      "text/html": [
       "<pre style=\"white-space:pre;overflow-x:auto;line-height:normal;font-family:Menlo,'DejaVu Sans Mono',consolas,'Courier New',monospace\"><span style=\"color: #008080; text-decoration-color: #008080; font-weight: bold\">[+] Getting repo: </span><span style=\"color: #008080; text-decoration-color: #008080; font-weight: bold; text-decoration: underline\">https://github.com/DokiDokiModManager/Mod-Manager</span>\n",
       "</pre>\n"
      ],
      "text/plain": [
       "\u001b[1;36m[\u001b[0m\u001b[1;36m+\u001b[0m\u001b[1;36m]\u001b[0m\u001b[1;36m Getting repo: \u001b[0m\u001b[1;4;36mhttps://github.com/DokiDokiModManager/Mod-Manager\u001b[0m\n"
      ]
     },
     "metadata": {},
     "output_type": "display_data"
    },
    {
     "data": {
      "text/html": [
       "<pre style=\"white-space:pre;overflow-x:auto;line-height:normal;font-family:Menlo,'DejaVu Sans Mono',consolas,'Courier New',monospace\"><span style=\"color: #008080; text-decoration-color: #008080; font-weight: bold\">[+] Successfully retrieved repo: </span><span style=\"color: #008080; text-decoration-color: #008080; font-weight: bold; text-decoration: underline\">https://github.com/DokiDokiModManager/Mod-Manager</span>\n",
       "</pre>\n"
      ],
      "text/plain": [
       "\u001b[1;36m[\u001b[0m\u001b[1;36m+\u001b[0m\u001b[1;36m]\u001b[0m\u001b[1;36m Successfully retrieved repo: \u001b[0m\u001b[1;4;36mhttps://github.com/DokiDokiModManager/Mod-Manager\u001b[0m\n"
      ]
     },
     "metadata": {},
     "output_type": "display_data"
    },
    {
     "data": {
      "text/html": [
       "<pre style=\"white-space:pre;overflow-x:auto;line-height:normal;font-family:Menlo,'DejaVu Sans Mono',consolas,'Courier New',monospace\"><span style=\"color: #008080; text-decoration-color: #008080; font-weight: bold\">[+] Found package.json at </span><span style=\"color: #008080; text-decoration-color: #008080; font-weight: bold; text-decoration: underline\">https://github.com/DokiDokiModManager/Mod-Manager</span>\n",
       "</pre>\n"
      ],
      "text/plain": [
       "\u001b[1;36m[\u001b[0m\u001b[1;36m+\u001b[0m\u001b[1;36m]\u001b[0m\u001b[1;36m Found package.json at \u001b[0m\u001b[1;4;36mhttps://github.com/DokiDokiModManager/Mod-Manager\u001b[0m\n"
      ]
     },
     "metadata": {},
     "output_type": "display_data"
    },
    {
     "data": {
      "text/html": [
       "<pre style=\"white-space:pre;overflow-x:auto;line-height:normal;font-family:Menlo,'DejaVu Sans Mono',consolas,'Courier New',monospace\"><span style=\"color: #008080; text-decoration-color: #008080; font-weight: bold\">[+] Getting </span><span style=\"color: #008080; text-decoration-color: #008080; font-weight: bold; text-decoration: underline\">https://github.com/DokiDokiModManager/Mod-Manager/blob/master/package.json</span>\n",
       "</pre>\n"
      ],
      "text/plain": [
       "\u001b[1;36m[\u001b[0m\u001b[1;36m+\u001b[0m\u001b[1;36m]\u001b[0m\u001b[1;36m Getting \u001b[0m\u001b[1;4;36mhttps://github.com/DokiDokiModManager/Mod-Manager/blob/master/package.json\u001b[0m\n"
      ]
     },
     "metadata": {},
     "output_type": "display_data"
    },
    {
     "data": {
      "text/html": [
       "<pre style=\"white-space:pre;overflow-x:auto;line-height:normal;font-family:Menlo,'DejaVu Sans Mono',consolas,'Courier New',monospace\"><span style=\"color: #008080; text-decoration-color: #008080; font-weight: bold\">[+] Getting repo: </span><span style=\"color: #008080; text-decoration-color: #008080; font-weight: bold; text-decoration: underline\">https://github.com/darawish/domainbook</span>\n",
       "</pre>\n"
      ],
      "text/plain": [
       "\u001b[1;36m[\u001b[0m\u001b[1;36m+\u001b[0m\u001b[1;36m]\u001b[0m\u001b[1;36m Getting repo: \u001b[0m\u001b[1;4;36mhttps://github.com/darawish/domainbook\u001b[0m\n"
      ]
     },
     "metadata": {},
     "output_type": "display_data"
    },
    {
     "data": {
      "text/html": [
       "<pre style=\"white-space:pre;overflow-x:auto;line-height:normal;font-family:Menlo,'DejaVu Sans Mono',consolas,'Courier New',monospace\"><span style=\"color: #008080; text-decoration-color: #008080; font-weight: bold\">[+] Successfully retrieved repo: </span><span style=\"color: #008080; text-decoration-color: #008080; font-weight: bold; text-decoration: underline\">https://github.com/darawish/domainbook</span>\n",
       "</pre>\n"
      ],
      "text/plain": [
       "\u001b[1;36m[\u001b[0m\u001b[1;36m+\u001b[0m\u001b[1;36m]\u001b[0m\u001b[1;36m Successfully retrieved repo: \u001b[0m\u001b[1;4;36mhttps://github.com/darawish/domainbook\u001b[0m\n"
      ]
     },
     "metadata": {},
     "output_type": "display_data"
    },
    {
     "data": {
      "text/html": [
       "<pre style=\"white-space:pre;overflow-x:auto;line-height:normal;font-family:Menlo,'DejaVu Sans Mono',consolas,'Courier New',monospace\"><span style=\"color: #ff5f00; text-decoration-color: #ff5f00; font-weight: bold\">[!] Package.json not found at root of </span><span style=\"color: #ff5f00; text-decoration-color: #ff5f00; font-weight: bold; text-decoration: underline\">https://github.com/darawish/domainbook;</span><span style=\"color: #ff5f00; text-decoration-color: #ff5f00; font-weight: bold\"> trying directories</span>\n",
       "</pre>\n"
      ],
      "text/plain": [
       "\u001b[1;38;5;202m[\u001b[0m\u001b[1;38;5;202m!\u001b[0m\u001b[1;38;5;202m]\u001b[0m\u001b[1;38;5;202m Package.json not found at root of \u001b[0m\u001b[1;4;38;5;202mhttps://github.com/darawish/domainbook;\u001b[0m\u001b[1;38;5;202m trying directories\u001b[0m\n"
      ]
     },
     "metadata": {},
     "output_type": "display_data"
    },
    {
     "data": {
      "text/html": [
       "<pre style=\"white-space:pre;overflow-x:auto;line-height:normal;font-family:Menlo,'DejaVu Sans Mono',consolas,'Courier New',monospace\"><span style=\"color: #008080; text-decoration-color: #008080; font-weight: bold\">[+] Trying </span><span style=\"color: #008080; text-decoration-color: #008080; font-weight: bold; text-decoration: underline\">https://github.com/darawish/domainbook/tree/master/.github</span>\n",
       "</pre>\n"
      ],
      "text/plain": [
       "\u001b[1;36m[\u001b[0m\u001b[1;36m+\u001b[0m\u001b[1;36m]\u001b[0m\u001b[1;36m Trying \u001b[0m\u001b[1;4;36mhttps://github.com/darawish/domainbook/tree/master/.github\u001b[0m\n"
      ]
     },
     "metadata": {},
     "output_type": "display_data"
    },
    {
     "data": {
      "text/html": [
       "<pre style=\"white-space:pre;overflow-x:auto;line-height:normal;font-family:Menlo,'DejaVu Sans Mono',consolas,'Courier New',monospace\"><span style=\"color: #008080; text-decoration-color: #008080; font-weight: bold\">[+] Trying </span><span style=\"color: #008080; text-decoration-color: #008080; font-weight: bold; text-decoration: underline\">https://github.com/darawish/domainbook/tree/master/domains</span>\n",
       "</pre>\n"
      ],
      "text/plain": [
       "\u001b[1;36m[\u001b[0m\u001b[1;36m+\u001b[0m\u001b[1;36m]\u001b[0m\u001b[1;36m Trying \u001b[0m\u001b[1;4;36mhttps://github.com/darawish/domainbook/tree/master/domains\u001b[0m\n"
      ]
     },
     "metadata": {},
     "output_type": "display_data"
    },
    {
     "data": {
      "text/html": [
       "<pre style=\"white-space:pre;overflow-x:auto;line-height:normal;font-family:Menlo,'DejaVu Sans Mono',consolas,'Courier New',monospace\"><span style=\"color: #800000; text-decoration-color: #800000; font-weight: bold\">[💀] Could not find package.json in first-level-subdirs</span>\n",
       "</pre>\n"
      ],
      "text/plain": [
       "\u001b[1;31m[\u001b[0m\u001b[1;31m💀\u001b[0m\u001b[1;31m]\u001b[0m\u001b[1;31m Could not find package.json in first-level-subdirs\u001b[0m\n"
      ]
     },
     "metadata": {},
     "output_type": "display_data"
    },
    {
     "data": {
      "text/html": [
       "<pre style=\"white-space:pre;overflow-x:auto;line-height:normal;font-family:Menlo,'DejaVu Sans Mono',consolas,'Courier New',monospace\"><span style=\"color: #008080; text-decoration-color: #008080; font-weight: bold\">[+] Getting repo: </span><span style=\"color: #008080; text-decoration-color: #008080; font-weight: bold; text-decoration: underline\">https://github.com/PerBothner/DomTerm</span>\n",
       "</pre>\n"
      ],
      "text/plain": [
       "\u001b[1;36m[\u001b[0m\u001b[1;36m+\u001b[0m\u001b[1;36m]\u001b[0m\u001b[1;36m Getting repo: \u001b[0m\u001b[1;4;36mhttps://github.com/PerBothner/DomTerm\u001b[0m\n"
      ]
     },
     "metadata": {},
     "output_type": "display_data"
    },
    {
     "data": {
      "text/html": [
       "<pre style=\"white-space:pre;overflow-x:auto;line-height:normal;font-family:Menlo,'DejaVu Sans Mono',consolas,'Courier New',monospace\"><span style=\"color: #008080; text-decoration-color: #008080; font-weight: bold\">[+] Successfully retrieved repo: </span><span style=\"color: #008080; text-decoration-color: #008080; font-weight: bold; text-decoration: underline\">https://github.com/PerBothner/DomTerm</span>\n",
       "</pre>\n"
      ],
      "text/plain": [
       "\u001b[1;36m[\u001b[0m\u001b[1;36m+\u001b[0m\u001b[1;36m]\u001b[0m\u001b[1;36m Successfully retrieved repo: \u001b[0m\u001b[1;4;36mhttps://github.com/PerBothner/DomTerm\u001b[0m\n"
      ]
     },
     "metadata": {},
     "output_type": "display_data"
    },
    {
     "data": {
      "text/html": [
       "<pre style=\"white-space:pre;overflow-x:auto;line-height:normal;font-family:Menlo,'DejaVu Sans Mono',consolas,'Courier New',monospace\"><span style=\"color: #008080; text-decoration-color: #008080; font-weight: bold\">[+] Found package.json at </span><span style=\"color: #008080; text-decoration-color: #008080; font-weight: bold; text-decoration: underline\">https://github.com/PerBothner/DomTerm</span>\n",
       "</pre>\n"
      ],
      "text/plain": [
       "\u001b[1;36m[\u001b[0m\u001b[1;36m+\u001b[0m\u001b[1;36m]\u001b[0m\u001b[1;36m Found package.json at \u001b[0m\u001b[1;4;36mhttps://github.com/PerBothner/DomTerm\u001b[0m\n"
      ]
     },
     "metadata": {},
     "output_type": "display_data"
    },
    {
     "data": {
      "text/html": [
       "<pre style=\"white-space:pre;overflow-x:auto;line-height:normal;font-family:Menlo,'DejaVu Sans Mono',consolas,'Courier New',monospace\"><span style=\"color: #008080; text-decoration-color: #008080; font-weight: bold\">[+] Getting </span><span style=\"color: #008080; text-decoration-color: #008080; font-weight: bold; text-decoration: underline\">https://github.com/PerBothner/DomTerm/blob/master/package.json</span>\n",
       "</pre>\n"
      ],
      "text/plain": [
       "\u001b[1;36m[\u001b[0m\u001b[1;36m+\u001b[0m\u001b[1;36m]\u001b[0m\u001b[1;36m Getting \u001b[0m\u001b[1;4;36mhttps://github.com/PerBothner/DomTerm/blob/master/package.json\u001b[0m\n"
      ]
     },
     "metadata": {},
     "output_type": "display_data"
    },
    {
     "data": {
      "text/html": [
       "<pre style=\"white-space:pre;overflow-x:auto;line-height:normal;font-family:Menlo,'DejaVu Sans Mono',consolas,'Courier New',monospace\"><span style=\"color: #008080; text-decoration-color: #008080; font-weight: bold\">[+] Getting repo: </span><span style=\"color: #008080; text-decoration-color: #008080; font-weight: bold; text-decoration: underline\">https://github.com/digimezzo/dopamine</span>\n",
       "</pre>\n"
      ],
      "text/plain": [
       "\u001b[1;36m[\u001b[0m\u001b[1;36m+\u001b[0m\u001b[1;36m]\u001b[0m\u001b[1;36m Getting repo: \u001b[0m\u001b[1;4;36mhttps://github.com/digimezzo/dopamine\u001b[0m\n"
      ]
     },
     "metadata": {},
     "output_type": "display_data"
    },
    {
     "data": {
      "text/html": [
       "<pre style=\"white-space:pre;overflow-x:auto;line-height:normal;font-family:Menlo,'DejaVu Sans Mono',consolas,'Courier New',monospace\"><span style=\"color: #008080; text-decoration-color: #008080; font-weight: bold\">[+] Successfully retrieved repo: </span><span style=\"color: #008080; text-decoration-color: #008080; font-weight: bold; text-decoration: underline\">https://github.com/digimezzo/dopamine</span>\n",
       "</pre>\n"
      ],
      "text/plain": [
       "\u001b[1;36m[\u001b[0m\u001b[1;36m+\u001b[0m\u001b[1;36m]\u001b[0m\u001b[1;36m Successfully retrieved repo: \u001b[0m\u001b[1;4;36mhttps://github.com/digimezzo/dopamine\u001b[0m\n"
      ]
     },
     "metadata": {},
     "output_type": "display_data"
    },
    {
     "data": {
      "text/html": [
       "<pre style=\"white-space:pre;overflow-x:auto;line-height:normal;font-family:Menlo,'DejaVu Sans Mono',consolas,'Courier New',monospace\"><span style=\"color: #008080; text-decoration-color: #008080; font-weight: bold\">[+] Found package.json at </span><span style=\"color: #008080; text-decoration-color: #008080; font-weight: bold; text-decoration: underline\">https://github.com/digimezzo/dopamine</span>\n",
       "</pre>\n"
      ],
      "text/plain": [
       "\u001b[1;36m[\u001b[0m\u001b[1;36m+\u001b[0m\u001b[1;36m]\u001b[0m\u001b[1;36m Found package.json at \u001b[0m\u001b[1;4;36mhttps://github.com/digimezzo/dopamine\u001b[0m\n"
      ]
     },
     "metadata": {},
     "output_type": "display_data"
    },
    {
     "data": {
      "text/html": [
       "<pre style=\"white-space:pre;overflow-x:auto;line-height:normal;font-family:Menlo,'DejaVu Sans Mono',consolas,'Courier New',monospace\"><span style=\"color: #008080; text-decoration-color: #008080; font-weight: bold\">[+] Getting </span><span style=\"color: #008080; text-decoration-color: #008080; font-weight: bold; text-decoration: underline\">https://github.com/digimezzo/dopamine/blob/master/package.json</span>\n",
       "</pre>\n"
      ],
      "text/plain": [
       "\u001b[1;36m[\u001b[0m\u001b[1;36m+\u001b[0m\u001b[1;36m]\u001b[0m\u001b[1;36m Getting \u001b[0m\u001b[1;4;36mhttps://github.com/digimezzo/dopamine/blob/master/package.json\u001b[0m\n"
      ]
     },
     "metadata": {},
     "output_type": "display_data"
    },
    {
     "data": {
      "text/html": [
       "<pre style=\"white-space:pre;overflow-x:auto;line-height:normal;font-family:Menlo,'DejaVu Sans Mono',consolas,'Courier New',monospace\"><span style=\"color: #008080; text-decoration-color: #008080; font-weight: bold\">[+] Getting repo: </span><span style=\"color: #008080; text-decoration-color: #008080; font-weight: bold; text-decoration: underline\">https://github.com/GameGodS3/DropPoint</span>\n",
       "</pre>\n"
      ],
      "text/plain": [
       "\u001b[1;36m[\u001b[0m\u001b[1;36m+\u001b[0m\u001b[1;36m]\u001b[0m\u001b[1;36m Getting repo: \u001b[0m\u001b[1;4;36mhttps://github.com/GameGodS3/DropPoint\u001b[0m\n"
      ]
     },
     "metadata": {},
     "output_type": "display_data"
    },
    {
     "data": {
      "text/html": [
       "<pre style=\"white-space:pre;overflow-x:auto;line-height:normal;font-family:Menlo,'DejaVu Sans Mono',consolas,'Courier New',monospace\"><span style=\"color: #008080; text-decoration-color: #008080; font-weight: bold\">[+] Successfully retrieved repo: </span><span style=\"color: #008080; text-decoration-color: #008080; font-weight: bold; text-decoration: underline\">https://github.com/GameGodS3/DropPoint</span>\n",
       "</pre>\n"
      ],
      "text/plain": [
       "\u001b[1;36m[\u001b[0m\u001b[1;36m+\u001b[0m\u001b[1;36m]\u001b[0m\u001b[1;36m Successfully retrieved repo: \u001b[0m\u001b[1;4;36mhttps://github.com/GameGodS3/DropPoint\u001b[0m\n"
      ]
     },
     "metadata": {},
     "output_type": "display_data"
    },
    {
     "data": {
      "text/html": [
       "<pre style=\"white-space:pre;overflow-x:auto;line-height:normal;font-family:Menlo,'DejaVu Sans Mono',consolas,'Courier New',monospace\"><span style=\"color: #008080; text-decoration-color: #008080; font-weight: bold\">[+] Found package.json at </span><span style=\"color: #008080; text-decoration-color: #008080; font-weight: bold; text-decoration: underline\">https://github.com/GameGodS3/DropPoint</span>\n",
       "</pre>\n"
      ],
      "text/plain": [
       "\u001b[1;36m[\u001b[0m\u001b[1;36m+\u001b[0m\u001b[1;36m]\u001b[0m\u001b[1;36m Found package.json at \u001b[0m\u001b[1;4;36mhttps://github.com/GameGodS3/DropPoint\u001b[0m\n"
      ]
     },
     "metadata": {},
     "output_type": "display_data"
    },
    {
     "data": {
      "text/html": [
       "<pre style=\"white-space:pre;overflow-x:auto;line-height:normal;font-family:Menlo,'DejaVu Sans Mono',consolas,'Courier New',monospace\"><span style=\"color: #008080; text-decoration-color: #008080; font-weight: bold\">[+] Getting </span><span style=\"color: #008080; text-decoration-color: #008080; font-weight: bold; text-decoration: underline\">https://github.com/GameGodS3/DropPoint/blob/main/package.json</span>\n",
       "</pre>\n"
      ],
      "text/plain": [
       "\u001b[1;36m[\u001b[0m\u001b[1;36m+\u001b[0m\u001b[1;36m]\u001b[0m\u001b[1;36m Getting \u001b[0m\u001b[1;4;36mhttps://github.com/GameGodS3/DropPoint/blob/main/package.json\u001b[0m\n"
      ]
     },
     "metadata": {},
     "output_type": "display_data"
    },
    {
     "data": {
      "text/html": [
       "<pre style=\"white-space:pre;overflow-x:auto;line-height:normal;font-family:Menlo,'DejaVu Sans Mono',consolas,'Courier New',monospace\"><span style=\"color: #008080; text-decoration-color: #008080; font-weight: bold\">[+] Getting repo: </span><span style=\"color: #008080; text-decoration-color: #008080; font-weight: bold; text-decoration: underline\">https://github.com/Aveek-Saha/MusicPlayer</span>\n",
       "</pre>\n"
      ],
      "text/plain": [
       "\u001b[1;36m[\u001b[0m\u001b[1;36m+\u001b[0m\u001b[1;36m]\u001b[0m\u001b[1;36m Getting repo: \u001b[0m\u001b[1;4;36mhttps://github.com/Aveek-Saha/MusicPlayer\u001b[0m\n"
      ]
     },
     "metadata": {},
     "output_type": "display_data"
    },
    {
     "data": {
      "text/html": [
       "<pre style=\"white-space:pre;overflow-x:auto;line-height:normal;font-family:Menlo,'DejaVu Sans Mono',consolas,'Courier New',monospace\"><span style=\"color: #008080; text-decoration-color: #008080; font-weight: bold\">[+] Successfully retrieved repo: </span><span style=\"color: #008080; text-decoration-color: #008080; font-weight: bold; text-decoration: underline\">https://github.com/Aveek-Saha/MusicPlayer</span>\n",
       "</pre>\n"
      ],
      "text/plain": [
       "\u001b[1;36m[\u001b[0m\u001b[1;36m+\u001b[0m\u001b[1;36m]\u001b[0m\u001b[1;36m Successfully retrieved repo: \u001b[0m\u001b[1;4;36mhttps://github.com/Aveek-Saha/MusicPlayer\u001b[0m\n"
      ]
     },
     "metadata": {},
     "output_type": "display_data"
    },
    {
     "data": {
      "text/html": [
       "<pre style=\"white-space:pre;overflow-x:auto;line-height:normal;font-family:Menlo,'DejaVu Sans Mono',consolas,'Courier New',monospace\"><span style=\"color: #008080; text-decoration-color: #008080; font-weight: bold\">[+] Found package.json at </span><span style=\"color: #008080; text-decoration-color: #008080; font-weight: bold; text-decoration: underline\">https://github.com/Aveek-Saha/MusicPlayer</span>\n",
       "</pre>\n"
      ],
      "text/plain": [
       "\u001b[1;36m[\u001b[0m\u001b[1;36m+\u001b[0m\u001b[1;36m]\u001b[0m\u001b[1;36m Found package.json at \u001b[0m\u001b[1;4;36mhttps://github.com/Aveek-Saha/MusicPlayer\u001b[0m\n"
      ]
     },
     "metadata": {},
     "output_type": "display_data"
    },
    {
     "data": {
      "text/html": [
       "<pre style=\"white-space:pre;overflow-x:auto;line-height:normal;font-family:Menlo,'DejaVu Sans Mono',consolas,'Courier New',monospace\"><span style=\"color: #008080; text-decoration-color: #008080; font-weight: bold\">[+] Getting </span><span style=\"color: #008080; text-decoration-color: #008080; font-weight: bold; text-decoration: underline\">https://github.com/Aveek-Saha/DuskPlayer/blob/master/package.json</span>\n",
       "</pre>\n"
      ],
      "text/plain": [
       "\u001b[1;36m[\u001b[0m\u001b[1;36m+\u001b[0m\u001b[1;36m]\u001b[0m\u001b[1;36m Getting \u001b[0m\u001b[1;4;36mhttps://github.com/Aveek-Saha/DuskPlayer/blob/master/package.json\u001b[0m\n"
      ]
     },
     "metadata": {},
     "output_type": "display_data"
    },
    {
     "data": {
      "text/html": [
       "<pre style=\"white-space:pre;overflow-x:auto;line-height:normal;font-family:Menlo,'DejaVu Sans Mono',consolas,'Courier New',monospace\"><span style=\"color: #008080; text-decoration-color: #008080; font-weight: bold\">[+] Getting repo: </span><span style=\"color: #008080; text-decoration-color: #008080; font-weight: bold; text-decoration: underline\">https://github.com/EricTerrell/EBTCalc</span>\n",
       "</pre>\n"
      ],
      "text/plain": [
       "\u001b[1;36m[\u001b[0m\u001b[1;36m+\u001b[0m\u001b[1;36m]\u001b[0m\u001b[1;36m Getting repo: \u001b[0m\u001b[1;4;36mhttps://github.com/EricTerrell/EBTCalc\u001b[0m\n"
      ]
     },
     "metadata": {},
     "output_type": "display_data"
    },
    {
     "data": {
      "text/html": [
       "<pre style=\"white-space:pre;overflow-x:auto;line-height:normal;font-family:Menlo,'DejaVu Sans Mono',consolas,'Courier New',monospace\"><span style=\"color: #008080; text-decoration-color: #008080; font-weight: bold\">[+] Successfully retrieved repo: </span><span style=\"color: #008080; text-decoration-color: #008080; font-weight: bold; text-decoration: underline\">https://github.com/EricTerrell/EBTCalc</span>\n",
       "</pre>\n"
      ],
      "text/plain": [
       "\u001b[1;36m[\u001b[0m\u001b[1;36m+\u001b[0m\u001b[1;36m]\u001b[0m\u001b[1;36m Successfully retrieved repo: \u001b[0m\u001b[1;4;36mhttps://github.com/EricTerrell/EBTCalc\u001b[0m\n"
      ]
     },
     "metadata": {},
     "output_type": "display_data"
    },
    {
     "data": {
      "text/html": [
       "<pre style=\"white-space:pre;overflow-x:auto;line-height:normal;font-family:Menlo,'DejaVu Sans Mono',consolas,'Courier New',monospace\"><span style=\"color: #008080; text-decoration-color: #008080; font-weight: bold\">[+] Found package.json at </span><span style=\"color: #008080; text-decoration-color: #008080; font-weight: bold; text-decoration: underline\">https://github.com/EricTerrell/EBTCalc</span>\n",
       "</pre>\n"
      ],
      "text/plain": [
       "\u001b[1;36m[\u001b[0m\u001b[1;36m+\u001b[0m\u001b[1;36m]\u001b[0m\u001b[1;36m Found package.json at \u001b[0m\u001b[1;4;36mhttps://github.com/EricTerrell/EBTCalc\u001b[0m\n"
      ]
     },
     "metadata": {},
     "output_type": "display_data"
    },
    {
     "data": {
      "text/html": [
       "<pre style=\"white-space:pre;overflow-x:auto;line-height:normal;font-family:Menlo,'DejaVu Sans Mono',consolas,'Courier New',monospace\"><span style=\"color: #008080; text-decoration-color: #008080; font-weight: bold\">[+] Getting </span><span style=\"color: #008080; text-decoration-color: #008080; font-weight: bold; text-decoration: underline\">https://github.com/EricTerrell/EBTCalc/blob/master/package.json</span>\n",
       "</pre>\n"
      ],
      "text/plain": [
       "\u001b[1;36m[\u001b[0m\u001b[1;36m+\u001b[0m\u001b[1;36m]\u001b[0m\u001b[1;36m Getting \u001b[0m\u001b[1;4;36mhttps://github.com/EricTerrell/EBTCalc/blob/master/package.json\u001b[0m\n"
      ]
     },
     "metadata": {},
     "output_type": "display_data"
    },
    {
     "data": {
      "text/html": [
       "<pre style=\"white-space:pre;overflow-x:auto;line-height:normal;font-family:Menlo,'DejaVu Sans Mono',consolas,'Courier New',monospace\"><span style=\"color: #008080; text-decoration-color: #008080; font-weight: bold\">[+] Getting repo: </span><span style=\"color: #008080; text-decoration-color: #008080; font-weight: bold; text-decoration: underline\">https://github.com/afractal/echo-app</span>\n",
       "</pre>\n"
      ],
      "text/plain": [
       "\u001b[1;36m[\u001b[0m\u001b[1;36m+\u001b[0m\u001b[1;36m]\u001b[0m\u001b[1;36m Getting repo: \u001b[0m\u001b[1;4;36mhttps://github.com/afractal/echo-app\u001b[0m\n"
      ]
     },
     "metadata": {},
     "output_type": "display_data"
    },
    {
     "data": {
      "text/html": [
       "<pre style=\"white-space:pre;overflow-x:auto;line-height:normal;font-family:Menlo,'DejaVu Sans Mono',consolas,'Courier New',monospace\"><span style=\"color: #008080; text-decoration-color: #008080; font-weight: bold\">[+] Successfully retrieved repo: </span><span style=\"color: #008080; text-decoration-color: #008080; font-weight: bold; text-decoration: underline\">https://github.com/afractal/echo-app</span>\n",
       "</pre>\n"
      ],
      "text/plain": [
       "\u001b[1;36m[\u001b[0m\u001b[1;36m+\u001b[0m\u001b[1;36m]\u001b[0m\u001b[1;36m Successfully retrieved repo: \u001b[0m\u001b[1;4;36mhttps://github.com/afractal/echo-app\u001b[0m\n"
      ]
     },
     "metadata": {},
     "output_type": "display_data"
    },
    {
     "data": {
      "text/html": [
       "<pre style=\"white-space:pre;overflow-x:auto;line-height:normal;font-family:Menlo,'DejaVu Sans Mono',consolas,'Courier New',monospace\"><span style=\"color: #008080; text-decoration-color: #008080; font-weight: bold\">[+] Found package.json at </span><span style=\"color: #008080; text-decoration-color: #008080; font-weight: bold; text-decoration: underline\">https://github.com/afractal/echo-app</span>\n",
       "</pre>\n"
      ],
      "text/plain": [
       "\u001b[1;36m[\u001b[0m\u001b[1;36m+\u001b[0m\u001b[1;36m]\u001b[0m\u001b[1;36m Found package.json at \u001b[0m\u001b[1;4;36mhttps://github.com/afractal/echo-app\u001b[0m\n"
      ]
     },
     "metadata": {},
     "output_type": "display_data"
    },
    {
     "data": {
      "text/html": [
       "<pre style=\"white-space:pre;overflow-x:auto;line-height:normal;font-family:Menlo,'DejaVu Sans Mono',consolas,'Courier New',monospace\"><span style=\"color: #008080; text-decoration-color: #008080; font-weight: bold\">[+] Getting </span><span style=\"color: #008080; text-decoration-color: #008080; font-weight: bold; text-decoration: underline\">https://github.com/afractal/echo-app/blob/main/package.json</span>\n",
       "</pre>\n"
      ],
      "text/plain": [
       "\u001b[1;36m[\u001b[0m\u001b[1;36m+\u001b[0m\u001b[1;36m]\u001b[0m\u001b[1;36m Getting \u001b[0m\u001b[1;4;36mhttps://github.com/afractal/echo-app/blob/main/package.json\u001b[0m\n"
      ]
     },
     "metadata": {},
     "output_type": "display_data"
    },
    {
     "data": {
      "text/html": [
       "<pre style=\"white-space:pre;overflow-x:auto;line-height:normal;font-family:Menlo,'DejaVu Sans Mono',consolas,'Courier New',monospace\"><span style=\"color: #008080; text-decoration-color: #008080; font-weight: bold\">[+] Getting repo: </span><span style=\"color: #008080; text-decoration-color: #008080; font-weight: bold; text-decoration: underline\">https://github.com/garrylachman/ElectroCRUD</span>\n",
       "</pre>\n"
      ],
      "text/plain": [
       "\u001b[1;36m[\u001b[0m\u001b[1;36m+\u001b[0m\u001b[1;36m]\u001b[0m\u001b[1;36m Getting repo: \u001b[0m\u001b[1;4;36mhttps://github.com/garrylachman/ElectroCRUD\u001b[0m\n"
      ]
     },
     "metadata": {},
     "output_type": "display_data"
    },
    {
     "data": {
      "text/html": [
       "<pre style=\"white-space:pre;overflow-x:auto;line-height:normal;font-family:Menlo,'DejaVu Sans Mono',consolas,'Courier New',monospace\"><span style=\"color: #008080; text-decoration-color: #008080; font-weight: bold\">[+] Successfully retrieved repo: </span><span style=\"color: #008080; text-decoration-color: #008080; font-weight: bold; text-decoration: underline\">https://github.com/garrylachman/ElectroCRUD</span>\n",
       "</pre>\n"
      ],
      "text/plain": [
       "\u001b[1;36m[\u001b[0m\u001b[1;36m+\u001b[0m\u001b[1;36m]\u001b[0m\u001b[1;36m Successfully retrieved repo: \u001b[0m\u001b[1;4;36mhttps://github.com/garrylachman/ElectroCRUD\u001b[0m\n"
      ]
     },
     "metadata": {},
     "output_type": "display_data"
    },
    {
     "data": {
      "text/html": [
       "<pre style=\"white-space:pre;overflow-x:auto;line-height:normal;font-family:Menlo,'DejaVu Sans Mono',consolas,'Courier New',monospace\"><span style=\"color: #008080; text-decoration-color: #008080; font-weight: bold\">[+] Found package.json at </span><span style=\"color: #008080; text-decoration-color: #008080; font-weight: bold; text-decoration: underline\">https://github.com/garrylachman/ElectroCRUD</span>\n",
       "</pre>\n"
      ],
      "text/plain": [
       "\u001b[1;36m[\u001b[0m\u001b[1;36m+\u001b[0m\u001b[1;36m]\u001b[0m\u001b[1;36m Found package.json at \u001b[0m\u001b[1;4;36mhttps://github.com/garrylachman/ElectroCRUD\u001b[0m\n"
      ]
     },
     "metadata": {},
     "output_type": "display_data"
    },
    {
     "data": {
      "text/html": [
       "<pre style=\"white-space:pre;overflow-x:auto;line-height:normal;font-family:Menlo,'DejaVu Sans Mono',consolas,'Courier New',monospace\"><span style=\"color: #008080; text-decoration-color: #008080; font-weight: bold\">[+] Getting </span><span style=\"color: #008080; text-decoration-color: #008080; font-weight: bold; text-decoration: underline\">https://github.com/garrylachman/ElectroCRUD/blob/master/package.json</span>\n",
       "</pre>\n"
      ],
      "text/plain": [
       "\u001b[1;36m[\u001b[0m\u001b[1;36m+\u001b[0m\u001b[1;36m]\u001b[0m\u001b[1;36m Getting \u001b[0m\u001b[1;4;36mhttps://github.com/garrylachman/ElectroCRUD/blob/master/package.json\u001b[0m\n"
      ]
     },
     "metadata": {},
     "output_type": "display_data"
    },
    {
     "data": {
      "text/html": [
       "<pre style=\"white-space:pre;overflow-x:auto;line-height:normal;font-family:Menlo,'DejaVu Sans Mono',consolas,'Courier New',monospace\"><span style=\"color: #008080; text-decoration-color: #008080; font-weight: bold\">[+] Getting repo: </span><span style=\"color: #008080; text-decoration-color: #008080; font-weight: bold; text-decoration: underline\">https://github.com/Electron-Store/electron-app-store</span>\n",
       "</pre>\n"
      ],
      "text/plain": [
       "\u001b[1;36m[\u001b[0m\u001b[1;36m+\u001b[0m\u001b[1;36m]\u001b[0m\u001b[1;36m Getting repo: \u001b[0m\u001b[1;4;36mhttps://github.com/Electron-Store/electron-app-store\u001b[0m\n"
      ]
     },
     "metadata": {},
     "output_type": "display_data"
    },
    {
     "data": {
      "text/html": [
       "<pre style=\"white-space:pre;overflow-x:auto;line-height:normal;font-family:Menlo,'DejaVu Sans Mono',consolas,'Courier New',monospace\"><span style=\"color: #008080; text-decoration-color: #008080; font-weight: bold\">[+] Successfully retrieved repo: </span><span style=\"color: #008080; text-decoration-color: #008080; font-weight: bold; text-decoration: underline\">https://github.com/Electron-Store/electron-app-store</span>\n",
       "</pre>\n"
      ],
      "text/plain": [
       "\u001b[1;36m[\u001b[0m\u001b[1;36m+\u001b[0m\u001b[1;36m]\u001b[0m\u001b[1;36m Successfully retrieved repo: \u001b[0m\u001b[1;4;36mhttps://github.com/Electron-Store/electron-app-store\u001b[0m\n"
      ]
     },
     "metadata": {},
     "output_type": "display_data"
    },
    {
     "data": {
      "text/html": [
       "<pre style=\"white-space:pre;overflow-x:auto;line-height:normal;font-family:Menlo,'DejaVu Sans Mono',consolas,'Courier New',monospace\"><span style=\"color: #008080; text-decoration-color: #008080; font-weight: bold\">[+] Found package.json at </span><span style=\"color: #008080; text-decoration-color: #008080; font-weight: bold; text-decoration: underline\">https://github.com/Electron-Store/electron-app-store</span>\n",
       "</pre>\n"
      ],
      "text/plain": [
       "\u001b[1;36m[\u001b[0m\u001b[1;36m+\u001b[0m\u001b[1;36m]\u001b[0m\u001b[1;36m Found package.json at \u001b[0m\u001b[1;4;36mhttps://github.com/Electron-Store/electron-app-store\u001b[0m\n"
      ]
     },
     "metadata": {},
     "output_type": "display_data"
    },
    {
     "data": {
      "text/html": [
       "<pre style=\"white-space:pre;overflow-x:auto;line-height:normal;font-family:Menlo,'DejaVu Sans Mono',consolas,'Courier New',monospace\"><span style=\"color: #008080; text-decoration-color: #008080; font-weight: bold\">[+] Getting </span><span style=\"color: #008080; text-decoration-color: #008080; font-weight: bold; text-decoration: underline\">https://github.com/Electron-Store/electron-app-store/blob/main/package.json</span>\n",
       "</pre>\n"
      ],
      "text/plain": [
       "\u001b[1;36m[\u001b[0m\u001b[1;36m+\u001b[0m\u001b[1;36m]\u001b[0m\u001b[1;36m Getting \u001b[0m\u001b[1;4;36mhttps://github.com/Electron-Store/electron-app-store/blob/main/package.json\u001b[0m\n"
      ]
     },
     "metadata": {},
     "output_type": "display_data"
    },
    {
     "data": {
      "text/html": [
       "<pre style=\"white-space:pre;overflow-x:auto;line-height:normal;font-family:Menlo,'DejaVu Sans Mono',consolas,'Courier New',monospace\"><span style=\"color: #008080; text-decoration-color: #008080; font-weight: bold\">[+] Getting repo: </span><span style=\"color: #008080; text-decoration-color: #008080; font-weight: bold; text-decoration: underline\">https://github.com/kunalnagar/encrypt0r</span>\n",
       "</pre>\n"
      ],
      "text/plain": [
       "\u001b[1;36m[\u001b[0m\u001b[1;36m+\u001b[0m\u001b[1;36m]\u001b[0m\u001b[1;36m Getting repo: \u001b[0m\u001b[1;4;36mhttps://github.com/kunalnagar/encrypt0r\u001b[0m\n"
      ]
     },
     "metadata": {},
     "output_type": "display_data"
    },
    {
     "data": {
      "text/html": [
       "<pre style=\"white-space:pre;overflow-x:auto;line-height:normal;font-family:Menlo,'DejaVu Sans Mono',consolas,'Courier New',monospace\"><span style=\"color: #008080; text-decoration-color: #008080; font-weight: bold\">[+] Successfully retrieved repo: </span><span style=\"color: #008080; text-decoration-color: #008080; font-weight: bold; text-decoration: underline\">https://github.com/kunalnagar/encrypt0r</span>\n",
       "</pre>\n"
      ],
      "text/plain": [
       "\u001b[1;36m[\u001b[0m\u001b[1;36m+\u001b[0m\u001b[1;36m]\u001b[0m\u001b[1;36m Successfully retrieved repo: \u001b[0m\u001b[1;4;36mhttps://github.com/kunalnagar/encrypt0r\u001b[0m\n"
      ]
     },
     "metadata": {},
     "output_type": "display_data"
    },
    {
     "data": {
      "text/html": [
       "<pre style=\"white-space:pre;overflow-x:auto;line-height:normal;font-family:Menlo,'DejaVu Sans Mono',consolas,'Courier New',monospace\"><span style=\"color: #008080; text-decoration-color: #008080; font-weight: bold\">[+] Found package.json at </span><span style=\"color: #008080; text-decoration-color: #008080; font-weight: bold; text-decoration: underline\">https://github.com/kunalnagar/encrypt0r</span>\n",
       "</pre>\n"
      ],
      "text/plain": [
       "\u001b[1;36m[\u001b[0m\u001b[1;36m+\u001b[0m\u001b[1;36m]\u001b[0m\u001b[1;36m Found package.json at \u001b[0m\u001b[1;4;36mhttps://github.com/kunalnagar/encrypt0r\u001b[0m\n"
      ]
     },
     "metadata": {},
     "output_type": "display_data"
    },
    {
     "data": {
      "text/html": [
       "<pre style=\"white-space:pre;overflow-x:auto;line-height:normal;font-family:Menlo,'DejaVu Sans Mono',consolas,'Courier New',monospace\"><span style=\"color: #008080; text-decoration-color: #008080; font-weight: bold\">[+] Getting </span><span style=\"color: #008080; text-decoration-color: #008080; font-weight: bold; text-decoration: underline\">https://github.com/kunalnagar/encrypt0r/blob/master/package.json</span>\n",
       "</pre>\n"
      ],
      "text/plain": [
       "\u001b[1;36m[\u001b[0m\u001b[1;36m+\u001b[0m\u001b[1;36m]\u001b[0m\u001b[1;36m Getting \u001b[0m\u001b[1;4;36mhttps://github.com/kunalnagar/encrypt0r/blob/master/package.json\u001b[0m\n"
      ]
     },
     "metadata": {},
     "output_type": "display_data"
    },
    {
     "data": {
      "text/html": [
       "<pre style=\"white-space:pre;overflow-x:auto;line-height:normal;font-family:Menlo,'DejaVu Sans Mono',consolas,'Courier New',monospace\"><span style=\"color: #008080; text-decoration-color: #008080; font-weight: bold\">[+] Getting repo: </span><span style=\"color: #008080; text-decoration-color: #008080; font-weight: bold; text-decoration: underline\">https://github.com/losbiw/erin</span>\n",
       "</pre>\n"
      ],
      "text/plain": [
       "\u001b[1;36m[\u001b[0m\u001b[1;36m+\u001b[0m\u001b[1;36m]\u001b[0m\u001b[1;36m Getting repo: \u001b[0m\u001b[1;4;36mhttps://github.com/losbiw/erin\u001b[0m\n"
      ]
     },
     "metadata": {},
     "output_type": "display_data"
    },
    {
     "data": {
      "text/html": [
       "<pre style=\"white-space:pre;overflow-x:auto;line-height:normal;font-family:Menlo,'DejaVu Sans Mono',consolas,'Courier New',monospace\"><span style=\"color: #008080; text-decoration-color: #008080; font-weight: bold\">[+] Successfully retrieved repo: </span><span style=\"color: #008080; text-decoration-color: #008080; font-weight: bold; text-decoration: underline\">https://github.com/losbiw/erin</span>\n",
       "</pre>\n"
      ],
      "text/plain": [
       "\u001b[1;36m[\u001b[0m\u001b[1;36m+\u001b[0m\u001b[1;36m]\u001b[0m\u001b[1;36m Successfully retrieved repo: \u001b[0m\u001b[1;4;36mhttps://github.com/losbiw/erin\u001b[0m\n"
      ]
     },
     "metadata": {},
     "output_type": "display_data"
    },
    {
     "data": {
      "text/html": [
       "<pre style=\"white-space:pre;overflow-x:auto;line-height:normal;font-family:Menlo,'DejaVu Sans Mono',consolas,'Courier New',monospace\"><span style=\"color: #008080; text-decoration-color: #008080; font-weight: bold\">[+] Found package.json at </span><span style=\"color: #008080; text-decoration-color: #008080; font-weight: bold; text-decoration: underline\">https://github.com/losbiw/erin</span>\n",
       "</pre>\n"
      ],
      "text/plain": [
       "\u001b[1;36m[\u001b[0m\u001b[1;36m+\u001b[0m\u001b[1;36m]\u001b[0m\u001b[1;36m Found package.json at \u001b[0m\u001b[1;4;36mhttps://github.com/losbiw/erin\u001b[0m\n"
      ]
     },
     "metadata": {},
     "output_type": "display_data"
    },
    {
     "data": {
      "text/html": [
       "<pre style=\"white-space:pre;overflow-x:auto;line-height:normal;font-family:Menlo,'DejaVu Sans Mono',consolas,'Courier New',monospace\"><span style=\"color: #008080; text-decoration-color: #008080; font-weight: bold\">[+] Getting </span><span style=\"color: #008080; text-decoration-color: #008080; font-weight: bold; text-decoration: underline\">https://github.com/losbiw/erin/blob/master/package.json</span>\n",
       "</pre>\n"
      ],
      "text/plain": [
       "\u001b[1;36m[\u001b[0m\u001b[1;36m+\u001b[0m\u001b[1;36m]\u001b[0m\u001b[1;36m Getting \u001b[0m\u001b[1;4;36mhttps://github.com/losbiw/erin/blob/master/package.json\u001b[0m\n"
      ]
     },
     "metadata": {},
     "output_type": "display_data"
    },
    {
     "data": {
      "text/html": [
       "<pre style=\"white-space:pre;overflow-x:auto;line-height:normal;font-family:Menlo,'DejaVu Sans Mono',consolas,'Courier New',monospace\"><span style=\"color: #008080; text-decoration-color: #008080; font-weight: bold\">[+] Getting repo: </span><span style=\"color: #008080; text-decoration-color: #008080; font-weight: bold; text-decoration: underline\">https://github.com/xushengfeng/eSearch</span>\n",
       "</pre>\n"
      ],
      "text/plain": [
       "\u001b[1;36m[\u001b[0m\u001b[1;36m+\u001b[0m\u001b[1;36m]\u001b[0m\u001b[1;36m Getting repo: \u001b[0m\u001b[1;4;36mhttps://github.com/xushengfeng/eSearch\u001b[0m\n"
      ]
     },
     "metadata": {},
     "output_type": "display_data"
    },
    {
     "data": {
      "text/html": [
       "<pre style=\"white-space:pre;overflow-x:auto;line-height:normal;font-family:Menlo,'DejaVu Sans Mono',consolas,'Courier New',monospace\"><span style=\"color: #008080; text-decoration-color: #008080; font-weight: bold\">[+] Successfully retrieved repo: </span><span style=\"color: #008080; text-decoration-color: #008080; font-weight: bold; text-decoration: underline\">https://github.com/xushengfeng/eSearch</span>\n",
       "</pre>\n"
      ],
      "text/plain": [
       "\u001b[1;36m[\u001b[0m\u001b[1;36m+\u001b[0m\u001b[1;36m]\u001b[0m\u001b[1;36m Successfully retrieved repo: \u001b[0m\u001b[1;4;36mhttps://github.com/xushengfeng/eSearch\u001b[0m\n"
      ]
     },
     "metadata": {},
     "output_type": "display_data"
    },
    {
     "data": {
      "text/html": [
       "<pre style=\"white-space:pre;overflow-x:auto;line-height:normal;font-family:Menlo,'DejaVu Sans Mono',consolas,'Courier New',monospace\"><span style=\"color: #008080; text-decoration-color: #008080; font-weight: bold\">[+] Found package.json at </span><span style=\"color: #008080; text-decoration-color: #008080; font-weight: bold; text-decoration: underline\">https://github.com/xushengfeng/eSearch</span>\n",
       "</pre>\n"
      ],
      "text/plain": [
       "\u001b[1;36m[\u001b[0m\u001b[1;36m+\u001b[0m\u001b[1;36m]\u001b[0m\u001b[1;36m Found package.json at \u001b[0m\u001b[1;4;36mhttps://github.com/xushengfeng/eSearch\u001b[0m\n"
      ]
     },
     "metadata": {},
     "output_type": "display_data"
    },
    {
     "data": {
      "text/html": [
       "<pre style=\"white-space:pre;overflow-x:auto;line-height:normal;font-family:Menlo,'DejaVu Sans Mono',consolas,'Courier New',monospace\"><span style=\"color: #008080; text-decoration-color: #008080; font-weight: bold\">[+] Getting </span><span style=\"color: #008080; text-decoration-color: #008080; font-weight: bold; text-decoration: underline\">https://github.com/xushengfeng/eSearch/blob/master/package.json</span>\n",
       "</pre>\n"
      ],
      "text/plain": [
       "\u001b[1;36m[\u001b[0m\u001b[1;36m+\u001b[0m\u001b[1;36m]\u001b[0m\u001b[1;36m Getting \u001b[0m\u001b[1;4;36mhttps://github.com/xushengfeng/eSearch/blob/master/package.json\u001b[0m\n"
      ]
     },
     "metadata": {},
     "output_type": "display_data"
    },
    {
     "data": {
      "text/html": [
       "<pre style=\"white-space:pre;overflow-x:auto;line-height:normal;font-family:Menlo,'DejaVu Sans Mono',consolas,'Courier New',monospace\"><span style=\"color: #008080; text-decoration-color: #008080; font-weight: bold\">[+] Getting repo: </span><span style=\"color: #008080; text-decoration-color: #008080; font-weight: bold; text-decoration: underline\">https://github.com/icellmobilsoft/etcdmanager.git</span>\n",
       "</pre>\n"
      ],
      "text/plain": [
       "\u001b[1;36m[\u001b[0m\u001b[1;36m+\u001b[0m\u001b[1;36m]\u001b[0m\u001b[1;36m Getting repo: \u001b[0m\u001b[1;4;36mhttps://github.com/icellmobilsoft/etcdmanager.git\u001b[0m\n"
      ]
     },
     "metadata": {},
     "output_type": "display_data"
    },
    {
     "data": {
      "text/html": [
       "<pre style=\"white-space:pre;overflow-x:auto;line-height:normal;font-family:Menlo,'DejaVu Sans Mono',consolas,'Courier New',monospace\"><span style=\"color: #008080; text-decoration-color: #008080; font-weight: bold\">[+] Successfully retrieved repo: </span><span style=\"color: #008080; text-decoration-color: #008080; font-weight: bold; text-decoration: underline\">https://github.com/icellmobilsoft/etcdmanager.git</span>\n",
       "</pre>\n"
      ],
      "text/plain": [
       "\u001b[1;36m[\u001b[0m\u001b[1;36m+\u001b[0m\u001b[1;36m]\u001b[0m\u001b[1;36m Successfully retrieved repo: \u001b[0m\u001b[1;4;36mhttps://github.com/icellmobilsoft/etcdmanager.git\u001b[0m\n"
      ]
     },
     "metadata": {},
     "output_type": "display_data"
    },
    {
     "data": {
      "text/html": [
       "<pre style=\"white-space:pre;overflow-x:auto;line-height:normal;font-family:Menlo,'DejaVu Sans Mono',consolas,'Courier New',monospace\"><span style=\"color: #008080; text-decoration-color: #008080; font-weight: bold\">[+] Found package.json at </span><span style=\"color: #008080; text-decoration-color: #008080; font-weight: bold; text-decoration: underline\">https://github.com/icellmobilsoft/etcdmanager.git</span>\n",
       "</pre>\n"
      ],
      "text/plain": [
       "\u001b[1;36m[\u001b[0m\u001b[1;36m+\u001b[0m\u001b[1;36m]\u001b[0m\u001b[1;36m Found package.json at \u001b[0m\u001b[1;4;36mhttps://github.com/icellmobilsoft/etcdmanager.git\u001b[0m\n"
      ]
     },
     "metadata": {},
     "output_type": "display_data"
    },
    {
     "data": {
      "text/html": [
       "<pre style=\"white-space:pre;overflow-x:auto;line-height:normal;font-family:Menlo,'DejaVu Sans Mono',consolas,'Courier New',monospace\"><span style=\"color: #008080; text-decoration-color: #008080; font-weight: bold\">[+] Getting </span><span style=\"color: #008080; text-decoration-color: #008080; font-weight: bold; text-decoration: underline\">https://github.com/gtamas/etcdmanager/blob/master/package.json</span>\n",
       "</pre>\n"
      ],
      "text/plain": [
       "\u001b[1;36m[\u001b[0m\u001b[1;36m+\u001b[0m\u001b[1;36m]\u001b[0m\u001b[1;36m Getting \u001b[0m\u001b[1;4;36mhttps://github.com/gtamas/etcdmanager/blob/master/package.json\u001b[0m\n"
      ]
     },
     "metadata": {},
     "output_type": "display_data"
    },
    {
     "data": {
      "text/html": [
       "<pre style=\"white-space:pre;overflow-x:auto;line-height:normal;font-family:Menlo,'DejaVu Sans Mono',consolas,'Courier New',monospace\"><span style=\"color: #ff5f00; text-decoration-color: #ff5f00; font-weight: bold\">[!] Invalid Semantic version: </span><span style=\"color: #ff5f00; text-decoration-color: #ff5f00; font-weight: bold\">6</span>\n",
       "</pre>\n"
      ],
      "text/plain": [
       "\u001b[1;38;5;202m[\u001b[0m\u001b[1;38;5;202m!\u001b[0m\u001b[1;38;5;202m]\u001b[0m\u001b[1;38;5;202m Invalid Semantic version: \u001b[0m\u001b[1;38;5;202m6\u001b[0m\n"
      ]
     },
     "metadata": {},
     "output_type": "display_data"
    },
    {
     "data": {
      "text/html": [
       "<pre style=\"white-space:pre;overflow-x:auto;line-height:normal;font-family:Menlo,'DejaVu Sans Mono',consolas,'Courier New',monospace\"><span style=\"color: #ff5f00; text-decoration-color: #ff5f00; font-weight: bold\">[!] Invalid Semantic version: </span><span style=\"color: #ff5f00; text-decoration-color: #ff5f00; font-weight: bold\">6</span>\n",
       "</pre>\n"
      ],
      "text/plain": [
       "\u001b[1;38;5;202m[\u001b[0m\u001b[1;38;5;202m!\u001b[0m\u001b[1;38;5;202m]\u001b[0m\u001b[1;38;5;202m Invalid Semantic version: \u001b[0m\u001b[1;38;5;202m6\u001b[0m\n"
      ]
     },
     "metadata": {},
     "output_type": "display_data"
    },
    {
     "data": {
      "text/html": [
       "<pre style=\"white-space:pre;overflow-x:auto;line-height:normal;font-family:Menlo,'DejaVu Sans Mono',consolas,'Courier New',monospace\"><span style=\"color: #008080; text-decoration-color: #008080; font-weight: bold\">[+] Getting repo: </span><span style=\"color: #008080; text-decoration-color: #008080; font-weight: bold; text-decoration: underline\">https://github.com/resin-io/etcher</span>\n",
       "</pre>\n"
      ],
      "text/plain": [
       "\u001b[1;36m[\u001b[0m\u001b[1;36m+\u001b[0m\u001b[1;36m]\u001b[0m\u001b[1;36m Getting repo: \u001b[0m\u001b[1;4;36mhttps://github.com/resin-io/etcher\u001b[0m\n"
      ]
     },
     "metadata": {},
     "output_type": "display_data"
    },
    {
     "data": {
      "text/html": [
       "<pre style=\"white-space:pre;overflow-x:auto;line-height:normal;font-family:Menlo,'DejaVu Sans Mono',consolas,'Courier New',monospace\"><span style=\"color: #008080; text-decoration-color: #008080; font-weight: bold\">[+] Successfully retrieved repo: </span><span style=\"color: #008080; text-decoration-color: #008080; font-weight: bold; text-decoration: underline\">https://github.com/resin-io/etcher</span>\n",
       "</pre>\n"
      ],
      "text/plain": [
       "\u001b[1;36m[\u001b[0m\u001b[1;36m+\u001b[0m\u001b[1;36m]\u001b[0m\u001b[1;36m Successfully retrieved repo: \u001b[0m\u001b[1;4;36mhttps://github.com/resin-io/etcher\u001b[0m\n"
      ]
     },
     "metadata": {},
     "output_type": "display_data"
    },
    {
     "data": {
      "text/html": [
       "<pre style=\"white-space:pre;overflow-x:auto;line-height:normal;font-family:Menlo,'DejaVu Sans Mono',consolas,'Courier New',monospace\"><span style=\"color: #008080; text-decoration-color: #008080; font-weight: bold\">[+] Found package.json at </span><span style=\"color: #008080; text-decoration-color: #008080; font-weight: bold; text-decoration: underline\">https://github.com/resin-io/etcher</span>\n",
       "</pre>\n"
      ],
      "text/plain": [
       "\u001b[1;36m[\u001b[0m\u001b[1;36m+\u001b[0m\u001b[1;36m]\u001b[0m\u001b[1;36m Found package.json at \u001b[0m\u001b[1;4;36mhttps://github.com/resin-io/etcher\u001b[0m\n"
      ]
     },
     "metadata": {},
     "output_type": "display_data"
    },
    {
     "data": {
      "text/html": [
       "<pre style=\"white-space:pre;overflow-x:auto;line-height:normal;font-family:Menlo,'DejaVu Sans Mono',consolas,'Courier New',monospace\"><span style=\"color: #008080; text-decoration-color: #008080; font-weight: bold\">[+] Getting </span><span style=\"color: #008080; text-decoration-color: #008080; font-weight: bold; text-decoration: underline\">https://github.com/balena-io/etcher/blob/master/package.json</span>\n",
       "</pre>\n"
      ],
      "text/plain": [
       "\u001b[1;36m[\u001b[0m\u001b[1;36m+\u001b[0m\u001b[1;36m]\u001b[0m\u001b[1;36m Getting \u001b[0m\u001b[1;4;36mhttps://github.com/balena-io/etcher/blob/master/package.json\u001b[0m\n"
      ]
     },
     "metadata": {},
     "output_type": "display_data"
    },
    {
     "data": {
      "text/html": [
       "<pre style=\"white-space:pre;overflow-x:auto;line-height:normal;font-family:Menlo,'DejaVu Sans Mono',consolas,'Courier New',monospace\"><span style=\"color: #008080; text-decoration-color: #008080; font-weight: bold\">[+] Getting repo: </span><span style=\"color: #008080; text-decoration-color: #008080; font-weight: bold; text-decoration: underline\">https://github.com/szTheory/exifcleaner</span>\n",
       "</pre>\n"
      ],
      "text/plain": [
       "\u001b[1;36m[\u001b[0m\u001b[1;36m+\u001b[0m\u001b[1;36m]\u001b[0m\u001b[1;36m Getting repo: \u001b[0m\u001b[1;4;36mhttps://github.com/szTheory/exifcleaner\u001b[0m\n"
      ]
     },
     "metadata": {},
     "output_type": "display_data"
    },
    {
     "data": {
      "text/html": [
       "<pre style=\"white-space:pre;overflow-x:auto;line-height:normal;font-family:Menlo,'DejaVu Sans Mono',consolas,'Courier New',monospace\"><span style=\"color: #008080; text-decoration-color: #008080; font-weight: bold\">[+] Successfully retrieved repo: </span><span style=\"color: #008080; text-decoration-color: #008080; font-weight: bold; text-decoration: underline\">https://github.com/szTheory/exifcleaner</span>\n",
       "</pre>\n"
      ],
      "text/plain": [
       "\u001b[1;36m[\u001b[0m\u001b[1;36m+\u001b[0m\u001b[1;36m]\u001b[0m\u001b[1;36m Successfully retrieved repo: \u001b[0m\u001b[1;4;36mhttps://github.com/szTheory/exifcleaner\u001b[0m\n"
      ]
     },
     "metadata": {},
     "output_type": "display_data"
    },
    {
     "data": {
      "text/html": [
       "<pre style=\"white-space:pre;overflow-x:auto;line-height:normal;font-family:Menlo,'DejaVu Sans Mono',consolas,'Courier New',monospace\"><span style=\"color: #008080; text-decoration-color: #008080; font-weight: bold\">[+] Found package.json at </span><span style=\"color: #008080; text-decoration-color: #008080; font-weight: bold; text-decoration: underline\">https://github.com/szTheory/exifcleaner</span>\n",
       "</pre>\n"
      ],
      "text/plain": [
       "\u001b[1;36m[\u001b[0m\u001b[1;36m+\u001b[0m\u001b[1;36m]\u001b[0m\u001b[1;36m Found package.json at \u001b[0m\u001b[1;4;36mhttps://github.com/szTheory/exifcleaner\u001b[0m\n"
      ]
     },
     "metadata": {},
     "output_type": "display_data"
    },
    {
     "data": {
      "text/html": [
       "<pre style=\"white-space:pre;overflow-x:auto;line-height:normal;font-family:Menlo,'DejaVu Sans Mono',consolas,'Courier New',monospace\"><span style=\"color: #008080; text-decoration-color: #008080; font-weight: bold\">[+] Getting </span><span style=\"color: #008080; text-decoration-color: #008080; font-weight: bold; text-decoration: underline\">https://github.com/szTheory/exifcleaner/blob/master/package.json</span>\n",
       "</pre>\n"
      ],
      "text/plain": [
       "\u001b[1;36m[\u001b[0m\u001b[1;36m+\u001b[0m\u001b[1;36m]\u001b[0m\u001b[1;36m Getting \u001b[0m\u001b[1;4;36mhttps://github.com/szTheory/exifcleaner/blob/master/package.json\u001b[0m\n"
      ]
     },
     "metadata": {},
     "output_type": "display_data"
    },
    {
     "data": {
      "text/html": [
       "<pre style=\"white-space:pre;overflow-x:auto;line-height:normal;font-family:Menlo,'DejaVu Sans Mono',consolas,'Courier New',monospace\"><span style=\"color: #ff5f00; text-decoration-color: #ff5f00; font-weight: bold\">[!] Invalid Semantic version: </span><span style=\"color: #ff5f00; text-decoration-color: #ff5f00; font-weight: bold\">11.0</span>\n",
       "</pre>\n"
      ],
      "text/plain": [
       "\u001b[1;38;5;202m[\u001b[0m\u001b[1;38;5;202m!\u001b[0m\u001b[1;38;5;202m]\u001b[0m\u001b[1;38;5;202m Invalid Semantic version: \u001b[0m\u001b[1;38;5;202m11.0\u001b[0m\n"
      ]
     },
     "metadata": {},
     "output_type": "display_data"
    },
    {
     "data": {
      "text/html": [
       "<pre style=\"white-space:pre;overflow-x:auto;line-height:normal;font-family:Menlo,'DejaVu Sans Mono',consolas,'Courier New',monospace\"><span style=\"color: #ff5f00; text-decoration-color: #ff5f00; font-weight: bold\">[!] Invalid Semantic version: </span><span style=\"color: #ff5f00; text-decoration-color: #ff5f00; font-weight: bold\">11.0</span>\n",
       "</pre>\n"
      ],
      "text/plain": [
       "\u001b[1;38;5;202m[\u001b[0m\u001b[1;38;5;202m!\u001b[0m\u001b[1;38;5;202m]\u001b[0m\u001b[1;38;5;202m Invalid Semantic version: \u001b[0m\u001b[1;38;5;202m11.0\u001b[0m\n"
      ]
     },
     "metadata": {},
     "output_type": "display_data"
    },
    {
     "data": {
      "text/html": [
       "<pre style=\"white-space:pre;overflow-x:auto;line-height:normal;font-family:Menlo,'DejaVu Sans Mono',consolas,'Courier New',monospace\"><span style=\"color: #008080; text-decoration-color: #008080; font-weight: bold\">[+] Getting repo: </span><span style=\"color: #008080; text-decoration-color: #008080; font-weight: bold; text-decoration: underline\">https://github.com/xizon/F-Curator/</span>\n",
       "</pre>\n"
      ],
      "text/plain": [
       "\u001b[1;36m[\u001b[0m\u001b[1;36m+\u001b[0m\u001b[1;36m]\u001b[0m\u001b[1;36m Getting repo: \u001b[0m\u001b[1;4;36mhttps://github.com/xizon/F-Curator/\u001b[0m\n"
      ]
     },
     "metadata": {},
     "output_type": "display_data"
    },
    {
     "data": {
      "text/html": [
       "<pre style=\"white-space:pre;overflow-x:auto;line-height:normal;font-family:Menlo,'DejaVu Sans Mono',consolas,'Courier New',monospace\"><span style=\"color: #008080; text-decoration-color: #008080; font-weight: bold\">[+] Successfully retrieved repo: </span><span style=\"color: #008080; text-decoration-color: #008080; font-weight: bold; text-decoration: underline\">https://github.com/xizon/F-Curator/</span>\n",
       "</pre>\n"
      ],
      "text/plain": [
       "\u001b[1;36m[\u001b[0m\u001b[1;36m+\u001b[0m\u001b[1;36m]\u001b[0m\u001b[1;36m Successfully retrieved repo: \u001b[0m\u001b[1;4;36mhttps://github.com/xizon/F-Curator/\u001b[0m\n"
      ]
     },
     "metadata": {},
     "output_type": "display_data"
    },
    {
     "data": {
      "text/html": [
       "<pre style=\"white-space:pre;overflow-x:auto;line-height:normal;font-family:Menlo,'DejaVu Sans Mono',consolas,'Courier New',monospace\"><span style=\"color: #008080; text-decoration-color: #008080; font-weight: bold\">[+] Found package.json at </span><span style=\"color: #008080; text-decoration-color: #008080; font-weight: bold; text-decoration: underline\">https://github.com/xizon/F-Curator/</span>\n",
       "</pre>\n"
      ],
      "text/plain": [
       "\u001b[1;36m[\u001b[0m\u001b[1;36m+\u001b[0m\u001b[1;36m]\u001b[0m\u001b[1;36m Found package.json at \u001b[0m\u001b[1;4;36mhttps://github.com/xizon/F-Curator/\u001b[0m\n"
      ]
     },
     "metadata": {},
     "output_type": "display_data"
    },
    {
     "data": {
      "text/html": [
       "<pre style=\"white-space:pre;overflow-x:auto;line-height:normal;font-family:Menlo,'DejaVu Sans Mono',consolas,'Courier New',monospace\"><span style=\"color: #008080; text-decoration-color: #008080; font-weight: bold\">[+] Getting </span><span style=\"color: #008080; text-decoration-color: #008080; font-weight: bold; text-decoration: underline\">https://github.com/xizon/F-Curator/blob/main/package.json</span>\n",
       "</pre>\n"
      ],
      "text/plain": [
       "\u001b[1;36m[\u001b[0m\u001b[1;36m+\u001b[0m\u001b[1;36m]\u001b[0m\u001b[1;36m Getting \u001b[0m\u001b[1;4;36mhttps://github.com/xizon/F-Curator/blob/main/package.json\u001b[0m\n"
      ]
     },
     "metadata": {},
     "output_type": "display_data"
    },
    {
     "data": {
      "text/html": [
       "<pre style=\"white-space:pre;overflow-x:auto;line-height:normal;font-family:Menlo,'DejaVu Sans Mono',consolas,'Courier New',monospace\"><span style=\"color: #008080; text-decoration-color: #008080; font-weight: bold\">[+] Getting repo: </span><span style=\"color: #008080; text-decoration-color: #008080; font-weight: bold; text-decoration: underline\">https://github.com/fairdataihub/FAIRshare</span>\n",
       "</pre>\n"
      ],
      "text/plain": [
       "\u001b[1;36m[\u001b[0m\u001b[1;36m+\u001b[0m\u001b[1;36m]\u001b[0m\u001b[1;36m Getting repo: \u001b[0m\u001b[1;4;36mhttps://github.com/fairdataihub/FAIRshare\u001b[0m\n"
      ]
     },
     "metadata": {},
     "output_type": "display_data"
    },
    {
     "data": {
      "text/html": [
       "<pre style=\"white-space:pre;overflow-x:auto;line-height:normal;font-family:Menlo,'DejaVu Sans Mono',consolas,'Courier New',monospace\"><span style=\"color: #008080; text-decoration-color: #008080; font-weight: bold\">[+] Successfully retrieved repo: </span><span style=\"color: #008080; text-decoration-color: #008080; font-weight: bold; text-decoration: underline\">https://github.com/fairdataihub/FAIRshare</span>\n",
       "</pre>\n"
      ],
      "text/plain": [
       "\u001b[1;36m[\u001b[0m\u001b[1;36m+\u001b[0m\u001b[1;36m]\u001b[0m\u001b[1;36m Successfully retrieved repo: \u001b[0m\u001b[1;4;36mhttps://github.com/fairdataihub/FAIRshare\u001b[0m\n"
      ]
     },
     "metadata": {},
     "output_type": "display_data"
    },
    {
     "data": {
      "text/html": [
       "<pre style=\"white-space:pre;overflow-x:auto;line-height:normal;font-family:Menlo,'DejaVu Sans Mono',consolas,'Courier New',monospace\"><span style=\"color: #008080; text-decoration-color: #008080; font-weight: bold\">[+] Found package.json at </span><span style=\"color: #008080; text-decoration-color: #008080; font-weight: bold; text-decoration: underline\">https://github.com/fairdataihub/FAIRshare</span>\n",
       "</pre>\n"
      ],
      "text/plain": [
       "\u001b[1;36m[\u001b[0m\u001b[1;36m+\u001b[0m\u001b[1;36m]\u001b[0m\u001b[1;36m Found package.json at \u001b[0m\u001b[1;4;36mhttps://github.com/fairdataihub/FAIRshare\u001b[0m\n"
      ]
     },
     "metadata": {},
     "output_type": "display_data"
    },
    {
     "data": {
      "text/html": [
       "<pre style=\"white-space:pre;overflow-x:auto;line-height:normal;font-family:Menlo,'DejaVu Sans Mono',consolas,'Courier New',monospace\"><span style=\"color: #008080; text-decoration-color: #008080; font-weight: bold\">[+] Getting </span><span style=\"color: #008080; text-decoration-color: #008080; font-weight: bold; text-decoration: underline\">https://github.com/fairdataihub/FAIRshare/blob/main/package.json</span>\n",
       "</pre>\n"
      ],
      "text/plain": [
       "\u001b[1;36m[\u001b[0m\u001b[1;36m+\u001b[0m\u001b[1;36m]\u001b[0m\u001b[1;36m Getting \u001b[0m\u001b[1;4;36mhttps://github.com/fairdataihub/FAIRshare/blob/main/package.json\u001b[0m\n"
      ]
     },
     "metadata": {},
     "output_type": "display_data"
    },
    {
     "data": {
      "text/html": [
       "<pre style=\"white-space:pre;overflow-x:auto;line-height:normal;font-family:Menlo,'DejaVu Sans Mono',consolas,'Courier New',monospace\"><span style=\"color: #008080; text-decoration-color: #008080; font-weight: bold\">[+] Getting repo: </span><span style=\"color: #008080; text-decoration-color: #008080; font-weight: bold; text-decoration: underline\">https://github.com/getferdi/ferdi</span>\n",
       "</pre>\n"
      ],
      "text/plain": [
       "\u001b[1;36m[\u001b[0m\u001b[1;36m+\u001b[0m\u001b[1;36m]\u001b[0m\u001b[1;36m Getting repo: \u001b[0m\u001b[1;4;36mhttps://github.com/getferdi/ferdi\u001b[0m\n"
      ]
     },
     "metadata": {},
     "output_type": "display_data"
    },
    {
     "data": {
      "text/html": [
       "<pre style=\"white-space:pre;overflow-x:auto;line-height:normal;font-family:Menlo,'DejaVu Sans Mono',consolas,'Courier New',monospace\"><span style=\"color: #800000; text-decoration-color: #800000; font-weight: bold\">[💀] Could not connect to </span><span style=\"color: #800000; text-decoration-color: #800000; font-weight: bold; text-decoration: underline\">https://github.com/getferdi/ferdi</span>\n",
       "</pre>\n"
      ],
      "text/plain": [
       "\u001b[1;31m[\u001b[0m\u001b[1;31m💀\u001b[0m\u001b[1;31m]\u001b[0m\u001b[1;31m Could not connect to \u001b[0m\u001b[1;4;31mhttps://github.com/getferdi/ferdi\u001b[0m\n"
      ]
     },
     "metadata": {},
     "output_type": "display_data"
    },
    {
     "data": {
      "text/html": [
       "<pre style=\"white-space:pre;overflow-x:auto;line-height:normal;font-family:Menlo,'DejaVu Sans Mono',consolas,'Courier New',monospace\"><span style=\"color: #008080; text-decoration-color: #008080; font-weight: bold\">[+] Getting repo: </span><span style=\"color: #008080; text-decoration-color: #008080; font-weight: bold; text-decoration: underline\">https://github.com/snaildos/Fifo-Browser</span>\n",
       "</pre>\n"
      ],
      "text/plain": [
       "\u001b[1;36m[\u001b[0m\u001b[1;36m+\u001b[0m\u001b[1;36m]\u001b[0m\u001b[1;36m Getting repo: \u001b[0m\u001b[1;4;36mhttps://github.com/snaildos/Fifo-Browser\u001b[0m\n"
      ]
     },
     "metadata": {},
     "output_type": "display_data"
    },
    {
     "data": {
      "text/html": [
       "<pre style=\"white-space:pre;overflow-x:auto;line-height:normal;font-family:Menlo,'DejaVu Sans Mono',consolas,'Courier New',monospace\"><span style=\"color: #008080; text-decoration-color: #008080; font-weight: bold\">[+] Successfully retrieved repo: </span><span style=\"color: #008080; text-decoration-color: #008080; font-weight: bold; text-decoration: underline\">https://github.com/snaildos/Fifo-Browser</span>\n",
       "</pre>\n"
      ],
      "text/plain": [
       "\u001b[1;36m[\u001b[0m\u001b[1;36m+\u001b[0m\u001b[1;36m]\u001b[0m\u001b[1;36m Successfully retrieved repo: \u001b[0m\u001b[1;4;36mhttps://github.com/snaildos/Fifo-Browser\u001b[0m\n"
      ]
     },
     "metadata": {},
     "output_type": "display_data"
    },
    {
     "data": {
      "text/html": [
       "<pre style=\"white-space:pre;overflow-x:auto;line-height:normal;font-family:Menlo,'DejaVu Sans Mono',consolas,'Courier New',monospace\"><span style=\"color: #008080; text-decoration-color: #008080; font-weight: bold\">[+] Found package.json at </span><span style=\"color: #008080; text-decoration-color: #008080; font-weight: bold; text-decoration: underline\">https://github.com/snaildos/Fifo-Browser</span>\n",
       "</pre>\n"
      ],
      "text/plain": [
       "\u001b[1;36m[\u001b[0m\u001b[1;36m+\u001b[0m\u001b[1;36m]\u001b[0m\u001b[1;36m Found package.json at \u001b[0m\u001b[1;4;36mhttps://github.com/snaildos/Fifo-Browser\u001b[0m\n"
      ]
     },
     "metadata": {},
     "output_type": "display_data"
    },
    {
     "data": {
      "text/html": [
       "<pre style=\"white-space:pre;overflow-x:auto;line-height:normal;font-family:Menlo,'DejaVu Sans Mono',consolas,'Courier New',monospace\"><span style=\"color: #008080; text-decoration-color: #008080; font-weight: bold\">[+] Getting </span><span style=\"color: #008080; text-decoration-color: #008080; font-weight: bold; text-decoration: underline\">https://github.com/snaildos/Fifo-Browser/blob/main/package.json</span>\n",
       "</pre>\n"
      ],
      "text/plain": [
       "\u001b[1;36m[\u001b[0m\u001b[1;36m+\u001b[0m\u001b[1;36m]\u001b[0m\u001b[1;36m Getting \u001b[0m\u001b[1;4;36mhttps://github.com/snaildos/Fifo-Browser/blob/main/package.json\u001b[0m\n"
      ]
     },
     "metadata": {},
     "output_type": "display_data"
    },
    {
     "data": {
      "text/html": [
       "<pre style=\"white-space:pre;overflow-x:auto;line-height:normal;font-family:Menlo,'DejaVu Sans Mono',consolas,'Courier New',monospace\"><span style=\"color: #008080; text-decoration-color: #008080; font-weight: bold\">[+] Getting repo: </span><span style=\"color: #008080; text-decoration-color: #008080; font-weight: bold; text-decoration: underline\">https://github.com/tomaschyly/FileCtor</span>\n",
       "</pre>\n"
      ],
      "text/plain": [
       "\u001b[1;36m[\u001b[0m\u001b[1;36m+\u001b[0m\u001b[1;36m]\u001b[0m\u001b[1;36m Getting repo: \u001b[0m\u001b[1;4;36mhttps://github.com/tomaschyly/FileCtor\u001b[0m\n"
      ]
     },
     "metadata": {},
     "output_type": "display_data"
    },
    {
     "data": {
      "text/html": [
       "<pre style=\"white-space:pre;overflow-x:auto;line-height:normal;font-family:Menlo,'DejaVu Sans Mono',consolas,'Courier New',monospace\"><span style=\"color: #008080; text-decoration-color: #008080; font-weight: bold\">[+] Successfully retrieved repo: </span><span style=\"color: #008080; text-decoration-color: #008080; font-weight: bold; text-decoration: underline\">https://github.com/tomaschyly/FileCtor</span>\n",
       "</pre>\n"
      ],
      "text/plain": [
       "\u001b[1;36m[\u001b[0m\u001b[1;36m+\u001b[0m\u001b[1;36m]\u001b[0m\u001b[1;36m Successfully retrieved repo: \u001b[0m\u001b[1;4;36mhttps://github.com/tomaschyly/FileCtor\u001b[0m\n"
      ]
     },
     "metadata": {},
     "output_type": "display_data"
    },
    {
     "data": {
      "text/html": [
       "<pre style=\"white-space:pre;overflow-x:auto;line-height:normal;font-family:Menlo,'DejaVu Sans Mono',consolas,'Courier New',monospace\"><span style=\"color: #008080; text-decoration-color: #008080; font-weight: bold\">[+] Found package.json at </span><span style=\"color: #008080; text-decoration-color: #008080; font-weight: bold; text-decoration: underline\">https://github.com/tomaschyly/FileCtor</span>\n",
       "</pre>\n"
      ],
      "text/plain": [
       "\u001b[1;36m[\u001b[0m\u001b[1;36m+\u001b[0m\u001b[1;36m]\u001b[0m\u001b[1;36m Found package.json at \u001b[0m\u001b[1;4;36mhttps://github.com/tomaschyly/FileCtor\u001b[0m\n"
      ]
     },
     "metadata": {},
     "output_type": "display_data"
    },
    {
     "data": {
      "text/html": [
       "<pre style=\"white-space:pre;overflow-x:auto;line-height:normal;font-family:Menlo,'DejaVu Sans Mono',consolas,'Courier New',monospace\"><span style=\"color: #008080; text-decoration-color: #008080; font-weight: bold\">[+] Getting </span><span style=\"color: #008080; text-decoration-color: #008080; font-weight: bold; text-decoration: underline\">https://github.com/tomaschyly/FileCtor/blob/master/package.json</span>\n",
       "</pre>\n"
      ],
      "text/plain": [
       "\u001b[1;36m[\u001b[0m\u001b[1;36m+\u001b[0m\u001b[1;36m]\u001b[0m\u001b[1;36m Getting \u001b[0m\u001b[1;4;36mhttps://github.com/tomaschyly/FileCtor/blob/master/package.json\u001b[0m\n"
      ]
     },
     "metadata": {},
     "output_type": "display_data"
    },
    {
     "data": {
      "text/html": [
       "<pre style=\"white-space:pre;overflow-x:auto;line-height:normal;font-family:Menlo,'DejaVu Sans Mono',consolas,'Courier New',monospace\"><span style=\"color: #008080; text-decoration-color: #008080; font-weight: bold\">[+] Getting repo: </span><span style=\"color: #008080; text-decoration-color: #008080; font-weight: bold; text-decoration: underline\">https://github.com/1zilc/fishing-funds</span>\n",
       "</pre>\n"
      ],
      "text/plain": [
       "\u001b[1;36m[\u001b[0m\u001b[1;36m+\u001b[0m\u001b[1;36m]\u001b[0m\u001b[1;36m Getting repo: \u001b[0m\u001b[1;4;36mhttps://github.com/1zilc/fishing-funds\u001b[0m\n"
      ]
     },
     "metadata": {},
     "output_type": "display_data"
    },
    {
     "data": {
      "text/html": [
       "<pre style=\"white-space:pre;overflow-x:auto;line-height:normal;font-family:Menlo,'DejaVu Sans Mono',consolas,'Courier New',monospace\"><span style=\"color: #008080; text-decoration-color: #008080; font-weight: bold\">[+] Successfully retrieved repo: </span><span style=\"color: #008080; text-decoration-color: #008080; font-weight: bold; text-decoration: underline\">https://github.com/1zilc/fishing-funds</span>\n",
       "</pre>\n"
      ],
      "text/plain": [
       "\u001b[1;36m[\u001b[0m\u001b[1;36m+\u001b[0m\u001b[1;36m]\u001b[0m\u001b[1;36m Successfully retrieved repo: \u001b[0m\u001b[1;4;36mhttps://github.com/1zilc/fishing-funds\u001b[0m\n"
      ]
     },
     "metadata": {},
     "output_type": "display_data"
    },
    {
     "data": {
      "text/html": [
       "<pre style=\"white-space:pre;overflow-x:auto;line-height:normal;font-family:Menlo,'DejaVu Sans Mono',consolas,'Courier New',monospace\"><span style=\"color: #008080; text-decoration-color: #008080; font-weight: bold\">[+] Found package.json at </span><span style=\"color: #008080; text-decoration-color: #008080; font-weight: bold; text-decoration: underline\">https://github.com/1zilc/fishing-funds</span>\n",
       "</pre>\n"
      ],
      "text/plain": [
       "\u001b[1;36m[\u001b[0m\u001b[1;36m+\u001b[0m\u001b[1;36m]\u001b[0m\u001b[1;36m Found package.json at \u001b[0m\u001b[1;4;36mhttps://github.com/1zilc/fishing-funds\u001b[0m\n"
      ]
     },
     "metadata": {},
     "output_type": "display_data"
    },
    {
     "data": {
      "text/html": [
       "<pre style=\"white-space:pre;overflow-x:auto;line-height:normal;font-family:Menlo,'DejaVu Sans Mono',consolas,'Courier New',monospace\"><span style=\"color: #008080; text-decoration-color: #008080; font-weight: bold\">[+] Getting </span><span style=\"color: #008080; text-decoration-color: #008080; font-weight: bold; text-decoration: underline\">https://github.com/1zilc/fishing-funds/blob/main/package.json</span>\n",
       "</pre>\n"
      ],
      "text/plain": [
       "\u001b[1;36m[\u001b[0m\u001b[1;36m+\u001b[0m\u001b[1;36m]\u001b[0m\u001b[1;36m Getting \u001b[0m\u001b[1;4;36mhttps://github.com/1zilc/fishing-funds/blob/main/package.json\u001b[0m\n"
      ]
     },
     "metadata": {},
     "output_type": "display_data"
    },
    {
     "data": {
      "text/html": [
       "<pre style=\"white-space:pre;overflow-x:auto;line-height:normal;font-family:Menlo,'DejaVu Sans Mono',consolas,'Courier New',monospace\"><span style=\"color: #008080; text-decoration-color: #008080; font-weight: bold\">[+] Getting repo: </span><span style=\"color: #008080; text-decoration-color: #008080; font-weight: bold; text-decoration: underline\">https://github.com/Patrick-web/FLB-Music-Player-Official</span>\n",
       "</pre>\n"
      ],
      "text/plain": [
       "\u001b[1;36m[\u001b[0m\u001b[1;36m+\u001b[0m\u001b[1;36m]\u001b[0m\u001b[1;36m Getting repo: \u001b[0m\u001b[1;4;36mhttps://github.com/Patrick-web/FLB-Music-Player-Official\u001b[0m\n"
      ]
     },
     "metadata": {},
     "output_type": "display_data"
    },
    {
     "data": {
      "text/html": [
       "<pre style=\"white-space:pre;overflow-x:auto;line-height:normal;font-family:Menlo,'DejaVu Sans Mono',consolas,'Courier New',monospace\"><span style=\"color: #008080; text-decoration-color: #008080; font-weight: bold\">[+] Successfully retrieved repo: </span><span style=\"color: #008080; text-decoration-color: #008080; font-weight: bold; text-decoration: underline\">https://github.com/Patrick-web/FLB-Music-Player-Official</span>\n",
       "</pre>\n"
      ],
      "text/plain": [
       "\u001b[1;36m[\u001b[0m\u001b[1;36m+\u001b[0m\u001b[1;36m]\u001b[0m\u001b[1;36m Successfully retrieved repo: \u001b[0m\u001b[1;4;36mhttps://github.com/Patrick-web/FLB-Music-Player-Official\u001b[0m\n"
      ]
     },
     "metadata": {},
     "output_type": "display_data"
    },
    {
     "data": {
      "text/html": [
       "<pre style=\"white-space:pre;overflow-x:auto;line-height:normal;font-family:Menlo,'DejaVu Sans Mono',consolas,'Courier New',monospace\"><span style=\"color: #008080; text-decoration-color: #008080; font-weight: bold\">[+] Found package.json at </span><span style=\"color: #008080; text-decoration-color: #008080; font-weight: bold; text-decoration: underline\">https://github.com/Patrick-web/FLB-Music-Player-Official</span>\n",
       "</pre>\n"
      ],
      "text/plain": [
       "\u001b[1;36m[\u001b[0m\u001b[1;36m+\u001b[0m\u001b[1;36m]\u001b[0m\u001b[1;36m Found package.json at \u001b[0m\u001b[1;4;36mhttps://github.com/Patrick-web/FLB-Music-Player-Official\u001b[0m\n"
      ]
     },
     "metadata": {},
     "output_type": "display_data"
    },
    {
     "data": {
      "text/html": [
       "<pre style=\"white-space:pre;overflow-x:auto;line-height:normal;font-family:Menlo,'DejaVu Sans Mono',consolas,'Courier New',monospace\"><span style=\"color: #008080; text-decoration-color: #008080; font-weight: bold\">[+] Getting </span><span style=\"color: #008080; text-decoration-color: #008080; font-weight: bold; text-decoration: underline\">https://github.com/Patrick-web/FLB-Music-Player-Official/blob/main/package.json</span>\n",
       "</pre>\n"
      ],
      "text/plain": [
       "\u001b[1;36m[\u001b[0m\u001b[1;36m+\u001b[0m\u001b[1;36m]\u001b[0m\u001b[1;36m Getting \u001b[0m\u001b[1;4;36mhttps://github.com/Patrick-web/FLB-Music-Player-Official/blob/main/package.json\u001b[0m\n"
      ]
     },
     "metadata": {},
     "output_type": "display_data"
    },
    {
     "data": {
      "text/html": [
       "<pre style=\"white-space:pre;overflow-x:auto;line-height:normal;font-family:Menlo,'DejaVu Sans Mono',consolas,'Courier New',monospace\"><span style=\"color: #008080; text-decoration-color: #008080; font-weight: bold\">[+] Getting repo: </span><span style=\"color: #008080; text-decoration-color: #008080; font-weight: bold; text-decoration: underline\">https://github.com/yang991178/fluent-reader</span>\n",
       "</pre>\n"
      ],
      "text/plain": [
       "\u001b[1;36m[\u001b[0m\u001b[1;36m+\u001b[0m\u001b[1;36m]\u001b[0m\u001b[1;36m Getting repo: \u001b[0m\u001b[1;4;36mhttps://github.com/yang991178/fluent-reader\u001b[0m\n"
      ]
     },
     "metadata": {},
     "output_type": "display_data"
    },
    {
     "data": {
      "text/html": [
       "<pre style=\"white-space:pre;overflow-x:auto;line-height:normal;font-family:Menlo,'DejaVu Sans Mono',consolas,'Courier New',monospace\"><span style=\"color: #008080; text-decoration-color: #008080; font-weight: bold\">[+] Successfully retrieved repo: </span><span style=\"color: #008080; text-decoration-color: #008080; font-weight: bold; text-decoration: underline\">https://github.com/yang991178/fluent-reader</span>\n",
       "</pre>\n"
      ],
      "text/plain": [
       "\u001b[1;36m[\u001b[0m\u001b[1;36m+\u001b[0m\u001b[1;36m]\u001b[0m\u001b[1;36m Successfully retrieved repo: \u001b[0m\u001b[1;4;36mhttps://github.com/yang991178/fluent-reader\u001b[0m\n"
      ]
     },
     "metadata": {},
     "output_type": "display_data"
    },
    {
     "data": {
      "text/html": [
       "<pre style=\"white-space:pre;overflow-x:auto;line-height:normal;font-family:Menlo,'DejaVu Sans Mono',consolas,'Courier New',monospace\"><span style=\"color: #008080; text-decoration-color: #008080; font-weight: bold\">[+] Found package.json at </span><span style=\"color: #008080; text-decoration-color: #008080; font-weight: bold; text-decoration: underline\">https://github.com/yang991178/fluent-reader</span>\n",
       "</pre>\n"
      ],
      "text/plain": [
       "\u001b[1;36m[\u001b[0m\u001b[1;36m+\u001b[0m\u001b[1;36m]\u001b[0m\u001b[1;36m Found package.json at \u001b[0m\u001b[1;4;36mhttps://github.com/yang991178/fluent-reader\u001b[0m\n"
      ]
     },
     "metadata": {},
     "output_type": "display_data"
    },
    {
     "data": {
      "text/html": [
       "<pre style=\"white-space:pre;overflow-x:auto;line-height:normal;font-family:Menlo,'DejaVu Sans Mono',consolas,'Courier New',monospace\"><span style=\"color: #008080; text-decoration-color: #008080; font-weight: bold\">[+] Getting </span><span style=\"color: #008080; text-decoration-color: #008080; font-weight: bold; text-decoration: underline\">https://github.com/yang991178/fluent-reader/blob/master/package.json</span>\n",
       "</pre>\n"
      ],
      "text/plain": [
       "\u001b[1;36m[\u001b[0m\u001b[1;36m+\u001b[0m\u001b[1;36m]\u001b[0m\u001b[1;36m Getting \u001b[0m\u001b[1;4;36mhttps://github.com/yang991178/fluent-reader/blob/master/package.json\u001b[0m\n"
      ]
     },
     "metadata": {},
     "output_type": "display_data"
    },
    {
     "data": {
      "text/html": [
       "<pre style=\"white-space:pre;overflow-x:auto;line-height:normal;font-family:Menlo,'DejaVu Sans Mono',consolas,'Courier New',monospace\"><span style=\"color: #008080; text-decoration-color: #008080; font-weight: bold\">[+] Getting repo: </span><span style=\"color: #008080; text-decoration-color: #008080; font-weight: bold; text-decoration: underline\">https://github.com/floating/frame.git</span>\n",
       "</pre>\n"
      ],
      "text/plain": [
       "\u001b[1;36m[\u001b[0m\u001b[1;36m+\u001b[0m\u001b[1;36m]\u001b[0m\u001b[1;36m Getting repo: \u001b[0m\u001b[1;4;36mhttps://github.com/floating/frame.git\u001b[0m\n"
      ]
     },
     "metadata": {},
     "output_type": "display_data"
    },
    {
     "data": {
      "text/html": [
       "<pre style=\"white-space:pre;overflow-x:auto;line-height:normal;font-family:Menlo,'DejaVu Sans Mono',consolas,'Courier New',monospace\"><span style=\"color: #008080; text-decoration-color: #008080; font-weight: bold\">[+] Successfully retrieved repo: </span><span style=\"color: #008080; text-decoration-color: #008080; font-weight: bold; text-decoration: underline\">https://github.com/floating/frame.git</span>\n",
       "</pre>\n"
      ],
      "text/plain": [
       "\u001b[1;36m[\u001b[0m\u001b[1;36m+\u001b[0m\u001b[1;36m]\u001b[0m\u001b[1;36m Successfully retrieved repo: \u001b[0m\u001b[1;4;36mhttps://github.com/floating/frame.git\u001b[0m\n"
      ]
     },
     "metadata": {},
     "output_type": "display_data"
    },
    {
     "data": {
      "text/html": [
       "<pre style=\"white-space:pre;overflow-x:auto;line-height:normal;font-family:Menlo,'DejaVu Sans Mono',consolas,'Courier New',monospace\"><span style=\"color: #008080; text-decoration-color: #008080; font-weight: bold\">[+] Found package.json at </span><span style=\"color: #008080; text-decoration-color: #008080; font-weight: bold; text-decoration: underline\">https://github.com/floating/frame.git</span>\n",
       "</pre>\n"
      ],
      "text/plain": [
       "\u001b[1;36m[\u001b[0m\u001b[1;36m+\u001b[0m\u001b[1;36m]\u001b[0m\u001b[1;36m Found package.json at \u001b[0m\u001b[1;4;36mhttps://github.com/floating/frame.git\u001b[0m\n"
      ]
     },
     "metadata": {},
     "output_type": "display_data"
    },
    {
     "data": {
      "text/html": [
       "<pre style=\"white-space:pre;overflow-x:auto;line-height:normal;font-family:Menlo,'DejaVu Sans Mono',consolas,'Courier New',monospace\"><span style=\"color: #008080; text-decoration-color: #008080; font-weight: bold\">[+] Getting </span><span style=\"color: #008080; text-decoration-color: #008080; font-weight: bold; text-decoration: underline\">https://github.com/floating/frame/blob/develop/package.json</span>\n",
       "</pre>\n"
      ],
      "text/plain": [
       "\u001b[1;36m[\u001b[0m\u001b[1;36m+\u001b[0m\u001b[1;36m]\u001b[0m\u001b[1;36m Getting \u001b[0m\u001b[1;4;36mhttps://github.com/floating/frame/blob/develop/package.json\u001b[0m\n"
      ]
     },
     "metadata": {},
     "output_type": "display_data"
    },
    {
     "data": {
      "text/html": [
       "<pre style=\"white-space:pre;overflow-x:auto;line-height:normal;font-family:Menlo,'DejaVu Sans Mono',consolas,'Courier New',monospace\"><span style=\"color: #008080; text-decoration-color: #008080; font-weight: bold\">[+] Getting repo: </span><span style=\"color: #008080; text-decoration-color: #008080; font-weight: bold; text-decoration: underline\">https://github.com/freechessclub/freechessclub-app</span>\n",
       "</pre>\n"
      ],
      "text/plain": [
       "\u001b[1;36m[\u001b[0m\u001b[1;36m+\u001b[0m\u001b[1;36m]\u001b[0m\u001b[1;36m Getting repo: \u001b[0m\u001b[1;4;36mhttps://github.com/freechessclub/freechessclub-app\u001b[0m\n"
      ]
     },
     "metadata": {},
     "output_type": "display_data"
    },
    {
     "data": {
      "text/html": [
       "<pre style=\"white-space:pre;overflow-x:auto;line-height:normal;font-family:Menlo,'DejaVu Sans Mono',consolas,'Courier New',monospace\"><span style=\"color: #008080; text-decoration-color: #008080; font-weight: bold\">[+] Successfully retrieved repo: </span><span style=\"color: #008080; text-decoration-color: #008080; font-weight: bold; text-decoration: underline\">https://github.com/freechessclub/freechessclub-app</span>\n",
       "</pre>\n"
      ],
      "text/plain": [
       "\u001b[1;36m[\u001b[0m\u001b[1;36m+\u001b[0m\u001b[1;36m]\u001b[0m\u001b[1;36m Successfully retrieved repo: \u001b[0m\u001b[1;4;36mhttps://github.com/freechessclub/freechessclub-app\u001b[0m\n"
      ]
     },
     "metadata": {},
     "output_type": "display_data"
    },
    {
     "data": {
      "text/html": [
       "<pre style=\"white-space:pre;overflow-x:auto;line-height:normal;font-family:Menlo,'DejaVu Sans Mono',consolas,'Courier New',monospace\"><span style=\"color: #008080; text-decoration-color: #008080; font-weight: bold\">[+] Found package.json at </span><span style=\"color: #008080; text-decoration-color: #008080; font-weight: bold; text-decoration: underline\">https://github.com/freechessclub/freechessclub-app</span>\n",
       "</pre>\n"
      ],
      "text/plain": [
       "\u001b[1;36m[\u001b[0m\u001b[1;36m+\u001b[0m\u001b[1;36m]\u001b[0m\u001b[1;36m Found package.json at \u001b[0m\u001b[1;4;36mhttps://github.com/freechessclub/freechessclub-app\u001b[0m\n"
      ]
     },
     "metadata": {},
     "output_type": "display_data"
    },
    {
     "data": {
      "text/html": [
       "<pre style=\"white-space:pre;overflow-x:auto;line-height:normal;font-family:Menlo,'DejaVu Sans Mono',consolas,'Courier New',monospace\"><span style=\"color: #008080; text-decoration-color: #008080; font-weight: bold\">[+] Getting </span><span style=\"color: #008080; text-decoration-color: #008080; font-weight: bold; text-decoration: underline\">https://github.com/freechessclub/freechessclub-app/blob/master/package.json</span>\n",
       "</pre>\n"
      ],
      "text/plain": [
       "\u001b[1;36m[\u001b[0m\u001b[1;36m+\u001b[0m\u001b[1;36m]\u001b[0m\u001b[1;36m Getting \u001b[0m\u001b[1;4;36mhttps://github.com/freechessclub/freechessclub-app/blob/master/package.json\u001b[0m\n"
      ]
     },
     "metadata": {},
     "output_type": "display_data"
    },
    {
     "data": {
      "text/html": [
       "<pre style=\"white-space:pre;overflow-x:auto;line-height:normal;font-family:Menlo,'DejaVu Sans Mono',consolas,'Courier New',monospace\"><span style=\"color: #008080; text-decoration-color: #008080; font-weight: bold\">[+] Getting repo: </span><span style=\"color: #008080; text-decoration-color: #008080; font-weight: bold; text-decoration: underline\">https://github.com/angrykoala/gaucho</span>\n",
       "</pre>\n"
      ],
      "text/plain": [
       "\u001b[1;36m[\u001b[0m\u001b[1;36m+\u001b[0m\u001b[1;36m]\u001b[0m\u001b[1;36m Getting repo: \u001b[0m\u001b[1;4;36mhttps://github.com/angrykoala/gaucho\u001b[0m\n"
      ]
     },
     "metadata": {},
     "output_type": "display_data"
    },
    {
     "data": {
      "text/html": [
       "<pre style=\"white-space:pre;overflow-x:auto;line-height:normal;font-family:Menlo,'DejaVu Sans Mono',consolas,'Courier New',monospace\"><span style=\"color: #008080; text-decoration-color: #008080; font-weight: bold\">[+] Successfully retrieved repo: </span><span style=\"color: #008080; text-decoration-color: #008080; font-weight: bold; text-decoration: underline\">https://github.com/angrykoala/gaucho</span>\n",
       "</pre>\n"
      ],
      "text/plain": [
       "\u001b[1;36m[\u001b[0m\u001b[1;36m+\u001b[0m\u001b[1;36m]\u001b[0m\u001b[1;36m Successfully retrieved repo: \u001b[0m\u001b[1;4;36mhttps://github.com/angrykoala/gaucho\u001b[0m\n"
      ]
     },
     "metadata": {},
     "output_type": "display_data"
    },
    {
     "data": {
      "text/html": [
       "<pre style=\"white-space:pre;overflow-x:auto;line-height:normal;font-family:Menlo,'DejaVu Sans Mono',consolas,'Courier New',monospace\"><span style=\"color: #008080; text-decoration-color: #008080; font-weight: bold\">[+] Found package.json at </span><span style=\"color: #008080; text-decoration-color: #008080; font-weight: bold; text-decoration: underline\">https://github.com/angrykoala/gaucho</span>\n",
       "</pre>\n"
      ],
      "text/plain": [
       "\u001b[1;36m[\u001b[0m\u001b[1;36m+\u001b[0m\u001b[1;36m]\u001b[0m\u001b[1;36m Found package.json at \u001b[0m\u001b[1;4;36mhttps://github.com/angrykoala/gaucho\u001b[0m\n"
      ]
     },
     "metadata": {},
     "output_type": "display_data"
    },
    {
     "data": {
      "text/html": [
       "<pre style=\"white-space:pre;overflow-x:auto;line-height:normal;font-family:Menlo,'DejaVu Sans Mono',consolas,'Courier New',monospace\"><span style=\"color: #008080; text-decoration-color: #008080; font-weight: bold\">[+] Getting </span><span style=\"color: #008080; text-decoration-color: #008080; font-weight: bold; text-decoration: underline\">https://github.com/angrykoala/gaucho/blob/master/package.json</span>\n",
       "</pre>\n"
      ],
      "text/plain": [
       "\u001b[1;36m[\u001b[0m\u001b[1;36m+\u001b[0m\u001b[1;36m]\u001b[0m\u001b[1;36m Getting \u001b[0m\u001b[1;4;36mhttps://github.com/angrykoala/gaucho/blob/master/package.json\u001b[0m\n"
      ]
     },
     "metadata": {},
     "output_type": "display_data"
    },
    {
     "data": {
      "text/html": [
       "<pre style=\"white-space:pre;overflow-x:auto;line-height:normal;font-family:Menlo,'DejaVu Sans Mono',consolas,'Courier New',monospace\"><span style=\"color: #008080; text-decoration-color: #008080; font-weight: bold\">[+] Getting repo: </span><span style=\"color: #008080; text-decoration-color: #008080; font-weight: bold; text-decoration: underline\">https://github.com/4ian/GDevelop</span>\n",
       "</pre>\n"
      ],
      "text/plain": [
       "\u001b[1;36m[\u001b[0m\u001b[1;36m+\u001b[0m\u001b[1;36m]\u001b[0m\u001b[1;36m Getting repo: \u001b[0m\u001b[1;4;36mhttps://github.com/4ian/GDevelop\u001b[0m\n"
      ]
     },
     "metadata": {},
     "output_type": "display_data"
    },
    {
     "data": {
      "text/html": [
       "<pre style=\"white-space:pre;overflow-x:auto;line-height:normal;font-family:Menlo,'DejaVu Sans Mono',consolas,'Courier New',monospace\"><span style=\"color: #008080; text-decoration-color: #008080; font-weight: bold\">[+] Successfully retrieved repo: </span><span style=\"color: #008080; text-decoration-color: #008080; font-weight: bold; text-decoration: underline\">https://github.com/4ian/GDevelop</span>\n",
       "</pre>\n"
      ],
      "text/plain": [
       "\u001b[1;36m[\u001b[0m\u001b[1;36m+\u001b[0m\u001b[1;36m]\u001b[0m\u001b[1;36m Successfully retrieved repo: \u001b[0m\u001b[1;4;36mhttps://github.com/4ian/GDevelop\u001b[0m\n"
      ]
     },
     "metadata": {},
     "output_type": "display_data"
    },
    {
     "data": {
      "text/html": [
       "<pre style=\"white-space:pre;overflow-x:auto;line-height:normal;font-family:Menlo,'DejaVu Sans Mono',consolas,'Courier New',monospace\"><span style=\"color: #ff5f00; text-decoration-color: #ff5f00; font-weight: bold\">[!] Package.json not found at root of </span><span style=\"color: #ff5f00; text-decoration-color: #ff5f00; font-weight: bold; text-decoration: underline\">https://github.com/4ian/GDevelop;</span><span style=\"color: #ff5f00; text-decoration-color: #ff5f00; font-weight: bold\"> trying directories</span>\n",
       "</pre>\n"
      ],
      "text/plain": [
       "\u001b[1;38;5;202m[\u001b[0m\u001b[1;38;5;202m!\u001b[0m\u001b[1;38;5;202m]\u001b[0m\u001b[1;38;5;202m Package.json not found at root of \u001b[0m\u001b[1;4;38;5;202mhttps://github.com/4ian/GDevelop;\u001b[0m\u001b[1;38;5;202m trying directories\u001b[0m\n"
      ]
     },
     "metadata": {},
     "output_type": "display_data"
    },
    {
     "data": {
      "text/html": [
       "<pre style=\"white-space:pre;overflow-x:auto;line-height:normal;font-family:Menlo,'DejaVu Sans Mono',consolas,'Courier New',monospace\"><span style=\"color: #008080; text-decoration-color: #008080; font-weight: bold\">[+] Trying </span><span style=\"color: #008080; text-decoration-color: #008080; font-weight: bold; text-decoration: underline\">https://github.com/4ian/GDevelop/tree/master/.circleci</span>\n",
       "</pre>\n"
      ],
      "text/plain": [
       "\u001b[1;36m[\u001b[0m\u001b[1;36m+\u001b[0m\u001b[1;36m]\u001b[0m\u001b[1;36m Trying \u001b[0m\u001b[1;4;36mhttps://github.com/4ian/GDevelop/tree/master/.circleci\u001b[0m\n"
      ]
     },
     "metadata": {},
     "output_type": "display_data"
    },
    {
     "data": {
      "text/html": [
       "<pre style=\"white-space:pre;overflow-x:auto;line-height:normal;font-family:Menlo,'DejaVu Sans Mono',consolas,'Courier New',monospace\"><span style=\"color: #008080; text-decoration-color: #008080; font-weight: bold\">[+] Trying </span><span style=\"color: #008080; text-decoration-color: #008080; font-weight: bold; text-decoration: underline\">https://github.com/4ian/GDevelop/tree/master/.devcontainer</span>\n",
       "</pre>\n"
      ],
      "text/plain": [
       "\u001b[1;36m[\u001b[0m\u001b[1;36m+\u001b[0m\u001b[1;36m]\u001b[0m\u001b[1;36m Trying \u001b[0m\u001b[1;4;36mhttps://github.com/4ian/GDevelop/tree/master/.devcontainer\u001b[0m\n"
      ]
     },
     "metadata": {},
     "output_type": "display_data"
    },
    {
     "data": {
      "text/html": [
       "<pre style=\"white-space:pre;overflow-x:auto;line-height:normal;font-family:Menlo,'DejaVu Sans Mono',consolas,'Courier New',monospace\"><span style=\"color: #008080; text-decoration-color: #008080; font-weight: bold\">[+] Trying </span><span style=\"color: #008080; text-decoration-color: #008080; font-weight: bold; text-decoration: underline\">https://github.com/4ian/GDevelop/tree/master/.github</span>\n",
       "</pre>\n"
      ],
      "text/plain": [
       "\u001b[1;36m[\u001b[0m\u001b[1;36m+\u001b[0m\u001b[1;36m]\u001b[0m\u001b[1;36m Trying \u001b[0m\u001b[1;4;36mhttps://github.com/4ian/GDevelop/tree/master/.github\u001b[0m\n"
      ]
     },
     "metadata": {},
     "output_type": "display_data"
    },
    {
     "data": {
      "text/html": [
       "<pre style=\"white-space:pre;overflow-x:auto;line-height:normal;font-family:Menlo,'DejaVu Sans Mono',consolas,'Courier New',monospace\"><span style=\"color: #008080; text-decoration-color: #008080; font-weight: bold\">[+] Trying </span><span style=\"color: #008080; text-decoration-color: #008080; font-weight: bold; text-decoration: underline\">https://github.com/4ian/GDevelop/tree/master/.semaphore</span>\n",
       "</pre>\n"
      ],
      "text/plain": [
       "\u001b[1;36m[\u001b[0m\u001b[1;36m+\u001b[0m\u001b[1;36m]\u001b[0m\u001b[1;36m Trying \u001b[0m\u001b[1;4;36mhttps://github.com/4ian/GDevelop/tree/master/.semaphore\u001b[0m\n"
      ]
     },
     "metadata": {},
     "output_type": "display_data"
    },
    {
     "data": {
      "text/html": [
       "<pre style=\"white-space:pre;overflow-x:auto;line-height:normal;font-family:Menlo,'DejaVu Sans Mono',consolas,'Courier New',monospace\"><span style=\"color: #008080; text-decoration-color: #008080; font-weight: bold\">[+] Trying </span><span style=\"color: #008080; text-decoration-color: #008080; font-weight: bold; text-decoration: underline\">https://github.com/4ian/GDevelop/tree/master/.vscode</span>\n",
       "</pre>\n"
      ],
      "text/plain": [
       "\u001b[1;36m[\u001b[0m\u001b[1;36m+\u001b[0m\u001b[1;36m]\u001b[0m\u001b[1;36m Trying \u001b[0m\u001b[1;4;36mhttps://github.com/4ian/GDevelop/tree/master/.vscode\u001b[0m\n"
      ]
     },
     "metadata": {},
     "output_type": "display_data"
    },
    {
     "data": {
      "text/html": [
       "<pre style=\"white-space:pre;overflow-x:auto;line-height:normal;font-family:Menlo,'DejaVu Sans Mono',consolas,'Courier New',monospace\"><span style=\"color: #008080; text-decoration-color: #008080; font-weight: bold\">[+] Trying </span><span style=\"color: #008080; text-decoration-color: #008080; font-weight: bold; text-decoration: underline\">https://github.com/4ian/GDevelop/tree/master/Binaries</span>\n",
       "</pre>\n"
      ],
      "text/plain": [
       "\u001b[1;36m[\u001b[0m\u001b[1;36m+\u001b[0m\u001b[1;36m]\u001b[0m\u001b[1;36m Trying \u001b[0m\u001b[1;4;36mhttps://github.com/4ian/GDevelop/tree/master/Binaries\u001b[0m\n"
      ]
     },
     "metadata": {},
     "output_type": "display_data"
    },
    {
     "data": {
      "text/html": [
       "<pre style=\"white-space:pre;overflow-x:auto;line-height:normal;font-family:Menlo,'DejaVu Sans Mono',consolas,'Courier New',monospace\"><span style=\"color: #008080; text-decoration-color: #008080; font-weight: bold\">[+] Trying </span><span style=\"color: #008080; text-decoration-color: #008080; font-weight: bold; text-decoration: underline\">https://github.com/4ian/GDevelop/tree/master/Core</span>\n",
       "</pre>\n"
      ],
      "text/plain": [
       "\u001b[1;36m[\u001b[0m\u001b[1;36m+\u001b[0m\u001b[1;36m]\u001b[0m\u001b[1;36m Trying \u001b[0m\u001b[1;4;36mhttps://github.com/4ian/GDevelop/tree/master/Core\u001b[0m\n"
      ]
     },
     "metadata": {},
     "output_type": "display_data"
    },
    {
     "data": {
      "text/html": [
       "<pre style=\"white-space:pre;overflow-x:auto;line-height:normal;font-family:Menlo,'DejaVu Sans Mono',consolas,'Courier New',monospace\"><span style=\"color: #008080; text-decoration-color: #008080; font-weight: bold\">[+] Trying </span><span style=\"color: #008080; text-decoration-color: #008080; font-weight: bold; text-decoration: underline\">https://github.com/4ian/GDevelop/tree/master/ExtLibs</span>\n",
       "</pre>\n"
      ],
      "text/plain": [
       "\u001b[1;36m[\u001b[0m\u001b[1;36m+\u001b[0m\u001b[1;36m]\u001b[0m\u001b[1;36m Trying \u001b[0m\u001b[1;4;36mhttps://github.com/4ian/GDevelop/tree/master/ExtLibs\u001b[0m\n"
      ]
     },
     "metadata": {},
     "output_type": "display_data"
    },
    {
     "data": {
      "text/html": [
       "<pre style=\"white-space:pre;overflow-x:auto;line-height:normal;font-family:Menlo,'DejaVu Sans Mono',consolas,'Courier New',monospace\"><span style=\"color: #008080; text-decoration-color: #008080; font-weight: bold\">[+] Trying </span><span style=\"color: #008080; text-decoration-color: #008080; font-weight: bold; text-decoration: underline\">https://github.com/4ian/GDevelop/tree/master/Extensions</span>\n",
       "</pre>\n"
      ],
      "text/plain": [
       "\u001b[1;36m[\u001b[0m\u001b[1;36m+\u001b[0m\u001b[1;36m]\u001b[0m\u001b[1;36m Trying \u001b[0m\u001b[1;4;36mhttps://github.com/4ian/GDevelop/tree/master/Extensions\u001b[0m\n"
      ]
     },
     "metadata": {},
     "output_type": "display_data"
    },
    {
     "data": {
      "text/html": [
       "<pre style=\"white-space:pre;overflow-x:auto;line-height:normal;font-family:Menlo,'DejaVu Sans Mono',consolas,'Courier New',monospace\"><span style=\"color: #008080; text-decoration-color: #008080; font-weight: bold\">[+] Trying </span><span style=\"color: #008080; text-decoration-color: #008080; font-weight: bold; text-decoration: underline\">https://github.com/4ian/GDevelop/tree/master/GDJS</span>\n",
       "</pre>\n"
      ],
      "text/plain": [
       "\u001b[1;36m[\u001b[0m\u001b[1;36m+\u001b[0m\u001b[1;36m]\u001b[0m\u001b[1;36m Trying \u001b[0m\u001b[1;4;36mhttps://github.com/4ian/GDevelop/tree/master/GDJS\u001b[0m\n"
      ]
     },
     "metadata": {},
     "output_type": "display_data"
    },
    {
     "data": {
      "text/html": [
       "<pre style=\"white-space:pre;overflow-x:auto;line-height:normal;font-family:Menlo,'DejaVu Sans Mono',consolas,'Courier New',monospace\"><span style=\"color: #008080; text-decoration-color: #008080; font-weight: bold\">[+] Trying </span><span style=\"color: #008080; text-decoration-color: #008080; font-weight: bold; text-decoration: underline\">https://github.com/4ian/GDevelop/tree/master/GDevelop.js</span>\n",
       "</pre>\n"
      ],
      "text/plain": [
       "\u001b[1;36m[\u001b[0m\u001b[1;36m+\u001b[0m\u001b[1;36m]\u001b[0m\u001b[1;36m Trying \u001b[0m\u001b[1;4;36mhttps://github.com/4ian/GDevelop/tree/master/GDevelop.js\u001b[0m\n"
      ]
     },
     "metadata": {},
     "output_type": "display_data"
    },
    {
     "data": {
      "text/html": [
       "<pre style=\"white-space:pre;overflow-x:auto;line-height:normal;font-family:Menlo,'DejaVu Sans Mono',consolas,'Courier New',monospace\"><span style=\"color: #008080; text-decoration-color: #008080; font-weight: bold\">[+] Trying </span><span style=\"color: #008080; text-decoration-color: #008080; font-weight: bold; text-decoration: underline\">https://github.com/4ian/GDevelop/tree/master/SharedLibs</span>\n",
       "</pre>\n"
      ],
      "text/plain": [
       "\u001b[1;36m[\u001b[0m\u001b[1;36m+\u001b[0m\u001b[1;36m]\u001b[0m\u001b[1;36m Trying \u001b[0m\u001b[1;4;36mhttps://github.com/4ian/GDevelop/tree/master/SharedLibs\u001b[0m\n"
      ]
     },
     "metadata": {},
     "output_type": "display_data"
    },
    {
     "data": {
      "text/html": [
       "<pre style=\"white-space:pre;overflow-x:auto;line-height:normal;font-family:Menlo,'DejaVu Sans Mono',consolas,'Courier New',monospace\"><span style=\"color: #008080; text-decoration-color: #008080; font-weight: bold\">[+] Trying </span><span style=\"color: #008080; text-decoration-color: #008080; font-weight: bold; text-decoration: underline\">https://github.com/4ian/GDevelop/tree/master/newIDE</span>\n",
       "</pre>\n"
      ],
      "text/plain": [
       "\u001b[1;36m[\u001b[0m\u001b[1;36m+\u001b[0m\u001b[1;36m]\u001b[0m\u001b[1;36m Trying \u001b[0m\u001b[1;4;36mhttps://github.com/4ian/GDevelop/tree/master/newIDE\u001b[0m\n"
      ]
     },
     "metadata": {},
     "output_type": "display_data"
    },
    {
     "data": {
      "text/html": [
       "<pre style=\"white-space:pre;overflow-x:auto;line-height:normal;font-family:Menlo,'DejaVu Sans Mono',consolas,'Courier New',monospace\"><span style=\"color: #008080; text-decoration-color: #008080; font-weight: bold\">[+] Trying </span><span style=\"color: #008080; text-decoration-color: #008080; font-weight: bold; text-decoration: underline\">https://github.com/4ian/GDevelop/tree/master/scripts</span>\n",
       "</pre>\n"
      ],
      "text/plain": [
       "\u001b[1;36m[\u001b[0m\u001b[1;36m+\u001b[0m\u001b[1;36m]\u001b[0m\u001b[1;36m Trying \u001b[0m\u001b[1;4;36mhttps://github.com/4ian/GDevelop/tree/master/scripts\u001b[0m\n"
      ]
     },
     "metadata": {},
     "output_type": "display_data"
    },
    {
     "data": {
      "text/html": [
       "<pre style=\"white-space:pre;overflow-x:auto;line-height:normal;font-family:Menlo,'DejaVu Sans Mono',consolas,'Courier New',monospace\"><span style=\"color: #800000; text-decoration-color: #800000; font-weight: bold\">[💀] Could not find package.json in first-level-subdirs</span>\n",
       "</pre>\n"
      ],
      "text/plain": [
       "\u001b[1;31m[\u001b[0m\u001b[1;31m💀\u001b[0m\u001b[1;31m]\u001b[0m\u001b[1;31m Could not find package.json in first-level-subdirs\u001b[0m\n"
      ]
     },
     "metadata": {},
     "output_type": "display_data"
    },
    {
     "data": {
      "text/html": [
       "<pre style=\"white-space:pre;overflow-x:auto;line-height:normal;font-family:Menlo,'DejaVu Sans Mono',consolas,'Courier New',monospace\"><span style=\"color: #008080; text-decoration-color: #008080; font-weight: bold\">[+] Getting repo: </span><span style=\"color: #008080; text-decoration-color: #008080; font-weight: bold; text-decoration: underline\">https://github.com/virejdasani/Geniemoji</span>\n",
       "</pre>\n"
      ],
      "text/plain": [
       "\u001b[1;36m[\u001b[0m\u001b[1;36m+\u001b[0m\u001b[1;36m]\u001b[0m\u001b[1;36m Getting repo: \u001b[0m\u001b[1;4;36mhttps://github.com/virejdasani/Geniemoji\u001b[0m\n"
      ]
     },
     "metadata": {},
     "output_type": "display_data"
    },
    {
     "data": {
      "text/html": [
       "<pre style=\"white-space:pre;overflow-x:auto;line-height:normal;font-family:Menlo,'DejaVu Sans Mono',consolas,'Courier New',monospace\"><span style=\"color: #008080; text-decoration-color: #008080; font-weight: bold\">[+] Successfully retrieved repo: </span><span style=\"color: #008080; text-decoration-color: #008080; font-weight: bold; text-decoration: underline\">https://github.com/virejdasani/Geniemoji</span>\n",
       "</pre>\n"
      ],
      "text/plain": [
       "\u001b[1;36m[\u001b[0m\u001b[1;36m+\u001b[0m\u001b[1;36m]\u001b[0m\u001b[1;36m Successfully retrieved repo: \u001b[0m\u001b[1;4;36mhttps://github.com/virejdasani/Geniemoji\u001b[0m\n"
      ]
     },
     "metadata": {},
     "output_type": "display_data"
    },
    {
     "data": {
      "text/html": [
       "<pre style=\"white-space:pre;overflow-x:auto;line-height:normal;font-family:Menlo,'DejaVu Sans Mono',consolas,'Courier New',monospace\"><span style=\"color: #ff5f00; text-decoration-color: #ff5f00; font-weight: bold\">[!] Package.json not found at root of </span><span style=\"color: #ff5f00; text-decoration-color: #ff5f00; font-weight: bold; text-decoration: underline\">https://github.com/virejdasani/Geniemoji;</span><span style=\"color: #ff5f00; text-decoration-color: #ff5f00; font-weight: bold\"> trying directories</span>\n",
       "</pre>\n"
      ],
      "text/plain": [
       "\u001b[1;38;5;202m[\u001b[0m\u001b[1;38;5;202m!\u001b[0m\u001b[1;38;5;202m]\u001b[0m\u001b[1;38;5;202m Package.json not found at root of \u001b[0m\u001b[1;4;38;5;202mhttps://github.com/virejdasani/Geniemoji;\u001b[0m\u001b[1;38;5;202m trying directories\u001b[0m\n"
      ]
     },
     "metadata": {},
     "output_type": "display_data"
    },
    {
     "data": {
      "text/html": [
       "<pre style=\"white-space:pre;overflow-x:auto;line-height:normal;font-family:Menlo,'DejaVu Sans Mono',consolas,'Courier New',monospace\"><span style=\"color: #008080; text-decoration-color: #008080; font-weight: bold\">[+] Trying </span><span style=\"color: #008080; text-decoration-color: #008080; font-weight: bold; text-decoration: underline\">https://github.com/virejdasani/Geniemoji/tree/master/app</span>\n",
       "</pre>\n"
      ],
      "text/plain": [
       "\u001b[1;36m[\u001b[0m\u001b[1;36m+\u001b[0m\u001b[1;36m]\u001b[0m\u001b[1;36m Trying \u001b[0m\u001b[1;4;36mhttps://github.com/virejdasani/Geniemoji/tree/master/app\u001b[0m\n"
      ]
     },
     "metadata": {},
     "output_type": "display_data"
    },
    {
     "data": {
      "text/html": [
       "<pre style=\"white-space:pre;overflow-x:auto;line-height:normal;font-family:Menlo,'DejaVu Sans Mono',consolas,'Courier New',monospace\"><span style=\"color: #008080; text-decoration-color: #008080; font-weight: bold\">[+] Trying </span><span style=\"color: #008080; text-decoration-color: #008080; font-weight: bold; text-decoration: underline\">https://github.com/virejdasani/Geniemoji/tree/master/assets</span>\n",
       "</pre>\n"
      ],
      "text/plain": [
       "\u001b[1;36m[\u001b[0m\u001b[1;36m+\u001b[0m\u001b[1;36m]\u001b[0m\u001b[1;36m Trying \u001b[0m\u001b[1;4;36mhttps://github.com/virejdasani/Geniemoji/tree/master/assets\u001b[0m\n"
      ]
     },
     "metadata": {},
     "output_type": "display_data"
    },
    {
     "data": {
      "text/html": [
       "<pre style=\"white-space:pre;overflow-x:auto;line-height:normal;font-family:Menlo,'DejaVu Sans Mono',consolas,'Courier New',monospace\"><span style=\"color: #008080; text-decoration-color: #008080; font-weight: bold\">[+] Trying </span><span style=\"color: #008080; text-decoration-color: #008080; font-weight: bold; text-decoration: underline\">https://github.com/virejdasani/Geniemoji/tree/master/builds</span>\n",
       "</pre>\n"
      ],
      "text/plain": [
       "\u001b[1;36m[\u001b[0m\u001b[1;36m+\u001b[0m\u001b[1;36m]\u001b[0m\u001b[1;36m Trying \u001b[0m\u001b[1;4;36mhttps://github.com/virejdasani/Geniemoji/tree/master/builds\u001b[0m\n"
      ]
     },
     "metadata": {},
     "output_type": "display_data"
    },
    {
     "data": {
      "text/html": [
       "<pre style=\"white-space:pre;overflow-x:auto;line-height:normal;font-family:Menlo,'DejaVu Sans Mono',consolas,'Courier New',monospace\"><span style=\"color: #008080; text-decoration-color: #008080; font-weight: bold\">[+] Trying </span><span style=\"color: #008080; text-decoration-color: #008080; font-weight: bold; text-decoration: underline\">https://github.com/virejdasani/Geniemoji/tree/master/docs</span>\n",
       "</pre>\n"
      ],
      "text/plain": [
       "\u001b[1;36m[\u001b[0m\u001b[1;36m+\u001b[0m\u001b[1;36m]\u001b[0m\u001b[1;36m Trying \u001b[0m\u001b[1;4;36mhttps://github.com/virejdasani/Geniemoji/tree/master/docs\u001b[0m\n"
      ]
     },
     "metadata": {},
     "output_type": "display_data"
    },
    {
     "data": {
      "text/html": [
       "<pre style=\"white-space:pre;overflow-x:auto;line-height:normal;font-family:Menlo,'DejaVu Sans Mono',consolas,'Courier New',monospace\"><span style=\"color: #800000; text-decoration-color: #800000; font-weight: bold\">[💀] Could not find package.json in first-level-subdirs</span>\n",
       "</pre>\n"
      ],
      "text/plain": [
       "\u001b[1;31m[\u001b[0m\u001b[1;31m💀\u001b[0m\u001b[1;31m]\u001b[0m\u001b[1;31m Could not find package.json in first-level-subdirs\u001b[0m\n"
      ]
     },
     "metadata": {},
     "output_type": "display_data"
    },
    {
     "data": {
      "text/html": [
       "<pre style=\"white-space:pre;overflow-x:auto;line-height:normal;font-family:Menlo,'DejaVu Sans Mono',consolas,'Courier New',monospace\"><span style=\"color: #008080; text-decoration-color: #008080; font-weight: bold\">[+] Getting repo: </span><span style=\"color: #008080; text-decoration-color: #008080; font-weight: bold; text-decoration: underline\">https://github.com/desktop/desktop</span>\n",
       "</pre>\n"
      ],
      "text/plain": [
       "\u001b[1;36m[\u001b[0m\u001b[1;36m+\u001b[0m\u001b[1;36m]\u001b[0m\u001b[1;36m Getting repo: \u001b[0m\u001b[1;4;36mhttps://github.com/desktop/desktop\u001b[0m\n"
      ]
     },
     "metadata": {},
     "output_type": "display_data"
    },
    {
     "data": {
      "text/html": [
       "<pre style=\"white-space:pre;overflow-x:auto;line-height:normal;font-family:Menlo,'DejaVu Sans Mono',consolas,'Courier New',monospace\"><span style=\"color: #008080; text-decoration-color: #008080; font-weight: bold\">[+] Successfully retrieved repo: </span><span style=\"color: #008080; text-decoration-color: #008080; font-weight: bold; text-decoration: underline\">https://github.com/desktop/desktop</span>\n",
       "</pre>\n"
      ],
      "text/plain": [
       "\u001b[1;36m[\u001b[0m\u001b[1;36m+\u001b[0m\u001b[1;36m]\u001b[0m\u001b[1;36m Successfully retrieved repo: \u001b[0m\u001b[1;4;36mhttps://github.com/desktop/desktop\u001b[0m\n"
      ]
     },
     "metadata": {},
     "output_type": "display_data"
    },
    {
     "data": {
      "text/html": [
       "<pre style=\"white-space:pre;overflow-x:auto;line-height:normal;font-family:Menlo,'DejaVu Sans Mono',consolas,'Courier New',monospace\"><span style=\"color: #008080; text-decoration-color: #008080; font-weight: bold\">[+] Found package.json at </span><span style=\"color: #008080; text-decoration-color: #008080; font-weight: bold; text-decoration: underline\">https://github.com/desktop/desktop</span>\n",
       "</pre>\n"
      ],
      "text/plain": [
       "\u001b[1;36m[\u001b[0m\u001b[1;36m+\u001b[0m\u001b[1;36m]\u001b[0m\u001b[1;36m Found package.json at \u001b[0m\u001b[1;4;36mhttps://github.com/desktop/desktop\u001b[0m\n"
      ]
     },
     "metadata": {},
     "output_type": "display_data"
    },
    {
     "data": {
      "text/html": [
       "<pre style=\"white-space:pre;overflow-x:auto;line-height:normal;font-family:Menlo,'DejaVu Sans Mono',consolas,'Courier New',monospace\"><span style=\"color: #008080; text-decoration-color: #008080; font-weight: bold\">[+] Getting </span><span style=\"color: #008080; text-decoration-color: #008080; font-weight: bold; text-decoration: underline\">https://github.com/desktop/desktop/blob/development/package.json</span>\n",
       "</pre>\n"
      ],
      "text/plain": [
       "\u001b[1;36m[\u001b[0m\u001b[1;36m+\u001b[0m\u001b[1;36m]\u001b[0m\u001b[1;36m Getting \u001b[0m\u001b[1;4;36mhttps://github.com/desktop/desktop/blob/development/package.json\u001b[0m\n"
      ]
     },
     "metadata": {},
     "output_type": "display_data"
    },
    {
     "data": {
      "text/html": [
       "<pre style=\"white-space:pre;overflow-x:auto;line-height:normal;font-family:Menlo,'DejaVu Sans Mono',consolas,'Courier New',monospace\"><span style=\"color: #008080; text-decoration-color: #008080; font-weight: bold\">[+] Getting repo: </span><span style=\"color: #008080; text-decoration-color: #008080; font-weight: bold; text-decoration: underline\">https://github.com/manosim/gitify</span>\n",
       "</pre>\n"
      ],
      "text/plain": [
       "\u001b[1;36m[\u001b[0m\u001b[1;36m+\u001b[0m\u001b[1;36m]\u001b[0m\u001b[1;36m Getting repo: \u001b[0m\u001b[1;4;36mhttps://github.com/manosim/gitify\u001b[0m\n"
      ]
     },
     "metadata": {},
     "output_type": "display_data"
    },
    {
     "data": {
      "text/html": [
       "<pre style=\"white-space:pre;overflow-x:auto;line-height:normal;font-family:Menlo,'DejaVu Sans Mono',consolas,'Courier New',monospace\"><span style=\"color: #008080; text-decoration-color: #008080; font-weight: bold\">[+] Successfully retrieved repo: </span><span style=\"color: #008080; text-decoration-color: #008080; font-weight: bold; text-decoration: underline\">https://github.com/manosim/gitify</span>\n",
       "</pre>\n"
      ],
      "text/plain": [
       "\u001b[1;36m[\u001b[0m\u001b[1;36m+\u001b[0m\u001b[1;36m]\u001b[0m\u001b[1;36m Successfully retrieved repo: \u001b[0m\u001b[1;4;36mhttps://github.com/manosim/gitify\u001b[0m\n"
      ]
     },
     "metadata": {},
     "output_type": "display_data"
    },
    {
     "data": {
      "text/html": [
       "<pre style=\"white-space:pre;overflow-x:auto;line-height:normal;font-family:Menlo,'DejaVu Sans Mono',consolas,'Courier New',monospace\"><span style=\"color: #008080; text-decoration-color: #008080; font-weight: bold\">[+] Found package.json at </span><span style=\"color: #008080; text-decoration-color: #008080; font-weight: bold; text-decoration: underline\">https://github.com/manosim/gitify</span>\n",
       "</pre>\n"
      ],
      "text/plain": [
       "\u001b[1;36m[\u001b[0m\u001b[1;36m+\u001b[0m\u001b[1;36m]\u001b[0m\u001b[1;36m Found package.json at \u001b[0m\u001b[1;4;36mhttps://github.com/manosim/gitify\u001b[0m\n"
      ]
     },
     "metadata": {},
     "output_type": "display_data"
    },
    {
     "data": {
      "text/html": [
       "<pre style=\"white-space:pre;overflow-x:auto;line-height:normal;font-family:Menlo,'DejaVu Sans Mono',consolas,'Courier New',monospace\"><span style=\"color: #008080; text-decoration-color: #008080; font-weight: bold\">[+] Getting </span><span style=\"color: #008080; text-decoration-color: #008080; font-weight: bold; text-decoration: underline\">https://github.com/gitify-app/gitify/blob/main/package.json</span>\n",
       "</pre>\n"
      ],
      "text/plain": [
       "\u001b[1;36m[\u001b[0m\u001b[1;36m+\u001b[0m\u001b[1;36m]\u001b[0m\u001b[1;36m Getting \u001b[0m\u001b[1;4;36mhttps://github.com/gitify-app/gitify/blob/main/package.json\u001b[0m\n"
      ]
     },
     "metadata": {},
     "output_type": "display_data"
    },
    {
     "data": {
      "text/html": [
       "<pre style=\"white-space:pre;overflow-x:auto;line-height:normal;font-family:Menlo,'DejaVu Sans Mono',consolas,'Courier New',monospace\"><span style=\"color: #008080; text-decoration-color: #008080; font-weight: bold\">[+] Getting repo: </span><span style=\"color: #008080; text-decoration-color: #008080; font-weight: bold; text-decoration: underline\">https://github.com/Graviton-Code-Editor/Graviton-App</span>\n",
       "</pre>\n"
      ],
      "text/plain": [
       "\u001b[1;36m[\u001b[0m\u001b[1;36m+\u001b[0m\u001b[1;36m]\u001b[0m\u001b[1;36m Getting repo: \u001b[0m\u001b[1;4;36mhttps://github.com/Graviton-Code-Editor/Graviton-App\u001b[0m\n"
      ]
     },
     "metadata": {},
     "output_type": "display_data"
    },
    {
     "data": {
      "text/html": [
       "<pre style=\"white-space:pre;overflow-x:auto;line-height:normal;font-family:Menlo,'DejaVu Sans Mono',consolas,'Courier New',monospace\"><span style=\"color: #008080; text-decoration-color: #008080; font-weight: bold\">[+] Successfully retrieved repo: </span><span style=\"color: #008080; text-decoration-color: #008080; font-weight: bold; text-decoration: underline\">https://github.com/Graviton-Code-Editor/Graviton-App</span>\n",
       "</pre>\n"
      ],
      "text/plain": [
       "\u001b[1;36m[\u001b[0m\u001b[1;36m+\u001b[0m\u001b[1;36m]\u001b[0m\u001b[1;36m Successfully retrieved repo: \u001b[0m\u001b[1;4;36mhttps://github.com/Graviton-Code-Editor/Graviton-App\u001b[0m\n"
      ]
     },
     "metadata": {},
     "output_type": "display_data"
    },
    {
     "data": {
      "text/html": [
       "<pre style=\"white-space:pre;overflow-x:auto;line-height:normal;font-family:Menlo,'DejaVu Sans Mono',consolas,'Courier New',monospace\"><span style=\"color: #008080; text-decoration-color: #008080; font-weight: bold\">[+] Found package.json at </span><span style=\"color: #008080; text-decoration-color: #008080; font-weight: bold; text-decoration: underline\">https://github.com/Graviton-Code-Editor/Graviton-App</span>\n",
       "</pre>\n"
      ],
      "text/plain": [
       "\u001b[1;36m[\u001b[0m\u001b[1;36m+\u001b[0m\u001b[1;36m]\u001b[0m\u001b[1;36m Found package.json at \u001b[0m\u001b[1;4;36mhttps://github.com/Graviton-Code-Editor/Graviton-App\u001b[0m\n"
      ]
     },
     "metadata": {},
     "output_type": "display_data"
    },
    {
     "data": {
      "text/html": [
       "<pre style=\"white-space:pre;overflow-x:auto;line-height:normal;font-family:Menlo,'DejaVu Sans Mono',consolas,'Courier New',monospace\"><span style=\"color: #008080; text-decoration-color: #008080; font-weight: bold\">[+] Getting </span><span style=\"color: #008080; text-decoration-color: #008080; font-weight: bold; text-decoration: underline\">https://github.com/Graviton-Code-Editor/Graviton-App/blob/main/package.json</span>\n",
       "</pre>\n"
      ],
      "text/plain": [
       "\u001b[1;36m[\u001b[0m\u001b[1;36m+\u001b[0m\u001b[1;36m]\u001b[0m\u001b[1;36m Getting \u001b[0m\u001b[1;4;36mhttps://github.com/Graviton-Code-Editor/Graviton-App/blob/main/package.json\u001b[0m\n"
      ]
     },
     "metadata": {},
     "output_type": "display_data"
    },
    {
     "data": {
      "text/html": [
       "<pre style=\"white-space:pre;overflow-x:auto;line-height:normal;font-family:Menlo,'DejaVu Sans Mono',consolas,'Courier New',monospace\"><span style=\"color: #008080; text-decoration-color: #008080; font-weight: bold\">[+] Getting repo: </span><span style=\"color: #008080; text-decoration-color: #008080; font-weight: bold; text-decoration: underline\">https://github.com/sanjevirau/gsubs/</span>\n",
       "</pre>\n"
      ],
      "text/plain": [
       "\u001b[1;36m[\u001b[0m\u001b[1;36m+\u001b[0m\u001b[1;36m]\u001b[0m\u001b[1;36m Getting repo: \u001b[0m\u001b[1;4;36mhttps://github.com/sanjevirau/gsubs/\u001b[0m\n"
      ]
     },
     "metadata": {},
     "output_type": "display_data"
    },
    {
     "data": {
      "text/html": [
       "<pre style=\"white-space:pre;overflow-x:auto;line-height:normal;font-family:Menlo,'DejaVu Sans Mono',consolas,'Courier New',monospace\"><span style=\"color: #008080; text-decoration-color: #008080; font-weight: bold\">[+] Successfully retrieved repo: </span><span style=\"color: #008080; text-decoration-color: #008080; font-weight: bold; text-decoration: underline\">https://github.com/sanjevirau/gsubs/</span>\n",
       "</pre>\n"
      ],
      "text/plain": [
       "\u001b[1;36m[\u001b[0m\u001b[1;36m+\u001b[0m\u001b[1;36m]\u001b[0m\u001b[1;36m Successfully retrieved repo: \u001b[0m\u001b[1;4;36mhttps://github.com/sanjevirau/gsubs/\u001b[0m\n"
      ]
     },
     "metadata": {},
     "output_type": "display_data"
    },
    {
     "data": {
      "text/html": [
       "<pre style=\"white-space:pre;overflow-x:auto;line-height:normal;font-family:Menlo,'DejaVu Sans Mono',consolas,'Courier New',monospace\"><span style=\"color: #008080; text-decoration-color: #008080; font-weight: bold\">[+] Found package.json at </span><span style=\"color: #008080; text-decoration-color: #008080; font-weight: bold; text-decoration: underline\">https://github.com/sanjevirau/gsubs/</span>\n",
       "</pre>\n"
      ],
      "text/plain": [
       "\u001b[1;36m[\u001b[0m\u001b[1;36m+\u001b[0m\u001b[1;36m]\u001b[0m\u001b[1;36m Found package.json at \u001b[0m\u001b[1;4;36mhttps://github.com/sanjevirau/gsubs/\u001b[0m\n"
      ]
     },
     "metadata": {},
     "output_type": "display_data"
    },
    {
     "data": {
      "text/html": [
       "<pre style=\"white-space:pre;overflow-x:auto;line-height:normal;font-family:Menlo,'DejaVu Sans Mono',consolas,'Courier New',monospace\"><span style=\"color: #008080; text-decoration-color: #008080; font-weight: bold\">[+] Getting </span><span style=\"color: #008080; text-decoration-color: #008080; font-weight: bold; text-decoration: underline\">https://github.com/sanjevirau/gsubs/blob/master/package.json</span>\n",
       "</pre>\n"
      ],
      "text/plain": [
       "\u001b[1;36m[\u001b[0m\u001b[1;36m+\u001b[0m\u001b[1;36m]\u001b[0m\u001b[1;36m Getting \u001b[0m\u001b[1;4;36mhttps://github.com/sanjevirau/gsubs/blob/master/package.json\u001b[0m\n"
      ]
     },
     "metadata": {},
     "output_type": "display_data"
    },
    {
     "data": {
      "text/html": [
       "<pre style=\"white-space:pre;overflow-x:auto;line-height:normal;font-family:Menlo,'DejaVu Sans Mono',consolas,'Courier New',monospace\"><span style=\"color: #008080; text-decoration-color: #008080; font-weight: bold\">[+] Getting repo: </span><span style=\"color: #008080; text-decoration-color: #008080; font-weight: bold; text-decoration: underline\">https://github.com/SmartHoldemDAPPs/heads-tails</span>\n",
       "</pre>\n"
      ],
      "text/plain": [
       "\u001b[1;36m[\u001b[0m\u001b[1;36m+\u001b[0m\u001b[1;36m]\u001b[0m\u001b[1;36m Getting repo: \u001b[0m\u001b[1;4;36mhttps://github.com/SmartHoldemDAPPs/heads-tails\u001b[0m\n"
      ]
     },
     "metadata": {},
     "output_type": "display_data"
    },
    {
     "data": {
      "text/html": [
       "<pre style=\"white-space:pre;overflow-x:auto;line-height:normal;font-family:Menlo,'DejaVu Sans Mono',consolas,'Courier New',monospace\"><span style=\"color: #008080; text-decoration-color: #008080; font-weight: bold\">[+] Successfully retrieved repo: </span><span style=\"color: #008080; text-decoration-color: #008080; font-weight: bold; text-decoration: underline\">https://github.com/SmartHoldemDAPPs/heads-tails</span>\n",
       "</pre>\n"
      ],
      "text/plain": [
       "\u001b[1;36m[\u001b[0m\u001b[1;36m+\u001b[0m\u001b[1;36m]\u001b[0m\u001b[1;36m Successfully retrieved repo: \u001b[0m\u001b[1;4;36mhttps://github.com/SmartHoldemDAPPs/heads-tails\u001b[0m\n"
      ]
     },
     "metadata": {},
     "output_type": "display_data"
    },
    {
     "data": {
      "text/html": [
       "<pre style=\"white-space:pre;overflow-x:auto;line-height:normal;font-family:Menlo,'DejaVu Sans Mono',consolas,'Courier New',monospace\"><span style=\"color: #ff5f00; text-decoration-color: #ff5f00; font-weight: bold\">[!] Package.json not found at root of </span><span style=\"color: #ff5f00; text-decoration-color: #ff5f00; font-weight: bold; text-decoration: underline\">https://github.com/SmartHoldemDAPPs/heads-tails;</span><span style=\"color: #ff5f00; text-decoration-color: #ff5f00; font-weight: bold\"> trying directories</span>\n",
       "</pre>\n"
      ],
      "text/plain": [
       "\u001b[1;38;5;202m[\u001b[0m\u001b[1;38;5;202m!\u001b[0m\u001b[1;38;5;202m]\u001b[0m\u001b[1;38;5;202m Package.json not found at root of \u001b[0m\u001b[1;4;38;5;202mhttps://github.com/SmartHoldemDAPPs/heads-tails;\u001b[0m\u001b[1;38;5;202m trying directories\u001b[0m\n"
      ]
     },
     "metadata": {},
     "output_type": "display_data"
    },
    {
     "data": {
      "text/html": [
       "<pre style=\"white-space:pre;overflow-x:auto;line-height:normal;font-family:Menlo,'DejaVu Sans Mono',consolas,'Courier New',monospace\"><span style=\"color: #800000; text-decoration-color: #800000; font-weight: bold\">[💀] Could not find package.json in first-level-subdirs</span>\n",
       "</pre>\n"
      ],
      "text/plain": [
       "\u001b[1;31m[\u001b[0m\u001b[1;31m💀\u001b[0m\u001b[1;31m]\u001b[0m\u001b[1;31m Could not find package.json in first-level-subdirs\u001b[0m\n"
      ]
     },
     "metadata": {},
     "output_type": "display_data"
    },
    {
     "data": {
      "text/html": [
       "<pre style=\"white-space:pre;overflow-x:auto;line-height:normal;font-family:Menlo,'DejaVu Sans Mono',consolas,'Courier New',monospace\"><span style=\"color: #008080; text-decoration-color: #008080; font-weight: bold\">[+] Getting repo: </span><span style=\"color: #008080; text-decoration-color: #008080; font-weight: bold; text-decoration: underline\">https://github.com/pablopunk/healthi-app</span>\n",
       "</pre>\n"
      ],
      "text/plain": [
       "\u001b[1;36m[\u001b[0m\u001b[1;36m+\u001b[0m\u001b[1;36m]\u001b[0m\u001b[1;36m Getting repo: \u001b[0m\u001b[1;4;36mhttps://github.com/pablopunk/healthi-app\u001b[0m\n"
      ]
     },
     "metadata": {},
     "output_type": "display_data"
    },
    {
     "data": {
      "text/html": [
       "<pre style=\"white-space:pre;overflow-x:auto;line-height:normal;font-family:Menlo,'DejaVu Sans Mono',consolas,'Courier New',monospace\"><span style=\"color: #008080; text-decoration-color: #008080; font-weight: bold\">[+] Successfully retrieved repo: </span><span style=\"color: #008080; text-decoration-color: #008080; font-weight: bold; text-decoration: underline\">https://github.com/pablopunk/healthi-app</span>\n",
       "</pre>\n"
      ],
      "text/plain": [
       "\u001b[1;36m[\u001b[0m\u001b[1;36m+\u001b[0m\u001b[1;36m]\u001b[0m\u001b[1;36m Successfully retrieved repo: \u001b[0m\u001b[1;4;36mhttps://github.com/pablopunk/healthi-app\u001b[0m\n"
      ]
     },
     "metadata": {},
     "output_type": "display_data"
    },
    {
     "data": {
      "text/html": [
       "<pre style=\"white-space:pre;overflow-x:auto;line-height:normal;font-family:Menlo,'DejaVu Sans Mono',consolas,'Courier New',monospace\"><span style=\"color: #008080; text-decoration-color: #008080; font-weight: bold\">[+] Found package.json at </span><span style=\"color: #008080; text-decoration-color: #008080; font-weight: bold; text-decoration: underline\">https://github.com/pablopunk/healthi-app</span>\n",
       "</pre>\n"
      ],
      "text/plain": [
       "\u001b[1;36m[\u001b[0m\u001b[1;36m+\u001b[0m\u001b[1;36m]\u001b[0m\u001b[1;36m Found package.json at \u001b[0m\u001b[1;4;36mhttps://github.com/pablopunk/healthi-app\u001b[0m\n"
      ]
     },
     "metadata": {},
     "output_type": "display_data"
    },
    {
     "data": {
      "text/html": [
       "<pre style=\"white-space:pre;overflow-x:auto;line-height:normal;font-family:Menlo,'DejaVu Sans Mono',consolas,'Courier New',monospace\"><span style=\"color: #008080; text-decoration-color: #008080; font-weight: bold\">[+] Getting </span><span style=\"color: #008080; text-decoration-color: #008080; font-weight: bold; text-decoration: underline\">https://github.com/pablopunk/healthi-app/blob/master/package.json</span>\n",
       "</pre>\n"
      ],
      "text/plain": [
       "\u001b[1;36m[\u001b[0m\u001b[1;36m+\u001b[0m\u001b[1;36m]\u001b[0m\u001b[1;36m Getting \u001b[0m\u001b[1;4;36mhttps://github.com/pablopunk/healthi-app/blob/master/package.json\u001b[0m\n"
      ]
     },
     "metadata": {},
     "output_type": "display_data"
    },
    {
     "data": {
      "text/html": [
       "<pre style=\"white-space:pre;overflow-x:auto;line-height:normal;font-family:Menlo,'DejaVu Sans Mono',consolas,'Courier New',monospace\"><span style=\"color: #008080; text-decoration-color: #008080; font-weight: bold\">[+] Getting repo: </span><span style=\"color: #008080; text-decoration-color: #008080; font-weight: bold; text-decoration: underline\">https://github.com/gaoyoubo/hexo-client</span>\n",
       "</pre>\n"
      ],
      "text/plain": [
       "\u001b[1;36m[\u001b[0m\u001b[1;36m+\u001b[0m\u001b[1;36m]\u001b[0m\u001b[1;36m Getting repo: \u001b[0m\u001b[1;4;36mhttps://github.com/gaoyoubo/hexo-client\u001b[0m\n"
      ]
     },
     "metadata": {},
     "output_type": "display_data"
    },
    {
     "data": {
      "text/html": [
       "<pre style=\"white-space:pre;overflow-x:auto;line-height:normal;font-family:Menlo,'DejaVu Sans Mono',consolas,'Courier New',monospace\"><span style=\"color: #008080; text-decoration-color: #008080; font-weight: bold\">[+] Successfully retrieved repo: </span><span style=\"color: #008080; text-decoration-color: #008080; font-weight: bold; text-decoration: underline\">https://github.com/gaoyoubo/hexo-client</span>\n",
       "</pre>\n"
      ],
      "text/plain": [
       "\u001b[1;36m[\u001b[0m\u001b[1;36m+\u001b[0m\u001b[1;36m]\u001b[0m\u001b[1;36m Successfully retrieved repo: \u001b[0m\u001b[1;4;36mhttps://github.com/gaoyoubo/hexo-client\u001b[0m\n"
      ]
     },
     "metadata": {},
     "output_type": "display_data"
    },
    {
     "data": {
      "text/html": [
       "<pre style=\"white-space:pre;overflow-x:auto;line-height:normal;font-family:Menlo,'DejaVu Sans Mono',consolas,'Courier New',monospace\"><span style=\"color: #008080; text-decoration-color: #008080; font-weight: bold\">[+] Found package.json at </span><span style=\"color: #008080; text-decoration-color: #008080; font-weight: bold; text-decoration: underline\">https://github.com/gaoyoubo/hexo-client</span>\n",
       "</pre>\n"
      ],
      "text/plain": [
       "\u001b[1;36m[\u001b[0m\u001b[1;36m+\u001b[0m\u001b[1;36m]\u001b[0m\u001b[1;36m Found package.json at \u001b[0m\u001b[1;4;36mhttps://github.com/gaoyoubo/hexo-client\u001b[0m\n"
      ]
     },
     "metadata": {},
     "output_type": "display_data"
    },
    {
     "data": {
      "text/html": [
       "<pre style=\"white-space:pre;overflow-x:auto;line-height:normal;font-family:Menlo,'DejaVu Sans Mono',consolas,'Courier New',monospace\"><span style=\"color: #008080; text-decoration-color: #008080; font-weight: bold\">[+] Getting </span><span style=\"color: #008080; text-decoration-color: #008080; font-weight: bold; text-decoration: underline\">https://github.com/gaoyoubo/hexo-client/blob/master/package.json</span>\n",
       "</pre>\n"
      ],
      "text/plain": [
       "\u001b[1;36m[\u001b[0m\u001b[1;36m+\u001b[0m\u001b[1;36m]\u001b[0m\u001b[1;36m Getting \u001b[0m\u001b[1;4;36mhttps://github.com/gaoyoubo/hexo-client/blob/master/package.json\u001b[0m\n"
      ]
     },
     "metadata": {},
     "output_type": "display_data"
    },
    {
     "data": {
      "text/html": [
       "<pre style=\"white-space:pre;overflow-x:auto;line-height:normal;font-family:Menlo,'DejaVu Sans Mono',consolas,'Courier New',monospace\"><span style=\"color: #008080; text-decoration-color: #008080; font-weight: bold\">[+] Getting repo: </span><span style=\"color: #008080; text-decoration-color: #008080; font-weight: bold; text-decoration: underline\">https://github.com/httptoolkit</span>\n",
       "</pre>\n"
      ],
      "text/plain": [
       "\u001b[1;36m[\u001b[0m\u001b[1;36m+\u001b[0m\u001b[1;36m]\u001b[0m\u001b[1;36m Getting repo: \u001b[0m\u001b[1;4;36mhttps://github.com/httptoolkit\u001b[0m\n"
      ]
     },
     "metadata": {},
     "output_type": "display_data"
    },
    {
     "data": {
      "text/html": [
       "<pre style=\"white-space:pre;overflow-x:auto;line-height:normal;font-family:Menlo,'DejaVu Sans Mono',consolas,'Courier New',monospace\"><span style=\"color: #008080; text-decoration-color: #008080; font-weight: bold\">[+] Successfully retrieved repo: </span><span style=\"color: #008080; text-decoration-color: #008080; font-weight: bold; text-decoration: underline\">https://github.com/httptoolkit</span>\n",
       "</pre>\n"
      ],
      "text/plain": [
       "\u001b[1;36m[\u001b[0m\u001b[1;36m+\u001b[0m\u001b[1;36m]\u001b[0m\u001b[1;36m Successfully retrieved repo: \u001b[0m\u001b[1;4;36mhttps://github.com/httptoolkit\u001b[0m\n"
      ]
     },
     "metadata": {},
     "output_type": "display_data"
    },
    {
     "data": {
      "text/html": [
       "<pre style=\"white-space:pre;overflow-x:auto;line-height:normal;font-family:Menlo,'DejaVu Sans Mono',consolas,'Courier New',monospace\"><span style=\"color: #ff5f00; text-decoration-color: #ff5f00; font-weight: bold\">[!] Package.json not found at root of </span><span style=\"color: #ff5f00; text-decoration-color: #ff5f00; font-weight: bold; text-decoration: underline\">https://github.com/httptoolkit;</span><span style=\"color: #ff5f00; text-decoration-color: #ff5f00; font-weight: bold\"> trying directories</span>\n",
       "</pre>\n"
      ],
      "text/plain": [
       "\u001b[1;38;5;202m[\u001b[0m\u001b[1;38;5;202m!\u001b[0m\u001b[1;38;5;202m]\u001b[0m\u001b[1;38;5;202m Package.json not found at root of \u001b[0m\u001b[1;4;38;5;202mhttps://github.com/httptoolkit;\u001b[0m\u001b[1;38;5;202m trying directories\u001b[0m\n"
      ]
     },
     "metadata": {},
     "output_type": "display_data"
    },
    {
     "data": {
      "text/html": [
       "<pre style=\"white-space:pre;overflow-x:auto;line-height:normal;font-family:Menlo,'DejaVu Sans Mono',consolas,'Courier New',monospace\"><span style=\"color: #800000; text-decoration-color: #800000; font-weight: bold\">[💀] Could not find package.json in first-level-subdirs</span>\n",
       "</pre>\n"
      ],
      "text/plain": [
       "\u001b[1;31m[\u001b[0m\u001b[1;31m💀\u001b[0m\u001b[1;31m]\u001b[0m\u001b[1;31m Could not find package.json in first-level-subdirs\u001b[0m\n"
      ]
     },
     "metadata": {},
     "output_type": "display_data"
    },
    {
     "data": {
      "text/html": [
       "<pre style=\"white-space:pre;overflow-x:auto;line-height:normal;font-family:Menlo,'DejaVu Sans Mono',consolas,'Courier New',monospace\"><span style=\"color: #008080; text-decoration-color: #008080; font-weight: bold\">[+] Getting repo: </span><span style=\"color: #008080; text-decoration-color: #008080; font-weight: bold; text-decoration: underline\">https://github.com/vercel/hyper</span>\n",
       "</pre>\n"
      ],
      "text/plain": [
       "\u001b[1;36m[\u001b[0m\u001b[1;36m+\u001b[0m\u001b[1;36m]\u001b[0m\u001b[1;36m Getting repo: \u001b[0m\u001b[1;4;36mhttps://github.com/vercel/hyper\u001b[0m\n"
      ]
     },
     "metadata": {},
     "output_type": "display_data"
    },
    {
     "data": {
      "text/html": [
       "<pre style=\"white-space:pre;overflow-x:auto;line-height:normal;font-family:Menlo,'DejaVu Sans Mono',consolas,'Courier New',monospace\"><span style=\"color: #008080; text-decoration-color: #008080; font-weight: bold\">[+] Successfully retrieved repo: </span><span style=\"color: #008080; text-decoration-color: #008080; font-weight: bold; text-decoration: underline\">https://github.com/vercel/hyper</span>\n",
       "</pre>\n"
      ],
      "text/plain": [
       "\u001b[1;36m[\u001b[0m\u001b[1;36m+\u001b[0m\u001b[1;36m]\u001b[0m\u001b[1;36m Successfully retrieved repo: \u001b[0m\u001b[1;4;36mhttps://github.com/vercel/hyper\u001b[0m\n"
      ]
     },
     "metadata": {},
     "output_type": "display_data"
    },
    {
     "data": {
      "text/html": [
       "<pre style=\"white-space:pre;overflow-x:auto;line-height:normal;font-family:Menlo,'DejaVu Sans Mono',consolas,'Courier New',monospace\"><span style=\"color: #008080; text-decoration-color: #008080; font-weight: bold\">[+] Found package.json at </span><span style=\"color: #008080; text-decoration-color: #008080; font-weight: bold; text-decoration: underline\">https://github.com/vercel/hyper</span>\n",
       "</pre>\n"
      ],
      "text/plain": [
       "\u001b[1;36m[\u001b[0m\u001b[1;36m+\u001b[0m\u001b[1;36m]\u001b[0m\u001b[1;36m Found package.json at \u001b[0m\u001b[1;4;36mhttps://github.com/vercel/hyper\u001b[0m\n"
      ]
     },
     "metadata": {},
     "output_type": "display_data"
    },
    {
     "data": {
      "text/html": [
       "<pre style=\"white-space:pre;overflow-x:auto;line-height:normal;font-family:Menlo,'DejaVu Sans Mono',consolas,'Courier New',monospace\"><span style=\"color: #008080; text-decoration-color: #008080; font-weight: bold\">[+] Getting </span><span style=\"color: #008080; text-decoration-color: #008080; font-weight: bold; text-decoration: underline\">https://github.com/vercel/hyper/blob/canary/package.json</span>\n",
       "</pre>\n"
      ],
      "text/plain": [
       "\u001b[1;36m[\u001b[0m\u001b[1;36m+\u001b[0m\u001b[1;36m]\u001b[0m\u001b[1;36m Getting \u001b[0m\u001b[1;4;36mhttps://github.com/vercel/hyper/blob/canary/package.json\u001b[0m\n"
      ]
     },
     "metadata": {},
     "output_type": "display_data"
    },
    {
     "data": {
      "text/html": [
       "<pre style=\"white-space:pre;overflow-x:auto;line-height:normal;font-family:Menlo,'DejaVu Sans Mono',consolas,'Courier New',monospace\"><span style=\"color: #008080; text-decoration-color: #008080; font-weight: bold\">[+] Getting repo: </span><span style=\"color: #008080; text-decoration-color: #008080; font-weight: bold; text-decoration: underline\">https://github.com/stefansl/image-shrinker</span>\n",
       "</pre>\n"
      ],
      "text/plain": [
       "\u001b[1;36m[\u001b[0m\u001b[1;36m+\u001b[0m\u001b[1;36m]\u001b[0m\u001b[1;36m Getting repo: \u001b[0m\u001b[1;4;36mhttps://github.com/stefansl/image-shrinker\u001b[0m\n"
      ]
     },
     "metadata": {},
     "output_type": "display_data"
    },
    {
     "data": {
      "text/html": [
       "<pre style=\"white-space:pre;overflow-x:auto;line-height:normal;font-family:Menlo,'DejaVu Sans Mono',consolas,'Courier New',monospace\"><span style=\"color: #008080; text-decoration-color: #008080; font-weight: bold\">[+] Successfully retrieved repo: </span><span style=\"color: #008080; text-decoration-color: #008080; font-weight: bold; text-decoration: underline\">https://github.com/stefansl/image-shrinker</span>\n",
       "</pre>\n"
      ],
      "text/plain": [
       "\u001b[1;36m[\u001b[0m\u001b[1;36m+\u001b[0m\u001b[1;36m]\u001b[0m\u001b[1;36m Successfully retrieved repo: \u001b[0m\u001b[1;4;36mhttps://github.com/stefansl/image-shrinker\u001b[0m\n"
      ]
     },
     "metadata": {},
     "output_type": "display_data"
    },
    {
     "data": {
      "text/html": [
       "<pre style=\"white-space:pre;overflow-x:auto;line-height:normal;font-family:Menlo,'DejaVu Sans Mono',consolas,'Courier New',monospace\"><span style=\"color: #008080; text-decoration-color: #008080; font-weight: bold\">[+] Found package.json at </span><span style=\"color: #008080; text-decoration-color: #008080; font-weight: bold; text-decoration: underline\">https://github.com/stefansl/image-shrinker</span>\n",
       "</pre>\n"
      ],
      "text/plain": [
       "\u001b[1;36m[\u001b[0m\u001b[1;36m+\u001b[0m\u001b[1;36m]\u001b[0m\u001b[1;36m Found package.json at \u001b[0m\u001b[1;4;36mhttps://github.com/stefansl/image-shrinker\u001b[0m\n"
      ]
     },
     "metadata": {},
     "output_type": "display_data"
    },
    {
     "data": {
      "text/html": [
       "<pre style=\"white-space:pre;overflow-x:auto;line-height:normal;font-family:Menlo,'DejaVu Sans Mono',consolas,'Courier New',monospace\"><span style=\"color: #008080; text-decoration-color: #008080; font-weight: bold\">[+] Getting </span><span style=\"color: #008080; text-decoration-color: #008080; font-weight: bold; text-decoration: underline\">https://github.com/stefansl/image-shrinker/blob/master/package.json</span>\n",
       "</pre>\n"
      ],
      "text/plain": [
       "\u001b[1;36m[\u001b[0m\u001b[1;36m+\u001b[0m\u001b[1;36m]\u001b[0m\u001b[1;36m Getting \u001b[0m\u001b[1;4;36mhttps://github.com/stefansl/image-shrinker/blob/master/package.json\u001b[0m\n"
      ]
     },
     "metadata": {},
     "output_type": "display_data"
    },
    {
     "data": {
      "text/html": [
       "<pre style=\"white-space:pre;overflow-x:auto;line-height:normal;font-family:Menlo,'DejaVu Sans Mono',consolas,'Courier New',monospace\"><span style=\"color: #008080; text-decoration-color: #008080; font-weight: bold\">[+] Getting repo: </span><span style=\"color: #008080; text-decoration-color: #008080; font-weight: bold; text-decoration: underline\">https://github.com/denysdovhan/inboxer</span>\n",
       "</pre>\n"
      ],
      "text/plain": [
       "\u001b[1;36m[\u001b[0m\u001b[1;36m+\u001b[0m\u001b[1;36m]\u001b[0m\u001b[1;36m Getting repo: \u001b[0m\u001b[1;4;36mhttps://github.com/denysdovhan/inboxer\u001b[0m\n"
      ]
     },
     "metadata": {},
     "output_type": "display_data"
    },
    {
     "data": {
      "text/html": [
       "<pre style=\"white-space:pre;overflow-x:auto;line-height:normal;font-family:Menlo,'DejaVu Sans Mono',consolas,'Courier New',monospace\"><span style=\"color: #008080; text-decoration-color: #008080; font-weight: bold\">[+] Successfully retrieved repo: </span><span style=\"color: #008080; text-decoration-color: #008080; font-weight: bold; text-decoration: underline\">https://github.com/denysdovhan/inboxer</span>\n",
       "</pre>\n"
      ],
      "text/plain": [
       "\u001b[1;36m[\u001b[0m\u001b[1;36m+\u001b[0m\u001b[1;36m]\u001b[0m\u001b[1;36m Successfully retrieved repo: \u001b[0m\u001b[1;4;36mhttps://github.com/denysdovhan/inboxer\u001b[0m\n"
      ]
     },
     "metadata": {},
     "output_type": "display_data"
    },
    {
     "data": {
      "text/html": [
       "<pre style=\"white-space:pre;overflow-x:auto;line-height:normal;font-family:Menlo,'DejaVu Sans Mono',consolas,'Courier New',monospace\"><span style=\"color: #008080; text-decoration-color: #008080; font-weight: bold\">[+] Found package.json at </span><span style=\"color: #008080; text-decoration-color: #008080; font-weight: bold; text-decoration: underline\">https://github.com/denysdovhan/inboxer</span>\n",
       "</pre>\n"
      ],
      "text/plain": [
       "\u001b[1;36m[\u001b[0m\u001b[1;36m+\u001b[0m\u001b[1;36m]\u001b[0m\u001b[1;36m Found package.json at \u001b[0m\u001b[1;4;36mhttps://github.com/denysdovhan/inboxer\u001b[0m\n"
      ]
     },
     "metadata": {},
     "output_type": "display_data"
    },
    {
     "data": {
      "text/html": [
       "<pre style=\"white-space:pre;overflow-x:auto;line-height:normal;font-family:Menlo,'DejaVu Sans Mono',consolas,'Courier New',monospace\"><span style=\"color: #008080; text-decoration-color: #008080; font-weight: bold\">[+] Getting </span><span style=\"color: #008080; text-decoration-color: #008080; font-weight: bold; text-decoration: underline\">https://github.com/denysdovhan/inboxer/blob/master/package.json</span>\n",
       "</pre>\n"
      ],
      "text/plain": [
       "\u001b[1;36m[\u001b[0m\u001b[1;36m+\u001b[0m\u001b[1;36m]\u001b[0m\u001b[1;36m Getting \u001b[0m\u001b[1;4;36mhttps://github.com/denysdovhan/inboxer/blob/master/package.json\u001b[0m\n"
      ]
     },
     "metadata": {},
     "output_type": "display_data"
    },
    {
     "data": {
      "text/html": [
       "<pre style=\"white-space:pre;overflow-x:auto;line-height:normal;font-family:Menlo,'DejaVu Sans Mono',consolas,'Courier New',monospace\"><span style=\"color: #ff5f00; text-decoration-color: #ff5f00; font-weight: bold\">[!] Invalid Semantic version: </span><span style=\"color: #ff5f00; text-decoration-color: #ff5f00; font-weight: bold\">3.0</span>\n",
       "</pre>\n"
      ],
      "text/plain": [
       "\u001b[1;38;5;202m[\u001b[0m\u001b[1;38;5;202m!\u001b[0m\u001b[1;38;5;202m]\u001b[0m\u001b[1;38;5;202m Invalid Semantic version: \u001b[0m\u001b[1;38;5;202m3.0\u001b[0m\n"
      ]
     },
     "metadata": {},
     "output_type": "display_data"
    },
    {
     "data": {
      "text/html": [
       "<pre style=\"white-space:pre;overflow-x:auto;line-height:normal;font-family:Menlo,'DejaVu Sans Mono',consolas,'Courier New',monospace\"><span style=\"color: #ff5f00; text-decoration-color: #ff5f00; font-weight: bold\">[!] Invalid Semantic version: </span><span style=\"color: #ff5f00; text-decoration-color: #ff5f00; font-weight: bold\">3.0</span>\n",
       "</pre>\n"
      ],
      "text/plain": [
       "\u001b[1;38;5;202m[\u001b[0m\u001b[1;38;5;202m!\u001b[0m\u001b[1;38;5;202m]\u001b[0m\u001b[1;38;5;202m Invalid Semantic version: \u001b[0m\u001b[1;38;5;202m3.0\u001b[0m\n"
      ]
     },
     "metadata": {},
     "output_type": "display_data"
    },
    {
     "data": {
      "text/html": [
       "<pre style=\"white-space:pre;overflow-x:auto;line-height:normal;font-family:Menlo,'DejaVu Sans Mono',consolas,'Courier New',monospace\"><span style=\"color: #008080; text-decoration-color: #008080; font-weight: bold\">[+] Getting repo: </span><span style=\"color: #008080; text-decoration-color: #008080; font-weight: bold; text-decoration: underline\">https://github.com/azure06/infiniti-clips.git</span>\n",
       "</pre>\n"
      ],
      "text/plain": [
       "\u001b[1;36m[\u001b[0m\u001b[1;36m+\u001b[0m\u001b[1;36m]\u001b[0m\u001b[1;36m Getting repo: \u001b[0m\u001b[1;4;36mhttps://github.com/azure06/infiniti-clips.git\u001b[0m\n"
      ]
     },
     "metadata": {},
     "output_type": "display_data"
    },
    {
     "data": {
      "text/html": [
       "<pre style=\"white-space:pre;overflow-x:auto;line-height:normal;font-family:Menlo,'DejaVu Sans Mono',consolas,'Courier New',monospace\"><span style=\"color: #008080; text-decoration-color: #008080; font-weight: bold\">[+] Successfully retrieved repo: </span><span style=\"color: #008080; text-decoration-color: #008080; font-weight: bold; text-decoration: underline\">https://github.com/azure06/infiniti-clips.git</span>\n",
       "</pre>\n"
      ],
      "text/plain": [
       "\u001b[1;36m[\u001b[0m\u001b[1;36m+\u001b[0m\u001b[1;36m]\u001b[0m\u001b[1;36m Successfully retrieved repo: \u001b[0m\u001b[1;4;36mhttps://github.com/azure06/infiniti-clips.git\u001b[0m\n"
      ]
     },
     "metadata": {},
     "output_type": "display_data"
    },
    {
     "data": {
      "text/html": [
       "<pre style=\"white-space:pre;overflow-x:auto;line-height:normal;font-family:Menlo,'DejaVu Sans Mono',consolas,'Courier New',monospace\"><span style=\"color: #008080; text-decoration-color: #008080; font-weight: bold\">[+] Found package.json at </span><span style=\"color: #008080; text-decoration-color: #008080; font-weight: bold; text-decoration: underline\">https://github.com/azure06/infiniti-clips.git</span>\n",
       "</pre>\n"
      ],
      "text/plain": [
       "\u001b[1;36m[\u001b[0m\u001b[1;36m+\u001b[0m\u001b[1;36m]\u001b[0m\u001b[1;36m Found package.json at \u001b[0m\u001b[1;4;36mhttps://github.com/azure06/infiniti-clips.git\u001b[0m\n"
      ]
     },
     "metadata": {},
     "output_type": "display_data"
    },
    {
     "data": {
      "text/html": [
       "<pre style=\"white-space:pre;overflow-x:auto;line-height:normal;font-family:Menlo,'DejaVu Sans Mono',consolas,'Courier New',monospace\"><span style=\"color: #008080; text-decoration-color: #008080; font-weight: bold\">[+] Getting </span><span style=\"color: #008080; text-decoration-color: #008080; font-weight: bold; text-decoration: underline\">https://github.com/azure06/clips/blob/master/package.json</span>\n",
       "</pre>\n"
      ],
      "text/plain": [
       "\u001b[1;36m[\u001b[0m\u001b[1;36m+\u001b[0m\u001b[1;36m]\u001b[0m\u001b[1;36m Getting \u001b[0m\u001b[1;4;36mhttps://github.com/azure06/clips/blob/master/package.json\u001b[0m\n"
      ]
     },
     "metadata": {},
     "output_type": "display_data"
    },
    {
     "data": {
      "text/html": [
       "<pre style=\"white-space:pre;overflow-x:auto;line-height:normal;font-family:Menlo,'DejaVu Sans Mono',consolas,'Courier New',monospace\"><span style=\"color: #008080; text-decoration-color: #008080; font-weight: bold\">[+] Getting repo: </span><span style=\"color: #008080; text-decoration-color: #008080; font-weight: bold; text-decoration: underline\">https://github.com/getinsomnia/insomnia</span>\n",
       "</pre>\n"
      ],
      "text/plain": [
       "\u001b[1;36m[\u001b[0m\u001b[1;36m+\u001b[0m\u001b[1;36m]\u001b[0m\u001b[1;36m Getting repo: \u001b[0m\u001b[1;4;36mhttps://github.com/getinsomnia/insomnia\u001b[0m\n"
      ]
     },
     "metadata": {},
     "output_type": "display_data"
    },
    {
     "data": {
      "text/html": [
       "<pre style=\"white-space:pre;overflow-x:auto;line-height:normal;font-family:Menlo,'DejaVu Sans Mono',consolas,'Courier New',monospace\"><span style=\"color: #008080; text-decoration-color: #008080; font-weight: bold\">[+] Successfully retrieved repo: </span><span style=\"color: #008080; text-decoration-color: #008080; font-weight: bold; text-decoration: underline\">https://github.com/getinsomnia/insomnia</span>\n",
       "</pre>\n"
      ],
      "text/plain": [
       "\u001b[1;36m[\u001b[0m\u001b[1;36m+\u001b[0m\u001b[1;36m]\u001b[0m\u001b[1;36m Successfully retrieved repo: \u001b[0m\u001b[1;4;36mhttps://github.com/getinsomnia/insomnia\u001b[0m\n"
      ]
     },
     "metadata": {},
     "output_type": "display_data"
    },
    {
     "data": {
      "text/html": [
       "<pre style=\"white-space:pre;overflow-x:auto;line-height:normal;font-family:Menlo,'DejaVu Sans Mono',consolas,'Courier New',monospace\"><span style=\"color: #008080; text-decoration-color: #008080; font-weight: bold\">[+] Found package.json at </span><span style=\"color: #008080; text-decoration-color: #008080; font-weight: bold; text-decoration: underline\">https://github.com/getinsomnia/insomnia</span>\n",
       "</pre>\n"
      ],
      "text/plain": [
       "\u001b[1;36m[\u001b[0m\u001b[1;36m+\u001b[0m\u001b[1;36m]\u001b[0m\u001b[1;36m Found package.json at \u001b[0m\u001b[1;4;36mhttps://github.com/getinsomnia/insomnia\u001b[0m\n"
      ]
     },
     "metadata": {},
     "output_type": "display_data"
    },
    {
     "data": {
      "text/html": [
       "<pre style=\"white-space:pre;overflow-x:auto;line-height:normal;font-family:Menlo,'DejaVu Sans Mono',consolas,'Courier New',monospace\"><span style=\"color: #008080; text-decoration-color: #008080; font-weight: bold\">[+] Getting </span><span style=\"color: #008080; text-decoration-color: #008080; font-weight: bold; text-decoration: underline\">https://github.com/Kong/insomnia/blob/develop/package.json</span>\n",
       "</pre>\n"
      ],
      "text/plain": [
       "\u001b[1;36m[\u001b[0m\u001b[1;36m+\u001b[0m\u001b[1;36m]\u001b[0m\u001b[1;36m Getting \u001b[0m\u001b[1;4;36mhttps://github.com/Kong/insomnia/blob/develop/package.json\u001b[0m\n"
      ]
     },
     "metadata": {},
     "output_type": "display_data"
    },
    {
     "data": {
      "text/html": [
       "<pre style=\"white-space:pre;overflow-x:auto;line-height:normal;font-family:Menlo,'DejaVu Sans Mono',consolas,'Courier New',monospace\"><span style=\"color: #008080; text-decoration-color: #008080; font-weight: bold\">[+] Getting repo: </span><span style=\"color: #008080; text-decoration-color: #008080; font-weight: bold; text-decoration: underline\">https://github.com/invizi/invizi/</span>\n",
       "</pre>\n"
      ],
      "text/plain": [
       "\u001b[1;36m[\u001b[0m\u001b[1;36m+\u001b[0m\u001b[1;36m]\u001b[0m\u001b[1;36m Getting repo: \u001b[0m\u001b[1;4;36mhttps://github.com/invizi/invizi/\u001b[0m\n"
      ]
     },
     "metadata": {},
     "output_type": "display_data"
    },
    {
     "data": {
      "text/html": [
       "<pre style=\"white-space:pre;overflow-x:auto;line-height:normal;font-family:Menlo,'DejaVu Sans Mono',consolas,'Courier New',monospace\"><span style=\"color: #008080; text-decoration-color: #008080; font-weight: bold\">[+] Successfully retrieved repo: </span><span style=\"color: #008080; text-decoration-color: #008080; font-weight: bold; text-decoration: underline\">https://github.com/invizi/invizi/</span>\n",
       "</pre>\n"
      ],
      "text/plain": [
       "\u001b[1;36m[\u001b[0m\u001b[1;36m+\u001b[0m\u001b[1;36m]\u001b[0m\u001b[1;36m Successfully retrieved repo: \u001b[0m\u001b[1;4;36mhttps://github.com/invizi/invizi/\u001b[0m\n"
      ]
     },
     "metadata": {},
     "output_type": "display_data"
    },
    {
     "data": {
      "text/html": [
       "<pre style=\"white-space:pre;overflow-x:auto;line-height:normal;font-family:Menlo,'DejaVu Sans Mono',consolas,'Courier New',monospace\"><span style=\"color: #008080; text-decoration-color: #008080; font-weight: bold\">[+] Found package.json at </span><span style=\"color: #008080; text-decoration-color: #008080; font-weight: bold; text-decoration: underline\">https://github.com/invizi/invizi/</span>\n",
       "</pre>\n"
      ],
      "text/plain": [
       "\u001b[1;36m[\u001b[0m\u001b[1;36m+\u001b[0m\u001b[1;36m]\u001b[0m\u001b[1;36m Found package.json at \u001b[0m\u001b[1;4;36mhttps://github.com/invizi/invizi/\u001b[0m\n"
      ]
     },
     "metadata": {},
     "output_type": "display_data"
    },
    {
     "data": {
      "text/html": [
       "<pre style=\"white-space:pre;overflow-x:auto;line-height:normal;font-family:Menlo,'DejaVu Sans Mono',consolas,'Courier New',monospace\"><span style=\"color: #008080; text-decoration-color: #008080; font-weight: bold\">[+] Getting </span><span style=\"color: #008080; text-decoration-color: #008080; font-weight: bold; text-decoration: underline\">https://github.com/invizi/invizi/blob/master/package.json</span>\n",
       "</pre>\n"
      ],
      "text/plain": [
       "\u001b[1;36m[\u001b[0m\u001b[1;36m+\u001b[0m\u001b[1;36m]\u001b[0m\u001b[1;36m Getting \u001b[0m\u001b[1;4;36mhttps://github.com/invizi/invizi/blob/master/package.json\u001b[0m\n"
      ]
     },
     "metadata": {},
     "output_type": "display_data"
    },
    {
     "data": {
      "text/html": [
       "<pre style=\"white-space:pre;overflow-x:auto;line-height:normal;font-family:Menlo,'DejaVu Sans Mono',consolas,'Courier New',monospace\"><span style=\"color: #008080; text-decoration-color: #008080; font-weight: bold\">[+] Getting repo: </span><span style=\"color: #008080; text-decoration-color: #008080; font-weight: bold; text-decoration: underline\">https://github.com/itchio/itch</span>\n",
       "</pre>\n"
      ],
      "text/plain": [
       "\u001b[1;36m[\u001b[0m\u001b[1;36m+\u001b[0m\u001b[1;36m]\u001b[0m\u001b[1;36m Getting repo: \u001b[0m\u001b[1;4;36mhttps://github.com/itchio/itch\u001b[0m\n"
      ]
     },
     "metadata": {},
     "output_type": "display_data"
    },
    {
     "data": {
      "text/html": [
       "<pre style=\"white-space:pre;overflow-x:auto;line-height:normal;font-family:Menlo,'DejaVu Sans Mono',consolas,'Courier New',monospace\"><span style=\"color: #008080; text-decoration-color: #008080; font-weight: bold\">[+] Successfully retrieved repo: </span><span style=\"color: #008080; text-decoration-color: #008080; font-weight: bold; text-decoration: underline\">https://github.com/itchio/itch</span>\n",
       "</pre>\n"
      ],
      "text/plain": [
       "\u001b[1;36m[\u001b[0m\u001b[1;36m+\u001b[0m\u001b[1;36m]\u001b[0m\u001b[1;36m Successfully retrieved repo: \u001b[0m\u001b[1;4;36mhttps://github.com/itchio/itch\u001b[0m\n"
      ]
     },
     "metadata": {},
     "output_type": "display_data"
    },
    {
     "data": {
      "text/html": [
       "<pre style=\"white-space:pre;overflow-x:auto;line-height:normal;font-family:Menlo,'DejaVu Sans Mono',consolas,'Courier New',monospace\"><span style=\"color: #008080; text-decoration-color: #008080; font-weight: bold\">[+] Found package.json at </span><span style=\"color: #008080; text-decoration-color: #008080; font-weight: bold; text-decoration: underline\">https://github.com/itchio/itch</span>\n",
       "</pre>\n"
      ],
      "text/plain": [
       "\u001b[1;36m[\u001b[0m\u001b[1;36m+\u001b[0m\u001b[1;36m]\u001b[0m\u001b[1;36m Found package.json at \u001b[0m\u001b[1;4;36mhttps://github.com/itchio/itch\u001b[0m\n"
      ]
     },
     "metadata": {},
     "output_type": "display_data"
    },
    {
     "data": {
      "text/html": [
       "<pre style=\"white-space:pre;overflow-x:auto;line-height:normal;font-family:Menlo,'DejaVu Sans Mono',consolas,'Courier New',monospace\"><span style=\"color: #008080; text-decoration-color: #008080; font-weight: bold\">[+] Getting </span><span style=\"color: #008080; text-decoration-color: #008080; font-weight: bold; text-decoration: underline\">https://github.com/itchio/itch/blob/master/package.json</span>\n",
       "</pre>\n"
      ],
      "text/plain": [
       "\u001b[1;36m[\u001b[0m\u001b[1;36m+\u001b[0m\u001b[1;36m]\u001b[0m\u001b[1;36m Getting \u001b[0m\u001b[1;4;36mhttps://github.com/itchio/itch/blob/master/package.json\u001b[0m\n"
      ]
     },
     "metadata": {},
     "output_type": "display_data"
    },
    {
     "data": {
      "text/html": [
       "<pre style=\"white-space:pre;overflow-x:auto;line-height:normal;font-family:Menlo,'DejaVu Sans Mono',consolas,'Courier New',monospace\"><span style=\"color: #008080; text-decoration-color: #008080; font-weight: bold\">[+] Getting repo: </span><span style=\"color: #008080; text-decoration-color: #008080; font-weight: bold; text-decoration: underline\">https://github.com/jamovi/jamovi</span>\n",
       "</pre>\n"
      ],
      "text/plain": [
       "\u001b[1;36m[\u001b[0m\u001b[1;36m+\u001b[0m\u001b[1;36m]\u001b[0m\u001b[1;36m Getting repo: \u001b[0m\u001b[1;4;36mhttps://github.com/jamovi/jamovi\u001b[0m\n"
      ]
     },
     "metadata": {},
     "output_type": "display_data"
    },
    {
     "data": {
      "text/html": [
       "<pre style=\"white-space:pre;overflow-x:auto;line-height:normal;font-family:Menlo,'DejaVu Sans Mono',consolas,'Courier New',monospace\"><span style=\"color: #008080; text-decoration-color: #008080; font-weight: bold\">[+] Successfully retrieved repo: </span><span style=\"color: #008080; text-decoration-color: #008080; font-weight: bold; text-decoration: underline\">https://github.com/jamovi/jamovi</span>\n",
       "</pre>\n"
      ],
      "text/plain": [
       "\u001b[1;36m[\u001b[0m\u001b[1;36m+\u001b[0m\u001b[1;36m]\u001b[0m\u001b[1;36m Successfully retrieved repo: \u001b[0m\u001b[1;4;36mhttps://github.com/jamovi/jamovi\u001b[0m\n"
      ]
     },
     "metadata": {},
     "output_type": "display_data"
    },
    {
     "data": {
      "text/html": [
       "<pre style=\"white-space:pre;overflow-x:auto;line-height:normal;font-family:Menlo,'DejaVu Sans Mono',consolas,'Courier New',monospace\"><span style=\"color: #ff5f00; text-decoration-color: #ff5f00; font-weight: bold\">[!] Package.json not found at root of </span><span style=\"color: #ff5f00; text-decoration-color: #ff5f00; font-weight: bold; text-decoration: underline\">https://github.com/jamovi/jamovi;</span><span style=\"color: #ff5f00; text-decoration-color: #ff5f00; font-weight: bold\"> trying directories</span>\n",
       "</pre>\n"
      ],
      "text/plain": [
       "\u001b[1;38;5;202m[\u001b[0m\u001b[1;38;5;202m!\u001b[0m\u001b[1;38;5;202m]\u001b[0m\u001b[1;38;5;202m Package.json not found at root of \u001b[0m\u001b[1;4;38;5;202mhttps://github.com/jamovi/jamovi;\u001b[0m\u001b[1;38;5;202m trying directories\u001b[0m\n"
      ]
     },
     "metadata": {},
     "output_type": "display_data"
    },
    {
     "data": {
      "text/html": [
       "<pre style=\"white-space:pre;overflow-x:auto;line-height:normal;font-family:Menlo,'DejaVu Sans Mono',consolas,'Courier New',monospace\"><span style=\"color: #800000; text-decoration-color: #800000; font-weight: bold\">[💀] Could not find package.json in first-level-subdirs</span>\n",
       "</pre>\n"
      ],
      "text/plain": [
       "\u001b[1;31m[\u001b[0m\u001b[1;31m💀\u001b[0m\u001b[1;31m]\u001b[0m\u001b[1;31m Could not find package.json in first-level-subdirs\u001b[0m\n"
      ]
     },
     "metadata": {},
     "output_type": "display_data"
    },
    {
     "data": {
      "text/html": [
       "<pre style=\"white-space:pre;overflow-x:auto;line-height:normal;font-family:Menlo,'DejaVu Sans Mono',consolas,'Courier New',monospace\"><span style=\"color: #008080; text-decoration-color: #008080; font-weight: bold\">[+] Getting repo: </span><span style=\"color: #008080; text-decoration-color: #008080; font-weight: bold; text-decoration: underline\">https://github.com/jasperapp/jasper</span>\n",
       "</pre>\n"
      ],
      "text/plain": [
       "\u001b[1;36m[\u001b[0m\u001b[1;36m+\u001b[0m\u001b[1;36m]\u001b[0m\u001b[1;36m Getting repo: \u001b[0m\u001b[1;4;36mhttps://github.com/jasperapp/jasper\u001b[0m\n"
      ]
     },
     "metadata": {},
     "output_type": "display_data"
    },
    {
     "data": {
      "text/html": [
       "<pre style=\"white-space:pre;overflow-x:auto;line-height:normal;font-family:Menlo,'DejaVu Sans Mono',consolas,'Courier New',monospace\"><span style=\"color: #008080; text-decoration-color: #008080; font-weight: bold\">[+] Successfully retrieved repo: </span><span style=\"color: #008080; text-decoration-color: #008080; font-weight: bold; text-decoration: underline\">https://github.com/jasperapp/jasper</span>\n",
       "</pre>\n"
      ],
      "text/plain": [
       "\u001b[1;36m[\u001b[0m\u001b[1;36m+\u001b[0m\u001b[1;36m]\u001b[0m\u001b[1;36m Successfully retrieved repo: \u001b[0m\u001b[1;4;36mhttps://github.com/jasperapp/jasper\u001b[0m\n"
      ]
     },
     "metadata": {},
     "output_type": "display_data"
    },
    {
     "data": {
      "text/html": [
       "<pre style=\"white-space:pre;overflow-x:auto;line-height:normal;font-family:Menlo,'DejaVu Sans Mono',consolas,'Courier New',monospace\"><span style=\"color: #008080; text-decoration-color: #008080; font-weight: bold\">[+] Found package.json at </span><span style=\"color: #008080; text-decoration-color: #008080; font-weight: bold; text-decoration: underline\">https://github.com/jasperapp/jasper</span>\n",
       "</pre>\n"
      ],
      "text/plain": [
       "\u001b[1;36m[\u001b[0m\u001b[1;36m+\u001b[0m\u001b[1;36m]\u001b[0m\u001b[1;36m Found package.json at \u001b[0m\u001b[1;4;36mhttps://github.com/jasperapp/jasper\u001b[0m\n"
      ]
     },
     "metadata": {},
     "output_type": "display_data"
    },
    {
     "data": {
      "text/html": [
       "<pre style=\"white-space:pre;overflow-x:auto;line-height:normal;font-family:Menlo,'DejaVu Sans Mono',consolas,'Courier New',monospace\"><span style=\"color: #008080; text-decoration-color: #008080; font-weight: bold\">[+] Getting </span><span style=\"color: #008080; text-decoration-color: #008080; font-weight: bold; text-decoration: underline\">https://github.com/jasperapp/jasper/blob/master/package.json</span>\n",
       "</pre>\n"
      ],
      "text/plain": [
       "\u001b[1;36m[\u001b[0m\u001b[1;36m+\u001b[0m\u001b[1;36m]\u001b[0m\u001b[1;36m Getting \u001b[0m\u001b[1;4;36mhttps://github.com/jasperapp/jasper/blob/master/package.json\u001b[0m\n"
      ]
     },
     "metadata": {},
     "output_type": "display_data"
    },
    {
     "data": {
      "text/html": [
       "<pre style=\"white-space:pre;overflow-x:auto;line-height:normal;font-family:Menlo,'DejaVu Sans Mono',consolas,'Courier New',monospace\"><span style=\"color: #008080; text-decoration-color: #008080; font-weight: bold\">[+] Getting repo: </span><span style=\"color: #008080; text-decoration-color: #008080; font-weight: bold; text-decoration: underline\">https://github.com/laurent22/joplin</span>\n",
       "</pre>\n"
      ],
      "text/plain": [
       "\u001b[1;36m[\u001b[0m\u001b[1;36m+\u001b[0m\u001b[1;36m]\u001b[0m\u001b[1;36m Getting repo: \u001b[0m\u001b[1;4;36mhttps://github.com/laurent22/joplin\u001b[0m\n"
      ]
     },
     "metadata": {},
     "output_type": "display_data"
    },
    {
     "data": {
      "text/html": [
       "<pre style=\"white-space:pre;overflow-x:auto;line-height:normal;font-family:Menlo,'DejaVu Sans Mono',consolas,'Courier New',monospace\"><span style=\"color: #008080; text-decoration-color: #008080; font-weight: bold\">[+] Successfully retrieved repo: </span><span style=\"color: #008080; text-decoration-color: #008080; font-weight: bold; text-decoration: underline\">https://github.com/laurent22/joplin</span>\n",
       "</pre>\n"
      ],
      "text/plain": [
       "\u001b[1;36m[\u001b[0m\u001b[1;36m+\u001b[0m\u001b[1;36m]\u001b[0m\u001b[1;36m Successfully retrieved repo: \u001b[0m\u001b[1;4;36mhttps://github.com/laurent22/joplin\u001b[0m\n"
      ]
     },
     "metadata": {},
     "output_type": "display_data"
    },
    {
     "data": {
      "text/html": [
       "<pre style=\"white-space:pre;overflow-x:auto;line-height:normal;font-family:Menlo,'DejaVu Sans Mono',consolas,'Courier New',monospace\"><span style=\"color: #008080; text-decoration-color: #008080; font-weight: bold\">[+] Found package.json at </span><span style=\"color: #008080; text-decoration-color: #008080; font-weight: bold; text-decoration: underline\">https://github.com/laurent22/joplin</span>\n",
       "</pre>\n"
      ],
      "text/plain": [
       "\u001b[1;36m[\u001b[0m\u001b[1;36m+\u001b[0m\u001b[1;36m]\u001b[0m\u001b[1;36m Found package.json at \u001b[0m\u001b[1;4;36mhttps://github.com/laurent22/joplin\u001b[0m\n"
      ]
     },
     "metadata": {},
     "output_type": "display_data"
    },
    {
     "data": {
      "text/html": [
       "<pre style=\"white-space:pre;overflow-x:auto;line-height:normal;font-family:Menlo,'DejaVu Sans Mono',consolas,'Courier New',monospace\"><span style=\"color: #008080; text-decoration-color: #008080; font-weight: bold\">[+] Getting </span><span style=\"color: #008080; text-decoration-color: #008080; font-weight: bold; text-decoration: underline\">https://github.com/laurent22/joplin/blob/dev/package.json</span>\n",
       "</pre>\n"
      ],
      "text/plain": [
       "\u001b[1;36m[\u001b[0m\u001b[1;36m+\u001b[0m\u001b[1;36m]\u001b[0m\u001b[1;36m Getting \u001b[0m\u001b[1;4;36mhttps://github.com/laurent22/joplin/blob/dev/package.json\u001b[0m\n"
      ]
     },
     "metadata": {},
     "output_type": "display_data"
    },
    {
     "data": {
      "text/html": [
       "<pre style=\"white-space:pre;overflow-x:auto;line-height:normal;font-family:Menlo,'DejaVu Sans Mono',consolas,'Courier New',monospace\"><span style=\"color: #008080; text-decoration-color: #008080; font-weight: bold\">[+] Getting repo: </span><span style=\"color: #008080; text-decoration-color: #008080; font-weight: bold; text-decoration: underline\">https://github.com/LN-Juggernaut/juggernaut-desktop</span>\n",
       "</pre>\n"
      ],
      "text/plain": [
       "\u001b[1;36m[\u001b[0m\u001b[1;36m+\u001b[0m\u001b[1;36m]\u001b[0m\u001b[1;36m Getting repo: \u001b[0m\u001b[1;4;36mhttps://github.com/LN-Juggernaut/juggernaut-desktop\u001b[0m\n"
      ]
     },
     "metadata": {},
     "output_type": "display_data"
    },
    {
     "data": {
      "text/html": [
       "<pre style=\"white-space:pre;overflow-x:auto;line-height:normal;font-family:Menlo,'DejaVu Sans Mono',consolas,'Courier New',monospace\"><span style=\"color: #008080; text-decoration-color: #008080; font-weight: bold\">[+] Successfully retrieved repo: </span><span style=\"color: #008080; text-decoration-color: #008080; font-weight: bold; text-decoration: underline\">https://github.com/LN-Juggernaut/juggernaut-desktop</span>\n",
       "</pre>\n"
      ],
      "text/plain": [
       "\u001b[1;36m[\u001b[0m\u001b[1;36m+\u001b[0m\u001b[1;36m]\u001b[0m\u001b[1;36m Successfully retrieved repo: \u001b[0m\u001b[1;4;36mhttps://github.com/LN-Juggernaut/juggernaut-desktop\u001b[0m\n"
      ]
     },
     "metadata": {},
     "output_type": "display_data"
    },
    {
     "data": {
      "text/html": [
       "<pre style=\"white-space:pre;overflow-x:auto;line-height:normal;font-family:Menlo,'DejaVu Sans Mono',consolas,'Courier New',monospace\"><span style=\"color: #008080; text-decoration-color: #008080; font-weight: bold\">[+] Found package.json at </span><span style=\"color: #008080; text-decoration-color: #008080; font-weight: bold; text-decoration: underline\">https://github.com/LN-Juggernaut/juggernaut-desktop</span>\n",
       "</pre>\n"
      ],
      "text/plain": [
       "\u001b[1;36m[\u001b[0m\u001b[1;36m+\u001b[0m\u001b[1;36m]\u001b[0m\u001b[1;36m Found package.json at \u001b[0m\u001b[1;4;36mhttps://github.com/LN-Juggernaut/juggernaut-desktop\u001b[0m\n"
      ]
     },
     "metadata": {},
     "output_type": "display_data"
    },
    {
     "data": {
      "text/html": [
       "<pre style=\"white-space:pre;overflow-x:auto;line-height:normal;font-family:Menlo,'DejaVu Sans Mono',consolas,'Courier New',monospace\"><span style=\"color: #008080; text-decoration-color: #008080; font-weight: bold\">[+] Getting </span><span style=\"color: #008080; text-decoration-color: #008080; font-weight: bold; text-decoration: underline\">https://github.com/LN-Juggernaut/juggernaut-desktop/blob/master/package.json</span>\n",
       "</pre>\n"
      ],
      "text/plain": [
       "\u001b[1;36m[\u001b[0m\u001b[1;36m+\u001b[0m\u001b[1;36m]\u001b[0m\u001b[1;36m Getting \u001b[0m\u001b[1;4;36mhttps://github.com/LN-Juggernaut/juggernaut-desktop/blob/master/package.json\u001b[0m\n"
      ]
     },
     "metadata": {},
     "output_type": "display_data"
    },
    {
     "data": {
      "text/html": [
       "<pre style=\"white-space:pre;overflow-x:auto;line-height:normal;font-family:Menlo,'DejaVu Sans Mono',consolas,'Courier New',monospace\"><span style=\"color: #008080; text-decoration-color: #008080; font-weight: bold\">[+] Getting repo: </span><span style=\"color: #008080; text-decoration-color: #008080; font-weight: bold; text-decoration: underline\">https://github.com/Gilad-Kutiel-App/jumpfm</span>\n",
       "</pre>\n"
      ],
      "text/plain": [
       "\u001b[1;36m[\u001b[0m\u001b[1;36m+\u001b[0m\u001b[1;36m]\u001b[0m\u001b[1;36m Getting repo: \u001b[0m\u001b[1;4;36mhttps://github.com/Gilad-Kutiel-App/jumpfm\u001b[0m\n"
      ]
     },
     "metadata": {},
     "output_type": "display_data"
    },
    {
     "data": {
      "text/html": [
       "<pre style=\"white-space:pre;overflow-x:auto;line-height:normal;font-family:Menlo,'DejaVu Sans Mono',consolas,'Courier New',monospace\"><span style=\"color: #008080; text-decoration-color: #008080; font-weight: bold\">[+] Successfully retrieved repo: </span><span style=\"color: #008080; text-decoration-color: #008080; font-weight: bold; text-decoration: underline\">https://github.com/Gilad-Kutiel-App/jumpfm</span>\n",
       "</pre>\n"
      ],
      "text/plain": [
       "\u001b[1;36m[\u001b[0m\u001b[1;36m+\u001b[0m\u001b[1;36m]\u001b[0m\u001b[1;36m Successfully retrieved repo: \u001b[0m\u001b[1;4;36mhttps://github.com/Gilad-Kutiel-App/jumpfm\u001b[0m\n"
      ]
     },
     "metadata": {},
     "output_type": "display_data"
    },
    {
     "data": {
      "text/html": [
       "<pre style=\"white-space:pre;overflow-x:auto;line-height:normal;font-family:Menlo,'DejaVu Sans Mono',consolas,'Courier New',monospace\"><span style=\"color: #008080; text-decoration-color: #008080; font-weight: bold\">[+] Found package.json at </span><span style=\"color: #008080; text-decoration-color: #008080; font-weight: bold; text-decoration: underline\">https://github.com/Gilad-Kutiel-App/jumpfm</span>\n",
       "</pre>\n"
      ],
      "text/plain": [
       "\u001b[1;36m[\u001b[0m\u001b[1;36m+\u001b[0m\u001b[1;36m]\u001b[0m\u001b[1;36m Found package.json at \u001b[0m\u001b[1;4;36mhttps://github.com/Gilad-Kutiel-App/jumpfm\u001b[0m\n"
      ]
     },
     "metadata": {},
     "output_type": "display_data"
    },
    {
     "data": {
      "text/html": [
       "<pre style=\"white-space:pre;overflow-x:auto;line-height:normal;font-family:Menlo,'DejaVu Sans Mono',consolas,'Courier New',monospace\"><span style=\"color: #008080; text-decoration-color: #008080; font-weight: bold\">[+] Getting </span><span style=\"color: #008080; text-decoration-color: #008080; font-weight: bold; text-decoration: underline\">https://github.com/JumpFm/jumpfm/blob/master/package.json</span>\n",
       "</pre>\n"
      ],
      "text/plain": [
       "\u001b[1;36m[\u001b[0m\u001b[1;36m+\u001b[0m\u001b[1;36m]\u001b[0m\u001b[1;36m Getting \u001b[0m\u001b[1;4;36mhttps://github.com/JumpFm/jumpfm/blob/master/package.json\u001b[0m\n"
      ]
     },
     "metadata": {},
     "output_type": "display_data"
    },
    {
     "data": {
      "text/html": [
       "<pre style=\"white-space:pre;overflow-x:auto;line-height:normal;font-family:Menlo,'DejaVu Sans Mono',consolas,'Courier New',monospace\"><span style=\"color: #008080; text-decoration-color: #008080; font-weight: bold\">[+] Getting repo: </span><span style=\"color: #008080; text-decoration-color: #008080; font-weight: bold; text-decoration: underline\">https://github.com/AiursoftWeb/Kahla.App</span>\n",
       "</pre>\n"
      ],
      "text/plain": [
       "\u001b[1;36m[\u001b[0m\u001b[1;36m+\u001b[0m\u001b[1;36m]\u001b[0m\u001b[1;36m Getting repo: \u001b[0m\u001b[1;4;36mhttps://github.com/AiursoftWeb/Kahla.App\u001b[0m\n"
      ]
     },
     "metadata": {},
     "output_type": "display_data"
    },
    {
     "data": {
      "text/html": [
       "<pre style=\"white-space:pre;overflow-x:auto;line-height:normal;font-family:Menlo,'DejaVu Sans Mono',consolas,'Courier New',monospace\"><span style=\"color: #008080; text-decoration-color: #008080; font-weight: bold\">[+] Successfully retrieved repo: </span><span style=\"color: #008080; text-decoration-color: #008080; font-weight: bold; text-decoration: underline\">https://github.com/AiursoftWeb/Kahla.App</span>\n",
       "</pre>\n"
      ],
      "text/plain": [
       "\u001b[1;36m[\u001b[0m\u001b[1;36m+\u001b[0m\u001b[1;36m]\u001b[0m\u001b[1;36m Successfully retrieved repo: \u001b[0m\u001b[1;4;36mhttps://github.com/AiursoftWeb/Kahla.App\u001b[0m\n"
      ]
     },
     "metadata": {},
     "output_type": "display_data"
    },
    {
     "data": {
      "text/html": [
       "<pre style=\"white-space:pre;overflow-x:auto;line-height:normal;font-family:Menlo,'DejaVu Sans Mono',consolas,'Courier New',monospace\"><span style=\"color: #008080; text-decoration-color: #008080; font-weight: bold\">[+] Found package.json at </span><span style=\"color: #008080; text-decoration-color: #008080; font-weight: bold; text-decoration: underline\">https://github.com/AiursoftWeb/Kahla.App</span>\n",
       "</pre>\n"
      ],
      "text/plain": [
       "\u001b[1;36m[\u001b[0m\u001b[1;36m+\u001b[0m\u001b[1;36m]\u001b[0m\u001b[1;36m Found package.json at \u001b[0m\u001b[1;4;36mhttps://github.com/AiursoftWeb/Kahla.App\u001b[0m\n"
      ]
     },
     "metadata": {},
     "output_type": "display_data"
    },
    {
     "data": {
      "text/html": [
       "<pre style=\"white-space:pre;overflow-x:auto;line-height:normal;font-family:Menlo,'DejaVu Sans Mono',consolas,'Courier New',monospace\"><span style=\"color: #008080; text-decoration-color: #008080; font-weight: bold\">[+] Getting </span><span style=\"color: #008080; text-decoration-color: #008080; font-weight: bold; text-decoration: underline\">https://github.com/AiursoftWeb/Kahla.App/blob/master/package.json</span>\n",
       "</pre>\n"
      ],
      "text/plain": [
       "\u001b[1;36m[\u001b[0m\u001b[1;36m+\u001b[0m\u001b[1;36m]\u001b[0m\u001b[1;36m Getting \u001b[0m\u001b[1;4;36mhttps://github.com/AiursoftWeb/Kahla.App/blob/master/package.json\u001b[0m\n"
      ]
     },
     "metadata": {},
     "output_type": "display_data"
    },
    {
     "data": {
      "text/html": [
       "<pre style=\"white-space:pre;overflow-x:auto;line-height:normal;font-family:Menlo,'DejaVu Sans Mono',consolas,'Courier New',monospace\"><span style=\"color: #008080; text-decoration-color: #008080; font-weight: bold\">[+] Getting repo: </span><span style=\"color: #008080; text-decoration-color: #008080; font-weight: bold; text-decoration: underline\">https://github.com/wulkano/kap</span>\n",
       "</pre>\n"
      ],
      "text/plain": [
       "\u001b[1;36m[\u001b[0m\u001b[1;36m+\u001b[0m\u001b[1;36m]\u001b[0m\u001b[1;36m Getting repo: \u001b[0m\u001b[1;4;36mhttps://github.com/wulkano/kap\u001b[0m\n"
      ]
     },
     "metadata": {},
     "output_type": "display_data"
    },
    {
     "data": {
      "text/html": [
       "<pre style=\"white-space:pre;overflow-x:auto;line-height:normal;font-family:Menlo,'DejaVu Sans Mono',consolas,'Courier New',monospace\"><span style=\"color: #008080; text-decoration-color: #008080; font-weight: bold\">[+] Successfully retrieved repo: </span><span style=\"color: #008080; text-decoration-color: #008080; font-weight: bold; text-decoration: underline\">https://github.com/wulkano/kap</span>\n",
       "</pre>\n"
      ],
      "text/plain": [
       "\u001b[1;36m[\u001b[0m\u001b[1;36m+\u001b[0m\u001b[1;36m]\u001b[0m\u001b[1;36m Successfully retrieved repo: \u001b[0m\u001b[1;4;36mhttps://github.com/wulkano/kap\u001b[0m\n"
      ]
     },
     "metadata": {},
     "output_type": "display_data"
    },
    {
     "data": {
      "text/html": [
       "<pre style=\"white-space:pre;overflow-x:auto;line-height:normal;font-family:Menlo,'DejaVu Sans Mono',consolas,'Courier New',monospace\"><span style=\"color: #008080; text-decoration-color: #008080; font-weight: bold\">[+] Found package.json at </span><span style=\"color: #008080; text-decoration-color: #008080; font-weight: bold; text-decoration: underline\">https://github.com/wulkano/kap</span>\n",
       "</pre>\n"
      ],
      "text/plain": [
       "\u001b[1;36m[\u001b[0m\u001b[1;36m+\u001b[0m\u001b[1;36m]\u001b[0m\u001b[1;36m Found package.json at \u001b[0m\u001b[1;4;36mhttps://github.com/wulkano/kap\u001b[0m\n"
      ]
     },
     "metadata": {},
     "output_type": "display_data"
    },
    {
     "data": {
      "text/html": [
       "<pre style=\"white-space:pre;overflow-x:auto;line-height:normal;font-family:Menlo,'DejaVu Sans Mono',consolas,'Courier New',monospace\"><span style=\"color: #008080; text-decoration-color: #008080; font-weight: bold\">[+] Getting </span><span style=\"color: #008080; text-decoration-color: #008080; font-weight: bold; text-decoration: underline\">https://github.com/wulkano/Kap/blob/main/package.json</span>\n",
       "</pre>\n"
      ],
      "text/plain": [
       "\u001b[1;36m[\u001b[0m\u001b[1;36m+\u001b[0m\u001b[1;36m]\u001b[0m\u001b[1;36m Getting \u001b[0m\u001b[1;4;36mhttps://github.com/wulkano/Kap/blob/main/package.json\u001b[0m\n"
      ]
     },
     "metadata": {},
     "output_type": "display_data"
    },
    {
     "data": {
      "text/html": [
       "<pre style=\"white-space:pre;overflow-x:auto;line-height:normal;font-family:Menlo,'DejaVu Sans Mono',consolas,'Courier New',monospace\"><span style=\"color: #008080; text-decoration-color: #008080; font-weight: bold\">[+] Getting repo: </span><span style=\"color: #008080; text-decoration-color: #008080; font-weight: bold; text-decoration: underline\">https://github.com/kaplanPRO/kaplan-desktop</span>\n",
       "</pre>\n"
      ],
      "text/plain": [
       "\u001b[1;36m[\u001b[0m\u001b[1;36m+\u001b[0m\u001b[1;36m]\u001b[0m\u001b[1;36m Getting repo: \u001b[0m\u001b[1;4;36mhttps://github.com/kaplanPRO/kaplan-desktop\u001b[0m\n"
      ]
     },
     "metadata": {},
     "output_type": "display_data"
    },
    {
     "data": {
      "text/html": [
       "<pre style=\"white-space:pre;overflow-x:auto;line-height:normal;font-family:Menlo,'DejaVu Sans Mono',consolas,'Courier New',monospace\"><span style=\"color: #008080; text-decoration-color: #008080; font-weight: bold\">[+] Successfully retrieved repo: </span><span style=\"color: #008080; text-decoration-color: #008080; font-weight: bold; text-decoration: underline\">https://github.com/kaplanPRO/kaplan-desktop</span>\n",
       "</pre>\n"
      ],
      "text/plain": [
       "\u001b[1;36m[\u001b[0m\u001b[1;36m+\u001b[0m\u001b[1;36m]\u001b[0m\u001b[1;36m Successfully retrieved repo: \u001b[0m\u001b[1;4;36mhttps://github.com/kaplanPRO/kaplan-desktop\u001b[0m\n"
      ]
     },
     "metadata": {},
     "output_type": "display_data"
    },
    {
     "data": {
      "text/html": [
       "<pre style=\"white-space:pre;overflow-x:auto;line-height:normal;font-family:Menlo,'DejaVu Sans Mono',consolas,'Courier New',monospace\"><span style=\"color: #ff5f00; text-decoration-color: #ff5f00; font-weight: bold\">[!] Package.json not found at root of </span><span style=\"color: #ff5f00; text-decoration-color: #ff5f00; font-weight: bold; text-decoration: underline\">https://github.com/kaplanPRO/kaplan-desktop;</span><span style=\"color: #ff5f00; text-decoration-color: #ff5f00; font-weight: bold\"> trying directories</span>\n",
       "</pre>\n"
      ],
      "text/plain": [
       "\u001b[1;38;5;202m[\u001b[0m\u001b[1;38;5;202m!\u001b[0m\u001b[1;38;5;202m]\u001b[0m\u001b[1;38;5;202m Package.json not found at root of \u001b[0m\u001b[1;4;38;5;202mhttps://github.com/kaplanPRO/kaplan-desktop;\u001b[0m\u001b[1;38;5;202m trying directories\u001b[0m\n"
      ]
     },
     "metadata": {},
     "output_type": "display_data"
    },
    {
     "data": {
      "text/html": [
       "<pre style=\"white-space:pre;overflow-x:auto;line-height:normal;font-family:Menlo,'DejaVu Sans Mono',consolas,'Courier New',monospace\"><span style=\"color: #008080; text-decoration-color: #008080; font-weight: bold\">[+] Trying </span><span style=\"color: #008080; text-decoration-color: #008080; font-weight: bold; text-decoration: underline\">https://github.com/kaplanPRO/kaplan-desktop/tree/master/app</span>\n",
       "</pre>\n"
      ],
      "text/plain": [
       "\u001b[1;36m[\u001b[0m\u001b[1;36m+\u001b[0m\u001b[1;36m]\u001b[0m\u001b[1;36m Trying \u001b[0m\u001b[1;4;36mhttps://github.com/kaplanPRO/kaplan-desktop/tree/master/app\u001b[0m\n"
      ]
     },
     "metadata": {},
     "output_type": "display_data"
    },
    {
     "data": {
      "text/html": [
       "<pre style=\"white-space:pre;overflow-x:auto;line-height:normal;font-family:Menlo,'DejaVu Sans Mono',consolas,'Courier New',monospace\"><span style=\"color: #008080; text-decoration-color: #008080; font-weight: bold\">[+] Trying </span><span style=\"color: #008080; text-decoration-color: #008080; font-weight: bold; text-decoration: underline\">https://github.com/kaplanPRO/kaplan-desktop/tree/master/backend</span>\n",
       "</pre>\n"
      ],
      "text/plain": [
       "\u001b[1;36m[\u001b[0m\u001b[1;36m+\u001b[0m\u001b[1;36m]\u001b[0m\u001b[1;36m Trying \u001b[0m\u001b[1;4;36mhttps://github.com/kaplanPRO/kaplan-desktop/tree/master/backend\u001b[0m\n"
      ]
     },
     "metadata": {},
     "output_type": "display_data"
    },
    {
     "data": {
      "text/html": [
       "<pre style=\"white-space:pre;overflow-x:auto;line-height:normal;font-family:Menlo,'DejaVu Sans Mono',consolas,'Courier New',monospace\"><span style=\"color: #008080; text-decoration-color: #008080; font-weight: bold\">[+] Trying </span><span style=\"color: #008080; text-decoration-color: #008080; font-weight: bold; text-decoration: underline\">https://github.com/kaplanPRO/kaplan-desktop/tree/master/docs</span>\n",
       "</pre>\n"
      ],
      "text/plain": [
       "\u001b[1;36m[\u001b[0m\u001b[1;36m+\u001b[0m\u001b[1;36m]\u001b[0m\u001b[1;36m Trying \u001b[0m\u001b[1;4;36mhttps://github.com/kaplanPRO/kaplan-desktop/tree/master/docs\u001b[0m\n"
      ]
     },
     "metadata": {},
     "output_type": "display_data"
    },
    {
     "data": {
      "text/html": [
       "<pre style=\"white-space:pre;overflow-x:auto;line-height:normal;font-family:Menlo,'DejaVu Sans Mono',consolas,'Courier New',monospace\"><span style=\"color: #800000; text-decoration-color: #800000; font-weight: bold\">[💀] Could not find package.json in first-level-subdirs</span>\n",
       "</pre>\n"
      ],
      "text/plain": [
       "\u001b[1;31m[\u001b[0m\u001b[1;31m💀\u001b[0m\u001b[1;31m]\u001b[0m\u001b[1;31m Could not find package.json in first-level-subdirs\u001b[0m\n"
      ]
     },
     "metadata": {},
     "output_type": "display_data"
    },
    {
     "data": {
      "text/html": [
       "<pre style=\"white-space:pre;overflow-x:auto;line-height:normal;font-family:Menlo,'DejaVu Sans Mono',consolas,'Courier New',monospace\"><span style=\"color: #008080; text-decoration-color: #008080; font-weight: bold\">[+] Getting repo: </span><span style=\"color: #008080; text-decoration-color: #008080; font-weight: bold; text-decoration: underline\">https://gitlab.com/karaokemugen/karaokemugen-app</span>\n",
       "</pre>\n"
      ],
      "text/plain": [
       "\u001b[1;36m[\u001b[0m\u001b[1;36m+\u001b[0m\u001b[1;36m]\u001b[0m\u001b[1;36m Getting repo: \u001b[0m\u001b[1;4;36mhttps://gitlab.com/karaokemugen/karaokemugen-app\u001b[0m\n"
      ]
     },
     "metadata": {},
     "output_type": "display_data"
    },
    {
     "data": {
      "text/html": [
       "<pre style=\"white-space:pre;overflow-x:auto;line-height:normal;font-family:Menlo,'DejaVu Sans Mono',consolas,'Courier New',monospace\"><span style=\"color: #008080; text-decoration-color: #008080; font-weight: bold\">[+] Successfully retrieved repo: </span><span style=\"color: #008080; text-decoration-color: #008080; font-weight: bold; text-decoration: underline\">https://gitlab.com/karaokemugen/karaokemugen-app</span>\n",
       "</pre>\n"
      ],
      "text/plain": [
       "\u001b[1;36m[\u001b[0m\u001b[1;36m+\u001b[0m\u001b[1;36m]\u001b[0m\u001b[1;36m Successfully retrieved repo: \u001b[0m\u001b[1;4;36mhttps://gitlab.com/karaokemugen/karaokemugen-app\u001b[0m\n"
      ]
     },
     "metadata": {},
     "output_type": "display_data"
    },
    {
     "data": {
      "text/html": [
       "<pre style=\"white-space:pre;overflow-x:auto;line-height:normal;font-family:Menlo,'DejaVu Sans Mono',consolas,'Courier New',monospace\"><span style=\"color: #ff5f00; text-decoration-color: #ff5f00; font-weight: bold\">[!] Package.json not found at root of </span><span style=\"color: #ff5f00; text-decoration-color: #ff5f00; font-weight: bold; text-decoration: underline\">https://gitlab.com/karaokemugen/karaokemugen-app;</span><span style=\"color: #ff5f00; text-decoration-color: #ff5f00; font-weight: bold\"> trying directories</span>\n",
       "</pre>\n"
      ],
      "text/plain": [
       "\u001b[1;38;5;202m[\u001b[0m\u001b[1;38;5;202m!\u001b[0m\u001b[1;38;5;202m]\u001b[0m\u001b[1;38;5;202m Package.json not found at root of \u001b[0m\u001b[1;4;38;5;202mhttps://gitlab.com/karaokemugen/karaokemugen-app;\u001b[0m\u001b[1;38;5;202m trying directories\u001b[0m\n"
      ]
     },
     "metadata": {},
     "output_type": "display_data"
    },
    {
     "data": {
      "text/html": [
       "<pre style=\"white-space:pre;overflow-x:auto;line-height:normal;font-family:Menlo,'DejaVu Sans Mono',consolas,'Courier New',monospace\"><span style=\"color: #800000; text-decoration-color: #800000; font-weight: bold\">[💀] Could not find package.json in first-level-subdirs</span>\n",
       "</pre>\n"
      ],
      "text/plain": [
       "\u001b[1;31m[\u001b[0m\u001b[1;31m💀\u001b[0m\u001b[1;31m]\u001b[0m\u001b[1;31m Could not find package.json in first-level-subdirs\u001b[0m\n"
      ]
     },
     "metadata": {},
     "output_type": "display_data"
    },
    {
     "data": {
      "text/html": [
       "<pre style=\"white-space:pre;overflow-x:auto;line-height:normal;font-family:Menlo,'DejaVu Sans Mono',consolas,'Courier New',monospace\"><span style=\"color: #008080; text-decoration-color: #008080; font-weight: bold\">[+] Getting repo: </span><span style=\"color: #008080; text-decoration-color: #008080; font-weight: bold; text-decoration: underline\">https://github.com/keeweb/keeweb</span>\n",
       "</pre>\n"
      ],
      "text/plain": [
       "\u001b[1;36m[\u001b[0m\u001b[1;36m+\u001b[0m\u001b[1;36m]\u001b[0m\u001b[1;36m Getting repo: \u001b[0m\u001b[1;4;36mhttps://github.com/keeweb/keeweb\u001b[0m\n"
      ]
     },
     "metadata": {},
     "output_type": "display_data"
    },
    {
     "data": {
      "text/html": [
       "<pre style=\"white-space:pre;overflow-x:auto;line-height:normal;font-family:Menlo,'DejaVu Sans Mono',consolas,'Courier New',monospace\"><span style=\"color: #008080; text-decoration-color: #008080; font-weight: bold\">[+] Successfully retrieved repo: </span><span style=\"color: #008080; text-decoration-color: #008080; font-weight: bold; text-decoration: underline\">https://github.com/keeweb/keeweb</span>\n",
       "</pre>\n"
      ],
      "text/plain": [
       "\u001b[1;36m[\u001b[0m\u001b[1;36m+\u001b[0m\u001b[1;36m]\u001b[0m\u001b[1;36m Successfully retrieved repo: \u001b[0m\u001b[1;4;36mhttps://github.com/keeweb/keeweb\u001b[0m\n"
      ]
     },
     "metadata": {},
     "output_type": "display_data"
    },
    {
     "data": {
      "text/html": [
       "<pre style=\"white-space:pre;overflow-x:auto;line-height:normal;font-family:Menlo,'DejaVu Sans Mono',consolas,'Courier New',monospace\"><span style=\"color: #008080; text-decoration-color: #008080; font-weight: bold\">[+] Found package.json at </span><span style=\"color: #008080; text-decoration-color: #008080; font-weight: bold; text-decoration: underline\">https://github.com/keeweb/keeweb</span>\n",
       "</pre>\n"
      ],
      "text/plain": [
       "\u001b[1;36m[\u001b[0m\u001b[1;36m+\u001b[0m\u001b[1;36m]\u001b[0m\u001b[1;36m Found package.json at \u001b[0m\u001b[1;4;36mhttps://github.com/keeweb/keeweb\u001b[0m\n"
      ]
     },
     "metadata": {},
     "output_type": "display_data"
    },
    {
     "data": {
      "text/html": [
       "<pre style=\"white-space:pre;overflow-x:auto;line-height:normal;font-family:Menlo,'DejaVu Sans Mono',consolas,'Courier New',monospace\"><span style=\"color: #008080; text-decoration-color: #008080; font-weight: bold\">[+] Getting </span><span style=\"color: #008080; text-decoration-color: #008080; font-weight: bold; text-decoration: underline\">https://github.com/keeweb/keeweb/blob/master/package.json</span>\n",
       "</pre>\n"
      ],
      "text/plain": [
       "\u001b[1;36m[\u001b[0m\u001b[1;36m+\u001b[0m\u001b[1;36m]\u001b[0m\u001b[1;36m Getting \u001b[0m\u001b[1;4;36mhttps://github.com/keeweb/keeweb/blob/master/package.json\u001b[0m\n"
      ]
     },
     "metadata": {},
     "output_type": "display_data"
    },
    {
     "data": {
      "text/html": [
       "<pre style=\"white-space:pre;overflow-x:auto;line-height:normal;font-family:Menlo,'DejaVu Sans Mono',consolas,'Courier New',monospace\"><span style=\"color: #008080; text-decoration-color: #008080; font-weight: bold\">[+] Getting repo: </span><span style=\"color: #008080; text-decoration-color: #008080; font-weight: bold; text-decoration: underline\">https://github.com/tkainrad/keycombiner</span>\n",
       "</pre>\n"
      ],
      "text/plain": [
       "\u001b[1;36m[\u001b[0m\u001b[1;36m+\u001b[0m\u001b[1;36m]\u001b[0m\u001b[1;36m Getting repo: \u001b[0m\u001b[1;4;36mhttps://github.com/tkainrad/keycombiner\u001b[0m\n"
      ]
     },
     "metadata": {},
     "output_type": "display_data"
    },
    {
     "data": {
      "text/html": [
       "<pre style=\"white-space:pre;overflow-x:auto;line-height:normal;font-family:Menlo,'DejaVu Sans Mono',consolas,'Courier New',monospace\"><span style=\"color: #008080; text-decoration-color: #008080; font-weight: bold\">[+] Successfully retrieved repo: </span><span style=\"color: #008080; text-decoration-color: #008080; font-weight: bold; text-decoration: underline\">https://github.com/tkainrad/keycombiner</span>\n",
       "</pre>\n"
      ],
      "text/plain": [
       "\u001b[1;36m[\u001b[0m\u001b[1;36m+\u001b[0m\u001b[1;36m]\u001b[0m\u001b[1;36m Successfully retrieved repo: \u001b[0m\u001b[1;4;36mhttps://github.com/tkainrad/keycombiner\u001b[0m\n"
      ]
     },
     "metadata": {},
     "output_type": "display_data"
    },
    {
     "data": {
      "text/html": [
       "<pre style=\"white-space:pre;overflow-x:auto;line-height:normal;font-family:Menlo,'DejaVu Sans Mono',consolas,'Courier New',monospace\"><span style=\"color: #ff5f00; text-decoration-color: #ff5f00; font-weight: bold\">[!] Package.json not found at root of </span><span style=\"color: #ff5f00; text-decoration-color: #ff5f00; font-weight: bold; text-decoration: underline\">https://github.com/tkainrad/keycombiner;</span><span style=\"color: #ff5f00; text-decoration-color: #ff5f00; font-weight: bold\"> trying directories</span>\n",
       "</pre>\n"
      ],
      "text/plain": [
       "\u001b[1;38;5;202m[\u001b[0m\u001b[1;38;5;202m!\u001b[0m\u001b[1;38;5;202m]\u001b[0m\u001b[1;38;5;202m Package.json not found at root of \u001b[0m\u001b[1;4;38;5;202mhttps://github.com/tkainrad/keycombiner;\u001b[0m\u001b[1;38;5;202m trying directories\u001b[0m\n"
      ]
     },
     "metadata": {},
     "output_type": "display_data"
    },
    {
     "data": {
      "text/html": [
       "<pre style=\"white-space:pre;overflow-x:auto;line-height:normal;font-family:Menlo,'DejaVu Sans Mono',consolas,'Courier New',monospace\"><span style=\"color: #008080; text-decoration-color: #008080; font-weight: bold\">[+] Trying </span><span style=\"color: #008080; text-decoration-color: #008080; font-weight: bold; text-decoration: underline\">https://github.com/tkainrad/keycombiner/tree/main/.github/ISSUE_TEMPLATE</span>\n",
       "</pre>\n"
      ],
      "text/plain": [
       "\u001b[1;36m[\u001b[0m\u001b[1;36m+\u001b[0m\u001b[1;36m]\u001b[0m\u001b[1;36m Trying \u001b[0m\u001b[1;4;36mhttps://github.com/tkainrad/keycombiner/tree/main/.github/ISSUE_TEMPLATE\u001b[0m\n"
      ]
     },
     "metadata": {},
     "output_type": "display_data"
    },
    {
     "data": {
      "text/html": [
       "<pre style=\"white-space:pre;overflow-x:auto;line-height:normal;font-family:Menlo,'DejaVu Sans Mono',consolas,'Courier New',monospace\"><span style=\"color: #008080; text-decoration-color: #008080; font-weight: bold\">[+] Trying </span><span style=\"color: #008080; text-decoration-color: #008080; font-weight: bold; text-decoration: underline\">https://github.com/tkainrad/keycombiner/tree/main/Resources</span>\n",
       "</pre>\n"
      ],
      "text/plain": [
       "\u001b[1;36m[\u001b[0m\u001b[1;36m+\u001b[0m\u001b[1;36m]\u001b[0m\u001b[1;36m Trying \u001b[0m\u001b[1;4;36mhttps://github.com/tkainrad/keycombiner/tree/main/Resources\u001b[0m\n"
      ]
     },
     "metadata": {},
     "output_type": "display_data"
    },
    {
     "data": {
      "text/html": [
       "<pre style=\"white-space:pre;overflow-x:auto;line-height:normal;font-family:Menlo,'DejaVu Sans Mono',consolas,'Courier New',monospace\"><span style=\"color: #800000; text-decoration-color: #800000; font-weight: bold\">[💀] Could not find package.json in first-level-subdirs</span>\n",
       "</pre>\n"
      ],
      "text/plain": [
       "\u001b[1;31m[\u001b[0m\u001b[1;31m💀\u001b[0m\u001b[1;31m]\u001b[0m\u001b[1;31m Could not find package.json in first-level-subdirs\u001b[0m\n"
      ]
     },
     "metadata": {},
     "output_type": "display_data"
    },
    {
     "data": {
      "text/html": [
       "<pre style=\"white-space:pre;overflow-x:auto;line-height:normal;font-family:Menlo,'DejaVu Sans Mono',consolas,'Courier New',monospace\"><span style=\"color: #008080; text-decoration-color: #008080; font-weight: bold\">[+] Getting repo: </span><span style=\"color: #008080; text-decoration-color: #008080; font-weight: bold; text-decoration: underline\">https://github.com/Kinesis-CI/education-and-innovation</span>\n",
       "</pre>\n"
      ],
      "text/plain": [
       "\u001b[1;36m[\u001b[0m\u001b[1;36m+\u001b[0m\u001b[1;36m]\u001b[0m\u001b[1;36m Getting repo: \u001b[0m\u001b[1;4;36mhttps://github.com/Kinesis-CI/education-and-innovation\u001b[0m\n"
      ]
     },
     "metadata": {},
     "output_type": "display_data"
    },
    {
     "data": {
      "text/html": [
       "<pre style=\"white-space:pre;overflow-x:auto;line-height:normal;font-family:Menlo,'DejaVu Sans Mono',consolas,'Courier New',monospace\"><span style=\"color: #008080; text-decoration-color: #008080; font-weight: bold\">[+] Successfully retrieved repo: </span><span style=\"color: #008080; text-decoration-color: #008080; font-weight: bold; text-decoration: underline\">https://github.com/Kinesis-CI/education-and-innovation</span>\n",
       "</pre>\n"
      ],
      "text/plain": [
       "\u001b[1;36m[\u001b[0m\u001b[1;36m+\u001b[0m\u001b[1;36m]\u001b[0m\u001b[1;36m Successfully retrieved repo: \u001b[0m\u001b[1;4;36mhttps://github.com/Kinesis-CI/education-and-innovation\u001b[0m\n"
      ]
     },
     "metadata": {},
     "output_type": "display_data"
    },
    {
     "data": {
      "text/html": [
       "<pre style=\"white-space:pre;overflow-x:auto;line-height:normal;font-family:Menlo,'DejaVu Sans Mono',consolas,'Courier New',monospace\"><span style=\"color: #ff5f00; text-decoration-color: #ff5f00; font-weight: bold\">[!] Package.json not found at root of </span><span style=\"color: #ff5f00; text-decoration-color: #ff5f00; font-weight: bold; text-decoration: underline\">https://github.com/Kinesis-CI/education-and-innovation;</span><span style=\"color: #ff5f00; text-decoration-color: #ff5f00; font-weight: bold\"> trying directories</span>\n",
       "</pre>\n"
      ],
      "text/plain": [
       "\u001b[1;38;5;202m[\u001b[0m\u001b[1;38;5;202m!\u001b[0m\u001b[1;38;5;202m]\u001b[0m\u001b[1;38;5;202m Package.json not found at root of \u001b[0m\u001b[1;4;38;5;202mhttps://github.com/Kinesis-CI/education-and-innovation;\u001b[0m\u001b[1;38;5;202m trying directories\u001b[0m\n"
      ]
     },
     "metadata": {},
     "output_type": "display_data"
    },
    {
     "data": {
      "text/html": [
       "<pre style=\"white-space:pre;overflow-x:auto;line-height:normal;font-family:Menlo,'DejaVu Sans Mono',consolas,'Courier New',monospace\"><span style=\"color: #008080; text-decoration-color: #008080; font-weight: bold\">[+] Trying </span><span style=\"color: #008080; text-decoration-color: #008080; font-weight: bold; text-decoration: underline\">https://github.com/Kinesis-CI/education-and-innovation/tree/master/context</span>\n",
       "</pre>\n"
      ],
      "text/plain": [
       "\u001b[1;36m[\u001b[0m\u001b[1;36m+\u001b[0m\u001b[1;36m]\u001b[0m\u001b[1;36m Trying \u001b[0m\u001b[1;4;36mhttps://github.com/Kinesis-CI/education-and-innovation/tree/master/context\u001b[0m\n"
      ]
     },
     "metadata": {},
     "output_type": "display_data"
    },
    {
     "data": {
      "text/html": [
       "<pre style=\"white-space:pre;overflow-x:auto;line-height:normal;font-family:Menlo,'DejaVu Sans Mono',consolas,'Courier New',monospace\"><span style=\"color: #008080; text-decoration-color: #008080; font-weight: bold\">[+] Trying </span><span style=\"color: #008080; text-decoration-color: #008080; font-weight: bold; text-decoration: underline\">https://github.com/Kinesis-CI/education-and-innovation/tree/master/src</span>\n",
       "</pre>\n"
      ],
      "text/plain": [
       "\u001b[1;36m[\u001b[0m\u001b[1;36m+\u001b[0m\u001b[1;36m]\u001b[0m\u001b[1;36m Trying \u001b[0m\u001b[1;4;36mhttps://github.com/Kinesis-CI/education-and-innovation/tree/master/src\u001b[0m\n"
      ]
     },
     "metadata": {},
     "output_type": "display_data"
    },
    {
     "data": {
      "text/html": [
       "<pre style=\"white-space:pre;overflow-x:auto;line-height:normal;font-family:Menlo,'DejaVu Sans Mono',consolas,'Courier New',monospace\"><span style=\"color: #008080; text-decoration-color: #008080; font-weight: bold\">[+] Trying </span><span style=\"color: #008080; text-decoration-color: #008080; font-weight: bold; text-decoration: underline\">https://github.com/Kinesis-CI/education-and-innovation/tree/master/test</span>\n",
       "</pre>\n"
      ],
      "text/plain": [
       "\u001b[1;36m[\u001b[0m\u001b[1;36m+\u001b[0m\u001b[1;36m]\u001b[0m\u001b[1;36m Trying \u001b[0m\u001b[1;4;36mhttps://github.com/Kinesis-CI/education-and-innovation/tree/master/test\u001b[0m\n"
      ]
     },
     "metadata": {},
     "output_type": "display_data"
    },
    {
     "data": {
      "text/html": [
       "<pre style=\"white-space:pre;overflow-x:auto;line-height:normal;font-family:Menlo,'DejaVu Sans Mono',consolas,'Courier New',monospace\"><span style=\"color: #800000; text-decoration-color: #800000; font-weight: bold\">[💀] Could not find package.json in first-level-subdirs</span>\n",
       "</pre>\n"
      ],
      "text/plain": [
       "\u001b[1;31m[\u001b[0m\u001b[1;31m💀\u001b[0m\u001b[1;31m]\u001b[0m\u001b[1;31m Could not find package.json in first-level-subdirs\u001b[0m\n"
      ]
     },
     "metadata": {},
     "output_type": "display_data"
    },
    {
     "data": {
      "text/html": [
       "<pre style=\"white-space:pre;overflow-x:auto;line-height:normal;font-family:Menlo,'DejaVu Sans Mono',consolas,'Courier New',monospace\"><span style=\"color: #008080; text-decoration-color: #008080; font-weight: bold\">[+] Getting repo: </span><span style=\"color: #008080; text-decoration-color: #008080; font-weight: bold; text-decoration: underline\">https://github.com/digimezzo/knowte-electron</span>\n",
       "</pre>\n"
      ],
      "text/plain": [
       "\u001b[1;36m[\u001b[0m\u001b[1;36m+\u001b[0m\u001b[1;36m]\u001b[0m\u001b[1;36m Getting repo: \u001b[0m\u001b[1;4;36mhttps://github.com/digimezzo/knowte-electron\u001b[0m\n"
      ]
     },
     "metadata": {},
     "output_type": "display_data"
    },
    {
     "data": {
      "text/html": [
       "<pre style=\"white-space:pre;overflow-x:auto;line-height:normal;font-family:Menlo,'DejaVu Sans Mono',consolas,'Courier New',monospace\"><span style=\"color: #008080; text-decoration-color: #008080; font-weight: bold\">[+] Successfully retrieved repo: </span><span style=\"color: #008080; text-decoration-color: #008080; font-weight: bold; text-decoration: underline\">https://github.com/digimezzo/knowte-electron</span>\n",
       "</pre>\n"
      ],
      "text/plain": [
       "\u001b[1;36m[\u001b[0m\u001b[1;36m+\u001b[0m\u001b[1;36m]\u001b[0m\u001b[1;36m Successfully retrieved repo: \u001b[0m\u001b[1;4;36mhttps://github.com/digimezzo/knowte-electron\u001b[0m\n"
      ]
     },
     "metadata": {},
     "output_type": "display_data"
    },
    {
     "data": {
      "text/html": [
       "<pre style=\"white-space:pre;overflow-x:auto;line-height:normal;font-family:Menlo,'DejaVu Sans Mono',consolas,'Courier New',monospace\"><span style=\"color: #008080; text-decoration-color: #008080; font-weight: bold\">[+] Found package.json at </span><span style=\"color: #008080; text-decoration-color: #008080; font-weight: bold; text-decoration: underline\">https://github.com/digimezzo/knowte-electron</span>\n",
       "</pre>\n"
      ],
      "text/plain": [
       "\u001b[1;36m[\u001b[0m\u001b[1;36m+\u001b[0m\u001b[1;36m]\u001b[0m\u001b[1;36m Found package.json at \u001b[0m\u001b[1;4;36mhttps://github.com/digimezzo/knowte-electron\u001b[0m\n"
      ]
     },
     "metadata": {},
     "output_type": "display_data"
    },
    {
     "data": {
      "text/html": [
       "<pre style=\"white-space:pre;overflow-x:auto;line-height:normal;font-family:Menlo,'DejaVu Sans Mono',consolas,'Courier New',monospace\"><span style=\"color: #008080; text-decoration-color: #008080; font-weight: bold\">[+] Getting </span><span style=\"color: #008080; text-decoration-color: #008080; font-weight: bold; text-decoration: underline\">https://github.com/digimezzo/knowte/blob/master/package.json</span>\n",
       "</pre>\n"
      ],
      "text/plain": [
       "\u001b[1;36m[\u001b[0m\u001b[1;36m+\u001b[0m\u001b[1;36m]\u001b[0m\u001b[1;36m Getting \u001b[0m\u001b[1;4;36mhttps://github.com/digimezzo/knowte/blob/master/package.json\u001b[0m\n"
      ]
     },
     "metadata": {},
     "output_type": "display_data"
    },
    {
     "data": {
      "text/html": [
       "<pre style=\"white-space:pre;overflow-x:auto;line-height:normal;font-family:Menlo,'DejaVu Sans Mono',consolas,'Courier New',monospace\"><span style=\"color: #008080; text-decoration-color: #008080; font-weight: bold\">[+] Getting repo: </span><span style=\"color: #008080; text-decoration-color: #008080; font-weight: bold; text-decoration: underline\">https://github.com/prsh9/KubeCtl-Dashboard</span>\n",
       "</pre>\n"
      ],
      "text/plain": [
       "\u001b[1;36m[\u001b[0m\u001b[1;36m+\u001b[0m\u001b[1;36m]\u001b[0m\u001b[1;36m Getting repo: \u001b[0m\u001b[1;4;36mhttps://github.com/prsh9/KubeCtl-Dashboard\u001b[0m\n"
      ]
     },
     "metadata": {},
     "output_type": "display_data"
    },
    {
     "data": {
      "text/html": [
       "<pre style=\"white-space:pre;overflow-x:auto;line-height:normal;font-family:Menlo,'DejaVu Sans Mono',consolas,'Courier New',monospace\"><span style=\"color: #008080; text-decoration-color: #008080; font-weight: bold\">[+] Successfully retrieved repo: </span><span style=\"color: #008080; text-decoration-color: #008080; font-weight: bold; text-decoration: underline\">https://github.com/prsh9/KubeCtl-Dashboard</span>\n",
       "</pre>\n"
      ],
      "text/plain": [
       "\u001b[1;36m[\u001b[0m\u001b[1;36m+\u001b[0m\u001b[1;36m]\u001b[0m\u001b[1;36m Successfully retrieved repo: \u001b[0m\u001b[1;4;36mhttps://github.com/prsh9/KubeCtl-Dashboard\u001b[0m\n"
      ]
     },
     "metadata": {},
     "output_type": "display_data"
    },
    {
     "data": {
      "text/html": [
       "<pre style=\"white-space:pre;overflow-x:auto;line-height:normal;font-family:Menlo,'DejaVu Sans Mono',consolas,'Courier New',monospace\"><span style=\"color: #008080; text-decoration-color: #008080; font-weight: bold\">[+] Found package.json at </span><span style=\"color: #008080; text-decoration-color: #008080; font-weight: bold; text-decoration: underline\">https://github.com/prsh9/KubeCtl-Dashboard</span>\n",
       "</pre>\n"
      ],
      "text/plain": [
       "\u001b[1;36m[\u001b[0m\u001b[1;36m+\u001b[0m\u001b[1;36m]\u001b[0m\u001b[1;36m Found package.json at \u001b[0m\u001b[1;4;36mhttps://github.com/prsh9/KubeCtl-Dashboard\u001b[0m\n"
      ]
     },
     "metadata": {},
     "output_type": "display_data"
    },
    {
     "data": {
      "text/html": [
       "<pre style=\"white-space:pre;overflow-x:auto;line-height:normal;font-family:Menlo,'DejaVu Sans Mono',consolas,'Courier New',monospace\"><span style=\"color: #008080; text-decoration-color: #008080; font-weight: bold\">[+] Getting </span><span style=\"color: #008080; text-decoration-color: #008080; font-weight: bold; text-decoration: underline\">https://github.com/prsh9/kubectl-dashboard/blob/master/package.json</span>\n",
       "</pre>\n"
      ],
      "text/plain": [
       "\u001b[1;36m[\u001b[0m\u001b[1;36m+\u001b[0m\u001b[1;36m]\u001b[0m\u001b[1;36m Getting \u001b[0m\u001b[1;4;36mhttps://github.com/prsh9/kubectl-dashboard/blob/master/package.json\u001b[0m\n"
      ]
     },
     "metadata": {},
     "output_type": "display_data"
    },
    {
     "data": {
      "text/html": [
       "<pre style=\"white-space:pre;overflow-x:auto;line-height:normal;font-family:Menlo,'DejaVu Sans Mono',consolas,'Courier New',monospace\"><span style=\"color: #008080; text-decoration-color: #008080; font-weight: bold\">[+] Getting repo: </span><span style=\"color: #008080; text-decoration-color: #008080; font-weight: bold; text-decoration: underline\">https://github.com/pixel-point/kube-forwarder</span>\n",
       "</pre>\n"
      ],
      "text/plain": [
       "\u001b[1;36m[\u001b[0m\u001b[1;36m+\u001b[0m\u001b[1;36m]\u001b[0m\u001b[1;36m Getting repo: \u001b[0m\u001b[1;4;36mhttps://github.com/pixel-point/kube-forwarder\u001b[0m\n"
      ]
     },
     "metadata": {},
     "output_type": "display_data"
    },
    {
     "data": {
      "text/html": [
       "<pre style=\"white-space:pre;overflow-x:auto;line-height:normal;font-family:Menlo,'DejaVu Sans Mono',consolas,'Courier New',monospace\"><span style=\"color: #008080; text-decoration-color: #008080; font-weight: bold\">[+] Successfully retrieved repo: </span><span style=\"color: #008080; text-decoration-color: #008080; font-weight: bold; text-decoration: underline\">https://github.com/pixel-point/kube-forwarder</span>\n",
       "</pre>\n"
      ],
      "text/plain": [
       "\u001b[1;36m[\u001b[0m\u001b[1;36m+\u001b[0m\u001b[1;36m]\u001b[0m\u001b[1;36m Successfully retrieved repo: \u001b[0m\u001b[1;4;36mhttps://github.com/pixel-point/kube-forwarder\u001b[0m\n"
      ]
     },
     "metadata": {},
     "output_type": "display_data"
    },
    {
     "data": {
      "text/html": [
       "<pre style=\"white-space:pre;overflow-x:auto;line-height:normal;font-family:Menlo,'DejaVu Sans Mono',consolas,'Courier New',monospace\"><span style=\"color: #008080; text-decoration-color: #008080; font-weight: bold\">[+] Found package.json at </span><span style=\"color: #008080; text-decoration-color: #008080; font-weight: bold; text-decoration: underline\">https://github.com/pixel-point/kube-forwarder</span>\n",
       "</pre>\n"
      ],
      "text/plain": [
       "\u001b[1;36m[\u001b[0m\u001b[1;36m+\u001b[0m\u001b[1;36m]\u001b[0m\u001b[1;36m Found package.json at \u001b[0m\u001b[1;4;36mhttps://github.com/pixel-point/kube-forwarder\u001b[0m\n"
      ]
     },
     "metadata": {},
     "output_type": "display_data"
    },
    {
     "data": {
      "text/html": [
       "<pre style=\"white-space:pre;overflow-x:auto;line-height:normal;font-family:Menlo,'DejaVu Sans Mono',consolas,'Courier New',monospace\"><span style=\"color: #008080; text-decoration-color: #008080; font-weight: bold\">[+] Getting </span><span style=\"color: #008080; text-decoration-color: #008080; font-weight: bold; text-decoration: underline\">https://github.com/pixel-point/kube-forwarder/blob/master/package.json</span>\n",
       "</pre>\n"
      ],
      "text/plain": [
       "\u001b[1;36m[\u001b[0m\u001b[1;36m+\u001b[0m\u001b[1;36m]\u001b[0m\u001b[1;36m Getting \u001b[0m\u001b[1;4;36mhttps://github.com/pixel-point/kube-forwarder/blob/master/package.json\u001b[0m\n"
      ]
     },
     "metadata": {},
     "output_type": "display_data"
    },
    {
     "data": {
      "text/html": [
       "<pre style=\"white-space:pre;overflow-x:auto;line-height:normal;font-family:Menlo,'DejaVu Sans Mono',consolas,'Courier New',monospace\"><span style=\"color: #008080; text-decoration-color: #008080; font-weight: bold\">[+] Getting repo: </span><span style=\"color: #008080; text-decoration-color: #008080; font-weight: bold; text-decoration: underline\">https://github.com/laradumps/app</span>\n",
       "</pre>\n"
      ],
      "text/plain": [
       "\u001b[1;36m[\u001b[0m\u001b[1;36m+\u001b[0m\u001b[1;36m]\u001b[0m\u001b[1;36m Getting repo: \u001b[0m\u001b[1;4;36mhttps://github.com/laradumps/app\u001b[0m\n"
      ]
     },
     "metadata": {},
     "output_type": "display_data"
    },
    {
     "data": {
      "text/html": [
       "<pre style=\"white-space:pre;overflow-x:auto;line-height:normal;font-family:Menlo,'DejaVu Sans Mono',consolas,'Courier New',monospace\"><span style=\"color: #008080; text-decoration-color: #008080; font-weight: bold\">[+] Successfully retrieved repo: </span><span style=\"color: #008080; text-decoration-color: #008080; font-weight: bold; text-decoration: underline\">https://github.com/laradumps/app</span>\n",
       "</pre>\n"
      ],
      "text/plain": [
       "\u001b[1;36m[\u001b[0m\u001b[1;36m+\u001b[0m\u001b[1;36m]\u001b[0m\u001b[1;36m Successfully retrieved repo: \u001b[0m\u001b[1;4;36mhttps://github.com/laradumps/app\u001b[0m\n"
      ]
     },
     "metadata": {},
     "output_type": "display_data"
    },
    {
     "data": {
      "text/html": [
       "<pre style=\"white-space:pre;overflow-x:auto;line-height:normal;font-family:Menlo,'DejaVu Sans Mono',consolas,'Courier New',monospace\"><span style=\"color: #008080; text-decoration-color: #008080; font-weight: bold\">[+] Found package.json at </span><span style=\"color: #008080; text-decoration-color: #008080; font-weight: bold; text-decoration: underline\">https://github.com/laradumps/app</span>\n",
       "</pre>\n"
      ],
      "text/plain": [
       "\u001b[1;36m[\u001b[0m\u001b[1;36m+\u001b[0m\u001b[1;36m]\u001b[0m\u001b[1;36m Found package.json at \u001b[0m\u001b[1;4;36mhttps://github.com/laradumps/app\u001b[0m\n"
      ]
     },
     "metadata": {},
     "output_type": "display_data"
    },
    {
     "data": {
      "text/html": [
       "<pre style=\"white-space:pre;overflow-x:auto;line-height:normal;font-family:Menlo,'DejaVu Sans Mono',consolas,'Courier New',monospace\"><span style=\"color: #008080; text-decoration-color: #008080; font-weight: bold\">[+] Getting </span><span style=\"color: #008080; text-decoration-color: #008080; font-weight: bold; text-decoration: underline\">https://github.com/laradumps/app/blob/2.x/package.json</span>\n",
       "</pre>\n"
      ],
      "text/plain": [
       "\u001b[1;36m[\u001b[0m\u001b[1;36m+\u001b[0m\u001b[1;36m]\u001b[0m\u001b[1;36m Getting \u001b[0m\u001b[1;4;36mhttps://github.com/laradumps/app/blob/2.x/package.json\u001b[0m\n"
      ]
     },
     "metadata": {},
     "output_type": "display_data"
    },
    {
     "data": {
      "text/html": [
       "<pre style=\"white-space:pre;overflow-x:auto;line-height:normal;font-family:Menlo,'DejaVu Sans Mono',consolas,'Courier New',monospace\"><span style=\"color: #008080; text-decoration-color: #008080; font-weight: bold\">[+] Getting repo: </span><span style=\"color: #008080; text-decoration-color: #008080; font-weight: bold; text-decoration: underline\">https://github.com/tmdh/laravel-kit</span>\n",
       "</pre>\n"
      ],
      "text/plain": [
       "\u001b[1;36m[\u001b[0m\u001b[1;36m+\u001b[0m\u001b[1;36m]\u001b[0m\u001b[1;36m Getting repo: \u001b[0m\u001b[1;4;36mhttps://github.com/tmdh/laravel-kit\u001b[0m\n"
      ]
     },
     "metadata": {},
     "output_type": "display_data"
    },
    {
     "data": {
      "text/html": [
       "<pre style=\"white-space:pre;overflow-x:auto;line-height:normal;font-family:Menlo,'DejaVu Sans Mono',consolas,'Courier New',monospace\"><span style=\"color: #008080; text-decoration-color: #008080; font-weight: bold\">[+] Successfully retrieved repo: </span><span style=\"color: #008080; text-decoration-color: #008080; font-weight: bold; text-decoration: underline\">https://github.com/tmdh/laravel-kit</span>\n",
       "</pre>\n"
      ],
      "text/plain": [
       "\u001b[1;36m[\u001b[0m\u001b[1;36m+\u001b[0m\u001b[1;36m]\u001b[0m\u001b[1;36m Successfully retrieved repo: \u001b[0m\u001b[1;4;36mhttps://github.com/tmdh/laravel-kit\u001b[0m\n"
      ]
     },
     "metadata": {},
     "output_type": "display_data"
    },
    {
     "data": {
      "text/html": [
       "<pre style=\"white-space:pre;overflow-x:auto;line-height:normal;font-family:Menlo,'DejaVu Sans Mono',consolas,'Courier New',monospace\"><span style=\"color: #008080; text-decoration-color: #008080; font-weight: bold\">[+] Found package.json at </span><span style=\"color: #008080; text-decoration-color: #008080; font-weight: bold; text-decoration: underline\">https://github.com/tmdh/laravel-kit</span>\n",
       "</pre>\n"
      ],
      "text/plain": [
       "\u001b[1;36m[\u001b[0m\u001b[1;36m+\u001b[0m\u001b[1;36m]\u001b[0m\u001b[1;36m Found package.json at \u001b[0m\u001b[1;4;36mhttps://github.com/tmdh/laravel-kit\u001b[0m\n"
      ]
     },
     "metadata": {},
     "output_type": "display_data"
    },
    {
     "data": {
      "text/html": [
       "<pre style=\"white-space:pre;overflow-x:auto;line-height:normal;font-family:Menlo,'DejaVu Sans Mono',consolas,'Courier New',monospace\"><span style=\"color: #008080; text-decoration-color: #008080; font-weight: bold\">[+] Getting </span><span style=\"color: #008080; text-decoration-color: #008080; font-weight: bold; text-decoration: underline\">https://github.com/tmdh/laravel-kit/blob/master/package.json</span>\n",
       "</pre>\n"
      ],
      "text/plain": [
       "\u001b[1;36m[\u001b[0m\u001b[1;36m+\u001b[0m\u001b[1;36m]\u001b[0m\u001b[1;36m Getting \u001b[0m\u001b[1;4;36mhttps://github.com/tmdh/laravel-kit/blob/master/package.json\u001b[0m\n"
      ]
     },
     "metadata": {},
     "output_type": "display_data"
    },
    {
     "data": {
      "text/html": [
       "<pre style=\"white-space:pre;overflow-x:auto;line-height:normal;font-family:Menlo,'DejaVu Sans Mono',consolas,'Courier New',monospace\"><span style=\"color: #008080; text-decoration-color: #008080; font-weight: bold\">[+] Getting repo: </span><span style=\"color: #008080; text-decoration-color: #008080; font-weight: bold; text-decoration: underline\">https://github.com/last-hit-aab/last-hit</span>\n",
       "</pre>\n"
      ],
      "text/plain": [
       "\u001b[1;36m[\u001b[0m\u001b[1;36m+\u001b[0m\u001b[1;36m]\u001b[0m\u001b[1;36m Getting repo: \u001b[0m\u001b[1;4;36mhttps://github.com/last-hit-aab/last-hit\u001b[0m\n"
      ]
     },
     "metadata": {},
     "output_type": "display_data"
    },
    {
     "data": {
      "text/html": [
       "<pre style=\"white-space:pre;overflow-x:auto;line-height:normal;font-family:Menlo,'DejaVu Sans Mono',consolas,'Courier New',monospace\"><span style=\"color: #008080; text-decoration-color: #008080; font-weight: bold\">[+] Successfully retrieved repo: </span><span style=\"color: #008080; text-decoration-color: #008080; font-weight: bold; text-decoration: underline\">https://github.com/last-hit-aab/last-hit</span>\n",
       "</pre>\n"
      ],
      "text/plain": [
       "\u001b[1;36m[\u001b[0m\u001b[1;36m+\u001b[0m\u001b[1;36m]\u001b[0m\u001b[1;36m Successfully retrieved repo: \u001b[0m\u001b[1;4;36mhttps://github.com/last-hit-aab/last-hit\u001b[0m\n"
      ]
     },
     "metadata": {},
     "output_type": "display_data"
    },
    {
     "data": {
      "text/html": [
       "<pre style=\"white-space:pre;overflow-x:auto;line-height:normal;font-family:Menlo,'DejaVu Sans Mono',consolas,'Courier New',monospace\"><span style=\"color: #008080; text-decoration-color: #008080; font-weight: bold\">[+] Found package.json at </span><span style=\"color: #008080; text-decoration-color: #008080; font-weight: bold; text-decoration: underline\">https://github.com/last-hit-aab/last-hit</span>\n",
       "</pre>\n"
      ],
      "text/plain": [
       "\u001b[1;36m[\u001b[0m\u001b[1;36m+\u001b[0m\u001b[1;36m]\u001b[0m\u001b[1;36m Found package.json at \u001b[0m\u001b[1;4;36mhttps://github.com/last-hit-aab/last-hit\u001b[0m\n"
      ]
     },
     "metadata": {},
     "output_type": "display_data"
    },
    {
     "data": {
      "text/html": [
       "<pre style=\"white-space:pre;overflow-x:auto;line-height:normal;font-family:Menlo,'DejaVu Sans Mono',consolas,'Courier New',monospace\"><span style=\"color: #008080; text-decoration-color: #008080; font-weight: bold\">[+] Getting </span><span style=\"color: #008080; text-decoration-color: #008080; font-weight: bold; text-decoration: underline\">https://github.com/last-hit-aab/last-hit/blob/master/package.json</span>\n",
       "</pre>\n"
      ],
      "text/plain": [
       "\u001b[1;36m[\u001b[0m\u001b[1;36m+\u001b[0m\u001b[1;36m]\u001b[0m\u001b[1;36m Getting \u001b[0m\u001b[1;4;36mhttps://github.com/last-hit-aab/last-hit/blob/master/package.json\u001b[0m\n"
      ]
     },
     "metadata": {},
     "output_type": "display_data"
    },
    {
     "data": {
      "text/html": [
       "<pre style=\"white-space:pre;overflow-x:auto;line-height:normal;font-family:Menlo,'DejaVu Sans Mono',consolas,'Courier New',monospace\"><span style=\"color: #008080; text-decoration-color: #008080; font-weight: bold\">[+] Getting repo: </span><span style=\"color: #008080; text-decoration-color: #008080; font-weight: bold; text-decoration: underline\">https://github.com/lbryio/lbry-desktop</span>\n",
       "</pre>\n"
      ],
      "text/plain": [
       "\u001b[1;36m[\u001b[0m\u001b[1;36m+\u001b[0m\u001b[1;36m]\u001b[0m\u001b[1;36m Getting repo: \u001b[0m\u001b[1;4;36mhttps://github.com/lbryio/lbry-desktop\u001b[0m\n"
      ]
     },
     "metadata": {},
     "output_type": "display_data"
    },
    {
     "data": {
      "text/html": [
       "<pre style=\"white-space:pre;overflow-x:auto;line-height:normal;font-family:Menlo,'DejaVu Sans Mono',consolas,'Courier New',monospace\"><span style=\"color: #008080; text-decoration-color: #008080; font-weight: bold\">[+] Successfully retrieved repo: </span><span style=\"color: #008080; text-decoration-color: #008080; font-weight: bold; text-decoration: underline\">https://github.com/lbryio/lbry-desktop</span>\n",
       "</pre>\n"
      ],
      "text/plain": [
       "\u001b[1;36m[\u001b[0m\u001b[1;36m+\u001b[0m\u001b[1;36m]\u001b[0m\u001b[1;36m Successfully retrieved repo: \u001b[0m\u001b[1;4;36mhttps://github.com/lbryio/lbry-desktop\u001b[0m\n"
      ]
     },
     "metadata": {},
     "output_type": "display_data"
    },
    {
     "data": {
      "text/html": [
       "<pre style=\"white-space:pre;overflow-x:auto;line-height:normal;font-family:Menlo,'DejaVu Sans Mono',consolas,'Courier New',monospace\"><span style=\"color: #008080; text-decoration-color: #008080; font-weight: bold\">[+] Found package.json at </span><span style=\"color: #008080; text-decoration-color: #008080; font-weight: bold; text-decoration: underline\">https://github.com/lbryio/lbry-desktop</span>\n",
       "</pre>\n"
      ],
      "text/plain": [
       "\u001b[1;36m[\u001b[0m\u001b[1;36m+\u001b[0m\u001b[1;36m]\u001b[0m\u001b[1;36m Found package.json at \u001b[0m\u001b[1;4;36mhttps://github.com/lbryio/lbry-desktop\u001b[0m\n"
      ]
     },
     "metadata": {},
     "output_type": "display_data"
    },
    {
     "data": {
      "text/html": [
       "<pre style=\"white-space:pre;overflow-x:auto;line-height:normal;font-family:Menlo,'DejaVu Sans Mono',consolas,'Courier New',monospace\"><span style=\"color: #008080; text-decoration-color: #008080; font-weight: bold\">[+] Getting </span><span style=\"color: #008080; text-decoration-color: #008080; font-weight: bold; text-decoration: underline\">https://github.com/lbryio/lbry-desktop/blob/master/package.json</span>\n",
       "</pre>\n"
      ],
      "text/plain": [
       "\u001b[1;36m[\u001b[0m\u001b[1;36m+\u001b[0m\u001b[1;36m]\u001b[0m\u001b[1;36m Getting \u001b[0m\u001b[1;4;36mhttps://github.com/lbryio/lbry-desktop/blob/master/package.json\u001b[0m\n"
      ]
     },
     "metadata": {},
     "output_type": "display_data"
    },
    {
     "data": {
      "text/html": [
       "<pre style=\"white-space:pre;overflow-x:auto;line-height:normal;font-family:Menlo,'DejaVu Sans Mono',consolas,'Courier New',monospace\"><span style=\"color: #008080; text-decoration-color: #008080; font-weight: bold\">[+] Getting repo: </span><span style=\"color: #008080; text-decoration-color: #008080; font-weight: bold; text-decoration: underline\">https://hundredrabbits.itch.io/left</span>\n",
       "</pre>\n"
      ],
      "text/plain": [
       "\u001b[1;36m[\u001b[0m\u001b[1;36m+\u001b[0m\u001b[1;36m]\u001b[0m\u001b[1;36m Getting repo: \u001b[0m\u001b[1;4;36mhttps://hundredrabbits.itch.io/left\u001b[0m\n"
      ]
     },
     "metadata": {},
     "output_type": "display_data"
    },
    {
     "data": {
      "text/html": [
       "<pre style=\"white-space:pre;overflow-x:auto;line-height:normal;font-family:Menlo,'DejaVu Sans Mono',consolas,'Courier New',monospace\"><span style=\"color: #008080; text-decoration-color: #008080; font-weight: bold\">[+] Successfully retrieved repo: </span><span style=\"color: #008080; text-decoration-color: #008080; font-weight: bold; text-decoration: underline\">https://hundredrabbits.itch.io/left</span>\n",
       "</pre>\n"
      ],
      "text/plain": [
       "\u001b[1;36m[\u001b[0m\u001b[1;36m+\u001b[0m\u001b[1;36m]\u001b[0m\u001b[1;36m Successfully retrieved repo: \u001b[0m\u001b[1;4;36mhttps://hundredrabbits.itch.io/left\u001b[0m\n"
      ]
     },
     "metadata": {},
     "output_type": "display_data"
    },
    {
     "data": {
      "text/html": [
       "<pre style=\"white-space:pre;overflow-x:auto;line-height:normal;font-family:Menlo,'DejaVu Sans Mono',consolas,'Courier New',monospace\"><span style=\"color: #ff5f00; text-decoration-color: #ff5f00; font-weight: bold\">[!] Package.json not found at root of </span><span style=\"color: #ff5f00; text-decoration-color: #ff5f00; font-weight: bold; text-decoration: underline\">https://hundredrabbits.itch.io/left;</span><span style=\"color: #ff5f00; text-decoration-color: #ff5f00; font-weight: bold\"> trying directories</span>\n",
       "</pre>\n"
      ],
      "text/plain": [
       "\u001b[1;38;5;202m[\u001b[0m\u001b[1;38;5;202m!\u001b[0m\u001b[1;38;5;202m]\u001b[0m\u001b[1;38;5;202m Package.json not found at root of \u001b[0m\u001b[1;4;38;5;202mhttps://hundredrabbits.itch.io/left;\u001b[0m\u001b[1;38;5;202m trying directories\u001b[0m\n"
      ]
     },
     "metadata": {},
     "output_type": "display_data"
    },
    {
     "data": {
      "text/html": [
       "<pre style=\"white-space:pre;overflow-x:auto;line-height:normal;font-family:Menlo,'DejaVu Sans Mono',consolas,'Courier New',monospace\"><span style=\"color: #800000; text-decoration-color: #800000; font-weight: bold\">[💀] Could not find package.json in first-level-subdirs</span>\n",
       "</pre>\n"
      ],
      "text/plain": [
       "\u001b[1;31m[\u001b[0m\u001b[1;31m💀\u001b[0m\u001b[1;31m]\u001b[0m\u001b[1;31m Could not find package.json in first-level-subdirs\u001b[0m\n"
      ]
     },
     "metadata": {},
     "output_type": "display_data"
    },
    {
     "data": {
      "text/html": [
       "<pre style=\"white-space:pre;overflow-x:auto;line-height:normal;font-family:Menlo,'DejaVu Sans Mono',consolas,'Courier New',monospace\"><span style=\"color: #008080; text-decoration-color: #008080; font-weight: bold\">[+] Getting repo: </span><span style=\"color: #008080; text-decoration-color: #008080; font-weight: bold; text-decoration: underline\">https://github.com/hackjutsu/Lepton</span>\n",
       "</pre>\n"
      ],
      "text/plain": [
       "\u001b[1;36m[\u001b[0m\u001b[1;36m+\u001b[0m\u001b[1;36m]\u001b[0m\u001b[1;36m Getting repo: \u001b[0m\u001b[1;4;36mhttps://github.com/hackjutsu/Lepton\u001b[0m\n"
      ]
     },
     "metadata": {},
     "output_type": "display_data"
    },
    {
     "data": {
      "text/html": [
       "<pre style=\"white-space:pre;overflow-x:auto;line-height:normal;font-family:Menlo,'DejaVu Sans Mono',consolas,'Courier New',monospace\"><span style=\"color: #008080; text-decoration-color: #008080; font-weight: bold\">[+] Successfully retrieved repo: </span><span style=\"color: #008080; text-decoration-color: #008080; font-weight: bold; text-decoration: underline\">https://github.com/hackjutsu/Lepton</span>\n",
       "</pre>\n"
      ],
      "text/plain": [
       "\u001b[1;36m[\u001b[0m\u001b[1;36m+\u001b[0m\u001b[1;36m]\u001b[0m\u001b[1;36m Successfully retrieved repo: \u001b[0m\u001b[1;4;36mhttps://github.com/hackjutsu/Lepton\u001b[0m\n"
      ]
     },
     "metadata": {},
     "output_type": "display_data"
    },
    {
     "data": {
      "text/html": [
       "<pre style=\"white-space:pre;overflow-x:auto;line-height:normal;font-family:Menlo,'DejaVu Sans Mono',consolas,'Courier New',monospace\"><span style=\"color: #008080; text-decoration-color: #008080; font-weight: bold\">[+] Found package.json at </span><span style=\"color: #008080; text-decoration-color: #008080; font-weight: bold; text-decoration: underline\">https://github.com/hackjutsu/Lepton</span>\n",
       "</pre>\n"
      ],
      "text/plain": [
       "\u001b[1;36m[\u001b[0m\u001b[1;36m+\u001b[0m\u001b[1;36m]\u001b[0m\u001b[1;36m Found package.json at \u001b[0m\u001b[1;4;36mhttps://github.com/hackjutsu/Lepton\u001b[0m\n"
      ]
     },
     "metadata": {},
     "output_type": "display_data"
    },
    {
     "data": {
      "text/html": [
       "<pre style=\"white-space:pre;overflow-x:auto;line-height:normal;font-family:Menlo,'DejaVu Sans Mono',consolas,'Courier New',monospace\"><span style=\"color: #008080; text-decoration-color: #008080; font-weight: bold\">[+] Getting </span><span style=\"color: #008080; text-decoration-color: #008080; font-weight: bold; text-decoration: underline\">https://github.com/hackjutsu/Lepton/blob/master/package.json</span>\n",
       "</pre>\n"
      ],
      "text/plain": [
       "\u001b[1;36m[\u001b[0m\u001b[1;36m+\u001b[0m\u001b[1;36m]\u001b[0m\u001b[1;36m Getting \u001b[0m\u001b[1;4;36mhttps://github.com/hackjutsu/Lepton/blob/master/package.json\u001b[0m\n"
      ]
     },
     "metadata": {},
     "output_type": "display_data"
    },
    {
     "data": {
      "text/html": [
       "<pre style=\"white-space:pre;overflow-x:auto;line-height:normal;font-family:Menlo,'DejaVu Sans Mono',consolas,'Courier New',monospace\"><span style=\"color: #008080; text-decoration-color: #008080; font-weight: bold\">[+] Getting repo: </span><span style=\"color: #008080; text-decoration-color: #008080; font-weight: bold; text-decoration: underline\">https://github.com/sachinchoolur/lightgallery-desktop</span>\n",
       "</pre>\n"
      ],
      "text/plain": [
       "\u001b[1;36m[\u001b[0m\u001b[1;36m+\u001b[0m\u001b[1;36m]\u001b[0m\u001b[1;36m Getting repo: \u001b[0m\u001b[1;4;36mhttps://github.com/sachinchoolur/lightgallery-desktop\u001b[0m\n"
      ]
     },
     "metadata": {},
     "output_type": "display_data"
    },
    {
     "data": {
      "text/html": [
       "<pre style=\"white-space:pre;overflow-x:auto;line-height:normal;font-family:Menlo,'DejaVu Sans Mono',consolas,'Courier New',monospace\"><span style=\"color: #008080; text-decoration-color: #008080; font-weight: bold\">[+] Successfully retrieved repo: </span><span style=\"color: #008080; text-decoration-color: #008080; font-weight: bold; text-decoration: underline\">https://github.com/sachinchoolur/lightgallery-desktop</span>\n",
       "</pre>\n"
      ],
      "text/plain": [
       "\u001b[1;36m[\u001b[0m\u001b[1;36m+\u001b[0m\u001b[1;36m]\u001b[0m\u001b[1;36m Successfully retrieved repo: \u001b[0m\u001b[1;4;36mhttps://github.com/sachinchoolur/lightgallery-desktop\u001b[0m\n"
      ]
     },
     "metadata": {},
     "output_type": "display_data"
    },
    {
     "data": {
      "text/html": [
       "<pre style=\"white-space:pre;overflow-x:auto;line-height:normal;font-family:Menlo,'DejaVu Sans Mono',consolas,'Courier New',monospace\"><span style=\"color: #008080; text-decoration-color: #008080; font-weight: bold\">[+] Found package.json at </span><span style=\"color: #008080; text-decoration-color: #008080; font-weight: bold; text-decoration: underline\">https://github.com/sachinchoolur/lightgallery-desktop</span>\n",
       "</pre>\n"
      ],
      "text/plain": [
       "\u001b[1;36m[\u001b[0m\u001b[1;36m+\u001b[0m\u001b[1;36m]\u001b[0m\u001b[1;36m Found package.json at \u001b[0m\u001b[1;4;36mhttps://github.com/sachinchoolur/lightgallery-desktop\u001b[0m\n"
      ]
     },
     "metadata": {},
     "output_type": "display_data"
    },
    {
     "data": {
      "text/html": [
       "<pre style=\"white-space:pre;overflow-x:auto;line-height:normal;font-family:Menlo,'DejaVu Sans Mono',consolas,'Courier New',monospace\"><span style=\"color: #008080; text-decoration-color: #008080; font-weight: bold\">[+] Getting </span><span style=\"color: #008080; text-decoration-color: #008080; font-weight: bold; text-decoration: underline\">https://github.com/sachinchoolur/lightgallery-desktop/blob/master/package.json</span>\n",
       "</pre>\n"
      ],
      "text/plain": [
       "\u001b[1;36m[\u001b[0m\u001b[1;36m+\u001b[0m\u001b[1;36m]\u001b[0m\u001b[1;36m Getting \u001b[0m\u001b[1;4;36mhttps://github.com/sachinchoolur/lightgallery-desktop/blob/master/package.json\u001b[0m\n"
      ]
     },
     "metadata": {},
     "output_type": "display_data"
    },
    {
     "data": {
      "text/html": [
       "<pre style=\"white-space:pre;overflow-x:auto;line-height:normal;font-family:Menlo,'DejaVu Sans Mono',consolas,'Courier New',monospace\"><span style=\"color: #008080; text-decoration-color: #008080; font-weight: bold\">[+] Getting repo: </span><span style=\"color: #008080; text-decoration-color: #008080; font-weight: bold; text-decoration: underline\">https://github.com/lostdesign/linked</span>\n",
       "</pre>\n"
      ],
      "text/plain": [
       "\u001b[1;36m[\u001b[0m\u001b[1;36m+\u001b[0m\u001b[1;36m]\u001b[0m\u001b[1;36m Getting repo: \u001b[0m\u001b[1;4;36mhttps://github.com/lostdesign/linked\u001b[0m\n"
      ]
     },
     "metadata": {},
     "output_type": "display_data"
    },
    {
     "data": {
      "text/html": [
       "<pre style=\"white-space:pre;overflow-x:auto;line-height:normal;font-family:Menlo,'DejaVu Sans Mono',consolas,'Courier New',monospace\"><span style=\"color: #008080; text-decoration-color: #008080; font-weight: bold\">[+] Successfully retrieved repo: </span><span style=\"color: #008080; text-decoration-color: #008080; font-weight: bold; text-decoration: underline\">https://github.com/lostdesign/linked</span>\n",
       "</pre>\n"
      ],
      "text/plain": [
       "\u001b[1;36m[\u001b[0m\u001b[1;36m+\u001b[0m\u001b[1;36m]\u001b[0m\u001b[1;36m Successfully retrieved repo: \u001b[0m\u001b[1;4;36mhttps://github.com/lostdesign/linked\u001b[0m\n"
      ]
     },
     "metadata": {},
     "output_type": "display_data"
    },
    {
     "data": {
      "text/html": [
       "<pre style=\"white-space:pre;overflow-x:auto;line-height:normal;font-family:Menlo,'DejaVu Sans Mono',consolas,'Courier New',monospace\"><span style=\"color: #008080; text-decoration-color: #008080; font-weight: bold\">[+] Found package.json at </span><span style=\"color: #008080; text-decoration-color: #008080; font-weight: bold; text-decoration: underline\">https://github.com/lostdesign/linked</span>\n",
       "</pre>\n"
      ],
      "text/plain": [
       "\u001b[1;36m[\u001b[0m\u001b[1;36m+\u001b[0m\u001b[1;36m]\u001b[0m\u001b[1;36m Found package.json at \u001b[0m\u001b[1;4;36mhttps://github.com/lostdesign/linked\u001b[0m\n"
      ]
     },
     "metadata": {},
     "output_type": "display_data"
    },
    {
     "data": {
      "text/html": [
       "<pre style=\"white-space:pre;overflow-x:auto;line-height:normal;font-family:Menlo,'DejaVu Sans Mono',consolas,'Courier New',monospace\"><span style=\"color: #008080; text-decoration-color: #008080; font-weight: bold\">[+] Getting </span><span style=\"color: #008080; text-decoration-color: #008080; font-weight: bold; text-decoration: underline\">https://github.com/lostdesign/linked/blob/master/package.json</span>\n",
       "</pre>\n"
      ],
      "text/plain": [
       "\u001b[1;36m[\u001b[0m\u001b[1;36m+\u001b[0m\u001b[1;36m]\u001b[0m\u001b[1;36m Getting \u001b[0m\u001b[1;4;36mhttps://github.com/lostdesign/linked/blob/master/package.json\u001b[0m\n"
      ]
     },
     "metadata": {},
     "output_type": "display_data"
    },
    {
     "data": {
      "text/html": [
       "<pre style=\"white-space:pre;overflow-x:auto;line-height:normal;font-family:Menlo,'DejaVu Sans Mono',consolas,'Courier New',monospace\"><span style=\"color: #008080; text-decoration-color: #008080; font-weight: bold\">[+] Getting repo: </span><span style=\"color: #008080; text-decoration-color: #008080; font-weight: bold; text-decoration: underline\">https://github.com/LiskHQ/lisk-hub</span>\n",
       "</pre>\n"
      ],
      "text/plain": [
       "\u001b[1;36m[\u001b[0m\u001b[1;36m+\u001b[0m\u001b[1;36m]\u001b[0m\u001b[1;36m Getting repo: \u001b[0m\u001b[1;4;36mhttps://github.com/LiskHQ/lisk-hub\u001b[0m\n"
      ]
     },
     "metadata": {},
     "output_type": "display_data"
    },
    {
     "data": {
      "text/html": [
       "<pre style=\"white-space:pre;overflow-x:auto;line-height:normal;font-family:Menlo,'DejaVu Sans Mono',consolas,'Courier New',monospace\"><span style=\"color: #008080; text-decoration-color: #008080; font-weight: bold\">[+] Successfully retrieved repo: </span><span style=\"color: #008080; text-decoration-color: #008080; font-weight: bold; text-decoration: underline\">https://github.com/LiskHQ/lisk-hub</span>\n",
       "</pre>\n"
      ],
      "text/plain": [
       "\u001b[1;36m[\u001b[0m\u001b[1;36m+\u001b[0m\u001b[1;36m]\u001b[0m\u001b[1;36m Successfully retrieved repo: \u001b[0m\u001b[1;4;36mhttps://github.com/LiskHQ/lisk-hub\u001b[0m\n"
      ]
     },
     "metadata": {},
     "output_type": "display_data"
    },
    {
     "data": {
      "text/html": [
       "<pre style=\"white-space:pre;overflow-x:auto;line-height:normal;font-family:Menlo,'DejaVu Sans Mono',consolas,'Courier New',monospace\"><span style=\"color: #008080; text-decoration-color: #008080; font-weight: bold\">[+] Found package.json at </span><span style=\"color: #008080; text-decoration-color: #008080; font-weight: bold; text-decoration: underline\">https://github.com/LiskHQ/lisk-hub</span>\n",
       "</pre>\n"
      ],
      "text/plain": [
       "\u001b[1;36m[\u001b[0m\u001b[1;36m+\u001b[0m\u001b[1;36m]\u001b[0m\u001b[1;36m Found package.json at \u001b[0m\u001b[1;4;36mhttps://github.com/LiskHQ/lisk-hub\u001b[0m\n"
      ]
     },
     "metadata": {},
     "output_type": "display_data"
    },
    {
     "data": {
      "text/html": [
       "<pre style=\"white-space:pre;overflow-x:auto;line-height:normal;font-family:Menlo,'DejaVu Sans Mono',consolas,'Courier New',monospace\"><span style=\"color: #008080; text-decoration-color: #008080; font-weight: bold\">[+] Getting </span><span style=\"color: #008080; text-decoration-color: #008080; font-weight: bold; text-decoration: underline\">https://github.com/LiskHQ/lisk-desktop/blob/development/package.json</span>\n",
       "</pre>\n"
      ],
      "text/plain": [
       "\u001b[1;36m[\u001b[0m\u001b[1;36m+\u001b[0m\u001b[1;36m]\u001b[0m\u001b[1;36m Getting \u001b[0m\u001b[1;4;36mhttps://github.com/LiskHQ/lisk-desktop/blob/development/package.json\u001b[0m\n"
      ]
     },
     "metadata": {},
     "output_type": "display_data"
    },
    {
     "data": {
      "text/html": [
       "<pre style=\"white-space:pre;overflow-x:auto;line-height:normal;font-family:Menlo,'DejaVu Sans Mono',consolas,'Courier New',monospace\"><span style=\"color: #008080; text-decoration-color: #008080; font-weight: bold\">[+] Getting repo: </span><span style=\"color: #008080; text-decoration-color: #008080; font-weight: bold; text-decoration: underline\">https://github.com/getflywheel/local-components</span>\n",
       "</pre>\n"
      ],
      "text/plain": [
       "\u001b[1;36m[\u001b[0m\u001b[1;36m+\u001b[0m\u001b[1;36m]\u001b[0m\u001b[1;36m Getting repo: \u001b[0m\u001b[1;4;36mhttps://github.com/getflywheel/local-components\u001b[0m\n"
      ]
     },
     "metadata": {},
     "output_type": "display_data"
    },
    {
     "data": {
      "text/html": [
       "<pre style=\"white-space:pre;overflow-x:auto;line-height:normal;font-family:Menlo,'DejaVu Sans Mono',consolas,'Courier New',monospace\"><span style=\"color: #008080; text-decoration-color: #008080; font-weight: bold\">[+] Successfully retrieved repo: </span><span style=\"color: #008080; text-decoration-color: #008080; font-weight: bold; text-decoration: underline\">https://github.com/getflywheel/local-components</span>\n",
       "</pre>\n"
      ],
      "text/plain": [
       "\u001b[1;36m[\u001b[0m\u001b[1;36m+\u001b[0m\u001b[1;36m]\u001b[0m\u001b[1;36m Successfully retrieved repo: \u001b[0m\u001b[1;4;36mhttps://github.com/getflywheel/local-components\u001b[0m\n"
      ]
     },
     "metadata": {},
     "output_type": "display_data"
    },
    {
     "data": {
      "text/html": [
       "<pre style=\"white-space:pre;overflow-x:auto;line-height:normal;font-family:Menlo,'DejaVu Sans Mono',consolas,'Courier New',monospace\"><span style=\"color: #008080; text-decoration-color: #008080; font-weight: bold\">[+] Found package.json at </span><span style=\"color: #008080; text-decoration-color: #008080; font-weight: bold; text-decoration: underline\">https://github.com/getflywheel/local-components</span>\n",
       "</pre>\n"
      ],
      "text/plain": [
       "\u001b[1;36m[\u001b[0m\u001b[1;36m+\u001b[0m\u001b[1;36m]\u001b[0m\u001b[1;36m Found package.json at \u001b[0m\u001b[1;4;36mhttps://github.com/getflywheel/local-components\u001b[0m\n"
      ]
     },
     "metadata": {},
     "output_type": "display_data"
    },
    {
     "data": {
      "text/html": [
       "<pre style=\"white-space:pre;overflow-x:auto;line-height:normal;font-family:Menlo,'DejaVu Sans Mono',consolas,'Courier New',monospace\"><span style=\"color: #008080; text-decoration-color: #008080; font-weight: bold\">[+] Getting </span><span style=\"color: #008080; text-decoration-color: #008080; font-weight: bold; text-decoration: underline\">https://github.com/getflywheel/local-components/blob/master/package.json</span>\n",
       "</pre>\n"
      ],
      "text/plain": [
       "\u001b[1;36m[\u001b[0m\u001b[1;36m+\u001b[0m\u001b[1;36m]\u001b[0m\u001b[1;36m Getting \u001b[0m\u001b[1;4;36mhttps://github.com/getflywheel/local-components/blob/master/package.json\u001b[0m\n"
      ]
     },
     "metadata": {},
     "output_type": "display_data"
    },
    {
     "data": {
      "text/html": [
       "<pre style=\"white-space:pre;overflow-x:auto;line-height:normal;font-family:Menlo,'DejaVu Sans Mono',consolas,'Courier New',monospace\"><span style=\"color: #008080; text-decoration-color: #008080; font-weight: bold\">[+] Getting repo: </span><span style=\"color: #008080; text-decoration-color: #008080; font-weight: bold; text-decoration: underline\">https://github.com/LogSnag/LogSnag</span>\n",
       "</pre>\n"
      ],
      "text/plain": [
       "\u001b[1;36m[\u001b[0m\u001b[1;36m+\u001b[0m\u001b[1;36m]\u001b[0m\u001b[1;36m Getting repo: \u001b[0m\u001b[1;4;36mhttps://github.com/LogSnag/LogSnag\u001b[0m\n"
      ]
     },
     "metadata": {},
     "output_type": "display_data"
    },
    {
     "data": {
      "text/html": [
       "<pre style=\"white-space:pre;overflow-x:auto;line-height:normal;font-family:Menlo,'DejaVu Sans Mono',consolas,'Courier New',monospace\"><span style=\"color: #008080; text-decoration-color: #008080; font-weight: bold\">[+] Successfully retrieved repo: </span><span style=\"color: #008080; text-decoration-color: #008080; font-weight: bold; text-decoration: underline\">https://github.com/LogSnag/LogSnag</span>\n",
       "</pre>\n"
      ],
      "text/plain": [
       "\u001b[1;36m[\u001b[0m\u001b[1;36m+\u001b[0m\u001b[1;36m]\u001b[0m\u001b[1;36m Successfully retrieved repo: \u001b[0m\u001b[1;4;36mhttps://github.com/LogSnag/LogSnag\u001b[0m\n"
      ]
     },
     "metadata": {},
     "output_type": "display_data"
    },
    {
     "data": {
      "text/html": [
       "<pre style=\"white-space:pre;overflow-x:auto;line-height:normal;font-family:Menlo,'DejaVu Sans Mono',consolas,'Courier New',monospace\"><span style=\"color: #ff5f00; text-decoration-color: #ff5f00; font-weight: bold\">[!] Package.json not found at root of </span><span style=\"color: #ff5f00; text-decoration-color: #ff5f00; font-weight: bold; text-decoration: underline\">https://github.com/LogSnag/LogSnag;</span><span style=\"color: #ff5f00; text-decoration-color: #ff5f00; font-weight: bold\"> trying directories</span>\n",
       "</pre>\n"
      ],
      "text/plain": [
       "\u001b[1;38;5;202m[\u001b[0m\u001b[1;38;5;202m!\u001b[0m\u001b[1;38;5;202m]\u001b[0m\u001b[1;38;5;202m Package.json not found at root of \u001b[0m\u001b[1;4;38;5;202mhttps://github.com/LogSnag/LogSnag;\u001b[0m\u001b[1;38;5;202m trying directories\u001b[0m\n"
      ]
     },
     "metadata": {},
     "output_type": "display_data"
    },
    {
     "data": {
      "text/html": [
       "<pre style=\"white-space:pre;overflow-x:auto;line-height:normal;font-family:Menlo,'DejaVu Sans Mono',consolas,'Courier New',monospace\"><span style=\"color: #800000; text-decoration-color: #800000; font-weight: bold\">[💀] Could not find package.json in first-level-subdirs</span>\n",
       "</pre>\n"
      ],
      "text/plain": [
       "\u001b[1;31m[\u001b[0m\u001b[1;31m💀\u001b[0m\u001b[1;31m]\u001b[0m\u001b[1;31m Could not find package.json in first-level-subdirs\u001b[0m\n"
      ]
     },
     "metadata": {},
     "output_type": "display_data"
    },
    {
     "data": {
      "text/html": [
       "<pre style=\"white-space:pre;overflow-x:auto;line-height:normal;font-family:Menlo,'DejaVu Sans Mono',consolas,'Courier New',monospace\"><span style=\"color: #008080; text-decoration-color: #008080; font-weight: bold\">[+] Getting repo: </span><span style=\"color: #008080; text-decoration-color: #008080; font-weight: bold; text-decoration: underline\">https://github.com/Jisco/LotOfThings</span>\n",
       "</pre>\n"
      ],
      "text/plain": [
       "\u001b[1;36m[\u001b[0m\u001b[1;36m+\u001b[0m\u001b[1;36m]\u001b[0m\u001b[1;36m Getting repo: \u001b[0m\u001b[1;4;36mhttps://github.com/Jisco/LotOfThings\u001b[0m\n"
      ]
     },
     "metadata": {},
     "output_type": "display_data"
    },
    {
     "data": {
      "text/html": [
       "<pre style=\"white-space:pre;overflow-x:auto;line-height:normal;font-family:Menlo,'DejaVu Sans Mono',consolas,'Courier New',monospace\"><span style=\"color: #008080; text-decoration-color: #008080; font-weight: bold\">[+] Successfully retrieved repo: </span><span style=\"color: #008080; text-decoration-color: #008080; font-weight: bold; text-decoration: underline\">https://github.com/Jisco/LotOfThings</span>\n",
       "</pre>\n"
      ],
      "text/plain": [
       "\u001b[1;36m[\u001b[0m\u001b[1;36m+\u001b[0m\u001b[1;36m]\u001b[0m\u001b[1;36m Successfully retrieved repo: \u001b[0m\u001b[1;4;36mhttps://github.com/Jisco/LotOfThings\u001b[0m\n"
      ]
     },
     "metadata": {},
     "output_type": "display_data"
    },
    {
     "data": {
      "text/html": [
       "<pre style=\"white-space:pre;overflow-x:auto;line-height:normal;font-family:Menlo,'DejaVu Sans Mono',consolas,'Courier New',monospace\"><span style=\"color: #ff5f00; text-decoration-color: #ff5f00; font-weight: bold\">[!] Package.json not found at root of </span><span style=\"color: #ff5f00; text-decoration-color: #ff5f00; font-weight: bold; text-decoration: underline\">https://github.com/Jisco/LotOfThings;</span><span style=\"color: #ff5f00; text-decoration-color: #ff5f00; font-weight: bold\"> trying directories</span>\n",
       "</pre>\n"
      ],
      "text/plain": [
       "\u001b[1;38;5;202m[\u001b[0m\u001b[1;38;5;202m!\u001b[0m\u001b[1;38;5;202m]\u001b[0m\u001b[1;38;5;202m Package.json not found at root of \u001b[0m\u001b[1;4;38;5;202mhttps://github.com/Jisco/LotOfThings;\u001b[0m\u001b[1;38;5;202m trying directories\u001b[0m\n"
      ]
     },
     "metadata": {},
     "output_type": "display_data"
    },
    {
     "data": {
      "text/html": [
       "<pre style=\"white-space:pre;overflow-x:auto;line-height:normal;font-family:Menlo,'DejaVu Sans Mono',consolas,'Courier New',monospace\"><span style=\"color: #008080; text-decoration-color: #008080; font-weight: bold\">[+] Trying </span><span style=\"color: #008080; text-decoration-color: #008080; font-weight: bold; text-decoration: underline\">https://github.com/Jisco/LotOfThings/tree/main/.github</span>\n",
       "</pre>\n"
      ],
      "text/plain": [
       "\u001b[1;36m[\u001b[0m\u001b[1;36m+\u001b[0m\u001b[1;36m]\u001b[0m\u001b[1;36m Trying \u001b[0m\u001b[1;4;36mhttps://github.com/Jisco/LotOfThings/tree/main/.github\u001b[0m\n"
      ]
     },
     "metadata": {},
     "output_type": "display_data"
    },
    {
     "data": {
      "text/html": [
       "<pre style=\"white-space:pre;overflow-x:auto;line-height:normal;font-family:Menlo,'DejaVu Sans Mono',consolas,'Courier New',monospace\"><span style=\"color: #800000; text-decoration-color: #800000; font-weight: bold\">[💀] Could not find package.json in first-level-subdirs</span>\n",
       "</pre>\n"
      ],
      "text/plain": [
       "\u001b[1;31m[\u001b[0m\u001b[1;31m💀\u001b[0m\u001b[1;31m]\u001b[0m\u001b[1;31m Could not find package.json in first-level-subdirs\u001b[0m\n"
      ]
     },
     "metadata": {},
     "output_type": "display_data"
    },
    {
     "data": {
      "text/html": [
       "<pre style=\"white-space:pre;overflow-x:auto;line-height:normal;font-family:Menlo,'DejaVu Sans Mono',consolas,'Courier New',monospace\"><span style=\"color: #008080; text-decoration-color: #008080; font-weight: bold\">[+] Getting repo: </span><span style=\"color: #008080; text-decoration-color: #008080; font-weight: bold; text-decoration: underline\">https://github.com/AlexanderPershin/lsdeer</span>\n",
       "</pre>\n"
      ],
      "text/plain": [
       "\u001b[1;36m[\u001b[0m\u001b[1;36m+\u001b[0m\u001b[1;36m]\u001b[0m\u001b[1;36m Getting repo: \u001b[0m\u001b[1;4;36mhttps://github.com/AlexanderPershin/lsdeer\u001b[0m\n"
      ]
     },
     "metadata": {},
     "output_type": "display_data"
    },
    {
     "data": {
      "text/html": [
       "<pre style=\"white-space:pre;overflow-x:auto;line-height:normal;font-family:Menlo,'DejaVu Sans Mono',consolas,'Courier New',monospace\"><span style=\"color: #008080; text-decoration-color: #008080; font-weight: bold\">[+] Successfully retrieved repo: </span><span style=\"color: #008080; text-decoration-color: #008080; font-weight: bold; text-decoration: underline\">https://github.com/AlexanderPershin/lsdeer</span>\n",
       "</pre>\n"
      ],
      "text/plain": [
       "\u001b[1;36m[\u001b[0m\u001b[1;36m+\u001b[0m\u001b[1;36m]\u001b[0m\u001b[1;36m Successfully retrieved repo: \u001b[0m\u001b[1;4;36mhttps://github.com/AlexanderPershin/lsdeer\u001b[0m\n"
      ]
     },
     "metadata": {},
     "output_type": "display_data"
    },
    {
     "data": {
      "text/html": [
       "<pre style=\"white-space:pre;overflow-x:auto;line-height:normal;font-family:Menlo,'DejaVu Sans Mono',consolas,'Courier New',monospace\"><span style=\"color: #008080; text-decoration-color: #008080; font-weight: bold\">[+] Found package.json at </span><span style=\"color: #008080; text-decoration-color: #008080; font-weight: bold; text-decoration: underline\">https://github.com/AlexanderPershin/lsdeer</span>\n",
       "</pre>\n"
      ],
      "text/plain": [
       "\u001b[1;36m[\u001b[0m\u001b[1;36m+\u001b[0m\u001b[1;36m]\u001b[0m\u001b[1;36m Found package.json at \u001b[0m\u001b[1;4;36mhttps://github.com/AlexanderPershin/lsdeer\u001b[0m\n"
      ]
     },
     "metadata": {},
     "output_type": "display_data"
    },
    {
     "data": {
      "text/html": [
       "<pre style=\"white-space:pre;overflow-x:auto;line-height:normal;font-family:Menlo,'DejaVu Sans Mono',consolas,'Courier New',monospace\"><span style=\"color: #008080; text-decoration-color: #008080; font-weight: bold\">[+] Getting </span><span style=\"color: #008080; text-decoration-color: #008080; font-weight: bold; text-decoration: underline\">https://github.com/AlexanderPershin/lsdeer/blob/master/package.json</span>\n",
       "</pre>\n"
      ],
      "text/plain": [
       "\u001b[1;36m[\u001b[0m\u001b[1;36m+\u001b[0m\u001b[1;36m]\u001b[0m\u001b[1;36m Getting \u001b[0m\u001b[1;4;36mhttps://github.com/AlexanderPershin/lsdeer/blob/master/package.json\u001b[0m\n"
      ]
     },
     "metadata": {},
     "output_type": "display_data"
    },
    {
     "data": {
      "text/html": [
       "<pre style=\"white-space:pre;overflow-x:auto;line-height:normal;font-family:Menlo,'DejaVu Sans Mono',consolas,'Courier New',monospace\"><span style=\"color: #008080; text-decoration-color: #008080; font-weight: bold\">[+] Getting repo: </span><span style=\"color: #008080; text-decoration-color: #008080; font-weight: bold; text-decoration: underline\">https://github.com/Foundry376/Mailspring</span>\n",
       "</pre>\n"
      ],
      "text/plain": [
       "\u001b[1;36m[\u001b[0m\u001b[1;36m+\u001b[0m\u001b[1;36m]\u001b[0m\u001b[1;36m Getting repo: \u001b[0m\u001b[1;4;36mhttps://github.com/Foundry376/Mailspring\u001b[0m\n"
      ]
     },
     "metadata": {},
     "output_type": "display_data"
    },
    {
     "data": {
      "text/html": [
       "<pre style=\"white-space:pre;overflow-x:auto;line-height:normal;font-family:Menlo,'DejaVu Sans Mono',consolas,'Courier New',monospace\"><span style=\"color: #008080; text-decoration-color: #008080; font-weight: bold\">[+] Successfully retrieved repo: </span><span style=\"color: #008080; text-decoration-color: #008080; font-weight: bold; text-decoration: underline\">https://github.com/Foundry376/Mailspring</span>\n",
       "</pre>\n"
      ],
      "text/plain": [
       "\u001b[1;36m[\u001b[0m\u001b[1;36m+\u001b[0m\u001b[1;36m]\u001b[0m\u001b[1;36m Successfully retrieved repo: \u001b[0m\u001b[1;4;36mhttps://github.com/Foundry376/Mailspring\u001b[0m\n"
      ]
     },
     "metadata": {},
     "output_type": "display_data"
    },
    {
     "data": {
      "text/html": [
       "<pre style=\"white-space:pre;overflow-x:auto;line-height:normal;font-family:Menlo,'DejaVu Sans Mono',consolas,'Courier New',monospace\"><span style=\"color: #008080; text-decoration-color: #008080; font-weight: bold\">[+] Found package.json at </span><span style=\"color: #008080; text-decoration-color: #008080; font-weight: bold; text-decoration: underline\">https://github.com/Foundry376/Mailspring</span>\n",
       "</pre>\n"
      ],
      "text/plain": [
       "\u001b[1;36m[\u001b[0m\u001b[1;36m+\u001b[0m\u001b[1;36m]\u001b[0m\u001b[1;36m Found package.json at \u001b[0m\u001b[1;4;36mhttps://github.com/Foundry376/Mailspring\u001b[0m\n"
      ]
     },
     "metadata": {},
     "output_type": "display_data"
    },
    {
     "data": {
      "text/html": [
       "<pre style=\"white-space:pre;overflow-x:auto;line-height:normal;font-family:Menlo,'DejaVu Sans Mono',consolas,'Courier New',monospace\"><span style=\"color: #008080; text-decoration-color: #008080; font-weight: bold\">[+] Getting </span><span style=\"color: #008080; text-decoration-color: #008080; font-weight: bold; text-decoration: underline\">https://github.com/Foundry376/Mailspring/blob/master/package.json</span>\n",
       "</pre>\n"
      ],
      "text/plain": [
       "\u001b[1;36m[\u001b[0m\u001b[1;36m+\u001b[0m\u001b[1;36m]\u001b[0m\u001b[1;36m Getting \u001b[0m\u001b[1;4;36mhttps://github.com/Foundry376/Mailspring/blob/master/package.json\u001b[0m\n"
      ]
     },
     "metadata": {},
     "output_type": "display_data"
    },
    {
     "data": {
      "text/html": [
       "<pre style=\"white-space:pre;overflow-x:auto;line-height:normal;font-family:Menlo,'DejaVu Sans Mono',consolas,'Courier New',monospace\"><span style=\"color: #008080; text-decoration-color: #008080; font-weight: bold\">[+] Getting repo: </span><span style=\"color: #008080; text-decoration-color: #008080; font-weight: bold; text-decoration: underline\">https://gitlab.com/staltz/manyverse</span>\n",
       "</pre>\n"
      ],
      "text/plain": [
       "\u001b[1;36m[\u001b[0m\u001b[1;36m+\u001b[0m\u001b[1;36m]\u001b[0m\u001b[1;36m Getting repo: \u001b[0m\u001b[1;4;36mhttps://gitlab.com/staltz/manyverse\u001b[0m\n"
      ]
     },
     "metadata": {},
     "output_type": "display_data"
    },
    {
     "data": {
      "text/html": [
       "<pre style=\"white-space:pre;overflow-x:auto;line-height:normal;font-family:Menlo,'DejaVu Sans Mono',consolas,'Courier New',monospace\"><span style=\"color: #008080; text-decoration-color: #008080; font-weight: bold\">[+] Successfully retrieved repo: </span><span style=\"color: #008080; text-decoration-color: #008080; font-weight: bold; text-decoration: underline\">https://gitlab.com/staltz/manyverse</span>\n",
       "</pre>\n"
      ],
      "text/plain": [
       "\u001b[1;36m[\u001b[0m\u001b[1;36m+\u001b[0m\u001b[1;36m]\u001b[0m\u001b[1;36m Successfully retrieved repo: \u001b[0m\u001b[1;4;36mhttps://gitlab.com/staltz/manyverse\u001b[0m\n"
      ]
     },
     "metadata": {},
     "output_type": "display_data"
    },
    {
     "data": {
      "text/html": [
       "<pre style=\"white-space:pre;overflow-x:auto;line-height:normal;font-family:Menlo,'DejaVu Sans Mono',consolas,'Courier New',monospace\"><span style=\"color: #ff5f00; text-decoration-color: #ff5f00; font-weight: bold\">[!] Package.json not found at root of </span><span style=\"color: #ff5f00; text-decoration-color: #ff5f00; font-weight: bold; text-decoration: underline\">https://gitlab.com/staltz/manyverse;</span><span style=\"color: #ff5f00; text-decoration-color: #ff5f00; font-weight: bold\"> trying directories</span>\n",
       "</pre>\n"
      ],
      "text/plain": [
       "\u001b[1;38;5;202m[\u001b[0m\u001b[1;38;5;202m!\u001b[0m\u001b[1;38;5;202m]\u001b[0m\u001b[1;38;5;202m Package.json not found at root of \u001b[0m\u001b[1;4;38;5;202mhttps://gitlab.com/staltz/manyverse;\u001b[0m\u001b[1;38;5;202m trying directories\u001b[0m\n"
      ]
     },
     "metadata": {},
     "output_type": "display_data"
    },
    {
     "data": {
      "text/html": [
       "<pre style=\"white-space:pre;overflow-x:auto;line-height:normal;font-family:Menlo,'DejaVu Sans Mono',consolas,'Courier New',monospace\"><span style=\"color: #800000; text-decoration-color: #800000; font-weight: bold\">[💀] Could not find package.json in first-level-subdirs</span>\n",
       "</pre>\n"
      ],
      "text/plain": [
       "\u001b[1;31m[\u001b[0m\u001b[1;31m💀\u001b[0m\u001b[1;31m]\u001b[0m\u001b[1;31m Could not find package.json in first-level-subdirs\u001b[0m\n"
      ]
     },
     "metadata": {},
     "output_type": "display_data"
    },
    {
     "data": {
      "text/html": [
       "<pre style=\"white-space:pre;overflow-x:auto;line-height:normal;font-family:Menlo,'DejaVu Sans Mono',consolas,'Courier New',monospace\"><span style=\"color: #008080; text-decoration-color: #008080; font-weight: bold\">[+] Getting repo: </span><span style=\"color: #008080; text-decoration-color: #008080; font-weight: bold; text-decoration: underline\">https://github.com/amitmerchant1990/electron-markdownify</span>\n",
       "</pre>\n"
      ],
      "text/plain": [
       "\u001b[1;36m[\u001b[0m\u001b[1;36m+\u001b[0m\u001b[1;36m]\u001b[0m\u001b[1;36m Getting repo: \u001b[0m\u001b[1;4;36mhttps://github.com/amitmerchant1990/electron-markdownify\u001b[0m\n"
      ]
     },
     "metadata": {},
     "output_type": "display_data"
    },
    {
     "data": {
      "text/html": [
       "<pre style=\"white-space:pre;overflow-x:auto;line-height:normal;font-family:Menlo,'DejaVu Sans Mono',consolas,'Courier New',monospace\"><span style=\"color: #008080; text-decoration-color: #008080; font-weight: bold\">[+] Successfully retrieved repo: </span><span style=\"color: #008080; text-decoration-color: #008080; font-weight: bold; text-decoration: underline\">https://github.com/amitmerchant1990/electron-markdownify</span>\n",
       "</pre>\n"
      ],
      "text/plain": [
       "\u001b[1;36m[\u001b[0m\u001b[1;36m+\u001b[0m\u001b[1;36m]\u001b[0m\u001b[1;36m Successfully retrieved repo: \u001b[0m\u001b[1;4;36mhttps://github.com/amitmerchant1990/electron-markdownify\u001b[0m\n"
      ]
     },
     "metadata": {},
     "output_type": "display_data"
    },
    {
     "data": {
      "text/html": [
       "<pre style=\"white-space:pre;overflow-x:auto;line-height:normal;font-family:Menlo,'DejaVu Sans Mono',consolas,'Courier New',monospace\"><span style=\"color: #008080; text-decoration-color: #008080; font-weight: bold\">[+] Found package.json at </span><span style=\"color: #008080; text-decoration-color: #008080; font-weight: bold; text-decoration: underline\">https://github.com/amitmerchant1990/electron-markdownify</span>\n",
       "</pre>\n"
      ],
      "text/plain": [
       "\u001b[1;36m[\u001b[0m\u001b[1;36m+\u001b[0m\u001b[1;36m]\u001b[0m\u001b[1;36m Found package.json at \u001b[0m\u001b[1;4;36mhttps://github.com/amitmerchant1990/electron-markdownify\u001b[0m\n"
      ]
     },
     "metadata": {},
     "output_type": "display_data"
    },
    {
     "data": {
      "text/html": [
       "<pre style=\"white-space:pre;overflow-x:auto;line-height:normal;font-family:Menlo,'DejaVu Sans Mono',consolas,'Courier New',monospace\"><span style=\"color: #008080; text-decoration-color: #008080; font-weight: bold\">[+] Getting </span><span style=\"color: #008080; text-decoration-color: #008080; font-weight: bold; text-decoration: underline\">https://github.com/amitmerchant1990/electron-markdownify/blob/master/package.json</span>\n",
       "</pre>\n"
      ],
      "text/plain": [
       "\u001b[1;36m[\u001b[0m\u001b[1;36m+\u001b[0m\u001b[1;36m]\u001b[0m\u001b[1;36m Getting \u001b[0m\u001b[1;4;36mhttps://github.com/amitmerchant1990/electron-markdownify/blob/master/package.json\u001b[0m\n"
      ]
     },
     "metadata": {},
     "output_type": "display_data"
    },
    {
     "data": {
      "text/html": [
       "<pre style=\"white-space:pre;overflow-x:auto;line-height:normal;font-family:Menlo,'DejaVu Sans Mono',consolas,'Courier New',monospace\"><span style=\"color: #008080; text-decoration-color: #008080; font-weight: bold\">[+] Getting repo: </span><span style=\"color: #008080; text-decoration-color: #008080; font-weight: bold; text-decoration: underline\">https://github.com/antonreshetov/massCode</span>\n",
       "</pre>\n"
      ],
      "text/plain": [
       "\u001b[1;36m[\u001b[0m\u001b[1;36m+\u001b[0m\u001b[1;36m]\u001b[0m\u001b[1;36m Getting repo: \u001b[0m\u001b[1;4;36mhttps://github.com/antonreshetov/massCode\u001b[0m\n"
      ]
     },
     "metadata": {},
     "output_type": "display_data"
    },
    {
     "data": {
      "text/html": [
       "<pre style=\"white-space:pre;overflow-x:auto;line-height:normal;font-family:Menlo,'DejaVu Sans Mono',consolas,'Courier New',monospace\"><span style=\"color: #008080; text-decoration-color: #008080; font-weight: bold\">[+] Successfully retrieved repo: </span><span style=\"color: #008080; text-decoration-color: #008080; font-weight: bold; text-decoration: underline\">https://github.com/antonreshetov/massCode</span>\n",
       "</pre>\n"
      ],
      "text/plain": [
       "\u001b[1;36m[\u001b[0m\u001b[1;36m+\u001b[0m\u001b[1;36m]\u001b[0m\u001b[1;36m Successfully retrieved repo: \u001b[0m\u001b[1;4;36mhttps://github.com/antonreshetov/massCode\u001b[0m\n"
      ]
     },
     "metadata": {},
     "output_type": "display_data"
    },
    {
     "data": {
      "text/html": [
       "<pre style=\"white-space:pre;overflow-x:auto;line-height:normal;font-family:Menlo,'DejaVu Sans Mono',consolas,'Courier New',monospace\"><span style=\"color: #008080; text-decoration-color: #008080; font-weight: bold\">[+] Found package.json at </span><span style=\"color: #008080; text-decoration-color: #008080; font-weight: bold; text-decoration: underline\">https://github.com/antonreshetov/massCode</span>\n",
       "</pre>\n"
      ],
      "text/plain": [
       "\u001b[1;36m[\u001b[0m\u001b[1;36m+\u001b[0m\u001b[1;36m]\u001b[0m\u001b[1;36m Found package.json at \u001b[0m\u001b[1;4;36mhttps://github.com/antonreshetov/massCode\u001b[0m\n"
      ]
     },
     "metadata": {},
     "output_type": "display_data"
    },
    {
     "data": {
      "text/html": [
       "<pre style=\"white-space:pre;overflow-x:auto;line-height:normal;font-family:Menlo,'DejaVu Sans Mono',consolas,'Courier New',monospace\"><span style=\"color: #008080; text-decoration-color: #008080; font-weight: bold\">[+] Getting </span><span style=\"color: #008080; text-decoration-color: #008080; font-weight: bold; text-decoration: underline\">https://github.com/antonreshetov/massCode/blob/master/package.json</span>\n",
       "</pre>\n"
      ],
      "text/plain": [
       "\u001b[1;36m[\u001b[0m\u001b[1;36m+\u001b[0m\u001b[1;36m]\u001b[0m\u001b[1;36m Getting \u001b[0m\u001b[1;4;36mhttps://github.com/antonreshetov/massCode/blob/master/package.json\u001b[0m\n"
      ]
     },
     "metadata": {},
     "output_type": "display_data"
    },
    {
     "data": {
      "text/html": [
       "<pre style=\"white-space:pre;overflow-x:auto;line-height:normal;font-family:Menlo,'DejaVu Sans Mono',consolas,'Courier New',monospace\"><span style=\"color: #008080; text-decoration-color: #008080; font-weight: bold\">[+] Getting repo: </span><span style=\"color: #008080; text-decoration-color: #008080; font-weight: bold; text-decoration: underline\">https://github.com/mattermost/desktop</span>\n",
       "</pre>\n"
      ],
      "text/plain": [
       "\u001b[1;36m[\u001b[0m\u001b[1;36m+\u001b[0m\u001b[1;36m]\u001b[0m\u001b[1;36m Getting repo: \u001b[0m\u001b[1;4;36mhttps://github.com/mattermost/desktop\u001b[0m\n"
      ]
     },
     "metadata": {},
     "output_type": "display_data"
    },
    {
     "data": {
      "text/html": [
       "<pre style=\"white-space:pre;overflow-x:auto;line-height:normal;font-family:Menlo,'DejaVu Sans Mono',consolas,'Courier New',monospace\"><span style=\"color: #008080; text-decoration-color: #008080; font-weight: bold\">[+] Successfully retrieved repo: </span><span style=\"color: #008080; text-decoration-color: #008080; font-weight: bold; text-decoration: underline\">https://github.com/mattermost/desktop</span>\n",
       "</pre>\n"
      ],
      "text/plain": [
       "\u001b[1;36m[\u001b[0m\u001b[1;36m+\u001b[0m\u001b[1;36m]\u001b[0m\u001b[1;36m Successfully retrieved repo: \u001b[0m\u001b[1;4;36mhttps://github.com/mattermost/desktop\u001b[0m\n"
      ]
     },
     "metadata": {},
     "output_type": "display_data"
    },
    {
     "data": {
      "text/html": [
       "<pre style=\"white-space:pre;overflow-x:auto;line-height:normal;font-family:Menlo,'DejaVu Sans Mono',consolas,'Courier New',monospace\"><span style=\"color: #008080; text-decoration-color: #008080; font-weight: bold\">[+] Found package.json at </span><span style=\"color: #008080; text-decoration-color: #008080; font-weight: bold; text-decoration: underline\">https://github.com/mattermost/desktop</span>\n",
       "</pre>\n"
      ],
      "text/plain": [
       "\u001b[1;36m[\u001b[0m\u001b[1;36m+\u001b[0m\u001b[1;36m]\u001b[0m\u001b[1;36m Found package.json at \u001b[0m\u001b[1;4;36mhttps://github.com/mattermost/desktop\u001b[0m\n"
      ]
     },
     "metadata": {},
     "output_type": "display_data"
    },
    {
     "data": {
      "text/html": [
       "<pre style=\"white-space:pre;overflow-x:auto;line-height:normal;font-family:Menlo,'DejaVu Sans Mono',consolas,'Courier New',monospace\"><span style=\"color: #008080; text-decoration-color: #008080; font-weight: bold\">[+] Getting </span><span style=\"color: #008080; text-decoration-color: #008080; font-weight: bold; text-decoration: underline\">https://github.com/mattermost/desktop/blob/master/package.json</span>\n",
       "</pre>\n"
      ],
      "text/plain": [
       "\u001b[1;36m[\u001b[0m\u001b[1;36m+\u001b[0m\u001b[1;36m]\u001b[0m\u001b[1;36m Getting \u001b[0m\u001b[1;4;36mhttps://github.com/mattermost/desktop/blob/master/package.json\u001b[0m\n"
      ]
     },
     "metadata": {},
     "output_type": "display_data"
    },
    {
     "data": {
      "text/html": [
       "<pre style=\"white-space:pre;overflow-x:auto;line-height:normal;font-family:Menlo,'DejaVu Sans Mono',consolas,'Courier New',monospace\"><span style=\"color: #008080; text-decoration-color: #008080; font-weight: bold\">[+] Getting repo: </span><span style=\"color: #008080; text-decoration-color: #008080; font-weight: bold; text-decoration: underline\">https://github.com/ericlink/mdp</span>\n",
       "</pre>\n"
      ],
      "text/plain": [
       "\u001b[1;36m[\u001b[0m\u001b[1;36m+\u001b[0m\u001b[1;36m]\u001b[0m\u001b[1;36m Getting repo: \u001b[0m\u001b[1;4;36mhttps://github.com/ericlink/mdp\u001b[0m\n"
      ]
     },
     "metadata": {},
     "output_type": "display_data"
    },
    {
     "data": {
      "text/html": [
       "<pre style=\"white-space:pre;overflow-x:auto;line-height:normal;font-family:Menlo,'DejaVu Sans Mono',consolas,'Courier New',monospace\"><span style=\"color: #008080; text-decoration-color: #008080; font-weight: bold\">[+] Successfully retrieved repo: </span><span style=\"color: #008080; text-decoration-color: #008080; font-weight: bold; text-decoration: underline\">https://github.com/ericlink/mdp</span>\n",
       "</pre>\n"
      ],
      "text/plain": [
       "\u001b[1;36m[\u001b[0m\u001b[1;36m+\u001b[0m\u001b[1;36m]\u001b[0m\u001b[1;36m Successfully retrieved repo: \u001b[0m\u001b[1;4;36mhttps://github.com/ericlink/mdp\u001b[0m\n"
      ]
     },
     "metadata": {},
     "output_type": "display_data"
    },
    {
     "data": {
      "text/html": [
       "<pre style=\"white-space:pre;overflow-x:auto;line-height:normal;font-family:Menlo,'DejaVu Sans Mono',consolas,'Courier New',monospace\"><span style=\"color: #008080; text-decoration-color: #008080; font-weight: bold\">[+] Found package.json at </span><span style=\"color: #008080; text-decoration-color: #008080; font-weight: bold; text-decoration: underline\">https://github.com/ericlink/mdp</span>\n",
       "</pre>\n"
      ],
      "text/plain": [
       "\u001b[1;36m[\u001b[0m\u001b[1;36m+\u001b[0m\u001b[1;36m]\u001b[0m\u001b[1;36m Found package.json at \u001b[0m\u001b[1;4;36mhttps://github.com/ericlink/mdp\u001b[0m\n"
      ]
     },
     "metadata": {},
     "output_type": "display_data"
    },
    {
     "data": {
      "text/html": [
       "<pre style=\"white-space:pre;overflow-x:auto;line-height:normal;font-family:Menlo,'DejaVu Sans Mono',consolas,'Courier New',monospace\"><span style=\"color: #008080; text-decoration-color: #008080; font-weight: bold\">[+] Getting </span><span style=\"color: #008080; text-decoration-color: #008080; font-weight: bold; text-decoration: underline\">https://github.com/ericlink/mdp/blob/master/package.json</span>\n",
       "</pre>\n"
      ],
      "text/plain": [
       "\u001b[1;36m[\u001b[0m\u001b[1;36m+\u001b[0m\u001b[1;36m]\u001b[0m\u001b[1;36m Getting \u001b[0m\u001b[1;4;36mhttps://github.com/ericlink/mdp/blob/master/package.json\u001b[0m\n"
      ]
     },
     "metadata": {},
     "output_type": "display_data"
    },
    {
     "data": {
      "text/html": [
       "<pre style=\"white-space:pre;overflow-x:auto;line-height:normal;font-family:Menlo,'DejaVu Sans Mono',consolas,'Courier New',monospace\"><span style=\"color: #008080; text-decoration-color: #008080; font-weight: bold\">[+] Getting repo: </span><span style=\"color: #008080; text-decoration-color: #008080; font-weight: bold; text-decoration: underline\">https://github.com/fupdec/mediaChips</span>\n",
       "</pre>\n"
      ],
      "text/plain": [
       "\u001b[1;36m[\u001b[0m\u001b[1;36m+\u001b[0m\u001b[1;36m]\u001b[0m\u001b[1;36m Getting repo: \u001b[0m\u001b[1;4;36mhttps://github.com/fupdec/mediaChips\u001b[0m\n"
      ]
     },
     "metadata": {},
     "output_type": "display_data"
    },
    {
     "data": {
      "text/html": [
       "<pre style=\"white-space:pre;overflow-x:auto;line-height:normal;font-family:Menlo,'DejaVu Sans Mono',consolas,'Courier New',monospace\"><span style=\"color: #008080; text-decoration-color: #008080; font-weight: bold\">[+] Successfully retrieved repo: </span><span style=\"color: #008080; text-decoration-color: #008080; font-weight: bold; text-decoration: underline\">https://github.com/fupdec/mediaChips</span>\n",
       "</pre>\n"
      ],
      "text/plain": [
       "\u001b[1;36m[\u001b[0m\u001b[1;36m+\u001b[0m\u001b[1;36m]\u001b[0m\u001b[1;36m Successfully retrieved repo: \u001b[0m\u001b[1;4;36mhttps://github.com/fupdec/mediaChips\u001b[0m\n"
      ]
     },
     "metadata": {},
     "output_type": "display_data"
    },
    {
     "data": {
      "text/html": [
       "<pre style=\"white-space:pre;overflow-x:auto;line-height:normal;font-family:Menlo,'DejaVu Sans Mono',consolas,'Courier New',monospace\"><span style=\"color: #008080; text-decoration-color: #008080; font-weight: bold\">[+] Found package.json at </span><span style=\"color: #008080; text-decoration-color: #008080; font-weight: bold; text-decoration: underline\">https://github.com/fupdec/mediaChips</span>\n",
       "</pre>\n"
      ],
      "text/plain": [
       "\u001b[1;36m[\u001b[0m\u001b[1;36m+\u001b[0m\u001b[1;36m]\u001b[0m\u001b[1;36m Found package.json at \u001b[0m\u001b[1;4;36mhttps://github.com/fupdec/mediaChips\u001b[0m\n"
      ]
     },
     "metadata": {},
     "output_type": "display_data"
    },
    {
     "data": {
      "text/html": [
       "<pre style=\"white-space:pre;overflow-x:auto;line-height:normal;font-family:Menlo,'DejaVu Sans Mono',consolas,'Courier New',monospace\"><span style=\"color: #008080; text-decoration-color: #008080; font-weight: bold\">[+] Getting </span><span style=\"color: #008080; text-decoration-color: #008080; font-weight: bold; text-decoration: underline\">https://github.com/fupdec/mediaChips/blob/master/package.json</span>\n",
       "</pre>\n"
      ],
      "text/plain": [
       "\u001b[1;36m[\u001b[0m\u001b[1;36m+\u001b[0m\u001b[1;36m]\u001b[0m\u001b[1;36m Getting \u001b[0m\u001b[1;4;36mhttps://github.com/fupdec/mediaChips/blob/master/package.json\u001b[0m\n"
      ]
     },
     "metadata": {},
     "output_type": "display_data"
    },
    {
     "data": {
      "text/html": [
       "<pre style=\"white-space:pre;overflow-x:auto;line-height:normal;font-family:Menlo,'DejaVu Sans Mono',consolas,'Courier New',monospace\"><span style=\"color: #008080; text-decoration-color: #008080; font-weight: bold\">[+] Getting repo: </span><span style=\"color: #008080; text-decoration-color: #008080; font-weight: bold; text-decoration: underline\">https://github.com/feugy/melodie</span>\n",
       "</pre>\n"
      ],
      "text/plain": [
       "\u001b[1;36m[\u001b[0m\u001b[1;36m+\u001b[0m\u001b[1;36m]\u001b[0m\u001b[1;36m Getting repo: \u001b[0m\u001b[1;4;36mhttps://github.com/feugy/melodie\u001b[0m\n"
      ]
     },
     "metadata": {},
     "output_type": "display_data"
    },
    {
     "data": {
      "text/html": [
       "<pre style=\"white-space:pre;overflow-x:auto;line-height:normal;font-family:Menlo,'DejaVu Sans Mono',consolas,'Courier New',monospace\"><span style=\"color: #008080; text-decoration-color: #008080; font-weight: bold\">[+] Successfully retrieved repo: </span><span style=\"color: #008080; text-decoration-color: #008080; font-weight: bold; text-decoration: underline\">https://github.com/feugy/melodie</span>\n",
       "</pre>\n"
      ],
      "text/plain": [
       "\u001b[1;36m[\u001b[0m\u001b[1;36m+\u001b[0m\u001b[1;36m]\u001b[0m\u001b[1;36m Successfully retrieved repo: \u001b[0m\u001b[1;4;36mhttps://github.com/feugy/melodie\u001b[0m\n"
      ]
     },
     "metadata": {},
     "output_type": "display_data"
    },
    {
     "data": {
      "text/html": [
       "<pre style=\"white-space:pre;overflow-x:auto;line-height:normal;font-family:Menlo,'DejaVu Sans Mono',consolas,'Courier New',monospace\"><span style=\"color: #008080; text-decoration-color: #008080; font-weight: bold\">[+] Found package.json at </span><span style=\"color: #008080; text-decoration-color: #008080; font-weight: bold; text-decoration: underline\">https://github.com/feugy/melodie</span>\n",
       "</pre>\n"
      ],
      "text/plain": [
       "\u001b[1;36m[\u001b[0m\u001b[1;36m+\u001b[0m\u001b[1;36m]\u001b[0m\u001b[1;36m Found package.json at \u001b[0m\u001b[1;4;36mhttps://github.com/feugy/melodie\u001b[0m\n"
      ]
     },
     "metadata": {},
     "output_type": "display_data"
    },
    {
     "data": {
      "text/html": [
       "<pre style=\"white-space:pre;overflow-x:auto;line-height:normal;font-family:Menlo,'DejaVu Sans Mono',consolas,'Courier New',monospace\"><span style=\"color: #008080; text-decoration-color: #008080; font-weight: bold\">[+] Getting </span><span style=\"color: #008080; text-decoration-color: #008080; font-weight: bold; text-decoration: underline\">https://github.com/feugy/melodie/blob/main/package.json</span>\n",
       "</pre>\n"
      ],
      "text/plain": [
       "\u001b[1;36m[\u001b[0m\u001b[1;36m+\u001b[0m\u001b[1;36m]\u001b[0m\u001b[1;36m Getting \u001b[0m\u001b[1;4;36mhttps://github.com/feugy/melodie/blob/main/package.json\u001b[0m\n"
      ]
     },
     "metadata": {},
     "output_type": "display_data"
    },
    {
     "data": {
      "text/html": [
       "<pre style=\"white-space:pre;overflow-x:auto;line-height:normal;font-family:Menlo,'DejaVu Sans Mono',consolas,'Courier New',monospace\"><span style=\"color: #008080; text-decoration-color: #008080; font-weight: bold\">[+] Getting repo: </span><span style=\"color: #008080; text-decoration-color: #008080; font-weight: bold; text-decoration: underline\">https://github.com/samuelmaddock/metastream</span>\n",
       "</pre>\n"
      ],
      "text/plain": [
       "\u001b[1;36m[\u001b[0m\u001b[1;36m+\u001b[0m\u001b[1;36m]\u001b[0m\u001b[1;36m Getting repo: \u001b[0m\u001b[1;4;36mhttps://github.com/samuelmaddock/metastream\u001b[0m\n"
      ]
     },
     "metadata": {},
     "output_type": "display_data"
    },
    {
     "data": {
      "text/html": [
       "<pre style=\"white-space:pre;overflow-x:auto;line-height:normal;font-family:Menlo,'DejaVu Sans Mono',consolas,'Courier New',monospace\"><span style=\"color: #008080; text-decoration-color: #008080; font-weight: bold\">[+] Successfully retrieved repo: </span><span style=\"color: #008080; text-decoration-color: #008080; font-weight: bold; text-decoration: underline\">https://github.com/samuelmaddock/metastream</span>\n",
       "</pre>\n"
      ],
      "text/plain": [
       "\u001b[1;36m[\u001b[0m\u001b[1;36m+\u001b[0m\u001b[1;36m]\u001b[0m\u001b[1;36m Successfully retrieved repo: \u001b[0m\u001b[1;4;36mhttps://github.com/samuelmaddock/metastream\u001b[0m\n"
      ]
     },
     "metadata": {},
     "output_type": "display_data"
    },
    {
     "data": {
      "text/html": [
       "<pre style=\"white-space:pre;overflow-x:auto;line-height:normal;font-family:Menlo,'DejaVu Sans Mono',consolas,'Courier New',monospace\"><span style=\"color: #008080; text-decoration-color: #008080; font-weight: bold\">[+] Found package.json at </span><span style=\"color: #008080; text-decoration-color: #008080; font-weight: bold; text-decoration: underline\">https://github.com/samuelmaddock/metastream</span>\n",
       "</pre>\n"
      ],
      "text/plain": [
       "\u001b[1;36m[\u001b[0m\u001b[1;36m+\u001b[0m\u001b[1;36m]\u001b[0m\u001b[1;36m Found package.json at \u001b[0m\u001b[1;4;36mhttps://github.com/samuelmaddock/metastream\u001b[0m\n"
      ]
     },
     "metadata": {},
     "output_type": "display_data"
    },
    {
     "data": {
      "text/html": [
       "<pre style=\"white-space:pre;overflow-x:auto;line-height:normal;font-family:Menlo,'DejaVu Sans Mono',consolas,'Courier New',monospace\"><span style=\"color: #008080; text-decoration-color: #008080; font-weight: bold\">[+] Getting </span><span style=\"color: #008080; text-decoration-color: #008080; font-weight: bold; text-decoration: underline\">https://github.com/samuelmaddock/metastream/blob/master/package.json</span>\n",
       "</pre>\n"
      ],
      "text/plain": [
       "\u001b[1;36m[\u001b[0m\u001b[1;36m+\u001b[0m\u001b[1;36m]\u001b[0m\u001b[1;36m Getting \u001b[0m\u001b[1;4;36mhttps://github.com/samuelmaddock/metastream/blob/master/package.json\u001b[0m\n"
      ]
     },
     "metadata": {},
     "output_type": "display_data"
    },
    {
     "data": {
      "text/html": [
       "<pre style=\"white-space:pre;overflow-x:auto;line-height:normal;font-family:Menlo,'DejaVu Sans Mono',consolas,'Courier New',monospace\"><span style=\"color: #008080; text-decoration-color: #008080; font-weight: bold\">[+] Getting repo: </span><span style=\"color: #008080; text-decoration-color: #008080; font-weight: bold; text-decoration: underline\">https://github.com/autonomoussoftware/metronome-wallet-desktop</span>\n",
       "</pre>\n"
      ],
      "text/plain": [
       "\u001b[1;36m[\u001b[0m\u001b[1;36m+\u001b[0m\u001b[1;36m]\u001b[0m\u001b[1;36m Getting repo: \u001b[0m\u001b[1;4;36mhttps://github.com/autonomoussoftware/metronome-wallet-desktop\u001b[0m\n"
      ]
     },
     "metadata": {},
     "output_type": "display_data"
    },
    {
     "data": {
      "text/html": [
       "<pre style=\"white-space:pre;overflow-x:auto;line-height:normal;font-family:Menlo,'DejaVu Sans Mono',consolas,'Courier New',monospace\"><span style=\"color: #008080; text-decoration-color: #008080; font-weight: bold\">[+] Successfully retrieved repo: </span><span style=\"color: #008080; text-decoration-color: #008080; font-weight: bold; text-decoration: underline\">https://github.com/autonomoussoftware/metronome-wallet-desktop</span>\n",
       "</pre>\n"
      ],
      "text/plain": [
       "\u001b[1;36m[\u001b[0m\u001b[1;36m+\u001b[0m\u001b[1;36m]\u001b[0m\u001b[1;36m Successfully retrieved repo: \u001b[0m\u001b[1;4;36mhttps://github.com/autonomoussoftware/metronome-wallet-desktop\u001b[0m\n"
      ]
     },
     "metadata": {},
     "output_type": "display_data"
    },
    {
     "data": {
      "text/html": [
       "<pre style=\"white-space:pre;overflow-x:auto;line-height:normal;font-family:Menlo,'DejaVu Sans Mono',consolas,'Courier New',monospace\"><span style=\"color: #008080; text-decoration-color: #008080; font-weight: bold\">[+] Found package.json at </span><span style=\"color: #008080; text-decoration-color: #008080; font-weight: bold; text-decoration: underline\">https://github.com/autonomoussoftware/metronome-wallet-desktop</span>\n",
       "</pre>\n"
      ],
      "text/plain": [
       "\u001b[1;36m[\u001b[0m\u001b[1;36m+\u001b[0m\u001b[1;36m]\u001b[0m\u001b[1;36m Found package.json at \u001b[0m\u001b[1;4;36mhttps://github.com/autonomoussoftware/metronome-wallet-desktop\u001b[0m\n"
      ]
     },
     "metadata": {},
     "output_type": "display_data"
    },
    {
     "data": {
      "text/html": [
       "<pre style=\"white-space:pre;overflow-x:auto;line-height:normal;font-family:Menlo,'DejaVu Sans Mono',consolas,'Courier New',monospace\"><span style=\"color: #008080; text-decoration-color: #008080; font-weight: bold\">[+] Getting </span><span style=\"color: #008080; text-decoration-color: #008080; font-weight: bold; text-decoration: underline\">https://github.com/autonomoussoftware/metronome-wallet-desktop/blob/develop/package.json</span>\n",
       "</pre>\n"
      ],
      "text/plain": [
       "\u001b[1;36m[\u001b[0m\u001b[1;36m+\u001b[0m\u001b[1;36m]\u001b[0m\u001b[1;36m Getting \u001b[0m\u001b[1;4;36mhttps://github.com/autonomoussoftware/metronome-wallet-desktop/blob/develop/package.json\u001b[0m\n"
      ]
     },
     "metadata": {},
     "output_type": "display_data"
    },
    {
     "data": {
      "text/html": [
       "<pre style=\"white-space:pre;overflow-x:auto;line-height:normal;font-family:Menlo,'DejaVu Sans Mono',consolas,'Courier New',monospace\"><span style=\"color: #008080; text-decoration-color: #008080; font-weight: bold\">[+] Getting repo: </span><span style=\"color: #008080; text-decoration-color: #008080; font-weight: bold; text-decoration: underline\">https://github.com/minbrowser/min</span>\n",
       "</pre>\n"
      ],
      "text/plain": [
       "\u001b[1;36m[\u001b[0m\u001b[1;36m+\u001b[0m\u001b[1;36m]\u001b[0m\u001b[1;36m Getting repo: \u001b[0m\u001b[1;4;36mhttps://github.com/minbrowser/min\u001b[0m\n"
      ]
     },
     "metadata": {},
     "output_type": "display_data"
    },
    {
     "data": {
      "text/html": [
       "<pre style=\"white-space:pre;overflow-x:auto;line-height:normal;font-family:Menlo,'DejaVu Sans Mono',consolas,'Courier New',monospace\"><span style=\"color: #008080; text-decoration-color: #008080; font-weight: bold\">[+] Successfully retrieved repo: </span><span style=\"color: #008080; text-decoration-color: #008080; font-weight: bold; text-decoration: underline\">https://github.com/minbrowser/min</span>\n",
       "</pre>\n"
      ],
      "text/plain": [
       "\u001b[1;36m[\u001b[0m\u001b[1;36m+\u001b[0m\u001b[1;36m]\u001b[0m\u001b[1;36m Successfully retrieved repo: \u001b[0m\u001b[1;4;36mhttps://github.com/minbrowser/min\u001b[0m\n"
      ]
     },
     "metadata": {},
     "output_type": "display_data"
    },
    {
     "data": {
      "text/html": [
       "<pre style=\"white-space:pre;overflow-x:auto;line-height:normal;font-family:Menlo,'DejaVu Sans Mono',consolas,'Courier New',monospace\"><span style=\"color: #008080; text-decoration-color: #008080; font-weight: bold\">[+] Found package.json at </span><span style=\"color: #008080; text-decoration-color: #008080; font-weight: bold; text-decoration: underline\">https://github.com/minbrowser/min</span>\n",
       "</pre>\n"
      ],
      "text/plain": [
       "\u001b[1;36m[\u001b[0m\u001b[1;36m+\u001b[0m\u001b[1;36m]\u001b[0m\u001b[1;36m Found package.json at \u001b[0m\u001b[1;4;36mhttps://github.com/minbrowser/min\u001b[0m\n"
      ]
     },
     "metadata": {},
     "output_type": "display_data"
    },
    {
     "data": {
      "text/html": [
       "<pre style=\"white-space:pre;overflow-x:auto;line-height:normal;font-family:Menlo,'DejaVu Sans Mono',consolas,'Courier New',monospace\"><span style=\"color: #008080; text-decoration-color: #008080; font-weight: bold\">[+] Getting </span><span style=\"color: #008080; text-decoration-color: #008080; font-weight: bold; text-decoration: underline\">https://github.com/minbrowser/min/blob/master/package.json</span>\n",
       "</pre>\n"
      ],
      "text/plain": [
       "\u001b[1;36m[\u001b[0m\u001b[1;36m+\u001b[0m\u001b[1;36m]\u001b[0m\u001b[1;36m Getting \u001b[0m\u001b[1;4;36mhttps://github.com/minbrowser/min/blob/master/package.json\u001b[0m\n"
      ]
     },
     "metadata": {},
     "output_type": "display_data"
    },
    {
     "data": {
      "text/html": [
       "<pre style=\"white-space:pre;overflow-x:auto;line-height:normal;font-family:Menlo,'DejaVu Sans Mono',consolas,'Courier New',monospace\"><span style=\"color: #008080; text-decoration-color: #008080; font-weight: bold\">[+] Getting repo: </span><span style=\"color: #008080; text-decoration-color: #008080; font-weight: bold; text-decoration: underline\">https://github.com/Mindmapp/mindmapp</span>\n",
       "</pre>\n"
      ],
      "text/plain": [
       "\u001b[1;36m[\u001b[0m\u001b[1;36m+\u001b[0m\u001b[1;36m]\u001b[0m\u001b[1;36m Getting repo: \u001b[0m\u001b[1;4;36mhttps://github.com/Mindmapp/mindmapp\u001b[0m\n"
      ]
     },
     "metadata": {},
     "output_type": "display_data"
    },
    {
     "data": {
      "text/html": [
       "<pre style=\"white-space:pre;overflow-x:auto;line-height:normal;font-family:Menlo,'DejaVu Sans Mono',consolas,'Courier New',monospace\"><span style=\"color: #008080; text-decoration-color: #008080; font-weight: bold\">[+] Successfully retrieved repo: </span><span style=\"color: #008080; text-decoration-color: #008080; font-weight: bold; text-decoration: underline\">https://github.com/Mindmapp/mindmapp</span>\n",
       "</pre>\n"
      ],
      "text/plain": [
       "\u001b[1;36m[\u001b[0m\u001b[1;36m+\u001b[0m\u001b[1;36m]\u001b[0m\u001b[1;36m Successfully retrieved repo: \u001b[0m\u001b[1;4;36mhttps://github.com/Mindmapp/mindmapp\u001b[0m\n"
      ]
     },
     "metadata": {},
     "output_type": "display_data"
    },
    {
     "data": {
      "text/html": [
       "<pre style=\"white-space:pre;overflow-x:auto;line-height:normal;font-family:Menlo,'DejaVu Sans Mono',consolas,'Courier New',monospace\"><span style=\"color: #008080; text-decoration-color: #008080; font-weight: bold\">[+] Found package.json at </span><span style=\"color: #008080; text-decoration-color: #008080; font-weight: bold; text-decoration: underline\">https://github.com/Mindmapp/mindmapp</span>\n",
       "</pre>\n"
      ],
      "text/plain": [
       "\u001b[1;36m[\u001b[0m\u001b[1;36m+\u001b[0m\u001b[1;36m]\u001b[0m\u001b[1;36m Found package.json at \u001b[0m\u001b[1;4;36mhttps://github.com/Mindmapp/mindmapp\u001b[0m\n"
      ]
     },
     "metadata": {},
     "output_type": "display_data"
    },
    {
     "data": {
      "text/html": [
       "<pre style=\"white-space:pre;overflow-x:auto;line-height:normal;font-family:Menlo,'DejaVu Sans Mono',consolas,'Courier New',monospace\"><span style=\"color: #008080; text-decoration-color: #008080; font-weight: bold\">[+] Getting </span><span style=\"color: #008080; text-decoration-color: #008080; font-weight: bold; text-decoration: underline\">https://github.com/cedoor/mindmapp/blob/master/package.json</span>\n",
       "</pre>\n"
      ],
      "text/plain": [
       "\u001b[1;36m[\u001b[0m\u001b[1;36m+\u001b[0m\u001b[1;36m]\u001b[0m\u001b[1;36m Getting \u001b[0m\u001b[1;4;36mhttps://github.com/cedoor/mindmapp/blob/master/package.json\u001b[0m\n"
      ]
     },
     "metadata": {},
     "output_type": "display_data"
    },
    {
     "data": {
      "text/html": [
       "<pre style=\"white-space:pre;overflow-x:auto;line-height:normal;font-family:Menlo,'DejaVu Sans Mono',consolas,'Courier New',monospace\"><span style=\"color: #008080; text-decoration-color: #008080; font-weight: bold\">[+] Getting repo: </span><span style=\"color: #008080; text-decoration-color: #008080; font-weight: bold; text-decoration: underline\">https://github.com/mingo-app/mingo</span>\n",
       "</pre>\n"
      ],
      "text/plain": [
       "\u001b[1;36m[\u001b[0m\u001b[1;36m+\u001b[0m\u001b[1;36m]\u001b[0m\u001b[1;36m Getting repo: \u001b[0m\u001b[1;4;36mhttps://github.com/mingo-app/mingo\u001b[0m\n"
      ]
     },
     "metadata": {},
     "output_type": "display_data"
    },
    {
     "data": {
      "text/html": [
       "<pre style=\"white-space:pre;overflow-x:auto;line-height:normal;font-family:Menlo,'DejaVu Sans Mono',consolas,'Courier New',monospace\"><span style=\"color: #008080; text-decoration-color: #008080; font-weight: bold\">[+] Successfully retrieved repo: </span><span style=\"color: #008080; text-decoration-color: #008080; font-weight: bold; text-decoration: underline\">https://github.com/mingo-app/mingo</span>\n",
       "</pre>\n"
      ],
      "text/plain": [
       "\u001b[1;36m[\u001b[0m\u001b[1;36m+\u001b[0m\u001b[1;36m]\u001b[0m\u001b[1;36m Successfully retrieved repo: \u001b[0m\u001b[1;4;36mhttps://github.com/mingo-app/mingo\u001b[0m\n"
      ]
     },
     "metadata": {},
     "output_type": "display_data"
    },
    {
     "data": {
      "text/html": [
       "<pre style=\"white-space:pre;overflow-x:auto;line-height:normal;font-family:Menlo,'DejaVu Sans Mono',consolas,'Courier New',monospace\"><span style=\"color: #ff5f00; text-decoration-color: #ff5f00; font-weight: bold\">[!] Package.json not found at root of </span><span style=\"color: #ff5f00; text-decoration-color: #ff5f00; font-weight: bold; text-decoration: underline\">https://github.com/mingo-app/mingo;</span><span style=\"color: #ff5f00; text-decoration-color: #ff5f00; font-weight: bold\"> trying directories</span>\n",
       "</pre>\n"
      ],
      "text/plain": [
       "\u001b[1;38;5;202m[\u001b[0m\u001b[1;38;5;202m!\u001b[0m\u001b[1;38;5;202m]\u001b[0m\u001b[1;38;5;202m Package.json not found at root of \u001b[0m\u001b[1;4;38;5;202mhttps://github.com/mingo-app/mingo;\u001b[0m\u001b[1;38;5;202m trying directories\u001b[0m\n"
      ]
     },
     "metadata": {},
     "output_type": "display_data"
    },
    {
     "data": {
      "text/html": [
       "<pre style=\"white-space:pre;overflow-x:auto;line-height:normal;font-family:Menlo,'DejaVu Sans Mono',consolas,'Courier New',monospace\"><span style=\"color: #008080; text-decoration-color: #008080; font-weight: bold\">[+] Trying </span><span style=\"color: #008080; text-decoration-color: #008080; font-weight: bold; text-decoration: underline\">https://github.com/mingo-app/mingo/tree/master/.github/ISSUE_TEMPLATE</span>\n",
       "</pre>\n"
      ],
      "text/plain": [
       "\u001b[1;36m[\u001b[0m\u001b[1;36m+\u001b[0m\u001b[1;36m]\u001b[0m\u001b[1;36m Trying \u001b[0m\u001b[1;4;36mhttps://github.com/mingo-app/mingo/tree/master/.github/ISSUE_TEMPLATE\u001b[0m\n"
      ]
     },
     "metadata": {},
     "output_type": "display_data"
    },
    {
     "data": {
      "text/html": [
       "<pre style=\"white-space:pre;overflow-x:auto;line-height:normal;font-family:Menlo,'DejaVu Sans Mono',consolas,'Courier New',monospace\"><span style=\"color: #800000; text-decoration-color: #800000; font-weight: bold\">[💀] Could not find package.json in first-level-subdirs</span>\n",
       "</pre>\n"
      ],
      "text/plain": [
       "\u001b[1;31m[\u001b[0m\u001b[1;31m💀\u001b[0m\u001b[1;31m]\u001b[0m\u001b[1;31m Could not find package.json in first-level-subdirs\u001b[0m\n"
      ]
     },
     "metadata": {},
     "output_type": "display_data"
    },
    {
     "data": {
      "text/html": [
       "<pre style=\"white-space:pre;overflow-x:auto;line-height:normal;font-family:Menlo,'DejaVu Sans Mono',consolas,'Courier New',monospace\"><span style=\"color: #008080; text-decoration-color: #008080; font-weight: bold\">[+] Getting repo: </span><span style=\"color: #008080; text-decoration-color: #008080; font-weight: bold; text-decoration: underline\">https://github.com/samuelmeuli/mini-diary</span>\n",
       "</pre>\n"
      ],
      "text/plain": [
       "\u001b[1;36m[\u001b[0m\u001b[1;36m+\u001b[0m\u001b[1;36m]\u001b[0m\u001b[1;36m Getting repo: \u001b[0m\u001b[1;4;36mhttps://github.com/samuelmeuli/mini-diary\u001b[0m\n"
      ]
     },
     "metadata": {},
     "output_type": "display_data"
    },
    {
     "data": {
      "text/html": [
       "<pre style=\"white-space:pre;overflow-x:auto;line-height:normal;font-family:Menlo,'DejaVu Sans Mono',consolas,'Courier New',monospace\"><span style=\"color: #008080; text-decoration-color: #008080; font-weight: bold\">[+] Successfully retrieved repo: </span><span style=\"color: #008080; text-decoration-color: #008080; font-weight: bold; text-decoration: underline\">https://github.com/samuelmeuli/mini-diary</span>\n",
       "</pre>\n"
      ],
      "text/plain": [
       "\u001b[1;36m[\u001b[0m\u001b[1;36m+\u001b[0m\u001b[1;36m]\u001b[0m\u001b[1;36m Successfully retrieved repo: \u001b[0m\u001b[1;4;36mhttps://github.com/samuelmeuli/mini-diary\u001b[0m\n"
      ]
     },
     "metadata": {},
     "output_type": "display_data"
    },
    {
     "data": {
      "text/html": [
       "<pre style=\"white-space:pre;overflow-x:auto;line-height:normal;font-family:Menlo,'DejaVu Sans Mono',consolas,'Courier New',monospace\"><span style=\"color: #008080; text-decoration-color: #008080; font-weight: bold\">[+] Found package.json at </span><span style=\"color: #008080; text-decoration-color: #008080; font-weight: bold; text-decoration: underline\">https://github.com/samuelmeuli/mini-diary</span>\n",
       "</pre>\n"
      ],
      "text/plain": [
       "\u001b[1;36m[\u001b[0m\u001b[1;36m+\u001b[0m\u001b[1;36m]\u001b[0m\u001b[1;36m Found package.json at \u001b[0m\u001b[1;4;36mhttps://github.com/samuelmeuli/mini-diary\u001b[0m\n"
      ]
     },
     "metadata": {},
     "output_type": "display_data"
    },
    {
     "data": {
      "text/html": [
       "<pre style=\"white-space:pre;overflow-x:auto;line-height:normal;font-family:Menlo,'DejaVu Sans Mono',consolas,'Courier New',monospace\"><span style=\"color: #008080; text-decoration-color: #008080; font-weight: bold\">[+] Getting </span><span style=\"color: #008080; text-decoration-color: #008080; font-weight: bold; text-decoration: underline\">https://github.com/samuelmeuli/mini-diary/blob/master/package.json</span>\n",
       "</pre>\n"
      ],
      "text/plain": [
       "\u001b[1;36m[\u001b[0m\u001b[1;36m+\u001b[0m\u001b[1;36m]\u001b[0m\u001b[1;36m Getting \u001b[0m\u001b[1;4;36mhttps://github.com/samuelmeuli/mini-diary/blob/master/package.json\u001b[0m\n"
      ]
     },
     "metadata": {},
     "output_type": "display_data"
    },
    {
     "data": {
      "text/html": [
       "<pre style=\"white-space:pre;overflow-x:auto;line-height:normal;font-family:Menlo,'DejaVu Sans Mono',consolas,'Courier New',monospace\"><span style=\"color: #008080; text-decoration-color: #008080; font-weight: bold\">[+] Getting repo: </span><span style=\"color: #008080; text-decoration-color: #008080; font-weight: bold; text-decoration: underline\">https://github.com/mjmlio/mjml-app</span>\n",
       "</pre>\n"
      ],
      "text/plain": [
       "\u001b[1;36m[\u001b[0m\u001b[1;36m+\u001b[0m\u001b[1;36m]\u001b[0m\u001b[1;36m Getting repo: \u001b[0m\u001b[1;4;36mhttps://github.com/mjmlio/mjml-app\u001b[0m\n"
      ]
     },
     "metadata": {},
     "output_type": "display_data"
    },
    {
     "data": {
      "text/html": [
       "<pre style=\"white-space:pre;overflow-x:auto;line-height:normal;font-family:Menlo,'DejaVu Sans Mono',consolas,'Courier New',monospace\"><span style=\"color: #008080; text-decoration-color: #008080; font-weight: bold\">[+] Successfully retrieved repo: </span><span style=\"color: #008080; text-decoration-color: #008080; font-weight: bold; text-decoration: underline\">https://github.com/mjmlio/mjml-app</span>\n",
       "</pre>\n"
      ],
      "text/plain": [
       "\u001b[1;36m[\u001b[0m\u001b[1;36m+\u001b[0m\u001b[1;36m]\u001b[0m\u001b[1;36m Successfully retrieved repo: \u001b[0m\u001b[1;4;36mhttps://github.com/mjmlio/mjml-app\u001b[0m\n"
      ]
     },
     "metadata": {},
     "output_type": "display_data"
    },
    {
     "data": {
      "text/html": [
       "<pre style=\"white-space:pre;overflow-x:auto;line-height:normal;font-family:Menlo,'DejaVu Sans Mono',consolas,'Courier New',monospace\"><span style=\"color: #008080; text-decoration-color: #008080; font-weight: bold\">[+] Found package.json at </span><span style=\"color: #008080; text-decoration-color: #008080; font-weight: bold; text-decoration: underline\">https://github.com/mjmlio/mjml-app</span>\n",
       "</pre>\n"
      ],
      "text/plain": [
       "\u001b[1;36m[\u001b[0m\u001b[1;36m+\u001b[0m\u001b[1;36m]\u001b[0m\u001b[1;36m Found package.json at \u001b[0m\u001b[1;4;36mhttps://github.com/mjmlio/mjml-app\u001b[0m\n"
      ]
     },
     "metadata": {},
     "output_type": "display_data"
    },
    {
     "data": {
      "text/html": [
       "<pre style=\"white-space:pre;overflow-x:auto;line-height:normal;font-family:Menlo,'DejaVu Sans Mono',consolas,'Courier New',monospace\"><span style=\"color: #008080; text-decoration-color: #008080; font-weight: bold\">[+] Getting </span><span style=\"color: #008080; text-decoration-color: #008080; font-weight: bold; text-decoration: underline\">https://github.com/mjmlio/mjml-app/blob/master/package.json</span>\n",
       "</pre>\n"
      ],
      "text/plain": [
       "\u001b[1;36m[\u001b[0m\u001b[1;36m+\u001b[0m\u001b[1;36m]\u001b[0m\u001b[1;36m Getting \u001b[0m\u001b[1;4;36mhttps://github.com/mjmlio/mjml-app/blob/master/package.json\u001b[0m\n"
      ]
     },
     "metadata": {},
     "output_type": "display_data"
    },
    {
     "data": {
      "text/html": [
       "<pre style=\"white-space:pre;overflow-x:auto;line-height:normal;font-family:Menlo,'DejaVu Sans Mono',consolas,'Courier New',monospace\"><span style=\"color: #008080; text-decoration-color: #008080; font-weight: bold\">[+] Getting repo: </span><span style=\"color: #008080; text-decoration-color: #008080; font-weight: bold; text-decoration: underline\">https://github.com/Mobirise/Mobirise</span>\n",
       "</pre>\n"
      ],
      "text/plain": [
       "\u001b[1;36m[\u001b[0m\u001b[1;36m+\u001b[0m\u001b[1;36m]\u001b[0m\u001b[1;36m Getting repo: \u001b[0m\u001b[1;4;36mhttps://github.com/Mobirise/Mobirise\u001b[0m\n"
      ]
     },
     "metadata": {},
     "output_type": "display_data"
    },
    {
     "data": {
      "text/html": [
       "<pre style=\"white-space:pre;overflow-x:auto;line-height:normal;font-family:Menlo,'DejaVu Sans Mono',consolas,'Courier New',monospace\"><span style=\"color: #008080; text-decoration-color: #008080; font-weight: bold\">[+] Successfully retrieved repo: </span><span style=\"color: #008080; text-decoration-color: #008080; font-weight: bold; text-decoration: underline\">https://github.com/Mobirise/Mobirise</span>\n",
       "</pre>\n"
      ],
      "text/plain": [
       "\u001b[1;36m[\u001b[0m\u001b[1;36m+\u001b[0m\u001b[1;36m]\u001b[0m\u001b[1;36m Successfully retrieved repo: \u001b[0m\u001b[1;4;36mhttps://github.com/Mobirise/Mobirise\u001b[0m\n"
      ]
     },
     "metadata": {},
     "output_type": "display_data"
    },
    {
     "data": {
      "text/html": [
       "<pre style=\"white-space:pre;overflow-x:auto;line-height:normal;font-family:Menlo,'DejaVu Sans Mono',consolas,'Courier New',monospace\"><span style=\"color: #ff5f00; text-decoration-color: #ff5f00; font-weight: bold\">[!] Package.json not found at root of </span><span style=\"color: #ff5f00; text-decoration-color: #ff5f00; font-weight: bold; text-decoration: underline\">https://github.com/Mobirise/Mobirise;</span><span style=\"color: #ff5f00; text-decoration-color: #ff5f00; font-weight: bold\"> trying directories</span>\n",
       "</pre>\n"
      ],
      "text/plain": [
       "\u001b[1;38;5;202m[\u001b[0m\u001b[1;38;5;202m!\u001b[0m\u001b[1;38;5;202m]\u001b[0m\u001b[1;38;5;202m Package.json not found at root of \u001b[0m\u001b[1;4;38;5;202mhttps://github.com/Mobirise/Mobirise;\u001b[0m\u001b[1;38;5;202m trying directories\u001b[0m\n"
      ]
     },
     "metadata": {},
     "output_type": "display_data"
    },
    {
     "data": {
      "text/html": [
       "<pre style=\"white-space:pre;overflow-x:auto;line-height:normal;font-family:Menlo,'DejaVu Sans Mono',consolas,'Courier New',monospace\"><span style=\"color: #008080; text-decoration-color: #008080; font-weight: bold\">[+] Trying </span><span style=\"color: #008080; text-decoration-color: #008080; font-weight: bold; text-decoration: underline\">https://github.com/Mobirise/Mobirise/tree/master/bootstrap-templates</span>\n",
       "</pre>\n"
      ],
      "text/plain": [
       "\u001b[1;36m[\u001b[0m\u001b[1;36m+\u001b[0m\u001b[1;36m]\u001b[0m\u001b[1;36m Trying \u001b[0m\u001b[1;4;36mhttps://github.com/Mobirise/Mobirise/tree/master/bootstrap-templates\u001b[0m\n"
      ]
     },
     "metadata": {},
     "output_type": "display_data"
    },
    {
     "data": {
      "text/html": [
       "<pre style=\"white-space:pre;overflow-x:auto;line-height:normal;font-family:Menlo,'DejaVu Sans Mono',consolas,'Courier New',monospace\"><span style=\"color: #800000; text-decoration-color: #800000; font-weight: bold\">[💀] Could not find package.json in first-level-subdirs</span>\n",
       "</pre>\n"
      ],
      "text/plain": [
       "\u001b[1;31m[\u001b[0m\u001b[1;31m💀\u001b[0m\u001b[1;31m]\u001b[0m\u001b[1;31m Could not find package.json in first-level-subdirs\u001b[0m\n"
      ]
     },
     "metadata": {},
     "output_type": "display_data"
    },
    {
     "data": {
      "text/html": [
       "<pre style=\"white-space:pre;overflow-x:auto;line-height:normal;font-family:Menlo,'DejaVu Sans Mono',consolas,'Courier New',monospace\"><span style=\"color: #008080; text-decoration-color: #008080; font-weight: bold\">[+] Getting repo: </span><span style=\"color: #008080; text-decoration-color: #008080; font-weight: bold; text-decoration: underline\">https://github.com/255kb/mockoon</span>\n",
       "</pre>\n"
      ],
      "text/plain": [
       "\u001b[1;36m[\u001b[0m\u001b[1;36m+\u001b[0m\u001b[1;36m]\u001b[0m\u001b[1;36m Getting repo: \u001b[0m\u001b[1;4;36mhttps://github.com/255kb/mockoon\u001b[0m\n"
      ]
     },
     "metadata": {},
     "output_type": "display_data"
    },
    {
     "data": {
      "text/html": [
       "<pre style=\"white-space:pre;overflow-x:auto;line-height:normal;font-family:Menlo,'DejaVu Sans Mono',consolas,'Courier New',monospace\"><span style=\"color: #008080; text-decoration-color: #008080; font-weight: bold\">[+] Successfully retrieved repo: </span><span style=\"color: #008080; text-decoration-color: #008080; font-weight: bold; text-decoration: underline\">https://github.com/255kb/mockoon</span>\n",
       "</pre>\n"
      ],
      "text/plain": [
       "\u001b[1;36m[\u001b[0m\u001b[1;36m+\u001b[0m\u001b[1;36m]\u001b[0m\u001b[1;36m Successfully retrieved repo: \u001b[0m\u001b[1;4;36mhttps://github.com/255kb/mockoon\u001b[0m\n"
      ]
     },
     "metadata": {},
     "output_type": "display_data"
    },
    {
     "data": {
      "text/html": [
       "<pre style=\"white-space:pre;overflow-x:auto;line-height:normal;font-family:Menlo,'DejaVu Sans Mono',consolas,'Courier New',monospace\"><span style=\"color: #008080; text-decoration-color: #008080; font-weight: bold\">[+] Found package.json at </span><span style=\"color: #008080; text-decoration-color: #008080; font-weight: bold; text-decoration: underline\">https://github.com/255kb/mockoon</span>\n",
       "</pre>\n"
      ],
      "text/plain": [
       "\u001b[1;36m[\u001b[0m\u001b[1;36m+\u001b[0m\u001b[1;36m]\u001b[0m\u001b[1;36m Found package.json at \u001b[0m\u001b[1;4;36mhttps://github.com/255kb/mockoon\u001b[0m\n"
      ]
     },
     "metadata": {},
     "output_type": "display_data"
    },
    {
     "data": {
      "text/html": [
       "<pre style=\"white-space:pre;overflow-x:auto;line-height:normal;font-family:Menlo,'DejaVu Sans Mono',consolas,'Courier New',monospace\"><span style=\"color: #008080; text-decoration-color: #008080; font-weight: bold\">[+] Getting </span><span style=\"color: #008080; text-decoration-color: #008080; font-weight: bold; text-decoration: underline\">https://github.com/mockoon/mockoon/blob/main/package.json</span>\n",
       "</pre>\n"
      ],
      "text/plain": [
       "\u001b[1;36m[\u001b[0m\u001b[1;36m+\u001b[0m\u001b[1;36m]\u001b[0m\u001b[1;36m Getting \u001b[0m\u001b[1;4;36mhttps://github.com/mockoon/mockoon/blob/main/package.json\u001b[0m\n"
      ]
     },
     "metadata": {},
     "output_type": "display_data"
    },
    {
     "data": {
      "text/html": [
       "<pre style=\"white-space:pre;overflow-x:auto;line-height:normal;font-family:Menlo,'DejaVu Sans Mono',consolas,'Courier New',monospace\"><span style=\"color: #008080; text-decoration-color: #008080; font-weight: bold\">[+] Getting repo: </span><span style=\"color: #008080; text-decoration-color: #008080; font-weight: bold; text-decoration: underline\">https://github.com/dangeredwolf/ModernDeck</span>\n",
       "</pre>\n"
      ],
      "text/plain": [
       "\u001b[1;36m[\u001b[0m\u001b[1;36m+\u001b[0m\u001b[1;36m]\u001b[0m\u001b[1;36m Getting repo: \u001b[0m\u001b[1;4;36mhttps://github.com/dangeredwolf/ModernDeck\u001b[0m\n"
      ]
     },
     "metadata": {},
     "output_type": "display_data"
    },
    {
     "data": {
      "text/html": [
       "<pre style=\"white-space:pre;overflow-x:auto;line-height:normal;font-family:Menlo,'DejaVu Sans Mono',consolas,'Courier New',monospace\"><span style=\"color: #008080; text-decoration-color: #008080; font-weight: bold\">[+] Successfully retrieved repo: </span><span style=\"color: #008080; text-decoration-color: #008080; font-weight: bold; text-decoration: underline\">https://github.com/dangeredwolf/ModernDeck</span>\n",
       "</pre>\n"
      ],
      "text/plain": [
       "\u001b[1;36m[\u001b[0m\u001b[1;36m+\u001b[0m\u001b[1;36m]\u001b[0m\u001b[1;36m Successfully retrieved repo: \u001b[0m\u001b[1;4;36mhttps://github.com/dangeredwolf/ModernDeck\u001b[0m\n"
      ]
     },
     "metadata": {},
     "output_type": "display_data"
    },
    {
     "data": {
      "text/html": [
       "<pre style=\"white-space:pre;overflow-x:auto;line-height:normal;font-family:Menlo,'DejaVu Sans Mono',consolas,'Courier New',monospace\"><span style=\"color: #008080; text-decoration-color: #008080; font-weight: bold\">[+] Found package.json at </span><span style=\"color: #008080; text-decoration-color: #008080; font-weight: bold; text-decoration: underline\">https://github.com/dangeredwolf/ModernDeck</span>\n",
       "</pre>\n"
      ],
      "text/plain": [
       "\u001b[1;36m[\u001b[0m\u001b[1;36m+\u001b[0m\u001b[1;36m]\u001b[0m\u001b[1;36m Found package.json at \u001b[0m\u001b[1;4;36mhttps://github.com/dangeredwolf/ModernDeck\u001b[0m\n"
      ]
     },
     "metadata": {},
     "output_type": "display_data"
    },
    {
     "data": {
      "text/html": [
       "<pre style=\"white-space:pre;overflow-x:auto;line-height:normal;font-family:Menlo,'DejaVu Sans Mono',consolas,'Courier New',monospace\"><span style=\"color: #008080; text-decoration-color: #008080; font-weight: bold\">[+] Getting </span><span style=\"color: #008080; text-decoration-color: #008080; font-weight: bold; text-decoration: underline\">https://github.com/dangeredwolf/ModernDeck/blob/master/package.json</span>\n",
       "</pre>\n"
      ],
      "text/plain": [
       "\u001b[1;36m[\u001b[0m\u001b[1;36m+\u001b[0m\u001b[1;36m]\u001b[0m\u001b[1;36m Getting \u001b[0m\u001b[1;4;36mhttps://github.com/dangeredwolf/ModernDeck/blob/master/package.json\u001b[0m\n"
      ]
     },
     "metadata": {},
     "output_type": "display_data"
    },
    {
     "data": {
      "text/html": [
       "<pre style=\"white-space:pre;overflow-x:auto;line-height:normal;font-family:Menlo,'DejaVu Sans Mono',consolas,'Courier New',monospace\"><span style=\"color: #008080; text-decoration-color: #008080; font-weight: bold\">[+] Getting repo: </span><span style=\"color: #008080; text-decoration-color: #008080; font-weight: bold; text-decoration: underline\">https://github.com/kubeshop/monokle</span>\n",
       "</pre>\n"
      ],
      "text/plain": [
       "\u001b[1;36m[\u001b[0m\u001b[1;36m+\u001b[0m\u001b[1;36m]\u001b[0m\u001b[1;36m Getting repo: \u001b[0m\u001b[1;4;36mhttps://github.com/kubeshop/monokle\u001b[0m\n"
      ]
     },
     "metadata": {},
     "output_type": "display_data"
    },
    {
     "data": {
      "text/html": [
       "<pre style=\"white-space:pre;overflow-x:auto;line-height:normal;font-family:Menlo,'DejaVu Sans Mono',consolas,'Courier New',monospace\"><span style=\"color: #008080; text-decoration-color: #008080; font-weight: bold\">[+] Successfully retrieved repo: </span><span style=\"color: #008080; text-decoration-color: #008080; font-weight: bold; text-decoration: underline\">https://github.com/kubeshop/monokle</span>\n",
       "</pre>\n"
      ],
      "text/plain": [
       "\u001b[1;36m[\u001b[0m\u001b[1;36m+\u001b[0m\u001b[1;36m]\u001b[0m\u001b[1;36m Successfully retrieved repo: \u001b[0m\u001b[1;4;36mhttps://github.com/kubeshop/monokle\u001b[0m\n"
      ]
     },
     "metadata": {},
     "output_type": "display_data"
    },
    {
     "data": {
      "text/html": [
       "<pre style=\"white-space:pre;overflow-x:auto;line-height:normal;font-family:Menlo,'DejaVu Sans Mono',consolas,'Courier New',monospace\"><span style=\"color: #008080; text-decoration-color: #008080; font-weight: bold\">[+] Found package.json at </span><span style=\"color: #008080; text-decoration-color: #008080; font-weight: bold; text-decoration: underline\">https://github.com/kubeshop/monokle</span>\n",
       "</pre>\n"
      ],
      "text/plain": [
       "\u001b[1;36m[\u001b[0m\u001b[1;36m+\u001b[0m\u001b[1;36m]\u001b[0m\u001b[1;36m Found package.json at \u001b[0m\u001b[1;4;36mhttps://github.com/kubeshop/monokle\u001b[0m\n"
      ]
     },
     "metadata": {},
     "output_type": "display_data"
    },
    {
     "data": {
      "text/html": [
       "<pre style=\"white-space:pre;overflow-x:auto;line-height:normal;font-family:Menlo,'DejaVu Sans Mono',consolas,'Courier New',monospace\"><span style=\"color: #008080; text-decoration-color: #008080; font-weight: bold\">[+] Getting </span><span style=\"color: #008080; text-decoration-color: #008080; font-weight: bold; text-decoration: underline\">https://github.com/kubeshop/monokle/blob/main/package.json</span>\n",
       "</pre>\n"
      ],
      "text/plain": [
       "\u001b[1;36m[\u001b[0m\u001b[1;36m+\u001b[0m\u001b[1;36m]\u001b[0m\u001b[1;36m Getting \u001b[0m\u001b[1;4;36mhttps://github.com/kubeshop/monokle/blob/main/package.json\u001b[0m\n"
      ]
     },
     "metadata": {},
     "output_type": "display_data"
    },
    {
     "data": {
      "text/html": [
       "<pre style=\"white-space:pre;overflow-x:auto;line-height:normal;font-family:Menlo,'DejaVu Sans Mono',consolas,'Courier New',monospace\"><span style=\"color: #008080; text-decoration-color: #008080; font-weight: bold\">[+] Getting repo: </span><span style=\"color: #008080; text-decoration-color: #008080; font-weight: bold; text-decoration: underline\">https://github.com/Haeri/MonolithCode2</span>\n",
       "</pre>\n"
      ],
      "text/plain": [
       "\u001b[1;36m[\u001b[0m\u001b[1;36m+\u001b[0m\u001b[1;36m]\u001b[0m\u001b[1;36m Getting repo: \u001b[0m\u001b[1;4;36mhttps://github.com/Haeri/MonolithCode2\u001b[0m\n"
      ]
     },
     "metadata": {},
     "output_type": "display_data"
    },
    {
     "data": {
      "text/html": [
       "<pre style=\"white-space:pre;overflow-x:auto;line-height:normal;font-family:Menlo,'DejaVu Sans Mono',consolas,'Courier New',monospace\"><span style=\"color: #008080; text-decoration-color: #008080; font-weight: bold\">[+] Successfully retrieved repo: </span><span style=\"color: #008080; text-decoration-color: #008080; font-weight: bold; text-decoration: underline\">https://github.com/Haeri/MonolithCode2</span>\n",
       "</pre>\n"
      ],
      "text/plain": [
       "\u001b[1;36m[\u001b[0m\u001b[1;36m+\u001b[0m\u001b[1;36m]\u001b[0m\u001b[1;36m Successfully retrieved repo: \u001b[0m\u001b[1;4;36mhttps://github.com/Haeri/MonolithCode2\u001b[0m\n"
      ]
     },
     "metadata": {},
     "output_type": "display_data"
    },
    {
     "data": {
      "text/html": [
       "<pre style=\"white-space:pre;overflow-x:auto;line-height:normal;font-family:Menlo,'DejaVu Sans Mono',consolas,'Courier New',monospace\"><span style=\"color: #008080; text-decoration-color: #008080; font-weight: bold\">[+] Found package.json at </span><span style=\"color: #008080; text-decoration-color: #008080; font-weight: bold; text-decoration: underline\">https://github.com/Haeri/MonolithCode2</span>\n",
       "</pre>\n"
      ],
      "text/plain": [
       "\u001b[1;36m[\u001b[0m\u001b[1;36m+\u001b[0m\u001b[1;36m]\u001b[0m\u001b[1;36m Found package.json at \u001b[0m\u001b[1;4;36mhttps://github.com/Haeri/MonolithCode2\u001b[0m\n"
      ]
     },
     "metadata": {},
     "output_type": "display_data"
    },
    {
     "data": {
      "text/html": [
       "<pre style=\"white-space:pre;overflow-x:auto;line-height:normal;font-family:Menlo,'DejaVu Sans Mono',consolas,'Courier New',monospace\"><span style=\"color: #008080; text-decoration-color: #008080; font-weight: bold\">[+] Getting </span><span style=\"color: #008080; text-decoration-color: #008080; font-weight: bold; text-decoration: underline\">https://github.com/Haeri/monolith-code/blob/master/package.json</span>\n",
       "</pre>\n"
      ],
      "text/plain": [
       "\u001b[1;36m[\u001b[0m\u001b[1;36m+\u001b[0m\u001b[1;36m]\u001b[0m\u001b[1;36m Getting \u001b[0m\u001b[1;4;36mhttps://github.com/Haeri/monolith-code/blob/master/package.json\u001b[0m\n"
      ]
     },
     "metadata": {},
     "output_type": "display_data"
    },
    {
     "data": {
      "text/html": [
       "<pre style=\"white-space:pre;overflow-x:auto;line-height:normal;font-family:Menlo,'DejaVu Sans Mono',consolas,'Courier New',monospace\"><span style=\"color: #008080; text-decoration-color: #008080; font-weight: bold\">[+] Getting repo: </span><span style=\"color: #008080; text-decoration-color: #008080; font-weight: bold; text-decoration: underline\">https://github.com/Moosync/Moosync</span>\n",
       "</pre>\n"
      ],
      "text/plain": [
       "\u001b[1;36m[\u001b[0m\u001b[1;36m+\u001b[0m\u001b[1;36m]\u001b[0m\u001b[1;36m Getting repo: \u001b[0m\u001b[1;4;36mhttps://github.com/Moosync/Moosync\u001b[0m\n"
      ]
     },
     "metadata": {},
     "output_type": "display_data"
    },
    {
     "data": {
      "text/html": [
       "<pre style=\"white-space:pre;overflow-x:auto;line-height:normal;font-family:Menlo,'DejaVu Sans Mono',consolas,'Courier New',monospace\"><span style=\"color: #008080; text-decoration-color: #008080; font-weight: bold\">[+] Successfully retrieved repo: </span><span style=\"color: #008080; text-decoration-color: #008080; font-weight: bold; text-decoration: underline\">https://github.com/Moosync/Moosync</span>\n",
       "</pre>\n"
      ],
      "text/plain": [
       "\u001b[1;36m[\u001b[0m\u001b[1;36m+\u001b[0m\u001b[1;36m]\u001b[0m\u001b[1;36m Successfully retrieved repo: \u001b[0m\u001b[1;4;36mhttps://github.com/Moosync/Moosync\u001b[0m\n"
      ]
     },
     "metadata": {},
     "output_type": "display_data"
    },
    {
     "data": {
      "text/html": [
       "<pre style=\"white-space:pre;overflow-x:auto;line-height:normal;font-family:Menlo,'DejaVu Sans Mono',consolas,'Courier New',monospace\"><span style=\"color: #008080; text-decoration-color: #008080; font-weight: bold\">[+] Found package.json at </span><span style=\"color: #008080; text-decoration-color: #008080; font-weight: bold; text-decoration: underline\">https://github.com/Moosync/Moosync</span>\n",
       "</pre>\n"
      ],
      "text/plain": [
       "\u001b[1;36m[\u001b[0m\u001b[1;36m+\u001b[0m\u001b[1;36m]\u001b[0m\u001b[1;36m Found package.json at \u001b[0m\u001b[1;4;36mhttps://github.com/Moosync/Moosync\u001b[0m\n"
      ]
     },
     "metadata": {},
     "output_type": "display_data"
    },
    {
     "data": {
      "text/html": [
       "<pre style=\"white-space:pre;overflow-x:auto;line-height:normal;font-family:Menlo,'DejaVu Sans Mono',consolas,'Courier New',monospace\"><span style=\"color: #008080; text-decoration-color: #008080; font-weight: bold\">[+] Getting </span><span style=\"color: #008080; text-decoration-color: #008080; font-weight: bold; text-decoration: underline\">https://github.com/Moosync/Moosync/blob/main/package.json</span>\n",
       "</pre>\n"
      ],
      "text/plain": [
       "\u001b[1;36m[\u001b[0m\u001b[1;36m+\u001b[0m\u001b[1;36m]\u001b[0m\u001b[1;36m Getting \u001b[0m\u001b[1;4;36mhttps://github.com/Moosync/Moosync/blob/main/package.json\u001b[0m\n"
      ]
     },
     "metadata": {},
     "output_type": "display_data"
    },
    {
     "data": {
      "text/html": [
       "<pre style=\"white-space:pre;overflow-x:auto;line-height:normal;font-family:Menlo,'DejaVu Sans Mono',consolas,'Courier New',monospace\"><span style=\"color: #008080; text-decoration-color: #008080; font-weight: bold\">[+] Getting repo: </span><span style=\"color: #008080; text-decoration-color: #008080; font-weight: bold; text-decoration: underline\">https://github.com/agalwood/Motrix</span>\n",
       "</pre>\n"
      ],
      "text/plain": [
       "\u001b[1;36m[\u001b[0m\u001b[1;36m+\u001b[0m\u001b[1;36m]\u001b[0m\u001b[1;36m Getting repo: \u001b[0m\u001b[1;4;36mhttps://github.com/agalwood/Motrix\u001b[0m\n"
      ]
     },
     "metadata": {},
     "output_type": "display_data"
    },
    {
     "data": {
      "text/html": [
       "<pre style=\"white-space:pre;overflow-x:auto;line-height:normal;font-family:Menlo,'DejaVu Sans Mono',consolas,'Courier New',monospace\"><span style=\"color: #008080; text-decoration-color: #008080; font-weight: bold\">[+] Successfully retrieved repo: </span><span style=\"color: #008080; text-decoration-color: #008080; font-weight: bold; text-decoration: underline\">https://github.com/agalwood/Motrix</span>\n",
       "</pre>\n"
      ],
      "text/plain": [
       "\u001b[1;36m[\u001b[0m\u001b[1;36m+\u001b[0m\u001b[1;36m]\u001b[0m\u001b[1;36m Successfully retrieved repo: \u001b[0m\u001b[1;4;36mhttps://github.com/agalwood/Motrix\u001b[0m\n"
      ]
     },
     "metadata": {},
     "output_type": "display_data"
    },
    {
     "data": {
      "text/html": [
       "<pre style=\"white-space:pre;overflow-x:auto;line-height:normal;font-family:Menlo,'DejaVu Sans Mono',consolas,'Courier New',monospace\"><span style=\"color: #008080; text-decoration-color: #008080; font-weight: bold\">[+] Found package.json at </span><span style=\"color: #008080; text-decoration-color: #008080; font-weight: bold; text-decoration: underline\">https://github.com/agalwood/Motrix</span>\n",
       "</pre>\n"
      ],
      "text/plain": [
       "\u001b[1;36m[\u001b[0m\u001b[1;36m+\u001b[0m\u001b[1;36m]\u001b[0m\u001b[1;36m Found package.json at \u001b[0m\u001b[1;4;36mhttps://github.com/agalwood/Motrix\u001b[0m\n"
      ]
     },
     "metadata": {},
     "output_type": "display_data"
    },
    {
     "data": {
      "text/html": [
       "<pre style=\"white-space:pre;overflow-x:auto;line-height:normal;font-family:Menlo,'DejaVu Sans Mono',consolas,'Courier New',monospace\"><span style=\"color: #008080; text-decoration-color: #008080; font-weight: bold\">[+] Getting </span><span style=\"color: #008080; text-decoration-color: #008080; font-weight: bold; text-decoration: underline\">https://github.com/agalwood/Motrix/blob/master/package.json</span>\n",
       "</pre>\n"
      ],
      "text/plain": [
       "\u001b[1;36m[\u001b[0m\u001b[1;36m+\u001b[0m\u001b[1;36m]\u001b[0m\u001b[1;36m Getting \u001b[0m\u001b[1;4;36mhttps://github.com/agalwood/Motrix/blob/master/package.json\u001b[0m\n"
      ]
     },
     "metadata": {},
     "output_type": "display_data"
    },
    {
     "data": {
      "text/html": [
       "<pre style=\"white-space:pre;overflow-x:auto;line-height:normal;font-family:Menlo,'DejaVu Sans Mono',consolas,'Courier New',monospace\"><span style=\"color: #008080; text-decoration-color: #008080; font-weight: bold\">[+] Getting repo: </span><span style=\"color: #008080; text-decoration-color: #008080; font-weight: bold; text-decoration: underline\">https://github.com/fakob/MoviePrint_v004</span>\n",
       "</pre>\n"
      ],
      "text/plain": [
       "\u001b[1;36m[\u001b[0m\u001b[1;36m+\u001b[0m\u001b[1;36m]\u001b[0m\u001b[1;36m Getting repo: \u001b[0m\u001b[1;4;36mhttps://github.com/fakob/MoviePrint_v004\u001b[0m\n"
      ]
     },
     "metadata": {},
     "output_type": "display_data"
    },
    {
     "data": {
      "text/html": [
       "<pre style=\"white-space:pre;overflow-x:auto;line-height:normal;font-family:Menlo,'DejaVu Sans Mono',consolas,'Courier New',monospace\"><span style=\"color: #008080; text-decoration-color: #008080; font-weight: bold\">[+] Successfully retrieved repo: </span><span style=\"color: #008080; text-decoration-color: #008080; font-weight: bold; text-decoration: underline\">https://github.com/fakob/MoviePrint_v004</span>\n",
       "</pre>\n"
      ],
      "text/plain": [
       "\u001b[1;36m[\u001b[0m\u001b[1;36m+\u001b[0m\u001b[1;36m]\u001b[0m\u001b[1;36m Successfully retrieved repo: \u001b[0m\u001b[1;4;36mhttps://github.com/fakob/MoviePrint_v004\u001b[0m\n"
      ]
     },
     "metadata": {},
     "output_type": "display_data"
    },
    {
     "data": {
      "text/html": [
       "<pre style=\"white-space:pre;overflow-x:auto;line-height:normal;font-family:Menlo,'DejaVu Sans Mono',consolas,'Courier New',monospace\"><span style=\"color: #008080; text-decoration-color: #008080; font-weight: bold\">[+] Found package.json at </span><span style=\"color: #008080; text-decoration-color: #008080; font-weight: bold; text-decoration: underline\">https://github.com/fakob/MoviePrint_v004</span>\n",
       "</pre>\n"
      ],
      "text/plain": [
       "\u001b[1;36m[\u001b[0m\u001b[1;36m+\u001b[0m\u001b[1;36m]\u001b[0m\u001b[1;36m Found package.json at \u001b[0m\u001b[1;4;36mhttps://github.com/fakob/MoviePrint_v004\u001b[0m\n"
      ]
     },
     "metadata": {},
     "output_type": "display_data"
    },
    {
     "data": {
      "text/html": [
       "<pre style=\"white-space:pre;overflow-x:auto;line-height:normal;font-family:Menlo,'DejaVu Sans Mono',consolas,'Courier New',monospace\"><span style=\"color: #008080; text-decoration-color: #008080; font-weight: bold\">[+] Getting </span><span style=\"color: #008080; text-decoration-color: #008080; font-weight: bold; text-decoration: underline\">https://github.com/fakob/MoviePrint_v004/blob/master/package.json</span>\n",
       "</pre>\n"
      ],
      "text/plain": [
       "\u001b[1;36m[\u001b[0m\u001b[1;36m+\u001b[0m\u001b[1;36m]\u001b[0m\u001b[1;36m Getting \u001b[0m\u001b[1;4;36mhttps://github.com/fakob/MoviePrint_v004/blob/master/package.json\u001b[0m\n"
      ]
     },
     "metadata": {},
     "output_type": "display_data"
    },
    {
     "data": {
      "text/html": [
       "<pre style=\"white-space:pre;overflow-x:auto;line-height:normal;font-family:Menlo,'DejaVu Sans Mono',consolas,'Courier New',monospace\"><span style=\"color: #008080; text-decoration-color: #008080; font-weight: bold\">[+] Getting repo: </span><span style=\"color: #008080; text-decoration-color: #008080; font-weight: bold; text-decoration: underline\">https://github.com/scris/mrnoplay</span>\n",
       "</pre>\n"
      ],
      "text/plain": [
       "\u001b[1;36m[\u001b[0m\u001b[1;36m+\u001b[0m\u001b[1;36m]\u001b[0m\u001b[1;36m Getting repo: \u001b[0m\u001b[1;4;36mhttps://github.com/scris/mrnoplay\u001b[0m\n"
      ]
     },
     "metadata": {},
     "output_type": "display_data"
    },
    {
     "data": {
      "text/html": [
       "<pre style=\"white-space:pre;overflow-x:auto;line-height:normal;font-family:Menlo,'DejaVu Sans Mono',consolas,'Courier New',monospace\"><span style=\"color: #008080; text-decoration-color: #008080; font-weight: bold\">[+] Successfully retrieved repo: </span><span style=\"color: #008080; text-decoration-color: #008080; font-weight: bold; text-decoration: underline\">https://github.com/scris/mrnoplay</span>\n",
       "</pre>\n"
      ],
      "text/plain": [
       "\u001b[1;36m[\u001b[0m\u001b[1;36m+\u001b[0m\u001b[1;36m]\u001b[0m\u001b[1;36m Successfully retrieved repo: \u001b[0m\u001b[1;4;36mhttps://github.com/scris/mrnoplay\u001b[0m\n"
      ]
     },
     "metadata": {},
     "output_type": "display_data"
    },
    {
     "data": {
      "text/html": [
       "<pre style=\"white-space:pre;overflow-x:auto;line-height:normal;font-family:Menlo,'DejaVu Sans Mono',consolas,'Courier New',monospace\"><span style=\"color: #008080; text-decoration-color: #008080; font-weight: bold\">[+] Found package.json at </span><span style=\"color: #008080; text-decoration-color: #008080; font-weight: bold; text-decoration: underline\">https://github.com/scris/mrnoplay</span>\n",
       "</pre>\n"
      ],
      "text/plain": [
       "\u001b[1;36m[\u001b[0m\u001b[1;36m+\u001b[0m\u001b[1;36m]\u001b[0m\u001b[1;36m Found package.json at \u001b[0m\u001b[1;4;36mhttps://github.com/scris/mrnoplay\u001b[0m\n"
      ]
     },
     "metadata": {},
     "output_type": "display_data"
    },
    {
     "data": {
      "text/html": [
       "<pre style=\"white-space:pre;overflow-x:auto;line-height:normal;font-family:Menlo,'DejaVu Sans Mono',consolas,'Courier New',monospace\"><span style=\"color: #008080; text-decoration-color: #008080; font-weight: bold\">[+] Getting </span><span style=\"color: #008080; text-decoration-color: #008080; font-weight: bold; text-decoration: underline\">https://github.com/mrnoplay/mrnoplay/blob/master/package.json</span>\n",
       "</pre>\n"
      ],
      "text/plain": [
       "\u001b[1;36m[\u001b[0m\u001b[1;36m+\u001b[0m\u001b[1;36m]\u001b[0m\u001b[1;36m Getting \u001b[0m\u001b[1;4;36mhttps://github.com/mrnoplay/mrnoplay/blob/master/package.json\u001b[0m\n"
      ]
     },
     "metadata": {},
     "output_type": "display_data"
    },
    {
     "data": {
      "text/html": [
       "<pre style=\"white-space:pre;overflow-x:auto;line-height:normal;font-family:Menlo,'DejaVu Sans Mono',consolas,'Courier New',monospace\"><span style=\"color: #008080; text-decoration-color: #008080; font-weight: bold\">[+] Getting repo: </span><span style=\"color: #008080; text-decoration-color: #008080; font-weight: bold; text-decoration: underline\">https://github.com/IrosTheBeggar/mStream</span>\n",
       "</pre>\n"
      ],
      "text/plain": [
       "\u001b[1;36m[\u001b[0m\u001b[1;36m+\u001b[0m\u001b[1;36m]\u001b[0m\u001b[1;36m Getting repo: \u001b[0m\u001b[1;4;36mhttps://github.com/IrosTheBeggar/mStream\u001b[0m\n"
      ]
     },
     "metadata": {},
     "output_type": "display_data"
    },
    {
     "data": {
      "text/html": [
       "<pre style=\"white-space:pre;overflow-x:auto;line-height:normal;font-family:Menlo,'DejaVu Sans Mono',consolas,'Courier New',monospace\"><span style=\"color: #008080; text-decoration-color: #008080; font-weight: bold\">[+] Successfully retrieved repo: </span><span style=\"color: #008080; text-decoration-color: #008080; font-weight: bold; text-decoration: underline\">https://github.com/IrosTheBeggar/mStream</span>\n",
       "</pre>\n"
      ],
      "text/plain": [
       "\u001b[1;36m[\u001b[0m\u001b[1;36m+\u001b[0m\u001b[1;36m]\u001b[0m\u001b[1;36m Successfully retrieved repo: \u001b[0m\u001b[1;4;36mhttps://github.com/IrosTheBeggar/mStream\u001b[0m\n"
      ]
     },
     "metadata": {},
     "output_type": "display_data"
    },
    {
     "data": {
      "text/html": [
       "<pre style=\"white-space:pre;overflow-x:auto;line-height:normal;font-family:Menlo,'DejaVu Sans Mono',consolas,'Courier New',monospace\"><span style=\"color: #008080; text-decoration-color: #008080; font-weight: bold\">[+] Found package.json at </span><span style=\"color: #008080; text-decoration-color: #008080; font-weight: bold; text-decoration: underline\">https://github.com/IrosTheBeggar/mStream</span>\n",
       "</pre>\n"
      ],
      "text/plain": [
       "\u001b[1;36m[\u001b[0m\u001b[1;36m+\u001b[0m\u001b[1;36m]\u001b[0m\u001b[1;36m Found package.json at \u001b[0m\u001b[1;4;36mhttps://github.com/IrosTheBeggar/mStream\u001b[0m\n"
      ]
     },
     "metadata": {},
     "output_type": "display_data"
    },
    {
     "data": {
      "text/html": [
       "<pre style=\"white-space:pre;overflow-x:auto;line-height:normal;font-family:Menlo,'DejaVu Sans Mono',consolas,'Courier New',monospace\"><span style=\"color: #008080; text-decoration-color: #008080; font-weight: bold\">[+] Getting </span><span style=\"color: #008080; text-decoration-color: #008080; font-weight: bold; text-decoration: underline\">https://github.com/IrosTheBeggar/mStream/blob/master/package.json</span>\n",
       "</pre>\n"
      ],
      "text/plain": [
       "\u001b[1;36m[\u001b[0m\u001b[1;36m+\u001b[0m\u001b[1;36m]\u001b[0m\u001b[1;36m Getting \u001b[0m\u001b[1;4;36mhttps://github.com/IrosTheBeggar/mStream/blob/master/package.json\u001b[0m\n"
      ]
     },
     "metadata": {},
     "output_type": "display_data"
    },
    {
     "data": {
      "text/html": [
       "<pre style=\"white-space:pre;overflow-x:auto;line-height:normal;font-family:Menlo,'DejaVu Sans Mono',consolas,'Courier New',monospace\"><span style=\"color: #008080; text-decoration-color: #008080; font-weight: bold\">[+] Getting repo: </span><span style=\"color: #008080; text-decoration-color: #008080; font-weight: bold; text-decoration: underline\">https://github.com/martpie/museeks</span>\n",
       "</pre>\n"
      ],
      "text/plain": [
       "\u001b[1;36m[\u001b[0m\u001b[1;36m+\u001b[0m\u001b[1;36m]\u001b[0m\u001b[1;36m Getting repo: \u001b[0m\u001b[1;4;36mhttps://github.com/martpie/museeks\u001b[0m\n"
      ]
     },
     "metadata": {},
     "output_type": "display_data"
    },
    {
     "data": {
      "text/html": [
       "<pre style=\"white-space:pre;overflow-x:auto;line-height:normal;font-family:Menlo,'DejaVu Sans Mono',consolas,'Courier New',monospace\"><span style=\"color: #008080; text-decoration-color: #008080; font-weight: bold\">[+] Successfully retrieved repo: </span><span style=\"color: #008080; text-decoration-color: #008080; font-weight: bold; text-decoration: underline\">https://github.com/martpie/museeks</span>\n",
       "</pre>\n"
      ],
      "text/plain": [
       "\u001b[1;36m[\u001b[0m\u001b[1;36m+\u001b[0m\u001b[1;36m]\u001b[0m\u001b[1;36m Successfully retrieved repo: \u001b[0m\u001b[1;4;36mhttps://github.com/martpie/museeks\u001b[0m\n"
      ]
     },
     "metadata": {},
     "output_type": "display_data"
    },
    {
     "data": {
      "text/html": [
       "<pre style=\"white-space:pre;overflow-x:auto;line-height:normal;font-family:Menlo,'DejaVu Sans Mono',consolas,'Courier New',monospace\"><span style=\"color: #008080; text-decoration-color: #008080; font-weight: bold\">[+] Found package.json at </span><span style=\"color: #008080; text-decoration-color: #008080; font-weight: bold; text-decoration: underline\">https://github.com/martpie/museeks</span>\n",
       "</pre>\n"
      ],
      "text/plain": [
       "\u001b[1;36m[\u001b[0m\u001b[1;36m+\u001b[0m\u001b[1;36m]\u001b[0m\u001b[1;36m Found package.json at \u001b[0m\u001b[1;4;36mhttps://github.com/martpie/museeks\u001b[0m\n"
      ]
     },
     "metadata": {},
     "output_type": "display_data"
    },
    {
     "data": {
      "text/html": [
       "<pre style=\"white-space:pre;overflow-x:auto;line-height:normal;font-family:Menlo,'DejaVu Sans Mono',consolas,'Courier New',monospace\"><span style=\"color: #008080; text-decoration-color: #008080; font-weight: bold\">[+] Getting </span><span style=\"color: #008080; text-decoration-color: #008080; font-weight: bold; text-decoration: underline\">https://github.com/martpie/museeks/blob/master/package.json</span>\n",
       "</pre>\n"
      ],
      "text/plain": [
       "\u001b[1;36m[\u001b[0m\u001b[1;36m+\u001b[0m\u001b[1;36m]\u001b[0m\u001b[1;36m Getting \u001b[0m\u001b[1;4;36mhttps://github.com/martpie/museeks/blob/master/package.json\u001b[0m\n"
      ]
     },
     "metadata": {},
     "output_type": "display_data"
    },
    {
     "data": {
      "text/html": [
       "<pre style=\"white-space:pre;overflow-x:auto;line-height:normal;font-family:Menlo,'DejaVu Sans Mono',consolas,'Courier New',monospace\"><span style=\"color: #008080; text-decoration-color: #008080; font-weight: bold\">[+] Getting repo: </span><span style=\"color: #008080; text-decoration-color: #008080; font-weight: bold; text-decoration: underline\">https://github.com/Tenpi/Music-Player</span>\n",
       "</pre>\n"
      ],
      "text/plain": [
       "\u001b[1;36m[\u001b[0m\u001b[1;36m+\u001b[0m\u001b[1;36m]\u001b[0m\u001b[1;36m Getting repo: \u001b[0m\u001b[1;4;36mhttps://github.com/Tenpi/Music-Player\u001b[0m\n"
      ]
     },
     "metadata": {},
     "output_type": "display_data"
    },
    {
     "data": {
      "text/html": [
       "<pre style=\"white-space:pre;overflow-x:auto;line-height:normal;font-family:Menlo,'DejaVu Sans Mono',consolas,'Courier New',monospace\"><span style=\"color: #008080; text-decoration-color: #008080; font-weight: bold\">[+] Successfully retrieved repo: </span><span style=\"color: #008080; text-decoration-color: #008080; font-weight: bold; text-decoration: underline\">https://github.com/Tenpi/Music-Player</span>\n",
       "</pre>\n"
      ],
      "text/plain": [
       "\u001b[1;36m[\u001b[0m\u001b[1;36m+\u001b[0m\u001b[1;36m]\u001b[0m\u001b[1;36m Successfully retrieved repo: \u001b[0m\u001b[1;4;36mhttps://github.com/Tenpi/Music-Player\u001b[0m\n"
      ]
     },
     "metadata": {},
     "output_type": "display_data"
    },
    {
     "data": {
      "text/html": [
       "<pre style=\"white-space:pre;overflow-x:auto;line-height:normal;font-family:Menlo,'DejaVu Sans Mono',consolas,'Courier New',monospace\"><span style=\"color: #008080; text-decoration-color: #008080; font-weight: bold\">[+] Found package.json at </span><span style=\"color: #008080; text-decoration-color: #008080; font-weight: bold; text-decoration: underline\">https://github.com/Tenpi/Music-Player</span>\n",
       "</pre>\n"
      ],
      "text/plain": [
       "\u001b[1;36m[\u001b[0m\u001b[1;36m+\u001b[0m\u001b[1;36m]\u001b[0m\u001b[1;36m Found package.json at \u001b[0m\u001b[1;4;36mhttps://github.com/Tenpi/Music-Player\u001b[0m\n"
      ]
     },
     "metadata": {},
     "output_type": "display_data"
    },
    {
     "data": {
      "text/html": [
       "<pre style=\"white-space:pre;overflow-x:auto;line-height:normal;font-family:Menlo,'DejaVu Sans Mono',consolas,'Courier New',monospace\"><span style=\"color: #008080; text-decoration-color: #008080; font-weight: bold\">[+] Getting </span><span style=\"color: #008080; text-decoration-color: #008080; font-weight: bold; text-decoration: underline\">https://github.com/Tenpi/Music-Player/blob/master/package.json</span>\n",
       "</pre>\n"
      ],
      "text/plain": [
       "\u001b[1;36m[\u001b[0m\u001b[1;36m+\u001b[0m\u001b[1;36m]\u001b[0m\u001b[1;36m Getting \u001b[0m\u001b[1;4;36mhttps://github.com/Tenpi/Music-Player/blob/master/package.json\u001b[0m\n"
      ]
     },
     "metadata": {},
     "output_type": "display_data"
    },
    {
     "data": {
      "text/html": [
       "<pre style=\"white-space:pre;overflow-x:auto;line-height:normal;font-family:Menlo,'DejaVu Sans Mono',consolas,'Courier New',monospace\"><span style=\"color: #008080; text-decoration-color: #008080; font-weight: bold\">[+] Getting repo: </span><span style=\"color: #008080; text-decoration-color: #008080; font-weight: bold; text-decoration: underline\">https://github.com/Aveek-Saha/MusicPlayer</span>\n",
       "</pre>\n"
      ],
      "text/plain": [
       "\u001b[1;36m[\u001b[0m\u001b[1;36m+\u001b[0m\u001b[1;36m]\u001b[0m\u001b[1;36m Getting repo: \u001b[0m\u001b[1;4;36mhttps://github.com/Aveek-Saha/MusicPlayer\u001b[0m\n"
      ]
     },
     "metadata": {},
     "output_type": "display_data"
    },
    {
     "data": {
      "text/html": [
       "<pre style=\"white-space:pre;overflow-x:auto;line-height:normal;font-family:Menlo,'DejaVu Sans Mono',consolas,'Courier New',monospace\"><span style=\"color: #008080; text-decoration-color: #008080; font-weight: bold\">[+] Successfully retrieved repo: </span><span style=\"color: #008080; text-decoration-color: #008080; font-weight: bold; text-decoration: underline\">https://github.com/Aveek-Saha/MusicPlayer</span>\n",
       "</pre>\n"
      ],
      "text/plain": [
       "\u001b[1;36m[\u001b[0m\u001b[1;36m+\u001b[0m\u001b[1;36m]\u001b[0m\u001b[1;36m Successfully retrieved repo: \u001b[0m\u001b[1;4;36mhttps://github.com/Aveek-Saha/MusicPlayer\u001b[0m\n"
      ]
     },
     "metadata": {},
     "output_type": "display_data"
    },
    {
     "data": {
      "text/html": [
       "<pre style=\"white-space:pre;overflow-x:auto;line-height:normal;font-family:Menlo,'DejaVu Sans Mono',consolas,'Courier New',monospace\"><span style=\"color: #008080; text-decoration-color: #008080; font-weight: bold\">[+] Found package.json at </span><span style=\"color: #008080; text-decoration-color: #008080; font-weight: bold; text-decoration: underline\">https://github.com/Aveek-Saha/MusicPlayer</span>\n",
       "</pre>\n"
      ],
      "text/plain": [
       "\u001b[1;36m[\u001b[0m\u001b[1;36m+\u001b[0m\u001b[1;36m]\u001b[0m\u001b[1;36m Found package.json at \u001b[0m\u001b[1;4;36mhttps://github.com/Aveek-Saha/MusicPlayer\u001b[0m\n"
      ]
     },
     "metadata": {},
     "output_type": "display_data"
    },
    {
     "data": {
      "text/html": [
       "<pre style=\"white-space:pre;overflow-x:auto;line-height:normal;font-family:Menlo,'DejaVu Sans Mono',consolas,'Courier New',monospace\"><span style=\"color: #008080; text-decoration-color: #008080; font-weight: bold\">[+] Getting </span><span style=\"color: #008080; text-decoration-color: #008080; font-weight: bold; text-decoration: underline\">https://github.com/Aveek-Saha/DuskPlayer/blob/master/package.json</span>\n",
       "</pre>\n"
      ],
      "text/plain": [
       "\u001b[1;36m[\u001b[0m\u001b[1;36m+\u001b[0m\u001b[1;36m]\u001b[0m\u001b[1;36m Getting \u001b[0m\u001b[1;4;36mhttps://github.com/Aveek-Saha/DuskPlayer/blob/master/package.json\u001b[0m\n"
      ]
     },
     "metadata": {},
     "output_type": "display_data"
    },
    {
     "data": {
      "text/html": [
       "<pre style=\"white-space:pre;overflow-x:auto;line-height:normal;font-family:Menlo,'DejaVu Sans Mono',consolas,'Courier New',monospace\"><span style=\"color: #008080; text-decoration-color: #008080; font-weight: bold\">[+] Getting repo: </span><span style=\"color: #008080; text-decoration-color: #008080; font-weight: bold; text-decoration: underline\">https://github.com/SrGMC/musify</span>\n",
       "</pre>\n"
      ],
      "text/plain": [
       "\u001b[1;36m[\u001b[0m\u001b[1;36m+\u001b[0m\u001b[1;36m]\u001b[0m\u001b[1;36m Getting repo: \u001b[0m\u001b[1;4;36mhttps://github.com/SrGMC/musify\u001b[0m\n"
      ]
     },
     "metadata": {},
     "output_type": "display_data"
    },
    {
     "data": {
      "text/html": [
       "<pre style=\"white-space:pre;overflow-x:auto;line-height:normal;font-family:Menlo,'DejaVu Sans Mono',consolas,'Courier New',monospace\"><span style=\"color: #008080; text-decoration-color: #008080; font-weight: bold\">[+] Successfully retrieved repo: </span><span style=\"color: #008080; text-decoration-color: #008080; font-weight: bold; text-decoration: underline\">https://github.com/SrGMC/musify</span>\n",
       "</pre>\n"
      ],
      "text/plain": [
       "\u001b[1;36m[\u001b[0m\u001b[1;36m+\u001b[0m\u001b[1;36m]\u001b[0m\u001b[1;36m Successfully retrieved repo: \u001b[0m\u001b[1;4;36mhttps://github.com/SrGMC/musify\u001b[0m\n"
      ]
     },
     "metadata": {},
     "output_type": "display_data"
    },
    {
     "data": {
      "text/html": [
       "<pre style=\"white-space:pre;overflow-x:auto;line-height:normal;font-family:Menlo,'DejaVu Sans Mono',consolas,'Courier New',monospace\"><span style=\"color: #008080; text-decoration-color: #008080; font-weight: bold\">[+] Found package.json at </span><span style=\"color: #008080; text-decoration-color: #008080; font-weight: bold; text-decoration: underline\">https://github.com/SrGMC/musify</span>\n",
       "</pre>\n"
      ],
      "text/plain": [
       "\u001b[1;36m[\u001b[0m\u001b[1;36m+\u001b[0m\u001b[1;36m]\u001b[0m\u001b[1;36m Found package.json at \u001b[0m\u001b[1;4;36mhttps://github.com/SrGMC/musify\u001b[0m\n"
      ]
     },
     "metadata": {},
     "output_type": "display_data"
    },
    {
     "data": {
      "text/html": [
       "<pre style=\"white-space:pre;overflow-x:auto;line-height:normal;font-family:Menlo,'DejaVu Sans Mono',consolas,'Courier New',monospace\"><span style=\"color: #008080; text-decoration-color: #008080; font-weight: bold\">[+] Getting </span><span style=\"color: #008080; text-decoration-color: #008080; font-weight: bold; text-decoration: underline\">https://github.com/SrGMC/musify/blob/master/package.json</span>\n",
       "</pre>\n"
      ],
      "text/plain": [
       "\u001b[1;36m[\u001b[0m\u001b[1;36m+\u001b[0m\u001b[1;36m]\u001b[0m\u001b[1;36m Getting \u001b[0m\u001b[1;4;36mhttps://github.com/SrGMC/musify/blob/master/package.json\u001b[0m\n"
      ]
     },
     "metadata": {},
     "output_type": "display_data"
    },
    {
     "data": {
      "text/html": [
       "<pre style=\"white-space:pre;overflow-x:auto;line-height:normal;font-family:Menlo,'DejaVu Sans Mono',consolas,'Courier New',monospace\"><span style=\"color: #008080; text-decoration-color: #008080; font-weight: bold\">[+] Getting repo: </span><span style=\"color: #008080; text-decoration-color: #008080; font-weight: bold; text-decoration: underline\">https://gitee.com/gemron/myLottery</span>\n",
       "</pre>\n"
      ],
      "text/plain": [
       "\u001b[1;36m[\u001b[0m\u001b[1;36m+\u001b[0m\u001b[1;36m]\u001b[0m\u001b[1;36m Getting repo: \u001b[0m\u001b[1;4;36mhttps://gitee.com/gemron/myLottery\u001b[0m\n"
      ]
     },
     "metadata": {},
     "output_type": "display_data"
    },
    {
     "data": {
      "text/html": [
       "<pre style=\"white-space:pre;overflow-x:auto;line-height:normal;font-family:Menlo,'DejaVu Sans Mono',consolas,'Courier New',monospace\"><span style=\"color: #008080; text-decoration-color: #008080; font-weight: bold\">[+] Successfully retrieved repo: </span><span style=\"color: #008080; text-decoration-color: #008080; font-weight: bold; text-decoration: underline\">https://gitee.com/gemron/myLottery</span>\n",
       "</pre>\n"
      ],
      "text/plain": [
       "\u001b[1;36m[\u001b[0m\u001b[1;36m+\u001b[0m\u001b[1;36m]\u001b[0m\u001b[1;36m Successfully retrieved repo: \u001b[0m\u001b[1;4;36mhttps://gitee.com/gemron/myLottery\u001b[0m\n"
      ]
     },
     "metadata": {},
     "output_type": "display_data"
    },
    {
     "data": {
      "text/html": [
       "<pre style=\"white-space:pre;overflow-x:auto;line-height:normal;font-family:Menlo,'DejaVu Sans Mono',consolas,'Courier New',monospace\"><span style=\"color: #008080; text-decoration-color: #008080; font-weight: bold\">[+] Found package.json at </span><span style=\"color: #008080; text-decoration-color: #008080; font-weight: bold; text-decoration: underline\">https://gitee.com/gemron/myLottery</span>\n",
       "</pre>\n"
      ],
      "text/plain": [
       "\u001b[1;36m[\u001b[0m\u001b[1;36m+\u001b[0m\u001b[1;36m]\u001b[0m\u001b[1;36m Found package.json at \u001b[0m\u001b[1;4;36mhttps://gitee.com/gemron/myLottery\u001b[0m\n"
      ]
     },
     "metadata": {},
     "output_type": "display_data"
    },
    {
     "data": {
      "text/html": [
       "<pre style=\"white-space:pre;overflow-x:auto;line-height:normal;font-family:Menlo,'DejaVu Sans Mono',consolas,'Courier New',monospace\"><span style=\"color: #008080; text-decoration-color: #008080; font-weight: bold\">[+] Getting </span><span style=\"color: #008080; text-decoration-color: #008080; font-weight: bold; text-decoration: underline\">https://gitee.com/gemron/myLottery/blob/master/package.json</span>\n",
       "</pre>\n"
      ],
      "text/plain": [
       "\u001b[1;36m[\u001b[0m\u001b[1;36m+\u001b[0m\u001b[1;36m]\u001b[0m\u001b[1;36m Getting \u001b[0m\u001b[1;4;36mhttps://gitee.com/gemron/myLottery/blob/master/package.json\u001b[0m\n"
      ]
     },
     "metadata": {},
     "output_type": "display_data"
    },
    {
     "data": {
      "text/html": [
       "<pre style=\"white-space:pre;overflow-x:auto;line-height:normal;font-family:Menlo,'DejaVu Sans Mono',consolas,'Courier New',monospace\"><span style=\"color: #800000; text-decoration-color: #800000; font-weight: bold\">[💀] Could not retrieve electron version from f</span><span style=\"color: #800000; text-decoration-color: #800000; font-weight: bold; text-decoration: underline\">https://gitee.com/gemron/myLottery/blob/master/package.json</span>\n",
       "</pre>\n"
      ],
      "text/plain": [
       "\u001b[1;31m[\u001b[0m\u001b[1;31m💀\u001b[0m\u001b[1;31m]\u001b[0m\u001b[1;31m Could not retrieve electron version from f\u001b[0m\u001b[1;4;31mhttps://gitee.com/gemron/myLottery/blob/master/package.json\u001b[0m\n"
      ]
     },
     "metadata": {},
     "output_type": "display_data"
    },
    {
     "data": {
      "text/html": [
       "<pre style=\"white-space:pre;overflow-x:auto;line-height:normal;font-family:Menlo,'DejaVu Sans Mono',consolas,'Courier New',monospace\"><span style=\"color: #008080; text-decoration-color: #008080; font-weight: bold\">[+] Getting repo: </span><span style=\"color: #008080; text-decoration-color: #008080; font-weight: bold; text-decoration: underline\">https://github.com/supertiger1234/nertivia-desktop-app/</span>\n",
       "</pre>\n"
      ],
      "text/plain": [
       "\u001b[1;36m[\u001b[0m\u001b[1;36m+\u001b[0m\u001b[1;36m]\u001b[0m\u001b[1;36m Getting repo: \u001b[0m\u001b[1;4;36mhttps://github.com/supertiger1234/nertivia-desktop-app/\u001b[0m\n"
      ]
     },
     "metadata": {},
     "output_type": "display_data"
    },
    {
     "data": {
      "text/html": [
       "<pre style=\"white-space:pre;overflow-x:auto;line-height:normal;font-family:Menlo,'DejaVu Sans Mono',consolas,'Courier New',monospace\"><span style=\"color: #008080; text-decoration-color: #008080; font-weight: bold\">[+] Successfully retrieved repo: </span><span style=\"color: #008080; text-decoration-color: #008080; font-weight: bold; text-decoration: underline\">https://github.com/supertiger1234/nertivia-desktop-app/</span>\n",
       "</pre>\n"
      ],
      "text/plain": [
       "\u001b[1;36m[\u001b[0m\u001b[1;36m+\u001b[0m\u001b[1;36m]\u001b[0m\u001b[1;36m Successfully retrieved repo: \u001b[0m\u001b[1;4;36mhttps://github.com/supertiger1234/nertivia-desktop-app/\u001b[0m\n"
      ]
     },
     "metadata": {},
     "output_type": "display_data"
    },
    {
     "data": {
      "text/html": [
       "<pre style=\"white-space:pre;overflow-x:auto;line-height:normal;font-family:Menlo,'DejaVu Sans Mono',consolas,'Courier New',monospace\"><span style=\"color: #008080; text-decoration-color: #008080; font-weight: bold\">[+] Found package.json at </span><span style=\"color: #008080; text-decoration-color: #008080; font-weight: bold; text-decoration: underline\">https://github.com/supertiger1234/nertivia-desktop-app/</span>\n",
       "</pre>\n"
      ],
      "text/plain": [
       "\u001b[1;36m[\u001b[0m\u001b[1;36m+\u001b[0m\u001b[1;36m]\u001b[0m\u001b[1;36m Found package.json at \u001b[0m\u001b[1;4;36mhttps://github.com/supertiger1234/nertivia-desktop-app/\u001b[0m\n"
      ]
     },
     "metadata": {},
     "output_type": "display_data"
    },
    {
     "data": {
      "text/html": [
       "<pre style=\"white-space:pre;overflow-x:auto;line-height:normal;font-family:Menlo,'DejaVu Sans Mono',consolas,'Courier New',monospace\"><span style=\"color: #008080; text-decoration-color: #008080; font-weight: bold\">[+] Getting </span><span style=\"color: #008080; text-decoration-color: #008080; font-weight: bold; text-decoration: underline\">https://github.com/SupertigerDev/nertivia-desktop-app/blob/master/package.json</span>\n",
       "</pre>\n"
      ],
      "text/plain": [
       "\u001b[1;36m[\u001b[0m\u001b[1;36m+\u001b[0m\u001b[1;36m]\u001b[0m\u001b[1;36m Getting \u001b[0m\u001b[1;4;36mhttps://github.com/SupertigerDev/nertivia-desktop-app/blob/master/package.json\u001b[0m\n"
      ]
     },
     "metadata": {},
     "output_type": "display_data"
    },
    {
     "data": {
      "text/html": [
       "<pre style=\"white-space:pre;overflow-x:auto;line-height:normal;font-family:Menlo,'DejaVu Sans Mono',consolas,'Courier New',monospace\"><span style=\"color: #008080; text-decoration-color: #008080; font-weight: bold\">[+] Getting repo: </span><span style=\"color: #008080; text-decoration-color: #008080; font-weight: bold; text-decoration: underline\">https://github.com/lutzroeder/netron</span>\n",
       "</pre>\n"
      ],
      "text/plain": [
       "\u001b[1;36m[\u001b[0m\u001b[1;36m+\u001b[0m\u001b[1;36m]\u001b[0m\u001b[1;36m Getting repo: \u001b[0m\u001b[1;4;36mhttps://github.com/lutzroeder/netron\u001b[0m\n"
      ]
     },
     "metadata": {},
     "output_type": "display_data"
    },
    {
     "data": {
      "text/html": [
       "<pre style=\"white-space:pre;overflow-x:auto;line-height:normal;font-family:Menlo,'DejaVu Sans Mono',consolas,'Courier New',monospace\"><span style=\"color: #008080; text-decoration-color: #008080; font-weight: bold\">[+] Successfully retrieved repo: </span><span style=\"color: #008080; text-decoration-color: #008080; font-weight: bold; text-decoration: underline\">https://github.com/lutzroeder/netron</span>\n",
       "</pre>\n"
      ],
      "text/plain": [
       "\u001b[1;36m[\u001b[0m\u001b[1;36m+\u001b[0m\u001b[1;36m]\u001b[0m\u001b[1;36m Successfully retrieved repo: \u001b[0m\u001b[1;4;36mhttps://github.com/lutzroeder/netron\u001b[0m\n"
      ]
     },
     "metadata": {},
     "output_type": "display_data"
    },
    {
     "data": {
      "text/html": [
       "<pre style=\"white-space:pre;overflow-x:auto;line-height:normal;font-family:Menlo,'DejaVu Sans Mono',consolas,'Courier New',monospace\"><span style=\"color: #008080; text-decoration-color: #008080; font-weight: bold\">[+] Found package.json at </span><span style=\"color: #008080; text-decoration-color: #008080; font-weight: bold; text-decoration: underline\">https://github.com/lutzroeder/netron</span>\n",
       "</pre>\n"
      ],
      "text/plain": [
       "\u001b[1;36m[\u001b[0m\u001b[1;36m+\u001b[0m\u001b[1;36m]\u001b[0m\u001b[1;36m Found package.json at \u001b[0m\u001b[1;4;36mhttps://github.com/lutzroeder/netron\u001b[0m\n"
      ]
     },
     "metadata": {},
     "output_type": "display_data"
    },
    {
     "data": {
      "text/html": [
       "<pre style=\"white-space:pre;overflow-x:auto;line-height:normal;font-family:Menlo,'DejaVu Sans Mono',consolas,'Courier New',monospace\"><span style=\"color: #008080; text-decoration-color: #008080; font-weight: bold\">[+] Getting </span><span style=\"color: #008080; text-decoration-color: #008080; font-weight: bold; text-decoration: underline\">https://github.com/lutzroeder/netron/blob/main/package.json</span>\n",
       "</pre>\n"
      ],
      "text/plain": [
       "\u001b[1;36m[\u001b[0m\u001b[1;36m+\u001b[0m\u001b[1;36m]\u001b[0m\u001b[1;36m Getting \u001b[0m\u001b[1;4;36mhttps://github.com/lutzroeder/netron/blob/main/package.json\u001b[0m\n"
      ]
     },
     "metadata": {},
     "output_type": "display_data"
    },
    {
     "data": {
      "text/html": [
       "<pre style=\"white-space:pre;overflow-x:auto;line-height:normal;font-family:Menlo,'DejaVu Sans Mono',consolas,'Courier New',monospace\"><span style=\"color: #008080; text-decoration-color: #008080; font-weight: bold\">[+] Getting repo: </span><span style=\"color: #008080; text-decoration-color: #008080; font-weight: bold; text-decoration: underline\">https://github.com/cjerrington/net-check</span>\n",
       "</pre>\n"
      ],
      "text/plain": [
       "\u001b[1;36m[\u001b[0m\u001b[1;36m+\u001b[0m\u001b[1;36m]\u001b[0m\u001b[1;36m Getting repo: \u001b[0m\u001b[1;4;36mhttps://github.com/cjerrington/net-check\u001b[0m\n"
      ]
     },
     "metadata": {},
     "output_type": "display_data"
    },
    {
     "data": {
      "text/html": [
       "<pre style=\"white-space:pre;overflow-x:auto;line-height:normal;font-family:Menlo,'DejaVu Sans Mono',consolas,'Courier New',monospace\"><span style=\"color: #008080; text-decoration-color: #008080; font-weight: bold\">[+] Successfully retrieved repo: </span><span style=\"color: #008080; text-decoration-color: #008080; font-weight: bold; text-decoration: underline\">https://github.com/cjerrington/net-check</span>\n",
       "</pre>\n"
      ],
      "text/plain": [
       "\u001b[1;36m[\u001b[0m\u001b[1;36m+\u001b[0m\u001b[1;36m]\u001b[0m\u001b[1;36m Successfully retrieved repo: \u001b[0m\u001b[1;4;36mhttps://github.com/cjerrington/net-check\u001b[0m\n"
      ]
     },
     "metadata": {},
     "output_type": "display_data"
    },
    {
     "data": {
      "text/html": [
       "<pre style=\"white-space:pre;overflow-x:auto;line-height:normal;font-family:Menlo,'DejaVu Sans Mono',consolas,'Courier New',monospace\"><span style=\"color: #008080; text-decoration-color: #008080; font-weight: bold\">[+] Found package.json at </span><span style=\"color: #008080; text-decoration-color: #008080; font-weight: bold; text-decoration: underline\">https://github.com/cjerrington/net-check</span>\n",
       "</pre>\n"
      ],
      "text/plain": [
       "\u001b[1;36m[\u001b[0m\u001b[1;36m+\u001b[0m\u001b[1;36m]\u001b[0m\u001b[1;36m Found package.json at \u001b[0m\u001b[1;4;36mhttps://github.com/cjerrington/net-check\u001b[0m\n"
      ]
     },
     "metadata": {},
     "output_type": "display_data"
    },
    {
     "data": {
      "text/html": [
       "<pre style=\"white-space:pre;overflow-x:auto;line-height:normal;font-family:Menlo,'DejaVu Sans Mono',consolas,'Courier New',monospace\"><span style=\"color: #008080; text-decoration-color: #008080; font-weight: bold\">[+] Getting </span><span style=\"color: #008080; text-decoration-color: #008080; font-weight: bold; text-decoration: underline\">https://github.com/cjerrington/net-check/blob/master/package.json</span>\n",
       "</pre>\n"
      ],
      "text/plain": [
       "\u001b[1;36m[\u001b[0m\u001b[1;36m+\u001b[0m\u001b[1;36m]\u001b[0m\u001b[1;36m Getting \u001b[0m\u001b[1;4;36mhttps://github.com/cjerrington/net-check/blob/master/package.json\u001b[0m\n"
      ]
     },
     "metadata": {},
     "output_type": "display_data"
    },
    {
     "data": {
      "text/html": [
       "<pre style=\"white-space:pre;overflow-x:auto;line-height:normal;font-family:Menlo,'DejaVu Sans Mono',consolas,'Courier New',monospace\"><span style=\"color: #008080; text-decoration-color: #008080; font-weight: bold\">[+] Getting repo: </span><span style=\"color: #008080; text-decoration-color: #008080; font-weight: bold; text-decoration: underline\">https://github.com/NicepageApp/Nicepage</span>\n",
       "</pre>\n"
      ],
      "text/plain": [
       "\u001b[1;36m[\u001b[0m\u001b[1;36m+\u001b[0m\u001b[1;36m]\u001b[0m\u001b[1;36m Getting repo: \u001b[0m\u001b[1;4;36mhttps://github.com/NicepageApp/Nicepage\u001b[0m\n"
      ]
     },
     "metadata": {},
     "output_type": "display_data"
    },
    {
     "data": {
      "text/html": [
       "<pre style=\"white-space:pre;overflow-x:auto;line-height:normal;font-family:Menlo,'DejaVu Sans Mono',consolas,'Courier New',monospace\"><span style=\"color: #008080; text-decoration-color: #008080; font-weight: bold\">[+] Successfully retrieved repo: </span><span style=\"color: #008080; text-decoration-color: #008080; font-weight: bold; text-decoration: underline\">https://github.com/NicepageApp/Nicepage</span>\n",
       "</pre>\n"
      ],
      "text/plain": [
       "\u001b[1;36m[\u001b[0m\u001b[1;36m+\u001b[0m\u001b[1;36m]\u001b[0m\u001b[1;36m Successfully retrieved repo: \u001b[0m\u001b[1;4;36mhttps://github.com/NicepageApp/Nicepage\u001b[0m\n"
      ]
     },
     "metadata": {},
     "output_type": "display_data"
    },
    {
     "data": {
      "text/html": [
       "<pre style=\"white-space:pre;overflow-x:auto;line-height:normal;font-family:Menlo,'DejaVu Sans Mono',consolas,'Courier New',monospace\"><span style=\"color: #ff5f00; text-decoration-color: #ff5f00; font-weight: bold\">[!] Package.json not found at root of </span><span style=\"color: #ff5f00; text-decoration-color: #ff5f00; font-weight: bold; text-decoration: underline\">https://github.com/NicepageApp/Nicepage;</span><span style=\"color: #ff5f00; text-decoration-color: #ff5f00; font-weight: bold\"> trying directories</span>\n",
       "</pre>\n"
      ],
      "text/plain": [
       "\u001b[1;38;5;202m[\u001b[0m\u001b[1;38;5;202m!\u001b[0m\u001b[1;38;5;202m]\u001b[0m\u001b[1;38;5;202m Package.json not found at root of \u001b[0m\u001b[1;4;38;5;202mhttps://github.com/NicepageApp/Nicepage;\u001b[0m\u001b[1;38;5;202m trying directories\u001b[0m\n"
      ]
     },
     "metadata": {},
     "output_type": "display_data"
    },
    {
     "data": {
      "text/html": [
       "<pre style=\"white-space:pre;overflow-x:auto;line-height:normal;font-family:Menlo,'DejaVu Sans Mono',consolas,'Courier New',monospace\"><span style=\"color: #008080; text-decoration-color: #008080; font-weight: bold\">[+] Trying </span><span style=\"color: #008080; text-decoration-color: #008080; font-weight: bold; text-decoration: underline\">https://github.com/NicepageApp/Nicepage/tree/master/images</span>\n",
       "</pre>\n"
      ],
      "text/plain": [
       "\u001b[1;36m[\u001b[0m\u001b[1;36m+\u001b[0m\u001b[1;36m]\u001b[0m\u001b[1;36m Trying \u001b[0m\u001b[1;4;36mhttps://github.com/NicepageApp/Nicepage/tree/master/images\u001b[0m\n"
      ]
     },
     "metadata": {},
     "output_type": "display_data"
    },
    {
     "data": {
      "text/html": [
       "<pre style=\"white-space:pre;overflow-x:auto;line-height:normal;font-family:Menlo,'DejaVu Sans Mono',consolas,'Courier New',monospace\"><span style=\"color: #800000; text-decoration-color: #800000; font-weight: bold\">[💀] Could not find package.json in first-level-subdirs</span>\n",
       "</pre>\n"
      ],
      "text/plain": [
       "\u001b[1;31m[\u001b[0m\u001b[1;31m💀\u001b[0m\u001b[1;31m]\u001b[0m\u001b[1;31m Could not find package.json in first-level-subdirs\u001b[0m\n"
      ]
     },
     "metadata": {},
     "output_type": "display_data"
    },
    {
     "data": {
      "text/html": [
       "<pre style=\"white-space:pre;overflow-x:auto;line-height:normal;font-family:Menlo,'DejaVu Sans Mono',consolas,'Courier New',monospace\"><span style=\"color: #008080; text-decoration-color: #008080; font-weight: bold\">[+] Getting repo: </span><span style=\"color: #008080; text-decoration-color: #008080; font-weight: bold; text-decoration: underline\">https://github.com/nimblenote/nimblenote</span>\n",
       "</pre>\n"
      ],
      "text/plain": [
       "\u001b[1;36m[\u001b[0m\u001b[1;36m+\u001b[0m\u001b[1;36m]\u001b[0m\u001b[1;36m Getting repo: \u001b[0m\u001b[1;4;36mhttps://github.com/nimblenote/nimblenote\u001b[0m\n"
      ]
     },
     "metadata": {},
     "output_type": "display_data"
    },
    {
     "data": {
      "text/html": [
       "<pre style=\"white-space:pre;overflow-x:auto;line-height:normal;font-family:Menlo,'DejaVu Sans Mono',consolas,'Courier New',monospace\"><span style=\"color: #008080; text-decoration-color: #008080; font-weight: bold\">[+] Successfully retrieved repo: </span><span style=\"color: #008080; text-decoration-color: #008080; font-weight: bold; text-decoration: underline\">https://github.com/nimblenote/nimblenote</span>\n",
       "</pre>\n"
      ],
      "text/plain": [
       "\u001b[1;36m[\u001b[0m\u001b[1;36m+\u001b[0m\u001b[1;36m]\u001b[0m\u001b[1;36m Successfully retrieved repo: \u001b[0m\u001b[1;4;36mhttps://github.com/nimblenote/nimblenote\u001b[0m\n"
      ]
     },
     "metadata": {},
     "output_type": "display_data"
    },
    {
     "data": {
      "text/html": [
       "<pre style=\"white-space:pre;overflow-x:auto;line-height:normal;font-family:Menlo,'DejaVu Sans Mono',consolas,'Courier New',monospace\"><span style=\"color: #ff5f00; text-decoration-color: #ff5f00; font-weight: bold\">[!] Package.json not found at root of </span><span style=\"color: #ff5f00; text-decoration-color: #ff5f00; font-weight: bold; text-decoration: underline\">https://github.com/nimblenote/nimblenote;</span><span style=\"color: #ff5f00; text-decoration-color: #ff5f00; font-weight: bold\"> trying directories</span>\n",
       "</pre>\n"
      ],
      "text/plain": [
       "\u001b[1;38;5;202m[\u001b[0m\u001b[1;38;5;202m!\u001b[0m\u001b[1;38;5;202m]\u001b[0m\u001b[1;38;5;202m Package.json not found at root of \u001b[0m\u001b[1;4;38;5;202mhttps://github.com/nimblenote/nimblenote;\u001b[0m\u001b[1;38;5;202m trying directories\u001b[0m\n"
      ]
     },
     "metadata": {},
     "output_type": "display_data"
    },
    {
     "data": {
      "text/html": [
       "<pre style=\"white-space:pre;overflow-x:auto;line-height:normal;font-family:Menlo,'DejaVu Sans Mono',consolas,'Courier New',monospace\"><span style=\"color: #008080; text-decoration-color: #008080; font-weight: bold\">[+] Trying </span><span style=\"color: #008080; text-decoration-color: #008080; font-weight: bold; text-decoration: underline\">https://github.com/nimblenote/nimblenote/tree/main/.github</span>\n",
       "</pre>\n"
      ],
      "text/plain": [
       "\u001b[1;36m[\u001b[0m\u001b[1;36m+\u001b[0m\u001b[1;36m]\u001b[0m\u001b[1;36m Trying \u001b[0m\u001b[1;4;36mhttps://github.com/nimblenote/nimblenote/tree/main/.github\u001b[0m\n"
      ]
     },
     "metadata": {},
     "output_type": "display_data"
    },
    {
     "data": {
      "text/html": [
       "<pre style=\"white-space:pre;overflow-x:auto;line-height:normal;font-family:Menlo,'DejaVu Sans Mono',consolas,'Courier New',monospace\"><span style=\"color: #800000; text-decoration-color: #800000; font-weight: bold\">[💀] Could not find package.json in first-level-subdirs</span>\n",
       "</pre>\n"
      ],
      "text/plain": [
       "\u001b[1;31m[\u001b[0m\u001b[1;31m💀\u001b[0m\u001b[1;31m]\u001b[0m\u001b[1;31m Could not find package.json in first-level-subdirs\u001b[0m\n"
      ]
     },
     "metadata": {},
     "output_type": "display_data"
    },
    {
     "data": {
      "text/html": [
       "<pre style=\"white-space:pre;overflow-x:auto;line-height:normal;font-family:Menlo,'DejaVu Sans Mono',consolas,'Courier New',monospace\"><span style=\"color: #008080; text-decoration-color: #008080; font-weight: bold\">[+] Getting repo: </span><span style=\"color: #008080; text-decoration-color: #008080; font-weight: bold; text-decoration: underline\">https://github.com/nodemailer/nodemailer-app</span>\n",
       "</pre>\n"
      ],
      "text/plain": [
       "\u001b[1;36m[\u001b[0m\u001b[1;36m+\u001b[0m\u001b[1;36m]\u001b[0m\u001b[1;36m Getting repo: \u001b[0m\u001b[1;4;36mhttps://github.com/nodemailer/nodemailer-app\u001b[0m\n"
      ]
     },
     "metadata": {},
     "output_type": "display_data"
    },
    {
     "data": {
      "text/html": [
       "<pre style=\"white-space:pre;overflow-x:auto;line-height:normal;font-family:Menlo,'DejaVu Sans Mono',consolas,'Courier New',monospace\"><span style=\"color: #008080; text-decoration-color: #008080; font-weight: bold\">[+] Successfully retrieved repo: </span><span style=\"color: #008080; text-decoration-color: #008080; font-weight: bold; text-decoration: underline\">https://github.com/nodemailer/nodemailer-app</span>\n",
       "</pre>\n"
      ],
      "text/plain": [
       "\u001b[1;36m[\u001b[0m\u001b[1;36m+\u001b[0m\u001b[1;36m]\u001b[0m\u001b[1;36m Successfully retrieved repo: \u001b[0m\u001b[1;4;36mhttps://github.com/nodemailer/nodemailer-app\u001b[0m\n"
      ]
     },
     "metadata": {},
     "output_type": "display_data"
    },
    {
     "data": {
      "text/html": [
       "<pre style=\"white-space:pre;overflow-x:auto;line-height:normal;font-family:Menlo,'DejaVu Sans Mono',consolas,'Courier New',monospace\"><span style=\"color: #ff5f00; text-decoration-color: #ff5f00; font-weight: bold\">[!] Package.json not found at root of </span><span style=\"color: #ff5f00; text-decoration-color: #ff5f00; font-weight: bold; text-decoration: underline\">https://github.com/nodemailer/nodemailer-app;</span><span style=\"color: #ff5f00; text-decoration-color: #ff5f00; font-weight: bold\"> trying directories</span>\n",
       "</pre>\n"
      ],
      "text/plain": [
       "\u001b[1;38;5;202m[\u001b[0m\u001b[1;38;5;202m!\u001b[0m\u001b[1;38;5;202m]\u001b[0m\u001b[1;38;5;202m Package.json not found at root of \u001b[0m\u001b[1;4;38;5;202mhttps://github.com/nodemailer/nodemailer-app;\u001b[0m\u001b[1;38;5;202m trying directories\u001b[0m\n"
      ]
     },
     "metadata": {},
     "output_type": "display_data"
    },
    {
     "data": {
      "text/html": [
       "<pre style=\"white-space:pre;overflow-x:auto;line-height:normal;font-family:Menlo,'DejaVu Sans Mono',consolas,'Courier New',monospace\"><span style=\"color: #008080; text-decoration-color: #008080; font-weight: bold\">[+] Trying </span><span style=\"color: #008080; text-decoration-color: #008080; font-weight: bold; text-decoration: underline\">https://github.com/nodemailer/nodemailer-app/tree/master/.github</span>\n",
       "</pre>\n"
      ],
      "text/plain": [
       "\u001b[1;36m[\u001b[0m\u001b[1;36m+\u001b[0m\u001b[1;36m]\u001b[0m\u001b[1;36m Trying \u001b[0m\u001b[1;4;36mhttps://github.com/nodemailer/nodemailer-app/tree/master/.github\u001b[0m\n"
      ]
     },
     "metadata": {},
     "output_type": "display_data"
    },
    {
     "data": {
      "text/html": [
       "<pre style=\"white-space:pre;overflow-x:auto;line-height:normal;font-family:Menlo,'DejaVu Sans Mono',consolas,'Courier New',monospace\"><span style=\"color: #800000; text-decoration-color: #800000; font-weight: bold\">[💀] Could not find package.json in first-level-subdirs</span>\n",
       "</pre>\n"
      ],
      "text/plain": [
       "\u001b[1;31m[\u001b[0m\u001b[1;31m💀\u001b[0m\u001b[1;31m]\u001b[0m\u001b[1;31m Could not find package.json in first-level-subdirs\u001b[0m\n"
      ]
     },
     "metadata": {},
     "output_type": "display_data"
    },
    {
     "data": {
      "text/html": [
       "<pre style=\"white-space:pre;overflow-x:auto;line-height:normal;font-family:Menlo,'DejaVu Sans Mono',consolas,'Courier New',monospace\"><span style=\"color: #008080; text-decoration-color: #008080; font-weight: bold\">[+] Getting repo: </span><span style=\"color: #008080; text-decoration-color: #008080; font-weight: bold; text-decoration: underline\">https://github.com/notaapp/releases</span>\n",
       "</pre>\n"
      ],
      "text/plain": [
       "\u001b[1;36m[\u001b[0m\u001b[1;36m+\u001b[0m\u001b[1;36m]\u001b[0m\u001b[1;36m Getting repo: \u001b[0m\u001b[1;4;36mhttps://github.com/notaapp/releases\u001b[0m\n"
      ]
     },
     "metadata": {},
     "output_type": "display_data"
    },
    {
     "data": {
      "text/html": [
       "<pre style=\"white-space:pre;overflow-x:auto;line-height:normal;font-family:Menlo,'DejaVu Sans Mono',consolas,'Courier New',monospace\"><span style=\"color: #008080; text-decoration-color: #008080; font-weight: bold\">[+] Successfully retrieved repo: </span><span style=\"color: #008080; text-decoration-color: #008080; font-weight: bold; text-decoration: underline\">https://github.com/notaapp/releases</span>\n",
       "</pre>\n"
      ],
      "text/plain": [
       "\u001b[1;36m[\u001b[0m\u001b[1;36m+\u001b[0m\u001b[1;36m]\u001b[0m\u001b[1;36m Successfully retrieved repo: \u001b[0m\u001b[1;4;36mhttps://github.com/notaapp/releases\u001b[0m\n"
      ]
     },
     "metadata": {},
     "output_type": "display_data"
    },
    {
     "data": {
      "text/html": [
       "<pre style=\"white-space:pre;overflow-x:auto;line-height:normal;font-family:Menlo,'DejaVu Sans Mono',consolas,'Courier New',monospace\"><span style=\"color: #ff5f00; text-decoration-color: #ff5f00; font-weight: bold\">[!] Package.json not found at root of </span><span style=\"color: #ff5f00; text-decoration-color: #ff5f00; font-weight: bold; text-decoration: underline\">https://github.com/notaapp/releases;</span><span style=\"color: #ff5f00; text-decoration-color: #ff5f00; font-weight: bold\"> trying directories</span>\n",
       "</pre>\n"
      ],
      "text/plain": [
       "\u001b[1;38;5;202m[\u001b[0m\u001b[1;38;5;202m!\u001b[0m\u001b[1;38;5;202m]\u001b[0m\u001b[1;38;5;202m Package.json not found at root of \u001b[0m\u001b[1;4;38;5;202mhttps://github.com/notaapp/releases;\u001b[0m\u001b[1;38;5;202m trying directories\u001b[0m\n"
      ]
     },
     "metadata": {},
     "output_type": "display_data"
    },
    {
     "data": {
      "text/html": [
       "<pre style=\"white-space:pre;overflow-x:auto;line-height:normal;font-family:Menlo,'DejaVu Sans Mono',consolas,'Courier New',monospace\"><span style=\"color: #800000; text-decoration-color: #800000; font-weight: bold\">[💀] Could not find package.json in first-level-subdirs</span>\n",
       "</pre>\n"
      ],
      "text/plain": [
       "\u001b[1;31m[\u001b[0m\u001b[1;31m💀\u001b[0m\u001b[1;31m]\u001b[0m\u001b[1;31m Could not find package.json in first-level-subdirs\u001b[0m\n"
      ]
     },
     "metadata": {},
     "output_type": "display_data"
    },
    {
     "data": {
      "text/html": [
       "<pre style=\"white-space:pre;overflow-x:auto;line-height:normal;font-family:Menlo,'DejaVu Sans Mono',consolas,'Courier New',monospace\"><span style=\"color: #008080; text-decoration-color: #008080; font-weight: bold\">[+] Getting repo: </span><span style=\"color: #008080; text-decoration-color: #008080; font-weight: bold; text-decoration: underline\">https://github.com/notable/notable</span>\n",
       "</pre>\n"
      ],
      "text/plain": [
       "\u001b[1;36m[\u001b[0m\u001b[1;36m+\u001b[0m\u001b[1;36m]\u001b[0m\u001b[1;36m Getting repo: \u001b[0m\u001b[1;4;36mhttps://github.com/notable/notable\u001b[0m\n"
      ]
     },
     "metadata": {},
     "output_type": "display_data"
    },
    {
     "data": {
      "text/html": [
       "<pre style=\"white-space:pre;overflow-x:auto;line-height:normal;font-family:Menlo,'DejaVu Sans Mono',consolas,'Courier New',monospace\"><span style=\"color: #008080; text-decoration-color: #008080; font-weight: bold\">[+] Successfully retrieved repo: </span><span style=\"color: #008080; text-decoration-color: #008080; font-weight: bold; text-decoration: underline\">https://github.com/notable/notable</span>\n",
       "</pre>\n"
      ],
      "text/plain": [
       "\u001b[1;36m[\u001b[0m\u001b[1;36m+\u001b[0m\u001b[1;36m]\u001b[0m\u001b[1;36m Successfully retrieved repo: \u001b[0m\u001b[1;4;36mhttps://github.com/notable/notable\u001b[0m\n"
      ]
     },
     "metadata": {},
     "output_type": "display_data"
    },
    {
     "data": {
      "text/html": [
       "<pre style=\"white-space:pre;overflow-x:auto;line-height:normal;font-family:Menlo,'DejaVu Sans Mono',consolas,'Courier New',monospace\"><span style=\"color: #ff5f00; text-decoration-color: #ff5f00; font-weight: bold\">[!] Package.json not found at root of </span><span style=\"color: #ff5f00; text-decoration-color: #ff5f00; font-weight: bold; text-decoration: underline\">https://github.com/notable/notable;</span><span style=\"color: #ff5f00; text-decoration-color: #ff5f00; font-weight: bold\"> trying directories</span>\n",
       "</pre>\n"
      ],
      "text/plain": [
       "\u001b[1;38;5;202m[\u001b[0m\u001b[1;38;5;202m!\u001b[0m\u001b[1;38;5;202m]\u001b[0m\u001b[1;38;5;202m Package.json not found at root of \u001b[0m\u001b[1;4;38;5;202mhttps://github.com/notable/notable;\u001b[0m\u001b[1;38;5;202m trying directories\u001b[0m\n"
      ]
     },
     "metadata": {},
     "output_type": "display_data"
    },
    {
     "data": {
      "text/html": [
       "<pre style=\"white-space:pre;overflow-x:auto;line-height:normal;font-family:Menlo,'DejaVu Sans Mono',consolas,'Courier New',monospace\"><span style=\"color: #008080; text-decoration-color: #008080; font-weight: bold\">[+] Trying </span><span style=\"color: #008080; text-decoration-color: #008080; font-weight: bold; text-decoration: underline\">https://github.com/notable/notable/tree/master/.github</span>\n",
       "</pre>\n"
      ],
      "text/plain": [
       "\u001b[1;36m[\u001b[0m\u001b[1;36m+\u001b[0m\u001b[1;36m]\u001b[0m\u001b[1;36m Trying \u001b[0m\u001b[1;4;36mhttps://github.com/notable/notable/tree/master/.github\u001b[0m\n"
      ]
     },
     "metadata": {},
     "output_type": "display_data"
    },
    {
     "data": {
      "text/html": [
       "<pre style=\"white-space:pre;overflow-x:auto;line-height:normal;font-family:Menlo,'DejaVu Sans Mono',consolas,'Courier New',monospace\"><span style=\"color: #800000; text-decoration-color: #800000; font-weight: bold\">[💀] Could not find package.json in first-level-subdirs</span>\n",
       "</pre>\n"
      ],
      "text/plain": [
       "\u001b[1;31m[\u001b[0m\u001b[1;31m💀\u001b[0m\u001b[1;31m]\u001b[0m\u001b[1;31m Could not find package.json in first-level-subdirs\u001b[0m\n"
      ]
     },
     "metadata": {},
     "output_type": "display_data"
    },
    {
     "data": {
      "text/html": [
       "<pre style=\"white-space:pre;overflow-x:auto;line-height:normal;font-family:Menlo,'DejaVu Sans Mono',consolas,'Courier New',monospace\"><span style=\"color: #008080; text-decoration-color: #008080; font-weight: bold\">[+] Getting repo: </span><span style=\"color: #008080; text-decoration-color: #008080; font-weight: bold; text-decoration: underline\">https://github.com/nteract/nteract</span>\n",
       "</pre>\n"
      ],
      "text/plain": [
       "\u001b[1;36m[\u001b[0m\u001b[1;36m+\u001b[0m\u001b[1;36m]\u001b[0m\u001b[1;36m Getting repo: \u001b[0m\u001b[1;4;36mhttps://github.com/nteract/nteract\u001b[0m\n"
      ]
     },
     "metadata": {},
     "output_type": "display_data"
    },
    {
     "data": {
      "text/html": [
       "<pre style=\"white-space:pre;overflow-x:auto;line-height:normal;font-family:Menlo,'DejaVu Sans Mono',consolas,'Courier New',monospace\"><span style=\"color: #008080; text-decoration-color: #008080; font-weight: bold\">[+] Successfully retrieved repo: </span><span style=\"color: #008080; text-decoration-color: #008080; font-weight: bold; text-decoration: underline\">https://github.com/nteract/nteract</span>\n",
       "</pre>\n"
      ],
      "text/plain": [
       "\u001b[1;36m[\u001b[0m\u001b[1;36m+\u001b[0m\u001b[1;36m]\u001b[0m\u001b[1;36m Successfully retrieved repo: \u001b[0m\u001b[1;4;36mhttps://github.com/nteract/nteract\u001b[0m\n"
      ]
     },
     "metadata": {},
     "output_type": "display_data"
    },
    {
     "data": {
      "text/html": [
       "<pre style=\"white-space:pre;overflow-x:auto;line-height:normal;font-family:Menlo,'DejaVu Sans Mono',consolas,'Courier New',monospace\"><span style=\"color: #008080; text-decoration-color: #008080; font-weight: bold\">[+] Found package.json at </span><span style=\"color: #008080; text-decoration-color: #008080; font-weight: bold; text-decoration: underline\">https://github.com/nteract/nteract</span>\n",
       "</pre>\n"
      ],
      "text/plain": [
       "\u001b[1;36m[\u001b[0m\u001b[1;36m+\u001b[0m\u001b[1;36m]\u001b[0m\u001b[1;36m Found package.json at \u001b[0m\u001b[1;4;36mhttps://github.com/nteract/nteract\u001b[0m\n"
      ]
     },
     "metadata": {},
     "output_type": "display_data"
    },
    {
     "data": {
      "text/html": [
       "<pre style=\"white-space:pre;overflow-x:auto;line-height:normal;font-family:Menlo,'DejaVu Sans Mono',consolas,'Courier New',monospace\"><span style=\"color: #008080; text-decoration-color: #008080; font-weight: bold\">[+] Getting </span><span style=\"color: #008080; text-decoration-color: #008080; font-weight: bold; text-decoration: underline\">https://github.com/nteract/nteract/blob/main/package.json</span>\n",
       "</pre>\n"
      ],
      "text/plain": [
       "\u001b[1;36m[\u001b[0m\u001b[1;36m+\u001b[0m\u001b[1;36m]\u001b[0m\u001b[1;36m Getting \u001b[0m\u001b[1;4;36mhttps://github.com/nteract/nteract/blob/main/package.json\u001b[0m\n"
      ]
     },
     "metadata": {},
     "output_type": "display_data"
    },
    {
     "data": {
      "text/html": [
       "<pre style=\"white-space:pre;overflow-x:auto;line-height:normal;font-family:Menlo,'DejaVu Sans Mono',consolas,'Courier New',monospace\"><span style=\"color: #008080; text-decoration-color: #008080; font-weight: bold\">[+] Getting repo: </span><span style=\"color: #008080; text-decoration-color: #008080; font-weight: bold; text-decoration: underline\">https://github.com/nukeop/nuclear</span>\n",
       "</pre>\n"
      ],
      "text/plain": [
       "\u001b[1;36m[\u001b[0m\u001b[1;36m+\u001b[0m\u001b[1;36m]\u001b[0m\u001b[1;36m Getting repo: \u001b[0m\u001b[1;4;36mhttps://github.com/nukeop/nuclear\u001b[0m\n"
      ]
     },
     "metadata": {},
     "output_type": "display_data"
    },
    {
     "data": {
      "text/html": [
       "<pre style=\"white-space:pre;overflow-x:auto;line-height:normal;font-family:Menlo,'DejaVu Sans Mono',consolas,'Courier New',monospace\"><span style=\"color: #008080; text-decoration-color: #008080; font-weight: bold\">[+] Successfully retrieved repo: </span><span style=\"color: #008080; text-decoration-color: #008080; font-weight: bold; text-decoration: underline\">https://github.com/nukeop/nuclear</span>\n",
       "</pre>\n"
      ],
      "text/plain": [
       "\u001b[1;36m[\u001b[0m\u001b[1;36m+\u001b[0m\u001b[1;36m]\u001b[0m\u001b[1;36m Successfully retrieved repo: \u001b[0m\u001b[1;4;36mhttps://github.com/nukeop/nuclear\u001b[0m\n"
      ]
     },
     "metadata": {},
     "output_type": "display_data"
    },
    {
     "data": {
      "text/html": [
       "<pre style=\"white-space:pre;overflow-x:auto;line-height:normal;font-family:Menlo,'DejaVu Sans Mono',consolas,'Courier New',monospace\"><span style=\"color: #008080; text-decoration-color: #008080; font-weight: bold\">[+] Found package.json at </span><span style=\"color: #008080; text-decoration-color: #008080; font-weight: bold; text-decoration: underline\">https://github.com/nukeop/nuclear</span>\n",
       "</pre>\n"
      ],
      "text/plain": [
       "\u001b[1;36m[\u001b[0m\u001b[1;36m+\u001b[0m\u001b[1;36m]\u001b[0m\u001b[1;36m Found package.json at \u001b[0m\u001b[1;4;36mhttps://github.com/nukeop/nuclear\u001b[0m\n"
      ]
     },
     "metadata": {},
     "output_type": "display_data"
    },
    {
     "data": {
      "text/html": [
       "<pre style=\"white-space:pre;overflow-x:auto;line-height:normal;font-family:Menlo,'DejaVu Sans Mono',consolas,'Courier New',monospace\"><span style=\"color: #008080; text-decoration-color: #008080; font-weight: bold\">[+] Getting </span><span style=\"color: #008080; text-decoration-color: #008080; font-weight: bold; text-decoration: underline\">https://github.com/nukeop/nuclear/blob/master/package.json</span>\n",
       "</pre>\n"
      ],
      "text/plain": [
       "\u001b[1;36m[\u001b[0m\u001b[1;36m+\u001b[0m\u001b[1;36m]\u001b[0m\u001b[1;36m Getting \u001b[0m\u001b[1;4;36mhttps://github.com/nukeop/nuclear/blob/master/package.json\u001b[0m\n"
      ]
     },
     "metadata": {},
     "output_type": "display_data"
    },
    {
     "data": {
      "text/html": [
       "<pre style=\"white-space:pre;overflow-x:auto;line-height:normal;font-family:Menlo,'DejaVu Sans Mono',consolas,'Courier New',monospace\"><span style=\"color: #008080; text-decoration-color: #008080; font-weight: bold\">[+] Getting repo: </span><span style=\"color: #008080; text-decoration-color: #008080; font-weight: bold; text-decoration: underline\">https://github.com/OutsourcedGuru/octopi-init/blob/master/electron_README.md</span>\n",
       "</pre>\n"
      ],
      "text/plain": [
       "\u001b[1;36m[\u001b[0m\u001b[1;36m+\u001b[0m\u001b[1;36m]\u001b[0m\u001b[1;36m Getting repo: \u001b[0m\u001b[1;4;36mhttps://github.com/OutsourcedGuru/octopi-init/blob/master/electron_README.md\u001b[0m\n"
      ]
     },
     "metadata": {},
     "output_type": "display_data"
    },
    {
     "data": {
      "text/html": [
       "<pre style=\"white-space:pre;overflow-x:auto;line-height:normal;font-family:Menlo,'DejaVu Sans Mono',consolas,'Courier New',monospace\"><span style=\"color: #008080; text-decoration-color: #008080; font-weight: bold\">[+] Successfully retrieved repo: </span><span style=\"color: #008080; text-decoration-color: #008080; font-weight: bold; text-decoration: underline\">https://github.com/OutsourcedGuru/octopi-init/blob/master/electron_README.md</span>\n",
       "</pre>\n"
      ],
      "text/plain": [
       "\u001b[1;36m[\u001b[0m\u001b[1;36m+\u001b[0m\u001b[1;36m]\u001b[0m\u001b[1;36m Successfully retrieved repo: \u001b[0m\u001b[1;4;36mhttps://github.com/OutsourcedGuru/octopi-init/blob/master/electron_README.md\u001b[0m\n"
      ]
     },
     "metadata": {},
     "output_type": "display_data"
    },
    {
     "data": {
      "text/html": [
       "<pre style=\"white-space:pre;overflow-x:auto;line-height:normal;font-family:Menlo,'DejaVu Sans Mono',consolas,'Courier New',monospace\"><span style=\"color: #ff5f00; text-decoration-color: #ff5f00; font-weight: bold\">[!] Package.json not found at root of </span><span style=\"color: #ff5f00; text-decoration-color: #ff5f00; font-weight: bold; text-decoration: underline\">https://github.com/OutsourcedGuru/octopi-init/blob/master/electron_README.md;</span>\n",
       "<span style=\"color: #ff5f00; text-decoration-color: #ff5f00; font-weight: bold\">trying directories</span>\n",
       "</pre>\n"
      ],
      "text/plain": [
       "\u001b[1;38;5;202m[\u001b[0m\u001b[1;38;5;202m!\u001b[0m\u001b[1;38;5;202m]\u001b[0m\u001b[1;38;5;202m Package.json not found at root of \u001b[0m\u001b[1;4;38;5;202mhttps://github.com/OutsourcedGuru/octopi-init/blob/master/electron_README.md;\u001b[0m\n",
       "\u001b[1;38;5;202mtrying directories\u001b[0m\n"
      ]
     },
     "metadata": {},
     "output_type": "display_data"
    },
    {
     "data": {
      "text/html": [
       "<pre style=\"white-space:pre;overflow-x:auto;line-height:normal;font-family:Menlo,'DejaVu Sans Mono',consolas,'Courier New',monospace\"><span style=\"color: #800000; text-decoration-color: #800000; font-weight: bold\">[💀] Could not find package.json in first-level-subdirs</span>\n",
       "</pre>\n"
      ],
      "text/plain": [
       "\u001b[1;31m[\u001b[0m\u001b[1;31m💀\u001b[0m\u001b[1;31m]\u001b[0m\u001b[1;31m Could not find package.json in first-level-subdirs\u001b[0m\n"
      ]
     },
     "metadata": {},
     "output_type": "display_data"
    },
    {
     "data": {
      "text/html": [
       "<pre style=\"white-space:pre;overflow-x:auto;line-height:normal;font-family:Menlo,'DejaVu Sans Mono',consolas,'Courier New',monospace\"><span style=\"color: #008080; text-decoration-color: #008080; font-weight: bold\">[+] Getting repo: </span><span style=\"color: #008080; text-decoration-color: #008080; font-weight: bold; text-decoration: underline\">https://github.com/OhHaiBrowser/Browser/</span>\n",
       "</pre>\n"
      ],
      "text/plain": [
       "\u001b[1;36m[\u001b[0m\u001b[1;36m+\u001b[0m\u001b[1;36m]\u001b[0m\u001b[1;36m Getting repo: \u001b[0m\u001b[1;4;36mhttps://github.com/OhHaiBrowser/Browser/\u001b[0m\n"
      ]
     },
     "metadata": {},
     "output_type": "display_data"
    },
    {
     "data": {
      "text/html": [
       "<pre style=\"white-space:pre;overflow-x:auto;line-height:normal;font-family:Menlo,'DejaVu Sans Mono',consolas,'Courier New',monospace\"><span style=\"color: #008080; text-decoration-color: #008080; font-weight: bold\">[+] Successfully retrieved repo: </span><span style=\"color: #008080; text-decoration-color: #008080; font-weight: bold; text-decoration: underline\">https://github.com/OhHaiBrowser/Browser/</span>\n",
       "</pre>\n"
      ],
      "text/plain": [
       "\u001b[1;36m[\u001b[0m\u001b[1;36m+\u001b[0m\u001b[1;36m]\u001b[0m\u001b[1;36m Successfully retrieved repo: \u001b[0m\u001b[1;4;36mhttps://github.com/OhHaiBrowser/Browser/\u001b[0m\n"
      ]
     },
     "metadata": {},
     "output_type": "display_data"
    },
    {
     "data": {
      "text/html": [
       "<pre style=\"white-space:pre;overflow-x:auto;line-height:normal;font-family:Menlo,'DejaVu Sans Mono',consolas,'Courier New',monospace\"><span style=\"color: #008080; text-decoration-color: #008080; font-weight: bold\">[+] Found package.json at </span><span style=\"color: #008080; text-decoration-color: #008080; font-weight: bold; text-decoration: underline\">https://github.com/OhHaiBrowser/Browser/</span>\n",
       "</pre>\n"
      ],
      "text/plain": [
       "\u001b[1;36m[\u001b[0m\u001b[1;36m+\u001b[0m\u001b[1;36m]\u001b[0m\u001b[1;36m Found package.json at \u001b[0m\u001b[1;4;36mhttps://github.com/OhHaiBrowser/Browser/\u001b[0m\n"
      ]
     },
     "metadata": {},
     "output_type": "display_data"
    },
    {
     "data": {
      "text/html": [
       "<pre style=\"white-space:pre;overflow-x:auto;line-height:normal;font-family:Menlo,'DejaVu Sans Mono',consolas,'Courier New',monospace\"><span style=\"color: #008080; text-decoration-color: #008080; font-weight: bold\">[+] Getting </span><span style=\"color: #008080; text-decoration-color: #008080; font-weight: bold; text-decoration: underline\">https://github.com/OhHaiBrowser/Browser/blob/main/package.json</span>\n",
       "</pre>\n"
      ],
      "text/plain": [
       "\u001b[1;36m[\u001b[0m\u001b[1;36m+\u001b[0m\u001b[1;36m]\u001b[0m\u001b[1;36m Getting \u001b[0m\u001b[1;4;36mhttps://github.com/OhHaiBrowser/Browser/blob/main/package.json\u001b[0m\n"
      ]
     },
     "metadata": {},
     "output_type": "display_data"
    },
    {
     "data": {
      "text/html": [
       "<pre style=\"white-space:pre;overflow-x:auto;line-height:normal;font-family:Menlo,'DejaVu Sans Mono',consolas,'Courier New',monospace\"><span style=\"color: #008080; text-decoration-color: #008080; font-weight: bold\">[+] Getting repo: </span><span style=\"color: #008080; text-decoration-color: #008080; font-weight: bold; text-decoration: underline\">https://github.com/openspeedtest/Speed-Test</span>\n",
       "</pre>\n"
      ],
      "text/plain": [
       "\u001b[1;36m[\u001b[0m\u001b[1;36m+\u001b[0m\u001b[1;36m]\u001b[0m\u001b[1;36m Getting repo: \u001b[0m\u001b[1;4;36mhttps://github.com/openspeedtest/Speed-Test\u001b[0m\n"
      ]
     },
     "metadata": {},
     "output_type": "display_data"
    },
    {
     "data": {
      "text/html": [
       "<pre style=\"white-space:pre;overflow-x:auto;line-height:normal;font-family:Menlo,'DejaVu Sans Mono',consolas,'Courier New',monospace\"><span style=\"color: #008080; text-decoration-color: #008080; font-weight: bold\">[+] Successfully retrieved repo: </span><span style=\"color: #008080; text-decoration-color: #008080; font-weight: bold; text-decoration: underline\">https://github.com/openspeedtest/Speed-Test</span>\n",
       "</pre>\n"
      ],
      "text/plain": [
       "\u001b[1;36m[\u001b[0m\u001b[1;36m+\u001b[0m\u001b[1;36m]\u001b[0m\u001b[1;36m Successfully retrieved repo: \u001b[0m\u001b[1;4;36mhttps://github.com/openspeedtest/Speed-Test\u001b[0m\n"
      ]
     },
     "metadata": {},
     "output_type": "display_data"
    },
    {
     "data": {
      "text/html": [
       "<pre style=\"white-space:pre;overflow-x:auto;line-height:normal;font-family:Menlo,'DejaVu Sans Mono',consolas,'Courier New',monospace\"><span style=\"color: #ff5f00; text-decoration-color: #ff5f00; font-weight: bold\">[!] Package.json not found at root of </span><span style=\"color: #ff5f00; text-decoration-color: #ff5f00; font-weight: bold; text-decoration: underline\">https://github.com/openspeedtest/Speed-Test;</span><span style=\"color: #ff5f00; text-decoration-color: #ff5f00; font-weight: bold\"> trying directories</span>\n",
       "</pre>\n"
      ],
      "text/plain": [
       "\u001b[1;38;5;202m[\u001b[0m\u001b[1;38;5;202m!\u001b[0m\u001b[1;38;5;202m]\u001b[0m\u001b[1;38;5;202m Package.json not found at root of \u001b[0m\u001b[1;4;38;5;202mhttps://github.com/openspeedtest/Speed-Test;\u001b[0m\u001b[1;38;5;202m trying directories\u001b[0m\n"
      ]
     },
     "metadata": {},
     "output_type": "display_data"
    },
    {
     "data": {
      "text/html": [
       "<pre style=\"white-space:pre;overflow-x:auto;line-height:normal;font-family:Menlo,'DejaVu Sans Mono',consolas,'Courier New',monospace\"><span style=\"color: #008080; text-decoration-color: #008080; font-weight: bold\">[+] Trying </span><span style=\"color: #008080; text-decoration-color: #008080; font-weight: bold; text-decoration: underline\">https://github.com/openspeedtest/Speed-Test/tree/main/assets</span>\n",
       "</pre>\n"
      ],
      "text/plain": [
       "\u001b[1;36m[\u001b[0m\u001b[1;36m+\u001b[0m\u001b[1;36m]\u001b[0m\u001b[1;36m Trying \u001b[0m\u001b[1;4;36mhttps://github.com/openspeedtest/Speed-Test/tree/main/assets\u001b[0m\n"
      ]
     },
     "metadata": {},
     "output_type": "display_data"
    },
    {
     "data": {
      "text/html": [
       "<pre style=\"white-space:pre;overflow-x:auto;line-height:normal;font-family:Menlo,'DejaVu Sans Mono',consolas,'Courier New',monospace\"><span style=\"color: #800000; text-decoration-color: #800000; font-weight: bold\">[💀] Could not find package.json in first-level-subdirs</span>\n",
       "</pre>\n"
      ],
      "text/plain": [
       "\u001b[1;31m[\u001b[0m\u001b[1;31m💀\u001b[0m\u001b[1;31m]\u001b[0m\u001b[1;31m Could not find package.json in first-level-subdirs\u001b[0m\n"
      ]
     },
     "metadata": {},
     "output_type": "display_data"
    },
    {
     "data": {
      "text/html": [
       "<pre style=\"white-space:pre;overflow-x:auto;line-height:normal;font-family:Menlo,'DejaVu Sans Mono',consolas,'Courier New',monospace\"><span style=\"color: #008080; text-decoration-color: #008080; font-weight: bold\">[+] Getting repo: </span><span style=\"color: #008080; text-decoration-color: #008080; font-weight: bold; text-decoration: underline\">https://github.com/4gray/oversetter</span>\n",
       "</pre>\n"
      ],
      "text/plain": [
       "\u001b[1;36m[\u001b[0m\u001b[1;36m+\u001b[0m\u001b[1;36m]\u001b[0m\u001b[1;36m Getting repo: \u001b[0m\u001b[1;4;36mhttps://github.com/4gray/oversetter\u001b[0m\n"
      ]
     },
     "metadata": {},
     "output_type": "display_data"
    },
    {
     "data": {
      "text/html": [
       "<pre style=\"white-space:pre;overflow-x:auto;line-height:normal;font-family:Menlo,'DejaVu Sans Mono',consolas,'Courier New',monospace\"><span style=\"color: #008080; text-decoration-color: #008080; font-weight: bold\">[+] Successfully retrieved repo: </span><span style=\"color: #008080; text-decoration-color: #008080; font-weight: bold; text-decoration: underline\">https://github.com/4gray/oversetter</span>\n",
       "</pre>\n"
      ],
      "text/plain": [
       "\u001b[1;36m[\u001b[0m\u001b[1;36m+\u001b[0m\u001b[1;36m]\u001b[0m\u001b[1;36m Successfully retrieved repo: \u001b[0m\u001b[1;4;36mhttps://github.com/4gray/oversetter\u001b[0m\n"
      ]
     },
     "metadata": {},
     "output_type": "display_data"
    },
    {
     "data": {
      "text/html": [
       "<pre style=\"white-space:pre;overflow-x:auto;line-height:normal;font-family:Menlo,'DejaVu Sans Mono',consolas,'Courier New',monospace\"><span style=\"color: #008080; text-decoration-color: #008080; font-weight: bold\">[+] Found package.json at </span><span style=\"color: #008080; text-decoration-color: #008080; font-weight: bold; text-decoration: underline\">https://github.com/4gray/oversetter</span>\n",
       "</pre>\n"
      ],
      "text/plain": [
       "\u001b[1;36m[\u001b[0m\u001b[1;36m+\u001b[0m\u001b[1;36m]\u001b[0m\u001b[1;36m Found package.json at \u001b[0m\u001b[1;4;36mhttps://github.com/4gray/oversetter\u001b[0m\n"
      ]
     },
     "metadata": {},
     "output_type": "display_data"
    },
    {
     "data": {
      "text/html": [
       "<pre style=\"white-space:pre;overflow-x:auto;line-height:normal;font-family:Menlo,'DejaVu Sans Mono',consolas,'Courier New',monospace\"><span style=\"color: #008080; text-decoration-color: #008080; font-weight: bold\">[+] Getting </span><span style=\"color: #008080; text-decoration-color: #008080; font-weight: bold; text-decoration: underline\">https://github.com/4gray/oversetter/blob/master/package.json</span>\n",
       "</pre>\n"
      ],
      "text/plain": [
       "\u001b[1;36m[\u001b[0m\u001b[1;36m+\u001b[0m\u001b[1;36m]\u001b[0m\u001b[1;36m Getting \u001b[0m\u001b[1;4;36mhttps://github.com/4gray/oversetter/blob/master/package.json\u001b[0m\n"
      ]
     },
     "metadata": {},
     "output_type": "display_data"
    },
    {
     "data": {
      "text/html": [
       "<pre style=\"white-space:pre;overflow-x:auto;line-height:normal;font-family:Menlo,'DejaVu Sans Mono',consolas,'Courier New',monospace\"><span style=\"color: #008080; text-decoration-color: #008080; font-weight: bold\">[+] Getting repo: </span><span style=\"color: #008080; text-decoration-color: #008080; font-weight: bold; text-decoration: underline\">https://github.com/patrikx3/onenote</span>\n",
       "</pre>\n"
      ],
      "text/plain": [
       "\u001b[1;36m[\u001b[0m\u001b[1;36m+\u001b[0m\u001b[1;36m]\u001b[0m\u001b[1;36m Getting repo: \u001b[0m\u001b[1;4;36mhttps://github.com/patrikx3/onenote\u001b[0m\n"
      ]
     },
     "metadata": {},
     "output_type": "display_data"
    },
    {
     "data": {
      "text/html": [
       "<pre style=\"white-space:pre;overflow-x:auto;line-height:normal;font-family:Menlo,'DejaVu Sans Mono',consolas,'Courier New',monospace\"><span style=\"color: #008080; text-decoration-color: #008080; font-weight: bold\">[+] Successfully retrieved repo: </span><span style=\"color: #008080; text-decoration-color: #008080; font-weight: bold; text-decoration: underline\">https://github.com/patrikx3/onenote</span>\n",
       "</pre>\n"
      ],
      "text/plain": [
       "\u001b[1;36m[\u001b[0m\u001b[1;36m+\u001b[0m\u001b[1;36m]\u001b[0m\u001b[1;36m Successfully retrieved repo: \u001b[0m\u001b[1;4;36mhttps://github.com/patrikx3/onenote\u001b[0m\n"
      ]
     },
     "metadata": {},
     "output_type": "display_data"
    },
    {
     "data": {
      "text/html": [
       "<pre style=\"white-space:pre;overflow-x:auto;line-height:normal;font-family:Menlo,'DejaVu Sans Mono',consolas,'Courier New',monospace\"><span style=\"color: #008080; text-decoration-color: #008080; font-weight: bold\">[+] Found package.json at </span><span style=\"color: #008080; text-decoration-color: #008080; font-weight: bold; text-decoration: underline\">https://github.com/patrikx3/onenote</span>\n",
       "</pre>\n"
      ],
      "text/plain": [
       "\u001b[1;36m[\u001b[0m\u001b[1;36m+\u001b[0m\u001b[1;36m]\u001b[0m\u001b[1;36m Found package.json at \u001b[0m\u001b[1;4;36mhttps://github.com/patrikx3/onenote\u001b[0m\n"
      ]
     },
     "metadata": {},
     "output_type": "display_data"
    },
    {
     "data": {
      "text/html": [
       "<pre style=\"white-space:pre;overflow-x:auto;line-height:normal;font-family:Menlo,'DejaVu Sans Mono',consolas,'Courier New',monospace\"><span style=\"color: #008080; text-decoration-color: #008080; font-weight: bold\">[+] Getting </span><span style=\"color: #008080; text-decoration-color: #008080; font-weight: bold; text-decoration: underline\">https://github.com/patrikx3/onenote/blob/master/package.json</span>\n",
       "</pre>\n"
      ],
      "text/plain": [
       "\u001b[1;36m[\u001b[0m\u001b[1;36m+\u001b[0m\u001b[1;36m]\u001b[0m\u001b[1;36m Getting \u001b[0m\u001b[1;4;36mhttps://github.com/patrikx3/onenote/blob/master/package.json\u001b[0m\n"
      ]
     },
     "metadata": {},
     "output_type": "display_data"
    },
    {
     "data": {
      "text/html": [
       "<pre style=\"white-space:pre;overflow-x:auto;line-height:normal;font-family:Menlo,'DejaVu Sans Mono',consolas,'Courier New',monospace\"><span style=\"color: #008080; text-decoration-color: #008080; font-weight: bold\">[+] Getting repo: </span><span style=\"color: #008080; text-decoration-color: #008080; font-weight: bold; text-decoration: underline\">https://github.com/patrikx3/redis-ui</span>\n",
       "</pre>\n"
      ],
      "text/plain": [
       "\u001b[1;36m[\u001b[0m\u001b[1;36m+\u001b[0m\u001b[1;36m]\u001b[0m\u001b[1;36m Getting repo: \u001b[0m\u001b[1;4;36mhttps://github.com/patrikx3/redis-ui\u001b[0m\n"
      ]
     },
     "metadata": {},
     "output_type": "display_data"
    },
    {
     "data": {
      "text/html": [
       "<pre style=\"white-space:pre;overflow-x:auto;line-height:normal;font-family:Menlo,'DejaVu Sans Mono',consolas,'Courier New',monospace\"><span style=\"color: #008080; text-decoration-color: #008080; font-weight: bold\">[+] Successfully retrieved repo: </span><span style=\"color: #008080; text-decoration-color: #008080; font-weight: bold; text-decoration: underline\">https://github.com/patrikx3/redis-ui</span>\n",
       "</pre>\n"
      ],
      "text/plain": [
       "\u001b[1;36m[\u001b[0m\u001b[1;36m+\u001b[0m\u001b[1;36m]\u001b[0m\u001b[1;36m Successfully retrieved repo: \u001b[0m\u001b[1;4;36mhttps://github.com/patrikx3/redis-ui\u001b[0m\n"
      ]
     },
     "metadata": {},
     "output_type": "display_data"
    },
    {
     "data": {
      "text/html": [
       "<pre style=\"white-space:pre;overflow-x:auto;line-height:normal;font-family:Menlo,'DejaVu Sans Mono',consolas,'Courier New',monospace\"><span style=\"color: #008080; text-decoration-color: #008080; font-weight: bold\">[+] Found package.json at </span><span style=\"color: #008080; text-decoration-color: #008080; font-weight: bold; text-decoration: underline\">https://github.com/patrikx3/redis-ui</span>\n",
       "</pre>\n"
      ],
      "text/plain": [
       "\u001b[1;36m[\u001b[0m\u001b[1;36m+\u001b[0m\u001b[1;36m]\u001b[0m\u001b[1;36m Found package.json at \u001b[0m\u001b[1;4;36mhttps://github.com/patrikx3/redis-ui\u001b[0m\n"
      ]
     },
     "metadata": {},
     "output_type": "display_data"
    },
    {
     "data": {
      "text/html": [
       "<pre style=\"white-space:pre;overflow-x:auto;line-height:normal;font-family:Menlo,'DejaVu Sans Mono',consolas,'Courier New',monospace\"><span style=\"color: #008080; text-decoration-color: #008080; font-weight: bold\">[+] Getting </span><span style=\"color: #008080; text-decoration-color: #008080; font-weight: bold; text-decoration: underline\">https://github.com/patrikx3/redis-ui/blob/master/package.json</span>\n",
       "</pre>\n"
      ],
      "text/plain": [
       "\u001b[1;36m[\u001b[0m\u001b[1;36m+\u001b[0m\u001b[1;36m]\u001b[0m\u001b[1;36m Getting \u001b[0m\u001b[1;4;36mhttps://github.com/patrikx3/redis-ui/blob/master/package.json\u001b[0m\n"
      ]
     },
     "metadata": {},
     "output_type": "display_data"
    },
    {
     "data": {
      "text/html": [
       "<pre style=\"white-space:pre;overflow-x:auto;line-height:normal;font-family:Menlo,'DejaVu Sans Mono',consolas,'Courier New',monospace\"><span style=\"color: #008080; text-decoration-color: #008080; font-weight: bold\">[+] Getting repo: </span><span style=\"color: #008080; text-decoration-color: #008080; font-weight: bold; text-decoration: underline\">https://github.com/mb21/panwriter</span>\n",
       "</pre>\n"
      ],
      "text/plain": [
       "\u001b[1;36m[\u001b[0m\u001b[1;36m+\u001b[0m\u001b[1;36m]\u001b[0m\u001b[1;36m Getting repo: \u001b[0m\u001b[1;4;36mhttps://github.com/mb21/panwriter\u001b[0m\n"
      ]
     },
     "metadata": {},
     "output_type": "display_data"
    },
    {
     "data": {
      "text/html": [
       "<pre style=\"white-space:pre;overflow-x:auto;line-height:normal;font-family:Menlo,'DejaVu Sans Mono',consolas,'Courier New',monospace\"><span style=\"color: #008080; text-decoration-color: #008080; font-weight: bold\">[+] Successfully retrieved repo: </span><span style=\"color: #008080; text-decoration-color: #008080; font-weight: bold; text-decoration: underline\">https://github.com/mb21/panwriter</span>\n",
       "</pre>\n"
      ],
      "text/plain": [
       "\u001b[1;36m[\u001b[0m\u001b[1;36m+\u001b[0m\u001b[1;36m]\u001b[0m\u001b[1;36m Successfully retrieved repo: \u001b[0m\u001b[1;4;36mhttps://github.com/mb21/panwriter\u001b[0m\n"
      ]
     },
     "metadata": {},
     "output_type": "display_data"
    },
    {
     "data": {
      "text/html": [
       "<pre style=\"white-space:pre;overflow-x:auto;line-height:normal;font-family:Menlo,'DejaVu Sans Mono',consolas,'Courier New',monospace\"><span style=\"color: #008080; text-decoration-color: #008080; font-weight: bold\">[+] Found package.json at </span><span style=\"color: #008080; text-decoration-color: #008080; font-weight: bold; text-decoration: underline\">https://github.com/mb21/panwriter</span>\n",
       "</pre>\n"
      ],
      "text/plain": [
       "\u001b[1;36m[\u001b[0m\u001b[1;36m+\u001b[0m\u001b[1;36m]\u001b[0m\u001b[1;36m Found package.json at \u001b[0m\u001b[1;4;36mhttps://github.com/mb21/panwriter\u001b[0m\n"
      ]
     },
     "metadata": {},
     "output_type": "display_data"
    },
    {
     "data": {
      "text/html": [
       "<pre style=\"white-space:pre;overflow-x:auto;line-height:normal;font-family:Menlo,'DejaVu Sans Mono',consolas,'Courier New',monospace\"><span style=\"color: #008080; text-decoration-color: #008080; font-weight: bold\">[+] Getting </span><span style=\"color: #008080; text-decoration-color: #008080; font-weight: bold; text-decoration: underline\">https://github.com/mb21/panwriter/blob/master/package.json</span>\n",
       "</pre>\n"
      ],
      "text/plain": [
       "\u001b[1;36m[\u001b[0m\u001b[1;36m+\u001b[0m\u001b[1;36m]\u001b[0m\u001b[1;36m Getting \u001b[0m\u001b[1;4;36mhttps://github.com/mb21/panwriter/blob/master/package.json\u001b[0m\n"
      ]
     },
     "metadata": {},
     "output_type": "display_data"
    },
    {
     "data": {
      "text/html": [
       "<pre style=\"white-space:pre;overflow-x:auto;line-height:normal;font-family:Menlo,'DejaVu Sans Mono',consolas,'Courier New',monospace\"><span style=\"color: #008080; text-decoration-color: #008080; font-weight: bold\">[+] Getting repo: </span><span style=\"color: #008080; text-decoration-color: #008080; font-weight: bold; text-decoration: underline\">https://github.com/Rabbit-Company/Passky-Desktop</span>\n",
       "</pre>\n"
      ],
      "text/plain": [
       "\u001b[1;36m[\u001b[0m\u001b[1;36m+\u001b[0m\u001b[1;36m]\u001b[0m\u001b[1;36m Getting repo: \u001b[0m\u001b[1;4;36mhttps://github.com/Rabbit-Company/Passky-Desktop\u001b[0m\n"
      ]
     },
     "metadata": {},
     "output_type": "display_data"
    },
    {
     "data": {
      "text/html": [
       "<pre style=\"white-space:pre;overflow-x:auto;line-height:normal;font-family:Menlo,'DejaVu Sans Mono',consolas,'Courier New',monospace\"><span style=\"color: #008080; text-decoration-color: #008080; font-weight: bold\">[+] Successfully retrieved repo: </span><span style=\"color: #008080; text-decoration-color: #008080; font-weight: bold; text-decoration: underline\">https://github.com/Rabbit-Company/Passky-Desktop</span>\n",
       "</pre>\n"
      ],
      "text/plain": [
       "\u001b[1;36m[\u001b[0m\u001b[1;36m+\u001b[0m\u001b[1;36m]\u001b[0m\u001b[1;36m Successfully retrieved repo: \u001b[0m\u001b[1;4;36mhttps://github.com/Rabbit-Company/Passky-Desktop\u001b[0m\n"
      ]
     },
     "metadata": {},
     "output_type": "display_data"
    },
    {
     "data": {
      "text/html": [
       "<pre style=\"white-space:pre;overflow-x:auto;line-height:normal;font-family:Menlo,'DejaVu Sans Mono',consolas,'Courier New',monospace\"><span style=\"color: #008080; text-decoration-color: #008080; font-weight: bold\">[+] Found package.json at </span><span style=\"color: #008080; text-decoration-color: #008080; font-weight: bold; text-decoration: underline\">https://github.com/Rabbit-Company/Passky-Desktop</span>\n",
       "</pre>\n"
      ],
      "text/plain": [
       "\u001b[1;36m[\u001b[0m\u001b[1;36m+\u001b[0m\u001b[1;36m]\u001b[0m\u001b[1;36m Found package.json at \u001b[0m\u001b[1;4;36mhttps://github.com/Rabbit-Company/Passky-Desktop\u001b[0m\n"
      ]
     },
     "metadata": {},
     "output_type": "display_data"
    },
    {
     "data": {
      "text/html": [
       "<pre style=\"white-space:pre;overflow-x:auto;line-height:normal;font-family:Menlo,'DejaVu Sans Mono',consolas,'Courier New',monospace\"><span style=\"color: #008080; text-decoration-color: #008080; font-weight: bold\">[+] Getting </span><span style=\"color: #008080; text-decoration-color: #008080; font-weight: bold; text-decoration: underline\">https://github.com/Rabbit-Company/Passky-Desktop/blob/main/package.json</span>\n",
       "</pre>\n"
      ],
      "text/plain": [
       "\u001b[1;36m[\u001b[0m\u001b[1;36m+\u001b[0m\u001b[1;36m]\u001b[0m\u001b[1;36m Getting \u001b[0m\u001b[1;4;36mhttps://github.com/Rabbit-Company/Passky-Desktop/blob/main/package.json\u001b[0m\n"
      ]
     },
     "metadata": {},
     "output_type": "display_data"
    },
    {
     "data": {
      "text/html": [
       "<pre style=\"white-space:pre;overflow-x:auto;line-height:normal;font-family:Menlo,'DejaVu Sans Mono',consolas,'Courier New',monospace\"><span style=\"color: #008080; text-decoration-color: #008080; font-weight: bold\">[+] Getting repo: </span><span style=\"color: #008080; text-decoration-color: #008080; font-weight: bold; text-decoration: underline\">https://github.com/ssbc/patchwork</span>\n",
       "</pre>\n"
      ],
      "text/plain": [
       "\u001b[1;36m[\u001b[0m\u001b[1;36m+\u001b[0m\u001b[1;36m]\u001b[0m\u001b[1;36m Getting repo: \u001b[0m\u001b[1;4;36mhttps://github.com/ssbc/patchwork\u001b[0m\n"
      ]
     },
     "metadata": {},
     "output_type": "display_data"
    },
    {
     "data": {
      "text/html": [
       "<pre style=\"white-space:pre;overflow-x:auto;line-height:normal;font-family:Menlo,'DejaVu Sans Mono',consolas,'Courier New',monospace\"><span style=\"color: #008080; text-decoration-color: #008080; font-weight: bold\">[+] Successfully retrieved repo: </span><span style=\"color: #008080; text-decoration-color: #008080; font-weight: bold; text-decoration: underline\">https://github.com/ssbc/patchwork</span>\n",
       "</pre>\n"
      ],
      "text/plain": [
       "\u001b[1;36m[\u001b[0m\u001b[1;36m+\u001b[0m\u001b[1;36m]\u001b[0m\u001b[1;36m Successfully retrieved repo: \u001b[0m\u001b[1;4;36mhttps://github.com/ssbc/patchwork\u001b[0m\n"
      ]
     },
     "metadata": {},
     "output_type": "display_data"
    },
    {
     "data": {
      "text/html": [
       "<pre style=\"white-space:pre;overflow-x:auto;line-height:normal;font-family:Menlo,'DejaVu Sans Mono',consolas,'Courier New',monospace\"><span style=\"color: #008080; text-decoration-color: #008080; font-weight: bold\">[+] Found package.json at </span><span style=\"color: #008080; text-decoration-color: #008080; font-weight: bold; text-decoration: underline\">https://github.com/ssbc/patchwork</span>\n",
       "</pre>\n"
      ],
      "text/plain": [
       "\u001b[1;36m[\u001b[0m\u001b[1;36m+\u001b[0m\u001b[1;36m]\u001b[0m\u001b[1;36m Found package.json at \u001b[0m\u001b[1;4;36mhttps://github.com/ssbc/patchwork\u001b[0m\n"
      ]
     },
     "metadata": {},
     "output_type": "display_data"
    },
    {
     "data": {
      "text/html": [
       "<pre style=\"white-space:pre;overflow-x:auto;line-height:normal;font-family:Menlo,'DejaVu Sans Mono',consolas,'Courier New',monospace\"><span style=\"color: #008080; text-decoration-color: #008080; font-weight: bold\">[+] Getting </span><span style=\"color: #008080; text-decoration-color: #008080; font-weight: bold; text-decoration: underline\">https://github.com/ssbc/patchwork/blob/master/package.json</span>\n",
       "</pre>\n"
      ],
      "text/plain": [
       "\u001b[1;36m[\u001b[0m\u001b[1;36m+\u001b[0m\u001b[1;36m]\u001b[0m\u001b[1;36m Getting \u001b[0m\u001b[1;4;36mhttps://github.com/ssbc/patchwork/blob/master/package.json\u001b[0m\n"
      ]
     },
     "metadata": {},
     "output_type": "display_data"
    },
    {
     "data": {
      "text/html": [
       "<pre style=\"white-space:pre;overflow-x:auto;line-height:normal;font-family:Menlo,'DejaVu Sans Mono',consolas,'Courier New',monospace\"><span style=\"color: #008080; text-decoration-color: #008080; font-weight: bold\">[+] Getting repo: </span><span style=\"color: #008080; text-decoration-color: #008080; font-weight: bold; text-decoration: underline\">https://github.com/evolus/pencil</span>\n",
       "</pre>\n"
      ],
      "text/plain": [
       "\u001b[1;36m[\u001b[0m\u001b[1;36m+\u001b[0m\u001b[1;36m]\u001b[0m\u001b[1;36m Getting repo: \u001b[0m\u001b[1;4;36mhttps://github.com/evolus/pencil\u001b[0m\n"
      ]
     },
     "metadata": {},
     "output_type": "display_data"
    },
    {
     "data": {
      "text/html": [
       "<pre style=\"white-space:pre;overflow-x:auto;line-height:normal;font-family:Menlo,'DejaVu Sans Mono',consolas,'Courier New',monospace\"><span style=\"color: #008080; text-decoration-color: #008080; font-weight: bold\">[+] Successfully retrieved repo: </span><span style=\"color: #008080; text-decoration-color: #008080; font-weight: bold; text-decoration: underline\">https://github.com/evolus/pencil</span>\n",
       "</pre>\n"
      ],
      "text/plain": [
       "\u001b[1;36m[\u001b[0m\u001b[1;36m+\u001b[0m\u001b[1;36m]\u001b[0m\u001b[1;36m Successfully retrieved repo: \u001b[0m\u001b[1;4;36mhttps://github.com/evolus/pencil\u001b[0m\n"
      ]
     },
     "metadata": {},
     "output_type": "display_data"
    },
    {
     "data": {
      "text/html": [
       "<pre style=\"white-space:pre;overflow-x:auto;line-height:normal;font-family:Menlo,'DejaVu Sans Mono',consolas,'Courier New',monospace\"><span style=\"color: #008080; text-decoration-color: #008080; font-weight: bold\">[+] Found package.json at </span><span style=\"color: #008080; text-decoration-color: #008080; font-weight: bold; text-decoration: underline\">https://github.com/evolus/pencil</span>\n",
       "</pre>\n"
      ],
      "text/plain": [
       "\u001b[1;36m[\u001b[0m\u001b[1;36m+\u001b[0m\u001b[1;36m]\u001b[0m\u001b[1;36m Found package.json at \u001b[0m\u001b[1;4;36mhttps://github.com/evolus/pencil\u001b[0m\n"
      ]
     },
     "metadata": {},
     "output_type": "display_data"
    },
    {
     "data": {
      "text/html": [
       "<pre style=\"white-space:pre;overflow-x:auto;line-height:normal;font-family:Menlo,'DejaVu Sans Mono',consolas,'Courier New',monospace\"><span style=\"color: #008080; text-decoration-color: #008080; font-weight: bold\">[+] Getting </span><span style=\"color: #008080; text-decoration-color: #008080; font-weight: bold; text-decoration: underline\">https://github.com/evolus/pencil/blob/master/package.json</span>\n",
       "</pre>\n"
      ],
      "text/plain": [
       "\u001b[1;36m[\u001b[0m\u001b[1;36m+\u001b[0m\u001b[1;36m]\u001b[0m\u001b[1;36m Getting \u001b[0m\u001b[1;4;36mhttps://github.com/evolus/pencil/blob/master/package.json\u001b[0m\n"
      ]
     },
     "metadata": {},
     "output_type": "display_data"
    },
    {
     "data": {
      "text/html": [
       "<pre style=\"white-space:pre;overflow-x:auto;line-height:normal;font-family:Menlo,'DejaVu Sans Mono',consolas,'Courier New',monospace\"><span style=\"color: #008080; text-decoration-color: #008080; font-weight: bold\">[+] Getting repo: </span><span style=\"color: #008080; text-decoration-color: #008080; font-weight: bold; text-decoration: underline\">https://github.com/Swing-team/pendulums-web-client</span>\n",
       "</pre>\n"
      ],
      "text/plain": [
       "\u001b[1;36m[\u001b[0m\u001b[1;36m+\u001b[0m\u001b[1;36m]\u001b[0m\u001b[1;36m Getting repo: \u001b[0m\u001b[1;4;36mhttps://github.com/Swing-team/pendulums-web-client\u001b[0m\n"
      ]
     },
     "metadata": {},
     "output_type": "display_data"
    },
    {
     "data": {
      "text/html": [
       "<pre style=\"white-space:pre;overflow-x:auto;line-height:normal;font-family:Menlo,'DejaVu Sans Mono',consolas,'Courier New',monospace\"><span style=\"color: #008080; text-decoration-color: #008080; font-weight: bold\">[+] Successfully retrieved repo: </span><span style=\"color: #008080; text-decoration-color: #008080; font-weight: bold; text-decoration: underline\">https://github.com/Swing-team/pendulums-web-client</span>\n",
       "</pre>\n"
      ],
      "text/plain": [
       "\u001b[1;36m[\u001b[0m\u001b[1;36m+\u001b[0m\u001b[1;36m]\u001b[0m\u001b[1;36m Successfully retrieved repo: \u001b[0m\u001b[1;4;36mhttps://github.com/Swing-team/pendulums-web-client\u001b[0m\n"
      ]
     },
     "metadata": {},
     "output_type": "display_data"
    },
    {
     "data": {
      "text/html": [
       "<pre style=\"white-space:pre;overflow-x:auto;line-height:normal;font-family:Menlo,'DejaVu Sans Mono',consolas,'Courier New',monospace\"><span style=\"color: #008080; text-decoration-color: #008080; font-weight: bold\">[+] Found package.json at </span><span style=\"color: #008080; text-decoration-color: #008080; font-weight: bold; text-decoration: underline\">https://github.com/Swing-team/pendulums-web-client</span>\n",
       "</pre>\n"
      ],
      "text/plain": [
       "\u001b[1;36m[\u001b[0m\u001b[1;36m+\u001b[0m\u001b[1;36m]\u001b[0m\u001b[1;36m Found package.json at \u001b[0m\u001b[1;4;36mhttps://github.com/Swing-team/pendulums-web-client\u001b[0m\n"
      ]
     },
     "metadata": {},
     "output_type": "display_data"
    },
    {
     "data": {
      "text/html": [
       "<pre style=\"white-space:pre;overflow-x:auto;line-height:normal;font-family:Menlo,'DejaVu Sans Mono',consolas,'Courier New',monospace\"><span style=\"color: #008080; text-decoration-color: #008080; font-weight: bold\">[+] Getting </span><span style=\"color: #008080; text-decoration-color: #008080; font-weight: bold; text-decoration: underline\">https://github.com/Swing-team/pendulums-web-client/blob/master/package.json</span>\n",
       "</pre>\n"
      ],
      "text/plain": [
       "\u001b[1;36m[\u001b[0m\u001b[1;36m+\u001b[0m\u001b[1;36m]\u001b[0m\u001b[1;36m Getting \u001b[0m\u001b[1;4;36mhttps://github.com/Swing-team/pendulums-web-client/blob/master/package.json\u001b[0m\n"
      ]
     },
     "metadata": {},
     "output_type": "display_data"
    },
    {
     "data": {
      "text/html": [
       "<pre style=\"white-space:pre;overflow-x:auto;line-height:normal;font-family:Menlo,'DejaVu Sans Mono',consolas,'Courier New',monospace\"><span style=\"color: #008080; text-decoration-color: #008080; font-weight: bold\">[+] Getting repo: </span><span style=\"color: #008080; text-decoration-color: #008080; font-weight: bold; text-decoration: underline\">https://github.com/picturama/picturama</span>\n",
       "</pre>\n"
      ],
      "text/plain": [
       "\u001b[1;36m[\u001b[0m\u001b[1;36m+\u001b[0m\u001b[1;36m]\u001b[0m\u001b[1;36m Getting repo: \u001b[0m\u001b[1;4;36mhttps://github.com/picturama/picturama\u001b[0m\n"
      ]
     },
     "metadata": {},
     "output_type": "display_data"
    },
    {
     "data": {
      "text/html": [
       "<pre style=\"white-space:pre;overflow-x:auto;line-height:normal;font-family:Menlo,'DejaVu Sans Mono',consolas,'Courier New',monospace\"><span style=\"color: #008080; text-decoration-color: #008080; font-weight: bold\">[+] Successfully retrieved repo: </span><span style=\"color: #008080; text-decoration-color: #008080; font-weight: bold; text-decoration: underline\">https://github.com/picturama/picturama</span>\n",
       "</pre>\n"
      ],
      "text/plain": [
       "\u001b[1;36m[\u001b[0m\u001b[1;36m+\u001b[0m\u001b[1;36m]\u001b[0m\u001b[1;36m Successfully retrieved repo: \u001b[0m\u001b[1;4;36mhttps://github.com/picturama/picturama\u001b[0m\n"
      ]
     },
     "metadata": {},
     "output_type": "display_data"
    },
    {
     "data": {
      "text/html": [
       "<pre style=\"white-space:pre;overflow-x:auto;line-height:normal;font-family:Menlo,'DejaVu Sans Mono',consolas,'Courier New',monospace\"><span style=\"color: #008080; text-decoration-color: #008080; font-weight: bold\">[+] Found package.json at </span><span style=\"color: #008080; text-decoration-color: #008080; font-weight: bold; text-decoration: underline\">https://github.com/picturama/picturama</span>\n",
       "</pre>\n"
      ],
      "text/plain": [
       "\u001b[1;36m[\u001b[0m\u001b[1;36m+\u001b[0m\u001b[1;36m]\u001b[0m\u001b[1;36m Found package.json at \u001b[0m\u001b[1;4;36mhttps://github.com/picturama/picturama\u001b[0m\n"
      ]
     },
     "metadata": {},
     "output_type": "display_data"
    },
    {
     "data": {
      "text/html": [
       "<pre style=\"white-space:pre;overflow-x:auto;line-height:normal;font-family:Menlo,'DejaVu Sans Mono',consolas,'Courier New',monospace\"><span style=\"color: #008080; text-decoration-color: #008080; font-weight: bold\">[+] Getting </span><span style=\"color: #008080; text-decoration-color: #008080; font-weight: bold; text-decoration: underline\">https://github.com/picturama/picturama/blob/master/package.json</span>\n",
       "</pre>\n"
      ],
      "text/plain": [
       "\u001b[1;36m[\u001b[0m\u001b[1;36m+\u001b[0m\u001b[1;36m]\u001b[0m\u001b[1;36m Getting \u001b[0m\u001b[1;4;36mhttps://github.com/picturama/picturama/blob/master/package.json\u001b[0m\n"
      ]
     },
     "metadata": {},
     "output_type": "display_data"
    },
    {
     "data": {
      "text/html": [
       "<pre style=\"white-space:pre;overflow-x:auto;line-height:normal;font-family:Menlo,'DejaVu Sans Mono',consolas,'Courier New',monospace\"><span style=\"color: #008080; text-decoration-color: #008080; font-weight: bold\">[+] Getting repo: </span><span style=\"color: #008080; text-decoration-color: #008080; font-weight: bold; text-decoration: underline\">https://github.com/ozankaraali/PiTV</span>\n",
       "</pre>\n"
      ],
      "text/plain": [
       "\u001b[1;36m[\u001b[0m\u001b[1;36m+\u001b[0m\u001b[1;36m]\u001b[0m\u001b[1;36m Getting repo: \u001b[0m\u001b[1;4;36mhttps://github.com/ozankaraali/PiTV\u001b[0m\n"
      ]
     },
     "metadata": {},
     "output_type": "display_data"
    },
    {
     "data": {
      "text/html": [
       "<pre style=\"white-space:pre;overflow-x:auto;line-height:normal;font-family:Menlo,'DejaVu Sans Mono',consolas,'Courier New',monospace\"><span style=\"color: #008080; text-decoration-color: #008080; font-weight: bold\">[+] Successfully retrieved repo: </span><span style=\"color: #008080; text-decoration-color: #008080; font-weight: bold; text-decoration: underline\">https://github.com/ozankaraali/PiTV</span>\n",
       "</pre>\n"
      ],
      "text/plain": [
       "\u001b[1;36m[\u001b[0m\u001b[1;36m+\u001b[0m\u001b[1;36m]\u001b[0m\u001b[1;36m Successfully retrieved repo: \u001b[0m\u001b[1;4;36mhttps://github.com/ozankaraali/PiTV\u001b[0m\n"
      ]
     },
     "metadata": {},
     "output_type": "display_data"
    },
    {
     "data": {
      "text/html": [
       "<pre style=\"white-space:pre;overflow-x:auto;line-height:normal;font-family:Menlo,'DejaVu Sans Mono',consolas,'Courier New',monospace\"><span style=\"color: #008080; text-decoration-color: #008080; font-weight: bold\">[+] Found package.json at </span><span style=\"color: #008080; text-decoration-color: #008080; font-weight: bold; text-decoration: underline\">https://github.com/ozankaraali/PiTV</span>\n",
       "</pre>\n"
      ],
      "text/plain": [
       "\u001b[1;36m[\u001b[0m\u001b[1;36m+\u001b[0m\u001b[1;36m]\u001b[0m\u001b[1;36m Found package.json at \u001b[0m\u001b[1;4;36mhttps://github.com/ozankaraali/PiTV\u001b[0m\n"
      ]
     },
     "metadata": {},
     "output_type": "display_data"
    },
    {
     "data": {
      "text/html": [
       "<pre style=\"white-space:pre;overflow-x:auto;line-height:normal;font-family:Menlo,'DejaVu Sans Mono',consolas,'Courier New',monospace\"><span style=\"color: #008080; text-decoration-color: #008080; font-weight: bold\">[+] Getting </span><span style=\"color: #008080; text-decoration-color: #008080; font-weight: bold; text-decoration: underline\">https://github.com/ozankaraali/PiTV/blob/main/package.json</span>\n",
       "</pre>\n"
      ],
      "text/plain": [
       "\u001b[1;36m[\u001b[0m\u001b[1;36m+\u001b[0m\u001b[1;36m]\u001b[0m\u001b[1;36m Getting \u001b[0m\u001b[1;4;36mhttps://github.com/ozankaraali/PiTV/blob/main/package.json\u001b[0m\n"
      ]
     },
     "metadata": {},
     "output_type": "display_data"
    },
    {
     "data": {
      "text/html": [
       "<pre style=\"white-space:pre;overflow-x:auto;line-height:normal;font-family:Menlo,'DejaVu Sans Mono',consolas,'Courier New',monospace\"><span style=\"color: #008080; text-decoration-color: #008080; font-weight: bold\">[+] Getting repo: </span><span style=\"color: #008080; text-decoration-color: #008080; font-weight: bold; text-decoration: underline\">https://github.com/poooi/poi</span>\n",
       "</pre>\n"
      ],
      "text/plain": [
       "\u001b[1;36m[\u001b[0m\u001b[1;36m+\u001b[0m\u001b[1;36m]\u001b[0m\u001b[1;36m Getting repo: \u001b[0m\u001b[1;4;36mhttps://github.com/poooi/poi\u001b[0m\n"
      ]
     },
     "metadata": {},
     "output_type": "display_data"
    },
    {
     "data": {
      "text/html": [
       "<pre style=\"white-space:pre;overflow-x:auto;line-height:normal;font-family:Menlo,'DejaVu Sans Mono',consolas,'Courier New',monospace\"><span style=\"color: #008080; text-decoration-color: #008080; font-weight: bold\">[+] Successfully retrieved repo: </span><span style=\"color: #008080; text-decoration-color: #008080; font-weight: bold; text-decoration: underline\">https://github.com/poooi/poi</span>\n",
       "</pre>\n"
      ],
      "text/plain": [
       "\u001b[1;36m[\u001b[0m\u001b[1;36m+\u001b[0m\u001b[1;36m]\u001b[0m\u001b[1;36m Successfully retrieved repo: \u001b[0m\u001b[1;4;36mhttps://github.com/poooi/poi\u001b[0m\n"
      ]
     },
     "metadata": {},
     "output_type": "display_data"
    },
    {
     "data": {
      "text/html": [
       "<pre style=\"white-space:pre;overflow-x:auto;line-height:normal;font-family:Menlo,'DejaVu Sans Mono',consolas,'Courier New',monospace\"><span style=\"color: #008080; text-decoration-color: #008080; font-weight: bold\">[+] Found package.json at </span><span style=\"color: #008080; text-decoration-color: #008080; font-weight: bold; text-decoration: underline\">https://github.com/poooi/poi</span>\n",
       "</pre>\n"
      ],
      "text/plain": [
       "\u001b[1;36m[\u001b[0m\u001b[1;36m+\u001b[0m\u001b[1;36m]\u001b[0m\u001b[1;36m Found package.json at \u001b[0m\u001b[1;4;36mhttps://github.com/poooi/poi\u001b[0m\n"
      ]
     },
     "metadata": {},
     "output_type": "display_data"
    },
    {
     "data": {
      "text/html": [
       "<pre style=\"white-space:pre;overflow-x:auto;line-height:normal;font-family:Menlo,'DejaVu Sans Mono',consolas,'Courier New',monospace\"><span style=\"color: #008080; text-decoration-color: #008080; font-weight: bold\">[+] Getting </span><span style=\"color: #008080; text-decoration-color: #008080; font-weight: bold; text-decoration: underline\">https://github.com/poooi/poi/blob/master/package.json</span>\n",
       "</pre>\n"
      ],
      "text/plain": [
       "\u001b[1;36m[\u001b[0m\u001b[1;36m+\u001b[0m\u001b[1;36m]\u001b[0m\u001b[1;36m Getting \u001b[0m\u001b[1;4;36mhttps://github.com/poooi/poi/blob/master/package.json\u001b[0m\n"
      ]
     },
     "metadata": {},
     "output_type": "display_data"
    },
    {
     "data": {
      "text/html": [
       "<pre style=\"white-space:pre;overflow-x:auto;line-height:normal;font-family:Menlo,'DejaVu Sans Mono',consolas,'Courier New',monospace\"><span style=\"color: #008080; text-decoration-color: #008080; font-weight: bold\">[+] Getting repo: </span><span style=\"color: #008080; text-decoration-color: #008080; font-weight: bold; text-decoration: underline\">https://github.com/Splode/pomotroid</span>\n",
       "</pre>\n"
      ],
      "text/plain": [
       "\u001b[1;36m[\u001b[0m\u001b[1;36m+\u001b[0m\u001b[1;36m]\u001b[0m\u001b[1;36m Getting repo: \u001b[0m\u001b[1;4;36mhttps://github.com/Splode/pomotroid\u001b[0m\n"
      ]
     },
     "metadata": {},
     "output_type": "display_data"
    },
    {
     "data": {
      "text/html": [
       "<pre style=\"white-space:pre;overflow-x:auto;line-height:normal;font-family:Menlo,'DejaVu Sans Mono',consolas,'Courier New',monospace\"><span style=\"color: #008080; text-decoration-color: #008080; font-weight: bold\">[+] Successfully retrieved repo: </span><span style=\"color: #008080; text-decoration-color: #008080; font-weight: bold; text-decoration: underline\">https://github.com/Splode/pomotroid</span>\n",
       "</pre>\n"
      ],
      "text/plain": [
       "\u001b[1;36m[\u001b[0m\u001b[1;36m+\u001b[0m\u001b[1;36m]\u001b[0m\u001b[1;36m Successfully retrieved repo: \u001b[0m\u001b[1;4;36mhttps://github.com/Splode/pomotroid\u001b[0m\n"
      ]
     },
     "metadata": {},
     "output_type": "display_data"
    },
    {
     "data": {
      "text/html": [
       "<pre style=\"white-space:pre;overflow-x:auto;line-height:normal;font-family:Menlo,'DejaVu Sans Mono',consolas,'Courier New',monospace\"><span style=\"color: #008080; text-decoration-color: #008080; font-weight: bold\">[+] Found package.json at </span><span style=\"color: #008080; text-decoration-color: #008080; font-weight: bold; text-decoration: underline\">https://github.com/Splode/pomotroid</span>\n",
       "</pre>\n"
      ],
      "text/plain": [
       "\u001b[1;36m[\u001b[0m\u001b[1;36m+\u001b[0m\u001b[1;36m]\u001b[0m\u001b[1;36m Found package.json at \u001b[0m\u001b[1;4;36mhttps://github.com/Splode/pomotroid\u001b[0m\n"
      ]
     },
     "metadata": {},
     "output_type": "display_data"
    },
    {
     "data": {
      "text/html": [
       "<pre style=\"white-space:pre;overflow-x:auto;line-height:normal;font-family:Menlo,'DejaVu Sans Mono',consolas,'Courier New',monospace\"><span style=\"color: #008080; text-decoration-color: #008080; font-weight: bold\">[+] Getting </span><span style=\"color: #008080; text-decoration-color: #008080; font-weight: bold; text-decoration: underline\">https://github.com/Splode/pomotroid/blob/master/package.json</span>\n",
       "</pre>\n"
      ],
      "text/plain": [
       "\u001b[1;36m[\u001b[0m\u001b[1;36m+\u001b[0m\u001b[1;36m]\u001b[0m\u001b[1;36m Getting \u001b[0m\u001b[1;4;36mhttps://github.com/Splode/pomotroid/blob/master/package.json\u001b[0m\n"
      ]
     },
     "metadata": {},
     "output_type": "display_data"
    },
    {
     "data": {
      "text/html": [
       "<pre style=\"white-space:pre;overflow-x:auto;line-height:normal;font-family:Menlo,'DejaVu Sans Mono',consolas,'Courier New',monospace\"><span style=\"color: #008080; text-decoration-color: #008080; font-weight: bold\">[+] Getting repo: </span><span style=\"color: #008080; text-decoration-color: #008080; font-weight: bold; text-decoration: underline\">https://github.com/PreMiD/PreMiD</span>\n",
       "</pre>\n"
      ],
      "text/plain": [
       "\u001b[1;36m[\u001b[0m\u001b[1;36m+\u001b[0m\u001b[1;36m]\u001b[0m\u001b[1;36m Getting repo: \u001b[0m\u001b[1;4;36mhttps://github.com/PreMiD/PreMiD\u001b[0m\n"
      ]
     },
     "metadata": {},
     "output_type": "display_data"
    },
    {
     "data": {
      "text/html": [
       "<pre style=\"white-space:pre;overflow-x:auto;line-height:normal;font-family:Menlo,'DejaVu Sans Mono',consolas,'Courier New',monospace\"><span style=\"color: #008080; text-decoration-color: #008080; font-weight: bold\">[+] Successfully retrieved repo: </span><span style=\"color: #008080; text-decoration-color: #008080; font-weight: bold; text-decoration: underline\">https://github.com/PreMiD/PreMiD</span>\n",
       "</pre>\n"
      ],
      "text/plain": [
       "\u001b[1;36m[\u001b[0m\u001b[1;36m+\u001b[0m\u001b[1;36m]\u001b[0m\u001b[1;36m Successfully retrieved repo: \u001b[0m\u001b[1;4;36mhttps://github.com/PreMiD/PreMiD\u001b[0m\n"
      ]
     },
     "metadata": {},
     "output_type": "display_data"
    },
    {
     "data": {
      "text/html": [
       "<pre style=\"white-space:pre;overflow-x:auto;line-height:normal;font-family:Menlo,'DejaVu Sans Mono',consolas,'Courier New',monospace\"><span style=\"color: #008080; text-decoration-color: #008080; font-weight: bold\">[+] Found package.json at </span><span style=\"color: #008080; text-decoration-color: #008080; font-weight: bold; text-decoration: underline\">https://github.com/PreMiD/PreMiD</span>\n",
       "</pre>\n"
      ],
      "text/plain": [
       "\u001b[1;36m[\u001b[0m\u001b[1;36m+\u001b[0m\u001b[1;36m]\u001b[0m\u001b[1;36m Found package.json at \u001b[0m\u001b[1;4;36mhttps://github.com/PreMiD/PreMiD\u001b[0m\n"
      ]
     },
     "metadata": {},
     "output_type": "display_data"
    },
    {
     "data": {
      "text/html": [
       "<pre style=\"white-space:pre;overflow-x:auto;line-height:normal;font-family:Menlo,'DejaVu Sans Mono',consolas,'Courier New',monospace\"><span style=\"color: #008080; text-decoration-color: #008080; font-weight: bold\">[+] Getting </span><span style=\"color: #008080; text-decoration-color: #008080; font-weight: bold; text-decoration: underline\">https://github.com/PreMiD/PreMiD/blob/main/package.json</span>\n",
       "</pre>\n"
      ],
      "text/plain": [
       "\u001b[1;36m[\u001b[0m\u001b[1;36m+\u001b[0m\u001b[1;36m]\u001b[0m\u001b[1;36m Getting \u001b[0m\u001b[1;4;36mhttps://github.com/PreMiD/PreMiD/blob/main/package.json\u001b[0m\n"
      ]
     },
     "metadata": {},
     "output_type": "display_data"
    },
    {
     "data": {
      "text/html": [
       "<pre style=\"white-space:pre;overflow-x:auto;line-height:normal;font-family:Menlo,'DejaVu Sans Mono',consolas,'Courier New',monospace\"><span style=\"color: #008080; text-decoration-color: #008080; font-weight: bold\">[+] Getting repo: </span><span style=\"color: #008080; text-decoration-color: #008080; font-weight: bold; text-decoration: underline\">https://github.com/evertdespiegeleer/PrettyEarth</span>\n",
       "</pre>\n"
      ],
      "text/plain": [
       "\u001b[1;36m[\u001b[0m\u001b[1;36m+\u001b[0m\u001b[1;36m]\u001b[0m\u001b[1;36m Getting repo: \u001b[0m\u001b[1;4;36mhttps://github.com/evertdespiegeleer/PrettyEarth\u001b[0m\n"
      ]
     },
     "metadata": {},
     "output_type": "display_data"
    },
    {
     "data": {
      "text/html": [
       "<pre style=\"white-space:pre;overflow-x:auto;line-height:normal;font-family:Menlo,'DejaVu Sans Mono',consolas,'Courier New',monospace\"><span style=\"color: #008080; text-decoration-color: #008080; font-weight: bold\">[+] Successfully retrieved repo: </span><span style=\"color: #008080; text-decoration-color: #008080; font-weight: bold; text-decoration: underline\">https://github.com/evertdespiegeleer/PrettyEarth</span>\n",
       "</pre>\n"
      ],
      "text/plain": [
       "\u001b[1;36m[\u001b[0m\u001b[1;36m+\u001b[0m\u001b[1;36m]\u001b[0m\u001b[1;36m Successfully retrieved repo: \u001b[0m\u001b[1;4;36mhttps://github.com/evertdespiegeleer/PrettyEarth\u001b[0m\n"
      ]
     },
     "metadata": {},
     "output_type": "display_data"
    },
    {
     "data": {
      "text/html": [
       "<pre style=\"white-space:pre;overflow-x:auto;line-height:normal;font-family:Menlo,'DejaVu Sans Mono',consolas,'Courier New',monospace\"><span style=\"color: #008080; text-decoration-color: #008080; font-weight: bold\">[+] Found package.json at </span><span style=\"color: #008080; text-decoration-color: #008080; font-weight: bold; text-decoration: underline\">https://github.com/evertdespiegeleer/PrettyEarth</span>\n",
       "</pre>\n"
      ],
      "text/plain": [
       "\u001b[1;36m[\u001b[0m\u001b[1;36m+\u001b[0m\u001b[1;36m]\u001b[0m\u001b[1;36m Found package.json at \u001b[0m\u001b[1;4;36mhttps://github.com/evertdespiegeleer/PrettyEarth\u001b[0m\n"
      ]
     },
     "metadata": {},
     "output_type": "display_data"
    },
    {
     "data": {
      "text/html": [
       "<pre style=\"white-space:pre;overflow-x:auto;line-height:normal;font-family:Menlo,'DejaVu Sans Mono',consolas,'Courier New',monospace\"><span style=\"color: #008080; text-decoration-color: #008080; font-weight: bold\">[+] Getting </span><span style=\"color: #008080; text-decoration-color: #008080; font-weight: bold; text-decoration: underline\">https://github.com/evertdespiegeleer/PrettyEarth/blob/master/package.json</span>\n",
       "</pre>\n"
      ],
      "text/plain": [
       "\u001b[1;36m[\u001b[0m\u001b[1;36m+\u001b[0m\u001b[1;36m]\u001b[0m\u001b[1;36m Getting \u001b[0m\u001b[1;4;36mhttps://github.com/evertdespiegeleer/PrettyEarth/blob/master/package.json\u001b[0m\n"
      ]
     },
     "metadata": {},
     "output_type": "display_data"
    },
    {
     "data": {
      "text/html": [
       "<pre style=\"white-space:pre;overflow-x:auto;line-height:normal;font-family:Menlo,'DejaVu Sans Mono',consolas,'Courier New',monospace\"><span style=\"color: #008080; text-decoration-color: #008080; font-weight: bold\">[+] Getting repo: </span><span style=\"color: #008080; text-decoration-color: #008080; font-weight: bold; text-decoration: underline\">https://github.com/getprimate/primate</span>\n",
       "</pre>\n"
      ],
      "text/plain": [
       "\u001b[1;36m[\u001b[0m\u001b[1;36m+\u001b[0m\u001b[1;36m]\u001b[0m\u001b[1;36m Getting repo: \u001b[0m\u001b[1;4;36mhttps://github.com/getprimate/primate\u001b[0m\n"
      ]
     },
     "metadata": {},
     "output_type": "display_data"
    },
    {
     "data": {
      "text/html": [
       "<pre style=\"white-space:pre;overflow-x:auto;line-height:normal;font-family:Menlo,'DejaVu Sans Mono',consolas,'Courier New',monospace\"><span style=\"color: #008080; text-decoration-color: #008080; font-weight: bold\">[+] Successfully retrieved repo: </span><span style=\"color: #008080; text-decoration-color: #008080; font-weight: bold; text-decoration: underline\">https://github.com/getprimate/primate</span>\n",
       "</pre>\n"
      ],
      "text/plain": [
       "\u001b[1;36m[\u001b[0m\u001b[1;36m+\u001b[0m\u001b[1;36m]\u001b[0m\u001b[1;36m Successfully retrieved repo: \u001b[0m\u001b[1;4;36mhttps://github.com/getprimate/primate\u001b[0m\n"
      ]
     },
     "metadata": {},
     "output_type": "display_data"
    },
    {
     "data": {
      "text/html": [
       "<pre style=\"white-space:pre;overflow-x:auto;line-height:normal;font-family:Menlo,'DejaVu Sans Mono',consolas,'Courier New',monospace\"><span style=\"color: #008080; text-decoration-color: #008080; font-weight: bold\">[+] Found package.json at </span><span style=\"color: #008080; text-decoration-color: #008080; font-weight: bold; text-decoration: underline\">https://github.com/getprimate/primate</span>\n",
       "</pre>\n"
      ],
      "text/plain": [
       "\u001b[1;36m[\u001b[0m\u001b[1;36m+\u001b[0m\u001b[1;36m]\u001b[0m\u001b[1;36m Found package.json at \u001b[0m\u001b[1;4;36mhttps://github.com/getprimate/primate\u001b[0m\n"
      ]
     },
     "metadata": {},
     "output_type": "display_data"
    },
    {
     "data": {
      "text/html": [
       "<pre style=\"white-space:pre;overflow-x:auto;line-height:normal;font-family:Menlo,'DejaVu Sans Mono',consolas,'Courier New',monospace\"><span style=\"color: #008080; text-decoration-color: #008080; font-weight: bold\">[+] Getting </span><span style=\"color: #008080; text-decoration-color: #008080; font-weight: bold; text-decoration: underline\">https://github.com/getprimate/primate/blob/main/package.json</span>\n",
       "</pre>\n"
      ],
      "text/plain": [
       "\u001b[1;36m[\u001b[0m\u001b[1;36m+\u001b[0m\u001b[1;36m]\u001b[0m\u001b[1;36m Getting \u001b[0m\u001b[1;4;36mhttps://github.com/getprimate/primate/blob/main/package.json\u001b[0m\n"
      ]
     },
     "metadata": {},
     "output_type": "display_data"
    },
    {
     "data": {
      "text/html": [
       "<pre style=\"white-space:pre;overflow-x:auto;line-height:normal;font-family:Menlo,'DejaVu Sans Mono',consolas,'Courier New',monospace\"><span style=\"color: #008080; text-decoration-color: #008080; font-weight: bold\">[+] Getting repo: </span><span style=\"color: #008080; text-decoration-color: #008080; font-weight: bold; text-decoration: underline\">https://github.com/HydroCarbons/ProSecrec</span>\n",
       "</pre>\n"
      ],
      "text/plain": [
       "\u001b[1;36m[\u001b[0m\u001b[1;36m+\u001b[0m\u001b[1;36m]\u001b[0m\u001b[1;36m Getting repo: \u001b[0m\u001b[1;4;36mhttps://github.com/HydroCarbons/ProSecrec\u001b[0m\n"
      ]
     },
     "metadata": {},
     "output_type": "display_data"
    },
    {
     "data": {
      "text/html": [
       "<pre style=\"white-space:pre;overflow-x:auto;line-height:normal;font-family:Menlo,'DejaVu Sans Mono',consolas,'Courier New',monospace\"><span style=\"color: #008080; text-decoration-color: #008080; font-weight: bold\">[+] Successfully retrieved repo: </span><span style=\"color: #008080; text-decoration-color: #008080; font-weight: bold; text-decoration: underline\">https://github.com/HydroCarbons/ProSecrec</span>\n",
       "</pre>\n"
      ],
      "text/plain": [
       "\u001b[1;36m[\u001b[0m\u001b[1;36m+\u001b[0m\u001b[1;36m]\u001b[0m\u001b[1;36m Successfully retrieved repo: \u001b[0m\u001b[1;4;36mhttps://github.com/HydroCarbons/ProSecrec\u001b[0m\n"
      ]
     },
     "metadata": {},
     "output_type": "display_data"
    },
    {
     "data": {
      "text/html": [
       "<pre style=\"white-space:pre;overflow-x:auto;line-height:normal;font-family:Menlo,'DejaVu Sans Mono',consolas,'Courier New',monospace\"><span style=\"color: #ff5f00; text-decoration-color: #ff5f00; font-weight: bold\">[!] Package.json not found at root of </span><span style=\"color: #ff5f00; text-decoration-color: #ff5f00; font-weight: bold; text-decoration: underline\">https://github.com/HydroCarbons/ProSecrec;</span><span style=\"color: #ff5f00; text-decoration-color: #ff5f00; font-weight: bold\"> trying directories</span>\n",
       "</pre>\n"
      ],
      "text/plain": [
       "\u001b[1;38;5;202m[\u001b[0m\u001b[1;38;5;202m!\u001b[0m\u001b[1;38;5;202m]\u001b[0m\u001b[1;38;5;202m Package.json not found at root of \u001b[0m\u001b[1;4;38;5;202mhttps://github.com/HydroCarbons/ProSecrec;\u001b[0m\u001b[1;38;5;202m trying directories\u001b[0m\n"
      ]
     },
     "metadata": {},
     "output_type": "display_data"
    },
    {
     "data": {
      "text/html": [
       "<pre style=\"white-space:pre;overflow-x:auto;line-height:normal;font-family:Menlo,'DejaVu Sans Mono',consolas,'Courier New',monospace\"><span style=\"color: #800000; text-decoration-color: #800000; font-weight: bold\">[💀] Could not find package.json in first-level-subdirs</span>\n",
       "</pre>\n"
      ],
      "text/plain": [
       "\u001b[1;31m[\u001b[0m\u001b[1;31m💀\u001b[0m\u001b[1;31m]\u001b[0m\u001b[1;31m Could not find package.json in first-level-subdirs\u001b[0m\n"
      ]
     },
     "metadata": {},
     "output_type": "display_data"
    },
    {
     "data": {
      "text/html": [
       "<pre style=\"white-space:pre;overflow-x:auto;line-height:normal;font-family:Menlo,'DejaVu Sans Mono',consolas,'Courier New',monospace\"><span style=\"color: #008080; text-decoration-color: #008080; font-weight: bold\">[+] Getting repo: </span><span style=\"color: #008080; text-decoration-color: #008080; font-weight: bold; text-decoration: underline\">https://github.com/dsheiko/puppetry/</span>\n",
       "</pre>\n"
      ],
      "text/plain": [
       "\u001b[1;36m[\u001b[0m\u001b[1;36m+\u001b[0m\u001b[1;36m]\u001b[0m\u001b[1;36m Getting repo: \u001b[0m\u001b[1;4;36mhttps://github.com/dsheiko/puppetry/\u001b[0m\n"
      ]
     },
     "metadata": {},
     "output_type": "display_data"
    },
    {
     "data": {
      "text/html": [
       "<pre style=\"white-space:pre;overflow-x:auto;line-height:normal;font-family:Menlo,'DejaVu Sans Mono',consolas,'Courier New',monospace\"><span style=\"color: #008080; text-decoration-color: #008080; font-weight: bold\">[+] Successfully retrieved repo: </span><span style=\"color: #008080; text-decoration-color: #008080; font-weight: bold; text-decoration: underline\">https://github.com/dsheiko/puppetry/</span>\n",
       "</pre>\n"
      ],
      "text/plain": [
       "\u001b[1;36m[\u001b[0m\u001b[1;36m+\u001b[0m\u001b[1;36m]\u001b[0m\u001b[1;36m Successfully retrieved repo: \u001b[0m\u001b[1;4;36mhttps://github.com/dsheiko/puppetry/\u001b[0m\n"
      ]
     },
     "metadata": {},
     "output_type": "display_data"
    },
    {
     "data": {
      "text/html": [
       "<pre style=\"white-space:pre;overflow-x:auto;line-height:normal;font-family:Menlo,'DejaVu Sans Mono',consolas,'Courier New',monospace\"><span style=\"color: #008080; text-decoration-color: #008080; font-weight: bold\">[+] Found package.json at </span><span style=\"color: #008080; text-decoration-color: #008080; font-weight: bold; text-decoration: underline\">https://github.com/dsheiko/puppetry/</span>\n",
       "</pre>\n"
      ],
      "text/plain": [
       "\u001b[1;36m[\u001b[0m\u001b[1;36m+\u001b[0m\u001b[1;36m]\u001b[0m\u001b[1;36m Found package.json at \u001b[0m\u001b[1;4;36mhttps://github.com/dsheiko/puppetry/\u001b[0m\n"
      ]
     },
     "metadata": {},
     "output_type": "display_data"
    },
    {
     "data": {
      "text/html": [
       "<pre style=\"white-space:pre;overflow-x:auto;line-height:normal;font-family:Menlo,'DejaVu Sans Mono',consolas,'Courier New',monospace\"><span style=\"color: #008080; text-decoration-color: #008080; font-weight: bold\">[+] Getting </span><span style=\"color: #008080; text-decoration-color: #008080; font-weight: bold; text-decoration: underline\">https://github.com/dsheiko/puppetry/blob/master/package.json</span>\n",
       "</pre>\n"
      ],
      "text/plain": [
       "\u001b[1;36m[\u001b[0m\u001b[1;36m+\u001b[0m\u001b[1;36m]\u001b[0m\u001b[1;36m Getting \u001b[0m\u001b[1;4;36mhttps://github.com/dsheiko/puppetry/blob/master/package.json\u001b[0m\n"
      ]
     },
     "metadata": {},
     "output_type": "display_data"
    },
    {
     "data": {
      "text/html": [
       "<pre style=\"white-space:pre;overflow-x:auto;line-height:normal;font-family:Menlo,'DejaVu Sans Mono',consolas,'Courier New',monospace\"><span style=\"color: #008080; text-decoration-color: #008080; font-weight: bold\">[+] Getting repo: </span><span style=\"color: #008080; text-decoration-color: #008080; font-weight: bold; text-decoration: underline\">https://github.com/Toooorch/q-player/</span>\n",
       "</pre>\n"
      ],
      "text/plain": [
       "\u001b[1;36m[\u001b[0m\u001b[1;36m+\u001b[0m\u001b[1;36m]\u001b[0m\u001b[1;36m Getting repo: \u001b[0m\u001b[1;4;36mhttps://github.com/Toooorch/q-player/\u001b[0m\n"
      ]
     },
     "metadata": {},
     "output_type": "display_data"
    },
    {
     "data": {
      "text/html": [
       "<pre style=\"white-space:pre;overflow-x:auto;line-height:normal;font-family:Menlo,'DejaVu Sans Mono',consolas,'Courier New',monospace\"><span style=\"color: #008080; text-decoration-color: #008080; font-weight: bold\">[+] Successfully retrieved repo: </span><span style=\"color: #008080; text-decoration-color: #008080; font-weight: bold; text-decoration: underline\">https://github.com/Toooorch/q-player/</span>\n",
       "</pre>\n"
      ],
      "text/plain": [
       "\u001b[1;36m[\u001b[0m\u001b[1;36m+\u001b[0m\u001b[1;36m]\u001b[0m\u001b[1;36m Successfully retrieved repo: \u001b[0m\u001b[1;4;36mhttps://github.com/Toooorch/q-player/\u001b[0m\n"
      ]
     },
     "metadata": {},
     "output_type": "display_data"
    },
    {
     "data": {
      "text/html": [
       "<pre style=\"white-space:pre;overflow-x:auto;line-height:normal;font-family:Menlo,'DejaVu Sans Mono',consolas,'Courier New',monospace\"><span style=\"color: #ff5f00; text-decoration-color: #ff5f00; font-weight: bold\">[!] Package.json not found at root of </span><span style=\"color: #ff5f00; text-decoration-color: #ff5f00; font-weight: bold; text-decoration: underline\">https://github.com/Toooorch/q-player/;</span><span style=\"color: #ff5f00; text-decoration-color: #ff5f00; font-weight: bold\"> trying directories</span>\n",
       "</pre>\n"
      ],
      "text/plain": [
       "\u001b[1;38;5;202m[\u001b[0m\u001b[1;38;5;202m!\u001b[0m\u001b[1;38;5;202m]\u001b[0m\u001b[1;38;5;202m Package.json not found at root of \u001b[0m\u001b[1;4;38;5;202mhttps://github.com/Toooorch/q-player/;\u001b[0m\u001b[1;38;5;202m trying directories\u001b[0m\n"
      ]
     },
     "metadata": {},
     "output_type": "display_data"
    },
    {
     "data": {
      "text/html": [
       "<pre style=\"white-space:pre;overflow-x:auto;line-height:normal;font-family:Menlo,'DejaVu Sans Mono',consolas,'Courier New',monospace\"><span style=\"color: #008080; text-decoration-color: #008080; font-weight: bold\">[+] Trying </span><span style=\"color: #008080; text-decoration-color: #008080; font-weight: bold; text-decoration: underline\">https://github.com/Toooorch/q-player/tree/master/.github</span>\n",
       "</pre>\n"
      ],
      "text/plain": [
       "\u001b[1;36m[\u001b[0m\u001b[1;36m+\u001b[0m\u001b[1;36m]\u001b[0m\u001b[1;36m Trying \u001b[0m\u001b[1;4;36mhttps://github.com/Toooorch/q-player/tree/master/.github\u001b[0m\n"
      ]
     },
     "metadata": {},
     "output_type": "display_data"
    },
    {
     "data": {
      "text/html": [
       "<pre style=\"white-space:pre;overflow-x:auto;line-height:normal;font-family:Menlo,'DejaVu Sans Mono',consolas,'Courier New',monospace\"><span style=\"color: #008080; text-decoration-color: #008080; font-weight: bold\">[+] Trying </span><span style=\"color: #008080; text-decoration-color: #008080; font-weight: bold; text-decoration: underline\">https://github.com/Toooorch/q-player/tree/master/Screenshots</span>\n",
       "</pre>\n"
      ],
      "text/plain": [
       "\u001b[1;36m[\u001b[0m\u001b[1;36m+\u001b[0m\u001b[1;36m]\u001b[0m\u001b[1;36m Trying \u001b[0m\u001b[1;4;36mhttps://github.com/Toooorch/q-player/tree/master/Screenshots\u001b[0m\n"
      ]
     },
     "metadata": {},
     "output_type": "display_data"
    },
    {
     "data": {
      "text/html": [
       "<pre style=\"white-space:pre;overflow-x:auto;line-height:normal;font-family:Menlo,'DejaVu Sans Mono',consolas,'Courier New',monospace\"><span style=\"color: #800000; text-decoration-color: #800000; font-weight: bold\">[💀] Could not find package.json in first-level-subdirs</span>\n",
       "</pre>\n"
      ],
      "text/plain": [
       "\u001b[1;31m[\u001b[0m\u001b[1;31m💀\u001b[0m\u001b[1;31m]\u001b[0m\u001b[1;31m Could not find package.json in first-level-subdirs\u001b[0m\n"
      ]
     },
     "metadata": {},
     "output_type": "display_data"
    },
    {
     "data": {
      "text/html": [
       "<pre style=\"white-space:pre;overflow-x:auto;line-height:normal;font-family:Menlo,'DejaVu Sans Mono',consolas,'Courier New',monospace\"><span style=\"color: #008080; text-decoration-color: #008080; font-weight: bold\">[+] Getting repo: </span><span style=\"color: #008080; text-decoration-color: #008080; font-weight: bold; text-decoration: underline\">https://github.com/sufone/qawl</span>\n",
       "</pre>\n"
      ],
      "text/plain": [
       "\u001b[1;36m[\u001b[0m\u001b[1;36m+\u001b[0m\u001b[1;36m]\u001b[0m\u001b[1;36m Getting repo: \u001b[0m\u001b[1;4;36mhttps://github.com/sufone/qawl\u001b[0m\n"
      ]
     },
     "metadata": {},
     "output_type": "display_data"
    },
    {
     "data": {
      "text/html": [
       "<pre style=\"white-space:pre;overflow-x:auto;line-height:normal;font-family:Menlo,'DejaVu Sans Mono',consolas,'Courier New',monospace\"><span style=\"color: #008080; text-decoration-color: #008080; font-weight: bold\">[+] Successfully retrieved repo: </span><span style=\"color: #008080; text-decoration-color: #008080; font-weight: bold; text-decoration: underline\">https://github.com/sufone/qawl</span>\n",
       "</pre>\n"
      ],
      "text/plain": [
       "\u001b[1;36m[\u001b[0m\u001b[1;36m+\u001b[0m\u001b[1;36m]\u001b[0m\u001b[1;36m Successfully retrieved repo: \u001b[0m\u001b[1;4;36mhttps://github.com/sufone/qawl\u001b[0m\n"
      ]
     },
     "metadata": {},
     "output_type": "display_data"
    },
    {
     "data": {
      "text/html": [
       "<pre style=\"white-space:pre;overflow-x:auto;line-height:normal;font-family:Menlo,'DejaVu Sans Mono',consolas,'Courier New',monospace\"><span style=\"color: #008080; text-decoration-color: #008080; font-weight: bold\">[+] Found package.json at </span><span style=\"color: #008080; text-decoration-color: #008080; font-weight: bold; text-decoration: underline\">https://github.com/sufone/qawl</span>\n",
       "</pre>\n"
      ],
      "text/plain": [
       "\u001b[1;36m[\u001b[0m\u001b[1;36m+\u001b[0m\u001b[1;36m]\u001b[0m\u001b[1;36m Found package.json at \u001b[0m\u001b[1;4;36mhttps://github.com/sufone/qawl\u001b[0m\n"
      ]
     },
     "metadata": {},
     "output_type": "display_data"
    },
    {
     "data": {
      "text/html": [
       "<pre style=\"white-space:pre;overflow-x:auto;line-height:normal;font-family:Menlo,'DejaVu Sans Mono',consolas,'Courier New',monospace\"><span style=\"color: #008080; text-decoration-color: #008080; font-weight: bold\">[+] Getting </span><span style=\"color: #008080; text-decoration-color: #008080; font-weight: bold; text-decoration: underline\">https://github.com/sufone/qawl/blob/master/package.json</span>\n",
       "</pre>\n"
      ],
      "text/plain": [
       "\u001b[1;36m[\u001b[0m\u001b[1;36m+\u001b[0m\u001b[1;36m]\u001b[0m\u001b[1;36m Getting \u001b[0m\u001b[1;4;36mhttps://github.com/sufone/qawl/blob/master/package.json\u001b[0m\n"
      ]
     },
     "metadata": {},
     "output_type": "display_data"
    },
    {
     "data": {
      "text/html": [
       "<pre style=\"white-space:pre;overflow-x:auto;line-height:normal;font-family:Menlo,'DejaVu Sans Mono',consolas,'Courier New',monospace\"><span style=\"color: #008080; text-decoration-color: #008080; font-weight: bold\">[+] Getting repo: </span><span style=\"color: #008080; text-decoration-color: #008080; font-weight: bold; text-decoration: underline\">https://github.com/QMUI/qmui_web_desktop</span>\n",
       "</pre>\n"
      ],
      "text/plain": [
       "\u001b[1;36m[\u001b[0m\u001b[1;36m+\u001b[0m\u001b[1;36m]\u001b[0m\u001b[1;36m Getting repo: \u001b[0m\u001b[1;4;36mhttps://github.com/QMUI/qmui_web_desktop\u001b[0m\n"
      ]
     },
     "metadata": {},
     "output_type": "display_data"
    },
    {
     "data": {
      "text/html": [
       "<pre style=\"white-space:pre;overflow-x:auto;line-height:normal;font-family:Menlo,'DejaVu Sans Mono',consolas,'Courier New',monospace\"><span style=\"color: #008080; text-decoration-color: #008080; font-weight: bold\">[+] Successfully retrieved repo: </span><span style=\"color: #008080; text-decoration-color: #008080; font-weight: bold; text-decoration: underline\">https://github.com/QMUI/qmui_web_desktop</span>\n",
       "</pre>\n"
      ],
      "text/plain": [
       "\u001b[1;36m[\u001b[0m\u001b[1;36m+\u001b[0m\u001b[1;36m]\u001b[0m\u001b[1;36m Successfully retrieved repo: \u001b[0m\u001b[1;4;36mhttps://github.com/QMUI/qmui_web_desktop\u001b[0m\n"
      ]
     },
     "metadata": {},
     "output_type": "display_data"
    },
    {
     "data": {
      "text/html": [
       "<pre style=\"white-space:pre;overflow-x:auto;line-height:normal;font-family:Menlo,'DejaVu Sans Mono',consolas,'Courier New',monospace\"><span style=\"color: #008080; text-decoration-color: #008080; font-weight: bold\">[+] Found package.json at </span><span style=\"color: #008080; text-decoration-color: #008080; font-weight: bold; text-decoration: underline\">https://github.com/QMUI/qmui_web_desktop</span>\n",
       "</pre>\n"
      ],
      "text/plain": [
       "\u001b[1;36m[\u001b[0m\u001b[1;36m+\u001b[0m\u001b[1;36m]\u001b[0m\u001b[1;36m Found package.json at \u001b[0m\u001b[1;4;36mhttps://github.com/QMUI/qmui_web_desktop\u001b[0m\n"
      ]
     },
     "metadata": {},
     "output_type": "display_data"
    },
    {
     "data": {
      "text/html": [
       "<pre style=\"white-space:pre;overflow-x:auto;line-height:normal;font-family:Menlo,'DejaVu Sans Mono',consolas,'Courier New',monospace\"><span style=\"color: #008080; text-decoration-color: #008080; font-weight: bold\">[+] Getting </span><span style=\"color: #008080; text-decoration-color: #008080; font-weight: bold; text-decoration: underline\">https://github.com/Tencent/QMUI_Web_Desktop/blob/master/package.json</span>\n",
       "</pre>\n"
      ],
      "text/plain": [
       "\u001b[1;36m[\u001b[0m\u001b[1;36m+\u001b[0m\u001b[1;36m]\u001b[0m\u001b[1;36m Getting \u001b[0m\u001b[1;4;36mhttps://github.com/Tencent/QMUI_Web_Desktop/blob/master/package.json\u001b[0m\n"
      ]
     },
     "metadata": {},
     "output_type": "display_data"
    },
    {
     "data": {
      "text/html": [
       "<pre style=\"white-space:pre;overflow-x:auto;line-height:normal;font-family:Menlo,'DejaVu Sans Mono',consolas,'Courier New',monospace\"><span style=\"color: #008080; text-decoration-color: #008080; font-weight: bold\">[+] Getting repo: </span><span style=\"color: #008080; text-decoration-color: #008080; font-weight: bold; text-decoration: underline\">https://github.com/Nishkalkashyap/Quark-electron</span>\n",
       "</pre>\n"
      ],
      "text/plain": [
       "\u001b[1;36m[\u001b[0m\u001b[1;36m+\u001b[0m\u001b[1;36m]\u001b[0m\u001b[1;36m Getting repo: \u001b[0m\u001b[1;4;36mhttps://github.com/Nishkalkashyap/Quark-electron\u001b[0m\n"
      ]
     },
     "metadata": {},
     "output_type": "display_data"
    },
    {
     "data": {
      "text/html": [
       "<pre style=\"white-space:pre;overflow-x:auto;line-height:normal;font-family:Menlo,'DejaVu Sans Mono',consolas,'Courier New',monospace\"><span style=\"color: #008080; text-decoration-color: #008080; font-weight: bold\">[+] Successfully retrieved repo: </span><span style=\"color: #008080; text-decoration-color: #008080; font-weight: bold; text-decoration: underline\">https://github.com/Nishkalkashyap/Quark-electron</span>\n",
       "</pre>\n"
      ],
      "text/plain": [
       "\u001b[1;36m[\u001b[0m\u001b[1;36m+\u001b[0m\u001b[1;36m]\u001b[0m\u001b[1;36m Successfully retrieved repo: \u001b[0m\u001b[1;4;36mhttps://github.com/Nishkalkashyap/Quark-electron\u001b[0m\n"
      ]
     },
     "metadata": {},
     "output_type": "display_data"
    },
    {
     "data": {
      "text/html": [
       "<pre style=\"white-space:pre;overflow-x:auto;line-height:normal;font-family:Menlo,'DejaVu Sans Mono',consolas,'Courier New',monospace\"><span style=\"color: #008080; text-decoration-color: #008080; font-weight: bold\">[+] Found package.json at </span><span style=\"color: #008080; text-decoration-color: #008080; font-weight: bold; text-decoration: underline\">https://github.com/Nishkalkashyap/Quark-electron</span>\n",
       "</pre>\n"
      ],
      "text/plain": [
       "\u001b[1;36m[\u001b[0m\u001b[1;36m+\u001b[0m\u001b[1;36m]\u001b[0m\u001b[1;36m Found package.json at \u001b[0m\u001b[1;4;36mhttps://github.com/Nishkalkashyap/Quark-electron\u001b[0m\n"
      ]
     },
     "metadata": {},
     "output_type": "display_data"
    },
    {
     "data": {
      "text/html": [
       "<pre style=\"white-space:pre;overflow-x:auto;line-height:normal;font-family:Menlo,'DejaVu Sans Mono',consolas,'Courier New',monospace\"><span style=\"color: #008080; text-decoration-color: #008080; font-weight: bold\">[+] Getting </span><span style=\"color: #008080; text-decoration-color: #008080; font-weight: bold; text-decoration: underline\">https://github.com/Nishkalkashyap/Quark-electron/blob/master/package.json</span>\n",
       "</pre>\n"
      ],
      "text/plain": [
       "\u001b[1;36m[\u001b[0m\u001b[1;36m+\u001b[0m\u001b[1;36m]\u001b[0m\u001b[1;36m Getting \u001b[0m\u001b[1;4;36mhttps://github.com/Nishkalkashyap/Quark-electron/blob/master/package.json\u001b[0m\n"
      ]
     },
     "metadata": {},
     "output_type": "display_data"
    },
    {
     "data": {
      "text/html": [
       "<pre style=\"white-space:pre;overflow-x:auto;line-height:normal;font-family:Menlo,'DejaVu Sans Mono',consolas,'Courier New',monospace\"><span style=\"color: #008080; text-decoration-color: #008080; font-weight: bold\">[+] Getting repo: </span><span style=\"color: #008080; text-decoration-color: #008080; font-weight: bold; text-decoration: underline\">https://github.com/ZUGFeRD/quba-viewer</span>\n",
       "</pre>\n"
      ],
      "text/plain": [
       "\u001b[1;36m[\u001b[0m\u001b[1;36m+\u001b[0m\u001b[1;36m]\u001b[0m\u001b[1;36m Getting repo: \u001b[0m\u001b[1;4;36mhttps://github.com/ZUGFeRD/quba-viewer\u001b[0m\n"
      ]
     },
     "metadata": {},
     "output_type": "display_data"
    },
    {
     "data": {
      "text/html": [
       "<pre style=\"white-space:pre;overflow-x:auto;line-height:normal;font-family:Menlo,'DejaVu Sans Mono',consolas,'Courier New',monospace\"><span style=\"color: #008080; text-decoration-color: #008080; font-weight: bold\">[+] Successfully retrieved repo: </span><span style=\"color: #008080; text-decoration-color: #008080; font-weight: bold; text-decoration: underline\">https://github.com/ZUGFeRD/quba-viewer</span>\n",
       "</pre>\n"
      ],
      "text/plain": [
       "\u001b[1;36m[\u001b[0m\u001b[1;36m+\u001b[0m\u001b[1;36m]\u001b[0m\u001b[1;36m Successfully retrieved repo: \u001b[0m\u001b[1;4;36mhttps://github.com/ZUGFeRD/quba-viewer\u001b[0m\n"
      ]
     },
     "metadata": {},
     "output_type": "display_data"
    },
    {
     "data": {
      "text/html": [
       "<pre style=\"white-space:pre;overflow-x:auto;line-height:normal;font-family:Menlo,'DejaVu Sans Mono',consolas,'Courier New',monospace\"><span style=\"color: #008080; text-decoration-color: #008080; font-weight: bold\">[+] Found package.json at </span><span style=\"color: #008080; text-decoration-color: #008080; font-weight: bold; text-decoration: underline\">https://github.com/ZUGFeRD/quba-viewer</span>\n",
       "</pre>\n"
      ],
      "text/plain": [
       "\u001b[1;36m[\u001b[0m\u001b[1;36m+\u001b[0m\u001b[1;36m]\u001b[0m\u001b[1;36m Found package.json at \u001b[0m\u001b[1;4;36mhttps://github.com/ZUGFeRD/quba-viewer\u001b[0m\n"
      ]
     },
     "metadata": {},
     "output_type": "display_data"
    },
    {
     "data": {
      "text/html": [
       "<pre style=\"white-space:pre;overflow-x:auto;line-height:normal;font-family:Menlo,'DejaVu Sans Mono',consolas,'Courier New',monospace\"><span style=\"color: #008080; text-decoration-color: #008080; font-weight: bold\">[+] Getting </span><span style=\"color: #008080; text-decoration-color: #008080; font-weight: bold; text-decoration: underline\">https://github.com/ZUGFeRD/quba-viewer/blob/master/package.json</span>\n",
       "</pre>\n"
      ],
      "text/plain": [
       "\u001b[1;36m[\u001b[0m\u001b[1;36m+\u001b[0m\u001b[1;36m]\u001b[0m\u001b[1;36m Getting \u001b[0m\u001b[1;4;36mhttps://github.com/ZUGFeRD/quba-viewer/blob/master/package.json\u001b[0m\n"
      ]
     },
     "metadata": {},
     "output_type": "display_data"
    },
    {
     "data": {
      "text/html": [
       "<pre style=\"white-space:pre;overflow-x:auto;line-height:normal;font-family:Menlo,'DejaVu Sans Mono',consolas,'Courier New',monospace\"><span style=\"color: #008080; text-decoration-color: #008080; font-weight: bold\">[+] Getting repo: </span><span style=\"color: #008080; text-decoration-color: #008080; font-weight: bold; text-decoration: underline\">https://github.com/quick123official/quick_redis_blog</span>\n",
       "</pre>\n"
      ],
      "text/plain": [
       "\u001b[1;36m[\u001b[0m\u001b[1;36m+\u001b[0m\u001b[1;36m]\u001b[0m\u001b[1;36m Getting repo: \u001b[0m\u001b[1;4;36mhttps://github.com/quick123official/quick_redis_blog\u001b[0m\n"
      ]
     },
     "metadata": {},
     "output_type": "display_data"
    },
    {
     "data": {
      "text/html": [
       "<pre style=\"white-space:pre;overflow-x:auto;line-height:normal;font-family:Menlo,'DejaVu Sans Mono',consolas,'Courier New',monospace\"><span style=\"color: #008080; text-decoration-color: #008080; font-weight: bold\">[+] Successfully retrieved repo: </span><span style=\"color: #008080; text-decoration-color: #008080; font-weight: bold; text-decoration: underline\">https://github.com/quick123official/quick_redis_blog</span>\n",
       "</pre>\n"
      ],
      "text/plain": [
       "\u001b[1;36m[\u001b[0m\u001b[1;36m+\u001b[0m\u001b[1;36m]\u001b[0m\u001b[1;36m Successfully retrieved repo: \u001b[0m\u001b[1;4;36mhttps://github.com/quick123official/quick_redis_blog\u001b[0m\n"
      ]
     },
     "metadata": {},
     "output_type": "display_data"
    },
    {
     "data": {
      "text/html": [
       "<pre style=\"white-space:pre;overflow-x:auto;line-height:normal;font-family:Menlo,'DejaVu Sans Mono',consolas,'Courier New',monospace\"><span style=\"color: #008080; text-decoration-color: #008080; font-weight: bold\">[+] Found package.json at </span><span style=\"color: #008080; text-decoration-color: #008080; font-weight: bold; text-decoration: underline\">https://github.com/quick123official/quick_redis_blog</span>\n",
       "</pre>\n"
      ],
      "text/plain": [
       "\u001b[1;36m[\u001b[0m\u001b[1;36m+\u001b[0m\u001b[1;36m]\u001b[0m\u001b[1;36m Found package.json at \u001b[0m\u001b[1;4;36mhttps://github.com/quick123official/quick_redis_blog\u001b[0m\n"
      ]
     },
     "metadata": {},
     "output_type": "display_data"
    },
    {
     "data": {
      "text/html": [
       "<pre style=\"white-space:pre;overflow-x:auto;line-height:normal;font-family:Menlo,'DejaVu Sans Mono',consolas,'Courier New',monospace\"><span style=\"color: #008080; text-decoration-color: #008080; font-weight: bold\">[+] Getting </span><span style=\"color: #008080; text-decoration-color: #008080; font-weight: bold; text-decoration: underline\">https://github.com/quick123official/quick_redis_blog/blob/master/package.json</span>\n",
       "</pre>\n"
      ],
      "text/plain": [
       "\u001b[1;36m[\u001b[0m\u001b[1;36m+\u001b[0m\u001b[1;36m]\u001b[0m\u001b[1;36m Getting \u001b[0m\u001b[1;4;36mhttps://github.com/quick123official/quick_redis_blog/blob/master/package.json\u001b[0m\n"
      ]
     },
     "metadata": {},
     "output_type": "display_data"
    },
    {
     "data": {
      "text/html": [
       "<pre style=\"white-space:pre;overflow-x:auto;line-height:normal;font-family:Menlo,'DejaVu Sans Mono',consolas,'Courier New',monospace\"><span style=\"color: #008080; text-decoration-color: #008080; font-weight: bold\">[+] Getting repo: </span><span style=\"color: #008080; text-decoration-color: #008080; font-weight: bold; text-decoration: underline\">https://github.com/austinleath/r6rc</span>\n",
       "</pre>\n"
      ],
      "text/plain": [
       "\u001b[1;36m[\u001b[0m\u001b[1;36m+\u001b[0m\u001b[1;36m]\u001b[0m\u001b[1;36m Getting repo: \u001b[0m\u001b[1;4;36mhttps://github.com/austinleath/r6rc\u001b[0m\n"
      ]
     },
     "metadata": {},
     "output_type": "display_data"
    },
    {
     "data": {
      "text/html": [
       "<pre style=\"white-space:pre;overflow-x:auto;line-height:normal;font-family:Menlo,'DejaVu Sans Mono',consolas,'Courier New',monospace\"><span style=\"color: #008080; text-decoration-color: #008080; font-weight: bold\">[+] Successfully retrieved repo: </span><span style=\"color: #008080; text-decoration-color: #008080; font-weight: bold; text-decoration: underline\">https://github.com/austinleath/r6rc</span>\n",
       "</pre>\n"
      ],
      "text/plain": [
       "\u001b[1;36m[\u001b[0m\u001b[1;36m+\u001b[0m\u001b[1;36m]\u001b[0m\u001b[1;36m Successfully retrieved repo: \u001b[0m\u001b[1;4;36mhttps://github.com/austinleath/r6rc\u001b[0m\n"
      ]
     },
     "metadata": {},
     "output_type": "display_data"
    },
    {
     "data": {
      "text/html": [
       "<pre style=\"white-space:pre;overflow-x:auto;line-height:normal;font-family:Menlo,'DejaVu Sans Mono',consolas,'Courier New',monospace\"><span style=\"color: #008080; text-decoration-color: #008080; font-weight: bold\">[+] Found package.json at </span><span style=\"color: #008080; text-decoration-color: #008080; font-weight: bold; text-decoration: underline\">https://github.com/austinleath/r6rc</span>\n",
       "</pre>\n"
      ],
      "text/plain": [
       "\u001b[1;36m[\u001b[0m\u001b[1;36m+\u001b[0m\u001b[1;36m]\u001b[0m\u001b[1;36m Found package.json at \u001b[0m\u001b[1;4;36mhttps://github.com/austinleath/r6rc\u001b[0m\n"
      ]
     },
     "metadata": {},
     "output_type": "display_data"
    },
    {
     "data": {
      "text/html": [
       "<pre style=\"white-space:pre;overflow-x:auto;line-height:normal;font-family:Menlo,'DejaVu Sans Mono',consolas,'Courier New',monospace\"><span style=\"color: #008080; text-decoration-color: #008080; font-weight: bold\">[+] Getting </span><span style=\"color: #008080; text-decoration-color: #008080; font-weight: bold; text-decoration: underline\">https://github.com/AustinLeath/r6rc/blob/master/package.json</span>\n",
       "</pre>\n"
      ],
      "text/plain": [
       "\u001b[1;36m[\u001b[0m\u001b[1;36m+\u001b[0m\u001b[1;36m]\u001b[0m\u001b[1;36m Getting \u001b[0m\u001b[1;4;36mhttps://github.com/AustinLeath/r6rc/blob/master/package.json\u001b[0m\n"
      ]
     },
     "metadata": {},
     "output_type": "display_data"
    },
    {
     "data": {
      "text/html": [
       "<pre style=\"white-space:pre;overflow-x:auto;line-height:normal;font-family:Menlo,'DejaVu Sans Mono',consolas,'Courier New',monospace\"><span style=\"color: #008080; text-decoration-color: #008080; font-weight: bold\">[+] Getting repo: </span><span style=\"color: #008080; text-decoration-color: #008080; font-weight: bold; text-decoration: underline\">https://github.com/racompass/racompass</span>\n",
       "</pre>\n"
      ],
      "text/plain": [
       "\u001b[1;36m[\u001b[0m\u001b[1;36m+\u001b[0m\u001b[1;36m]\u001b[0m\u001b[1;36m Getting repo: \u001b[0m\u001b[1;4;36mhttps://github.com/racompass/racompass\u001b[0m\n"
      ]
     },
     "metadata": {},
     "output_type": "display_data"
    },
    {
     "data": {
      "text/html": [
       "<pre style=\"white-space:pre;overflow-x:auto;line-height:normal;font-family:Menlo,'DejaVu Sans Mono',consolas,'Courier New',monospace\"><span style=\"color: #008080; text-decoration-color: #008080; font-weight: bold\">[+] Successfully retrieved repo: </span><span style=\"color: #008080; text-decoration-color: #008080; font-weight: bold; text-decoration: underline\">https://github.com/racompass/racompass</span>\n",
       "</pre>\n"
      ],
      "text/plain": [
       "\u001b[1;36m[\u001b[0m\u001b[1;36m+\u001b[0m\u001b[1;36m]\u001b[0m\u001b[1;36m Successfully retrieved repo: \u001b[0m\u001b[1;4;36mhttps://github.com/racompass/racompass\u001b[0m\n"
      ]
     },
     "metadata": {},
     "output_type": "display_data"
    },
    {
     "data": {
      "text/html": [
       "<pre style=\"white-space:pre;overflow-x:auto;line-height:normal;font-family:Menlo,'DejaVu Sans Mono',consolas,'Courier New',monospace\"><span style=\"color: #ff5f00; text-decoration-color: #ff5f00; font-weight: bold\">[!] Package.json not found at root of </span><span style=\"color: #ff5f00; text-decoration-color: #ff5f00; font-weight: bold; text-decoration: underline\">https://github.com/racompass/racompass;</span><span style=\"color: #ff5f00; text-decoration-color: #ff5f00; font-weight: bold\"> trying directories</span>\n",
       "</pre>\n"
      ],
      "text/plain": [
       "\u001b[1;38;5;202m[\u001b[0m\u001b[1;38;5;202m!\u001b[0m\u001b[1;38;5;202m]\u001b[0m\u001b[1;38;5;202m Package.json not found at root of \u001b[0m\u001b[1;4;38;5;202mhttps://github.com/racompass/racompass;\u001b[0m\u001b[1;38;5;202m trying directories\u001b[0m\n"
      ]
     },
     "metadata": {},
     "output_type": "display_data"
    },
    {
     "data": {
      "text/html": [
       "<pre style=\"white-space:pre;overflow-x:auto;line-height:normal;font-family:Menlo,'DejaVu Sans Mono',consolas,'Courier New',monospace\"><span style=\"color: #800000; text-decoration-color: #800000; font-weight: bold\">[💀] Could not find package.json in first-level-subdirs</span>\n",
       "</pre>\n"
      ],
      "text/plain": [
       "\u001b[1;31m[\u001b[0m\u001b[1;31m💀\u001b[0m\u001b[1;31m]\u001b[0m\u001b[1;31m Could not find package.json in first-level-subdirs\u001b[0m\n"
      ]
     },
     "metadata": {},
     "output_type": "display_data"
    },
    {
     "data": {
      "text/html": [
       "<pre style=\"white-space:pre;overflow-x:auto;line-height:normal;font-family:Menlo,'DejaVu Sans Mono',consolas,'Courier New',monospace\"><span style=\"color: #008080; text-decoration-color: #008080; font-weight: bold\">[+] Getting repo: </span><span style=\"color: #008080; text-decoration-color: #008080; font-weight: bold; text-decoration: underline\">https://github.com/AssetKid/raider-release</span>\n",
       "</pre>\n"
      ],
      "text/plain": [
       "\u001b[1;36m[\u001b[0m\u001b[1;36m+\u001b[0m\u001b[1;36m]\u001b[0m\u001b[1;36m Getting repo: \u001b[0m\u001b[1;4;36mhttps://github.com/AssetKid/raider-release\u001b[0m\n"
      ]
     },
     "metadata": {},
     "output_type": "display_data"
    },
    {
     "data": {
      "text/html": [
       "<pre style=\"white-space:pre;overflow-x:auto;line-height:normal;font-family:Menlo,'DejaVu Sans Mono',consolas,'Courier New',monospace\"><span style=\"color: #800000; text-decoration-color: #800000; font-weight: bold\">[💀] Could not connect to </span><span style=\"color: #800000; text-decoration-color: #800000; font-weight: bold; text-decoration: underline\">https://github.com/AssetKid/raider-release</span>\n",
       "</pre>\n"
      ],
      "text/plain": [
       "\u001b[1;31m[\u001b[0m\u001b[1;31m💀\u001b[0m\u001b[1;31m]\u001b[0m\u001b[1;31m Could not connect to \u001b[0m\u001b[1;4;31mhttps://github.com/AssetKid/raider-release\u001b[0m\n"
      ]
     },
     "metadata": {},
     "output_type": "display_data"
    },
    {
     "data": {
      "text/html": [
       "<pre style=\"white-space:pre;overflow-x:auto;line-height:normal;font-family:Menlo,'DejaVu Sans Mono',consolas,'Courier New',monospace\"><span style=\"color: #008080; text-decoration-color: #008080; font-weight: bold\">[+] Getting repo: </span><span style=\"color: #008080; text-decoration-color: #008080; font-weight: bold; text-decoration: underline\">https://github.com/HarshKhandeparkar/rainbow-board</span>\n",
       "</pre>\n"
      ],
      "text/plain": [
       "\u001b[1;36m[\u001b[0m\u001b[1;36m+\u001b[0m\u001b[1;36m]\u001b[0m\u001b[1;36m Getting repo: \u001b[0m\u001b[1;4;36mhttps://github.com/HarshKhandeparkar/rainbow-board\u001b[0m\n"
      ]
     },
     "metadata": {},
     "output_type": "display_data"
    },
    {
     "data": {
      "text/html": [
       "<pre style=\"white-space:pre;overflow-x:auto;line-height:normal;font-family:Menlo,'DejaVu Sans Mono',consolas,'Courier New',monospace\"><span style=\"color: #008080; text-decoration-color: #008080; font-weight: bold\">[+] Successfully retrieved repo: </span><span style=\"color: #008080; text-decoration-color: #008080; font-weight: bold; text-decoration: underline\">https://github.com/HarshKhandeparkar/rainbow-board</span>\n",
       "</pre>\n"
      ],
      "text/plain": [
       "\u001b[1;36m[\u001b[0m\u001b[1;36m+\u001b[0m\u001b[1;36m]\u001b[0m\u001b[1;36m Successfully retrieved repo: \u001b[0m\u001b[1;4;36mhttps://github.com/HarshKhandeparkar/rainbow-board\u001b[0m\n"
      ]
     },
     "metadata": {},
     "output_type": "display_data"
    },
    {
     "data": {
      "text/html": [
       "<pre style=\"white-space:pre;overflow-x:auto;line-height:normal;font-family:Menlo,'DejaVu Sans Mono',consolas,'Courier New',monospace\"><span style=\"color: #008080; text-decoration-color: #008080; font-weight: bold\">[+] Found package.json at </span><span style=\"color: #008080; text-decoration-color: #008080; font-weight: bold; text-decoration: underline\">https://github.com/HarshKhandeparkar/rainbow-board</span>\n",
       "</pre>\n"
      ],
      "text/plain": [
       "\u001b[1;36m[\u001b[0m\u001b[1;36m+\u001b[0m\u001b[1;36m]\u001b[0m\u001b[1;36m Found package.json at \u001b[0m\u001b[1;4;36mhttps://github.com/HarshKhandeparkar/rainbow-board\u001b[0m\n"
      ]
     },
     "metadata": {},
     "output_type": "display_data"
    },
    {
     "data": {
      "text/html": [
       "<pre style=\"white-space:pre;overflow-x:auto;line-height:normal;font-family:Menlo,'DejaVu Sans Mono',consolas,'Courier New',monospace\"><span style=\"color: #008080; text-decoration-color: #008080; font-weight: bold\">[+] Getting </span><span style=\"color: #008080; text-decoration-color: #008080; font-weight: bold; text-decoration: underline\">https://github.com/harshkhandeparkar/rainbow-board/blob/main/package.json</span>\n",
       "</pre>\n"
      ],
      "text/plain": [
       "\u001b[1;36m[\u001b[0m\u001b[1;36m+\u001b[0m\u001b[1;36m]\u001b[0m\u001b[1;36m Getting \u001b[0m\u001b[1;4;36mhttps://github.com/harshkhandeparkar/rainbow-board/blob/main/package.json\u001b[0m\n"
      ]
     },
     "metadata": {},
     "output_type": "display_data"
    },
    {
     "data": {
      "text/html": [
       "<pre style=\"white-space:pre;overflow-x:auto;line-height:normal;font-family:Menlo,'DejaVu Sans Mono',consolas,'Courier New',monospace\"><span style=\"color: #008080; text-decoration-color: #008080; font-weight: bold\">[+] Getting repo: </span><span style=\"color: #008080; text-decoration-color: #008080; font-weight: bold; text-decoration: underline\">https://github.com/saenzramiro/rambox</span>\n",
       "</pre>\n"
      ],
      "text/plain": [
       "\u001b[1;36m[\u001b[0m\u001b[1;36m+\u001b[0m\u001b[1;36m]\u001b[0m\u001b[1;36m Getting repo: \u001b[0m\u001b[1;4;36mhttps://github.com/saenzramiro/rambox\u001b[0m\n"
      ]
     },
     "metadata": {},
     "output_type": "display_data"
    },
    {
     "data": {
      "text/html": [
       "<pre style=\"white-space:pre;overflow-x:auto;line-height:normal;font-family:Menlo,'DejaVu Sans Mono',consolas,'Courier New',monospace\"><span style=\"color: #008080; text-decoration-color: #008080; font-weight: bold\">[+] Successfully retrieved repo: </span><span style=\"color: #008080; text-decoration-color: #008080; font-weight: bold; text-decoration: underline\">https://github.com/saenzramiro/rambox</span>\n",
       "</pre>\n"
      ],
      "text/plain": [
       "\u001b[1;36m[\u001b[0m\u001b[1;36m+\u001b[0m\u001b[1;36m]\u001b[0m\u001b[1;36m Successfully retrieved repo: \u001b[0m\u001b[1;4;36mhttps://github.com/saenzramiro/rambox\u001b[0m\n"
      ]
     },
     "metadata": {},
     "output_type": "display_data"
    },
    {
     "data": {
      "text/html": [
       "<pre style=\"white-space:pre;overflow-x:auto;line-height:normal;font-family:Menlo,'DejaVu Sans Mono',consolas,'Courier New',monospace\"><span style=\"color: #008080; text-decoration-color: #008080; font-weight: bold\">[+] Found package.json at </span><span style=\"color: #008080; text-decoration-color: #008080; font-weight: bold; text-decoration: underline\">https://github.com/saenzramiro/rambox</span>\n",
       "</pre>\n"
      ],
      "text/plain": [
       "\u001b[1;36m[\u001b[0m\u001b[1;36m+\u001b[0m\u001b[1;36m]\u001b[0m\u001b[1;36m Found package.json at \u001b[0m\u001b[1;4;36mhttps://github.com/saenzramiro/rambox\u001b[0m\n"
      ]
     },
     "metadata": {},
     "output_type": "display_data"
    },
    {
     "data": {
      "text/html": [
       "<pre style=\"white-space:pre;overflow-x:auto;line-height:normal;font-family:Menlo,'DejaVu Sans Mono',consolas,'Courier New',monospace\"><span style=\"color: #008080; text-decoration-color: #008080; font-weight: bold\">[+] Getting </span><span style=\"color: #008080; text-decoration-color: #008080; font-weight: bold; text-decoration: underline\">https://github.com/ramboxapp/community-edition/blob/master/package.json</span>\n",
       "</pre>\n"
      ],
      "text/plain": [
       "\u001b[1;36m[\u001b[0m\u001b[1;36m+\u001b[0m\u001b[1;36m]\u001b[0m\u001b[1;36m Getting \u001b[0m\u001b[1;4;36mhttps://github.com/ramboxapp/community-edition/blob/master/package.json\u001b[0m\n"
      ]
     },
     "metadata": {},
     "output_type": "display_data"
    },
    {
     "data": {
      "text/html": [
       "<pre style=\"white-space:pre;overflow-x:auto;line-height:normal;font-family:Menlo,'DejaVu Sans Mono',consolas,'Courier New',monospace\"><span style=\"color: #008080; text-decoration-color: #008080; font-weight: bold\">[+] Getting repo: </span><span style=\"color: #008080; text-decoration-color: #008080; font-weight: bold; text-decoration: underline\">https://github.com/rebaslight/rebaslight</span>\n",
       "</pre>\n"
      ],
      "text/plain": [
       "\u001b[1;36m[\u001b[0m\u001b[1;36m+\u001b[0m\u001b[1;36m]\u001b[0m\u001b[1;36m Getting repo: \u001b[0m\u001b[1;4;36mhttps://github.com/rebaslight/rebaslight\u001b[0m\n"
      ]
     },
     "metadata": {},
     "output_type": "display_data"
    },
    {
     "data": {
      "text/html": [
       "<pre style=\"white-space:pre;overflow-x:auto;line-height:normal;font-family:Menlo,'DejaVu Sans Mono',consolas,'Courier New',monospace\"><span style=\"color: #008080; text-decoration-color: #008080; font-weight: bold\">[+] Successfully retrieved repo: </span><span style=\"color: #008080; text-decoration-color: #008080; font-weight: bold; text-decoration: underline\">https://github.com/rebaslight/rebaslight</span>\n",
       "</pre>\n"
      ],
      "text/plain": [
       "\u001b[1;36m[\u001b[0m\u001b[1;36m+\u001b[0m\u001b[1;36m]\u001b[0m\u001b[1;36m Successfully retrieved repo: \u001b[0m\u001b[1;4;36mhttps://github.com/rebaslight/rebaslight\u001b[0m\n"
      ]
     },
     "metadata": {},
     "output_type": "display_data"
    },
    {
     "data": {
      "text/html": [
       "<pre style=\"white-space:pre;overflow-x:auto;line-height:normal;font-family:Menlo,'DejaVu Sans Mono',consolas,'Courier New',monospace\"><span style=\"color: #008080; text-decoration-color: #008080; font-weight: bold\">[+] Found package.json at </span><span style=\"color: #008080; text-decoration-color: #008080; font-weight: bold; text-decoration: underline\">https://github.com/rebaslight/rebaslight</span>\n",
       "</pre>\n"
      ],
      "text/plain": [
       "\u001b[1;36m[\u001b[0m\u001b[1;36m+\u001b[0m\u001b[1;36m]\u001b[0m\u001b[1;36m Found package.json at \u001b[0m\u001b[1;4;36mhttps://github.com/rebaslight/rebaslight\u001b[0m\n"
      ]
     },
     "metadata": {},
     "output_type": "display_data"
    },
    {
     "data": {
      "text/html": [
       "<pre style=\"white-space:pre;overflow-x:auto;line-height:normal;font-family:Menlo,'DejaVu Sans Mono',consolas,'Courier New',monospace\"><span style=\"color: #008080; text-decoration-color: #008080; font-weight: bold\">[+] Getting </span><span style=\"color: #008080; text-decoration-color: #008080; font-weight: bold; text-decoration: underline\">https://github.com/rebaslight/rebaslight/blob/main/package.json</span>\n",
       "</pre>\n"
      ],
      "text/plain": [
       "\u001b[1;36m[\u001b[0m\u001b[1;36m+\u001b[0m\u001b[1;36m]\u001b[0m\u001b[1;36m Getting \u001b[0m\u001b[1;4;36mhttps://github.com/rebaslight/rebaslight/blob/main/package.json\u001b[0m\n"
      ]
     },
     "metadata": {},
     "output_type": "display_data"
    },
    {
     "data": {
      "text/html": [
       "<pre style=\"white-space:pre;overflow-x:auto;line-height:normal;font-family:Menlo,'DejaVu Sans Mono',consolas,'Courier New',monospace\"><span style=\"color: #008080; text-decoration-color: #008080; font-weight: bold\">[+] Getting repo: </span><span style=\"color: #008080; text-decoration-color: #008080; font-weight: bold; text-decoration: underline\">https://github.com/murgatt/recode-converter</span>\n",
       "</pre>\n"
      ],
      "text/plain": [
       "\u001b[1;36m[\u001b[0m\u001b[1;36m+\u001b[0m\u001b[1;36m]\u001b[0m\u001b[1;36m Getting repo: \u001b[0m\u001b[1;4;36mhttps://github.com/murgatt/recode-converter\u001b[0m\n"
      ]
     },
     "metadata": {},
     "output_type": "display_data"
    },
    {
     "data": {
      "text/html": [
       "<pre style=\"white-space:pre;overflow-x:auto;line-height:normal;font-family:Menlo,'DejaVu Sans Mono',consolas,'Courier New',monospace\"><span style=\"color: #008080; text-decoration-color: #008080; font-weight: bold\">[+] Successfully retrieved repo: </span><span style=\"color: #008080; text-decoration-color: #008080; font-weight: bold; text-decoration: underline\">https://github.com/murgatt/recode-converter</span>\n",
       "</pre>\n"
      ],
      "text/plain": [
       "\u001b[1;36m[\u001b[0m\u001b[1;36m+\u001b[0m\u001b[1;36m]\u001b[0m\u001b[1;36m Successfully retrieved repo: \u001b[0m\u001b[1;4;36mhttps://github.com/murgatt/recode-converter\u001b[0m\n"
      ]
     },
     "metadata": {},
     "output_type": "display_data"
    },
    {
     "data": {
      "text/html": [
       "<pre style=\"white-space:pre;overflow-x:auto;line-height:normal;font-family:Menlo,'DejaVu Sans Mono',consolas,'Courier New',monospace\"><span style=\"color: #008080; text-decoration-color: #008080; font-weight: bold\">[+] Found package.json at </span><span style=\"color: #008080; text-decoration-color: #008080; font-weight: bold; text-decoration: underline\">https://github.com/murgatt/recode-converter</span>\n",
       "</pre>\n"
      ],
      "text/plain": [
       "\u001b[1;36m[\u001b[0m\u001b[1;36m+\u001b[0m\u001b[1;36m]\u001b[0m\u001b[1;36m Found package.json at \u001b[0m\u001b[1;4;36mhttps://github.com/murgatt/recode-converter\u001b[0m\n"
      ]
     },
     "metadata": {},
     "output_type": "display_data"
    },
    {
     "data": {
      "text/html": [
       "<pre style=\"white-space:pre;overflow-x:auto;line-height:normal;font-family:Menlo,'DejaVu Sans Mono',consolas,'Courier New',monospace\"><span style=\"color: #008080; text-decoration-color: #008080; font-weight: bold\">[+] Getting </span><span style=\"color: #008080; text-decoration-color: #008080; font-weight: bold; text-decoration: underline\">https://github.com/murgatt/recode-converter/blob/master/package.json</span>\n",
       "</pre>\n"
      ],
      "text/plain": [
       "\u001b[1;36m[\u001b[0m\u001b[1;36m+\u001b[0m\u001b[1;36m]\u001b[0m\u001b[1;36m Getting \u001b[0m\u001b[1;4;36mhttps://github.com/murgatt/recode-converter/blob/master/package.json\u001b[0m\n"
      ]
     },
     "metadata": {},
     "output_type": "display_data"
    },
    {
     "data": {
      "text/html": [
       "<pre style=\"white-space:pre;overflow-x:auto;line-height:normal;font-family:Menlo,'DejaVu Sans Mono',consolas,'Courier New',monospace\"><span style=\"color: #008080; text-decoration-color: #008080; font-weight: bold\">[+] Getting repo: </span><span style=\"color: #008080; text-decoration-color: #008080; font-weight: bold; text-decoration: underline\">https://github.com/Recollectr/releases</span>\n",
       "</pre>\n"
      ],
      "text/plain": [
       "\u001b[1;36m[\u001b[0m\u001b[1;36m+\u001b[0m\u001b[1;36m]\u001b[0m\u001b[1;36m Getting repo: \u001b[0m\u001b[1;4;36mhttps://github.com/Recollectr/releases\u001b[0m\n"
      ]
     },
     "metadata": {},
     "output_type": "display_data"
    },
    {
     "data": {
      "text/html": [
       "<pre style=\"white-space:pre;overflow-x:auto;line-height:normal;font-family:Menlo,'DejaVu Sans Mono',consolas,'Courier New',monospace\"><span style=\"color: #008080; text-decoration-color: #008080; font-weight: bold\">[+] Successfully retrieved repo: </span><span style=\"color: #008080; text-decoration-color: #008080; font-weight: bold; text-decoration: underline\">https://github.com/Recollectr/releases</span>\n",
       "</pre>\n"
      ],
      "text/plain": [
       "\u001b[1;36m[\u001b[0m\u001b[1;36m+\u001b[0m\u001b[1;36m]\u001b[0m\u001b[1;36m Successfully retrieved repo: \u001b[0m\u001b[1;4;36mhttps://github.com/Recollectr/releases\u001b[0m\n"
      ]
     },
     "metadata": {},
     "output_type": "display_data"
    },
    {
     "data": {
      "text/html": [
       "<pre style=\"white-space:pre;overflow-x:auto;line-height:normal;font-family:Menlo,'DejaVu Sans Mono',consolas,'Courier New',monospace\"><span style=\"color: #ff5f00; text-decoration-color: #ff5f00; font-weight: bold\">[!] Package.json not found at root of </span><span style=\"color: #ff5f00; text-decoration-color: #ff5f00; font-weight: bold; text-decoration: underline\">https://github.com/Recollectr/releases;</span><span style=\"color: #ff5f00; text-decoration-color: #ff5f00; font-weight: bold\"> trying directories</span>\n",
       "</pre>\n"
      ],
      "text/plain": [
       "\u001b[1;38;5;202m[\u001b[0m\u001b[1;38;5;202m!\u001b[0m\u001b[1;38;5;202m]\u001b[0m\u001b[1;38;5;202m Package.json not found at root of \u001b[0m\u001b[1;4;38;5;202mhttps://github.com/Recollectr/releases;\u001b[0m\u001b[1;38;5;202m trying directories\u001b[0m\n"
      ]
     },
     "metadata": {},
     "output_type": "display_data"
    },
    {
     "data": {
      "text/html": [
       "<pre style=\"white-space:pre;overflow-x:auto;line-height:normal;font-family:Menlo,'DejaVu Sans Mono',consolas,'Courier New',monospace\"><span style=\"color: #008080; text-decoration-color: #008080; font-weight: bold\">[+] Trying </span><span style=\"color: #008080; text-decoration-color: #008080; font-weight: bold; text-decoration: underline\">https://github.com/Recollectr/releases/tree/master/.github/ISSUE_TEMPLATE</span>\n",
       "</pre>\n"
      ],
      "text/plain": [
       "\u001b[1;36m[\u001b[0m\u001b[1;36m+\u001b[0m\u001b[1;36m]\u001b[0m\u001b[1;36m Trying \u001b[0m\u001b[1;4;36mhttps://github.com/Recollectr/releases/tree/master/.github/ISSUE_TEMPLATE\u001b[0m\n"
      ]
     },
     "metadata": {},
     "output_type": "display_data"
    },
    {
     "data": {
      "text/html": [
       "<pre style=\"white-space:pre;overflow-x:auto;line-height:normal;font-family:Menlo,'DejaVu Sans Mono',consolas,'Courier New',monospace\"><span style=\"color: #800000; text-decoration-color: #800000; font-weight: bold\">[💀] Could not find package.json in first-level-subdirs</span>\n",
       "</pre>\n"
      ],
      "text/plain": [
       "\u001b[1;31m[\u001b[0m\u001b[1;31m💀\u001b[0m\u001b[1;31m]\u001b[0m\u001b[1;31m Could not find package.json in first-level-subdirs\u001b[0m\n"
      ]
     },
     "metadata": {},
     "output_type": "display_data"
    },
    {
     "data": {
      "text/html": [
       "<pre style=\"white-space:pre;overflow-x:auto;line-height:normal;font-family:Menlo,'DejaVu Sans Mono',consolas,'Courier New',monospace\"><span style=\"color: #008080; text-decoration-color: #008080; font-weight: bold\">[+] Getting repo: </span><span style=\"color: #008080; text-decoration-color: #008080; font-weight: bold; text-decoration: underline\">https://github.com/ekvedaras/redis-gui</span>\n",
       "</pre>\n"
      ],
      "text/plain": [
       "\u001b[1;36m[\u001b[0m\u001b[1;36m+\u001b[0m\u001b[1;36m]\u001b[0m\u001b[1;36m Getting repo: \u001b[0m\u001b[1;4;36mhttps://github.com/ekvedaras/redis-gui\u001b[0m\n"
      ]
     },
     "metadata": {},
     "output_type": "display_data"
    },
    {
     "data": {
      "text/html": [
       "<pre style=\"white-space:pre;overflow-x:auto;line-height:normal;font-family:Menlo,'DejaVu Sans Mono',consolas,'Courier New',monospace\"><span style=\"color: #008080; text-decoration-color: #008080; font-weight: bold\">[+] Successfully retrieved repo: </span><span style=\"color: #008080; text-decoration-color: #008080; font-weight: bold; text-decoration: underline\">https://github.com/ekvedaras/redis-gui</span>\n",
       "</pre>\n"
      ],
      "text/plain": [
       "\u001b[1;36m[\u001b[0m\u001b[1;36m+\u001b[0m\u001b[1;36m]\u001b[0m\u001b[1;36m Successfully retrieved repo: \u001b[0m\u001b[1;4;36mhttps://github.com/ekvedaras/redis-gui\u001b[0m\n"
      ]
     },
     "metadata": {},
     "output_type": "display_data"
    },
    {
     "data": {
      "text/html": [
       "<pre style=\"white-space:pre;overflow-x:auto;line-height:normal;font-family:Menlo,'DejaVu Sans Mono',consolas,'Courier New',monospace\"><span style=\"color: #008080; text-decoration-color: #008080; font-weight: bold\">[+] Found package.json at </span><span style=\"color: #008080; text-decoration-color: #008080; font-weight: bold; text-decoration: underline\">https://github.com/ekvedaras/redis-gui</span>\n",
       "</pre>\n"
      ],
      "text/plain": [
       "\u001b[1;36m[\u001b[0m\u001b[1;36m+\u001b[0m\u001b[1;36m]\u001b[0m\u001b[1;36m Found package.json at \u001b[0m\u001b[1;4;36mhttps://github.com/ekvedaras/redis-gui\u001b[0m\n"
      ]
     },
     "metadata": {},
     "output_type": "display_data"
    },
    {
     "data": {
      "text/html": [
       "<pre style=\"white-space:pre;overflow-x:auto;line-height:normal;font-family:Menlo,'DejaVu Sans Mono',consolas,'Courier New',monospace\"><span style=\"color: #008080; text-decoration-color: #008080; font-weight: bold\">[+] Getting </span><span style=\"color: #008080; text-decoration-color: #008080; font-weight: bold; text-decoration: underline\">https://github.com/ekvedaras/redis-gui/blob/main/package.json</span>\n",
       "</pre>\n"
      ],
      "text/plain": [
       "\u001b[1;36m[\u001b[0m\u001b[1;36m+\u001b[0m\u001b[1;36m]\u001b[0m\u001b[1;36m Getting \u001b[0m\u001b[1;4;36mhttps://github.com/ekvedaras/redis-gui/blob/main/package.json\u001b[0m\n"
      ]
     },
     "metadata": {},
     "output_type": "display_data"
    },
    {
     "data": {
      "text/html": [
       "<pre style=\"white-space:pre;overflow-x:auto;line-height:normal;font-family:Menlo,'DejaVu Sans Mono',consolas,'Courier New',monospace\"><span style=\"color: #008080; text-decoration-color: #008080; font-weight: bold\">[+] Getting repo: </span><span style=\"color: #008080; text-decoration-color: #008080; font-weight: bold; text-decoration: underline\">https://github.com/MrDavidRios/remindr_releases</span>\n",
       "</pre>\n"
      ],
      "text/plain": [
       "\u001b[1;36m[\u001b[0m\u001b[1;36m+\u001b[0m\u001b[1;36m]\u001b[0m\u001b[1;36m Getting repo: \u001b[0m\u001b[1;4;36mhttps://github.com/MrDavidRios/remindr_releases\u001b[0m\n"
      ]
     },
     "metadata": {},
     "output_type": "display_data"
    },
    {
     "data": {
      "text/html": [
       "<pre style=\"white-space:pre;overflow-x:auto;line-height:normal;font-family:Menlo,'DejaVu Sans Mono',consolas,'Courier New',monospace\"><span style=\"color: #008080; text-decoration-color: #008080; font-weight: bold\">[+] Successfully retrieved repo: </span><span style=\"color: #008080; text-decoration-color: #008080; font-weight: bold; text-decoration: underline\">https://github.com/MrDavidRios/remindr_releases</span>\n",
       "</pre>\n"
      ],
      "text/plain": [
       "\u001b[1;36m[\u001b[0m\u001b[1;36m+\u001b[0m\u001b[1;36m]\u001b[0m\u001b[1;36m Successfully retrieved repo: \u001b[0m\u001b[1;4;36mhttps://github.com/MrDavidRios/remindr_releases\u001b[0m\n"
      ]
     },
     "metadata": {},
     "output_type": "display_data"
    },
    {
     "data": {
      "text/html": [
       "<pre style=\"white-space:pre;overflow-x:auto;line-height:normal;font-family:Menlo,'DejaVu Sans Mono',consolas,'Courier New',monospace\"><span style=\"color: #ff5f00; text-decoration-color: #ff5f00; font-weight: bold\">[!] Package.json not found at root of </span><span style=\"color: #ff5f00; text-decoration-color: #ff5f00; font-weight: bold; text-decoration: underline\">https://github.com/MrDavidRios/remindr_releases;</span><span style=\"color: #ff5f00; text-decoration-color: #ff5f00; font-weight: bold\"> trying directories</span>\n",
       "</pre>\n"
      ],
      "text/plain": [
       "\u001b[1;38;5;202m[\u001b[0m\u001b[1;38;5;202m!\u001b[0m\u001b[1;38;5;202m]\u001b[0m\u001b[1;38;5;202m Package.json not found at root of \u001b[0m\u001b[1;4;38;5;202mhttps://github.com/MrDavidRios/remindr_releases;\u001b[0m\u001b[1;38;5;202m trying directories\u001b[0m\n"
      ]
     },
     "metadata": {},
     "output_type": "display_data"
    },
    {
     "data": {
      "text/html": [
       "<pre style=\"white-space:pre;overflow-x:auto;line-height:normal;font-family:Menlo,'DejaVu Sans Mono',consolas,'Courier New',monospace\"><span style=\"color: #800000; text-decoration-color: #800000; font-weight: bold\">[💀] Could not find package.json in first-level-subdirs</span>\n",
       "</pre>\n"
      ],
      "text/plain": [
       "\u001b[1;31m[\u001b[0m\u001b[1;31m💀\u001b[0m\u001b[1;31m]\u001b[0m\u001b[1;31m Could not find package.json in first-level-subdirs\u001b[0m\n"
      ]
     },
     "metadata": {},
     "output_type": "display_data"
    },
    {
     "data": {
      "text/html": [
       "<pre style=\"white-space:pre;overflow-x:auto;line-height:normal;font-family:Menlo,'DejaVu Sans Mono',consolas,'Courier New',monospace\"><span style=\"color: #008080; text-decoration-color: #008080; font-weight: bold\">[+] Getting repo: </span><span style=\"color: #008080; text-decoration-color: #008080; font-weight: bold; text-decoration: underline\">https://github.com/MartinBarker/RenderTune</span>\n",
       "</pre>\n"
      ],
      "text/plain": [
       "\u001b[1;36m[\u001b[0m\u001b[1;36m+\u001b[0m\u001b[1;36m]\u001b[0m\u001b[1;36m Getting repo: \u001b[0m\u001b[1;4;36mhttps://github.com/MartinBarker/RenderTune\u001b[0m\n"
      ]
     },
     "metadata": {},
     "output_type": "display_data"
    },
    {
     "data": {
      "text/html": [
       "<pre style=\"white-space:pre;overflow-x:auto;line-height:normal;font-family:Menlo,'DejaVu Sans Mono',consolas,'Courier New',monospace\"><span style=\"color: #008080; text-decoration-color: #008080; font-weight: bold\">[+] Successfully retrieved repo: </span><span style=\"color: #008080; text-decoration-color: #008080; font-weight: bold; text-decoration: underline\">https://github.com/MartinBarker/RenderTune</span>\n",
       "</pre>\n"
      ],
      "text/plain": [
       "\u001b[1;36m[\u001b[0m\u001b[1;36m+\u001b[0m\u001b[1;36m]\u001b[0m\u001b[1;36m Successfully retrieved repo: \u001b[0m\u001b[1;4;36mhttps://github.com/MartinBarker/RenderTune\u001b[0m\n"
      ]
     },
     "metadata": {},
     "output_type": "display_data"
    },
    {
     "data": {
      "text/html": [
       "<pre style=\"white-space:pre;overflow-x:auto;line-height:normal;font-family:Menlo,'DejaVu Sans Mono',consolas,'Courier New',monospace\"><span style=\"color: #008080; text-decoration-color: #008080; font-weight: bold\">[+] Found package.json at </span><span style=\"color: #008080; text-decoration-color: #008080; font-weight: bold; text-decoration: underline\">https://github.com/MartinBarker/RenderTune</span>\n",
       "</pre>\n"
      ],
      "text/plain": [
       "\u001b[1;36m[\u001b[0m\u001b[1;36m+\u001b[0m\u001b[1;36m]\u001b[0m\u001b[1;36m Found package.json at \u001b[0m\u001b[1;4;36mhttps://github.com/MartinBarker/RenderTune\u001b[0m\n"
      ]
     },
     "metadata": {},
     "output_type": "display_data"
    },
    {
     "data": {
      "text/html": [
       "<pre style=\"white-space:pre;overflow-x:auto;line-height:normal;font-family:Menlo,'DejaVu Sans Mono',consolas,'Courier New',monospace\"><span style=\"color: #008080; text-decoration-color: #008080; font-weight: bold\">[+] Getting </span><span style=\"color: #008080; text-decoration-color: #008080; font-weight: bold; text-decoration: underline\">https://github.com/MartinBarker/RenderTune/blob/master/package.json</span>\n",
       "</pre>\n"
      ],
      "text/plain": [
       "\u001b[1;36m[\u001b[0m\u001b[1;36m+\u001b[0m\u001b[1;36m]\u001b[0m\u001b[1;36m Getting \u001b[0m\u001b[1;4;36mhttps://github.com/MartinBarker/RenderTune/blob/master/package.json\u001b[0m\n"
      ]
     },
     "metadata": {},
     "output_type": "display_data"
    },
    {
     "data": {
      "text/html": [
       "<pre style=\"white-space:pre;overflow-x:auto;line-height:normal;font-family:Menlo,'DejaVu Sans Mono',consolas,'Courier New',monospace\"><span style=\"color: #008080; text-decoration-color: #008080; font-weight: bold\">[+] Getting repo: </span><span style=\"color: #008080; text-decoration-color: #008080; font-weight: bold; text-decoration: underline\">https://github.com/manojVivek/responsively-app</span>\n",
       "</pre>\n"
      ],
      "text/plain": [
       "\u001b[1;36m[\u001b[0m\u001b[1;36m+\u001b[0m\u001b[1;36m]\u001b[0m\u001b[1;36m Getting repo: \u001b[0m\u001b[1;4;36mhttps://github.com/manojVivek/responsively-app\u001b[0m\n"
      ]
     },
     "metadata": {},
     "output_type": "display_data"
    },
    {
     "data": {
      "text/html": [
       "<pre style=\"white-space:pre;overflow-x:auto;line-height:normal;font-family:Menlo,'DejaVu Sans Mono',consolas,'Courier New',monospace\"><span style=\"color: #008080; text-decoration-color: #008080; font-weight: bold\">[+] Successfully retrieved repo: </span><span style=\"color: #008080; text-decoration-color: #008080; font-weight: bold; text-decoration: underline\">https://github.com/manojVivek/responsively-app</span>\n",
       "</pre>\n"
      ],
      "text/plain": [
       "\u001b[1;36m[\u001b[0m\u001b[1;36m+\u001b[0m\u001b[1;36m]\u001b[0m\u001b[1;36m Successfully retrieved repo: \u001b[0m\u001b[1;4;36mhttps://github.com/manojVivek/responsively-app\u001b[0m\n"
      ]
     },
     "metadata": {},
     "output_type": "display_data"
    },
    {
     "data": {
      "text/html": [
       "<pre style=\"white-space:pre;overflow-x:auto;line-height:normal;font-family:Menlo,'DejaVu Sans Mono',consolas,'Courier New',monospace\"><span style=\"color: #ff5f00; text-decoration-color: #ff5f00; font-weight: bold\">[!] Package.json not found at root of </span><span style=\"color: #ff5f00; text-decoration-color: #ff5f00; font-weight: bold; text-decoration: underline\">https://github.com/manojVivek/responsively-app;</span><span style=\"color: #ff5f00; text-decoration-color: #ff5f00; font-weight: bold\"> trying directories</span>\n",
       "</pre>\n"
      ],
      "text/plain": [
       "\u001b[1;38;5;202m[\u001b[0m\u001b[1;38;5;202m!\u001b[0m\u001b[1;38;5;202m]\u001b[0m\u001b[1;38;5;202m Package.json not found at root of \u001b[0m\u001b[1;4;38;5;202mhttps://github.com/manojVivek/responsively-app;\u001b[0m\u001b[1;38;5;202m trying directories\u001b[0m\n"
      ]
     },
     "metadata": {},
     "output_type": "display_data"
    },
    {
     "data": {
      "text/html": [
       "<pre style=\"white-space:pre;overflow-x:auto;line-height:normal;font-family:Menlo,'DejaVu Sans Mono',consolas,'Courier New',monospace\"><span style=\"color: #008080; text-decoration-color: #008080; font-weight: bold\">[+] Trying </span><span style=\"color: #008080; text-decoration-color: #008080; font-weight: bold; text-decoration: underline\">https://github.com/responsively-org/responsively-app/tree/main/.github</span>\n",
       "</pre>\n"
      ],
      "text/plain": [
       "\u001b[1;36m[\u001b[0m\u001b[1;36m+\u001b[0m\u001b[1;36m]\u001b[0m\u001b[1;36m Trying \u001b[0m\u001b[1;4;36mhttps://github.com/responsively-org/responsively-app/tree/main/.github\u001b[0m\n"
      ]
     },
     "metadata": {},
     "output_type": "display_data"
    },
    {
     "data": {
      "text/html": [
       "<pre style=\"white-space:pre;overflow-x:auto;line-height:normal;font-family:Menlo,'DejaVu Sans Mono',consolas,'Courier New',monospace\"><span style=\"color: #008080; text-decoration-color: #008080; font-weight: bold\">[+] Trying </span><span style=\"color: #008080; text-decoration-color: #008080; font-weight: bold; text-decoration: underline\">https://github.com/responsively-org/responsively-app/tree/main/browser-extension</span>\n",
       "</pre>\n"
      ],
      "text/plain": [
       "\u001b[1;36m[\u001b[0m\u001b[1;36m+\u001b[0m\u001b[1;36m]\u001b[0m\u001b[1;36m Trying \u001b[0m\u001b[1;4;36mhttps://github.com/responsively-org/responsively-app/tree/main/browser-extension\u001b[0m\n"
      ]
     },
     "metadata": {},
     "output_type": "display_data"
    },
    {
     "data": {
      "text/html": [
       "<pre style=\"white-space:pre;overflow-x:auto;line-height:normal;font-family:Menlo,'DejaVu Sans Mono',consolas,'Courier New',monospace\"><span style=\"color: #008080; text-decoration-color: #008080; font-weight: bold\">[+] Trying </span><span style=\"color: #008080; text-decoration-color: #008080; font-weight: bold; text-decoration: underline\">https://github.com/responsively-org/responsively-app/tree/main/desktop-app-legacy</span>\n",
       "</pre>\n"
      ],
      "text/plain": [
       "\u001b[1;36m[\u001b[0m\u001b[1;36m+\u001b[0m\u001b[1;36m]\u001b[0m\u001b[1;36m Trying \u001b[0m\u001b[1;4;36mhttps://github.com/responsively-org/responsively-app/tree/main/desktop-app-legacy\u001b[0m\n"
      ]
     },
     "metadata": {},
     "output_type": "display_data"
    },
    {
     "data": {
      "text/html": [
       "<pre style=\"white-space:pre;overflow-x:auto;line-height:normal;font-family:Menlo,'DejaVu Sans Mono',consolas,'Courier New',monospace\"><span style=\"color: #008080; text-decoration-color: #008080; font-weight: bold\">[+] Trying </span><span style=\"color: #008080; text-decoration-color: #008080; font-weight: bold; text-decoration: underline\">https://github.com/responsively-org/responsively-app/tree/main/desktop-app</span>\n",
       "</pre>\n"
      ],
      "text/plain": [
       "\u001b[1;36m[\u001b[0m\u001b[1;36m+\u001b[0m\u001b[1;36m]\u001b[0m\u001b[1;36m Trying \u001b[0m\u001b[1;4;36mhttps://github.com/responsively-org/responsively-app/tree/main/desktop-app\u001b[0m\n"
      ]
     },
     "metadata": {},
     "output_type": "display_data"
    },
    {
     "data": {
      "text/html": [
       "<pre style=\"white-space:pre;overflow-x:auto;line-height:normal;font-family:Menlo,'DejaVu Sans Mono',consolas,'Courier New',monospace\"><span style=\"color: #800000; text-decoration-color: #800000; font-weight: bold\">[💀] Could not find package.json in first-level-subdirs</span>\n",
       "</pre>\n"
      ],
      "text/plain": [
       "\u001b[1;31m[\u001b[0m\u001b[1;31m💀\u001b[0m\u001b[1;31m]\u001b[0m\u001b[1;31m Could not find package.json in first-level-subdirs\u001b[0m\n"
      ]
     },
     "metadata": {},
     "output_type": "display_data"
    },
    {
     "data": {
      "text/html": [
       "<pre style=\"white-space:pre;overflow-x:auto;line-height:normal;font-family:Menlo,'DejaVu Sans Mono',consolas,'Courier New',monospace\"><span style=\"color: #008080; text-decoration-color: #008080; font-weight: bold\">[+] Getting repo: </span><span style=\"color: #008080; text-decoration-color: #008080; font-weight: bold; text-decoration: underline\">https://github.com/virejdasani/Responsivize</span>\n",
       "</pre>\n"
      ],
      "text/plain": [
       "\u001b[1;36m[\u001b[0m\u001b[1;36m+\u001b[0m\u001b[1;36m]\u001b[0m\u001b[1;36m Getting repo: \u001b[0m\u001b[1;4;36mhttps://github.com/virejdasani/Responsivize\u001b[0m\n"
      ]
     },
     "metadata": {},
     "output_type": "display_data"
    },
    {
     "data": {
      "text/html": [
       "<pre style=\"white-space:pre;overflow-x:auto;line-height:normal;font-family:Menlo,'DejaVu Sans Mono',consolas,'Courier New',monospace\"><span style=\"color: #008080; text-decoration-color: #008080; font-weight: bold\">[+] Successfully retrieved repo: </span><span style=\"color: #008080; text-decoration-color: #008080; font-weight: bold; text-decoration: underline\">https://github.com/virejdasani/Responsivize</span>\n",
       "</pre>\n"
      ],
      "text/plain": [
       "\u001b[1;36m[\u001b[0m\u001b[1;36m+\u001b[0m\u001b[1;36m]\u001b[0m\u001b[1;36m Successfully retrieved repo: \u001b[0m\u001b[1;4;36mhttps://github.com/virejdasani/Responsivize\u001b[0m\n"
      ]
     },
     "metadata": {},
     "output_type": "display_data"
    },
    {
     "data": {
      "text/html": [
       "<pre style=\"white-space:pre;overflow-x:auto;line-height:normal;font-family:Menlo,'DejaVu Sans Mono',consolas,'Courier New',monospace\"><span style=\"color: #008080; text-decoration-color: #008080; font-weight: bold\">[+] Found package.json at </span><span style=\"color: #008080; text-decoration-color: #008080; font-weight: bold; text-decoration: underline\">https://github.com/virejdasani/Responsivize</span>\n",
       "</pre>\n"
      ],
      "text/plain": [
       "\u001b[1;36m[\u001b[0m\u001b[1;36m+\u001b[0m\u001b[1;36m]\u001b[0m\u001b[1;36m Found package.json at \u001b[0m\u001b[1;4;36mhttps://github.com/virejdasani/Responsivize\u001b[0m\n"
      ]
     },
     "metadata": {},
     "output_type": "display_data"
    },
    {
     "data": {
      "text/html": [
       "<pre style=\"white-space:pre;overflow-x:auto;line-height:normal;font-family:Menlo,'DejaVu Sans Mono',consolas,'Courier New',monospace\"><span style=\"color: #008080; text-decoration-color: #008080; font-weight: bold\">[+] Getting </span><span style=\"color: #008080; text-decoration-color: #008080; font-weight: bold; text-decoration: underline\">https://github.com/virejdasani/Responsivize/blob/master/package.json</span>\n",
       "</pre>\n"
      ],
      "text/plain": [
       "\u001b[1;36m[\u001b[0m\u001b[1;36m+\u001b[0m\u001b[1;36m]\u001b[0m\u001b[1;36m Getting \u001b[0m\u001b[1;4;36mhttps://github.com/virejdasani/Responsivize/blob/master/package.json\u001b[0m\n"
      ]
     },
     "metadata": {},
     "output_type": "display_data"
    },
    {
     "data": {
      "text/html": [
       "<pre style=\"white-space:pre;overflow-x:auto;line-height:normal;font-family:Menlo,'DejaVu Sans Mono',consolas,'Courier New',monospace\"><span style=\"color: #008080; text-decoration-color: #008080; font-weight: bold\">[+] Getting repo: </span><span style=\"color: #008080; text-decoration-color: #008080; font-weight: bold; text-decoration: underline\">https://github.com/ridereceipts/ridereceipts</span>\n",
       "</pre>\n"
      ],
      "text/plain": [
       "\u001b[1;36m[\u001b[0m\u001b[1;36m+\u001b[0m\u001b[1;36m]\u001b[0m\u001b[1;36m Getting repo: \u001b[0m\u001b[1;4;36mhttps://github.com/ridereceipts/ridereceipts\u001b[0m\n"
      ]
     },
     "metadata": {},
     "output_type": "display_data"
    },
    {
     "data": {
      "text/html": [
       "<pre style=\"white-space:pre;overflow-x:auto;line-height:normal;font-family:Menlo,'DejaVu Sans Mono',consolas,'Courier New',monospace\"><span style=\"color: #008080; text-decoration-color: #008080; font-weight: bold\">[+] Successfully retrieved repo: </span><span style=\"color: #008080; text-decoration-color: #008080; font-weight: bold; text-decoration: underline\">https://github.com/ridereceipts/ridereceipts</span>\n",
       "</pre>\n"
      ],
      "text/plain": [
       "\u001b[1;36m[\u001b[0m\u001b[1;36m+\u001b[0m\u001b[1;36m]\u001b[0m\u001b[1;36m Successfully retrieved repo: \u001b[0m\u001b[1;4;36mhttps://github.com/ridereceipts/ridereceipts\u001b[0m\n"
      ]
     },
     "metadata": {},
     "output_type": "display_data"
    },
    {
     "data": {
      "text/html": [
       "<pre style=\"white-space:pre;overflow-x:auto;line-height:normal;font-family:Menlo,'DejaVu Sans Mono',consolas,'Courier New',monospace\"><span style=\"color: #008080; text-decoration-color: #008080; font-weight: bold\">[+] Found package.json at </span><span style=\"color: #008080; text-decoration-color: #008080; font-weight: bold; text-decoration: underline\">https://github.com/ridereceipts/ridereceipts</span>\n",
       "</pre>\n"
      ],
      "text/plain": [
       "\u001b[1;36m[\u001b[0m\u001b[1;36m+\u001b[0m\u001b[1;36m]\u001b[0m\u001b[1;36m Found package.json at \u001b[0m\u001b[1;4;36mhttps://github.com/ridereceipts/ridereceipts\u001b[0m\n"
      ]
     },
     "metadata": {},
     "output_type": "display_data"
    },
    {
     "data": {
      "text/html": [
       "<pre style=\"white-space:pre;overflow-x:auto;line-height:normal;font-family:Menlo,'DejaVu Sans Mono',consolas,'Courier New',monospace\"><span style=\"color: #008080; text-decoration-color: #008080; font-weight: bold\">[+] Getting </span><span style=\"color: #008080; text-decoration-color: #008080; font-weight: bold; text-decoration: underline\">https://github.com/hello-efficiency-inc/ridereceipts/blob/master/package.json</span>\n",
       "</pre>\n"
      ],
      "text/plain": [
       "\u001b[1;36m[\u001b[0m\u001b[1;36m+\u001b[0m\u001b[1;36m]\u001b[0m\u001b[1;36m Getting \u001b[0m\u001b[1;4;36mhttps://github.com/hello-efficiency-inc/ridereceipts/blob/master/package.json\u001b[0m\n"
      ]
     },
     "metadata": {},
     "output_type": "display_data"
    },
    {
     "data": {
      "text/html": [
       "<pre style=\"white-space:pre;overflow-x:auto;line-height:normal;font-family:Menlo,'DejaVu Sans Mono',consolas,'Courier New',monospace\"><span style=\"color: #008080; text-decoration-color: #008080; font-weight: bold\">[+] Getting repo: </span><span style=\"color: #008080; text-decoration-color: #008080; font-weight: bold; text-decoration: underline\">https://github.com/vector-im/element-desktop</span>\n",
       "</pre>\n"
      ],
      "text/plain": [
       "\u001b[1;36m[\u001b[0m\u001b[1;36m+\u001b[0m\u001b[1;36m]\u001b[0m\u001b[1;36m Getting repo: \u001b[0m\u001b[1;4;36mhttps://github.com/vector-im/element-desktop\u001b[0m\n"
      ]
     },
     "metadata": {},
     "output_type": "display_data"
    },
    {
     "data": {
      "text/html": [
       "<pre style=\"white-space:pre;overflow-x:auto;line-height:normal;font-family:Menlo,'DejaVu Sans Mono',consolas,'Courier New',monospace\"><span style=\"color: #008080; text-decoration-color: #008080; font-weight: bold\">[+] Successfully retrieved repo: </span><span style=\"color: #008080; text-decoration-color: #008080; font-weight: bold; text-decoration: underline\">https://github.com/vector-im/element-desktop</span>\n",
       "</pre>\n"
      ],
      "text/plain": [
       "\u001b[1;36m[\u001b[0m\u001b[1;36m+\u001b[0m\u001b[1;36m]\u001b[0m\u001b[1;36m Successfully retrieved repo: \u001b[0m\u001b[1;4;36mhttps://github.com/vector-im/element-desktop\u001b[0m\n"
      ]
     },
     "metadata": {},
     "output_type": "display_data"
    },
    {
     "data": {
      "text/html": [
       "<pre style=\"white-space:pre;overflow-x:auto;line-height:normal;font-family:Menlo,'DejaVu Sans Mono',consolas,'Courier New',monospace\"><span style=\"color: #008080; text-decoration-color: #008080; font-weight: bold\">[+] Found package.json at </span><span style=\"color: #008080; text-decoration-color: #008080; font-weight: bold; text-decoration: underline\">https://github.com/vector-im/element-desktop</span>\n",
       "</pre>\n"
      ],
      "text/plain": [
       "\u001b[1;36m[\u001b[0m\u001b[1;36m+\u001b[0m\u001b[1;36m]\u001b[0m\u001b[1;36m Found package.json at \u001b[0m\u001b[1;4;36mhttps://github.com/vector-im/element-desktop\u001b[0m\n"
      ]
     },
     "metadata": {},
     "output_type": "display_data"
    },
    {
     "data": {
      "text/html": [
       "<pre style=\"white-space:pre;overflow-x:auto;line-height:normal;font-family:Menlo,'DejaVu Sans Mono',consolas,'Courier New',monospace\"><span style=\"color: #008080; text-decoration-color: #008080; font-weight: bold\">[+] Getting </span><span style=\"color: #008080; text-decoration-color: #008080; font-weight: bold; text-decoration: underline\">https://github.com/vector-im/element-desktop/blob/develop/package.json</span>\n",
       "</pre>\n"
      ],
      "text/plain": [
       "\u001b[1;36m[\u001b[0m\u001b[1;36m+\u001b[0m\u001b[1;36m]\u001b[0m\u001b[1;36m Getting \u001b[0m\u001b[1;4;36mhttps://github.com/vector-im/element-desktop/blob/develop/package.json\u001b[0m\n"
      ]
     },
     "metadata": {},
     "output_type": "display_data"
    },
    {
     "data": {
      "text/html": [
       "<pre style=\"white-space:pre;overflow-x:auto;line-height:normal;font-family:Menlo,'DejaVu Sans Mono',consolas,'Courier New',monospace\"><span style=\"color: #008080; text-decoration-color: #008080; font-weight: bold\">[+] Getting repo: </span><span style=\"color: #008080; text-decoration-color: #008080; font-weight: bold; text-decoration: underline\">https://github.com/runletapp/runlet</span>\n",
       "</pre>\n"
      ],
      "text/plain": [
       "\u001b[1;36m[\u001b[0m\u001b[1;36m+\u001b[0m\u001b[1;36m]\u001b[0m\u001b[1;36m Getting repo: \u001b[0m\u001b[1;4;36mhttps://github.com/runletapp/runlet\u001b[0m\n"
      ]
     },
     "metadata": {},
     "output_type": "display_data"
    },
    {
     "data": {
      "text/html": [
       "<pre style=\"white-space:pre;overflow-x:auto;line-height:normal;font-family:Menlo,'DejaVu Sans Mono',consolas,'Courier New',monospace\"><span style=\"color: #008080; text-decoration-color: #008080; font-weight: bold\">[+] Successfully retrieved repo: </span><span style=\"color: #008080; text-decoration-color: #008080; font-weight: bold; text-decoration: underline\">https://github.com/runletapp/runlet</span>\n",
       "</pre>\n"
      ],
      "text/plain": [
       "\u001b[1;36m[\u001b[0m\u001b[1;36m+\u001b[0m\u001b[1;36m]\u001b[0m\u001b[1;36m Successfully retrieved repo: \u001b[0m\u001b[1;4;36mhttps://github.com/runletapp/runlet\u001b[0m\n"
      ]
     },
     "metadata": {},
     "output_type": "display_data"
    },
    {
     "data": {
      "text/html": [
       "<pre style=\"white-space:pre;overflow-x:auto;line-height:normal;font-family:Menlo,'DejaVu Sans Mono',consolas,'Courier New',monospace\"><span style=\"color: #ff5f00; text-decoration-color: #ff5f00; font-weight: bold\">[!] Package.json not found at root of </span><span style=\"color: #ff5f00; text-decoration-color: #ff5f00; font-weight: bold; text-decoration: underline\">https://github.com/runletapp/runlet;</span><span style=\"color: #ff5f00; text-decoration-color: #ff5f00; font-weight: bold\"> trying directories</span>\n",
       "</pre>\n"
      ],
      "text/plain": [
       "\u001b[1;38;5;202m[\u001b[0m\u001b[1;38;5;202m!\u001b[0m\u001b[1;38;5;202m]\u001b[0m\u001b[1;38;5;202m Package.json not found at root of \u001b[0m\u001b[1;4;38;5;202mhttps://github.com/runletapp/runlet;\u001b[0m\u001b[1;38;5;202m trying directories\u001b[0m\n"
      ]
     },
     "metadata": {},
     "output_type": "display_data"
    },
    {
     "data": {
      "text/html": [
       "<pre style=\"white-space:pre;overflow-x:auto;line-height:normal;font-family:Menlo,'DejaVu Sans Mono',consolas,'Courier New',monospace\"><span style=\"color: #008080; text-decoration-color: #008080; font-weight: bold\">[+] Trying </span><span style=\"color: #008080; text-decoration-color: #008080; font-weight: bold; text-decoration: underline\">https://github.com/runletapp/runlet/tree/main/.github/ISSUE_TEMPLATE</span>\n",
       "</pre>\n"
      ],
      "text/plain": [
       "\u001b[1;36m[\u001b[0m\u001b[1;36m+\u001b[0m\u001b[1;36m]\u001b[0m\u001b[1;36m Trying \u001b[0m\u001b[1;4;36mhttps://github.com/runletapp/runlet/tree/main/.github/ISSUE_TEMPLATE\u001b[0m\n"
      ]
     },
     "metadata": {},
     "output_type": "display_data"
    },
    {
     "data": {
      "text/html": [
       "<pre style=\"white-space:pre;overflow-x:auto;line-height:normal;font-family:Menlo,'DejaVu Sans Mono',consolas,'Courier New',monospace\"><span style=\"color: #800000; text-decoration-color: #800000; font-weight: bold\">[💀] Could not find package.json in first-level-subdirs</span>\n",
       "</pre>\n"
      ],
      "text/plain": [
       "\u001b[1;31m[\u001b[0m\u001b[1;31m💀\u001b[0m\u001b[1;31m]\u001b[0m\u001b[1;31m Could not find package.json in first-level-subdirs\u001b[0m\n"
      ]
     },
     "metadata": {},
     "output_type": "display_data"
    },
    {
     "data": {
      "text/html": [
       "<pre style=\"white-space:pre;overflow-x:auto;line-height:normal;font-family:Menlo,'DejaVu Sans Mono',consolas,'Courier New',monospace\"><span style=\"color: #008080; text-decoration-color: #008080; font-weight: bold\">[+] Getting repo: </span><span style=\"color: #008080; text-decoration-color: #008080; font-weight: bold; text-decoration: underline\">https://github.com/scratch-for-discord/scratch-for-discord-app</span>\n",
       "</pre>\n"
      ],
      "text/plain": [
       "\u001b[1;36m[\u001b[0m\u001b[1;36m+\u001b[0m\u001b[1;36m]\u001b[0m\u001b[1;36m Getting repo: \u001b[0m\u001b[1;4;36mhttps://github.com/scratch-for-discord/scratch-for-discord-app\u001b[0m\n"
      ]
     },
     "metadata": {},
     "output_type": "display_data"
    },
    {
     "data": {
      "text/html": [
       "<pre style=\"white-space:pre;overflow-x:auto;line-height:normal;font-family:Menlo,'DejaVu Sans Mono',consolas,'Courier New',monospace\"><span style=\"color: #008080; text-decoration-color: #008080; font-weight: bold\">[+] Successfully retrieved repo: </span><span style=\"color: #008080; text-decoration-color: #008080; font-weight: bold; text-decoration: underline\">https://github.com/scratch-for-discord/scratch-for-discord-app</span>\n",
       "</pre>\n"
      ],
      "text/plain": [
       "\u001b[1;36m[\u001b[0m\u001b[1;36m+\u001b[0m\u001b[1;36m]\u001b[0m\u001b[1;36m Successfully retrieved repo: \u001b[0m\u001b[1;4;36mhttps://github.com/scratch-for-discord/scratch-for-discord-app\u001b[0m\n"
      ]
     },
     "metadata": {},
     "output_type": "display_data"
    },
    {
     "data": {
      "text/html": [
       "<pre style=\"white-space:pre;overflow-x:auto;line-height:normal;font-family:Menlo,'DejaVu Sans Mono',consolas,'Courier New',monospace\"><span style=\"color: #008080; text-decoration-color: #008080; font-weight: bold\">[+] Found package.json at </span><span style=\"color: #008080; text-decoration-color: #008080; font-weight: bold; text-decoration: underline\">https://github.com/scratch-for-discord/scratch-for-discord-app</span>\n",
       "</pre>\n"
      ],
      "text/plain": [
       "\u001b[1;36m[\u001b[0m\u001b[1;36m+\u001b[0m\u001b[1;36m]\u001b[0m\u001b[1;36m Found package.json at \u001b[0m\u001b[1;4;36mhttps://github.com/scratch-for-discord/scratch-for-discord-app\u001b[0m\n"
      ]
     },
     "metadata": {},
     "output_type": "display_data"
    },
    {
     "data": {
      "text/html": [
       "<pre style=\"white-space:pre;overflow-x:auto;line-height:normal;font-family:Menlo,'DejaVu Sans Mono',consolas,'Courier New',monospace\"><span style=\"color: #008080; text-decoration-color: #008080; font-weight: bold\">[+] Getting </span><span style=\"color: #008080; text-decoration-color: #008080; font-weight: bold; text-decoration: underline\">https://github.com/twlite/scratch-for-discord/blob/main/package.json</span>\n",
       "</pre>\n"
      ],
      "text/plain": [
       "\u001b[1;36m[\u001b[0m\u001b[1;36m+\u001b[0m\u001b[1;36m]\u001b[0m\u001b[1;36m Getting \u001b[0m\u001b[1;4;36mhttps://github.com/twlite/scratch-for-discord/blob/main/package.json\u001b[0m\n"
      ]
     },
     "metadata": {},
     "output_type": "display_data"
    },
    {
     "data": {
      "text/html": [
       "<pre style=\"white-space:pre;overflow-x:auto;line-height:normal;font-family:Menlo,'DejaVu Sans Mono',consolas,'Courier New',monospace\"><span style=\"color: #008080; text-decoration-color: #008080; font-weight: bold\">[+] Getting repo: </span><span style=\"color: #008080; text-decoration-color: #008080; font-weight: bold; text-decoration: underline\">https://github.com/DSnopov/screentray-distribution</span>\n",
       "</pre>\n"
      ],
      "text/plain": [
       "\u001b[1;36m[\u001b[0m\u001b[1;36m+\u001b[0m\u001b[1;36m]\u001b[0m\u001b[1;36m Getting repo: \u001b[0m\u001b[1;4;36mhttps://github.com/DSnopov/screentray-distribution\u001b[0m\n"
      ]
     },
     "metadata": {},
     "output_type": "display_data"
    },
    {
     "data": {
      "text/html": [
       "<pre style=\"white-space:pre;overflow-x:auto;line-height:normal;font-family:Menlo,'DejaVu Sans Mono',consolas,'Courier New',monospace\"><span style=\"color: #008080; text-decoration-color: #008080; font-weight: bold\">[+] Successfully retrieved repo: </span><span style=\"color: #008080; text-decoration-color: #008080; font-weight: bold; text-decoration: underline\">https://github.com/DSnopov/screentray-distribution</span>\n",
       "</pre>\n"
      ],
      "text/plain": [
       "\u001b[1;36m[\u001b[0m\u001b[1;36m+\u001b[0m\u001b[1;36m]\u001b[0m\u001b[1;36m Successfully retrieved repo: \u001b[0m\u001b[1;4;36mhttps://github.com/DSnopov/screentray-distribution\u001b[0m\n"
      ]
     },
     "metadata": {},
     "output_type": "display_data"
    },
    {
     "data": {
      "text/html": [
       "<pre style=\"white-space:pre;overflow-x:auto;line-height:normal;font-family:Menlo,'DejaVu Sans Mono',consolas,'Courier New',monospace\"><span style=\"color: #ff5f00; text-decoration-color: #ff5f00; font-weight: bold\">[!] Package.json not found at root of </span><span style=\"color: #ff5f00; text-decoration-color: #ff5f00; font-weight: bold; text-decoration: underline\">https://github.com/DSnopov/screentray-distribution;</span><span style=\"color: #ff5f00; text-decoration-color: #ff5f00; font-weight: bold\"> trying directories</span>\n",
       "</pre>\n"
      ],
      "text/plain": [
       "\u001b[1;38;5;202m[\u001b[0m\u001b[1;38;5;202m!\u001b[0m\u001b[1;38;5;202m]\u001b[0m\u001b[1;38;5;202m Package.json not found at root of \u001b[0m\u001b[1;4;38;5;202mhttps://github.com/DSnopov/screentray-distribution;\u001b[0m\u001b[1;38;5;202m trying directories\u001b[0m\n"
      ]
     },
     "metadata": {},
     "output_type": "display_data"
    },
    {
     "data": {
      "text/html": [
       "<pre style=\"white-space:pre;overflow-x:auto;line-height:normal;font-family:Menlo,'DejaVu Sans Mono',consolas,'Courier New',monospace\"><span style=\"color: #008080; text-decoration-color: #008080; font-weight: bold\">[+] Trying </span><span style=\"color: #008080; text-decoration-color: #008080; font-weight: bold; text-decoration: underline\">https://github.com/DSnopov/screentray-distribution/tree/master/images</span>\n",
       "</pre>\n"
      ],
      "text/plain": [
       "\u001b[1;36m[\u001b[0m\u001b[1;36m+\u001b[0m\u001b[1;36m]\u001b[0m\u001b[1;36m Trying \u001b[0m\u001b[1;4;36mhttps://github.com/DSnopov/screentray-distribution/tree/master/images\u001b[0m\n"
      ]
     },
     "metadata": {},
     "output_type": "display_data"
    },
    {
     "data": {
      "text/html": [
       "<pre style=\"white-space:pre;overflow-x:auto;line-height:normal;font-family:Menlo,'DejaVu Sans Mono',consolas,'Courier New',monospace\"><span style=\"color: #800000; text-decoration-color: #800000; font-weight: bold\">[💀] Could not find package.json in first-level-subdirs</span>\n",
       "</pre>\n"
      ],
      "text/plain": [
       "\u001b[1;31m[\u001b[0m\u001b[1;31m💀\u001b[0m\u001b[1;31m]\u001b[0m\u001b[1;31m Could not find package.json in first-level-subdirs\u001b[0m\n"
      ]
     },
     "metadata": {},
     "output_type": "display_data"
    },
    {
     "data": {
      "text/html": [
       "<pre style=\"white-space:pre;overflow-x:auto;line-height:normal;font-family:Menlo,'DejaVu Sans Mono',consolas,'Courier New',monospace\"><span style=\"color: #008080; text-decoration-color: #008080; font-weight: bold\">[+] Getting repo: </span><span style=\"color: #008080; text-decoration-color: #008080; font-weight: bold; text-decoration: underline\">https://github.com/yasumichi/seapig</span>\n",
       "</pre>\n"
      ],
      "text/plain": [
       "\u001b[1;36m[\u001b[0m\u001b[1;36m+\u001b[0m\u001b[1;36m]\u001b[0m\u001b[1;36m Getting repo: \u001b[0m\u001b[1;4;36mhttps://github.com/yasumichi/seapig\u001b[0m\n"
      ]
     },
     "metadata": {},
     "output_type": "display_data"
    },
    {
     "data": {
      "text/html": [
       "<pre style=\"white-space:pre;overflow-x:auto;line-height:normal;font-family:Menlo,'DejaVu Sans Mono',consolas,'Courier New',monospace\"><span style=\"color: #008080; text-decoration-color: #008080; font-weight: bold\">[+] Successfully retrieved repo: </span><span style=\"color: #008080; text-decoration-color: #008080; font-weight: bold; text-decoration: underline\">https://github.com/yasumichi/seapig</span>\n",
       "</pre>\n"
      ],
      "text/plain": [
       "\u001b[1;36m[\u001b[0m\u001b[1;36m+\u001b[0m\u001b[1;36m]\u001b[0m\u001b[1;36m Successfully retrieved repo: \u001b[0m\u001b[1;4;36mhttps://github.com/yasumichi/seapig\u001b[0m\n"
      ]
     },
     "metadata": {},
     "output_type": "display_data"
    },
    {
     "data": {
      "text/html": [
       "<pre style=\"white-space:pre;overflow-x:auto;line-height:normal;font-family:Menlo,'DejaVu Sans Mono',consolas,'Courier New',monospace\"><span style=\"color: #008080; text-decoration-color: #008080; font-weight: bold\">[+] Found package.json at </span><span style=\"color: #008080; text-decoration-color: #008080; font-weight: bold; text-decoration: underline\">https://github.com/yasumichi/seapig</span>\n",
       "</pre>\n"
      ],
      "text/plain": [
       "\u001b[1;36m[\u001b[0m\u001b[1;36m+\u001b[0m\u001b[1;36m]\u001b[0m\u001b[1;36m Found package.json at \u001b[0m\u001b[1;4;36mhttps://github.com/yasumichi/seapig\u001b[0m\n"
      ]
     },
     "metadata": {},
     "output_type": "display_data"
    },
    {
     "data": {
      "text/html": [
       "<pre style=\"white-space:pre;overflow-x:auto;line-height:normal;font-family:Menlo,'DejaVu Sans Mono',consolas,'Courier New',monospace\"><span style=\"color: #008080; text-decoration-color: #008080; font-weight: bold\">[+] Getting </span><span style=\"color: #008080; text-decoration-color: #008080; font-weight: bold; text-decoration: underline\">https://github.com/yasumichi/seapig/blob/master/package.json</span>\n",
       "</pre>\n"
      ],
      "text/plain": [
       "\u001b[1;36m[\u001b[0m\u001b[1;36m+\u001b[0m\u001b[1;36m]\u001b[0m\u001b[1;36m Getting \u001b[0m\u001b[1;4;36mhttps://github.com/yasumichi/seapig/blob/master/package.json\u001b[0m\n"
      ]
     },
     "metadata": {},
     "output_type": "display_data"
    },
    {
     "data": {
      "text/html": [
       "<pre style=\"white-space:pre;overflow-x:auto;line-height:normal;font-family:Menlo,'DejaVu Sans Mono',consolas,'Courier New',monospace\"><span style=\"color: #008080; text-decoration-color: #008080; font-weight: bold\">[+] Getting repo: </span><span style=\"color: #008080; text-decoration-color: #008080; font-weight: bold; text-decoration: underline\">https://github.com/seobrowse/serp/</span>\n",
       "</pre>\n"
      ],
      "text/plain": [
       "\u001b[1;36m[\u001b[0m\u001b[1;36m+\u001b[0m\u001b[1;36m]\u001b[0m\u001b[1;36m Getting repo: \u001b[0m\u001b[1;4;36mhttps://github.com/seobrowse/serp/\u001b[0m\n"
      ]
     },
     "metadata": {},
     "output_type": "display_data"
    },
    {
     "data": {
      "text/html": [
       "<pre style=\"white-space:pre;overflow-x:auto;line-height:normal;font-family:Menlo,'DejaVu Sans Mono',consolas,'Courier New',monospace\"><span style=\"color: #008080; text-decoration-color: #008080; font-weight: bold\">[+] Successfully retrieved repo: </span><span style=\"color: #008080; text-decoration-color: #008080; font-weight: bold; text-decoration: underline\">https://github.com/seobrowse/serp/</span>\n",
       "</pre>\n"
      ],
      "text/plain": [
       "\u001b[1;36m[\u001b[0m\u001b[1;36m+\u001b[0m\u001b[1;36m]\u001b[0m\u001b[1;36m Successfully retrieved repo: \u001b[0m\u001b[1;4;36mhttps://github.com/seobrowse/serp/\u001b[0m\n"
      ]
     },
     "metadata": {},
     "output_type": "display_data"
    },
    {
     "data": {
      "text/html": [
       "<pre style=\"white-space:pre;overflow-x:auto;line-height:normal;font-family:Menlo,'DejaVu Sans Mono',consolas,'Courier New',monospace\"><span style=\"color: #008080; text-decoration-color: #008080; font-weight: bold\">[+] Found package.json at </span><span style=\"color: #008080; text-decoration-color: #008080; font-weight: bold; text-decoration: underline\">https://github.com/seobrowse/serp/</span>\n",
       "</pre>\n"
      ],
      "text/plain": [
       "\u001b[1;36m[\u001b[0m\u001b[1;36m+\u001b[0m\u001b[1;36m]\u001b[0m\u001b[1;36m Found package.json at \u001b[0m\u001b[1;4;36mhttps://github.com/seobrowse/serp/\u001b[0m\n"
      ]
     },
     "metadata": {},
     "output_type": "display_data"
    },
    {
     "data": {
      "text/html": [
       "<pre style=\"white-space:pre;overflow-x:auto;line-height:normal;font-family:Menlo,'DejaVu Sans Mono',consolas,'Courier New',monospace\"><span style=\"color: #008080; text-decoration-color: #008080; font-weight: bold\">[+] Getting </span><span style=\"color: #008080; text-decoration-color: #008080; font-weight: bold; text-decoration: underline\">https://github.com/seobrowse/serp/blob/main/package.json</span>\n",
       "</pre>\n"
      ],
      "text/plain": [
       "\u001b[1;36m[\u001b[0m\u001b[1;36m+\u001b[0m\u001b[1;36m]\u001b[0m\u001b[1;36m Getting \u001b[0m\u001b[1;4;36mhttps://github.com/seobrowse/serp/blob/main/package.json\u001b[0m\n"
      ]
     },
     "metadata": {},
     "output_type": "display_data"
    },
    {
     "data": {
      "text/html": [
       "<pre style=\"white-space:pre;overflow-x:auto;line-height:normal;font-family:Menlo,'DejaVu Sans Mono',consolas,'Courier New',monospace\"><span style=\"color: #008080; text-decoration-color: #008080; font-weight: bold\">[+] Getting repo: </span><span style=\"color: #008080; text-decoration-color: #008080; font-weight: bold; text-decoration: underline\">https://github.com/ORN-Fox/serina-1</span>\n",
       "</pre>\n"
      ],
      "text/plain": [
       "\u001b[1;36m[\u001b[0m\u001b[1;36m+\u001b[0m\u001b[1;36m]\u001b[0m\u001b[1;36m Getting repo: \u001b[0m\u001b[1;4;36mhttps://github.com/ORN-Fox/serina-1\u001b[0m\n"
      ]
     },
     "metadata": {},
     "output_type": "display_data"
    },
    {
     "data": {
      "text/html": [
       "<pre style=\"white-space:pre;overflow-x:auto;line-height:normal;font-family:Menlo,'DejaVu Sans Mono',consolas,'Courier New',monospace\"><span style=\"color: #008080; text-decoration-color: #008080; font-weight: bold\">[+] Successfully retrieved repo: </span><span style=\"color: #008080; text-decoration-color: #008080; font-weight: bold; text-decoration: underline\">https://github.com/ORN-Fox/serina-1</span>\n",
       "</pre>\n"
      ],
      "text/plain": [
       "\u001b[1;36m[\u001b[0m\u001b[1;36m+\u001b[0m\u001b[1;36m]\u001b[0m\u001b[1;36m Successfully retrieved repo: \u001b[0m\u001b[1;4;36mhttps://github.com/ORN-Fox/serina-1\u001b[0m\n"
      ]
     },
     "metadata": {},
     "output_type": "display_data"
    },
    {
     "data": {
      "text/html": [
       "<pre style=\"white-space:pre;overflow-x:auto;line-height:normal;font-family:Menlo,'DejaVu Sans Mono',consolas,'Courier New',monospace\"><span style=\"color: #008080; text-decoration-color: #008080; font-weight: bold\">[+] Found package.json at </span><span style=\"color: #008080; text-decoration-color: #008080; font-weight: bold; text-decoration: underline\">https://github.com/ORN-Fox/serina-1</span>\n",
       "</pre>\n"
      ],
      "text/plain": [
       "\u001b[1;36m[\u001b[0m\u001b[1;36m+\u001b[0m\u001b[1;36m]\u001b[0m\u001b[1;36m Found package.json at \u001b[0m\u001b[1;4;36mhttps://github.com/ORN-Fox/serina-1\u001b[0m\n"
      ]
     },
     "metadata": {},
     "output_type": "display_data"
    },
    {
     "data": {
      "text/html": [
       "<pre style=\"white-space:pre;overflow-x:auto;line-height:normal;font-family:Menlo,'DejaVu Sans Mono',consolas,'Courier New',monospace\"><span style=\"color: #008080; text-decoration-color: #008080; font-weight: bold\">[+] Getting </span><span style=\"color: #008080; text-decoration-color: #008080; font-weight: bold; text-decoration: underline\">https://github.com/ORN-Fox/serina-1/blob/master/package.json</span>\n",
       "</pre>\n"
      ],
      "text/plain": [
       "\u001b[1;36m[\u001b[0m\u001b[1;36m+\u001b[0m\u001b[1;36m]\u001b[0m\u001b[1;36m Getting \u001b[0m\u001b[1;4;36mhttps://github.com/ORN-Fox/serina-1/blob/master/package.json\u001b[0m\n"
      ]
     },
     "metadata": {},
     "output_type": "display_data"
    },
    {
     "data": {
      "text/html": [
       "<pre style=\"white-space:pre;overflow-x:auto;line-height:normal;font-family:Menlo,'DejaVu Sans Mono',consolas,'Courier New',monospace\"><span style=\"color: #008080; text-decoration-color: #008080; font-weight: bold\">[+] Getting repo: </span><span style=\"color: #008080; text-decoration-color: #008080; font-weight: bold; text-decoration: underline\">https://github.com/signalapp/Signal-Desktop</span>\n",
       "</pre>\n"
      ],
      "text/plain": [
       "\u001b[1;36m[\u001b[0m\u001b[1;36m+\u001b[0m\u001b[1;36m]\u001b[0m\u001b[1;36m Getting repo: \u001b[0m\u001b[1;4;36mhttps://github.com/signalapp/Signal-Desktop\u001b[0m\n"
      ]
     },
     "metadata": {},
     "output_type": "display_data"
    },
    {
     "data": {
      "text/html": [
       "<pre style=\"white-space:pre;overflow-x:auto;line-height:normal;font-family:Menlo,'DejaVu Sans Mono',consolas,'Courier New',monospace\"><span style=\"color: #008080; text-decoration-color: #008080; font-weight: bold\">[+] Successfully retrieved repo: </span><span style=\"color: #008080; text-decoration-color: #008080; font-weight: bold; text-decoration: underline\">https://github.com/signalapp/Signal-Desktop</span>\n",
       "</pre>\n"
      ],
      "text/plain": [
       "\u001b[1;36m[\u001b[0m\u001b[1;36m+\u001b[0m\u001b[1;36m]\u001b[0m\u001b[1;36m Successfully retrieved repo: \u001b[0m\u001b[1;4;36mhttps://github.com/signalapp/Signal-Desktop\u001b[0m\n"
      ]
     },
     "metadata": {},
     "output_type": "display_data"
    },
    {
     "data": {
      "text/html": [
       "<pre style=\"white-space:pre;overflow-x:auto;line-height:normal;font-family:Menlo,'DejaVu Sans Mono',consolas,'Courier New',monospace\"><span style=\"color: #008080; text-decoration-color: #008080; font-weight: bold\">[+] Found package.json at </span><span style=\"color: #008080; text-decoration-color: #008080; font-weight: bold; text-decoration: underline\">https://github.com/signalapp/Signal-Desktop</span>\n",
       "</pre>\n"
      ],
      "text/plain": [
       "\u001b[1;36m[\u001b[0m\u001b[1;36m+\u001b[0m\u001b[1;36m]\u001b[0m\u001b[1;36m Found package.json at \u001b[0m\u001b[1;4;36mhttps://github.com/signalapp/Signal-Desktop\u001b[0m\n"
      ]
     },
     "metadata": {},
     "output_type": "display_data"
    },
    {
     "data": {
      "text/html": [
       "<pre style=\"white-space:pre;overflow-x:auto;line-height:normal;font-family:Menlo,'DejaVu Sans Mono',consolas,'Courier New',monospace\"><span style=\"color: #008080; text-decoration-color: #008080; font-weight: bold\">[+] Getting </span><span style=\"color: #008080; text-decoration-color: #008080; font-weight: bold; text-decoration: underline\">https://github.com/signalapp/Signal-Desktop/blob/main/package.json</span>\n",
       "</pre>\n"
      ],
      "text/plain": [
       "\u001b[1;36m[\u001b[0m\u001b[1;36m+\u001b[0m\u001b[1;36m]\u001b[0m\u001b[1;36m Getting \u001b[0m\u001b[1;4;36mhttps://github.com/signalapp/Signal-Desktop/blob/main/package.json\u001b[0m\n"
      ]
     },
     "metadata": {},
     "output_type": "display_data"
    },
    {
     "data": {
      "text/html": [
       "<pre style=\"white-space:pre;overflow-x:auto;line-height:normal;font-family:Menlo,'DejaVu Sans Mono',consolas,'Courier New',monospace\"><span style=\"color: #008080; text-decoration-color: #008080; font-weight: bold\">[+] Getting repo: </span><span style=\"color: #008080; text-decoration-color: #008080; font-weight: bold; text-decoration: underline\">https://github.com/silexlabs/silex-desktop/</span>\n",
       "</pre>\n"
      ],
      "text/plain": [
       "\u001b[1;36m[\u001b[0m\u001b[1;36m+\u001b[0m\u001b[1;36m]\u001b[0m\u001b[1;36m Getting repo: \u001b[0m\u001b[1;4;36mhttps://github.com/silexlabs/silex-desktop/\u001b[0m\n"
      ]
     },
     "metadata": {},
     "output_type": "display_data"
    },
    {
     "data": {
      "text/html": [
       "<pre style=\"white-space:pre;overflow-x:auto;line-height:normal;font-family:Menlo,'DejaVu Sans Mono',consolas,'Courier New',monospace\"><span style=\"color: #008080; text-decoration-color: #008080; font-weight: bold\">[+] Successfully retrieved repo: </span><span style=\"color: #008080; text-decoration-color: #008080; font-weight: bold; text-decoration: underline\">https://github.com/silexlabs/silex-desktop/</span>\n",
       "</pre>\n"
      ],
      "text/plain": [
       "\u001b[1;36m[\u001b[0m\u001b[1;36m+\u001b[0m\u001b[1;36m]\u001b[0m\u001b[1;36m Successfully retrieved repo: \u001b[0m\u001b[1;4;36mhttps://github.com/silexlabs/silex-desktop/\u001b[0m\n"
      ]
     },
     "metadata": {},
     "output_type": "display_data"
    },
    {
     "data": {
      "text/html": [
       "<pre style=\"white-space:pre;overflow-x:auto;line-height:normal;font-family:Menlo,'DejaVu Sans Mono',consolas,'Courier New',monospace\"><span style=\"color: #008080; text-decoration-color: #008080; font-weight: bold\">[+] Found package.json at </span><span style=\"color: #008080; text-decoration-color: #008080; font-weight: bold; text-decoration: underline\">https://github.com/silexlabs/silex-desktop/</span>\n",
       "</pre>\n"
      ],
      "text/plain": [
       "\u001b[1;36m[\u001b[0m\u001b[1;36m+\u001b[0m\u001b[1;36m]\u001b[0m\u001b[1;36m Found package.json at \u001b[0m\u001b[1;4;36mhttps://github.com/silexlabs/silex-desktop/\u001b[0m\n"
      ]
     },
     "metadata": {},
     "output_type": "display_data"
    },
    {
     "data": {
      "text/html": [
       "<pre style=\"white-space:pre;overflow-x:auto;line-height:normal;font-family:Menlo,'DejaVu Sans Mono',consolas,'Courier New',monospace\"><span style=\"color: #008080; text-decoration-color: #008080; font-weight: bold\">[+] Getting </span><span style=\"color: #008080; text-decoration-color: #008080; font-weight: bold; text-decoration: underline\">https://github.com/silexlabs/silex-desktop/blob/main/package.json</span>\n",
       "</pre>\n"
      ],
      "text/plain": [
       "\u001b[1;36m[\u001b[0m\u001b[1;36m+\u001b[0m\u001b[1;36m]\u001b[0m\u001b[1;36m Getting \u001b[0m\u001b[1;4;36mhttps://github.com/silexlabs/silex-desktop/blob/main/package.json\u001b[0m\n"
      ]
     },
     "metadata": {},
     "output_type": "display_data"
    },
    {
     "data": {
      "text/html": [
       "<pre style=\"white-space:pre;overflow-x:auto;line-height:normal;font-family:Menlo,'DejaVu Sans Mono',consolas,'Courier New',monospace\"><span style=\"color: #008080; text-decoration-color: #008080; font-weight: bold\">[+] Getting repo: </span><span style=\"color: #008080; text-decoration-color: #008080; font-weight: bold; text-decoration: underline\">https://github.com/mifi/SimpleInstaBot</span>\n",
       "</pre>\n"
      ],
      "text/plain": [
       "\u001b[1;36m[\u001b[0m\u001b[1;36m+\u001b[0m\u001b[1;36m]\u001b[0m\u001b[1;36m Getting repo: \u001b[0m\u001b[1;4;36mhttps://github.com/mifi/SimpleInstaBot\u001b[0m\n"
      ]
     },
     "metadata": {},
     "output_type": "display_data"
    },
    {
     "data": {
      "text/html": [
       "<pre style=\"white-space:pre;overflow-x:auto;line-height:normal;font-family:Menlo,'DejaVu Sans Mono',consolas,'Courier New',monospace\"><span style=\"color: #008080; text-decoration-color: #008080; font-weight: bold\">[+] Successfully retrieved repo: </span><span style=\"color: #008080; text-decoration-color: #008080; font-weight: bold; text-decoration: underline\">https://github.com/mifi/SimpleInstaBot</span>\n",
       "</pre>\n"
      ],
      "text/plain": [
       "\u001b[1;36m[\u001b[0m\u001b[1;36m+\u001b[0m\u001b[1;36m]\u001b[0m\u001b[1;36m Successfully retrieved repo: \u001b[0m\u001b[1;4;36mhttps://github.com/mifi/SimpleInstaBot\u001b[0m\n"
      ]
     },
     "metadata": {},
     "output_type": "display_data"
    },
    {
     "data": {
      "text/html": [
       "<pre style=\"white-space:pre;overflow-x:auto;line-height:normal;font-family:Menlo,'DejaVu Sans Mono',consolas,'Courier New',monospace\"><span style=\"color: #008080; text-decoration-color: #008080; font-weight: bold\">[+] Found package.json at </span><span style=\"color: #008080; text-decoration-color: #008080; font-weight: bold; text-decoration: underline\">https://github.com/mifi/SimpleInstaBot</span>\n",
       "</pre>\n"
      ],
      "text/plain": [
       "\u001b[1;36m[\u001b[0m\u001b[1;36m+\u001b[0m\u001b[1;36m]\u001b[0m\u001b[1;36m Found package.json at \u001b[0m\u001b[1;4;36mhttps://github.com/mifi/SimpleInstaBot\u001b[0m\n"
      ]
     },
     "metadata": {},
     "output_type": "display_data"
    },
    {
     "data": {
      "text/html": [
       "<pre style=\"white-space:pre;overflow-x:auto;line-height:normal;font-family:Menlo,'DejaVu Sans Mono',consolas,'Courier New',monospace\"><span style=\"color: #008080; text-decoration-color: #008080; font-weight: bold\">[+] Getting </span><span style=\"color: #008080; text-decoration-color: #008080; font-weight: bold; text-decoration: underline\">https://github.com/mifi/SimpleInstaBot/blob/master/package.json</span>\n",
       "</pre>\n"
      ],
      "text/plain": [
       "\u001b[1;36m[\u001b[0m\u001b[1;36m+\u001b[0m\u001b[1;36m]\u001b[0m\u001b[1;36m Getting \u001b[0m\u001b[1;4;36mhttps://github.com/mifi/SimpleInstaBot/blob/master/package.json\u001b[0m\n"
      ]
     },
     "metadata": {},
     "output_type": "display_data"
    },
    {
     "data": {
      "text/html": [
       "<pre style=\"white-space:pre;overflow-x:auto;line-height:normal;font-family:Menlo,'DejaVu Sans Mono',consolas,'Courier New',monospace\"><span style=\"color: #008080; text-decoration-color: #008080; font-weight: bold\">[+] Getting repo: </span><span style=\"color: #008080; text-decoration-color: #008080; font-weight: bold; text-decoration: underline\">https://github.com/Automattic/simplenote-electron</span>\n",
       "</pre>\n"
      ],
      "text/plain": [
       "\u001b[1;36m[\u001b[0m\u001b[1;36m+\u001b[0m\u001b[1;36m]\u001b[0m\u001b[1;36m Getting repo: \u001b[0m\u001b[1;4;36mhttps://github.com/Automattic/simplenote-electron\u001b[0m\n"
      ]
     },
     "metadata": {},
     "output_type": "display_data"
    },
    {
     "data": {
      "text/html": [
       "<pre style=\"white-space:pre;overflow-x:auto;line-height:normal;font-family:Menlo,'DejaVu Sans Mono',consolas,'Courier New',monospace\"><span style=\"color: #008080; text-decoration-color: #008080; font-weight: bold\">[+] Successfully retrieved repo: </span><span style=\"color: #008080; text-decoration-color: #008080; font-weight: bold; text-decoration: underline\">https://github.com/Automattic/simplenote-electron</span>\n",
       "</pre>\n"
      ],
      "text/plain": [
       "\u001b[1;36m[\u001b[0m\u001b[1;36m+\u001b[0m\u001b[1;36m]\u001b[0m\u001b[1;36m Successfully retrieved repo: \u001b[0m\u001b[1;4;36mhttps://github.com/Automattic/simplenote-electron\u001b[0m\n"
      ]
     },
     "metadata": {},
     "output_type": "display_data"
    },
    {
     "data": {
      "text/html": [
       "<pre style=\"white-space:pre;overflow-x:auto;line-height:normal;font-family:Menlo,'DejaVu Sans Mono',consolas,'Courier New',monospace\"><span style=\"color: #008080; text-decoration-color: #008080; font-weight: bold\">[+] Found package.json at </span><span style=\"color: #008080; text-decoration-color: #008080; font-weight: bold; text-decoration: underline\">https://github.com/Automattic/simplenote-electron</span>\n",
       "</pre>\n"
      ],
      "text/plain": [
       "\u001b[1;36m[\u001b[0m\u001b[1;36m+\u001b[0m\u001b[1;36m]\u001b[0m\u001b[1;36m Found package.json at \u001b[0m\u001b[1;4;36mhttps://github.com/Automattic/simplenote-electron\u001b[0m\n"
      ]
     },
     "metadata": {},
     "output_type": "display_data"
    },
    {
     "data": {
      "text/html": [
       "<pre style=\"white-space:pre;overflow-x:auto;line-height:normal;font-family:Menlo,'DejaVu Sans Mono',consolas,'Courier New',monospace\"><span style=\"color: #008080; text-decoration-color: #008080; font-weight: bold\">[+] Getting </span><span style=\"color: #008080; text-decoration-color: #008080; font-weight: bold; text-decoration: underline\">https://github.com/Automattic/simplenote-electron/blob/trunk/package.json</span>\n",
       "</pre>\n"
      ],
      "text/plain": [
       "\u001b[1;36m[\u001b[0m\u001b[1;36m+\u001b[0m\u001b[1;36m]\u001b[0m\u001b[1;36m Getting \u001b[0m\u001b[1;4;36mhttps://github.com/Automattic/simplenote-electron/blob/trunk/package.json\u001b[0m\n"
      ]
     },
     "metadata": {},
     "output_type": "display_data"
    },
    {
     "data": {
      "text/html": [
       "<pre style=\"white-space:pre;overflow-x:auto;line-height:normal;font-family:Menlo,'DejaVu Sans Mono',consolas,'Courier New',monospace\"><span style=\"color: #008080; text-decoration-color: #008080; font-weight: bold\">[+] Getting repo: </span><span style=\"color: #008080; text-decoration-color: #008080; font-weight: bold; text-decoration: underline\">https://github.com/webcatalog/neutron</span>\n",
       "</pre>\n"
      ],
      "text/plain": [
       "\u001b[1;36m[\u001b[0m\u001b[1;36m+\u001b[0m\u001b[1;36m]\u001b[0m\u001b[1;36m Getting repo: \u001b[0m\u001b[1;4;36mhttps://github.com/webcatalog/neutron\u001b[0m\n"
      ]
     },
     "metadata": {},
     "output_type": "display_data"
    },
    {
     "data": {
      "text/html": [
       "<pre style=\"white-space:pre;overflow-x:auto;line-height:normal;font-family:Menlo,'DejaVu Sans Mono',consolas,'Courier New',monospace\"><span style=\"color: #008080; text-decoration-color: #008080; font-weight: bold\">[+] Successfully retrieved repo: </span><span style=\"color: #008080; text-decoration-color: #008080; font-weight: bold; text-decoration: underline\">https://github.com/webcatalog/neutron</span>\n",
       "</pre>\n"
      ],
      "text/plain": [
       "\u001b[1;36m[\u001b[0m\u001b[1;36m+\u001b[0m\u001b[1;36m]\u001b[0m\u001b[1;36m Successfully retrieved repo: \u001b[0m\u001b[1;4;36mhttps://github.com/webcatalog/neutron\u001b[0m\n"
      ]
     },
     "metadata": {},
     "output_type": "display_data"
    },
    {
     "data": {
      "text/html": [
       "<pre style=\"white-space:pre;overflow-x:auto;line-height:normal;font-family:Menlo,'DejaVu Sans Mono',consolas,'Courier New',monospace\"><span style=\"color: #008080; text-decoration-color: #008080; font-weight: bold\">[+] Found package.json at </span><span style=\"color: #008080; text-decoration-color: #008080; font-weight: bold; text-decoration: underline\">https://github.com/webcatalog/neutron</span>\n",
       "</pre>\n"
      ],
      "text/plain": [
       "\u001b[1;36m[\u001b[0m\u001b[1;36m+\u001b[0m\u001b[1;36m]\u001b[0m\u001b[1;36m Found package.json at \u001b[0m\u001b[1;4;36mhttps://github.com/webcatalog/neutron\u001b[0m\n"
      ]
     },
     "metadata": {},
     "output_type": "display_data"
    },
    {
     "data": {
      "text/html": [
       "<pre style=\"white-space:pre;overflow-x:auto;line-height:normal;font-family:Menlo,'DejaVu Sans Mono',consolas,'Courier New',monospace\"><span style=\"color: #008080; text-decoration-color: #008080; font-weight: bold\">[+] Getting </span><span style=\"color: #008080; text-decoration-color: #008080; font-weight: bold; text-decoration: underline\">https://github.com/webcatalog/neutron/blob/master/package.json</span>\n",
       "</pre>\n"
      ],
      "text/plain": [
       "\u001b[1;36m[\u001b[0m\u001b[1;36m+\u001b[0m\u001b[1;36m]\u001b[0m\u001b[1;36m Getting \u001b[0m\u001b[1;4;36mhttps://github.com/webcatalog/neutron/blob/master/package.json\u001b[0m\n"
      ]
     },
     "metadata": {},
     "output_type": "display_data"
    },
    {
     "data": {
      "text/html": [
       "<pre style=\"white-space:pre;overflow-x:auto;line-height:normal;font-family:Menlo,'DejaVu Sans Mono',consolas,'Courier New',monospace\"><span style=\"color: #008080; text-decoration-color: #008080; font-weight: bold\">[+] Getting repo: </span><span style=\"color: #008080; text-decoration-color: #008080; font-weight: bold; text-decoration: underline\">https://github.com/snaildos/SnailFM-Application</span>\n",
       "</pre>\n"
      ],
      "text/plain": [
       "\u001b[1;36m[\u001b[0m\u001b[1;36m+\u001b[0m\u001b[1;36m]\u001b[0m\u001b[1;36m Getting repo: \u001b[0m\u001b[1;4;36mhttps://github.com/snaildos/SnailFM-Application\u001b[0m\n"
      ]
     },
     "metadata": {},
     "output_type": "display_data"
    },
    {
     "data": {
      "text/html": [
       "<pre style=\"white-space:pre;overflow-x:auto;line-height:normal;font-family:Menlo,'DejaVu Sans Mono',consolas,'Courier New',monospace\"><span style=\"color: #008080; text-decoration-color: #008080; font-weight: bold\">[+] Successfully retrieved repo: </span><span style=\"color: #008080; text-decoration-color: #008080; font-weight: bold; text-decoration: underline\">https://github.com/snaildos/SnailFM-Application</span>\n",
       "</pre>\n"
      ],
      "text/plain": [
       "\u001b[1;36m[\u001b[0m\u001b[1;36m+\u001b[0m\u001b[1;36m]\u001b[0m\u001b[1;36m Successfully retrieved repo: \u001b[0m\u001b[1;4;36mhttps://github.com/snaildos/SnailFM-Application\u001b[0m\n"
      ]
     },
     "metadata": {},
     "output_type": "display_data"
    },
    {
     "data": {
      "text/html": [
       "<pre style=\"white-space:pre;overflow-x:auto;line-height:normal;font-family:Menlo,'DejaVu Sans Mono',consolas,'Courier New',monospace\"><span style=\"color: #008080; text-decoration-color: #008080; font-weight: bold\">[+] Found package.json at </span><span style=\"color: #008080; text-decoration-color: #008080; font-weight: bold; text-decoration: underline\">https://github.com/snaildos/SnailFM-Application</span>\n",
       "</pre>\n"
      ],
      "text/plain": [
       "\u001b[1;36m[\u001b[0m\u001b[1;36m+\u001b[0m\u001b[1;36m]\u001b[0m\u001b[1;36m Found package.json at \u001b[0m\u001b[1;4;36mhttps://github.com/snaildos/SnailFM-Application\u001b[0m\n"
      ]
     },
     "metadata": {},
     "output_type": "display_data"
    },
    {
     "data": {
      "text/html": [
       "<pre style=\"white-space:pre;overflow-x:auto;line-height:normal;font-family:Menlo,'DejaVu Sans Mono',consolas,'Courier New',monospace\"><span style=\"color: #008080; text-decoration-color: #008080; font-weight: bold\">[+] Getting </span><span style=\"color: #008080; text-decoration-color: #008080; font-weight: bold; text-decoration: underline\">https://github.com/snaildos/SnailFM-Application/blob/main/package.json</span>\n",
       "</pre>\n"
      ],
      "text/plain": [
       "\u001b[1;36m[\u001b[0m\u001b[1;36m+\u001b[0m\u001b[1;36m]\u001b[0m\u001b[1;36m Getting \u001b[0m\u001b[1;4;36mhttps://github.com/snaildos/SnailFM-Application/blob/main/package.json\u001b[0m\n"
      ]
     },
     "metadata": {},
     "output_type": "display_data"
    },
    {
     "data": {
      "text/html": [
       "<pre style=\"white-space:pre;overflow-x:auto;line-height:normal;font-family:Menlo,'DejaVu Sans Mono',consolas,'Courier New',monospace\"><span style=\"color: #008080; text-decoration-color: #008080; font-weight: bold\">[+] Getting repo: </span><span style=\"color: #008080; text-decoration-color: #008080; font-weight: bold; text-decoration: underline\">https://github.com/ZeroX-DG/SnippetStore</span>\n",
       "</pre>\n"
      ],
      "text/plain": [
       "\u001b[1;36m[\u001b[0m\u001b[1;36m+\u001b[0m\u001b[1;36m]\u001b[0m\u001b[1;36m Getting repo: \u001b[0m\u001b[1;4;36mhttps://github.com/ZeroX-DG/SnippetStore\u001b[0m\n"
      ]
     },
     "metadata": {},
     "output_type": "display_data"
    },
    {
     "data": {
      "text/html": [
       "<pre style=\"white-space:pre;overflow-x:auto;line-height:normal;font-family:Menlo,'DejaVu Sans Mono',consolas,'Courier New',monospace\"><span style=\"color: #008080; text-decoration-color: #008080; font-weight: bold\">[+] Successfully retrieved repo: </span><span style=\"color: #008080; text-decoration-color: #008080; font-weight: bold; text-decoration: underline\">https://github.com/ZeroX-DG/SnippetStore</span>\n",
       "</pre>\n"
      ],
      "text/plain": [
       "\u001b[1;36m[\u001b[0m\u001b[1;36m+\u001b[0m\u001b[1;36m]\u001b[0m\u001b[1;36m Successfully retrieved repo: \u001b[0m\u001b[1;4;36mhttps://github.com/ZeroX-DG/SnippetStore\u001b[0m\n"
      ]
     },
     "metadata": {},
     "output_type": "display_data"
    },
    {
     "data": {
      "text/html": [
       "<pre style=\"white-space:pre;overflow-x:auto;line-height:normal;font-family:Menlo,'DejaVu Sans Mono',consolas,'Courier New',monospace\"><span style=\"color: #008080; text-decoration-color: #008080; font-weight: bold\">[+] Found package.json at </span><span style=\"color: #008080; text-decoration-color: #008080; font-weight: bold; text-decoration: underline\">https://github.com/ZeroX-DG/SnippetStore</span>\n",
       "</pre>\n"
      ],
      "text/plain": [
       "\u001b[1;36m[\u001b[0m\u001b[1;36m+\u001b[0m\u001b[1;36m]\u001b[0m\u001b[1;36m Found package.json at \u001b[0m\u001b[1;4;36mhttps://github.com/ZeroX-DG/SnippetStore\u001b[0m\n"
      ]
     },
     "metadata": {},
     "output_type": "display_data"
    },
    {
     "data": {
      "text/html": [
       "<pre style=\"white-space:pre;overflow-x:auto;line-height:normal;font-family:Menlo,'DejaVu Sans Mono',consolas,'Courier New',monospace\"><span style=\"color: #008080; text-decoration-color: #008080; font-weight: bold\">[+] Getting </span><span style=\"color: #008080; text-decoration-color: #008080; font-weight: bold; text-decoration: underline\">https://github.com/ZeroX-DG/SnippetStore/blob/master/package.json</span>\n",
       "</pre>\n"
      ],
      "text/plain": [
       "\u001b[1;36m[\u001b[0m\u001b[1;36m+\u001b[0m\u001b[1;36m]\u001b[0m\u001b[1;36m Getting \u001b[0m\u001b[1;4;36mhttps://github.com/ZeroX-DG/SnippetStore/blob/master/package.json\u001b[0m\n"
      ]
     },
     "metadata": {},
     "output_type": "display_data"
    },
    {
     "data": {
      "text/html": [
       "<pre style=\"white-space:pre;overflow-x:auto;line-height:normal;font-family:Menlo,'DejaVu Sans Mono',consolas,'Courier New',monospace\"><span style=\"color: #008080; text-decoration-color: #008080; font-weight: bold\">[+] Getting repo: </span><span style=\"color: #008080; text-decoration-color: #008080; font-weight: bold; text-decoration: underline\">https://github.com/JackHumphries9/Socially</span>\n",
       "</pre>\n"
      ],
      "text/plain": [
       "\u001b[1;36m[\u001b[0m\u001b[1;36m+\u001b[0m\u001b[1;36m]\u001b[0m\u001b[1;36m Getting repo: \u001b[0m\u001b[1;4;36mhttps://github.com/JackHumphries9/Socially\u001b[0m\n"
      ]
     },
     "metadata": {},
     "output_type": "display_data"
    },
    {
     "data": {
      "text/html": [
       "<pre style=\"white-space:pre;overflow-x:auto;line-height:normal;font-family:Menlo,'DejaVu Sans Mono',consolas,'Courier New',monospace\"><span style=\"color: #008080; text-decoration-color: #008080; font-weight: bold\">[+] Successfully retrieved repo: </span><span style=\"color: #008080; text-decoration-color: #008080; font-weight: bold; text-decoration: underline\">https://github.com/JackHumphries9/Socially</span>\n",
       "</pre>\n"
      ],
      "text/plain": [
       "\u001b[1;36m[\u001b[0m\u001b[1;36m+\u001b[0m\u001b[1;36m]\u001b[0m\u001b[1;36m Successfully retrieved repo: \u001b[0m\u001b[1;4;36mhttps://github.com/JackHumphries9/Socially\u001b[0m\n"
      ]
     },
     "metadata": {},
     "output_type": "display_data"
    },
    {
     "data": {
      "text/html": [
       "<pre style=\"white-space:pre;overflow-x:auto;line-height:normal;font-family:Menlo,'DejaVu Sans Mono',consolas,'Courier New',monospace\"><span style=\"color: #008080; text-decoration-color: #008080; font-weight: bold\">[+] Found package.json at </span><span style=\"color: #008080; text-decoration-color: #008080; font-weight: bold; text-decoration: underline\">https://github.com/JackHumphries9/Socially</span>\n",
       "</pre>\n"
      ],
      "text/plain": [
       "\u001b[1;36m[\u001b[0m\u001b[1;36m+\u001b[0m\u001b[1;36m]\u001b[0m\u001b[1;36m Found package.json at \u001b[0m\u001b[1;4;36mhttps://github.com/JackHumphries9/Socially\u001b[0m\n"
      ]
     },
     "metadata": {},
     "output_type": "display_data"
    },
    {
     "data": {
      "text/html": [
       "<pre style=\"white-space:pre;overflow-x:auto;line-height:normal;font-family:Menlo,'DejaVu Sans Mono',consolas,'Courier New',monospace\"><span style=\"color: #008080; text-decoration-color: #008080; font-weight: bold\">[+] Getting </span><span style=\"color: #008080; text-decoration-color: #008080; font-weight: bold; text-decoration: underline\">https://github.com/JackHumphries9/Socially/blob/master/package.json</span>\n",
       "</pre>\n"
      ],
      "text/plain": [
       "\u001b[1;36m[\u001b[0m\u001b[1;36m+\u001b[0m\u001b[1;36m]\u001b[0m\u001b[1;36m Getting \u001b[0m\u001b[1;4;36mhttps://github.com/JackHumphries9/Socially/blob/master/package.json\u001b[0m\n"
      ]
     },
     "metadata": {},
     "output_type": "display_data"
    },
    {
     "data": {
      "text/html": [
       "<pre style=\"white-space:pre;overflow-x:auto;line-height:normal;font-family:Menlo,'DejaVu Sans Mono',consolas,'Courier New',monospace\"><span style=\"color: #008080; text-decoration-color: #008080; font-weight: bold\">[+] Getting repo: </span><span style=\"color: #008080; text-decoration-color: #008080; font-weight: bold; text-decoration: underline\">https://github.com/Soundnode/soundnode-app</span>\n",
       "</pre>\n"
      ],
      "text/plain": [
       "\u001b[1;36m[\u001b[0m\u001b[1;36m+\u001b[0m\u001b[1;36m]\u001b[0m\u001b[1;36m Getting repo: \u001b[0m\u001b[1;4;36mhttps://github.com/Soundnode/soundnode-app\u001b[0m\n"
      ]
     },
     "metadata": {},
     "output_type": "display_data"
    },
    {
     "data": {
      "text/html": [
       "<pre style=\"white-space:pre;overflow-x:auto;line-height:normal;font-family:Menlo,'DejaVu Sans Mono',consolas,'Courier New',monospace\"><span style=\"color: #008080; text-decoration-color: #008080; font-weight: bold\">[+] Successfully retrieved repo: </span><span style=\"color: #008080; text-decoration-color: #008080; font-weight: bold; text-decoration: underline\">https://github.com/Soundnode/soundnode-app</span>\n",
       "</pre>\n"
      ],
      "text/plain": [
       "\u001b[1;36m[\u001b[0m\u001b[1;36m+\u001b[0m\u001b[1;36m]\u001b[0m\u001b[1;36m Successfully retrieved repo: \u001b[0m\u001b[1;4;36mhttps://github.com/Soundnode/soundnode-app\u001b[0m\n"
      ]
     },
     "metadata": {},
     "output_type": "display_data"
    },
    {
     "data": {
      "text/html": [
       "<pre style=\"white-space:pre;overflow-x:auto;line-height:normal;font-family:Menlo,'DejaVu Sans Mono',consolas,'Courier New',monospace\"><span style=\"color: #008080; text-decoration-color: #008080; font-weight: bold\">[+] Found package.json at </span><span style=\"color: #008080; text-decoration-color: #008080; font-weight: bold; text-decoration: underline\">https://github.com/Soundnode/soundnode-app</span>\n",
       "</pre>\n"
      ],
      "text/plain": [
       "\u001b[1;36m[\u001b[0m\u001b[1;36m+\u001b[0m\u001b[1;36m]\u001b[0m\u001b[1;36m Found package.json at \u001b[0m\u001b[1;4;36mhttps://github.com/Soundnode/soundnode-app\u001b[0m\n"
      ]
     },
     "metadata": {},
     "output_type": "display_data"
    },
    {
     "data": {
      "text/html": [
       "<pre style=\"white-space:pre;overflow-x:auto;line-height:normal;font-family:Menlo,'DejaVu Sans Mono',consolas,'Courier New',monospace\"><span style=\"color: #008080; text-decoration-color: #008080; font-weight: bold\">[+] Getting </span><span style=\"color: #008080; text-decoration-color: #008080; font-weight: bold; text-decoration: underline\">https://github.com/Soundnode/soundnode-app/blob/master/package.json</span>\n",
       "</pre>\n"
      ],
      "text/plain": [
       "\u001b[1;36m[\u001b[0m\u001b[1;36m+\u001b[0m\u001b[1;36m]\u001b[0m\u001b[1;36m Getting \u001b[0m\u001b[1;4;36mhttps://github.com/Soundnode/soundnode-app/blob/master/package.json\u001b[0m\n"
      ]
     },
     "metadata": {},
     "output_type": "display_data"
    },
    {
     "data": {
      "text/html": [
       "<pre style=\"white-space:pre;overflow-x:auto;line-height:normal;font-family:Menlo,'DejaVu Sans Mono',consolas,'Courier New',monospace\"><span style=\"color: #008080; text-decoration-color: #008080; font-weight: bold\">[+] Getting repo: </span><span style=\"color: #008080; text-decoration-color: #008080; font-weight: bold; text-decoration: underline\">https://github.com/KYDronePilot/SpaceEye</span>\n",
       "</pre>\n"
      ],
      "text/plain": [
       "\u001b[1;36m[\u001b[0m\u001b[1;36m+\u001b[0m\u001b[1;36m]\u001b[0m\u001b[1;36m Getting repo: \u001b[0m\u001b[1;4;36mhttps://github.com/KYDronePilot/SpaceEye\u001b[0m\n"
      ]
     },
     "metadata": {},
     "output_type": "display_data"
    },
    {
     "data": {
      "text/html": [
       "<pre style=\"white-space:pre;overflow-x:auto;line-height:normal;font-family:Menlo,'DejaVu Sans Mono',consolas,'Courier New',monospace\"><span style=\"color: #008080; text-decoration-color: #008080; font-weight: bold\">[+] Successfully retrieved repo: </span><span style=\"color: #008080; text-decoration-color: #008080; font-weight: bold; text-decoration: underline\">https://github.com/KYDronePilot/SpaceEye</span>\n",
       "</pre>\n"
      ],
      "text/plain": [
       "\u001b[1;36m[\u001b[0m\u001b[1;36m+\u001b[0m\u001b[1;36m]\u001b[0m\u001b[1;36m Successfully retrieved repo: \u001b[0m\u001b[1;4;36mhttps://github.com/KYDronePilot/SpaceEye\u001b[0m\n"
      ]
     },
     "metadata": {},
     "output_type": "display_data"
    },
    {
     "data": {
      "text/html": [
       "<pre style=\"white-space:pre;overflow-x:auto;line-height:normal;font-family:Menlo,'DejaVu Sans Mono',consolas,'Courier New',monospace\"><span style=\"color: #008080; text-decoration-color: #008080; font-weight: bold\">[+] Found package.json at </span><span style=\"color: #008080; text-decoration-color: #008080; font-weight: bold; text-decoration: underline\">https://github.com/KYDronePilot/SpaceEye</span>\n",
       "</pre>\n"
      ],
      "text/plain": [
       "\u001b[1;36m[\u001b[0m\u001b[1;36m+\u001b[0m\u001b[1;36m]\u001b[0m\u001b[1;36m Found package.json at \u001b[0m\u001b[1;4;36mhttps://github.com/KYDronePilot/SpaceEye\u001b[0m\n"
      ]
     },
     "metadata": {},
     "output_type": "display_data"
    },
    {
     "data": {
      "text/html": [
       "<pre style=\"white-space:pre;overflow-x:auto;line-height:normal;font-family:Menlo,'DejaVu Sans Mono',consolas,'Courier New',monospace\"><span style=\"color: #008080; text-decoration-color: #008080; font-weight: bold\">[+] Getting </span><span style=\"color: #008080; text-decoration-color: #008080; font-weight: bold; text-decoration: underline\">https://github.com/KYDronePilot/SpaceEye/blob/master/package.json</span>\n",
       "</pre>\n"
      ],
      "text/plain": [
       "\u001b[1;36m[\u001b[0m\u001b[1;36m+\u001b[0m\u001b[1;36m]\u001b[0m\u001b[1;36m Getting \u001b[0m\u001b[1;4;36mhttps://github.com/KYDronePilot/SpaceEye/blob/master/package.json\u001b[0m\n"
      ]
     },
     "metadata": {},
     "output_type": "display_data"
    },
    {
     "data": {
      "text/html": [
       "<pre style=\"white-space:pre;overflow-x:auto;line-height:normal;font-family:Menlo,'DejaVu Sans Mono',consolas,'Courier New',monospace\"><span style=\"color: #008080; text-decoration-color: #008080; font-weight: bold\">[+] Getting repo: </span><span style=\"color: #008080; text-decoration-color: #008080; font-weight: bold; text-decoration: underline\">https://github.com/SpinShare/client</span>\n",
       "</pre>\n"
      ],
      "text/plain": [
       "\u001b[1;36m[\u001b[0m\u001b[1;36m+\u001b[0m\u001b[1;36m]\u001b[0m\u001b[1;36m Getting repo: \u001b[0m\u001b[1;4;36mhttps://github.com/SpinShare/client\u001b[0m\n"
      ]
     },
     "metadata": {},
     "output_type": "display_data"
    },
    {
     "data": {
      "text/html": [
       "<pre style=\"white-space:pre;overflow-x:auto;line-height:normal;font-family:Menlo,'DejaVu Sans Mono',consolas,'Courier New',monospace\"><span style=\"color: #008080; text-decoration-color: #008080; font-weight: bold\">[+] Successfully retrieved repo: </span><span style=\"color: #008080; text-decoration-color: #008080; font-weight: bold; text-decoration: underline\">https://github.com/SpinShare/client</span>\n",
       "</pre>\n"
      ],
      "text/plain": [
       "\u001b[1;36m[\u001b[0m\u001b[1;36m+\u001b[0m\u001b[1;36m]\u001b[0m\u001b[1;36m Successfully retrieved repo: \u001b[0m\u001b[1;4;36mhttps://github.com/SpinShare/client\u001b[0m\n"
      ]
     },
     "metadata": {},
     "output_type": "display_data"
    },
    {
     "data": {
      "text/html": [
       "<pre style=\"white-space:pre;overflow-x:auto;line-height:normal;font-family:Menlo,'DejaVu Sans Mono',consolas,'Courier New',monospace\"><span style=\"color: #008080; text-decoration-color: #008080; font-weight: bold\">[+] Found package.json at </span><span style=\"color: #008080; text-decoration-color: #008080; font-weight: bold; text-decoration: underline\">https://github.com/SpinShare/client</span>\n",
       "</pre>\n"
      ],
      "text/plain": [
       "\u001b[1;36m[\u001b[0m\u001b[1;36m+\u001b[0m\u001b[1;36m]\u001b[0m\u001b[1;36m Found package.json at \u001b[0m\u001b[1;4;36mhttps://github.com/SpinShare/client\u001b[0m\n"
      ]
     },
     "metadata": {},
     "output_type": "display_data"
    },
    {
     "data": {
      "text/html": [
       "<pre style=\"white-space:pre;overflow-x:auto;line-height:normal;font-family:Menlo,'DejaVu Sans Mono',consolas,'Courier New',monospace\"><span style=\"color: #008080; text-decoration-color: #008080; font-weight: bold\">[+] Getting </span><span style=\"color: #008080; text-decoration-color: #008080; font-weight: bold; text-decoration: underline\">https://github.com/SpinShare/client/blob/master/package.json</span>\n",
       "</pre>\n"
      ],
      "text/plain": [
       "\u001b[1;36m[\u001b[0m\u001b[1;36m+\u001b[0m\u001b[1;36m]\u001b[0m\u001b[1;36m Getting \u001b[0m\u001b[1;4;36mhttps://github.com/SpinShare/client/blob/master/package.json\u001b[0m\n"
      ]
     },
     "metadata": {},
     "output_type": "display_data"
    },
    {
     "data": {
      "text/html": [
       "<pre style=\"white-space:pre;overflow-x:auto;line-height:normal;font-family:Menlo,'DejaVu Sans Mono',consolas,'Courier New',monospace\"><span style=\"color: #008080; text-decoration-color: #008080; font-weight: bold\">[+] Getting repo: </span><span style=\"color: #008080; text-decoration-color: #008080; font-weight: bold; text-decoration: underline\">https://github.com/itsjustaplant/spofly</span>\n",
       "</pre>\n"
      ],
      "text/plain": [
       "\u001b[1;36m[\u001b[0m\u001b[1;36m+\u001b[0m\u001b[1;36m]\u001b[0m\u001b[1;36m Getting repo: \u001b[0m\u001b[1;4;36mhttps://github.com/itsjustaplant/spofly\u001b[0m\n"
      ]
     },
     "metadata": {},
     "output_type": "display_data"
    },
    {
     "data": {
      "text/html": [
       "<pre style=\"white-space:pre;overflow-x:auto;line-height:normal;font-family:Menlo,'DejaVu Sans Mono',consolas,'Courier New',monospace\"><span style=\"color: #008080; text-decoration-color: #008080; font-weight: bold\">[+] Successfully retrieved repo: </span><span style=\"color: #008080; text-decoration-color: #008080; font-weight: bold; text-decoration: underline\">https://github.com/itsjustaplant/spofly</span>\n",
       "</pre>\n"
      ],
      "text/plain": [
       "\u001b[1;36m[\u001b[0m\u001b[1;36m+\u001b[0m\u001b[1;36m]\u001b[0m\u001b[1;36m Successfully retrieved repo: \u001b[0m\u001b[1;4;36mhttps://github.com/itsjustaplant/spofly\u001b[0m\n"
      ]
     },
     "metadata": {},
     "output_type": "display_data"
    },
    {
     "data": {
      "text/html": [
       "<pre style=\"white-space:pre;overflow-x:auto;line-height:normal;font-family:Menlo,'DejaVu Sans Mono',consolas,'Courier New',monospace\"><span style=\"color: #ff5f00; text-decoration-color: #ff5f00; font-weight: bold\">[!] Package.json not found at root of </span><span style=\"color: #ff5f00; text-decoration-color: #ff5f00; font-weight: bold; text-decoration: underline\">https://github.com/itsjustaplant/spofly;</span><span style=\"color: #ff5f00; text-decoration-color: #ff5f00; font-weight: bold\"> trying directories</span>\n",
       "</pre>\n"
      ],
      "text/plain": [
       "\u001b[1;38;5;202m[\u001b[0m\u001b[1;38;5;202m!\u001b[0m\u001b[1;38;5;202m]\u001b[0m\u001b[1;38;5;202m Package.json not found at root of \u001b[0m\u001b[1;4;38;5;202mhttps://github.com/itsjustaplant/spofly;\u001b[0m\u001b[1;38;5;202m trying directories\u001b[0m\n"
      ]
     },
     "metadata": {},
     "output_type": "display_data"
    },
    {
     "data": {
      "text/html": [
       "<pre style=\"white-space:pre;overflow-x:auto;line-height:normal;font-family:Menlo,'DejaVu Sans Mono',consolas,'Courier New',monospace\"><span style=\"color: #800000; text-decoration-color: #800000; font-weight: bold\">[💀] Could not find package.json in first-level-subdirs</span>\n",
       "</pre>\n"
      ],
      "text/plain": [
       "\u001b[1;31m[\u001b[0m\u001b[1;31m💀\u001b[0m\u001b[1;31m]\u001b[0m\u001b[1;31m Could not find package.json in first-level-subdirs\u001b[0m\n"
      ]
     },
     "metadata": {},
     "output_type": "display_data"
    },
    {
     "data": {
      "text/html": [
       "<pre style=\"white-space:pre;overflow-x:auto;line-height:normal;font-family:Menlo,'DejaVu Sans Mono',consolas,'Courier New',monospace\"><span style=\"color: #008080; text-decoration-color: #008080; font-weight: bold\">[+] Getting repo: </span><span style=\"color: #008080; text-decoration-color: #008080; font-weight: bold; text-decoration: underline\">https://github.com/sqlectron/sqlectron-gui</span>\n",
       "</pre>\n"
      ],
      "text/plain": [
       "\u001b[1;36m[\u001b[0m\u001b[1;36m+\u001b[0m\u001b[1;36m]\u001b[0m\u001b[1;36m Getting repo: \u001b[0m\u001b[1;4;36mhttps://github.com/sqlectron/sqlectron-gui\u001b[0m\n"
      ]
     },
     "metadata": {},
     "output_type": "display_data"
    },
    {
     "data": {
      "text/html": [
       "<pre style=\"white-space:pre;overflow-x:auto;line-height:normal;font-family:Menlo,'DejaVu Sans Mono',consolas,'Courier New',monospace\"><span style=\"color: #008080; text-decoration-color: #008080; font-weight: bold\">[+] Successfully retrieved repo: </span><span style=\"color: #008080; text-decoration-color: #008080; font-weight: bold; text-decoration: underline\">https://github.com/sqlectron/sqlectron-gui</span>\n",
       "</pre>\n"
      ],
      "text/plain": [
       "\u001b[1;36m[\u001b[0m\u001b[1;36m+\u001b[0m\u001b[1;36m]\u001b[0m\u001b[1;36m Successfully retrieved repo: \u001b[0m\u001b[1;4;36mhttps://github.com/sqlectron/sqlectron-gui\u001b[0m\n"
      ]
     },
     "metadata": {},
     "output_type": "display_data"
    },
    {
     "data": {
      "text/html": [
       "<pre style=\"white-space:pre;overflow-x:auto;line-height:normal;font-family:Menlo,'DejaVu Sans Mono',consolas,'Courier New',monospace\"><span style=\"color: #008080; text-decoration-color: #008080; font-weight: bold\">[+] Found package.json at </span><span style=\"color: #008080; text-decoration-color: #008080; font-weight: bold; text-decoration: underline\">https://github.com/sqlectron/sqlectron-gui</span>\n",
       "</pre>\n"
      ],
      "text/plain": [
       "\u001b[1;36m[\u001b[0m\u001b[1;36m+\u001b[0m\u001b[1;36m]\u001b[0m\u001b[1;36m Found package.json at \u001b[0m\u001b[1;4;36mhttps://github.com/sqlectron/sqlectron-gui\u001b[0m\n"
      ]
     },
     "metadata": {},
     "output_type": "display_data"
    },
    {
     "data": {
      "text/html": [
       "<pre style=\"white-space:pre;overflow-x:auto;line-height:normal;font-family:Menlo,'DejaVu Sans Mono',consolas,'Courier New',monospace\"><span style=\"color: #008080; text-decoration-color: #008080; font-weight: bold\">[+] Getting </span><span style=\"color: #008080; text-decoration-color: #008080; font-weight: bold; text-decoration: underline\">https://github.com/sqlectron/sqlectron-gui/blob/main/package.json</span>\n",
       "</pre>\n"
      ],
      "text/plain": [
       "\u001b[1;36m[\u001b[0m\u001b[1;36m+\u001b[0m\u001b[1;36m]\u001b[0m\u001b[1;36m Getting \u001b[0m\u001b[1;4;36mhttps://github.com/sqlectron/sqlectron-gui/blob/main/package.json\u001b[0m\n"
      ]
     },
     "metadata": {},
     "output_type": "display_data"
    },
    {
     "data": {
      "text/html": [
       "<pre style=\"white-space:pre;overflow-x:auto;line-height:normal;font-family:Menlo,'DejaVu Sans Mono',consolas,'Courier New',monospace\"><span style=\"color: #008080; text-decoration-color: #008080; font-weight: bold\">[+] Getting repo: </span><span style=\"color: #008080; text-decoration-color: #008080; font-weight: bold; text-decoration: underline\">https://github.com/synle/sqlui-native</span>\n",
       "</pre>\n"
      ],
      "text/plain": [
       "\u001b[1;36m[\u001b[0m\u001b[1;36m+\u001b[0m\u001b[1;36m]\u001b[0m\u001b[1;36m Getting repo: \u001b[0m\u001b[1;4;36mhttps://github.com/synle/sqlui-native\u001b[0m\n"
      ]
     },
     "metadata": {},
     "output_type": "display_data"
    },
    {
     "data": {
      "text/html": [
       "<pre style=\"white-space:pre;overflow-x:auto;line-height:normal;font-family:Menlo,'DejaVu Sans Mono',consolas,'Courier New',monospace\"><span style=\"color: #008080; text-decoration-color: #008080; font-weight: bold\">[+] Successfully retrieved repo: </span><span style=\"color: #008080; text-decoration-color: #008080; font-weight: bold; text-decoration: underline\">https://github.com/synle/sqlui-native</span>\n",
       "</pre>\n"
      ],
      "text/plain": [
       "\u001b[1;36m[\u001b[0m\u001b[1;36m+\u001b[0m\u001b[1;36m]\u001b[0m\u001b[1;36m Successfully retrieved repo: \u001b[0m\u001b[1;4;36mhttps://github.com/synle/sqlui-native\u001b[0m\n"
      ]
     },
     "metadata": {},
     "output_type": "display_data"
    },
    {
     "data": {
      "text/html": [
       "<pre style=\"white-space:pre;overflow-x:auto;line-height:normal;font-family:Menlo,'DejaVu Sans Mono',consolas,'Courier New',monospace\"><span style=\"color: #008080; text-decoration-color: #008080; font-weight: bold\">[+] Found package.json at </span><span style=\"color: #008080; text-decoration-color: #008080; font-weight: bold; text-decoration: underline\">https://github.com/synle/sqlui-native</span>\n",
       "</pre>\n"
      ],
      "text/plain": [
       "\u001b[1;36m[\u001b[0m\u001b[1;36m+\u001b[0m\u001b[1;36m]\u001b[0m\u001b[1;36m Found package.json at \u001b[0m\u001b[1;4;36mhttps://github.com/synle/sqlui-native\u001b[0m\n"
      ]
     },
     "metadata": {},
     "output_type": "display_data"
    },
    {
     "data": {
      "text/html": [
       "<pre style=\"white-space:pre;overflow-x:auto;line-height:normal;font-family:Menlo,'DejaVu Sans Mono',consolas,'Courier New',monospace\"><span style=\"color: #008080; text-decoration-color: #008080; font-weight: bold\">[+] Getting </span><span style=\"color: #008080; text-decoration-color: #008080; font-weight: bold; text-decoration: underline\">https://github.com/synle/sqlui-native/blob/main/package.json</span>\n",
       "</pre>\n"
      ],
      "text/plain": [
       "\u001b[1;36m[\u001b[0m\u001b[1;36m+\u001b[0m\u001b[1;36m]\u001b[0m\u001b[1;36m Getting \u001b[0m\u001b[1;4;36mhttps://github.com/synle/sqlui-native/blob/main/package.json\u001b[0m\n"
      ]
     },
     "metadata": {},
     "output_type": "display_data"
    },
    {
     "data": {
      "text/html": [
       "<pre style=\"white-space:pre;overflow-x:auto;line-height:normal;font-family:Menlo,'DejaVu Sans Mono',consolas,'Courier New',monospace\"><span style=\"color: #008080; text-decoration-color: #008080; font-weight: bold\">[+] Getting repo: </span><span style=\"color: #008080; text-decoration-color: #008080; font-weight: bold; text-decoration: underline\">https://github.com/enqueuer-land/stacker</span>\n",
       "</pre>\n"
      ],
      "text/plain": [
       "\u001b[1;36m[\u001b[0m\u001b[1;36m+\u001b[0m\u001b[1;36m]\u001b[0m\u001b[1;36m Getting repo: \u001b[0m\u001b[1;4;36mhttps://github.com/enqueuer-land/stacker\u001b[0m\n"
      ]
     },
     "metadata": {},
     "output_type": "display_data"
    },
    {
     "data": {
      "text/html": [
       "<pre style=\"white-space:pre;overflow-x:auto;line-height:normal;font-family:Menlo,'DejaVu Sans Mono',consolas,'Courier New',monospace\"><span style=\"color: #008080; text-decoration-color: #008080; font-weight: bold\">[+] Successfully retrieved repo: </span><span style=\"color: #008080; text-decoration-color: #008080; font-weight: bold; text-decoration: underline\">https://github.com/enqueuer-land/stacker</span>\n",
       "</pre>\n"
      ],
      "text/plain": [
       "\u001b[1;36m[\u001b[0m\u001b[1;36m+\u001b[0m\u001b[1;36m]\u001b[0m\u001b[1;36m Successfully retrieved repo: \u001b[0m\u001b[1;4;36mhttps://github.com/enqueuer-land/stacker\u001b[0m\n"
      ]
     },
     "metadata": {},
     "output_type": "display_data"
    },
    {
     "data": {
      "text/html": [
       "<pre style=\"white-space:pre;overflow-x:auto;line-height:normal;font-family:Menlo,'DejaVu Sans Mono',consolas,'Courier New',monospace\"><span style=\"color: #008080; text-decoration-color: #008080; font-weight: bold\">[+] Found package.json at </span><span style=\"color: #008080; text-decoration-color: #008080; font-weight: bold; text-decoration: underline\">https://github.com/enqueuer-land/stacker</span>\n",
       "</pre>\n"
      ],
      "text/plain": [
       "\u001b[1;36m[\u001b[0m\u001b[1;36m+\u001b[0m\u001b[1;36m]\u001b[0m\u001b[1;36m Found package.json at \u001b[0m\u001b[1;4;36mhttps://github.com/enqueuer-land/stacker\u001b[0m\n"
      ]
     },
     "metadata": {},
     "output_type": "display_data"
    },
    {
     "data": {
      "text/html": [
       "<pre style=\"white-space:pre;overflow-x:auto;line-height:normal;font-family:Menlo,'DejaVu Sans Mono',consolas,'Courier New',monospace\"><span style=\"color: #008080; text-decoration-color: #008080; font-weight: bold\">[+] Getting </span><span style=\"color: #008080; text-decoration-color: #008080; font-weight: bold; text-decoration: underline\">https://github.com/enqueuer-land/stacker/blob/master/package.json</span>\n",
       "</pre>\n"
      ],
      "text/plain": [
       "\u001b[1;36m[\u001b[0m\u001b[1;36m+\u001b[0m\u001b[1;36m]\u001b[0m\u001b[1;36m Getting \u001b[0m\u001b[1;4;36mhttps://github.com/enqueuer-land/stacker/blob/master/package.json\u001b[0m\n"
      ]
     },
     "metadata": {},
     "output_type": "display_data"
    },
    {
     "data": {
      "text/html": [
       "<pre style=\"white-space:pre;overflow-x:auto;line-height:normal;font-family:Menlo,'DejaVu Sans Mono',consolas,'Courier New',monospace\"><span style=\"color: #008080; text-decoration-color: #008080; font-weight: bold\">[+] Getting repo: </span><span style=\"color: #008080; text-decoration-color: #008080; font-weight: bold; text-decoration: underline\">https://github.com/standardnotes/desktop</span>\n",
       "</pre>\n"
      ],
      "text/plain": [
       "\u001b[1;36m[\u001b[0m\u001b[1;36m+\u001b[0m\u001b[1;36m]\u001b[0m\u001b[1;36m Getting repo: \u001b[0m\u001b[1;4;36mhttps://github.com/standardnotes/desktop\u001b[0m\n"
      ]
     },
     "metadata": {},
     "output_type": "display_data"
    },
    {
     "data": {
      "text/html": [
       "<pre style=\"white-space:pre;overflow-x:auto;line-height:normal;font-family:Menlo,'DejaVu Sans Mono',consolas,'Courier New',monospace\"><span style=\"color: #008080; text-decoration-color: #008080; font-weight: bold\">[+] Successfully retrieved repo: </span><span style=\"color: #008080; text-decoration-color: #008080; font-weight: bold; text-decoration: underline\">https://github.com/standardnotes/desktop</span>\n",
       "</pre>\n"
      ],
      "text/plain": [
       "\u001b[1;36m[\u001b[0m\u001b[1;36m+\u001b[0m\u001b[1;36m]\u001b[0m\u001b[1;36m Successfully retrieved repo: \u001b[0m\u001b[1;4;36mhttps://github.com/standardnotes/desktop\u001b[0m\n"
      ]
     },
     "metadata": {},
     "output_type": "display_data"
    },
    {
     "data": {
      "text/html": [
       "<pre style=\"white-space:pre;overflow-x:auto;line-height:normal;font-family:Menlo,'DejaVu Sans Mono',consolas,'Courier New',monospace\"><span style=\"color: #008080; text-decoration-color: #008080; font-weight: bold\">[+] Found package.json at </span><span style=\"color: #008080; text-decoration-color: #008080; font-weight: bold; text-decoration: underline\">https://github.com/standardnotes/desktop</span>\n",
       "</pre>\n"
      ],
      "text/plain": [
       "\u001b[1;36m[\u001b[0m\u001b[1;36m+\u001b[0m\u001b[1;36m]\u001b[0m\u001b[1;36m Found package.json at \u001b[0m\u001b[1;4;36mhttps://github.com/standardnotes/desktop\u001b[0m\n"
      ]
     },
     "metadata": {},
     "output_type": "display_data"
    },
    {
     "data": {
      "text/html": [
       "<pre style=\"white-space:pre;overflow-x:auto;line-height:normal;font-family:Menlo,'DejaVu Sans Mono',consolas,'Courier New',monospace\"><span style=\"color: #008080; text-decoration-color: #008080; font-weight: bold\">[+] Getting </span><span style=\"color: #008080; text-decoration-color: #008080; font-weight: bold; text-decoration: underline\">https://github.com/standardnotes/desktop/blob/develop/package.json</span>\n",
       "</pre>\n"
      ],
      "text/plain": [
       "\u001b[1;36m[\u001b[0m\u001b[1;36m+\u001b[0m\u001b[1;36m]\u001b[0m\u001b[1;36m Getting \u001b[0m\u001b[1;4;36mhttps://github.com/standardnotes/desktop/blob/develop/package.json\u001b[0m\n"
      ]
     },
     "metadata": {},
     "output_type": "display_data"
    },
    {
     "data": {
      "text/html": [
       "<pre style=\"white-space:pre;overflow-x:auto;line-height:normal;font-family:Menlo,'DejaVu Sans Mono',consolas,'Courier New',monospace\"><span style=\"color: #008080; text-decoration-color: #008080; font-weight: bold\">[+] Getting repo: </span><span style=\"color: #008080; text-decoration-color: #008080; font-weight: bold; text-decoration: underline\">https://github.com/Mokkapps/scrum-daily-standup-picker</span>\n",
       "</pre>\n"
      ],
      "text/plain": [
       "\u001b[1;36m[\u001b[0m\u001b[1;36m+\u001b[0m\u001b[1;36m]\u001b[0m\u001b[1;36m Getting repo: \u001b[0m\u001b[1;4;36mhttps://github.com/Mokkapps/scrum-daily-standup-picker\u001b[0m\n"
      ]
     },
     "metadata": {},
     "output_type": "display_data"
    },
    {
     "data": {
      "text/html": [
       "<pre style=\"white-space:pre;overflow-x:auto;line-height:normal;font-family:Menlo,'DejaVu Sans Mono',consolas,'Courier New',monospace\"><span style=\"color: #008080; text-decoration-color: #008080; font-weight: bold\">[+] Successfully retrieved repo: </span><span style=\"color: #008080; text-decoration-color: #008080; font-weight: bold; text-decoration: underline\">https://github.com/Mokkapps/scrum-daily-standup-picker</span>\n",
       "</pre>\n"
      ],
      "text/plain": [
       "\u001b[1;36m[\u001b[0m\u001b[1;36m+\u001b[0m\u001b[1;36m]\u001b[0m\u001b[1;36m Successfully retrieved repo: \u001b[0m\u001b[1;4;36mhttps://github.com/Mokkapps/scrum-daily-standup-picker\u001b[0m\n"
      ]
     },
     "metadata": {},
     "output_type": "display_data"
    },
    {
     "data": {
      "text/html": [
       "<pre style=\"white-space:pre;overflow-x:auto;line-height:normal;font-family:Menlo,'DejaVu Sans Mono',consolas,'Courier New',monospace\"><span style=\"color: #008080; text-decoration-color: #008080; font-weight: bold\">[+] Found package.json at </span><span style=\"color: #008080; text-decoration-color: #008080; font-weight: bold; text-decoration: underline\">https://github.com/Mokkapps/scrum-daily-standup-picker</span>\n",
       "</pre>\n"
      ],
      "text/plain": [
       "\u001b[1;36m[\u001b[0m\u001b[1;36m+\u001b[0m\u001b[1;36m]\u001b[0m\u001b[1;36m Found package.json at \u001b[0m\u001b[1;4;36mhttps://github.com/Mokkapps/scrum-daily-standup-picker\u001b[0m\n"
      ]
     },
     "metadata": {},
     "output_type": "display_data"
    },
    {
     "data": {
      "text/html": [
       "<pre style=\"white-space:pre;overflow-x:auto;line-height:normal;font-family:Menlo,'DejaVu Sans Mono',consolas,'Courier New',monospace\"><span style=\"color: #008080; text-decoration-color: #008080; font-weight: bold\">[+] Getting </span><span style=\"color: #008080; text-decoration-color: #008080; font-weight: bold; text-decoration: underline\">https://github.com/Mokkapps/scrum-daily-standup-picker/blob/master/package.json</span>\n",
       "</pre>\n"
      ],
      "text/plain": [
       "\u001b[1;36m[\u001b[0m\u001b[1;36m+\u001b[0m\u001b[1;36m]\u001b[0m\u001b[1;36m Getting \u001b[0m\u001b[1;4;36mhttps://github.com/Mokkapps/scrum-daily-standup-picker/blob/master/package.json\u001b[0m\n"
      ]
     },
     "metadata": {},
     "output_type": "display_data"
    },
    {
     "data": {
      "text/html": [
       "<pre style=\"white-space:pre;overflow-x:auto;line-height:normal;font-family:Menlo,'DejaVu Sans Mono',consolas,'Courier New',monospace\"><span style=\"color: #008080; text-decoration-color: #008080; font-weight: bold\">[+] Getting repo: </span><span style=\"color: #008080; text-decoration-color: #008080; font-weight: bold; text-decoration: underline\">https://github.com/PatentLobster/stinker</span>\n",
       "</pre>\n"
      ],
      "text/plain": [
       "\u001b[1;36m[\u001b[0m\u001b[1;36m+\u001b[0m\u001b[1;36m]\u001b[0m\u001b[1;36m Getting repo: \u001b[0m\u001b[1;4;36mhttps://github.com/PatentLobster/stinker\u001b[0m\n"
      ]
     },
     "metadata": {},
     "output_type": "display_data"
    },
    {
     "data": {
      "text/html": [
       "<pre style=\"white-space:pre;overflow-x:auto;line-height:normal;font-family:Menlo,'DejaVu Sans Mono',consolas,'Courier New',monospace\"><span style=\"color: #008080; text-decoration-color: #008080; font-weight: bold\">[+] Successfully retrieved repo: </span><span style=\"color: #008080; text-decoration-color: #008080; font-weight: bold; text-decoration: underline\">https://github.com/PatentLobster/stinker</span>\n",
       "</pre>\n"
      ],
      "text/plain": [
       "\u001b[1;36m[\u001b[0m\u001b[1;36m+\u001b[0m\u001b[1;36m]\u001b[0m\u001b[1;36m Successfully retrieved repo: \u001b[0m\u001b[1;4;36mhttps://github.com/PatentLobster/stinker\u001b[0m\n"
      ]
     },
     "metadata": {},
     "output_type": "display_data"
    },
    {
     "data": {
      "text/html": [
       "<pre style=\"white-space:pre;overflow-x:auto;line-height:normal;font-family:Menlo,'DejaVu Sans Mono',consolas,'Courier New',monospace\"><span style=\"color: #008080; text-decoration-color: #008080; font-weight: bold\">[+] Found package.json at </span><span style=\"color: #008080; text-decoration-color: #008080; font-weight: bold; text-decoration: underline\">https://github.com/PatentLobster/stinker</span>\n",
       "</pre>\n"
      ],
      "text/plain": [
       "\u001b[1;36m[\u001b[0m\u001b[1;36m+\u001b[0m\u001b[1;36m]\u001b[0m\u001b[1;36m Found package.json at \u001b[0m\u001b[1;4;36mhttps://github.com/PatentLobster/stinker\u001b[0m\n"
      ]
     },
     "metadata": {},
     "output_type": "display_data"
    },
    {
     "data": {
      "text/html": [
       "<pre style=\"white-space:pre;overflow-x:auto;line-height:normal;font-family:Menlo,'DejaVu Sans Mono',consolas,'Courier New',monospace\"><span style=\"color: #008080; text-decoration-color: #008080; font-weight: bold\">[+] Getting </span><span style=\"color: #008080; text-decoration-color: #008080; font-weight: bold; text-decoration: underline\">https://github.com/PatentLobster/stinker/blob/master/package.json</span>\n",
       "</pre>\n"
      ],
      "text/plain": [
       "\u001b[1;36m[\u001b[0m\u001b[1;36m+\u001b[0m\u001b[1;36m]\u001b[0m\u001b[1;36m Getting \u001b[0m\u001b[1;4;36mhttps://github.com/PatentLobster/stinker/blob/master/package.json\u001b[0m\n"
      ]
     },
     "metadata": {},
     "output_type": "display_data"
    },
    {
     "data": {
      "text/html": [
       "<pre style=\"white-space:pre;overflow-x:auto;line-height:normal;font-family:Menlo,'DejaVu Sans Mono',consolas,'Courier New',monospace\"><span style=\"color: #008080; text-decoration-color: #008080; font-weight: bold\">[+] Getting repo: </span><span style=\"color: #008080; text-decoration-color: #008080; font-weight: bold; text-decoration: underline\">https://github.com/StormSDK/StormApp</span>\n",
       "</pre>\n"
      ],
      "text/plain": [
       "\u001b[1;36m[\u001b[0m\u001b[1;36m+\u001b[0m\u001b[1;36m]\u001b[0m\u001b[1;36m Getting repo: \u001b[0m\u001b[1;4;36mhttps://github.com/StormSDK/StormApp\u001b[0m\n"
      ]
     },
     "metadata": {},
     "output_type": "display_data"
    },
    {
     "data": {
      "text/html": [
       "<pre style=\"white-space:pre;overflow-x:auto;line-height:normal;font-family:Menlo,'DejaVu Sans Mono',consolas,'Courier New',monospace\"><span style=\"color: #008080; text-decoration-color: #008080; font-weight: bold\">[+] Successfully retrieved repo: </span><span style=\"color: #008080; text-decoration-color: #008080; font-weight: bold; text-decoration: underline\">https://github.com/StormSDK/StormApp</span>\n",
       "</pre>\n"
      ],
      "text/plain": [
       "\u001b[1;36m[\u001b[0m\u001b[1;36m+\u001b[0m\u001b[1;36m]\u001b[0m\u001b[1;36m Successfully retrieved repo: \u001b[0m\u001b[1;4;36mhttps://github.com/StormSDK/StormApp\u001b[0m\n"
      ]
     },
     "metadata": {},
     "output_type": "display_data"
    },
    {
     "data": {
      "text/html": [
       "<pre style=\"white-space:pre;overflow-x:auto;line-height:normal;font-family:Menlo,'DejaVu Sans Mono',consolas,'Courier New',monospace\"><span style=\"color: #ff5f00; text-decoration-color: #ff5f00; font-weight: bold\">[!] Package.json not found at root of </span><span style=\"color: #ff5f00; text-decoration-color: #ff5f00; font-weight: bold; text-decoration: underline\">https://github.com/StormSDK/StormApp;</span><span style=\"color: #ff5f00; text-decoration-color: #ff5f00; font-weight: bold\"> trying directories</span>\n",
       "</pre>\n"
      ],
      "text/plain": [
       "\u001b[1;38;5;202m[\u001b[0m\u001b[1;38;5;202m!\u001b[0m\u001b[1;38;5;202m]\u001b[0m\u001b[1;38;5;202m Package.json not found at root of \u001b[0m\u001b[1;4;38;5;202mhttps://github.com/StormSDK/StormApp;\u001b[0m\u001b[1;38;5;202m trying directories\u001b[0m\n"
      ]
     },
     "metadata": {},
     "output_type": "display_data"
    },
    {
     "data": {
      "text/html": [
       "<pre style=\"white-space:pre;overflow-x:auto;line-height:normal;font-family:Menlo,'DejaVu Sans Mono',consolas,'Courier New',monospace\"><span style=\"color: #800000; text-decoration-color: #800000; font-weight: bold\">[💀] Could not find package.json in first-level-subdirs</span>\n",
       "</pre>\n"
      ],
      "text/plain": [
       "\u001b[1;31m[\u001b[0m\u001b[1;31m💀\u001b[0m\u001b[1;31m]\u001b[0m\u001b[1;31m Could not find package.json in first-level-subdirs\u001b[0m\n"
      ]
     },
     "metadata": {},
     "output_type": "display_data"
    },
    {
     "data": {
      "text/html": [
       "<pre style=\"white-space:pre;overflow-x:auto;line-height:normal;font-family:Menlo,'DejaVu Sans Mono',consolas,'Courier New',monospace\"><span style=\"color: #008080; text-decoration-color: #008080; font-weight: bold\">[+] Getting repo: </span><span style=\"color: #008080; text-decoration-color: #008080; font-weight: bold; text-decoration: underline\">https://github.com/snaildos/StreamBop</span>\n",
       "</pre>\n"
      ],
      "text/plain": [
       "\u001b[1;36m[\u001b[0m\u001b[1;36m+\u001b[0m\u001b[1;36m]\u001b[0m\u001b[1;36m Getting repo: \u001b[0m\u001b[1;4;36mhttps://github.com/snaildos/StreamBop\u001b[0m\n"
      ]
     },
     "metadata": {},
     "output_type": "display_data"
    },
    {
     "data": {
      "text/html": [
       "<pre style=\"white-space:pre;overflow-x:auto;line-height:normal;font-family:Menlo,'DejaVu Sans Mono',consolas,'Courier New',monospace\"><span style=\"color: #008080; text-decoration-color: #008080; font-weight: bold\">[+] Successfully retrieved repo: </span><span style=\"color: #008080; text-decoration-color: #008080; font-weight: bold; text-decoration: underline\">https://github.com/snaildos/StreamBop</span>\n",
       "</pre>\n"
      ],
      "text/plain": [
       "\u001b[1;36m[\u001b[0m\u001b[1;36m+\u001b[0m\u001b[1;36m]\u001b[0m\u001b[1;36m Successfully retrieved repo: \u001b[0m\u001b[1;4;36mhttps://github.com/snaildos/StreamBop\u001b[0m\n"
      ]
     },
     "metadata": {},
     "output_type": "display_data"
    },
    {
     "data": {
      "text/html": [
       "<pre style=\"white-space:pre;overflow-x:auto;line-height:normal;font-family:Menlo,'DejaVu Sans Mono',consolas,'Courier New',monospace\"><span style=\"color: #008080; text-decoration-color: #008080; font-weight: bold\">[+] Found package.json at </span><span style=\"color: #008080; text-decoration-color: #008080; font-weight: bold; text-decoration: underline\">https://github.com/snaildos/StreamBop</span>\n",
       "</pre>\n"
      ],
      "text/plain": [
       "\u001b[1;36m[\u001b[0m\u001b[1;36m+\u001b[0m\u001b[1;36m]\u001b[0m\u001b[1;36m Found package.json at \u001b[0m\u001b[1;4;36mhttps://github.com/snaildos/StreamBop\u001b[0m\n"
      ]
     },
     "metadata": {},
     "output_type": "display_data"
    },
    {
     "data": {
      "text/html": [
       "<pre style=\"white-space:pre;overflow-x:auto;line-height:normal;font-family:Menlo,'DejaVu Sans Mono',consolas,'Courier New',monospace\"><span style=\"color: #008080; text-decoration-color: #008080; font-weight: bold\">[+] Getting </span><span style=\"color: #008080; text-decoration-color: #008080; font-weight: bold; text-decoration: underline\">https://github.com/snaildos/StreamBop/blob/main/package.json</span>\n",
       "</pre>\n"
      ],
      "text/plain": [
       "\u001b[1;36m[\u001b[0m\u001b[1;36m+\u001b[0m\u001b[1;36m]\u001b[0m\u001b[1;36m Getting \u001b[0m\u001b[1;4;36mhttps://github.com/snaildos/StreamBop/blob/main/package.json\u001b[0m\n"
      ]
     },
     "metadata": {},
     "output_type": "display_data"
    },
    {
     "data": {
      "text/html": [
       "<pre style=\"white-space:pre;overflow-x:auto;line-height:normal;font-family:Menlo,'DejaVu Sans Mono',consolas,'Courier New',monospace\"><span style=\"color: #008080; text-decoration-color: #008080; font-weight: bold\">[+] Getting repo: </span><span style=\"color: #008080; text-decoration-color: #008080; font-weight: bold; text-decoration: underline\">https://github.com/stream-labs/desktop</span>\n",
       "</pre>\n"
      ],
      "text/plain": [
       "\u001b[1;36m[\u001b[0m\u001b[1;36m+\u001b[0m\u001b[1;36m]\u001b[0m\u001b[1;36m Getting repo: \u001b[0m\u001b[1;4;36mhttps://github.com/stream-labs/desktop\u001b[0m\n"
      ]
     },
     "metadata": {},
     "output_type": "display_data"
    },
    {
     "data": {
      "text/html": [
       "<pre style=\"white-space:pre;overflow-x:auto;line-height:normal;font-family:Menlo,'DejaVu Sans Mono',consolas,'Courier New',monospace\"><span style=\"color: #008080; text-decoration-color: #008080; font-weight: bold\">[+] Successfully retrieved repo: </span><span style=\"color: #008080; text-decoration-color: #008080; font-weight: bold; text-decoration: underline\">https://github.com/stream-labs/desktop</span>\n",
       "</pre>\n"
      ],
      "text/plain": [
       "\u001b[1;36m[\u001b[0m\u001b[1;36m+\u001b[0m\u001b[1;36m]\u001b[0m\u001b[1;36m Successfully retrieved repo: \u001b[0m\u001b[1;4;36mhttps://github.com/stream-labs/desktop\u001b[0m\n"
      ]
     },
     "metadata": {},
     "output_type": "display_data"
    },
    {
     "data": {
      "text/html": [
       "<pre style=\"white-space:pre;overflow-x:auto;line-height:normal;font-family:Menlo,'DejaVu Sans Mono',consolas,'Courier New',monospace\"><span style=\"color: #008080; text-decoration-color: #008080; font-weight: bold\">[+] Found package.json at </span><span style=\"color: #008080; text-decoration-color: #008080; font-weight: bold; text-decoration: underline\">https://github.com/stream-labs/desktop</span>\n",
       "</pre>\n"
      ],
      "text/plain": [
       "\u001b[1;36m[\u001b[0m\u001b[1;36m+\u001b[0m\u001b[1;36m]\u001b[0m\u001b[1;36m Found package.json at \u001b[0m\u001b[1;4;36mhttps://github.com/stream-labs/desktop\u001b[0m\n"
      ]
     },
     "metadata": {},
     "output_type": "display_data"
    },
    {
     "data": {
      "text/html": [
       "<pre style=\"white-space:pre;overflow-x:auto;line-height:normal;font-family:Menlo,'DejaVu Sans Mono',consolas,'Courier New',monospace\"><span style=\"color: #008080; text-decoration-color: #008080; font-weight: bold\">[+] Getting </span><span style=\"color: #008080; text-decoration-color: #008080; font-weight: bold; text-decoration: underline\">https://github.com/stream-labs/desktop/blob/master/package.json</span>\n",
       "</pre>\n"
      ],
      "text/plain": [
       "\u001b[1;36m[\u001b[0m\u001b[1;36m+\u001b[0m\u001b[1;36m]\u001b[0m\u001b[1;36m Getting \u001b[0m\u001b[1;4;36mhttps://github.com/stream-labs/desktop/blob/master/package.json\u001b[0m\n"
      ]
     },
     "metadata": {},
     "output_type": "display_data"
    },
    {
     "data": {
      "text/html": [
       "<pre style=\"white-space:pre;overflow-x:auto;line-height:normal;font-family:Menlo,'DejaVu Sans Mono',consolas,'Courier New',monospace\"><span style=\"color: #008080; text-decoration-color: #008080; font-weight: bold\">[+] Getting repo: </span><span style=\"color: #008080; text-decoration-color: #008080; font-weight: bold; text-decoration: underline\">https://github.com/sturdy-dev/sturdy</span>\n",
       "</pre>\n"
      ],
      "text/plain": [
       "\u001b[1;36m[\u001b[0m\u001b[1;36m+\u001b[0m\u001b[1;36m]\u001b[0m\u001b[1;36m Getting repo: \u001b[0m\u001b[1;4;36mhttps://github.com/sturdy-dev/sturdy\u001b[0m\n"
      ]
     },
     "metadata": {},
     "output_type": "display_data"
    },
    {
     "data": {
      "text/html": [
       "<pre style=\"white-space:pre;overflow-x:auto;line-height:normal;font-family:Menlo,'DejaVu Sans Mono',consolas,'Courier New',monospace\"><span style=\"color: #008080; text-decoration-color: #008080; font-weight: bold\">[+] Successfully retrieved repo: </span><span style=\"color: #008080; text-decoration-color: #008080; font-weight: bold; text-decoration: underline\">https://github.com/sturdy-dev/sturdy</span>\n",
       "</pre>\n"
      ],
      "text/plain": [
       "\u001b[1;36m[\u001b[0m\u001b[1;36m+\u001b[0m\u001b[1;36m]\u001b[0m\u001b[1;36m Successfully retrieved repo: \u001b[0m\u001b[1;4;36mhttps://github.com/sturdy-dev/sturdy\u001b[0m\n"
      ]
     },
     "metadata": {},
     "output_type": "display_data"
    },
    {
     "data": {
      "text/html": [
       "<pre style=\"white-space:pre;overflow-x:auto;line-height:normal;font-family:Menlo,'DejaVu Sans Mono',consolas,'Courier New',monospace\"><span style=\"color: #ff5f00; text-decoration-color: #ff5f00; font-weight: bold\">[!] Package.json not found at root of </span><span style=\"color: #ff5f00; text-decoration-color: #ff5f00; font-weight: bold; text-decoration: underline\">https://github.com/sturdy-dev/sturdy;</span><span style=\"color: #ff5f00; text-decoration-color: #ff5f00; font-weight: bold\"> trying directories</span>\n",
       "</pre>\n"
      ],
      "text/plain": [
       "\u001b[1;38;5;202m[\u001b[0m\u001b[1;38;5;202m!\u001b[0m\u001b[1;38;5;202m]\u001b[0m\u001b[1;38;5;202m Package.json not found at root of \u001b[0m\u001b[1;4;38;5;202mhttps://github.com/sturdy-dev/sturdy;\u001b[0m\u001b[1;38;5;202m trying directories\u001b[0m\n"
      ]
     },
     "metadata": {},
     "output_type": "display_data"
    },
    {
     "data": {
      "text/html": [
       "<pre style=\"white-space:pre;overflow-x:auto;line-height:normal;font-family:Menlo,'DejaVu Sans Mono',consolas,'Courier New',monospace\"><span style=\"color: #008080; text-decoration-color: #008080; font-weight: bold\">[+] Trying </span><span style=\"color: #008080; text-decoration-color: #008080; font-weight: bold; text-decoration: underline\">https://github.com/sturdy-dev/sturdy/tree/main/.buildkite</span>\n",
       "</pre>\n"
      ],
      "text/plain": [
       "\u001b[1;36m[\u001b[0m\u001b[1;36m+\u001b[0m\u001b[1;36m]\u001b[0m\u001b[1;36m Trying \u001b[0m\u001b[1;4;36mhttps://github.com/sturdy-dev/sturdy/tree/main/.buildkite\u001b[0m\n"
      ]
     },
     "metadata": {},
     "output_type": "display_data"
    },
    {
     "data": {
      "text/html": [
       "<pre style=\"white-space:pre;overflow-x:auto;line-height:normal;font-family:Menlo,'DejaVu Sans Mono',consolas,'Courier New',monospace\"><span style=\"color: #008080; text-decoration-color: #008080; font-weight: bold\">[+] Trying </span><span style=\"color: #008080; text-decoration-color: #008080; font-weight: bold; text-decoration: underline\">https://github.com/sturdy-dev/sturdy/tree/main/.github/workflows</span>\n",
       "</pre>\n"
      ],
      "text/plain": [
       "\u001b[1;36m[\u001b[0m\u001b[1;36m+\u001b[0m\u001b[1;36m]\u001b[0m\u001b[1;36m Trying \u001b[0m\u001b[1;4;36mhttps://github.com/sturdy-dev/sturdy/tree/main/.github/workflows\u001b[0m\n"
      ]
     },
     "metadata": {},
     "output_type": "display_data"
    },
    {
     "data": {
      "text/html": [
       "<pre style=\"white-space:pre;overflow-x:auto;line-height:normal;font-family:Menlo,'DejaVu Sans Mono',consolas,'Courier New',monospace\"><span style=\"color: #008080; text-decoration-color: #008080; font-weight: bold\">[+] Trying </span><span style=\"color: #008080; text-decoration-color: #008080; font-weight: bold; text-decoration: underline\">https://github.com/sturdy-dev/sturdy/tree/main/api</span>\n",
       "</pre>\n"
      ],
      "text/plain": [
       "\u001b[1;36m[\u001b[0m\u001b[1;36m+\u001b[0m\u001b[1;36m]\u001b[0m\u001b[1;36m Trying \u001b[0m\u001b[1;4;36mhttps://github.com/sturdy-dev/sturdy/tree/main/api\u001b[0m\n"
      ]
     },
     "metadata": {},
     "output_type": "display_data"
    },
    {
     "data": {
      "text/html": [
       "<pre style=\"white-space:pre;overflow-x:auto;line-height:normal;font-family:Menlo,'DejaVu Sans Mono',consolas,'Courier New',monospace\"><span style=\"color: #008080; text-decoration-color: #008080; font-weight: bold\">[+] Trying </span><span style=\"color: #008080; text-decoration-color: #008080; font-weight: bold; text-decoration: underline\">https://github.com/sturdy-dev/sturdy/tree/main/app</span>\n",
       "</pre>\n"
      ],
      "text/plain": [
       "\u001b[1;36m[\u001b[0m\u001b[1;36m+\u001b[0m\u001b[1;36m]\u001b[0m\u001b[1;36m Trying \u001b[0m\u001b[1;4;36mhttps://github.com/sturdy-dev/sturdy/tree/main/app\u001b[0m\n"
      ]
     },
     "metadata": {},
     "output_type": "display_data"
    },
    {
     "data": {
      "text/html": [
       "<pre style=\"white-space:pre;overflow-x:auto;line-height:normal;font-family:Menlo,'DejaVu Sans Mono',consolas,'Courier New',monospace\"><span style=\"color: #008080; text-decoration-color: #008080; font-weight: bold\">[+] Found package.json in </span><span style=\"color: #008080; text-decoration-color: #008080; font-weight: bold; text-decoration: underline\">https://github.com/sturdy-dev/sturdy/tree/main/app</span>\n",
       "</pre>\n"
      ],
      "text/plain": [
       "\u001b[1;36m[\u001b[0m\u001b[1;36m+\u001b[0m\u001b[1;36m]\u001b[0m\u001b[1;36m Found package.json in \u001b[0m\u001b[1;4;36mhttps://github.com/sturdy-dev/sturdy/tree/main/app\u001b[0m\n"
      ]
     },
     "metadata": {},
     "output_type": "display_data"
    },
    {
     "data": {
      "text/html": [
       "<pre style=\"white-space:pre;overflow-x:auto;line-height:normal;font-family:Menlo,'DejaVu Sans Mono',consolas,'Courier New',monospace\"><span style=\"color: #008080; text-decoration-color: #008080; font-weight: bold\">[+] Getting </span><span style=\"color: #008080; text-decoration-color: #008080; font-weight: bold; text-decoration: underline\">https://github.com/sturdy-dev/sturdy/tree/main/app</span>\n",
       "</pre>\n"
      ],
      "text/plain": [
       "\u001b[1;36m[\u001b[0m\u001b[1;36m+\u001b[0m\u001b[1;36m]\u001b[0m\u001b[1;36m Getting \u001b[0m\u001b[1;4;36mhttps://github.com/sturdy-dev/sturdy/tree/main/app\u001b[0m\n"
      ]
     },
     "metadata": {},
     "output_type": "display_data"
    },
    {
     "data": {
      "text/html": [
       "<pre style=\"white-space:pre;overflow-x:auto;line-height:normal;font-family:Menlo,'DejaVu Sans Mono',consolas,'Courier New',monospace\"><span style=\"color: #800000; text-decoration-color: #800000; font-weight: bold\">[💀] Could not extract raw lines from f</span><span style=\"color: #800000; text-decoration-color: #800000; font-weight: bold; text-decoration: underline\">https://github.com/sturdy-dev/sturdy/tree/main/app</span>\n",
       "</pre>\n"
      ],
      "text/plain": [
       "\u001b[1;31m[\u001b[0m\u001b[1;31m💀\u001b[0m\u001b[1;31m]\u001b[0m\u001b[1;31m Could not extract raw lines from f\u001b[0m\u001b[1;4;31mhttps://github.com/sturdy-dev/sturdy/tree/main/app\u001b[0m\n"
      ]
     },
     "metadata": {},
     "output_type": "display_data"
    },
    {
     "data": {
      "text/html": [
       "<pre style=\"white-space:pre;overflow-x:auto;line-height:normal;font-family:Menlo,'DejaVu Sans Mono',consolas,'Courier New',monospace\"><span style=\"color: #008080; text-decoration-color: #008080; font-weight: bold\">[+] Getting repo: </span><span style=\"color: #008080; text-decoration-color: #008080; font-weight: bold; text-decoration: underline\">https://github.com/s8sachin/subtitler</span>\n",
       "</pre>\n"
      ],
      "text/plain": [
       "\u001b[1;36m[\u001b[0m\u001b[1;36m+\u001b[0m\u001b[1;36m]\u001b[0m\u001b[1;36m Getting repo: \u001b[0m\u001b[1;4;36mhttps://github.com/s8sachin/subtitler\u001b[0m\n"
      ]
     },
     "metadata": {},
     "output_type": "display_data"
    },
    {
     "data": {
      "text/html": [
       "<pre style=\"white-space:pre;overflow-x:auto;line-height:normal;font-family:Menlo,'DejaVu Sans Mono',consolas,'Courier New',monospace\"><span style=\"color: #008080; text-decoration-color: #008080; font-weight: bold\">[+] Successfully retrieved repo: </span><span style=\"color: #008080; text-decoration-color: #008080; font-weight: bold; text-decoration: underline\">https://github.com/s8sachin/subtitler</span>\n",
       "</pre>\n"
      ],
      "text/plain": [
       "\u001b[1;36m[\u001b[0m\u001b[1;36m+\u001b[0m\u001b[1;36m]\u001b[0m\u001b[1;36m Successfully retrieved repo: \u001b[0m\u001b[1;4;36mhttps://github.com/s8sachin/subtitler\u001b[0m\n"
      ]
     },
     "metadata": {},
     "output_type": "display_data"
    },
    {
     "data": {
      "text/html": [
       "<pre style=\"white-space:pre;overflow-x:auto;line-height:normal;font-family:Menlo,'DejaVu Sans Mono',consolas,'Courier New',monospace\"><span style=\"color: #008080; text-decoration-color: #008080; font-weight: bold\">[+] Found package.json at </span><span style=\"color: #008080; text-decoration-color: #008080; font-weight: bold; text-decoration: underline\">https://github.com/s8sachin/subtitler</span>\n",
       "</pre>\n"
      ],
      "text/plain": [
       "\u001b[1;36m[\u001b[0m\u001b[1;36m+\u001b[0m\u001b[1;36m]\u001b[0m\u001b[1;36m Found package.json at \u001b[0m\u001b[1;4;36mhttps://github.com/s8sachin/subtitler\u001b[0m\n"
      ]
     },
     "metadata": {},
     "output_type": "display_data"
    },
    {
     "data": {
      "text/html": [
       "<pre style=\"white-space:pre;overflow-x:auto;line-height:normal;font-family:Menlo,'DejaVu Sans Mono',consolas,'Courier New',monospace\"><span style=\"color: #008080; text-decoration-color: #008080; font-weight: bold\">[+] Getting </span><span style=\"color: #008080; text-decoration-color: #008080; font-weight: bold; text-decoration: underline\">https://github.com/s8sachin/subtitler/blob/master/package.json</span>\n",
       "</pre>\n"
      ],
      "text/plain": [
       "\u001b[1;36m[\u001b[0m\u001b[1;36m+\u001b[0m\u001b[1;36m]\u001b[0m\u001b[1;36m Getting \u001b[0m\u001b[1;4;36mhttps://github.com/s8sachin/subtitler/blob/master/package.json\u001b[0m\n"
      ]
     },
     "metadata": {},
     "output_type": "display_data"
    },
    {
     "data": {
      "text/html": [
       "<pre style=\"white-space:pre;overflow-x:auto;line-height:normal;font-family:Menlo,'DejaVu Sans Mono',consolas,'Courier New',monospace\"><span style=\"color: #ff5f00; text-decoration-color: #ff5f00; font-weight: bold\">[!] Invalid Semantic version: </span><span style=\"color: #ff5f00; text-decoration-color: #ff5f00; font-weight: bold\">8</span>\n",
       "</pre>\n"
      ],
      "text/plain": [
       "\u001b[1;38;5;202m[\u001b[0m\u001b[1;38;5;202m!\u001b[0m\u001b[1;38;5;202m]\u001b[0m\u001b[1;38;5;202m Invalid Semantic version: \u001b[0m\u001b[1;38;5;202m8\u001b[0m\n"
      ]
     },
     "metadata": {},
     "output_type": "display_data"
    },
    {
     "data": {
      "text/html": [
       "<pre style=\"white-space:pre;overflow-x:auto;line-height:normal;font-family:Menlo,'DejaVu Sans Mono',consolas,'Courier New',monospace\"><span style=\"color: #ff5f00; text-decoration-color: #ff5f00; font-weight: bold\">[!] Invalid Semantic version: </span><span style=\"color: #ff5f00; text-decoration-color: #ff5f00; font-weight: bold\">8</span>\n",
       "</pre>\n"
      ],
      "text/plain": [
       "\u001b[1;38;5;202m[\u001b[0m\u001b[1;38;5;202m!\u001b[0m\u001b[1;38;5;202m]\u001b[0m\u001b[1;38;5;202m Invalid Semantic version: \u001b[0m\u001b[1;38;5;202m8\u001b[0m\n"
      ]
     },
     "metadata": {},
     "output_type": "display_data"
    },
    {
     "data": {
      "text/html": [
       "<pre style=\"white-space:pre;overflow-x:auto;line-height:normal;font-family:Menlo,'DejaVu Sans Mono',consolas,'Courier New',monospace\"><span style=\"color: #008080; text-decoration-color: #008080; font-weight: bold\">[+] Getting repo: </span><span style=\"color: #008080; text-decoration-color: #008080; font-weight: bold; text-decoration: underline\">https://github.com/johannesjo/super-productivity</span>\n",
       "</pre>\n"
      ],
      "text/plain": [
       "\u001b[1;36m[\u001b[0m\u001b[1;36m+\u001b[0m\u001b[1;36m]\u001b[0m\u001b[1;36m Getting repo: \u001b[0m\u001b[1;4;36mhttps://github.com/johannesjo/super-productivity\u001b[0m\n"
      ]
     },
     "metadata": {},
     "output_type": "display_data"
    },
    {
     "data": {
      "text/html": [
       "<pre style=\"white-space:pre;overflow-x:auto;line-height:normal;font-family:Menlo,'DejaVu Sans Mono',consolas,'Courier New',monospace\"><span style=\"color: #008080; text-decoration-color: #008080; font-weight: bold\">[+] Successfully retrieved repo: </span><span style=\"color: #008080; text-decoration-color: #008080; font-weight: bold; text-decoration: underline\">https://github.com/johannesjo/super-productivity</span>\n",
       "</pre>\n"
      ],
      "text/plain": [
       "\u001b[1;36m[\u001b[0m\u001b[1;36m+\u001b[0m\u001b[1;36m]\u001b[0m\u001b[1;36m Successfully retrieved repo: \u001b[0m\u001b[1;4;36mhttps://github.com/johannesjo/super-productivity\u001b[0m\n"
      ]
     },
     "metadata": {},
     "output_type": "display_data"
    },
    {
     "data": {
      "text/html": [
       "<pre style=\"white-space:pre;overflow-x:auto;line-height:normal;font-family:Menlo,'DejaVu Sans Mono',consolas,'Courier New',monospace\"><span style=\"color: #008080; text-decoration-color: #008080; font-weight: bold\">[+] Found package.json at </span><span style=\"color: #008080; text-decoration-color: #008080; font-weight: bold; text-decoration: underline\">https://github.com/johannesjo/super-productivity</span>\n",
       "</pre>\n"
      ],
      "text/plain": [
       "\u001b[1;36m[\u001b[0m\u001b[1;36m+\u001b[0m\u001b[1;36m]\u001b[0m\u001b[1;36m Found package.json at \u001b[0m\u001b[1;4;36mhttps://github.com/johannesjo/super-productivity\u001b[0m\n"
      ]
     },
     "metadata": {},
     "output_type": "display_data"
    },
    {
     "data": {
      "text/html": [
       "<pre style=\"white-space:pre;overflow-x:auto;line-height:normal;font-family:Menlo,'DejaVu Sans Mono',consolas,'Courier New',monospace\"><span style=\"color: #008080; text-decoration-color: #008080; font-weight: bold\">[+] Getting </span><span style=\"color: #008080; text-decoration-color: #008080; font-weight: bold; text-decoration: underline\">https://github.com/johannesjo/super-productivity/blob/master/package.json</span>\n",
       "</pre>\n"
      ],
      "text/plain": [
       "\u001b[1;36m[\u001b[0m\u001b[1;36m+\u001b[0m\u001b[1;36m]\u001b[0m\u001b[1;36m Getting \u001b[0m\u001b[1;4;36mhttps://github.com/johannesjo/super-productivity/blob/master/package.json\u001b[0m\n"
      ]
     },
     "metadata": {},
     "output_type": "display_data"
    },
    {
     "data": {
      "text/html": [
       "<pre style=\"white-space:pre;overflow-x:auto;line-height:normal;font-family:Menlo,'DejaVu Sans Mono',consolas,'Courier New',monospace\"><span style=\"color: #008080; text-decoration-color: #008080; font-weight: bold\">[+] Getting repo: </span><span style=\"color: #008080; text-decoration-color: #008080; font-weight: bold; text-decoration: underline\">https://github.com/ahkohd/switch-desktop</span>\n",
       "</pre>\n"
      ],
      "text/plain": [
       "\u001b[1;36m[\u001b[0m\u001b[1;36m+\u001b[0m\u001b[1;36m]\u001b[0m\u001b[1;36m Getting repo: \u001b[0m\u001b[1;4;36mhttps://github.com/ahkohd/switch-desktop\u001b[0m\n"
      ]
     },
     "metadata": {},
     "output_type": "display_data"
    },
    {
     "data": {
      "text/html": [
       "<pre style=\"white-space:pre;overflow-x:auto;line-height:normal;font-family:Menlo,'DejaVu Sans Mono',consolas,'Courier New',monospace\"><span style=\"color: #008080; text-decoration-color: #008080; font-weight: bold\">[+] Successfully retrieved repo: </span><span style=\"color: #008080; text-decoration-color: #008080; font-weight: bold; text-decoration: underline\">https://github.com/ahkohd/switch-desktop</span>\n",
       "</pre>\n"
      ],
      "text/plain": [
       "\u001b[1;36m[\u001b[0m\u001b[1;36m+\u001b[0m\u001b[1;36m]\u001b[0m\u001b[1;36m Successfully retrieved repo: \u001b[0m\u001b[1;4;36mhttps://github.com/ahkohd/switch-desktop\u001b[0m\n"
      ]
     },
     "metadata": {},
     "output_type": "display_data"
    },
    {
     "data": {
      "text/html": [
       "<pre style=\"white-space:pre;overflow-x:auto;line-height:normal;font-family:Menlo,'DejaVu Sans Mono',consolas,'Courier New',monospace\"><span style=\"color: #008080; text-decoration-color: #008080; font-weight: bold\">[+] Found package.json at </span><span style=\"color: #008080; text-decoration-color: #008080; font-weight: bold; text-decoration: underline\">https://github.com/ahkohd/switch-desktop</span>\n",
       "</pre>\n"
      ],
      "text/plain": [
       "\u001b[1;36m[\u001b[0m\u001b[1;36m+\u001b[0m\u001b[1;36m]\u001b[0m\u001b[1;36m Found package.json at \u001b[0m\u001b[1;4;36mhttps://github.com/ahkohd/switch-desktop\u001b[0m\n"
      ]
     },
     "metadata": {},
     "output_type": "display_data"
    },
    {
     "data": {
      "text/html": [
       "<pre style=\"white-space:pre;overflow-x:auto;line-height:normal;font-family:Menlo,'DejaVu Sans Mono',consolas,'Courier New',monospace\"><span style=\"color: #008080; text-decoration-color: #008080; font-weight: bold\">[+] Getting </span><span style=\"color: #008080; text-decoration-color: #008080; font-weight: bold; text-decoration: underline\">https://github.com/ahkohd/switch-desktop/blob/master/package.json</span>\n",
       "</pre>\n"
      ],
      "text/plain": [
       "\u001b[1;36m[\u001b[0m\u001b[1;36m+\u001b[0m\u001b[1;36m]\u001b[0m\u001b[1;36m Getting \u001b[0m\u001b[1;4;36mhttps://github.com/ahkohd/switch-desktop/blob/master/package.json\u001b[0m\n"
      ]
     },
     "metadata": {},
     "output_type": "display_data"
    },
    {
     "data": {
      "text/html": [
       "<pre style=\"white-space:pre;overflow-x:auto;line-height:normal;font-family:Menlo,'DejaVu Sans Mono',consolas,'Courier New',monospace\"><span style=\"color: #008080; text-decoration-color: #008080; font-weight: bold\">[+] Getting repo: </span><span style=\"color: #008080; text-decoration-color: #008080; font-weight: bold; text-decoration: underline\">https://github.com/oldj/SwitchHosts</span>\n",
       "</pre>\n"
      ],
      "text/plain": [
       "\u001b[1;36m[\u001b[0m\u001b[1;36m+\u001b[0m\u001b[1;36m]\u001b[0m\u001b[1;36m Getting repo: \u001b[0m\u001b[1;4;36mhttps://github.com/oldj/SwitchHosts\u001b[0m\n"
      ]
     },
     "metadata": {},
     "output_type": "display_data"
    },
    {
     "data": {
      "text/html": [
       "<pre style=\"white-space:pre;overflow-x:auto;line-height:normal;font-family:Menlo,'DejaVu Sans Mono',consolas,'Courier New',monospace\"><span style=\"color: #008080; text-decoration-color: #008080; font-weight: bold\">[+] Successfully retrieved repo: </span><span style=\"color: #008080; text-decoration-color: #008080; font-weight: bold; text-decoration: underline\">https://github.com/oldj/SwitchHosts</span>\n",
       "</pre>\n"
      ],
      "text/plain": [
       "\u001b[1;36m[\u001b[0m\u001b[1;36m+\u001b[0m\u001b[1;36m]\u001b[0m\u001b[1;36m Successfully retrieved repo: \u001b[0m\u001b[1;4;36mhttps://github.com/oldj/SwitchHosts\u001b[0m\n"
      ]
     },
     "metadata": {},
     "output_type": "display_data"
    },
    {
     "data": {
      "text/html": [
       "<pre style=\"white-space:pre;overflow-x:auto;line-height:normal;font-family:Menlo,'DejaVu Sans Mono',consolas,'Courier New',monospace\"><span style=\"color: #008080; text-decoration-color: #008080; font-weight: bold\">[+] Found package.json at </span><span style=\"color: #008080; text-decoration-color: #008080; font-weight: bold; text-decoration: underline\">https://github.com/oldj/SwitchHosts</span>\n",
       "</pre>\n"
      ],
      "text/plain": [
       "\u001b[1;36m[\u001b[0m\u001b[1;36m+\u001b[0m\u001b[1;36m]\u001b[0m\u001b[1;36m Found package.json at \u001b[0m\u001b[1;4;36mhttps://github.com/oldj/SwitchHosts\u001b[0m\n"
      ]
     },
     "metadata": {},
     "output_type": "display_data"
    },
    {
     "data": {
      "text/html": [
       "<pre style=\"white-space:pre;overflow-x:auto;line-height:normal;font-family:Menlo,'DejaVu Sans Mono',consolas,'Courier New',monospace\"><span style=\"color: #008080; text-decoration-color: #008080; font-weight: bold\">[+] Getting </span><span style=\"color: #008080; text-decoration-color: #008080; font-weight: bold; text-decoration: underline\">https://github.com/oldj/SwitchHosts/blob/master/package.json</span>\n",
       "</pre>\n"
      ],
      "text/plain": [
       "\u001b[1;36m[\u001b[0m\u001b[1;36m+\u001b[0m\u001b[1;36m]\u001b[0m\u001b[1;36m Getting \u001b[0m\u001b[1;4;36mhttps://github.com/oldj/SwitchHosts/blob/master/package.json\u001b[0m\n"
      ]
     },
     "metadata": {},
     "output_type": "display_data"
    },
    {
     "data": {
      "text/html": [
       "<pre style=\"white-space:pre;overflow-x:auto;line-height:normal;font-family:Menlo,'DejaVu Sans Mono',consolas,'Courier New',monospace\"><span style=\"color: #008080; text-decoration-color: #008080; font-weight: bold\">[+] Getting repo: </span><span style=\"color: #008080; text-decoration-color: #008080; font-weight: bold; text-decoration: underline\">https://github.com/symphonyoss/SymphonyElectron</span>\n",
       "</pre>\n"
      ],
      "text/plain": [
       "\u001b[1;36m[\u001b[0m\u001b[1;36m+\u001b[0m\u001b[1;36m]\u001b[0m\u001b[1;36m Getting repo: \u001b[0m\u001b[1;4;36mhttps://github.com/symphonyoss/SymphonyElectron\u001b[0m\n"
      ]
     },
     "metadata": {},
     "output_type": "display_data"
    },
    {
     "data": {
      "text/html": [
       "<pre style=\"white-space:pre;overflow-x:auto;line-height:normal;font-family:Menlo,'DejaVu Sans Mono',consolas,'Courier New',monospace\"><span style=\"color: #008080; text-decoration-color: #008080; font-weight: bold\">[+] Successfully retrieved repo: </span><span style=\"color: #008080; text-decoration-color: #008080; font-weight: bold; text-decoration: underline\">https://github.com/symphonyoss/SymphonyElectron</span>\n",
       "</pre>\n"
      ],
      "text/plain": [
       "\u001b[1;36m[\u001b[0m\u001b[1;36m+\u001b[0m\u001b[1;36m]\u001b[0m\u001b[1;36m Successfully retrieved repo: \u001b[0m\u001b[1;4;36mhttps://github.com/symphonyoss/SymphonyElectron\u001b[0m\n"
      ]
     },
     "metadata": {},
     "output_type": "display_data"
    },
    {
     "data": {
      "text/html": [
       "<pre style=\"white-space:pre;overflow-x:auto;line-height:normal;font-family:Menlo,'DejaVu Sans Mono',consolas,'Courier New',monospace\"><span style=\"color: #008080; text-decoration-color: #008080; font-weight: bold\">[+] Found package.json at </span><span style=\"color: #008080; text-decoration-color: #008080; font-weight: bold; text-decoration: underline\">https://github.com/symphonyoss/SymphonyElectron</span>\n",
       "</pre>\n"
      ],
      "text/plain": [
       "\u001b[1;36m[\u001b[0m\u001b[1;36m+\u001b[0m\u001b[1;36m]\u001b[0m\u001b[1;36m Found package.json at \u001b[0m\u001b[1;4;36mhttps://github.com/symphonyoss/SymphonyElectron\u001b[0m\n"
      ]
     },
     "metadata": {},
     "output_type": "display_data"
    },
    {
     "data": {
      "text/html": [
       "<pre style=\"white-space:pre;overflow-x:auto;line-height:normal;font-family:Menlo,'DejaVu Sans Mono',consolas,'Courier New',monospace\"><span style=\"color: #008080; text-decoration-color: #008080; font-weight: bold\">[+] Getting </span><span style=\"color: #008080; text-decoration-color: #008080; font-weight: bold; text-decoration: underline\">https://github.com/finos/SymphonyElectron/blob/main/package.json</span>\n",
       "</pre>\n"
      ],
      "text/plain": [
       "\u001b[1;36m[\u001b[0m\u001b[1;36m+\u001b[0m\u001b[1;36m]\u001b[0m\u001b[1;36m Getting \u001b[0m\u001b[1;4;36mhttps://github.com/finos/SymphonyElectron/blob/main/package.json\u001b[0m\n"
      ]
     },
     "metadata": {},
     "output_type": "display_data"
    },
    {
     "data": {
      "text/html": [
       "<pre style=\"white-space:pre;overflow-x:auto;line-height:normal;font-family:Menlo,'DejaVu Sans Mono',consolas,'Courier New',monospace\"><span style=\"color: #008080; text-decoration-color: #008080; font-weight: bold\">[+] Getting repo: </span><span style=\"color: #008080; text-decoration-color: #008080; font-weight: bold; text-decoration: underline\">https://github.com/Eugeny/tabby</span>\n",
       "</pre>\n"
      ],
      "text/plain": [
       "\u001b[1;36m[\u001b[0m\u001b[1;36m+\u001b[0m\u001b[1;36m]\u001b[0m\u001b[1;36m Getting repo: \u001b[0m\u001b[1;4;36mhttps://github.com/Eugeny/tabby\u001b[0m\n"
      ]
     },
     "metadata": {},
     "output_type": "display_data"
    },
    {
     "data": {
      "text/html": [
       "<pre style=\"white-space:pre;overflow-x:auto;line-height:normal;font-family:Menlo,'DejaVu Sans Mono',consolas,'Courier New',monospace\"><span style=\"color: #008080; text-decoration-color: #008080; font-weight: bold\">[+] Successfully retrieved repo: </span><span style=\"color: #008080; text-decoration-color: #008080; font-weight: bold; text-decoration: underline\">https://github.com/Eugeny/tabby</span>\n",
       "</pre>\n"
      ],
      "text/plain": [
       "\u001b[1;36m[\u001b[0m\u001b[1;36m+\u001b[0m\u001b[1;36m]\u001b[0m\u001b[1;36m Successfully retrieved repo: \u001b[0m\u001b[1;4;36mhttps://github.com/Eugeny/tabby\u001b[0m\n"
      ]
     },
     "metadata": {},
     "output_type": "display_data"
    },
    {
     "data": {
      "text/html": [
       "<pre style=\"white-space:pre;overflow-x:auto;line-height:normal;font-family:Menlo,'DejaVu Sans Mono',consolas,'Courier New',monospace\"><span style=\"color: #008080; text-decoration-color: #008080; font-weight: bold\">[+] Found package.json at </span><span style=\"color: #008080; text-decoration-color: #008080; font-weight: bold; text-decoration: underline\">https://github.com/Eugeny/tabby</span>\n",
       "</pre>\n"
      ],
      "text/plain": [
       "\u001b[1;36m[\u001b[0m\u001b[1;36m+\u001b[0m\u001b[1;36m]\u001b[0m\u001b[1;36m Found package.json at \u001b[0m\u001b[1;4;36mhttps://github.com/Eugeny/tabby\u001b[0m\n"
      ]
     },
     "metadata": {},
     "output_type": "display_data"
    },
    {
     "data": {
      "text/html": [
       "<pre style=\"white-space:pre;overflow-x:auto;line-height:normal;font-family:Menlo,'DejaVu Sans Mono',consolas,'Courier New',monospace\"><span style=\"color: #008080; text-decoration-color: #008080; font-weight: bold\">[+] Getting </span><span style=\"color: #008080; text-decoration-color: #008080; font-weight: bold; text-decoration: underline\">https://github.com/Eugeny/tabby/blob/master/package.json</span>\n",
       "</pre>\n"
      ],
      "text/plain": [
       "\u001b[1;36m[\u001b[0m\u001b[1;36m+\u001b[0m\u001b[1;36m]\u001b[0m\u001b[1;36m Getting \u001b[0m\u001b[1;4;36mhttps://github.com/Eugeny/tabby/blob/master/package.json\u001b[0m\n"
      ]
     },
     "metadata": {},
     "output_type": "display_data"
    },
    {
     "data": {
      "text/html": [
       "<pre style=\"white-space:pre;overflow-x:auto;line-height:normal;font-family:Menlo,'DejaVu Sans Mono',consolas,'Courier New',monospace\"><span style=\"color: #008080; text-decoration-color: #008080; font-weight: bold\">[+] Getting repo: </span><span style=\"color: #008080; text-decoration-color: #008080; font-weight: bold; text-decoration: underline\">https://github.com/tagspaces/tagspaces</span>\n",
       "</pre>\n"
      ],
      "text/plain": [
       "\u001b[1;36m[\u001b[0m\u001b[1;36m+\u001b[0m\u001b[1;36m]\u001b[0m\u001b[1;36m Getting repo: \u001b[0m\u001b[1;4;36mhttps://github.com/tagspaces/tagspaces\u001b[0m\n"
      ]
     },
     "metadata": {},
     "output_type": "display_data"
    },
    {
     "data": {
      "text/html": [
       "<pre style=\"white-space:pre;overflow-x:auto;line-height:normal;font-family:Menlo,'DejaVu Sans Mono',consolas,'Courier New',monospace\"><span style=\"color: #008080; text-decoration-color: #008080; font-weight: bold\">[+] Successfully retrieved repo: </span><span style=\"color: #008080; text-decoration-color: #008080; font-weight: bold; text-decoration: underline\">https://github.com/tagspaces/tagspaces</span>\n",
       "</pre>\n"
      ],
      "text/plain": [
       "\u001b[1;36m[\u001b[0m\u001b[1;36m+\u001b[0m\u001b[1;36m]\u001b[0m\u001b[1;36m Successfully retrieved repo: \u001b[0m\u001b[1;4;36mhttps://github.com/tagspaces/tagspaces\u001b[0m\n"
      ]
     },
     "metadata": {},
     "output_type": "display_data"
    },
    {
     "data": {
      "text/html": [
       "<pre style=\"white-space:pre;overflow-x:auto;line-height:normal;font-family:Menlo,'DejaVu Sans Mono',consolas,'Courier New',monospace\"><span style=\"color: #008080; text-decoration-color: #008080; font-weight: bold\">[+] Found package.json at </span><span style=\"color: #008080; text-decoration-color: #008080; font-weight: bold; text-decoration: underline\">https://github.com/tagspaces/tagspaces</span>\n",
       "</pre>\n"
      ],
      "text/plain": [
       "\u001b[1;36m[\u001b[0m\u001b[1;36m+\u001b[0m\u001b[1;36m]\u001b[0m\u001b[1;36m Found package.json at \u001b[0m\u001b[1;4;36mhttps://github.com/tagspaces/tagspaces\u001b[0m\n"
      ]
     },
     "metadata": {},
     "output_type": "display_data"
    },
    {
     "data": {
      "text/html": [
       "<pre style=\"white-space:pre;overflow-x:auto;line-height:normal;font-family:Menlo,'DejaVu Sans Mono',consolas,'Courier New',monospace\"><span style=\"color: #008080; text-decoration-color: #008080; font-weight: bold\">[+] Getting </span><span style=\"color: #008080; text-decoration-color: #008080; font-weight: bold; text-decoration: underline\">https://github.com/tagspaces/tagspaces/blob/develop/package.json</span>\n",
       "</pre>\n"
      ],
      "text/plain": [
       "\u001b[1;36m[\u001b[0m\u001b[1;36m+\u001b[0m\u001b[1;36m]\u001b[0m\u001b[1;36m Getting \u001b[0m\u001b[1;4;36mhttps://github.com/tagspaces/tagspaces/blob/develop/package.json\u001b[0m\n"
      ]
     },
     "metadata": {},
     "output_type": "display_data"
    },
    {
     "data": {
      "text/html": [
       "<pre style=\"white-space:pre;overflow-x:auto;line-height:normal;font-family:Menlo,'DejaVu Sans Mono',consolas,'Courier New',monospace\"><span style=\"color: #008080; text-decoration-color: #008080; font-weight: bold\">[+] Getting repo: </span><span style=\"color: #008080; text-decoration-color: #008080; font-weight: bold; text-decoration: underline\">https://sourceforge.net/projects/tagstoo/files/Tagstoo__sourcecode/</span>\n",
       "</pre>\n"
      ],
      "text/plain": [
       "\u001b[1;36m[\u001b[0m\u001b[1;36m+\u001b[0m\u001b[1;36m]\u001b[0m\u001b[1;36m Getting repo: \u001b[0m\u001b[1;4;36mhttps://sourceforge.net/projects/tagstoo/files/Tagstoo__sourcecode/\u001b[0m\n"
      ]
     },
     "metadata": {},
     "output_type": "display_data"
    },
    {
     "data": {
      "text/html": [
       "<pre style=\"white-space:pre;overflow-x:auto;line-height:normal;font-family:Menlo,'DejaVu Sans Mono',consolas,'Courier New',monospace\"><span style=\"color: #008080; text-decoration-color: #008080; font-weight: bold\">[+] Successfully retrieved repo: </span><span style=\"color: #008080; text-decoration-color: #008080; font-weight: bold; text-decoration: underline\">https://sourceforge.net/projects/tagstoo/files/Tagstoo__sourcecode/</span>\n",
       "</pre>\n"
      ],
      "text/plain": [
       "\u001b[1;36m[\u001b[0m\u001b[1;36m+\u001b[0m\u001b[1;36m]\u001b[0m\u001b[1;36m Successfully retrieved repo: \u001b[0m\u001b[1;4;36mhttps://sourceforge.net/projects/tagstoo/files/Tagstoo__sourcecode/\u001b[0m\n"
      ]
     },
     "metadata": {},
     "output_type": "display_data"
    },
    {
     "data": {
      "text/html": [
       "<pre style=\"white-space:pre;overflow-x:auto;line-height:normal;font-family:Menlo,'DejaVu Sans Mono',consolas,'Courier New',monospace\"><span style=\"color: #ff5f00; text-decoration-color: #ff5f00; font-weight: bold\">[!] Package.json not found at root of </span><span style=\"color: #ff5f00; text-decoration-color: #ff5f00; font-weight: bold; text-decoration: underline\">https://sourceforge.net/projects/tagstoo/files/Tagstoo__sourcecode/;</span><span style=\"color: #ff5f00; text-decoration-color: #ff5f00; font-weight: bold\"> trying </span>\n",
       "<span style=\"color: #ff5f00; text-decoration-color: #ff5f00; font-weight: bold\">directories</span>\n",
       "</pre>\n"
      ],
      "text/plain": [
       "\u001b[1;38;5;202m[\u001b[0m\u001b[1;38;5;202m!\u001b[0m\u001b[1;38;5;202m]\u001b[0m\u001b[1;38;5;202m Package.json not found at root of \u001b[0m\u001b[1;4;38;5;202mhttps://sourceforge.net/projects/tagstoo/files/Tagstoo__sourcecode/;\u001b[0m\u001b[1;38;5;202m trying \u001b[0m\n",
       "\u001b[1;38;5;202mdirectories\u001b[0m\n"
      ]
     },
     "metadata": {},
     "output_type": "display_data"
    },
    {
     "data": {
      "text/html": [
       "<pre style=\"white-space:pre;overflow-x:auto;line-height:normal;font-family:Menlo,'DejaVu Sans Mono',consolas,'Courier New',monospace\"><span style=\"color: #800000; text-decoration-color: #800000; font-weight: bold\">[💀] Could not find package.json in first-level-subdirs</span>\n",
       "</pre>\n"
      ],
      "text/plain": [
       "\u001b[1;31m[\u001b[0m\u001b[1;31m💀\u001b[0m\u001b[1;31m]\u001b[0m\u001b[1;31m Could not find package.json in first-level-subdirs\u001b[0m\n"
      ]
     },
     "metadata": {},
     "output_type": "display_data"
    },
    {
     "data": {
      "text/html": [
       "<pre style=\"white-space:pre;overflow-x:auto;line-height:normal;font-family:Menlo,'DejaVu Sans Mono',consolas,'Courier New',monospace\"><span style=\"color: #008080; text-decoration-color: #008080; font-weight: bold\">[+] Getting repo: </span><span style=\"color: #008080; text-decoration-color: #008080; font-weight: bold; text-decoration: underline\">https://github.com/mountainash/taskana</span>\n",
       "</pre>\n"
      ],
      "text/plain": [
       "\u001b[1;36m[\u001b[0m\u001b[1;36m+\u001b[0m\u001b[1;36m]\u001b[0m\u001b[1;36m Getting repo: \u001b[0m\u001b[1;4;36mhttps://github.com/mountainash/taskana\u001b[0m\n"
      ]
     },
     "metadata": {},
     "output_type": "display_data"
    },
    {
     "data": {
      "text/html": [
       "<pre style=\"white-space:pre;overflow-x:auto;line-height:normal;font-family:Menlo,'DejaVu Sans Mono',consolas,'Courier New',monospace\"><span style=\"color: #008080; text-decoration-color: #008080; font-weight: bold\">[+] Successfully retrieved repo: </span><span style=\"color: #008080; text-decoration-color: #008080; font-weight: bold; text-decoration: underline\">https://github.com/mountainash/taskana</span>\n",
       "</pre>\n"
      ],
      "text/plain": [
       "\u001b[1;36m[\u001b[0m\u001b[1;36m+\u001b[0m\u001b[1;36m]\u001b[0m\u001b[1;36m Successfully retrieved repo: \u001b[0m\u001b[1;4;36mhttps://github.com/mountainash/taskana\u001b[0m\n"
      ]
     },
     "metadata": {},
     "output_type": "display_data"
    },
    {
     "data": {
      "text/html": [
       "<pre style=\"white-space:pre;overflow-x:auto;line-height:normal;font-family:Menlo,'DejaVu Sans Mono',consolas,'Courier New',monospace\"><span style=\"color: #008080; text-decoration-color: #008080; font-weight: bold\">[+] Found package.json at </span><span style=\"color: #008080; text-decoration-color: #008080; font-weight: bold; text-decoration: underline\">https://github.com/mountainash/taskana</span>\n",
       "</pre>\n"
      ],
      "text/plain": [
       "\u001b[1;36m[\u001b[0m\u001b[1;36m+\u001b[0m\u001b[1;36m]\u001b[0m\u001b[1;36m Found package.json at \u001b[0m\u001b[1;4;36mhttps://github.com/mountainash/taskana\u001b[0m\n"
      ]
     },
     "metadata": {},
     "output_type": "display_data"
    },
    {
     "data": {
      "text/html": [
       "<pre style=\"white-space:pre;overflow-x:auto;line-height:normal;font-family:Menlo,'DejaVu Sans Mono',consolas,'Courier New',monospace\"><span style=\"color: #008080; text-decoration-color: #008080; font-weight: bold\">[+] Getting </span><span style=\"color: #008080; text-decoration-color: #008080; font-weight: bold; text-decoration: underline\">https://github.com/mountainash/taskana/blob/develop/package.json</span>\n",
       "</pre>\n"
      ],
      "text/plain": [
       "\u001b[1;36m[\u001b[0m\u001b[1;36m+\u001b[0m\u001b[1;36m]\u001b[0m\u001b[1;36m Getting \u001b[0m\u001b[1;4;36mhttps://github.com/mountainash/taskana/blob/develop/package.json\u001b[0m\n"
      ]
     },
     "metadata": {},
     "output_type": "display_data"
    },
    {
     "data": {
      "text/html": [
       "<pre style=\"white-space:pre;overflow-x:auto;line-height:normal;font-family:Menlo,'DejaVu Sans Mono',consolas,'Courier New',monospace\"><span style=\"color: #008080; text-decoration-color: #008080; font-weight: bold\">[+] Getting repo: </span><span style=\"color: #008080; text-decoration-color: #008080; font-weight: bold; text-decoration: underline\">https://github.com/saisandeepvaddi/ten-hands</span>\n",
       "</pre>\n"
      ],
      "text/plain": [
       "\u001b[1;36m[\u001b[0m\u001b[1;36m+\u001b[0m\u001b[1;36m]\u001b[0m\u001b[1;36m Getting repo: \u001b[0m\u001b[1;4;36mhttps://github.com/saisandeepvaddi/ten-hands\u001b[0m\n"
      ]
     },
     "metadata": {},
     "output_type": "display_data"
    },
    {
     "data": {
      "text/html": [
       "<pre style=\"white-space:pre;overflow-x:auto;line-height:normal;font-family:Menlo,'DejaVu Sans Mono',consolas,'Courier New',monospace\"><span style=\"color: #008080; text-decoration-color: #008080; font-weight: bold\">[+] Successfully retrieved repo: </span><span style=\"color: #008080; text-decoration-color: #008080; font-weight: bold; text-decoration: underline\">https://github.com/saisandeepvaddi/ten-hands</span>\n",
       "</pre>\n"
      ],
      "text/plain": [
       "\u001b[1;36m[\u001b[0m\u001b[1;36m+\u001b[0m\u001b[1;36m]\u001b[0m\u001b[1;36m Successfully retrieved repo: \u001b[0m\u001b[1;4;36mhttps://github.com/saisandeepvaddi/ten-hands\u001b[0m\n"
      ]
     },
     "metadata": {},
     "output_type": "display_data"
    },
    {
     "data": {
      "text/html": [
       "<pre style=\"white-space:pre;overflow-x:auto;line-height:normal;font-family:Menlo,'DejaVu Sans Mono',consolas,'Courier New',monospace\"><span style=\"color: #008080; text-decoration-color: #008080; font-weight: bold\">[+] Found package.json at </span><span style=\"color: #008080; text-decoration-color: #008080; font-weight: bold; text-decoration: underline\">https://github.com/saisandeepvaddi/ten-hands</span>\n",
       "</pre>\n"
      ],
      "text/plain": [
       "\u001b[1;36m[\u001b[0m\u001b[1;36m+\u001b[0m\u001b[1;36m]\u001b[0m\u001b[1;36m Found package.json at \u001b[0m\u001b[1;4;36mhttps://github.com/saisandeepvaddi/ten-hands\u001b[0m\n"
      ]
     },
     "metadata": {},
     "output_type": "display_data"
    },
    {
     "data": {
      "text/html": [
       "<pre style=\"white-space:pre;overflow-x:auto;line-height:normal;font-family:Menlo,'DejaVu Sans Mono',consolas,'Courier New',monospace\"><span style=\"color: #008080; text-decoration-color: #008080; font-weight: bold\">[+] Getting </span><span style=\"color: #008080; text-decoration-color: #008080; font-weight: bold; text-decoration: underline\">https://github.com/saisandeepvaddi/ten-hands/blob/main/package.json</span>\n",
       "</pre>\n"
      ],
      "text/plain": [
       "\u001b[1;36m[\u001b[0m\u001b[1;36m+\u001b[0m\u001b[1;36m]\u001b[0m\u001b[1;36m Getting \u001b[0m\u001b[1;4;36mhttps://github.com/saisandeepvaddi/ten-hands/blob/main/package.json\u001b[0m\n"
      ]
     },
     "metadata": {},
     "output_type": "display_data"
    },
    {
     "data": {
      "text/html": [
       "<pre style=\"white-space:pre;overflow-x:auto;line-height:normal;font-family:Menlo,'DejaVu Sans Mono',consolas,'Courier New',monospace\"><span style=\"color: #008080; text-decoration-color: #008080; font-weight: bold\">[+] Getting repo: </span><span style=\"color: #008080; text-decoration-color: #008080; font-weight: bold; text-decoration: underline\">https://github.com/teseve/teseve</span>\n",
       "</pre>\n"
      ],
      "text/plain": [
       "\u001b[1;36m[\u001b[0m\u001b[1;36m+\u001b[0m\u001b[1;36m]\u001b[0m\u001b[1;36m Getting repo: \u001b[0m\u001b[1;4;36mhttps://github.com/teseve/teseve\u001b[0m\n"
      ]
     },
     "metadata": {},
     "output_type": "display_data"
    },
    {
     "data": {
      "text/html": [
       "<pre style=\"white-space:pre;overflow-x:auto;line-height:normal;font-family:Menlo,'DejaVu Sans Mono',consolas,'Courier New',monospace\"><span style=\"color: #008080; text-decoration-color: #008080; font-weight: bold\">[+] Successfully retrieved repo: </span><span style=\"color: #008080; text-decoration-color: #008080; font-weight: bold; text-decoration: underline\">https://github.com/teseve/teseve</span>\n",
       "</pre>\n"
      ],
      "text/plain": [
       "\u001b[1;36m[\u001b[0m\u001b[1;36m+\u001b[0m\u001b[1;36m]\u001b[0m\u001b[1;36m Successfully retrieved repo: \u001b[0m\u001b[1;4;36mhttps://github.com/teseve/teseve\u001b[0m\n"
      ]
     },
     "metadata": {},
     "output_type": "display_data"
    },
    {
     "data": {
      "text/html": [
       "<pre style=\"white-space:pre;overflow-x:auto;line-height:normal;font-family:Menlo,'DejaVu Sans Mono',consolas,'Courier New',monospace\"><span style=\"color: #008080; text-decoration-color: #008080; font-weight: bold\">[+] Found package.json at </span><span style=\"color: #008080; text-decoration-color: #008080; font-weight: bold; text-decoration: underline\">https://github.com/teseve/teseve</span>\n",
       "</pre>\n"
      ],
      "text/plain": [
       "\u001b[1;36m[\u001b[0m\u001b[1;36m+\u001b[0m\u001b[1;36m]\u001b[0m\u001b[1;36m Found package.json at \u001b[0m\u001b[1;4;36mhttps://github.com/teseve/teseve\u001b[0m\n"
      ]
     },
     "metadata": {},
     "output_type": "display_data"
    },
    {
     "data": {
      "text/html": [
       "<pre style=\"white-space:pre;overflow-x:auto;line-height:normal;font-family:Menlo,'DejaVu Sans Mono',consolas,'Courier New',monospace\"><span style=\"color: #008080; text-decoration-color: #008080; font-weight: bold\">[+] Getting </span><span style=\"color: #008080; text-decoration-color: #008080; font-weight: bold; text-decoration: underline\">https://github.com/teseve/teseve/blob/master/package.json</span>\n",
       "</pre>\n"
      ],
      "text/plain": [
       "\u001b[1;36m[\u001b[0m\u001b[1;36m+\u001b[0m\u001b[1;36m]\u001b[0m\u001b[1;36m Getting \u001b[0m\u001b[1;4;36mhttps://github.com/teseve/teseve/blob/master/package.json\u001b[0m\n"
      ]
     },
     "metadata": {},
     "output_type": "display_data"
    },
    {
     "data": {
      "text/html": [
       "<pre style=\"white-space:pre;overflow-x:auto;line-height:normal;font-family:Menlo,'DejaVu Sans Mono',consolas,'Courier New',monospace\"><span style=\"color: #008080; text-decoration-color: #008080; font-weight: bold\">[+] Getting repo: </span><span style=\"color: #008080; text-decoration-color: #008080; font-weight: bold; text-decoration: underline\">https://github.com/TestMace/TestMace-issues</span>\n",
       "</pre>\n"
      ],
      "text/plain": [
       "\u001b[1;36m[\u001b[0m\u001b[1;36m+\u001b[0m\u001b[1;36m]\u001b[0m\u001b[1;36m Getting repo: \u001b[0m\u001b[1;4;36mhttps://github.com/TestMace/TestMace-issues\u001b[0m\n"
      ]
     },
     "metadata": {},
     "output_type": "display_data"
    },
    {
     "data": {
      "text/html": [
       "<pre style=\"white-space:pre;overflow-x:auto;line-height:normal;font-family:Menlo,'DejaVu Sans Mono',consolas,'Courier New',monospace\"><span style=\"color: #008080; text-decoration-color: #008080; font-weight: bold\">[+] Successfully retrieved repo: </span><span style=\"color: #008080; text-decoration-color: #008080; font-weight: bold; text-decoration: underline\">https://github.com/TestMace/TestMace-issues</span>\n",
       "</pre>\n"
      ],
      "text/plain": [
       "\u001b[1;36m[\u001b[0m\u001b[1;36m+\u001b[0m\u001b[1;36m]\u001b[0m\u001b[1;36m Successfully retrieved repo: \u001b[0m\u001b[1;4;36mhttps://github.com/TestMace/TestMace-issues\u001b[0m\n"
      ]
     },
     "metadata": {},
     "output_type": "display_data"
    },
    {
     "data": {
      "text/html": [
       "<pre style=\"white-space:pre;overflow-x:auto;line-height:normal;font-family:Menlo,'DejaVu Sans Mono',consolas,'Courier New',monospace\"><span style=\"color: #ff5f00; text-decoration-color: #ff5f00; font-weight: bold\">[!] Package.json not found at root of </span><span style=\"color: #ff5f00; text-decoration-color: #ff5f00; font-weight: bold; text-decoration: underline\">https://github.com/TestMace/TestMace-issues;</span><span style=\"color: #ff5f00; text-decoration-color: #ff5f00; font-weight: bold\"> trying directories</span>\n",
       "</pre>\n"
      ],
      "text/plain": [
       "\u001b[1;38;5;202m[\u001b[0m\u001b[1;38;5;202m!\u001b[0m\u001b[1;38;5;202m]\u001b[0m\u001b[1;38;5;202m Package.json not found at root of \u001b[0m\u001b[1;4;38;5;202mhttps://github.com/TestMace/TestMace-issues;\u001b[0m\u001b[1;38;5;202m trying directories\u001b[0m\n"
      ]
     },
     "metadata": {},
     "output_type": "display_data"
    },
    {
     "data": {
      "text/html": [
       "<pre style=\"white-space:pre;overflow-x:auto;line-height:normal;font-family:Menlo,'DejaVu Sans Mono',consolas,'Courier New',monospace\"><span style=\"color: #800000; text-decoration-color: #800000; font-weight: bold\">[💀] Could not find package.json in first-level-subdirs</span>\n",
       "</pre>\n"
      ],
      "text/plain": [
       "\u001b[1;31m[\u001b[0m\u001b[1;31m💀\u001b[0m\u001b[1;31m]\u001b[0m\u001b[1;31m Could not find package.json in first-level-subdirs\u001b[0m\n"
      ]
     },
     "metadata": {},
     "output_type": "display_data"
    },
    {
     "data": {
      "text/html": [
       "<pre style=\"white-space:pre;overflow-x:auto;line-height:normal;font-family:Menlo,'DejaVu Sans Mono',consolas,'Courier New',monospace\"><span style=\"color: #008080; text-decoration-color: #008080; font-weight: bold\">[+] Getting repo: </span><span style=\"color: #008080; text-decoration-color: #008080; font-weight: bold; text-decoration: underline\">https://github.com/njbrown/texturelab</span>\n",
       "</pre>\n"
      ],
      "text/plain": [
       "\u001b[1;36m[\u001b[0m\u001b[1;36m+\u001b[0m\u001b[1;36m]\u001b[0m\u001b[1;36m Getting repo: \u001b[0m\u001b[1;4;36mhttps://github.com/njbrown/texturelab\u001b[0m\n"
      ]
     },
     "metadata": {},
     "output_type": "display_data"
    },
    {
     "data": {
      "text/html": [
       "<pre style=\"white-space:pre;overflow-x:auto;line-height:normal;font-family:Menlo,'DejaVu Sans Mono',consolas,'Courier New',monospace\"><span style=\"color: #008080; text-decoration-color: #008080; font-weight: bold\">[+] Successfully retrieved repo: </span><span style=\"color: #008080; text-decoration-color: #008080; font-weight: bold; text-decoration: underline\">https://github.com/njbrown/texturelab</span>\n",
       "</pre>\n"
      ],
      "text/plain": [
       "\u001b[1;36m[\u001b[0m\u001b[1;36m+\u001b[0m\u001b[1;36m]\u001b[0m\u001b[1;36m Successfully retrieved repo: \u001b[0m\u001b[1;4;36mhttps://github.com/njbrown/texturelab\u001b[0m\n"
      ]
     },
     "metadata": {},
     "output_type": "display_data"
    },
    {
     "data": {
      "text/html": [
       "<pre style=\"white-space:pre;overflow-x:auto;line-height:normal;font-family:Menlo,'DejaVu Sans Mono',consolas,'Courier New',monospace\"><span style=\"color: #008080; text-decoration-color: #008080; font-weight: bold\">[+] Found package.json at </span><span style=\"color: #008080; text-decoration-color: #008080; font-weight: bold; text-decoration: underline\">https://github.com/njbrown/texturelab</span>\n",
       "</pre>\n"
      ],
      "text/plain": [
       "\u001b[1;36m[\u001b[0m\u001b[1;36m+\u001b[0m\u001b[1;36m]\u001b[0m\u001b[1;36m Found package.json at \u001b[0m\u001b[1;4;36mhttps://github.com/njbrown/texturelab\u001b[0m\n"
      ]
     },
     "metadata": {},
     "output_type": "display_data"
    },
    {
     "data": {
      "text/html": [
       "<pre style=\"white-space:pre;overflow-x:auto;line-height:normal;font-family:Menlo,'DejaVu Sans Mono',consolas,'Courier New',monospace\"><span style=\"color: #008080; text-decoration-color: #008080; font-weight: bold\">[+] Getting </span><span style=\"color: #008080; text-decoration-color: #008080; font-weight: bold; text-decoration: underline\">https://github.com/njbrown/texturelab/blob/master/package.json</span>\n",
       "</pre>\n"
      ],
      "text/plain": [
       "\u001b[1;36m[\u001b[0m\u001b[1;36m+\u001b[0m\u001b[1;36m]\u001b[0m\u001b[1;36m Getting \u001b[0m\u001b[1;4;36mhttps://github.com/njbrown/texturelab/blob/master/package.json\u001b[0m\n"
      ]
     },
     "metadata": {},
     "output_type": "display_data"
    },
    {
     "data": {
      "text/html": [
       "<pre style=\"white-space:pre;overflow-x:auto;line-height:normal;font-family:Menlo,'DejaVu Sans Mono',consolas,'Courier New',monospace\"><span style=\"color: #008080; text-decoration-color: #008080; font-weight: bold\">[+] Getting repo: </span><span style=\"color: #008080; text-decoration-color: #008080; font-weight: bold; text-decoration: underline\">https://github.com/edrlab/thorium-reader/</span>\n",
       "</pre>\n"
      ],
      "text/plain": [
       "\u001b[1;36m[\u001b[0m\u001b[1;36m+\u001b[0m\u001b[1;36m]\u001b[0m\u001b[1;36m Getting repo: \u001b[0m\u001b[1;4;36mhttps://github.com/edrlab/thorium-reader/\u001b[0m\n"
      ]
     },
     "metadata": {},
     "output_type": "display_data"
    },
    {
     "data": {
      "text/html": [
       "<pre style=\"white-space:pre;overflow-x:auto;line-height:normal;font-family:Menlo,'DejaVu Sans Mono',consolas,'Courier New',monospace\"><span style=\"color: #008080; text-decoration-color: #008080; font-weight: bold\">[+] Successfully retrieved repo: </span><span style=\"color: #008080; text-decoration-color: #008080; font-weight: bold; text-decoration: underline\">https://github.com/edrlab/thorium-reader/</span>\n",
       "</pre>\n"
      ],
      "text/plain": [
       "\u001b[1;36m[\u001b[0m\u001b[1;36m+\u001b[0m\u001b[1;36m]\u001b[0m\u001b[1;36m Successfully retrieved repo: \u001b[0m\u001b[1;4;36mhttps://github.com/edrlab/thorium-reader/\u001b[0m\n"
      ]
     },
     "metadata": {},
     "output_type": "display_data"
    },
    {
     "data": {
      "text/html": [
       "<pre style=\"white-space:pre;overflow-x:auto;line-height:normal;font-family:Menlo,'DejaVu Sans Mono',consolas,'Courier New',monospace\"><span style=\"color: #008080; text-decoration-color: #008080; font-weight: bold\">[+] Found package.json at </span><span style=\"color: #008080; text-decoration-color: #008080; font-weight: bold; text-decoration: underline\">https://github.com/edrlab/thorium-reader/</span>\n",
       "</pre>\n"
      ],
      "text/plain": [
       "\u001b[1;36m[\u001b[0m\u001b[1;36m+\u001b[0m\u001b[1;36m]\u001b[0m\u001b[1;36m Found package.json at \u001b[0m\u001b[1;4;36mhttps://github.com/edrlab/thorium-reader/\u001b[0m\n"
      ]
     },
     "metadata": {},
     "output_type": "display_data"
    },
    {
     "data": {
      "text/html": [
       "<pre style=\"white-space:pre;overflow-x:auto;line-height:normal;font-family:Menlo,'DejaVu Sans Mono',consolas,'Courier New',monospace\"><span style=\"color: #008080; text-decoration-color: #008080; font-weight: bold\">[+] Getting </span><span style=\"color: #008080; text-decoration-color: #008080; font-weight: bold; text-decoration: underline\">https://github.com/edrlab/thorium-reader/blob/develop/package.json</span>\n",
       "</pre>\n"
      ],
      "text/plain": [
       "\u001b[1;36m[\u001b[0m\u001b[1;36m+\u001b[0m\u001b[1;36m]\u001b[0m\u001b[1;36m Getting \u001b[0m\u001b[1;4;36mhttps://github.com/edrlab/thorium-reader/blob/develop/package.json\u001b[0m\n"
      ]
     },
     "metadata": {},
     "output_type": "display_data"
    },
    {
     "data": {
      "text/html": [
       "<pre style=\"white-space:pre;overflow-x:auto;line-height:normal;font-family:Menlo,'DejaVu Sans Mono',consolas,'Courier New',monospace\"><span style=\"color: #008080; text-decoration-color: #008080; font-weight: bold\">[+] Getting repo: </span><span style=\"color: #008080; text-decoration-color: #008080; font-weight: bold; text-decoration: underline\">https://github.com/timeseriesadmin/timeseriesadmin</span>\n",
       "</pre>\n"
      ],
      "text/plain": [
       "\u001b[1;36m[\u001b[0m\u001b[1;36m+\u001b[0m\u001b[1;36m]\u001b[0m\u001b[1;36m Getting repo: \u001b[0m\u001b[1;4;36mhttps://github.com/timeseriesadmin/timeseriesadmin\u001b[0m\n"
      ]
     },
     "metadata": {},
     "output_type": "display_data"
    },
    {
     "data": {
      "text/html": [
       "<pre style=\"white-space:pre;overflow-x:auto;line-height:normal;font-family:Menlo,'DejaVu Sans Mono',consolas,'Courier New',monospace\"><span style=\"color: #008080; text-decoration-color: #008080; font-weight: bold\">[+] Successfully retrieved repo: </span><span style=\"color: #008080; text-decoration-color: #008080; font-weight: bold; text-decoration: underline\">https://github.com/timeseriesadmin/timeseriesadmin</span>\n",
       "</pre>\n"
      ],
      "text/plain": [
       "\u001b[1;36m[\u001b[0m\u001b[1;36m+\u001b[0m\u001b[1;36m]\u001b[0m\u001b[1;36m Successfully retrieved repo: \u001b[0m\u001b[1;4;36mhttps://github.com/timeseriesadmin/timeseriesadmin\u001b[0m\n"
      ]
     },
     "metadata": {},
     "output_type": "display_data"
    },
    {
     "data": {
      "text/html": [
       "<pre style=\"white-space:pre;overflow-x:auto;line-height:normal;font-family:Menlo,'DejaVu Sans Mono',consolas,'Courier New',monospace\"><span style=\"color: #008080; text-decoration-color: #008080; font-weight: bold\">[+] Found package.json at </span><span style=\"color: #008080; text-decoration-color: #008080; font-weight: bold; text-decoration: underline\">https://github.com/timeseriesadmin/timeseriesadmin</span>\n",
       "</pre>\n"
      ],
      "text/plain": [
       "\u001b[1;36m[\u001b[0m\u001b[1;36m+\u001b[0m\u001b[1;36m]\u001b[0m\u001b[1;36m Found package.json at \u001b[0m\u001b[1;4;36mhttps://github.com/timeseriesadmin/timeseriesadmin\u001b[0m\n"
      ]
     },
     "metadata": {},
     "output_type": "display_data"
    },
    {
     "data": {
      "text/html": [
       "<pre style=\"white-space:pre;overflow-x:auto;line-height:normal;font-family:Menlo,'DejaVu Sans Mono',consolas,'Courier New',monospace\"><span style=\"color: #008080; text-decoration-color: #008080; font-weight: bold\">[+] Getting </span><span style=\"color: #008080; text-decoration-color: #008080; font-weight: bold; text-decoration: underline\">https://github.com/timeseriesadmin/timeseriesadmin/blob/master/package.json</span>\n",
       "</pre>\n"
      ],
      "text/plain": [
       "\u001b[1;36m[\u001b[0m\u001b[1;36m+\u001b[0m\u001b[1;36m]\u001b[0m\u001b[1;36m Getting \u001b[0m\u001b[1;4;36mhttps://github.com/timeseriesadmin/timeseriesadmin/blob/master/package.json\u001b[0m\n"
      ]
     },
     "metadata": {},
     "output_type": "display_data"
    },
    {
     "data": {
      "text/html": [
       "<pre style=\"white-space:pre;overflow-x:auto;line-height:normal;font-family:Menlo,'DejaVu Sans Mono',consolas,'Courier New',monospace\"><span style=\"color: #008080; text-decoration-color: #008080; font-weight: bold\">[+] Getting repo: </span><span style=\"color: #008080; text-decoration-color: #008080; font-weight: bold; text-decoration: underline\">https://github.com/luapp/ToDo</span>\n",
       "</pre>\n"
      ],
      "text/plain": [
       "\u001b[1;36m[\u001b[0m\u001b[1;36m+\u001b[0m\u001b[1;36m]\u001b[0m\u001b[1;36m Getting repo: \u001b[0m\u001b[1;4;36mhttps://github.com/luapp/ToDo\u001b[0m\n"
      ]
     },
     "metadata": {},
     "output_type": "display_data"
    },
    {
     "data": {
      "text/html": [
       "<pre style=\"white-space:pre;overflow-x:auto;line-height:normal;font-family:Menlo,'DejaVu Sans Mono',consolas,'Courier New',monospace\"><span style=\"color: #008080; text-decoration-color: #008080; font-weight: bold\">[+] Successfully retrieved repo: </span><span style=\"color: #008080; text-decoration-color: #008080; font-weight: bold; text-decoration: underline\">https://github.com/luapp/ToDo</span>\n",
       "</pre>\n"
      ],
      "text/plain": [
       "\u001b[1;36m[\u001b[0m\u001b[1;36m+\u001b[0m\u001b[1;36m]\u001b[0m\u001b[1;36m Successfully retrieved repo: \u001b[0m\u001b[1;4;36mhttps://github.com/luapp/ToDo\u001b[0m\n"
      ]
     },
     "metadata": {},
     "output_type": "display_data"
    },
    {
     "data": {
      "text/html": [
       "<pre style=\"white-space:pre;overflow-x:auto;line-height:normal;font-family:Menlo,'DejaVu Sans Mono',consolas,'Courier New',monospace\"><span style=\"color: #008080; text-decoration-color: #008080; font-weight: bold\">[+] Found package.json at </span><span style=\"color: #008080; text-decoration-color: #008080; font-weight: bold; text-decoration: underline\">https://github.com/luapp/ToDo</span>\n",
       "</pre>\n"
      ],
      "text/plain": [
       "\u001b[1;36m[\u001b[0m\u001b[1;36m+\u001b[0m\u001b[1;36m]\u001b[0m\u001b[1;36m Found package.json at \u001b[0m\u001b[1;4;36mhttps://github.com/luapp/ToDo\u001b[0m\n"
      ]
     },
     "metadata": {},
     "output_type": "display_data"
    },
    {
     "data": {
      "text/html": [
       "<pre style=\"white-space:pre;overflow-x:auto;line-height:normal;font-family:Menlo,'DejaVu Sans Mono',consolas,'Courier New',monospace\"><span style=\"color: #008080; text-decoration-color: #008080; font-weight: bold\">[+] Getting </span><span style=\"color: #008080; text-decoration-color: #008080; font-weight: bold; text-decoration: underline\">https://github.com/luapp/ToDo/blob/main/package.json</span>\n",
       "</pre>\n"
      ],
      "text/plain": [
       "\u001b[1;36m[\u001b[0m\u001b[1;36m+\u001b[0m\u001b[1;36m]\u001b[0m\u001b[1;36m Getting \u001b[0m\u001b[1;4;36mhttps://github.com/luapp/ToDo/blob/main/package.json\u001b[0m\n"
      ]
     },
     "metadata": {},
     "output_type": "display_data"
    },
    {
     "data": {
      "text/html": [
       "<pre style=\"white-space:pre;overflow-x:auto;line-height:normal;font-family:Menlo,'DejaVu Sans Mono',consolas,'Courier New',monospace\"><span style=\"color: #008080; text-decoration-color: #008080; font-weight: bold\">[+] Getting repo: </span><span style=\"color: #008080; text-decoration-color: #008080; font-weight: bold; text-decoration: underline\">https://github.com/MayGo/tockler</span>\n",
       "</pre>\n"
      ],
      "text/plain": [
       "\u001b[1;36m[\u001b[0m\u001b[1;36m+\u001b[0m\u001b[1;36m]\u001b[0m\u001b[1;36m Getting repo: \u001b[0m\u001b[1;4;36mhttps://github.com/MayGo/tockler\u001b[0m\n"
      ]
     },
     "metadata": {},
     "output_type": "display_data"
    },
    {
     "data": {
      "text/html": [
       "<pre style=\"white-space:pre;overflow-x:auto;line-height:normal;font-family:Menlo,'DejaVu Sans Mono',consolas,'Courier New',monospace\"><span style=\"color: #008080; text-decoration-color: #008080; font-weight: bold\">[+] Successfully retrieved repo: </span><span style=\"color: #008080; text-decoration-color: #008080; font-weight: bold; text-decoration: underline\">https://github.com/MayGo/tockler</span>\n",
       "</pre>\n"
      ],
      "text/plain": [
       "\u001b[1;36m[\u001b[0m\u001b[1;36m+\u001b[0m\u001b[1;36m]\u001b[0m\u001b[1;36m Successfully retrieved repo: \u001b[0m\u001b[1;4;36mhttps://github.com/MayGo/tockler\u001b[0m\n"
      ]
     },
     "metadata": {},
     "output_type": "display_data"
    },
    {
     "data": {
      "text/html": [
       "<pre style=\"white-space:pre;overflow-x:auto;line-height:normal;font-family:Menlo,'DejaVu Sans Mono',consolas,'Courier New',monospace\"><span style=\"color: #008080; text-decoration-color: #008080; font-weight: bold\">[+] Found package.json at </span><span style=\"color: #008080; text-decoration-color: #008080; font-weight: bold; text-decoration: underline\">https://github.com/MayGo/tockler</span>\n",
       "</pre>\n"
      ],
      "text/plain": [
       "\u001b[1;36m[\u001b[0m\u001b[1;36m+\u001b[0m\u001b[1;36m]\u001b[0m\u001b[1;36m Found package.json at \u001b[0m\u001b[1;4;36mhttps://github.com/MayGo/tockler\u001b[0m\n"
      ]
     },
     "metadata": {},
     "output_type": "display_data"
    },
    {
     "data": {
      "text/html": [
       "<pre style=\"white-space:pre;overflow-x:auto;line-height:normal;font-family:Menlo,'DejaVu Sans Mono',consolas,'Courier New',monospace\"><span style=\"color: #008080; text-decoration-color: #008080; font-weight: bold\">[+] Getting </span><span style=\"color: #008080; text-decoration-color: #008080; font-weight: bold; text-decoration: underline\">https://github.com/MayGo/tockler/blob/master/package.json</span>\n",
       "</pre>\n"
      ],
      "text/plain": [
       "\u001b[1;36m[\u001b[0m\u001b[1;36m+\u001b[0m\u001b[1;36m]\u001b[0m\u001b[1;36m Getting \u001b[0m\u001b[1;4;36mhttps://github.com/MayGo/tockler/blob/master/package.json\u001b[0m\n"
      ]
     },
     "metadata": {},
     "output_type": "display_data"
    },
    {
     "data": {
      "text/html": [
       "<pre style=\"white-space:pre;overflow-x:auto;line-height:normal;font-family:Menlo,'DejaVu Sans Mono',consolas,'Courier New',monospace\"><span style=\"color: #008080; text-decoration-color: #008080; font-weight: bold\">[+] Getting repo: </span><span style=\"color: #008080; text-decoration-color: #008080; font-weight: bold; text-decoration: underline\">https://github.com/cassidoo/todometer/</span>\n",
       "</pre>\n"
      ],
      "text/plain": [
       "\u001b[1;36m[\u001b[0m\u001b[1;36m+\u001b[0m\u001b[1;36m]\u001b[0m\u001b[1;36m Getting repo: \u001b[0m\u001b[1;4;36mhttps://github.com/cassidoo/todometer/\u001b[0m\n"
      ]
     },
     "metadata": {},
     "output_type": "display_data"
    },
    {
     "data": {
      "text/html": [
       "<pre style=\"white-space:pre;overflow-x:auto;line-height:normal;font-family:Menlo,'DejaVu Sans Mono',consolas,'Courier New',monospace\"><span style=\"color: #008080; text-decoration-color: #008080; font-weight: bold\">[+] Successfully retrieved repo: </span><span style=\"color: #008080; text-decoration-color: #008080; font-weight: bold; text-decoration: underline\">https://github.com/cassidoo/todometer/</span>\n",
       "</pre>\n"
      ],
      "text/plain": [
       "\u001b[1;36m[\u001b[0m\u001b[1;36m+\u001b[0m\u001b[1;36m]\u001b[0m\u001b[1;36m Successfully retrieved repo: \u001b[0m\u001b[1;4;36mhttps://github.com/cassidoo/todometer/\u001b[0m\n"
      ]
     },
     "metadata": {},
     "output_type": "display_data"
    },
    {
     "data": {
      "text/html": [
       "<pre style=\"white-space:pre;overflow-x:auto;line-height:normal;font-family:Menlo,'DejaVu Sans Mono',consolas,'Courier New',monospace\"><span style=\"color: #008080; text-decoration-color: #008080; font-weight: bold\">[+] Found package.json at </span><span style=\"color: #008080; text-decoration-color: #008080; font-weight: bold; text-decoration: underline\">https://github.com/cassidoo/todometer/</span>\n",
       "</pre>\n"
      ],
      "text/plain": [
       "\u001b[1;36m[\u001b[0m\u001b[1;36m+\u001b[0m\u001b[1;36m]\u001b[0m\u001b[1;36m Found package.json at \u001b[0m\u001b[1;4;36mhttps://github.com/cassidoo/todometer/\u001b[0m\n"
      ]
     },
     "metadata": {},
     "output_type": "display_data"
    },
    {
     "data": {
      "text/html": [
       "<pre style=\"white-space:pre;overflow-x:auto;line-height:normal;font-family:Menlo,'DejaVu Sans Mono',consolas,'Courier New',monospace\"><span style=\"color: #008080; text-decoration-color: #008080; font-weight: bold\">[+] Getting </span><span style=\"color: #008080; text-decoration-color: #008080; font-weight: bold; text-decoration: underline\">https://github.com/cassidoo/todometer/blob/main/package.json</span>\n",
       "</pre>\n"
      ],
      "text/plain": [
       "\u001b[1;36m[\u001b[0m\u001b[1;36m+\u001b[0m\u001b[1;36m]\u001b[0m\u001b[1;36m Getting \u001b[0m\u001b[1;4;36mhttps://github.com/cassidoo/todometer/blob/main/package.json\u001b[0m\n"
      ]
     },
     "metadata": {},
     "output_type": "display_data"
    },
    {
     "data": {
      "text/html": [
       "<pre style=\"white-space:pre;overflow-x:auto;line-height:normal;font-family:Menlo,'DejaVu Sans Mono',consolas,'Courier New',monospace\"><span style=\"color: #008080; text-decoration-color: #008080; font-weight: bold\">[+] Getting repo: </span><span style=\"color: #008080; text-decoration-color: #008080; font-weight: bold; text-decoration: underline\">https://bitbucket.org/speedydemon/electron_top_browser/</span>\n",
       "</pre>\n"
      ],
      "text/plain": [
       "\u001b[1;36m[\u001b[0m\u001b[1;36m+\u001b[0m\u001b[1;36m]\u001b[0m\u001b[1;36m Getting repo: \u001b[0m\u001b[1;4;36mhttps://bitbucket.org/speedydemon/electron_top_browser/\u001b[0m\n"
      ]
     },
     "metadata": {},
     "output_type": "display_data"
    },
    {
     "data": {
      "text/html": [
       "<pre style=\"white-space:pre;overflow-x:auto;line-height:normal;font-family:Menlo,'DejaVu Sans Mono',consolas,'Courier New',monospace\"><span style=\"color: #008080; text-decoration-color: #008080; font-weight: bold\">[+] Successfully retrieved repo: </span><span style=\"color: #008080; text-decoration-color: #008080; font-weight: bold; text-decoration: underline\">https://bitbucket.org/speedydemon/electron_top_browser/</span>\n",
       "</pre>\n"
      ],
      "text/plain": [
       "\u001b[1;36m[\u001b[0m\u001b[1;36m+\u001b[0m\u001b[1;36m]\u001b[0m\u001b[1;36m Successfully retrieved repo: \u001b[0m\u001b[1;4;36mhttps://bitbucket.org/speedydemon/electron_top_browser/\u001b[0m\n"
      ]
     },
     "metadata": {},
     "output_type": "display_data"
    },
    {
     "data": {
      "text/html": [
       "<pre style=\"white-space:pre;overflow-x:auto;line-height:normal;font-family:Menlo,'DejaVu Sans Mono',consolas,'Courier New',monospace\"><span style=\"color: #ff5f00; text-decoration-color: #ff5f00; font-weight: bold\">[!] Package.json not found at root of </span><span style=\"color: #ff5f00; text-decoration-color: #ff5f00; font-weight: bold; text-decoration: underline\">https://bitbucket.org/speedydemon/electron_top_browser/;</span><span style=\"color: #ff5f00; text-decoration-color: #ff5f00; font-weight: bold\"> trying directories</span>\n",
       "</pre>\n"
      ],
      "text/plain": [
       "\u001b[1;38;5;202m[\u001b[0m\u001b[1;38;5;202m!\u001b[0m\u001b[1;38;5;202m]\u001b[0m\u001b[1;38;5;202m Package.json not found at root of \u001b[0m\u001b[1;4;38;5;202mhttps://bitbucket.org/speedydemon/electron_top_browser/;\u001b[0m\u001b[1;38;5;202m trying directories\u001b[0m\n"
      ]
     },
     "metadata": {},
     "output_type": "display_data"
    },
    {
     "data": {
      "text/html": [
       "<pre style=\"white-space:pre;overflow-x:auto;line-height:normal;font-family:Menlo,'DejaVu Sans Mono',consolas,'Courier New',monospace\"><span style=\"color: #800000; text-decoration-color: #800000; font-weight: bold\">[💀] Could not find package.json in first-level-subdirs</span>\n",
       "</pre>\n"
      ],
      "text/plain": [
       "\u001b[1;31m[\u001b[0m\u001b[1;31m💀\u001b[0m\u001b[1;31m]\u001b[0m\u001b[1;31m Could not find package.json in first-level-subdirs\u001b[0m\n"
      ]
     },
     "metadata": {},
     "output_type": "display_data"
    },
    {
     "data": {
      "text/html": [
       "<pre style=\"white-space:pre;overflow-x:auto;line-height:normal;font-family:Menlo,'DejaVu Sans Mono',consolas,'Courier New',monospace\"><span style=\"color: #008080; text-decoration-color: #008080; font-weight: bold\">[+] Getting repo: </span><span style=\"color: #008080; text-decoration-color: #008080; font-weight: bold; text-decoration: underline\">https://github.com/Trackabi/desktop-time-tracking</span>\n",
       "</pre>\n"
      ],
      "text/plain": [
       "\u001b[1;36m[\u001b[0m\u001b[1;36m+\u001b[0m\u001b[1;36m]\u001b[0m\u001b[1;36m Getting repo: \u001b[0m\u001b[1;4;36mhttps://github.com/Trackabi/desktop-time-tracking\u001b[0m\n"
      ]
     },
     "metadata": {},
     "output_type": "display_data"
    },
    {
     "data": {
      "text/html": [
       "<pre style=\"white-space:pre;overflow-x:auto;line-height:normal;font-family:Menlo,'DejaVu Sans Mono',consolas,'Courier New',monospace\"><span style=\"color: #008080; text-decoration-color: #008080; font-weight: bold\">[+] Successfully retrieved repo: </span><span style=\"color: #008080; text-decoration-color: #008080; font-weight: bold; text-decoration: underline\">https://github.com/Trackabi/desktop-time-tracking</span>\n",
       "</pre>\n"
      ],
      "text/plain": [
       "\u001b[1;36m[\u001b[0m\u001b[1;36m+\u001b[0m\u001b[1;36m]\u001b[0m\u001b[1;36m Successfully retrieved repo: \u001b[0m\u001b[1;4;36mhttps://github.com/Trackabi/desktop-time-tracking\u001b[0m\n"
      ]
     },
     "metadata": {},
     "output_type": "display_data"
    },
    {
     "data": {
      "text/html": [
       "<pre style=\"white-space:pre;overflow-x:auto;line-height:normal;font-family:Menlo,'DejaVu Sans Mono',consolas,'Courier New',monospace\"><span style=\"color: #ff5f00; text-decoration-color: #ff5f00; font-weight: bold\">[!] Package.json not found at root of </span><span style=\"color: #ff5f00; text-decoration-color: #ff5f00; font-weight: bold; text-decoration: underline\">https://github.com/Trackabi/desktop-time-tracking;</span><span style=\"color: #ff5f00; text-decoration-color: #ff5f00; font-weight: bold\"> trying directories</span>\n",
       "</pre>\n"
      ],
      "text/plain": [
       "\u001b[1;38;5;202m[\u001b[0m\u001b[1;38;5;202m!\u001b[0m\u001b[1;38;5;202m]\u001b[0m\u001b[1;38;5;202m Package.json not found at root of \u001b[0m\u001b[1;4;38;5;202mhttps://github.com/Trackabi/desktop-time-tracking;\u001b[0m\u001b[1;38;5;202m trying directories\u001b[0m\n"
      ]
     },
     "metadata": {},
     "output_type": "display_data"
    },
    {
     "data": {
      "text/html": [
       "<pre style=\"white-space:pre;overflow-x:auto;line-height:normal;font-family:Menlo,'DejaVu Sans Mono',consolas,'Courier New',monospace\"><span style=\"color: #008080; text-decoration-color: #008080; font-weight: bold\">[+] Trying </span><span style=\"color: #008080; text-decoration-color: #008080; font-weight: bold; text-decoration: underline\">https://github.com/Trackabi/desktop-time-tracking/tree/main/images</span>\n",
       "</pre>\n"
      ],
      "text/plain": [
       "\u001b[1;36m[\u001b[0m\u001b[1;36m+\u001b[0m\u001b[1;36m]\u001b[0m\u001b[1;36m Trying \u001b[0m\u001b[1;4;36mhttps://github.com/Trackabi/desktop-time-tracking/tree/main/images\u001b[0m\n"
      ]
     },
     "metadata": {},
     "output_type": "display_data"
    },
    {
     "data": {
      "text/html": [
       "<pre style=\"white-space:pre;overflow-x:auto;line-height:normal;font-family:Menlo,'DejaVu Sans Mono',consolas,'Courier New',monospace\"><span style=\"color: #800000; text-decoration-color: #800000; font-weight: bold\">[💀] Could not find package.json in first-level-subdirs</span>\n",
       "</pre>\n"
      ],
      "text/plain": [
       "\u001b[1;31m[\u001b[0m\u001b[1;31m💀\u001b[0m\u001b[1;31m]\u001b[0m\u001b[1;31m Could not find package.json in first-level-subdirs\u001b[0m\n"
      ]
     },
     "metadata": {},
     "output_type": "display_data"
    },
    {
     "data": {
      "text/html": [
       "<pre style=\"white-space:pre;overflow-x:auto;line-height:normal;font-family:Menlo,'DejaVu Sans Mono',consolas,'Courier New',monospace\"><span style=\"color: #008080; text-decoration-color: #008080; font-weight: bold\">[+] Getting repo: </span><span style=\"color: #008080; text-decoration-color: #008080; font-weight: bold; text-decoration: underline\">https://github.com/alessioforte/transee</span>\n",
       "</pre>\n"
      ],
      "text/plain": [
       "\u001b[1;36m[\u001b[0m\u001b[1;36m+\u001b[0m\u001b[1;36m]\u001b[0m\u001b[1;36m Getting repo: \u001b[0m\u001b[1;4;36mhttps://github.com/alessioforte/transee\u001b[0m\n"
      ]
     },
     "metadata": {},
     "output_type": "display_data"
    },
    {
     "data": {
      "text/html": [
       "<pre style=\"white-space:pre;overflow-x:auto;line-height:normal;font-family:Menlo,'DejaVu Sans Mono',consolas,'Courier New',monospace\"><span style=\"color: #008080; text-decoration-color: #008080; font-weight: bold\">[+] Successfully retrieved repo: </span><span style=\"color: #008080; text-decoration-color: #008080; font-weight: bold; text-decoration: underline\">https://github.com/alessioforte/transee</span>\n",
       "</pre>\n"
      ],
      "text/plain": [
       "\u001b[1;36m[\u001b[0m\u001b[1;36m+\u001b[0m\u001b[1;36m]\u001b[0m\u001b[1;36m Successfully retrieved repo: \u001b[0m\u001b[1;4;36mhttps://github.com/alessioforte/transee\u001b[0m\n"
      ]
     },
     "metadata": {},
     "output_type": "display_data"
    },
    {
     "data": {
      "text/html": [
       "<pre style=\"white-space:pre;overflow-x:auto;line-height:normal;font-family:Menlo,'DejaVu Sans Mono',consolas,'Courier New',monospace\"><span style=\"color: #008080; text-decoration-color: #008080; font-weight: bold\">[+] Found package.json at </span><span style=\"color: #008080; text-decoration-color: #008080; font-weight: bold; text-decoration: underline\">https://github.com/alessioforte/transee</span>\n",
       "</pre>\n"
      ],
      "text/plain": [
       "\u001b[1;36m[\u001b[0m\u001b[1;36m+\u001b[0m\u001b[1;36m]\u001b[0m\u001b[1;36m Found package.json at \u001b[0m\u001b[1;4;36mhttps://github.com/alessioforte/transee\u001b[0m\n"
      ]
     },
     "metadata": {},
     "output_type": "display_data"
    },
    {
     "data": {
      "text/html": [
       "<pre style=\"white-space:pre;overflow-x:auto;line-height:normal;font-family:Menlo,'DejaVu Sans Mono',consolas,'Courier New',monospace\"><span style=\"color: #008080; text-decoration-color: #008080; font-weight: bold\">[+] Getting </span><span style=\"color: #008080; text-decoration-color: #008080; font-weight: bold; text-decoration: underline\">https://github.com/alessioforte/transee/blob/main/package.json</span>\n",
       "</pre>\n"
      ],
      "text/plain": [
       "\u001b[1;36m[\u001b[0m\u001b[1;36m+\u001b[0m\u001b[1;36m]\u001b[0m\u001b[1;36m Getting \u001b[0m\u001b[1;4;36mhttps://github.com/alessioforte/transee/blob/main/package.json\u001b[0m\n"
      ]
     },
     "metadata": {},
     "output_type": "display_data"
    },
    {
     "data": {
      "text/html": [
       "<pre style=\"white-space:pre;overflow-x:auto;line-height:normal;font-family:Menlo,'DejaVu Sans Mono',consolas,'Courier New',monospace\"><span style=\"color: #008080; text-decoration-color: #008080; font-weight: bold\">[+] Getting repo: </span><span style=\"color: #008080; text-decoration-color: #008080; font-weight: bold; text-decoration: underline\">https://bitbucket.org/bflower/react-intl-editor</span>\n",
       "</pre>\n"
      ],
      "text/plain": [
       "\u001b[1;36m[\u001b[0m\u001b[1;36m+\u001b[0m\u001b[1;36m]\u001b[0m\u001b[1;36m Getting repo: \u001b[0m\u001b[1;4;36mhttps://bitbucket.org/bflower/react-intl-editor\u001b[0m\n"
      ]
     },
     "metadata": {},
     "output_type": "display_data"
    },
    {
     "data": {
      "text/html": [
       "<pre style=\"white-space:pre;overflow-x:auto;line-height:normal;font-family:Menlo,'DejaVu Sans Mono',consolas,'Courier New',monospace\"><span style=\"color: #008080; text-decoration-color: #008080; font-weight: bold\">[+] Successfully retrieved repo: </span><span style=\"color: #008080; text-decoration-color: #008080; font-weight: bold; text-decoration: underline\">https://bitbucket.org/bflower/react-intl-editor</span>\n",
       "</pre>\n"
      ],
      "text/plain": [
       "\u001b[1;36m[\u001b[0m\u001b[1;36m+\u001b[0m\u001b[1;36m]\u001b[0m\u001b[1;36m Successfully retrieved repo: \u001b[0m\u001b[1;4;36mhttps://bitbucket.org/bflower/react-intl-editor\u001b[0m\n"
      ]
     },
     "metadata": {},
     "output_type": "display_data"
    },
    {
     "data": {
      "text/html": [
       "<pre style=\"white-space:pre;overflow-x:auto;line-height:normal;font-family:Menlo,'DejaVu Sans Mono',consolas,'Courier New',monospace\"><span style=\"color: #ff5f00; text-decoration-color: #ff5f00; font-weight: bold\">[!] Package.json not found at root of </span><span style=\"color: #ff5f00; text-decoration-color: #ff5f00; font-weight: bold; text-decoration: underline\">https://bitbucket.org/bflower/react-intl-editor;</span><span style=\"color: #ff5f00; text-decoration-color: #ff5f00; font-weight: bold\"> trying directories</span>\n",
       "</pre>\n"
      ],
      "text/plain": [
       "\u001b[1;38;5;202m[\u001b[0m\u001b[1;38;5;202m!\u001b[0m\u001b[1;38;5;202m]\u001b[0m\u001b[1;38;5;202m Package.json not found at root of \u001b[0m\u001b[1;4;38;5;202mhttps://bitbucket.org/bflower/react-intl-editor;\u001b[0m\u001b[1;38;5;202m trying directories\u001b[0m\n"
      ]
     },
     "metadata": {},
     "output_type": "display_data"
    },
    {
     "data": {
      "text/html": [
       "<pre style=\"white-space:pre;overflow-x:auto;line-height:normal;font-family:Menlo,'DejaVu Sans Mono',consolas,'Courier New',monospace\"><span style=\"color: #800000; text-decoration-color: #800000; font-weight: bold\">[💀] Could not find package.json in first-level-subdirs</span>\n",
       "</pre>\n"
      ],
      "text/plain": [
       "\u001b[1;31m[\u001b[0m\u001b[1;31m💀\u001b[0m\u001b[1;31m]\u001b[0m\u001b[1;31m Could not find package.json in first-level-subdirs\u001b[0m\n"
      ]
     },
     "metadata": {},
     "output_type": "display_data"
    },
    {
     "data": {
      "text/html": [
       "<pre style=\"white-space:pre;overflow-x:auto;line-height:normal;font-family:Menlo,'DejaVu Sans Mono',consolas,'Courier New',monospace\"><span style=\"color: #008080; text-decoration-color: #008080; font-weight: bold\">[+] Getting repo: </span><span style=\"color: #008080; text-decoration-color: #008080; font-weight: bold; text-decoration: underline\">https://github.com/webcatalog/translatium-desktop</span>\n",
       "</pre>\n"
      ],
      "text/plain": [
       "\u001b[1;36m[\u001b[0m\u001b[1;36m+\u001b[0m\u001b[1;36m]\u001b[0m\u001b[1;36m Getting repo: \u001b[0m\u001b[1;4;36mhttps://github.com/webcatalog/translatium-desktop\u001b[0m\n"
      ]
     },
     "metadata": {},
     "output_type": "display_data"
    },
    {
     "data": {
      "text/html": [
       "<pre style=\"white-space:pre;overflow-x:auto;line-height:normal;font-family:Menlo,'DejaVu Sans Mono',consolas,'Courier New',monospace\"><span style=\"color: #008080; text-decoration-color: #008080; font-weight: bold\">[+] Successfully retrieved repo: </span><span style=\"color: #008080; text-decoration-color: #008080; font-weight: bold; text-decoration: underline\">https://github.com/webcatalog/translatium-desktop</span>\n",
       "</pre>\n"
      ],
      "text/plain": [
       "\u001b[1;36m[\u001b[0m\u001b[1;36m+\u001b[0m\u001b[1;36m]\u001b[0m\u001b[1;36m Successfully retrieved repo: \u001b[0m\u001b[1;4;36mhttps://github.com/webcatalog/translatium-desktop\u001b[0m\n"
      ]
     },
     "metadata": {},
     "output_type": "display_data"
    },
    {
     "data": {
      "text/html": [
       "<pre style=\"white-space:pre;overflow-x:auto;line-height:normal;font-family:Menlo,'DejaVu Sans Mono',consolas,'Courier New',monospace\"><span style=\"color: #008080; text-decoration-color: #008080; font-weight: bold\">[+] Found package.json at </span><span style=\"color: #008080; text-decoration-color: #008080; font-weight: bold; text-decoration: underline\">https://github.com/webcatalog/translatium-desktop</span>\n",
       "</pre>\n"
      ],
      "text/plain": [
       "\u001b[1;36m[\u001b[0m\u001b[1;36m+\u001b[0m\u001b[1;36m]\u001b[0m\u001b[1;36m Found package.json at \u001b[0m\u001b[1;4;36mhttps://github.com/webcatalog/translatium-desktop\u001b[0m\n"
      ]
     },
     "metadata": {},
     "output_type": "display_data"
    },
    {
     "data": {
      "text/html": [
       "<pre style=\"white-space:pre;overflow-x:auto;line-height:normal;font-family:Menlo,'DejaVu Sans Mono',consolas,'Courier New',monospace\"><span style=\"color: #008080; text-decoration-color: #008080; font-weight: bold\">[+] Getting </span><span style=\"color: #008080; text-decoration-color: #008080; font-weight: bold; text-decoration: underline\">https://github.com/webcatalog/translatium-legacy/blob/master/package.json</span>\n",
       "</pre>\n"
      ],
      "text/plain": [
       "\u001b[1;36m[\u001b[0m\u001b[1;36m+\u001b[0m\u001b[1;36m]\u001b[0m\u001b[1;36m Getting \u001b[0m\u001b[1;4;36mhttps://github.com/webcatalog/translatium-legacy/blob/master/package.json\u001b[0m\n"
      ]
     },
     "metadata": {},
     "output_type": "display_data"
    },
    {
     "data": {
      "text/html": [
       "<pre style=\"white-space:pre;overflow-x:auto;line-height:normal;font-family:Menlo,'DejaVu Sans Mono',consolas,'Courier New',monospace\"><span style=\"color: #008080; text-decoration-color: #008080; font-weight: bold\">[+] Getting repo: </span><span style=\"color: #008080; text-decoration-color: #008080; font-weight: bold; text-decoration: underline\">https://github.com/tropy/tropy/</span>\n",
       "</pre>\n"
      ],
      "text/plain": [
       "\u001b[1;36m[\u001b[0m\u001b[1;36m+\u001b[0m\u001b[1;36m]\u001b[0m\u001b[1;36m Getting repo: \u001b[0m\u001b[1;4;36mhttps://github.com/tropy/tropy/\u001b[0m\n"
      ]
     },
     "metadata": {},
     "output_type": "display_data"
    },
    {
     "data": {
      "text/html": [
       "<pre style=\"white-space:pre;overflow-x:auto;line-height:normal;font-family:Menlo,'DejaVu Sans Mono',consolas,'Courier New',monospace\"><span style=\"color: #008080; text-decoration-color: #008080; font-weight: bold\">[+] Successfully retrieved repo: </span><span style=\"color: #008080; text-decoration-color: #008080; font-weight: bold; text-decoration: underline\">https://github.com/tropy/tropy/</span>\n",
       "</pre>\n"
      ],
      "text/plain": [
       "\u001b[1;36m[\u001b[0m\u001b[1;36m+\u001b[0m\u001b[1;36m]\u001b[0m\u001b[1;36m Successfully retrieved repo: \u001b[0m\u001b[1;4;36mhttps://github.com/tropy/tropy/\u001b[0m\n"
      ]
     },
     "metadata": {},
     "output_type": "display_data"
    },
    {
     "data": {
      "text/html": [
       "<pre style=\"white-space:pre;overflow-x:auto;line-height:normal;font-family:Menlo,'DejaVu Sans Mono',consolas,'Courier New',monospace\"><span style=\"color: #008080; text-decoration-color: #008080; font-weight: bold\">[+] Found package.json at </span><span style=\"color: #008080; text-decoration-color: #008080; font-weight: bold; text-decoration: underline\">https://github.com/tropy/tropy/</span>\n",
       "</pre>\n"
      ],
      "text/plain": [
       "\u001b[1;36m[\u001b[0m\u001b[1;36m+\u001b[0m\u001b[1;36m]\u001b[0m\u001b[1;36m Found package.json at \u001b[0m\u001b[1;4;36mhttps://github.com/tropy/tropy/\u001b[0m\n"
      ]
     },
     "metadata": {},
     "output_type": "display_data"
    },
    {
     "data": {
      "text/html": [
       "<pre style=\"white-space:pre;overflow-x:auto;line-height:normal;font-family:Menlo,'DejaVu Sans Mono',consolas,'Courier New',monospace\"><span style=\"color: #008080; text-decoration-color: #008080; font-weight: bold\">[+] Getting </span><span style=\"color: #008080; text-decoration-color: #008080; font-weight: bold; text-decoration: underline\">https://github.com/tropy/tropy/blob/main/package.json</span>\n",
       "</pre>\n"
      ],
      "text/plain": [
       "\u001b[1;36m[\u001b[0m\u001b[1;36m+\u001b[0m\u001b[1;36m]\u001b[0m\u001b[1;36m Getting \u001b[0m\u001b[1;4;36mhttps://github.com/tropy/tropy/blob/main/package.json\u001b[0m\n"
      ]
     },
     "metadata": {},
     "output_type": "display_data"
    },
    {
     "data": {
      "text/html": [
       "<pre style=\"white-space:pre;overflow-x:auto;line-height:normal;font-family:Menlo,'DejaVu Sans Mono',consolas,'Courier New',monospace\"><span style=\"color: #008080; text-decoration-color: #008080; font-weight: bold\">[+] Getting repo: </span><span style=\"color: #008080; text-decoration-color: #008080; font-weight: bold; text-decoration: underline\">https://github.com/thephucit/tunlookup</span>\n",
       "</pre>\n"
      ],
      "text/plain": [
       "\u001b[1;36m[\u001b[0m\u001b[1;36m+\u001b[0m\u001b[1;36m]\u001b[0m\u001b[1;36m Getting repo: \u001b[0m\u001b[1;4;36mhttps://github.com/thephucit/tunlookup\u001b[0m\n"
      ]
     },
     "metadata": {},
     "output_type": "display_data"
    },
    {
     "data": {
      "text/html": [
       "<pre style=\"white-space:pre;overflow-x:auto;line-height:normal;font-family:Menlo,'DejaVu Sans Mono',consolas,'Courier New',monospace\"><span style=\"color: #008080; text-decoration-color: #008080; font-weight: bold\">[+] Successfully retrieved repo: </span><span style=\"color: #008080; text-decoration-color: #008080; font-weight: bold; text-decoration: underline\">https://github.com/thephucit/tunlookup</span>\n",
       "</pre>\n"
      ],
      "text/plain": [
       "\u001b[1;36m[\u001b[0m\u001b[1;36m+\u001b[0m\u001b[1;36m]\u001b[0m\u001b[1;36m Successfully retrieved repo: \u001b[0m\u001b[1;4;36mhttps://github.com/thephucit/tunlookup\u001b[0m\n"
      ]
     },
     "metadata": {},
     "output_type": "display_data"
    },
    {
     "data": {
      "text/html": [
       "<pre style=\"white-space:pre;overflow-x:auto;line-height:normal;font-family:Menlo,'DejaVu Sans Mono',consolas,'Courier New',monospace\"><span style=\"color: #ff5f00; text-decoration-color: #ff5f00; font-weight: bold\">[!] Package.json not found at root of </span><span style=\"color: #ff5f00; text-decoration-color: #ff5f00; font-weight: bold; text-decoration: underline\">https://github.com/thephucit/tunlookup;</span><span style=\"color: #ff5f00; text-decoration-color: #ff5f00; font-weight: bold\"> trying directories</span>\n",
       "</pre>\n"
      ],
      "text/plain": [
       "\u001b[1;38;5;202m[\u001b[0m\u001b[1;38;5;202m!\u001b[0m\u001b[1;38;5;202m]\u001b[0m\u001b[1;38;5;202m Package.json not found at root of \u001b[0m\u001b[1;4;38;5;202mhttps://github.com/thephucit/tunlookup;\u001b[0m\u001b[1;38;5;202m trying directories\u001b[0m\n"
      ]
     },
     "metadata": {},
     "output_type": "display_data"
    },
    {
     "data": {
      "text/html": [
       "<pre style=\"white-space:pre;overflow-x:auto;line-height:normal;font-family:Menlo,'DejaVu Sans Mono',consolas,'Courier New',monospace\"><span style=\"color: #008080; text-decoration-color: #008080; font-weight: bold\">[+] Trying </span><span style=\"color: #008080; text-decoration-color: #008080; font-weight: bold; text-decoration: underline\">https://github.com/thephucit/tunlookup/tree/master/.github/workflows</span>\n",
       "</pre>\n"
      ],
      "text/plain": [
       "\u001b[1;36m[\u001b[0m\u001b[1;36m+\u001b[0m\u001b[1;36m]\u001b[0m\u001b[1;36m Trying \u001b[0m\u001b[1;4;36mhttps://github.com/thephucit/tunlookup/tree/master/.github/workflows\u001b[0m\n"
      ]
     },
     "metadata": {},
     "output_type": "display_data"
    },
    {
     "data": {
      "text/html": [
       "<pre style=\"white-space:pre;overflow-x:auto;line-height:normal;font-family:Menlo,'DejaVu Sans Mono',consolas,'Courier New',monospace\"><span style=\"color: #008080; text-decoration-color: #008080; font-weight: bold\">[+] Trying </span><span style=\"color: #008080; text-decoration-color: #008080; font-weight: bold; text-decoration: underline\">https://github.com/thephucit/tunlookup/tree/master/css</span>\n",
       "</pre>\n"
      ],
      "text/plain": [
       "\u001b[1;36m[\u001b[0m\u001b[1;36m+\u001b[0m\u001b[1;36m]\u001b[0m\u001b[1;36m Trying \u001b[0m\u001b[1;4;36mhttps://github.com/thephucit/tunlookup/tree/master/css\u001b[0m\n"
      ]
     },
     "metadata": {},
     "output_type": "display_data"
    },
    {
     "data": {
      "text/html": [
       "<pre style=\"white-space:pre;overflow-x:auto;line-height:normal;font-family:Menlo,'DejaVu Sans Mono',consolas,'Courier New',monospace\"><span style=\"color: #008080; text-decoration-color: #008080; font-weight: bold\">[+] Trying </span><span style=\"color: #008080; text-decoration-color: #008080; font-weight: bold; text-decoration: underline\">https://github.com/thephucit/tunlookup/tree/master/images</span>\n",
       "</pre>\n"
      ],
      "text/plain": [
       "\u001b[1;36m[\u001b[0m\u001b[1;36m+\u001b[0m\u001b[1;36m]\u001b[0m\u001b[1;36m Trying \u001b[0m\u001b[1;4;36mhttps://github.com/thephucit/tunlookup/tree/master/images\u001b[0m\n"
      ]
     },
     "metadata": {},
     "output_type": "display_data"
    },
    {
     "data": {
      "text/html": [
       "<pre style=\"white-space:pre;overflow-x:auto;line-height:normal;font-family:Menlo,'DejaVu Sans Mono',consolas,'Courier New',monospace\"><span style=\"color: #008080; text-decoration-color: #008080; font-weight: bold\">[+] Trying </span><span style=\"color: #008080; text-decoration-color: #008080; font-weight: bold; text-decoration: underline\">https://github.com/thephucit/tunlookup/tree/master/js</span>\n",
       "</pre>\n"
      ],
      "text/plain": [
       "\u001b[1;36m[\u001b[0m\u001b[1;36m+\u001b[0m\u001b[1;36m]\u001b[0m\u001b[1;36m Trying \u001b[0m\u001b[1;4;36mhttps://github.com/thephucit/tunlookup/tree/master/js\u001b[0m\n"
      ]
     },
     "metadata": {},
     "output_type": "display_data"
    },
    {
     "data": {
      "text/html": [
       "<pre style=\"white-space:pre;overflow-x:auto;line-height:normal;font-family:Menlo,'DejaVu Sans Mono',consolas,'Courier New',monospace\"><span style=\"color: #008080; text-decoration-color: #008080; font-weight: bold\">[+] Trying </span><span style=\"color: #008080; text-decoration-color: #008080; font-weight: bold; text-decoration: underline\">https://github.com/thephucit/tunlookup/tree/master/resource</span>\n",
       "</pre>\n"
      ],
      "text/plain": [
       "\u001b[1;36m[\u001b[0m\u001b[1;36m+\u001b[0m\u001b[1;36m]\u001b[0m\u001b[1;36m Trying \u001b[0m\u001b[1;4;36mhttps://github.com/thephucit/tunlookup/tree/master/resource\u001b[0m\n"
      ]
     },
     "metadata": {},
     "output_type": "display_data"
    },
    {
     "data": {
      "text/html": [
       "<pre style=\"white-space:pre;overflow-x:auto;line-height:normal;font-family:Menlo,'DejaVu Sans Mono',consolas,'Courier New',monospace\"><span style=\"color: #800000; text-decoration-color: #800000; font-weight: bold\">[💀] Could not find package.json in first-level-subdirs</span>\n",
       "</pre>\n"
      ],
      "text/plain": [
       "\u001b[1;31m[\u001b[0m\u001b[1;31m💀\u001b[0m\u001b[1;31m]\u001b[0m\u001b[1;31m Could not find package.json in first-level-subdirs\u001b[0m\n"
      ]
     },
     "metadata": {},
     "output_type": "display_data"
    },
    {
     "data": {
      "text/html": [
       "<pre style=\"white-space:pre;overflow-x:auto;line-height:normal;font-family:Menlo,'DejaVu Sans Mono',consolas,'Courier New',monospace\"><span style=\"color: #008080; text-decoration-color: #008080; font-weight: bold\">[+] Getting repo: </span><span style=\"color: #008080; text-decoration-color: #008080; font-weight: bold; text-decoration: underline\">https://github.com/klaussinani/tusk</span>\n",
       "</pre>\n"
      ],
      "text/plain": [
       "\u001b[1;36m[\u001b[0m\u001b[1;36m+\u001b[0m\u001b[1;36m]\u001b[0m\u001b[1;36m Getting repo: \u001b[0m\u001b[1;4;36mhttps://github.com/klaussinani/tusk\u001b[0m\n"
      ]
     },
     "metadata": {},
     "output_type": "display_data"
    },
    {
     "data": {
      "text/html": [
       "<pre style=\"white-space:pre;overflow-x:auto;line-height:normal;font-family:Menlo,'DejaVu Sans Mono',consolas,'Courier New',monospace\"><span style=\"color: #008080; text-decoration-color: #008080; font-weight: bold\">[+] Successfully retrieved repo: </span><span style=\"color: #008080; text-decoration-color: #008080; font-weight: bold; text-decoration: underline\">https://github.com/klaussinani/tusk</span>\n",
       "</pre>\n"
      ],
      "text/plain": [
       "\u001b[1;36m[\u001b[0m\u001b[1;36m+\u001b[0m\u001b[1;36m]\u001b[0m\u001b[1;36m Successfully retrieved repo: \u001b[0m\u001b[1;4;36mhttps://github.com/klaussinani/tusk\u001b[0m\n"
      ]
     },
     "metadata": {},
     "output_type": "display_data"
    },
    {
     "data": {
      "text/html": [
       "<pre style=\"white-space:pre;overflow-x:auto;line-height:normal;font-family:Menlo,'DejaVu Sans Mono',consolas,'Courier New',monospace\"><span style=\"color: #008080; text-decoration-color: #008080; font-weight: bold\">[+] Found package.json at </span><span style=\"color: #008080; text-decoration-color: #008080; font-weight: bold; text-decoration: underline\">https://github.com/klaussinani/tusk</span>\n",
       "</pre>\n"
      ],
      "text/plain": [
       "\u001b[1;36m[\u001b[0m\u001b[1;36m+\u001b[0m\u001b[1;36m]\u001b[0m\u001b[1;36m Found package.json at \u001b[0m\u001b[1;4;36mhttps://github.com/klaussinani/tusk\u001b[0m\n"
      ]
     },
     "metadata": {},
     "output_type": "display_data"
    },
    {
     "data": {
      "text/html": [
       "<pre style=\"white-space:pre;overflow-x:auto;line-height:normal;font-family:Menlo,'DejaVu Sans Mono',consolas,'Courier New',monospace\"><span style=\"color: #008080; text-decoration-color: #008080; font-weight: bold\">[+] Getting </span><span style=\"color: #008080; text-decoration-color: #008080; font-weight: bold; text-decoration: underline\">https://github.com/klaudiosinani/tusk/blob/master/package.json</span>\n",
       "</pre>\n"
      ],
      "text/plain": [
       "\u001b[1;36m[\u001b[0m\u001b[1;36m+\u001b[0m\u001b[1;36m]\u001b[0m\u001b[1;36m Getting \u001b[0m\u001b[1;4;36mhttps://github.com/klaudiosinani/tusk/blob/master/package.json\u001b[0m\n"
      ]
     },
     "metadata": {},
     "output_type": "display_data"
    },
    {
     "data": {
      "text/html": [
       "<pre style=\"white-space:pre;overflow-x:auto;line-height:normal;font-family:Menlo,'DejaVu Sans Mono',consolas,'Courier New',monospace\"><span style=\"color: #008080; text-decoration-color: #008080; font-weight: bold\">[+] Getting repo: </span><span style=\"color: #008080; text-decoration-color: #008080; font-weight: bold; text-decoration: underline\">https://github.com/xanderfrangos/twinkle-tray</span>\n",
       "</pre>\n"
      ],
      "text/plain": [
       "\u001b[1;36m[\u001b[0m\u001b[1;36m+\u001b[0m\u001b[1;36m]\u001b[0m\u001b[1;36m Getting repo: \u001b[0m\u001b[1;4;36mhttps://github.com/xanderfrangos/twinkle-tray\u001b[0m\n"
      ]
     },
     "metadata": {},
     "output_type": "display_data"
    },
    {
     "data": {
      "text/html": [
       "<pre style=\"white-space:pre;overflow-x:auto;line-height:normal;font-family:Menlo,'DejaVu Sans Mono',consolas,'Courier New',monospace\"><span style=\"color: #008080; text-decoration-color: #008080; font-weight: bold\">[+] Successfully retrieved repo: </span><span style=\"color: #008080; text-decoration-color: #008080; font-weight: bold; text-decoration: underline\">https://github.com/xanderfrangos/twinkle-tray</span>\n",
       "</pre>\n"
      ],
      "text/plain": [
       "\u001b[1;36m[\u001b[0m\u001b[1;36m+\u001b[0m\u001b[1;36m]\u001b[0m\u001b[1;36m Successfully retrieved repo: \u001b[0m\u001b[1;4;36mhttps://github.com/xanderfrangos/twinkle-tray\u001b[0m\n"
      ]
     },
     "metadata": {},
     "output_type": "display_data"
    },
    {
     "data": {
      "text/html": [
       "<pre style=\"white-space:pre;overflow-x:auto;line-height:normal;font-family:Menlo,'DejaVu Sans Mono',consolas,'Courier New',monospace\"><span style=\"color: #008080; text-decoration-color: #008080; font-weight: bold\">[+] Found package.json at </span><span style=\"color: #008080; text-decoration-color: #008080; font-weight: bold; text-decoration: underline\">https://github.com/xanderfrangos/twinkle-tray</span>\n",
       "</pre>\n"
      ],
      "text/plain": [
       "\u001b[1;36m[\u001b[0m\u001b[1;36m+\u001b[0m\u001b[1;36m]\u001b[0m\u001b[1;36m Found package.json at \u001b[0m\u001b[1;4;36mhttps://github.com/xanderfrangos/twinkle-tray\u001b[0m\n"
      ]
     },
     "metadata": {},
     "output_type": "display_data"
    },
    {
     "data": {
      "text/html": [
       "<pre style=\"white-space:pre;overflow-x:auto;line-height:normal;font-family:Menlo,'DejaVu Sans Mono',consolas,'Courier New',monospace\"><span style=\"color: #008080; text-decoration-color: #008080; font-weight: bold\">[+] Getting </span><span style=\"color: #008080; text-decoration-color: #008080; font-weight: bold; text-decoration: underline\">https://github.com/xanderfrangos/twinkle-tray/blob/master/package.json</span>\n",
       "</pre>\n"
      ],
      "text/plain": [
       "\u001b[1;36m[\u001b[0m\u001b[1;36m+\u001b[0m\u001b[1;36m]\u001b[0m\u001b[1;36m Getting \u001b[0m\u001b[1;4;36mhttps://github.com/xanderfrangos/twinkle-tray/blob/master/package.json\u001b[0m\n"
      ]
     },
     "metadata": {},
     "output_type": "display_data"
    },
    {
     "data": {
      "text/html": [
       "<pre style=\"white-space:pre;overflow-x:auto;line-height:normal;font-family:Menlo,'DejaVu Sans Mono',consolas,'Courier New',monospace\"><span style=\"color: #008080; text-decoration-color: #008080; font-weight: bold\">[+] Getting repo: </span><span style=\"color: #008080; text-decoration-color: #008080; font-weight: bold; text-decoration: underline\">https://github.com/afractal/twittertron-app</span>\n",
       "</pre>\n"
      ],
      "text/plain": [
       "\u001b[1;36m[\u001b[0m\u001b[1;36m+\u001b[0m\u001b[1;36m]\u001b[0m\u001b[1;36m Getting repo: \u001b[0m\u001b[1;4;36mhttps://github.com/afractal/twittertron-app\u001b[0m\n"
      ]
     },
     "metadata": {},
     "output_type": "display_data"
    },
    {
     "data": {
      "text/html": [
       "<pre style=\"white-space:pre;overflow-x:auto;line-height:normal;font-family:Menlo,'DejaVu Sans Mono',consolas,'Courier New',monospace\"><span style=\"color: #008080; text-decoration-color: #008080; font-weight: bold\">[+] Successfully retrieved repo: </span><span style=\"color: #008080; text-decoration-color: #008080; font-weight: bold; text-decoration: underline\">https://github.com/afractal/twittertron-app</span>\n",
       "</pre>\n"
      ],
      "text/plain": [
       "\u001b[1;36m[\u001b[0m\u001b[1;36m+\u001b[0m\u001b[1;36m]\u001b[0m\u001b[1;36m Successfully retrieved repo: \u001b[0m\u001b[1;4;36mhttps://github.com/afractal/twittertron-app\u001b[0m\n"
      ]
     },
     "metadata": {},
     "output_type": "display_data"
    },
    {
     "data": {
      "text/html": [
       "<pre style=\"white-space:pre;overflow-x:auto;line-height:normal;font-family:Menlo,'DejaVu Sans Mono',consolas,'Courier New',monospace\"><span style=\"color: #008080; text-decoration-color: #008080; font-weight: bold\">[+] Found package.json at </span><span style=\"color: #008080; text-decoration-color: #008080; font-weight: bold; text-decoration: underline\">https://github.com/afractal/twittertron-app</span>\n",
       "</pre>\n"
      ],
      "text/plain": [
       "\u001b[1;36m[\u001b[0m\u001b[1;36m+\u001b[0m\u001b[1;36m]\u001b[0m\u001b[1;36m Found package.json at \u001b[0m\u001b[1;4;36mhttps://github.com/afractal/twittertron-app\u001b[0m\n"
      ]
     },
     "metadata": {},
     "output_type": "display_data"
    },
    {
     "data": {
      "text/html": [
       "<pre style=\"white-space:pre;overflow-x:auto;line-height:normal;font-family:Menlo,'DejaVu Sans Mono',consolas,'Courier New',monospace\"><span style=\"color: #008080; text-decoration-color: #008080; font-weight: bold\">[+] Getting </span><span style=\"color: #008080; text-decoration-color: #008080; font-weight: bold; text-decoration: underline\">https://github.com/afractal/twittertron-app/blob/master/package.json</span>\n",
       "</pre>\n"
      ],
      "text/plain": [
       "\u001b[1;36m[\u001b[0m\u001b[1;36m+\u001b[0m\u001b[1;36m]\u001b[0m\u001b[1;36m Getting \u001b[0m\u001b[1;4;36mhttps://github.com/afractal/twittertron-app/blob/master/package.json\u001b[0m\n"
      ]
     },
     "metadata": {},
     "output_type": "display_data"
    },
    {
     "data": {
      "text/html": [
       "<pre style=\"white-space:pre;overflow-x:auto;line-height:normal;font-family:Menlo,'DejaVu Sans Mono',consolas,'Courier New',monospace\"><span style=\"color: #008080; text-decoration-color: #008080; font-weight: bold\">[+] Getting repo: </span><span style=\"color: #008080; text-decoration-color: #008080; font-weight: bold; text-decoration: underline\">https://github.com/afmorenosa/U_Stair</span>\n",
       "</pre>\n"
      ],
      "text/plain": [
       "\u001b[1;36m[\u001b[0m\u001b[1;36m+\u001b[0m\u001b[1;36m]\u001b[0m\u001b[1;36m Getting repo: \u001b[0m\u001b[1;4;36mhttps://github.com/afmorenosa/U_Stair\u001b[0m\n"
      ]
     },
     "metadata": {},
     "output_type": "display_data"
    },
    {
     "data": {
      "text/html": [
       "<pre style=\"white-space:pre;overflow-x:auto;line-height:normal;font-family:Menlo,'DejaVu Sans Mono',consolas,'Courier New',monospace\"><span style=\"color: #008080; text-decoration-color: #008080; font-weight: bold\">[+] Successfully retrieved repo: </span><span style=\"color: #008080; text-decoration-color: #008080; font-weight: bold; text-decoration: underline\">https://github.com/afmorenosa/U_Stair</span>\n",
       "</pre>\n"
      ],
      "text/plain": [
       "\u001b[1;36m[\u001b[0m\u001b[1;36m+\u001b[0m\u001b[1;36m]\u001b[0m\u001b[1;36m Successfully retrieved repo: \u001b[0m\u001b[1;4;36mhttps://github.com/afmorenosa/U_Stair\u001b[0m\n"
      ]
     },
     "metadata": {},
     "output_type": "display_data"
    },
    {
     "data": {
      "text/html": [
       "<pre style=\"white-space:pre;overflow-x:auto;line-height:normal;font-family:Menlo,'DejaVu Sans Mono',consolas,'Courier New',monospace\"><span style=\"color: #008080; text-decoration-color: #008080; font-weight: bold\">[+] Found package.json at </span><span style=\"color: #008080; text-decoration-color: #008080; font-weight: bold; text-decoration: underline\">https://github.com/afmorenosa/U_Stair</span>\n",
       "</pre>\n"
      ],
      "text/plain": [
       "\u001b[1;36m[\u001b[0m\u001b[1;36m+\u001b[0m\u001b[1;36m]\u001b[0m\u001b[1;36m Found package.json at \u001b[0m\u001b[1;4;36mhttps://github.com/afmorenosa/U_Stair\u001b[0m\n"
      ]
     },
     "metadata": {},
     "output_type": "display_data"
    },
    {
     "data": {
      "text/html": [
       "<pre style=\"white-space:pre;overflow-x:auto;line-height:normal;font-family:Menlo,'DejaVu Sans Mono',consolas,'Courier New',monospace\"><span style=\"color: #008080; text-decoration-color: #008080; font-weight: bold\">[+] Getting </span><span style=\"color: #008080; text-decoration-color: #008080; font-weight: bold; text-decoration: underline\">https://github.com/ccmorenosa/U_Stair/blob/master/package.json</span>\n",
       "</pre>\n"
      ],
      "text/plain": [
       "\u001b[1;36m[\u001b[0m\u001b[1;36m+\u001b[0m\u001b[1;36m]\u001b[0m\u001b[1;36m Getting \u001b[0m\u001b[1;4;36mhttps://github.com/ccmorenosa/U_Stair/blob/master/package.json\u001b[0m\n"
      ]
     },
     "metadata": {},
     "output_type": "display_data"
    },
    {
     "data": {
      "text/html": [
       "<pre style=\"white-space:pre;overflow-x:auto;line-height:normal;font-family:Menlo,'DejaVu Sans Mono',consolas,'Courier New',monospace\"><span style=\"color: #008080; text-decoration-color: #008080; font-weight: bold\">[+] Getting repo: </span><span style=\"color: #008080; text-decoration-color: #008080; font-weight: bold; text-decoration: underline\">https://github.com/chrisenytc/ubauth</span>\n",
       "</pre>\n"
      ],
      "text/plain": [
       "\u001b[1;36m[\u001b[0m\u001b[1;36m+\u001b[0m\u001b[1;36m]\u001b[0m\u001b[1;36m Getting repo: \u001b[0m\u001b[1;4;36mhttps://github.com/chrisenytc/ubauth\u001b[0m\n"
      ]
     },
     "metadata": {},
     "output_type": "display_data"
    },
    {
     "data": {
      "text/html": [
       "<pre style=\"white-space:pre;overflow-x:auto;line-height:normal;font-family:Menlo,'DejaVu Sans Mono',consolas,'Courier New',monospace\"><span style=\"color: #008080; text-decoration-color: #008080; font-weight: bold\">[+] Successfully retrieved repo: </span><span style=\"color: #008080; text-decoration-color: #008080; font-weight: bold; text-decoration: underline\">https://github.com/chrisenytc/ubauth</span>\n",
       "</pre>\n"
      ],
      "text/plain": [
       "\u001b[1;36m[\u001b[0m\u001b[1;36m+\u001b[0m\u001b[1;36m]\u001b[0m\u001b[1;36m Successfully retrieved repo: \u001b[0m\u001b[1;4;36mhttps://github.com/chrisenytc/ubauth\u001b[0m\n"
      ]
     },
     "metadata": {},
     "output_type": "display_data"
    },
    {
     "data": {
      "text/html": [
       "<pre style=\"white-space:pre;overflow-x:auto;line-height:normal;font-family:Menlo,'DejaVu Sans Mono',consolas,'Courier New',monospace\"><span style=\"color: #008080; text-decoration-color: #008080; font-weight: bold\">[+] Found package.json at </span><span style=\"color: #008080; text-decoration-color: #008080; font-weight: bold; text-decoration: underline\">https://github.com/chrisenytc/ubauth</span>\n",
       "</pre>\n"
      ],
      "text/plain": [
       "\u001b[1;36m[\u001b[0m\u001b[1;36m+\u001b[0m\u001b[1;36m]\u001b[0m\u001b[1;36m Found package.json at \u001b[0m\u001b[1;4;36mhttps://github.com/chrisenytc/ubauth\u001b[0m\n"
      ]
     },
     "metadata": {},
     "output_type": "display_data"
    },
    {
     "data": {
      "text/html": [
       "<pre style=\"white-space:pre;overflow-x:auto;line-height:normal;font-family:Menlo,'DejaVu Sans Mono',consolas,'Courier New',monospace\"><span style=\"color: #008080; text-decoration-color: #008080; font-weight: bold\">[+] Getting </span><span style=\"color: #008080; text-decoration-color: #008080; font-weight: bold; text-decoration: underline\">https://github.com/chrisenytc/ubauth/blob/master/package.json</span>\n",
       "</pre>\n"
      ],
      "text/plain": [
       "\u001b[1;36m[\u001b[0m\u001b[1;36m+\u001b[0m\u001b[1;36m]\u001b[0m\u001b[1;36m Getting \u001b[0m\u001b[1;4;36mhttps://github.com/chrisenytc/ubauth/blob/master/package.json\u001b[0m\n"
      ]
     },
     "metadata": {},
     "output_type": "display_data"
    },
    {
     "data": {
      "text/html": [
       "<pre style=\"white-space:pre;overflow-x:auto;line-height:normal;font-family:Menlo,'DejaVu Sans Mono',consolas,'Courier New',monospace\"><span style=\"color: #008080; text-decoration-color: #008080; font-weight: bold\">[+] Getting repo: </span><span style=\"color: #008080; text-decoration-color: #008080; font-weight: bold; text-decoration: underline\">https://github.com/oliverschwendener/ueli</span>\n",
       "</pre>\n"
      ],
      "text/plain": [
       "\u001b[1;36m[\u001b[0m\u001b[1;36m+\u001b[0m\u001b[1;36m]\u001b[0m\u001b[1;36m Getting repo: \u001b[0m\u001b[1;4;36mhttps://github.com/oliverschwendener/ueli\u001b[0m\n"
      ]
     },
     "metadata": {},
     "output_type": "display_data"
    },
    {
     "data": {
      "text/html": [
       "<pre style=\"white-space:pre;overflow-x:auto;line-height:normal;font-family:Menlo,'DejaVu Sans Mono',consolas,'Courier New',monospace\"><span style=\"color: #008080; text-decoration-color: #008080; font-weight: bold\">[+] Successfully retrieved repo: </span><span style=\"color: #008080; text-decoration-color: #008080; font-weight: bold; text-decoration: underline\">https://github.com/oliverschwendener/ueli</span>\n",
       "</pre>\n"
      ],
      "text/plain": [
       "\u001b[1;36m[\u001b[0m\u001b[1;36m+\u001b[0m\u001b[1;36m]\u001b[0m\u001b[1;36m Successfully retrieved repo: \u001b[0m\u001b[1;4;36mhttps://github.com/oliverschwendener/ueli\u001b[0m\n"
      ]
     },
     "metadata": {},
     "output_type": "display_data"
    },
    {
     "data": {
      "text/html": [
       "<pre style=\"white-space:pre;overflow-x:auto;line-height:normal;font-family:Menlo,'DejaVu Sans Mono',consolas,'Courier New',monospace\"><span style=\"color: #008080; text-decoration-color: #008080; font-weight: bold\">[+] Found package.json at </span><span style=\"color: #008080; text-decoration-color: #008080; font-weight: bold; text-decoration: underline\">https://github.com/oliverschwendener/ueli</span>\n",
       "</pre>\n"
      ],
      "text/plain": [
       "\u001b[1;36m[\u001b[0m\u001b[1;36m+\u001b[0m\u001b[1;36m]\u001b[0m\u001b[1;36m Found package.json at \u001b[0m\u001b[1;4;36mhttps://github.com/oliverschwendener/ueli\u001b[0m\n"
      ]
     },
     "metadata": {},
     "output_type": "display_data"
    },
    {
     "data": {
      "text/html": [
       "<pre style=\"white-space:pre;overflow-x:auto;line-height:normal;font-family:Menlo,'DejaVu Sans Mono',consolas,'Courier New',monospace\"><span style=\"color: #008080; text-decoration-color: #008080; font-weight: bold\">[+] Getting </span><span style=\"color: #008080; text-decoration-color: #008080; font-weight: bold; text-decoration: underline\">https://github.com/oliverschwendener/ueli/blob/main/package.json</span>\n",
       "</pre>\n"
      ],
      "text/plain": [
       "\u001b[1;36m[\u001b[0m\u001b[1;36m+\u001b[0m\u001b[1;36m]\u001b[0m\u001b[1;36m Getting \u001b[0m\u001b[1;4;36mhttps://github.com/oliverschwendener/ueli/blob/main/package.json\u001b[0m\n"
      ]
     },
     "metadata": {},
     "output_type": "display_data"
    },
    {
     "data": {
      "text/html": [
       "<pre style=\"white-space:pre;overflow-x:auto;line-height:normal;font-family:Menlo,'DejaVu Sans Mono',consolas,'Courier New',monospace\"><span style=\"color: #008080; text-decoration-color: #008080; font-weight: bold\">[+] Getting repo: </span><span style=\"color: #008080; text-decoration-color: #008080; font-weight: bold; text-decoration: underline\">https://github.com/assnctr/unfx-proxy-checker</span>\n",
       "</pre>\n"
      ],
      "text/plain": [
       "\u001b[1;36m[\u001b[0m\u001b[1;36m+\u001b[0m\u001b[1;36m]\u001b[0m\u001b[1;36m Getting repo: \u001b[0m\u001b[1;4;36mhttps://github.com/assnctr/unfx-proxy-checker\u001b[0m\n"
      ]
     },
     "metadata": {},
     "output_type": "display_data"
    },
    {
     "data": {
      "text/html": [
       "<pre style=\"white-space:pre;overflow-x:auto;line-height:normal;font-family:Menlo,'DejaVu Sans Mono',consolas,'Courier New',monospace\"><span style=\"color: #008080; text-decoration-color: #008080; font-weight: bold\">[+] Successfully retrieved repo: </span><span style=\"color: #008080; text-decoration-color: #008080; font-weight: bold; text-decoration: underline\">https://github.com/assnctr/unfx-proxy-checker</span>\n",
       "</pre>\n"
      ],
      "text/plain": [
       "\u001b[1;36m[\u001b[0m\u001b[1;36m+\u001b[0m\u001b[1;36m]\u001b[0m\u001b[1;36m Successfully retrieved repo: \u001b[0m\u001b[1;4;36mhttps://github.com/assnctr/unfx-proxy-checker\u001b[0m\n"
      ]
     },
     "metadata": {},
     "output_type": "display_data"
    },
    {
     "data": {
      "text/html": [
       "<pre style=\"white-space:pre;overflow-x:auto;line-height:normal;font-family:Menlo,'DejaVu Sans Mono',consolas,'Courier New',monospace\"><span style=\"color: #008080; text-decoration-color: #008080; font-weight: bold\">[+] Found package.json at </span><span style=\"color: #008080; text-decoration-color: #008080; font-weight: bold; text-decoration: underline\">https://github.com/assnctr/unfx-proxy-checker</span>\n",
       "</pre>\n"
      ],
      "text/plain": [
       "\u001b[1;36m[\u001b[0m\u001b[1;36m+\u001b[0m\u001b[1;36m]\u001b[0m\u001b[1;36m Found package.json at \u001b[0m\u001b[1;4;36mhttps://github.com/assnctr/unfx-proxy-checker\u001b[0m\n"
      ]
     },
     "metadata": {},
     "output_type": "display_data"
    },
    {
     "data": {
      "text/html": [
       "<pre style=\"white-space:pre;overflow-x:auto;line-height:normal;font-family:Menlo,'DejaVu Sans Mono',consolas,'Courier New',monospace\"><span style=\"color: #008080; text-decoration-color: #008080; font-weight: bold\">[+] Getting </span><span style=\"color: #008080; text-decoration-color: #008080; font-weight: bold; text-decoration: underline\">https://github.com/openproxyspace/unfx-proxy-checker/blob/master/package.json</span>\n",
       "</pre>\n"
      ],
      "text/plain": [
       "\u001b[1;36m[\u001b[0m\u001b[1;36m+\u001b[0m\u001b[1;36m]\u001b[0m\u001b[1;36m Getting \u001b[0m\u001b[1;4;36mhttps://github.com/openproxyspace/unfx-proxy-checker/blob/master/package.json\u001b[0m\n"
      ]
     },
     "metadata": {},
     "output_type": "display_data"
    },
    {
     "data": {
      "text/html": [
       "<pre style=\"white-space:pre;overflow-x:auto;line-height:normal;font-family:Menlo,'DejaVu Sans Mono',consolas,'Courier New',monospace\"><span style=\"color: #008080; text-decoration-color: #008080; font-weight: bold\">[+] Getting repo: </span><span style=\"color: #008080; text-decoration-color: #008080; font-weight: bold; text-decoration: underline\">https://github.com/madisvain/upcount</span>\n",
       "</pre>\n"
      ],
      "text/plain": [
       "\u001b[1;36m[\u001b[0m\u001b[1;36m+\u001b[0m\u001b[1;36m]\u001b[0m\u001b[1;36m Getting repo: \u001b[0m\u001b[1;4;36mhttps://github.com/madisvain/upcount\u001b[0m\n"
      ]
     },
     "metadata": {},
     "output_type": "display_data"
    },
    {
     "data": {
      "text/html": [
       "<pre style=\"white-space:pre;overflow-x:auto;line-height:normal;font-family:Menlo,'DejaVu Sans Mono',consolas,'Courier New',monospace\"><span style=\"color: #008080; text-decoration-color: #008080; font-weight: bold\">[+] Successfully retrieved repo: </span><span style=\"color: #008080; text-decoration-color: #008080; font-weight: bold; text-decoration: underline\">https://github.com/madisvain/upcount</span>\n",
       "</pre>\n"
      ],
      "text/plain": [
       "\u001b[1;36m[\u001b[0m\u001b[1;36m+\u001b[0m\u001b[1;36m]\u001b[0m\u001b[1;36m Successfully retrieved repo: \u001b[0m\u001b[1;4;36mhttps://github.com/madisvain/upcount\u001b[0m\n"
      ]
     },
     "metadata": {},
     "output_type": "display_data"
    },
    {
     "data": {
      "text/html": [
       "<pre style=\"white-space:pre;overflow-x:auto;line-height:normal;font-family:Menlo,'DejaVu Sans Mono',consolas,'Courier New',monospace\"><span style=\"color: #008080; text-decoration-color: #008080; font-weight: bold\">[+] Found package.json at </span><span style=\"color: #008080; text-decoration-color: #008080; font-weight: bold; text-decoration: underline\">https://github.com/madisvain/upcount</span>\n",
       "</pre>\n"
      ],
      "text/plain": [
       "\u001b[1;36m[\u001b[0m\u001b[1;36m+\u001b[0m\u001b[1;36m]\u001b[0m\u001b[1;36m Found package.json at \u001b[0m\u001b[1;4;36mhttps://github.com/madisvain/upcount\u001b[0m\n"
      ]
     },
     "metadata": {},
     "output_type": "display_data"
    },
    {
     "data": {
      "text/html": [
       "<pre style=\"white-space:pre;overflow-x:auto;line-height:normal;font-family:Menlo,'DejaVu Sans Mono',consolas,'Courier New',monospace\"><span style=\"color: #008080; text-decoration-color: #008080; font-weight: bold\">[+] Getting </span><span style=\"color: #008080; text-decoration-color: #008080; font-weight: bold; text-decoration: underline\">https://github.com/madisvain/upcount/blob/master/package.json</span>\n",
       "</pre>\n"
      ],
      "text/plain": [
       "\u001b[1;36m[\u001b[0m\u001b[1;36m+\u001b[0m\u001b[1;36m]\u001b[0m\u001b[1;36m Getting \u001b[0m\u001b[1;4;36mhttps://github.com/madisvain/upcount/blob/master/package.json\u001b[0m\n"
      ]
     },
     "metadata": {},
     "output_type": "display_data"
    },
    {
     "data": {
      "text/html": [
       "<pre style=\"white-space:pre;overflow-x:auto;line-height:normal;font-family:Menlo,'DejaVu Sans Mono',consolas,'Courier New',monospace\"><span style=\"color: #008080; text-decoration-color: #008080; font-weight: bold\">[+] Getting repo: </span><span style=\"color: #008080; text-decoration-color: #008080; font-weight: bold; text-decoration: underline\">https://code.vikunja.io/desktop</span>\n",
       "</pre>\n"
      ],
      "text/plain": [
       "\u001b[1;36m[\u001b[0m\u001b[1;36m+\u001b[0m\u001b[1;36m]\u001b[0m\u001b[1;36m Getting repo: \u001b[0m\u001b[1;4;36mhttps://code.vikunja.io/desktop\u001b[0m\n"
      ]
     },
     "metadata": {},
     "output_type": "display_data"
    },
    {
     "data": {
      "text/html": [
       "<pre style=\"white-space:pre;overflow-x:auto;line-height:normal;font-family:Menlo,'DejaVu Sans Mono',consolas,'Courier New',monospace\"><span style=\"color: #008080; text-decoration-color: #008080; font-weight: bold\">[+] Successfully retrieved repo: </span><span style=\"color: #008080; text-decoration-color: #008080; font-weight: bold; text-decoration: underline\">https://code.vikunja.io/desktop</span>\n",
       "</pre>\n"
      ],
      "text/plain": [
       "\u001b[1;36m[\u001b[0m\u001b[1;36m+\u001b[0m\u001b[1;36m]\u001b[0m\u001b[1;36m Successfully retrieved repo: \u001b[0m\u001b[1;4;36mhttps://code.vikunja.io/desktop\u001b[0m\n"
      ]
     },
     "metadata": {},
     "output_type": "display_data"
    },
    {
     "data": {
      "text/html": [
       "<pre style=\"white-space:pre;overflow-x:auto;line-height:normal;font-family:Menlo,'DejaVu Sans Mono',consolas,'Courier New',monospace\"><span style=\"color: #008080; text-decoration-color: #008080; font-weight: bold\">[+] Found package.json at </span><span style=\"color: #008080; text-decoration-color: #008080; font-weight: bold; text-decoration: underline\">https://code.vikunja.io/desktop</span>\n",
       "</pre>\n"
      ],
      "text/plain": [
       "\u001b[1;36m[\u001b[0m\u001b[1;36m+\u001b[0m\u001b[1;36m]\u001b[0m\u001b[1;36m Found package.json at \u001b[0m\u001b[1;4;36mhttps://code.vikunja.io/desktop\u001b[0m\n"
      ]
     },
     "metadata": {},
     "output_type": "display_data"
    },
    {
     "data": {
      "text/html": [
       "<pre style=\"white-space:pre;overflow-x:auto;line-height:normal;font-family:Menlo,'DejaVu Sans Mono',consolas,'Courier New',monospace\"><span style=\"color: #008080; text-decoration-color: #008080; font-weight: bold\">[+] Getting </span><span style=\"color: #008080; text-decoration-color: #008080; font-weight: bold; text-decoration: underline\">https://code.vikunja.io/vikunja/desktop/src/branch/main/package.json</span>\n",
       "</pre>\n"
      ],
      "text/plain": [
       "\u001b[1;36m[\u001b[0m\u001b[1;36m+\u001b[0m\u001b[1;36m]\u001b[0m\u001b[1;36m Getting \u001b[0m\u001b[1;4;36mhttps://code.vikunja.io/vikunja/desktop/src/branch/main/package.json\u001b[0m\n"
      ]
     },
     "metadata": {},
     "output_type": "display_data"
    },
    {
     "data": {
      "text/html": [
       "<pre style=\"white-space:pre;overflow-x:auto;line-height:normal;font-family:Menlo,'DejaVu Sans Mono',consolas,'Courier New',monospace\"><span style=\"color: #800000; text-decoration-color: #800000; font-weight: bold\">[💀] Could not retrieve package.json </span><span style=\"color: #800000; text-decoration-color: #800000; font-weight: bold; text-decoration: underline\">https://code.vikunja.io/vikunja/desktop/src/branch/main/package.json</span>\n",
       "</pre>\n"
      ],
      "text/plain": [
       "\u001b[1;31m[\u001b[0m\u001b[1;31m💀\u001b[0m\u001b[1;31m]\u001b[0m\u001b[1;31m Could not retrieve package.json \u001b[0m\u001b[1;4;31mhttps://code.vikunja.io/vikunja/desktop/src/branch/main/package.json\u001b[0m\n"
      ]
     },
     "metadata": {},
     "output_type": "display_data"
    },
    {
     "data": {
      "text/html": [
       "<pre style=\"white-space:pre;overflow-x:auto;line-height:normal;font-family:Menlo,'DejaVu Sans Mono',consolas,'Courier New',monospace\"><span style=\"color: #008080; text-decoration-color: #008080; font-weight: bold\">[+] Getting repo: </span><span style=\"color: #008080; text-decoration-color: #008080; font-weight: bold; text-decoration: underline\">https://github.com/Jisco/VisualFamilyTree</span>\n",
       "</pre>\n"
      ],
      "text/plain": [
       "\u001b[1;36m[\u001b[0m\u001b[1;36m+\u001b[0m\u001b[1;36m]\u001b[0m\u001b[1;36m Getting repo: \u001b[0m\u001b[1;4;36mhttps://github.com/Jisco/VisualFamilyTree\u001b[0m\n"
      ]
     },
     "metadata": {},
     "output_type": "display_data"
    },
    {
     "data": {
      "text/html": [
       "<pre style=\"white-space:pre;overflow-x:auto;line-height:normal;font-family:Menlo,'DejaVu Sans Mono',consolas,'Courier New',monospace\"><span style=\"color: #008080; text-decoration-color: #008080; font-weight: bold\">[+] Successfully retrieved repo: </span><span style=\"color: #008080; text-decoration-color: #008080; font-weight: bold; text-decoration: underline\">https://github.com/Jisco/VisualFamilyTree</span>\n",
       "</pre>\n"
      ],
      "text/plain": [
       "\u001b[1;36m[\u001b[0m\u001b[1;36m+\u001b[0m\u001b[1;36m]\u001b[0m\u001b[1;36m Successfully retrieved repo: \u001b[0m\u001b[1;4;36mhttps://github.com/Jisco/VisualFamilyTree\u001b[0m\n"
      ]
     },
     "metadata": {},
     "output_type": "display_data"
    },
    {
     "data": {
      "text/html": [
       "<pre style=\"white-space:pre;overflow-x:auto;line-height:normal;font-family:Menlo,'DejaVu Sans Mono',consolas,'Courier New',monospace\"><span style=\"color: #ff5f00; text-decoration-color: #ff5f00; font-weight: bold\">[!] Package.json not found at root of </span><span style=\"color: #ff5f00; text-decoration-color: #ff5f00; font-weight: bold; text-decoration: underline\">https://github.com/Jisco/VisualFamilyTree;</span><span style=\"color: #ff5f00; text-decoration-color: #ff5f00; font-weight: bold\"> trying directories</span>\n",
       "</pre>\n"
      ],
      "text/plain": [
       "\u001b[1;38;5;202m[\u001b[0m\u001b[1;38;5;202m!\u001b[0m\u001b[1;38;5;202m]\u001b[0m\u001b[1;38;5;202m Package.json not found at root of \u001b[0m\u001b[1;4;38;5;202mhttps://github.com/Jisco/VisualFamilyTree;\u001b[0m\u001b[1;38;5;202m trying directories\u001b[0m\n"
      ]
     },
     "metadata": {},
     "output_type": "display_data"
    },
    {
     "data": {
      "text/html": [
       "<pre style=\"white-space:pre;overflow-x:auto;line-height:normal;font-family:Menlo,'DejaVu Sans Mono',consolas,'Courier New',monospace\"><span style=\"color: #008080; text-decoration-color: #008080; font-weight: bold\">[+] Trying </span><span style=\"color: #008080; text-decoration-color: #008080; font-weight: bold; text-decoration: underline\">https://github.com/Jisco/VisualFamilyTree/tree/master/.github</span>\n",
       "</pre>\n"
      ],
      "text/plain": [
       "\u001b[1;36m[\u001b[0m\u001b[1;36m+\u001b[0m\u001b[1;36m]\u001b[0m\u001b[1;36m Trying \u001b[0m\u001b[1;4;36mhttps://github.com/Jisco/VisualFamilyTree/tree/master/.github\u001b[0m\n"
      ]
     },
     "metadata": {},
     "output_type": "display_data"
    },
    {
     "data": {
      "text/html": [
       "<pre style=\"white-space:pre;overflow-x:auto;line-height:normal;font-family:Menlo,'DejaVu Sans Mono',consolas,'Courier New',monospace\"><span style=\"color: #008080; text-decoration-color: #008080; font-weight: bold\">[+] Trying </span><span style=\"color: #008080; text-decoration-color: #008080; font-weight: bold; text-decoration: underline\">https://github.com/Jisco/VisualFamilyTree/tree/master/Languages</span>\n",
       "</pre>\n"
      ],
      "text/plain": [
       "\u001b[1;36m[\u001b[0m\u001b[1;36m+\u001b[0m\u001b[1;36m]\u001b[0m\u001b[1;36m Trying \u001b[0m\u001b[1;4;36mhttps://github.com/Jisco/VisualFamilyTree/tree/master/Languages\u001b[0m\n"
      ]
     },
     "metadata": {},
     "output_type": "display_data"
    },
    {
     "data": {
      "text/html": [
       "<pre style=\"white-space:pre;overflow-x:auto;line-height:normal;font-family:Menlo,'DejaVu Sans Mono',consolas,'Courier New',monospace\"><span style=\"color: #008080; text-decoration-color: #008080; font-weight: bold\">[+] Trying </span><span style=\"color: #008080; text-decoration-color: #008080; font-weight: bold; text-decoration: underline\">https://github.com/Jisco/VisualFamilyTree/tree/master/v1.1.0.assets</span>\n",
       "</pre>\n"
      ],
      "text/plain": [
       "\u001b[1;36m[\u001b[0m\u001b[1;36m+\u001b[0m\u001b[1;36m]\u001b[0m\u001b[1;36m Trying \u001b[0m\u001b[1;4;36mhttps://github.com/Jisco/VisualFamilyTree/tree/master/v1.1.0.assets\u001b[0m\n"
      ]
     },
     "metadata": {},
     "output_type": "display_data"
    },
    {
     "data": {
      "text/html": [
       "<pre style=\"white-space:pre;overflow-x:auto;line-height:normal;font-family:Menlo,'DejaVu Sans Mono',consolas,'Courier New',monospace\"><span style=\"color: #800000; text-decoration-color: #800000; font-weight: bold\">[💀] Could not find package.json in first-level-subdirs</span>\n",
       "</pre>\n"
      ],
      "text/plain": [
       "\u001b[1;31m[\u001b[0m\u001b[1;31m💀\u001b[0m\u001b[1;31m]\u001b[0m\u001b[1;31m Could not find package.json in first-level-subdirs\u001b[0m\n"
      ]
     },
     "metadata": {},
     "output_type": "display_data"
    },
    {
     "data": {
      "text/html": [
       "<pre style=\"white-space:pre;overflow-x:auto;line-height:normal;font-family:Menlo,'DejaVu Sans Mono',consolas,'Courier New',monospace\"><span style=\"color: #008080; text-decoration-color: #008080; font-weight: bold\">[+] Getting repo: </span><span style=\"color: #008080; text-decoration-color: #008080; font-weight: bold; text-decoration: underline\">https://github.com/microsoft/vscode</span>\n",
       "</pre>\n"
      ],
      "text/plain": [
       "\u001b[1;36m[\u001b[0m\u001b[1;36m+\u001b[0m\u001b[1;36m]\u001b[0m\u001b[1;36m Getting repo: \u001b[0m\u001b[1;4;36mhttps://github.com/microsoft/vscode\u001b[0m\n"
      ]
     },
     "metadata": {},
     "output_type": "display_data"
    },
    {
     "data": {
      "text/html": [
       "<pre style=\"white-space:pre;overflow-x:auto;line-height:normal;font-family:Menlo,'DejaVu Sans Mono',consolas,'Courier New',monospace\"><span style=\"color: #008080; text-decoration-color: #008080; font-weight: bold\">[+] Successfully retrieved repo: </span><span style=\"color: #008080; text-decoration-color: #008080; font-weight: bold; text-decoration: underline\">https://github.com/microsoft/vscode</span>\n",
       "</pre>\n"
      ],
      "text/plain": [
       "\u001b[1;36m[\u001b[0m\u001b[1;36m+\u001b[0m\u001b[1;36m]\u001b[0m\u001b[1;36m Successfully retrieved repo: \u001b[0m\u001b[1;4;36mhttps://github.com/microsoft/vscode\u001b[0m\n"
      ]
     },
     "metadata": {},
     "output_type": "display_data"
    },
    {
     "data": {
      "text/html": [
       "<pre style=\"white-space:pre;overflow-x:auto;line-height:normal;font-family:Menlo,'DejaVu Sans Mono',consolas,'Courier New',monospace\"><span style=\"color: #008080; text-decoration-color: #008080; font-weight: bold\">[+] Found package.json at </span><span style=\"color: #008080; text-decoration-color: #008080; font-weight: bold; text-decoration: underline\">https://github.com/microsoft/vscode</span>\n",
       "</pre>\n"
      ],
      "text/plain": [
       "\u001b[1;36m[\u001b[0m\u001b[1;36m+\u001b[0m\u001b[1;36m]\u001b[0m\u001b[1;36m Found package.json at \u001b[0m\u001b[1;4;36mhttps://github.com/microsoft/vscode\u001b[0m\n"
      ]
     },
     "metadata": {},
     "output_type": "display_data"
    },
    {
     "data": {
      "text/html": [
       "<pre style=\"white-space:pre;overflow-x:auto;line-height:normal;font-family:Menlo,'DejaVu Sans Mono',consolas,'Courier New',monospace\"><span style=\"color: #008080; text-decoration-color: #008080; font-weight: bold\">[+] Getting </span><span style=\"color: #008080; text-decoration-color: #008080; font-weight: bold; text-decoration: underline\">https://github.com/microsoft/vscode/blob/main/package.json</span>\n",
       "</pre>\n"
      ],
      "text/plain": [
       "\u001b[1;36m[\u001b[0m\u001b[1;36m+\u001b[0m\u001b[1;36m]\u001b[0m\u001b[1;36m Getting \u001b[0m\u001b[1;4;36mhttps://github.com/microsoft/vscode/blob/main/package.json\u001b[0m\n"
      ]
     },
     "metadata": {},
     "output_type": "display_data"
    },
    {
     "data": {
      "text/html": [
       "<pre style=\"white-space:pre;overflow-x:auto;line-height:normal;font-family:Menlo,'DejaVu Sans Mono',consolas,'Courier New',monospace\"><span style=\"color: #008080; text-decoration-color: #008080; font-weight: bold\">[+] Getting repo: </span><span style=\"color: #008080; text-decoration-color: #008080; font-weight: bold; text-decoration: underline\">https://github.com/Vivify-Ideas/vivifyscrum2-electron/</span>\n",
       "</pre>\n"
      ],
      "text/plain": [
       "\u001b[1;36m[\u001b[0m\u001b[1;36m+\u001b[0m\u001b[1;36m]\u001b[0m\u001b[1;36m Getting repo: \u001b[0m\u001b[1;4;36mhttps://github.com/Vivify-Ideas/vivifyscrum2-electron/\u001b[0m\n"
      ]
     },
     "metadata": {},
     "output_type": "display_data"
    },
    {
     "data": {
      "text/html": [
       "<pre style=\"white-space:pre;overflow-x:auto;line-height:normal;font-family:Menlo,'DejaVu Sans Mono',consolas,'Courier New',monospace\"><span style=\"color: #008080; text-decoration-color: #008080; font-weight: bold\">[+] Successfully retrieved repo: </span><span style=\"color: #008080; text-decoration-color: #008080; font-weight: bold; text-decoration: underline\">https://github.com/Vivify-Ideas/vivifyscrum2-electron/</span>\n",
       "</pre>\n"
      ],
      "text/plain": [
       "\u001b[1;36m[\u001b[0m\u001b[1;36m+\u001b[0m\u001b[1;36m]\u001b[0m\u001b[1;36m Successfully retrieved repo: \u001b[0m\u001b[1;4;36mhttps://github.com/Vivify-Ideas/vivifyscrum2-electron/\u001b[0m\n"
      ]
     },
     "metadata": {},
     "output_type": "display_data"
    },
    {
     "data": {
      "text/html": [
       "<pre style=\"white-space:pre;overflow-x:auto;line-height:normal;font-family:Menlo,'DejaVu Sans Mono',consolas,'Courier New',monospace\"><span style=\"color: #ff5f00; text-decoration-color: #ff5f00; font-weight: bold\">[!] Package.json not found at root of </span><span style=\"color: #ff5f00; text-decoration-color: #ff5f00; font-weight: bold; text-decoration: underline\">https://github.com/Vivify-Ideas/vivifyscrum2-electron/;</span><span style=\"color: #ff5f00; text-decoration-color: #ff5f00; font-weight: bold\"> trying directories</span>\n",
       "</pre>\n"
      ],
      "text/plain": [
       "\u001b[1;38;5;202m[\u001b[0m\u001b[1;38;5;202m!\u001b[0m\u001b[1;38;5;202m]\u001b[0m\u001b[1;38;5;202m Package.json not found at root of \u001b[0m\u001b[1;4;38;5;202mhttps://github.com/Vivify-Ideas/vivifyscrum2-electron/;\u001b[0m\u001b[1;38;5;202m trying directories\u001b[0m\n"
      ]
     },
     "metadata": {},
     "output_type": "display_data"
    },
    {
     "data": {
      "text/html": [
       "<pre style=\"white-space:pre;overflow-x:auto;line-height:normal;font-family:Menlo,'DejaVu Sans Mono',consolas,'Courier New',monospace\"><span style=\"color: #008080; text-decoration-color: #008080; font-weight: bold\">[+] Trying </span><span style=\"color: #008080; text-decoration-color: #008080; font-weight: bold; text-decoration: underline\">https://github.com/Vivify-Ideas/vivifyscrum2-electron/tree/master/updates</span>\n",
       "</pre>\n"
      ],
      "text/plain": [
       "\u001b[1;36m[\u001b[0m\u001b[1;36m+\u001b[0m\u001b[1;36m]\u001b[0m\u001b[1;36m Trying \u001b[0m\u001b[1;4;36mhttps://github.com/Vivify-Ideas/vivifyscrum2-electron/tree/master/updates\u001b[0m\n"
      ]
     },
     "metadata": {},
     "output_type": "display_data"
    },
    {
     "data": {
      "text/html": [
       "<pre style=\"white-space:pre;overflow-x:auto;line-height:normal;font-family:Menlo,'DejaVu Sans Mono',consolas,'Courier New',monospace\"><span style=\"color: #800000; text-decoration-color: #800000; font-weight: bold\">[💀] Could not find package.json in first-level-subdirs</span>\n",
       "</pre>\n"
      ],
      "text/plain": [
       "\u001b[1;31m[\u001b[0m\u001b[1;31m💀\u001b[0m\u001b[1;31m]\u001b[0m\u001b[1;31m Could not find package.json in first-level-subdirs\u001b[0m\n"
      ]
     },
     "metadata": {},
     "output_type": "display_data"
    },
    {
     "data": {
      "text/html": [
       "<pre style=\"white-space:pre;overflow-x:auto;line-height:normal;font-family:Menlo,'DejaVu Sans Mono',consolas,'Courier New',monospace\"><span style=\"color: #008080; text-decoration-color: #008080; font-weight: bold\">[+] Getting repo: </span><span style=\"color: #008080; text-decoration-color: #008080; font-weight: bold; text-decoration: underline\">https://github.com/Webdeskme/wdOS/releases</span>\n",
       "</pre>\n"
      ],
      "text/plain": [
       "\u001b[1;36m[\u001b[0m\u001b[1;36m+\u001b[0m\u001b[1;36m]\u001b[0m\u001b[1;36m Getting repo: \u001b[0m\u001b[1;4;36mhttps://github.com/Webdeskme/wdOS/releases\u001b[0m\n"
      ]
     },
     "metadata": {},
     "output_type": "display_data"
    },
    {
     "data": {
      "text/html": [
       "<pre style=\"white-space:pre;overflow-x:auto;line-height:normal;font-family:Menlo,'DejaVu Sans Mono',consolas,'Courier New',monospace\"><span style=\"color: #008080; text-decoration-color: #008080; font-weight: bold\">[+] Successfully retrieved repo: </span><span style=\"color: #008080; text-decoration-color: #008080; font-weight: bold; text-decoration: underline\">https://github.com/Webdeskme/wdOS/releases</span>\n",
       "</pre>\n"
      ],
      "text/plain": [
       "\u001b[1;36m[\u001b[0m\u001b[1;36m+\u001b[0m\u001b[1;36m]\u001b[0m\u001b[1;36m Successfully retrieved repo: \u001b[0m\u001b[1;4;36mhttps://github.com/Webdeskme/wdOS/releases\u001b[0m\n"
      ]
     },
     "metadata": {},
     "output_type": "display_data"
    },
    {
     "data": {
      "text/html": [
       "<pre style=\"white-space:pre;overflow-x:auto;line-height:normal;font-family:Menlo,'DejaVu Sans Mono',consolas,'Courier New',monospace\"><span style=\"color: #ff5f00; text-decoration-color: #ff5f00; font-weight: bold\">[!] Package.json not found at root of </span><span style=\"color: #ff5f00; text-decoration-color: #ff5f00; font-weight: bold; text-decoration: underline\">https://github.com/Webdeskme/wdOS/releases;</span><span style=\"color: #ff5f00; text-decoration-color: #ff5f00; font-weight: bold\"> trying directories</span>\n",
       "</pre>\n"
      ],
      "text/plain": [
       "\u001b[1;38;5;202m[\u001b[0m\u001b[1;38;5;202m!\u001b[0m\u001b[1;38;5;202m]\u001b[0m\u001b[1;38;5;202m Package.json not found at root of \u001b[0m\u001b[1;4;38;5;202mhttps://github.com/Webdeskme/wdOS/releases;\u001b[0m\u001b[1;38;5;202m trying directories\u001b[0m\n"
      ]
     },
     "metadata": {},
     "output_type": "display_data"
    },
    {
     "data": {
      "text/html": [
       "<pre style=\"white-space:pre;overflow-x:auto;line-height:normal;font-family:Menlo,'DejaVu Sans Mono',consolas,'Courier New',monospace\"><span style=\"color: #800000; text-decoration-color: #800000; font-weight: bold\">[💀] Could not find package.json in first-level-subdirs</span>\n",
       "</pre>\n"
      ],
      "text/plain": [
       "\u001b[1;31m[\u001b[0m\u001b[1;31m💀\u001b[0m\u001b[1;31m]\u001b[0m\u001b[1;31m Could not find package.json in first-level-subdirs\u001b[0m\n"
      ]
     },
     "metadata": {},
     "output_type": "display_data"
    },
    {
     "data": {
      "text/html": [
       "<pre style=\"white-space:pre;overflow-x:auto;line-height:normal;font-family:Menlo,'DejaVu Sans Mono',consolas,'Courier New',monospace\"><span style=\"color: #008080; text-decoration-color: #008080; font-weight: bold\">[+] Getting repo: </span><span style=\"color: #008080; text-decoration-color: #008080; font-weight: bold; text-decoration: underline\">https://github.com/MEGAMINDMK</span>\n",
       "</pre>\n"
      ],
      "text/plain": [
       "\u001b[1;36m[\u001b[0m\u001b[1;36m+\u001b[0m\u001b[1;36m]\u001b[0m\u001b[1;36m Getting repo: \u001b[0m\u001b[1;4;36mhttps://github.com/MEGAMINDMK\u001b[0m\n"
      ]
     },
     "metadata": {},
     "output_type": "display_data"
    },
    {
     "data": {
      "text/html": [
       "<pre style=\"white-space:pre;overflow-x:auto;line-height:normal;font-family:Menlo,'DejaVu Sans Mono',consolas,'Courier New',monospace\"><span style=\"color: #008080; text-decoration-color: #008080; font-weight: bold\">[+] Successfully retrieved repo: </span><span style=\"color: #008080; text-decoration-color: #008080; font-weight: bold; text-decoration: underline\">https://github.com/MEGAMINDMK</span>\n",
       "</pre>\n"
      ],
      "text/plain": [
       "\u001b[1;36m[\u001b[0m\u001b[1;36m+\u001b[0m\u001b[1;36m]\u001b[0m\u001b[1;36m Successfully retrieved repo: \u001b[0m\u001b[1;4;36mhttps://github.com/MEGAMINDMK\u001b[0m\n"
      ]
     },
     "metadata": {},
     "output_type": "display_data"
    },
    {
     "data": {
      "text/html": [
       "<pre style=\"white-space:pre;overflow-x:auto;line-height:normal;font-family:Menlo,'DejaVu Sans Mono',consolas,'Courier New',monospace\"><span style=\"color: #ff5f00; text-decoration-color: #ff5f00; font-weight: bold\">[!] Package.json not found at root of </span><span style=\"color: #ff5f00; text-decoration-color: #ff5f00; font-weight: bold; text-decoration: underline\">https://github.com/MEGAMINDMK;</span><span style=\"color: #ff5f00; text-decoration-color: #ff5f00; font-weight: bold\"> trying directories</span>\n",
       "</pre>\n"
      ],
      "text/plain": [
       "\u001b[1;38;5;202m[\u001b[0m\u001b[1;38;5;202m!\u001b[0m\u001b[1;38;5;202m]\u001b[0m\u001b[1;38;5;202m Package.json not found at root of \u001b[0m\u001b[1;4;38;5;202mhttps://github.com/MEGAMINDMK;\u001b[0m\u001b[1;38;5;202m trying directories\u001b[0m\n"
      ]
     },
     "metadata": {},
     "output_type": "display_data"
    },
    {
     "data": {
      "text/html": [
       "<pre style=\"white-space:pre;overflow-x:auto;line-height:normal;font-family:Menlo,'DejaVu Sans Mono',consolas,'Courier New',monospace\"><span style=\"color: #800000; text-decoration-color: #800000; font-weight: bold\">[💀] Could not find package.json in first-level-subdirs</span>\n",
       "</pre>\n"
      ],
      "text/plain": [
       "\u001b[1;31m[\u001b[0m\u001b[1;31m💀\u001b[0m\u001b[1;31m]\u001b[0m\u001b[1;31m Could not find package.json in first-level-subdirs\u001b[0m\n"
      ]
     },
     "metadata": {},
     "output_type": "display_data"
    },
    {
     "data": {
      "text/html": [
       "<pre style=\"white-space:pre;overflow-x:auto;line-height:normal;font-family:Menlo,'DejaVu Sans Mono',consolas,'Courier New',monospace\"><span style=\"color: #008080; text-decoration-color: #008080; font-weight: bold\">[+] Getting repo: </span><span style=\"color: #008080; text-decoration-color: #008080; font-weight: bold; text-decoration: underline\">https://github.com/yikuansun/webkitty</span>\n",
       "</pre>\n"
      ],
      "text/plain": [
       "\u001b[1;36m[\u001b[0m\u001b[1;36m+\u001b[0m\u001b[1;36m]\u001b[0m\u001b[1;36m Getting repo: \u001b[0m\u001b[1;4;36mhttps://github.com/yikuansun/webkitty\u001b[0m\n"
      ]
     },
     "metadata": {},
     "output_type": "display_data"
    },
    {
     "data": {
      "text/html": [
       "<pre style=\"white-space:pre;overflow-x:auto;line-height:normal;font-family:Menlo,'DejaVu Sans Mono',consolas,'Courier New',monospace\"><span style=\"color: #008080; text-decoration-color: #008080; font-weight: bold\">[+] Successfully retrieved repo: </span><span style=\"color: #008080; text-decoration-color: #008080; font-weight: bold; text-decoration: underline\">https://github.com/yikuansun/webkitty</span>\n",
       "</pre>\n"
      ],
      "text/plain": [
       "\u001b[1;36m[\u001b[0m\u001b[1;36m+\u001b[0m\u001b[1;36m]\u001b[0m\u001b[1;36m Successfully retrieved repo: \u001b[0m\u001b[1;4;36mhttps://github.com/yikuansun/webkitty\u001b[0m\n"
      ]
     },
     "metadata": {},
     "output_type": "display_data"
    },
    {
     "data": {
      "text/html": [
       "<pre style=\"white-space:pre;overflow-x:auto;line-height:normal;font-family:Menlo,'DejaVu Sans Mono',consolas,'Courier New',monospace\"><span style=\"color: #008080; text-decoration-color: #008080; font-weight: bold\">[+] Found package.json at </span><span style=\"color: #008080; text-decoration-color: #008080; font-weight: bold; text-decoration: underline\">https://github.com/yikuansun/webkitty</span>\n",
       "</pre>\n"
      ],
      "text/plain": [
       "\u001b[1;36m[\u001b[0m\u001b[1;36m+\u001b[0m\u001b[1;36m]\u001b[0m\u001b[1;36m Found package.json at \u001b[0m\u001b[1;4;36mhttps://github.com/yikuansun/webkitty\u001b[0m\n"
      ]
     },
     "metadata": {},
     "output_type": "display_data"
    },
    {
     "data": {
      "text/html": [
       "<pre style=\"white-space:pre;overflow-x:auto;line-height:normal;font-family:Menlo,'DejaVu Sans Mono',consolas,'Courier New',monospace\"><span style=\"color: #008080; text-decoration-color: #008080; font-weight: bold\">[+] Getting </span><span style=\"color: #008080; text-decoration-color: #008080; font-weight: bold; text-decoration: underline\">https://github.com/yikuansun/webkitty/blob/master/package.json</span>\n",
       "</pre>\n"
      ],
      "text/plain": [
       "\u001b[1;36m[\u001b[0m\u001b[1;36m+\u001b[0m\u001b[1;36m]\u001b[0m\u001b[1;36m Getting \u001b[0m\u001b[1;4;36mhttps://github.com/yikuansun/webkitty/blob/master/package.json\u001b[0m\n"
      ]
     },
     "metadata": {},
     "output_type": "display_data"
    },
    {
     "data": {
      "text/html": [
       "<pre style=\"white-space:pre;overflow-x:auto;line-height:normal;font-family:Menlo,'DejaVu Sans Mono',consolas,'Courier New',monospace\"><span style=\"color: #008080; text-decoration-color: #008080; font-weight: bold\">[+] Getting repo: </span><span style=\"color: #008080; text-decoration-color: #008080; font-weight: bold; text-decoration: underline\">https://github.com/webtorrent/webtorrent-desktop</span>\n",
       "</pre>\n"
      ],
      "text/plain": [
       "\u001b[1;36m[\u001b[0m\u001b[1;36m+\u001b[0m\u001b[1;36m]\u001b[0m\u001b[1;36m Getting repo: \u001b[0m\u001b[1;4;36mhttps://github.com/webtorrent/webtorrent-desktop\u001b[0m\n"
      ]
     },
     "metadata": {},
     "output_type": "display_data"
    },
    {
     "data": {
      "text/html": [
       "<pre style=\"white-space:pre;overflow-x:auto;line-height:normal;font-family:Menlo,'DejaVu Sans Mono',consolas,'Courier New',monospace\"><span style=\"color: #008080; text-decoration-color: #008080; font-weight: bold\">[+] Successfully retrieved repo: </span><span style=\"color: #008080; text-decoration-color: #008080; font-weight: bold; text-decoration: underline\">https://github.com/webtorrent/webtorrent-desktop</span>\n",
       "</pre>\n"
      ],
      "text/plain": [
       "\u001b[1;36m[\u001b[0m\u001b[1;36m+\u001b[0m\u001b[1;36m]\u001b[0m\u001b[1;36m Successfully retrieved repo: \u001b[0m\u001b[1;4;36mhttps://github.com/webtorrent/webtorrent-desktop\u001b[0m\n"
      ]
     },
     "metadata": {},
     "output_type": "display_data"
    },
    {
     "data": {
      "text/html": [
       "<pre style=\"white-space:pre;overflow-x:auto;line-height:normal;font-family:Menlo,'DejaVu Sans Mono',consolas,'Courier New',monospace\"><span style=\"color: #008080; text-decoration-color: #008080; font-weight: bold\">[+] Found package.json at </span><span style=\"color: #008080; text-decoration-color: #008080; font-weight: bold; text-decoration: underline\">https://github.com/webtorrent/webtorrent-desktop</span>\n",
       "</pre>\n"
      ],
      "text/plain": [
       "\u001b[1;36m[\u001b[0m\u001b[1;36m+\u001b[0m\u001b[1;36m]\u001b[0m\u001b[1;36m Found package.json at \u001b[0m\u001b[1;4;36mhttps://github.com/webtorrent/webtorrent-desktop\u001b[0m\n"
      ]
     },
     "metadata": {},
     "output_type": "display_data"
    },
    {
     "data": {
      "text/html": [
       "<pre style=\"white-space:pre;overflow-x:auto;line-height:normal;font-family:Menlo,'DejaVu Sans Mono',consolas,'Courier New',monospace\"><span style=\"color: #008080; text-decoration-color: #008080; font-weight: bold\">[+] Getting </span><span style=\"color: #008080; text-decoration-color: #008080; font-weight: bold; text-decoration: underline\">https://github.com/webtorrent/webtorrent-desktop/blob/master/package.json</span>\n",
       "</pre>\n"
      ],
      "text/plain": [
       "\u001b[1;36m[\u001b[0m\u001b[1;36m+\u001b[0m\u001b[1;36m]\u001b[0m\u001b[1;36m Getting \u001b[0m\u001b[1;4;36mhttps://github.com/webtorrent/webtorrent-desktop/blob/master/package.json\u001b[0m\n"
      ]
     },
     "metadata": {},
     "output_type": "display_data"
    },
    {
     "data": {
      "text/html": [
       "<pre style=\"white-space:pre;overflow-x:auto;line-height:normal;font-family:Menlo,'DejaVu Sans Mono',consolas,'Courier New',monospace\"><span style=\"color: #008080; text-decoration-color: #008080; font-weight: bold\">[+] Getting repo: </span><span style=\"color: #008080; text-decoration-color: #008080; font-weight: bold; text-decoration: underline\">https://github.com/getstream/winds</span>\n",
       "</pre>\n"
      ],
      "text/plain": [
       "\u001b[1;36m[\u001b[0m\u001b[1;36m+\u001b[0m\u001b[1;36m]\u001b[0m\u001b[1;36m Getting repo: \u001b[0m\u001b[1;4;36mhttps://github.com/getstream/winds\u001b[0m\n"
      ]
     },
     "metadata": {},
     "output_type": "display_data"
    },
    {
     "data": {
      "text/html": [
       "<pre style=\"white-space:pre;overflow-x:auto;line-height:normal;font-family:Menlo,'DejaVu Sans Mono',consolas,'Courier New',monospace\"><span style=\"color: #008080; text-decoration-color: #008080; font-weight: bold\">[+] Successfully retrieved repo: </span><span style=\"color: #008080; text-decoration-color: #008080; font-weight: bold; text-decoration: underline\">https://github.com/getstream/winds</span>\n",
       "</pre>\n"
      ],
      "text/plain": [
       "\u001b[1;36m[\u001b[0m\u001b[1;36m+\u001b[0m\u001b[1;36m]\u001b[0m\u001b[1;36m Successfully retrieved repo: \u001b[0m\u001b[1;4;36mhttps://github.com/getstream/winds\u001b[0m\n"
      ]
     },
     "metadata": {},
     "output_type": "display_data"
    },
    {
     "data": {
      "text/html": [
       "<pre style=\"white-space:pre;overflow-x:auto;line-height:normal;font-family:Menlo,'DejaVu Sans Mono',consolas,'Courier New',monospace\"><span style=\"color: #ff5f00; text-decoration-color: #ff5f00; font-weight: bold\">[!] Package.json not found at root of </span><span style=\"color: #ff5f00; text-decoration-color: #ff5f00; font-weight: bold; text-decoration: underline\">https://github.com/getstream/winds;</span><span style=\"color: #ff5f00; text-decoration-color: #ff5f00; font-weight: bold\"> trying directories</span>\n",
       "</pre>\n"
      ],
      "text/plain": [
       "\u001b[1;38;5;202m[\u001b[0m\u001b[1;38;5;202m!\u001b[0m\u001b[1;38;5;202m]\u001b[0m\u001b[1;38;5;202m Package.json not found at root of \u001b[0m\u001b[1;4;38;5;202mhttps://github.com/getstream/winds;\u001b[0m\u001b[1;38;5;202m trying directories\u001b[0m\n"
      ]
     },
     "metadata": {},
     "output_type": "display_data"
    },
    {
     "data": {
      "text/html": [
       "<pre style=\"white-space:pre;overflow-x:auto;line-height:normal;font-family:Menlo,'DejaVu Sans Mono',consolas,'Courier New',monospace\"><span style=\"color: #008080; text-decoration-color: #008080; font-weight: bold\">[+] Trying </span><span style=\"color: #008080; text-decoration-color: #008080; font-weight: bold; text-decoration: underline\">https://github.com/GetStream/Winds/tree/master/.github</span>\n",
       "</pre>\n"
      ],
      "text/plain": [
       "\u001b[1;36m[\u001b[0m\u001b[1;36m+\u001b[0m\u001b[1;36m]\u001b[0m\u001b[1;36m Trying \u001b[0m\u001b[1;4;36mhttps://github.com/GetStream/Winds/tree/master/.github\u001b[0m\n"
      ]
     },
     "metadata": {},
     "output_type": "display_data"
    },
    {
     "data": {
      "text/html": [
       "<pre style=\"white-space:pre;overflow-x:auto;line-height:normal;font-family:Menlo,'DejaVu Sans Mono',consolas,'Courier New',monospace\"><span style=\"color: #008080; text-decoration-color: #008080; font-weight: bold\">[+] Trying </span><span style=\"color: #008080; text-decoration-color: #008080; font-weight: bold; text-decoration: underline\">https://github.com/GetStream/Winds/tree/master/api</span>\n",
       "</pre>\n"
      ],
      "text/plain": [
       "\u001b[1;36m[\u001b[0m\u001b[1;36m+\u001b[0m\u001b[1;36m]\u001b[0m\u001b[1;36m Trying \u001b[0m\u001b[1;4;36mhttps://github.com/GetStream/Winds/tree/master/api\u001b[0m\n"
      ]
     },
     "metadata": {},
     "output_type": "display_data"
    },
    {
     "data": {
      "text/html": [
       "<pre style=\"white-space:pre;overflow-x:auto;line-height:normal;font-family:Menlo,'DejaVu Sans Mono',consolas,'Courier New',monospace\"><span style=\"color: #008080; text-decoration-color: #008080; font-weight: bold\">[+] Trying </span><span style=\"color: #008080; text-decoration-color: #008080; font-weight: bold; text-decoration: underline\">https://github.com/GetStream/Winds/tree/master/app</span>\n",
       "</pre>\n"
      ],
      "text/plain": [
       "\u001b[1;36m[\u001b[0m\u001b[1;36m+\u001b[0m\u001b[1;36m]\u001b[0m\u001b[1;36m Trying \u001b[0m\u001b[1;4;36mhttps://github.com/GetStream/Winds/tree/master/app\u001b[0m\n"
      ]
     },
     "metadata": {},
     "output_type": "display_data"
    },
    {
     "data": {
      "text/html": [
       "<pre style=\"white-space:pre;overflow-x:auto;line-height:normal;font-family:Menlo,'DejaVu Sans Mono',consolas,'Courier New',monospace\"><span style=\"color: #008080; text-decoration-color: #008080; font-weight: bold\">[+] Trying </span><span style=\"color: #008080; text-decoration-color: #008080; font-weight: bold; text-decoration: underline\">https://github.com/GetStream/Winds/tree/master/scripts</span>\n",
       "</pre>\n"
      ],
      "text/plain": [
       "\u001b[1;36m[\u001b[0m\u001b[1;36m+\u001b[0m\u001b[1;36m]\u001b[0m\u001b[1;36m Trying \u001b[0m\u001b[1;4;36mhttps://github.com/GetStream/Winds/tree/master/scripts\u001b[0m\n"
      ]
     },
     "metadata": {},
     "output_type": "display_data"
    },
    {
     "data": {
      "text/html": [
       "<pre style=\"white-space:pre;overflow-x:auto;line-height:normal;font-family:Menlo,'DejaVu Sans Mono',consolas,'Courier New',monospace\"><span style=\"color: #008080; text-decoration-color: #008080; font-weight: bold\">[+] Trying </span><span style=\"color: #008080; text-decoration-color: #008080; font-weight: bold; text-decoration: underline\">https://github.com/GetStream/Winds/tree/master/api/test</span>\n",
       "</pre>\n"
      ],
      "text/plain": [
       "\u001b[1;36m[\u001b[0m\u001b[1;36m+\u001b[0m\u001b[1;36m]\u001b[0m\u001b[1;36m Trying \u001b[0m\u001b[1;4;36mhttps://github.com/GetStream/Winds/tree/master/api/test\u001b[0m\n"
      ]
     },
     "metadata": {},
     "output_type": "display_data"
    },
    {
     "data": {
      "text/html": [
       "<pre style=\"white-space:pre;overflow-x:auto;line-height:normal;font-family:Menlo,'DejaVu Sans Mono',consolas,'Courier New',monospace\"><span style=\"color: #008080; text-decoration-color: #008080; font-weight: bold\">[+] Trying </span><span style=\"color: #008080; text-decoration-color: #008080; font-weight: bold; text-decoration: underline\">https://github.com/GetStream/Winds/tree/master/api/test/fixtures</span>\n",
       "</pre>\n"
      ],
      "text/plain": [
       "\u001b[1;36m[\u001b[0m\u001b[1;36m+\u001b[0m\u001b[1;36m]\u001b[0m\u001b[1;36m Trying \u001b[0m\u001b[1;4;36mhttps://github.com/GetStream/Winds/tree/master/api/test/fixtures\u001b[0m\n"
      ]
     },
     "metadata": {},
     "output_type": "display_data"
    },
    {
     "data": {
      "text/html": [
       "<pre style=\"white-space:pre;overflow-x:auto;line-height:normal;font-family:Menlo,'DejaVu Sans Mono',consolas,'Courier New',monospace\"><span style=\"color: #800000; text-decoration-color: #800000; font-weight: bold\">[💀] Could not find package.json in first-level-subdirs</span>\n",
       "</pre>\n"
      ],
      "text/plain": [
       "\u001b[1;31m[\u001b[0m\u001b[1;31m💀\u001b[0m\u001b[1;31m]\u001b[0m\u001b[1;31m Could not find package.json in first-level-subdirs\u001b[0m\n"
      ]
     },
     "metadata": {},
     "output_type": "display_data"
    },
    {
     "data": {
      "text/html": [
       "<pre style=\"white-space:pre;overflow-x:auto;line-height:normal;font-family:Menlo,'DejaVu Sans Mono',consolas,'Courier New',monospace\"><span style=\"color: #008080; text-decoration-color: #008080; font-weight: bold\">[+] Getting repo: </span><span style=\"color: #008080; text-decoration-color: #008080; font-weight: bold; text-decoration: underline\">https://github.com/wireapp</span>\n",
       "</pre>\n"
      ],
      "text/plain": [
       "\u001b[1;36m[\u001b[0m\u001b[1;36m+\u001b[0m\u001b[1;36m]\u001b[0m\u001b[1;36m Getting repo: \u001b[0m\u001b[1;4;36mhttps://github.com/wireapp\u001b[0m\n"
      ]
     },
     "metadata": {},
     "output_type": "display_data"
    },
    {
     "data": {
      "text/html": [
       "<pre style=\"white-space:pre;overflow-x:auto;line-height:normal;font-family:Menlo,'DejaVu Sans Mono',consolas,'Courier New',monospace\"><span style=\"color: #008080; text-decoration-color: #008080; font-weight: bold\">[+] Successfully retrieved repo: </span><span style=\"color: #008080; text-decoration-color: #008080; font-weight: bold; text-decoration: underline\">https://github.com/wireapp</span>\n",
       "</pre>\n"
      ],
      "text/plain": [
       "\u001b[1;36m[\u001b[0m\u001b[1;36m+\u001b[0m\u001b[1;36m]\u001b[0m\u001b[1;36m Successfully retrieved repo: \u001b[0m\u001b[1;4;36mhttps://github.com/wireapp\u001b[0m\n"
      ]
     },
     "metadata": {},
     "output_type": "display_data"
    },
    {
     "data": {
      "text/html": [
       "<pre style=\"white-space:pre;overflow-x:auto;line-height:normal;font-family:Menlo,'DejaVu Sans Mono',consolas,'Courier New',monospace\"><span style=\"color: #ff5f00; text-decoration-color: #ff5f00; font-weight: bold\">[!] Package.json not found at root of </span><span style=\"color: #ff5f00; text-decoration-color: #ff5f00; font-weight: bold; text-decoration: underline\">https://github.com/wireapp;</span><span style=\"color: #ff5f00; text-decoration-color: #ff5f00; font-weight: bold\"> trying directories</span>\n",
       "</pre>\n"
      ],
      "text/plain": [
       "\u001b[1;38;5;202m[\u001b[0m\u001b[1;38;5;202m!\u001b[0m\u001b[1;38;5;202m]\u001b[0m\u001b[1;38;5;202m Package.json not found at root of \u001b[0m\u001b[1;4;38;5;202mhttps://github.com/wireapp;\u001b[0m\u001b[1;38;5;202m trying directories\u001b[0m\n"
      ]
     },
     "metadata": {},
     "output_type": "display_data"
    },
    {
     "data": {
      "text/html": [
       "<pre style=\"white-space:pre;overflow-x:auto;line-height:normal;font-family:Menlo,'DejaVu Sans Mono',consolas,'Courier New',monospace\"><span style=\"color: #008080; text-decoration-color: #008080; font-weight: bold\">[+] Trying </span><span style=\"color: #008080; text-decoration-color: #008080; font-weight: bold; text-decoration: underline\">https://github.com/wireapp/.github/tree/main/profile/README.md</span>\n",
       "</pre>\n"
      ],
      "text/plain": [
       "\u001b[1;36m[\u001b[0m\u001b[1;36m+\u001b[0m\u001b[1;36m]\u001b[0m\u001b[1;36m Trying \u001b[0m\u001b[1;4;36mhttps://github.com/wireapp/.github/tree/main/profile/README.md\u001b[0m\n"
      ]
     },
     "metadata": {},
     "output_type": "display_data"
    },
    {
     "data": {
      "text/html": [
       "<pre style=\"white-space:pre;overflow-x:auto;line-height:normal;font-family:Menlo,'DejaVu Sans Mono',consolas,'Courier New',monospace\"><span style=\"color: #800000; text-decoration-color: #800000; font-weight: bold\">[💀] Could not find package.json in first-level-subdirs</span>\n",
       "</pre>\n"
      ],
      "text/plain": [
       "\u001b[1;31m[\u001b[0m\u001b[1;31m💀\u001b[0m\u001b[1;31m]\u001b[0m\u001b[1;31m Could not find package.json in first-level-subdirs\u001b[0m\n"
      ]
     },
     "metadata": {},
     "output_type": "display_data"
    },
    {
     "data": {
      "text/html": [
       "<pre style=\"white-space:pre;overflow-x:auto;line-height:normal;font-family:Menlo,'DejaVu Sans Mono',consolas,'Courier New',monospace\"><span style=\"color: #008080; text-decoration-color: #008080; font-weight: bold\">[+] Getting repo: </span><span style=\"color: #008080; text-decoration-color: #008080; font-weight: bold; text-decoration: underline\">https://www.github.com/Sanjit1/WizardMirror</span>\n",
       "</pre>\n"
      ],
      "text/plain": [
       "\u001b[1;36m[\u001b[0m\u001b[1;36m+\u001b[0m\u001b[1;36m]\u001b[0m\u001b[1;36m Getting repo: \u001b[0m\u001b[1;4;36mhttps://www.github.com/Sanjit1/WizardMirror\u001b[0m\n"
      ]
     },
     "metadata": {},
     "output_type": "display_data"
    },
    {
     "data": {
      "text/html": [
       "<pre style=\"white-space:pre;overflow-x:auto;line-height:normal;font-family:Menlo,'DejaVu Sans Mono',consolas,'Courier New',monospace\"><span style=\"color: #008080; text-decoration-color: #008080; font-weight: bold\">[+] Successfully retrieved repo: </span><span style=\"color: #008080; text-decoration-color: #008080; font-weight: bold; text-decoration: underline\">https://www.github.com/Sanjit1/WizardMirror</span>\n",
       "</pre>\n"
      ],
      "text/plain": [
       "\u001b[1;36m[\u001b[0m\u001b[1;36m+\u001b[0m\u001b[1;36m]\u001b[0m\u001b[1;36m Successfully retrieved repo: \u001b[0m\u001b[1;4;36mhttps://www.github.com/Sanjit1/WizardMirror\u001b[0m\n"
      ]
     },
     "metadata": {},
     "output_type": "display_data"
    },
    {
     "data": {
      "text/html": [
       "<pre style=\"white-space:pre;overflow-x:auto;line-height:normal;font-family:Menlo,'DejaVu Sans Mono',consolas,'Courier New',monospace\"><span style=\"color: #008080; text-decoration-color: #008080; font-weight: bold\">[+] Found package.json at </span><span style=\"color: #008080; text-decoration-color: #008080; font-weight: bold; text-decoration: underline\">https://www.github.com/Sanjit1/WizardMirror</span>\n",
       "</pre>\n"
      ],
      "text/plain": [
       "\u001b[1;36m[\u001b[0m\u001b[1;36m+\u001b[0m\u001b[1;36m]\u001b[0m\u001b[1;36m Found package.json at \u001b[0m\u001b[1;4;36mhttps://www.github.com/Sanjit1/WizardMirror\u001b[0m\n"
      ]
     },
     "metadata": {},
     "output_type": "display_data"
    },
    {
     "data": {
      "text/html": [
       "<pre style=\"white-space:pre;overflow-x:auto;line-height:normal;font-family:Menlo,'DejaVu Sans Mono',consolas,'Courier New',monospace\"><span style=\"color: #008080; text-decoration-color: #008080; font-weight: bold\">[+] Getting </span><span style=\"color: #008080; text-decoration-color: #008080; font-weight: bold; text-decoration: underline\">https://www.github.com/Sanjit1/WizardMirror/blob/master/package.json</span>\n",
       "</pre>\n"
      ],
      "text/plain": [
       "\u001b[1;36m[\u001b[0m\u001b[1;36m+\u001b[0m\u001b[1;36m]\u001b[0m\u001b[1;36m Getting \u001b[0m\u001b[1;4;36mhttps://www.github.com/Sanjit1/WizardMirror/blob/master/package.json\u001b[0m\n"
      ]
     },
     "metadata": {},
     "output_type": "display_data"
    },
    {
     "data": {
      "text/html": [
       "<pre style=\"white-space:pre;overflow-x:auto;line-height:normal;font-family:Menlo,'DejaVu Sans Mono',consolas,'Courier New',monospace\"><span style=\"color: #008080; text-decoration-color: #008080; font-weight: bold\">[+] Getting repo: </span><span style=\"color: #008080; text-decoration-color: #008080; font-weight: bold; text-decoration: underline\">https://github.com/RoderickQiu/wnr</span>\n",
       "</pre>\n"
      ],
      "text/plain": [
       "\u001b[1;36m[\u001b[0m\u001b[1;36m+\u001b[0m\u001b[1;36m]\u001b[0m\u001b[1;36m Getting repo: \u001b[0m\u001b[1;4;36mhttps://github.com/RoderickQiu/wnr\u001b[0m\n"
      ]
     },
     "metadata": {},
     "output_type": "display_data"
    },
    {
     "data": {
      "text/html": [
       "<pre style=\"white-space:pre;overflow-x:auto;line-height:normal;font-family:Menlo,'DejaVu Sans Mono',consolas,'Courier New',monospace\"><span style=\"color: #008080; text-decoration-color: #008080; font-weight: bold\">[+] Successfully retrieved repo: </span><span style=\"color: #008080; text-decoration-color: #008080; font-weight: bold; text-decoration: underline\">https://github.com/RoderickQiu/wnr</span>\n",
       "</pre>\n"
      ],
      "text/plain": [
       "\u001b[1;36m[\u001b[0m\u001b[1;36m+\u001b[0m\u001b[1;36m]\u001b[0m\u001b[1;36m Successfully retrieved repo: \u001b[0m\u001b[1;4;36mhttps://github.com/RoderickQiu/wnr\u001b[0m\n"
      ]
     },
     "metadata": {},
     "output_type": "display_data"
    },
    {
     "data": {
      "text/html": [
       "<pre style=\"white-space:pre;overflow-x:auto;line-height:normal;font-family:Menlo,'DejaVu Sans Mono',consolas,'Courier New',monospace\"><span style=\"color: #008080; text-decoration-color: #008080; font-weight: bold\">[+] Found package.json at </span><span style=\"color: #008080; text-decoration-color: #008080; font-weight: bold; text-decoration: underline\">https://github.com/RoderickQiu/wnr</span>\n",
       "</pre>\n"
      ],
      "text/plain": [
       "\u001b[1;36m[\u001b[0m\u001b[1;36m+\u001b[0m\u001b[1;36m]\u001b[0m\u001b[1;36m Found package.json at \u001b[0m\u001b[1;4;36mhttps://github.com/RoderickQiu/wnr\u001b[0m\n"
      ]
     },
     "metadata": {},
     "output_type": "display_data"
    },
    {
     "data": {
      "text/html": [
       "<pre style=\"white-space:pre;overflow-x:auto;line-height:normal;font-family:Menlo,'DejaVu Sans Mono',consolas,'Courier New',monospace\"><span style=\"color: #008080; text-decoration-color: #008080; font-weight: bold\">[+] Getting </span><span style=\"color: #008080; text-decoration-color: #008080; font-weight: bold; text-decoration: underline\">https://github.com/RoderickQiu/wnr/blob/master/package.json</span>\n",
       "</pre>\n"
      ],
      "text/plain": [
       "\u001b[1;36m[\u001b[0m\u001b[1;36m+\u001b[0m\u001b[1;36m]\u001b[0m\u001b[1;36m Getting \u001b[0m\u001b[1;4;36mhttps://github.com/RoderickQiu/wnr/blob/master/package.json\u001b[0m\n"
      ]
     },
     "metadata": {},
     "output_type": "display_data"
    },
    {
     "data": {
      "text/html": [
       "<pre style=\"white-space:pre;overflow-x:auto;line-height:normal;font-family:Menlo,'DejaVu Sans Mono',consolas,'Courier New',monospace\"><span style=\"color: #008080; text-decoration-color: #008080; font-weight: bold\">[+] Getting repo: </span><span style=\"color: #008080; text-decoration-color: #008080; font-weight: bold; text-decoration: underline\">https://github.com/FalconSoft/worksheets-data.studio</span>\n",
       "</pre>\n"
      ],
      "text/plain": [
       "\u001b[1;36m[\u001b[0m\u001b[1;36m+\u001b[0m\u001b[1;36m]\u001b[0m\u001b[1;36m Getting repo: \u001b[0m\u001b[1;4;36mhttps://github.com/FalconSoft/worksheets-data.studio\u001b[0m\n"
      ]
     },
     "metadata": {},
     "output_type": "display_data"
    },
    {
     "data": {
      "text/html": [
       "<pre style=\"white-space:pre;overflow-x:auto;line-height:normal;font-family:Menlo,'DejaVu Sans Mono',consolas,'Courier New',monospace\"><span style=\"color: #008080; text-decoration-color: #008080; font-weight: bold\">[+] Successfully retrieved repo: </span><span style=\"color: #008080; text-decoration-color: #008080; font-weight: bold; text-decoration: underline\">https://github.com/FalconSoft/worksheets-data.studio</span>\n",
       "</pre>\n"
      ],
      "text/plain": [
       "\u001b[1;36m[\u001b[0m\u001b[1;36m+\u001b[0m\u001b[1;36m]\u001b[0m\u001b[1;36m Successfully retrieved repo: \u001b[0m\u001b[1;4;36mhttps://github.com/FalconSoft/worksheets-data.studio\u001b[0m\n"
      ]
     },
     "metadata": {},
     "output_type": "display_data"
    },
    {
     "data": {
      "text/html": [
       "<pre style=\"white-space:pre;overflow-x:auto;line-height:normal;font-family:Menlo,'DejaVu Sans Mono',consolas,'Courier New',monospace\"><span style=\"color: #ff5f00; text-decoration-color: #ff5f00; font-weight: bold\">[!] Package.json not found at root of </span><span style=\"color: #ff5f00; text-decoration-color: #ff5f00; font-weight: bold; text-decoration: underline\">https://github.com/FalconSoft/worksheets-data.studio;</span><span style=\"color: #ff5f00; text-decoration-color: #ff5f00; font-weight: bold\"> trying directories</span>\n",
       "</pre>\n"
      ],
      "text/plain": [
       "\u001b[1;38;5;202m[\u001b[0m\u001b[1;38;5;202m!\u001b[0m\u001b[1;38;5;202m]\u001b[0m\u001b[1;38;5;202m Package.json not found at root of \u001b[0m\u001b[1;4;38;5;202mhttps://github.com/FalconSoft/worksheets-data.studio;\u001b[0m\u001b[1;38;5;202m trying directories\u001b[0m\n"
      ]
     },
     "metadata": {},
     "output_type": "display_data"
    },
    {
     "data": {
      "text/html": [
       "<pre style=\"white-space:pre;overflow-x:auto;line-height:normal;font-family:Menlo,'DejaVu Sans Mono',consolas,'Courier New',monospace\"><span style=\"color: #800000; text-decoration-color: #800000; font-weight: bold\">[💀] Could not find package.json in first-level-subdirs</span>\n",
       "</pre>\n"
      ],
      "text/plain": [
       "\u001b[1;31m[\u001b[0m\u001b[1;31m💀\u001b[0m\u001b[1;31m]\u001b[0m\u001b[1;31m Could not find package.json in first-level-subdirs\u001b[0m\n"
      ]
     },
     "metadata": {},
     "output_type": "display_data"
    },
    {
     "data": {
      "text/html": [
       "<pre style=\"white-space:pre;overflow-x:auto;line-height:normal;font-family:Menlo,'DejaVu Sans Mono',consolas,'Courier New',monospace\"><span style=\"color: #008080; text-decoration-color: #008080; font-weight: bold\">[+] Getting repo: </span><span style=\"color: #008080; text-decoration-color: #008080; font-weight: bold; text-decoration: underline\">https://github.com/alexander-shvets/writebar</span>\n",
       "</pre>\n"
      ],
      "text/plain": [
       "\u001b[1;36m[\u001b[0m\u001b[1;36m+\u001b[0m\u001b[1;36m]\u001b[0m\u001b[1;36m Getting repo: \u001b[0m\u001b[1;4;36mhttps://github.com/alexander-shvets/writebar\u001b[0m\n"
      ]
     },
     "metadata": {},
     "output_type": "display_data"
    },
    {
     "data": {
      "text/html": [
       "<pre style=\"white-space:pre;overflow-x:auto;line-height:normal;font-family:Menlo,'DejaVu Sans Mono',consolas,'Courier New',monospace\"><span style=\"color: #008080; text-decoration-color: #008080; font-weight: bold\">[+] Successfully retrieved repo: </span><span style=\"color: #008080; text-decoration-color: #008080; font-weight: bold; text-decoration: underline\">https://github.com/alexander-shvets/writebar</span>\n",
       "</pre>\n"
      ],
      "text/plain": [
       "\u001b[1;36m[\u001b[0m\u001b[1;36m+\u001b[0m\u001b[1;36m]\u001b[0m\u001b[1;36m Successfully retrieved repo: \u001b[0m\u001b[1;4;36mhttps://github.com/alexander-shvets/writebar\u001b[0m\n"
      ]
     },
     "metadata": {},
     "output_type": "display_data"
    },
    {
     "data": {
      "text/html": [
       "<pre style=\"white-space:pre;overflow-x:auto;line-height:normal;font-family:Menlo,'DejaVu Sans Mono',consolas,'Courier New',monospace\"><span style=\"color: #008080; text-decoration-color: #008080; font-weight: bold\">[+] Found package.json at </span><span style=\"color: #008080; text-decoration-color: #008080; font-weight: bold; text-decoration: underline\">https://github.com/alexander-shvets/writebar</span>\n",
       "</pre>\n"
      ],
      "text/plain": [
       "\u001b[1;36m[\u001b[0m\u001b[1;36m+\u001b[0m\u001b[1;36m]\u001b[0m\u001b[1;36m Found package.json at \u001b[0m\u001b[1;4;36mhttps://github.com/alexander-shvets/writebar\u001b[0m\n"
      ]
     },
     "metadata": {},
     "output_type": "display_data"
    },
    {
     "data": {
      "text/html": [
       "<pre style=\"white-space:pre;overflow-x:auto;line-height:normal;font-family:Menlo,'DejaVu Sans Mono',consolas,'Courier New',monospace\"><span style=\"color: #008080; text-decoration-color: #008080; font-weight: bold\">[+] Getting </span><span style=\"color: #008080; text-decoration-color: #008080; font-weight: bold; text-decoration: underline\">https://github.com/oleksandr-shvets/writebar/blob/master/package.json</span>\n",
       "</pre>\n"
      ],
      "text/plain": [
       "\u001b[1;36m[\u001b[0m\u001b[1;36m+\u001b[0m\u001b[1;36m]\u001b[0m\u001b[1;36m Getting \u001b[0m\u001b[1;4;36mhttps://github.com/oleksandr-shvets/writebar/blob/master/package.json\u001b[0m\n"
      ]
     },
     "metadata": {},
     "output_type": "display_data"
    },
    {
     "data": {
      "text/html": [
       "<pre style=\"white-space:pre;overflow-x:auto;line-height:normal;font-family:Menlo,'DejaVu Sans Mono',consolas,'Courier New',monospace\"><span style=\"color: #008080; text-decoration-color: #008080; font-weight: bold\">[+] Getting repo: </span><span style=\"color: #008080; text-decoration-color: #008080; font-weight: bold; text-decoration: underline\">https://github.com/lukasbach/yana</span>\n",
       "</pre>\n"
      ],
      "text/plain": [
       "\u001b[1;36m[\u001b[0m\u001b[1;36m+\u001b[0m\u001b[1;36m]\u001b[0m\u001b[1;36m Getting repo: \u001b[0m\u001b[1;4;36mhttps://github.com/lukasbach/yana\u001b[0m\n"
      ]
     },
     "metadata": {},
     "output_type": "display_data"
    },
    {
     "data": {
      "text/html": [
       "<pre style=\"white-space:pre;overflow-x:auto;line-height:normal;font-family:Menlo,'DejaVu Sans Mono',consolas,'Courier New',monospace\"><span style=\"color: #008080; text-decoration-color: #008080; font-weight: bold\">[+] Successfully retrieved repo: </span><span style=\"color: #008080; text-decoration-color: #008080; font-weight: bold; text-decoration: underline\">https://github.com/lukasbach/yana</span>\n",
       "</pre>\n"
      ],
      "text/plain": [
       "\u001b[1;36m[\u001b[0m\u001b[1;36m+\u001b[0m\u001b[1;36m]\u001b[0m\u001b[1;36m Successfully retrieved repo: \u001b[0m\u001b[1;4;36mhttps://github.com/lukasbach/yana\u001b[0m\n"
      ]
     },
     "metadata": {},
     "output_type": "display_data"
    },
    {
     "data": {
      "text/html": [
       "<pre style=\"white-space:pre;overflow-x:auto;line-height:normal;font-family:Menlo,'DejaVu Sans Mono',consolas,'Courier New',monospace\"><span style=\"color: #008080; text-decoration-color: #008080; font-weight: bold\">[+] Found package.json at </span><span style=\"color: #008080; text-decoration-color: #008080; font-weight: bold; text-decoration: underline\">https://github.com/lukasbach/yana</span>\n",
       "</pre>\n"
      ],
      "text/plain": [
       "\u001b[1;36m[\u001b[0m\u001b[1;36m+\u001b[0m\u001b[1;36m]\u001b[0m\u001b[1;36m Found package.json at \u001b[0m\u001b[1;4;36mhttps://github.com/lukasbach/yana\u001b[0m\n"
      ]
     },
     "metadata": {},
     "output_type": "display_data"
    },
    {
     "data": {
      "text/html": [
       "<pre style=\"white-space:pre;overflow-x:auto;line-height:normal;font-family:Menlo,'DejaVu Sans Mono',consolas,'Courier New',monospace\"><span style=\"color: #008080; text-decoration-color: #008080; font-weight: bold\">[+] Getting </span><span style=\"color: #008080; text-decoration-color: #008080; font-weight: bold; text-decoration: underline\">https://github.com/lukasbach/yana/blob/master/package.json</span>\n",
       "</pre>\n"
      ],
      "text/plain": [
       "\u001b[1;36m[\u001b[0m\u001b[1;36m+\u001b[0m\u001b[1;36m]\u001b[0m\u001b[1;36m Getting \u001b[0m\u001b[1;4;36mhttps://github.com/lukasbach/yana/blob/master/package.json\u001b[0m\n"
      ]
     },
     "metadata": {},
     "output_type": "display_data"
    },
    {
     "data": {
      "text/html": [
       "<pre style=\"white-space:pre;overflow-x:auto;line-height:normal;font-family:Menlo,'DejaVu Sans Mono',consolas,'Courier New',monospace\"><span style=\"color: #008080; text-decoration-color: #008080; font-weight: bold\">[+] Getting repo: </span><span style=\"color: #008080; text-decoration-color: #008080; font-weight: bold; text-decoration: underline\">https://github.com/Venipa/ytmdesktop2</span>\n",
       "</pre>\n"
      ],
      "text/plain": [
       "\u001b[1;36m[\u001b[0m\u001b[1;36m+\u001b[0m\u001b[1;36m]\u001b[0m\u001b[1;36m Getting repo: \u001b[0m\u001b[1;4;36mhttps://github.com/Venipa/ytmdesktop2\u001b[0m\n"
      ]
     },
     "metadata": {},
     "output_type": "display_data"
    },
    {
     "data": {
      "text/html": [
       "<pre style=\"white-space:pre;overflow-x:auto;line-height:normal;font-family:Menlo,'DejaVu Sans Mono',consolas,'Courier New',monospace\"><span style=\"color: #008080; text-decoration-color: #008080; font-weight: bold\">[+] Successfully retrieved repo: </span><span style=\"color: #008080; text-decoration-color: #008080; font-weight: bold; text-decoration: underline\">https://github.com/Venipa/ytmdesktop2</span>\n",
       "</pre>\n"
      ],
      "text/plain": [
       "\u001b[1;36m[\u001b[0m\u001b[1;36m+\u001b[0m\u001b[1;36m]\u001b[0m\u001b[1;36m Successfully retrieved repo: \u001b[0m\u001b[1;4;36mhttps://github.com/Venipa/ytmdesktop2\u001b[0m\n"
      ]
     },
     "metadata": {},
     "output_type": "display_data"
    },
    {
     "data": {
      "text/html": [
       "<pre style=\"white-space:pre;overflow-x:auto;line-height:normal;font-family:Menlo,'DejaVu Sans Mono',consolas,'Courier New',monospace\"><span style=\"color: #008080; text-decoration-color: #008080; font-weight: bold\">[+] Found package.json at </span><span style=\"color: #008080; text-decoration-color: #008080; font-weight: bold; text-decoration: underline\">https://github.com/Venipa/ytmdesktop2</span>\n",
       "</pre>\n"
      ],
      "text/plain": [
       "\u001b[1;36m[\u001b[0m\u001b[1;36m+\u001b[0m\u001b[1;36m]\u001b[0m\u001b[1;36m Found package.json at \u001b[0m\u001b[1;4;36mhttps://github.com/Venipa/ytmdesktop2\u001b[0m\n"
      ]
     },
     "metadata": {},
     "output_type": "display_data"
    },
    {
     "data": {
      "text/html": [
       "<pre style=\"white-space:pre;overflow-x:auto;line-height:normal;font-family:Menlo,'DejaVu Sans Mono',consolas,'Courier New',monospace\"><span style=\"color: #008080; text-decoration-color: #008080; font-weight: bold\">[+] Getting </span><span style=\"color: #008080; text-decoration-color: #008080; font-weight: bold; text-decoration: underline\">https://github.com/Venipa/ytmdesktop2/blob/master/package.json</span>\n",
       "</pre>\n"
      ],
      "text/plain": [
       "\u001b[1;36m[\u001b[0m\u001b[1;36m+\u001b[0m\u001b[1;36m]\u001b[0m\u001b[1;36m Getting \u001b[0m\u001b[1;4;36mhttps://github.com/Venipa/ytmdesktop2/blob/master/package.json\u001b[0m\n"
      ]
     },
     "metadata": {},
     "output_type": "display_data"
    },
    {
     "data": {
      "text/html": [
       "<pre style=\"white-space:pre;overflow-x:auto;line-height:normal;font-family:Menlo,'DejaVu Sans Mono',consolas,'Courier New',monospace\"><span style=\"color: #008080; text-decoration-color: #008080; font-weight: bold\">[+] Getting repo: </span><span style=\"color: #008080; text-decoration-color: #008080; font-weight: bold; text-decoration: underline\">https://github.com/adlerluiz/ytmdesktop</span>\n",
       "</pre>\n"
      ],
      "text/plain": [
       "\u001b[1;36m[\u001b[0m\u001b[1;36m+\u001b[0m\u001b[1;36m]\u001b[0m\u001b[1;36m Getting repo: \u001b[0m\u001b[1;4;36mhttps://github.com/adlerluiz/ytmdesktop\u001b[0m\n"
      ]
     },
     "metadata": {},
     "output_type": "display_data"
    },
    {
     "data": {
      "text/html": [
       "<pre style=\"white-space:pre;overflow-x:auto;line-height:normal;font-family:Menlo,'DejaVu Sans Mono',consolas,'Courier New',monospace\"><span style=\"color: #008080; text-decoration-color: #008080; font-weight: bold\">[+] Successfully retrieved repo: </span><span style=\"color: #008080; text-decoration-color: #008080; font-weight: bold; text-decoration: underline\">https://github.com/adlerluiz/ytmdesktop</span>\n",
       "</pre>\n"
      ],
      "text/plain": [
       "\u001b[1;36m[\u001b[0m\u001b[1;36m+\u001b[0m\u001b[1;36m]\u001b[0m\u001b[1;36m Successfully retrieved repo: \u001b[0m\u001b[1;4;36mhttps://github.com/adlerluiz/ytmdesktop\u001b[0m\n"
      ]
     },
     "metadata": {},
     "output_type": "display_data"
    },
    {
     "data": {
      "text/html": [
       "<pre style=\"white-space:pre;overflow-x:auto;line-height:normal;font-family:Menlo,'DejaVu Sans Mono',consolas,'Courier New',monospace\"><span style=\"color: #008080; text-decoration-color: #008080; font-weight: bold\">[+] Found package.json at </span><span style=\"color: #008080; text-decoration-color: #008080; font-weight: bold; text-decoration: underline\">https://github.com/adlerluiz/ytmdesktop</span>\n",
       "</pre>\n"
      ],
      "text/plain": [
       "\u001b[1;36m[\u001b[0m\u001b[1;36m+\u001b[0m\u001b[1;36m]\u001b[0m\u001b[1;36m Found package.json at \u001b[0m\u001b[1;4;36mhttps://github.com/adlerluiz/ytmdesktop\u001b[0m\n"
      ]
     },
     "metadata": {},
     "output_type": "display_data"
    },
    {
     "data": {
      "text/html": [
       "<pre style=\"white-space:pre;overflow-x:auto;line-height:normal;font-family:Menlo,'DejaVu Sans Mono',consolas,'Courier New',monospace\"><span style=\"color: #008080; text-decoration-color: #008080; font-weight: bold\">[+] Getting </span><span style=\"color: #008080; text-decoration-color: #008080; font-weight: bold; text-decoration: underline\">https://github.com/ytmdesktop/ytmdesktop/blob/master/package.json</span>\n",
       "</pre>\n"
      ],
      "text/plain": [
       "\u001b[1;36m[\u001b[0m\u001b[1;36m+\u001b[0m\u001b[1;36m]\u001b[0m\u001b[1;36m Getting \u001b[0m\u001b[1;4;36mhttps://github.com/ytmdesktop/ytmdesktop/blob/master/package.json\u001b[0m\n"
      ]
     },
     "metadata": {},
     "output_type": "display_data"
    },
    {
     "data": {
      "text/html": [
       "<pre style=\"white-space:pre;overflow-x:auto;line-height:normal;font-family:Menlo,'DejaVu Sans Mono',consolas,'Courier New',monospace\"><span style=\"color: #008080; text-decoration-color: #008080; font-weight: bold\">[+] Getting repo: </span><span style=\"color: #008080; text-decoration-color: #008080; font-weight: bold; text-decoration: underline\">https://github.com/LN-Zap/zap-desktop</span>\n",
       "</pre>\n"
      ],
      "text/plain": [
       "\u001b[1;36m[\u001b[0m\u001b[1;36m+\u001b[0m\u001b[1;36m]\u001b[0m\u001b[1;36m Getting repo: \u001b[0m\u001b[1;4;36mhttps://github.com/LN-Zap/zap-desktop\u001b[0m\n"
      ]
     },
     "metadata": {},
     "output_type": "display_data"
    },
    {
     "data": {
      "text/html": [
       "<pre style=\"white-space:pre;overflow-x:auto;line-height:normal;font-family:Menlo,'DejaVu Sans Mono',consolas,'Courier New',monospace\"><span style=\"color: #008080; text-decoration-color: #008080; font-weight: bold\">[+] Successfully retrieved repo: </span><span style=\"color: #008080; text-decoration-color: #008080; font-weight: bold; text-decoration: underline\">https://github.com/LN-Zap/zap-desktop</span>\n",
       "</pre>\n"
      ],
      "text/plain": [
       "\u001b[1;36m[\u001b[0m\u001b[1;36m+\u001b[0m\u001b[1;36m]\u001b[0m\u001b[1;36m Successfully retrieved repo: \u001b[0m\u001b[1;4;36mhttps://github.com/LN-Zap/zap-desktop\u001b[0m\n"
      ]
     },
     "metadata": {},
     "output_type": "display_data"
    },
    {
     "data": {
      "text/html": [
       "<pre style=\"white-space:pre;overflow-x:auto;line-height:normal;font-family:Menlo,'DejaVu Sans Mono',consolas,'Courier New',monospace\"><span style=\"color: #008080; text-decoration-color: #008080; font-weight: bold\">[+] Found package.json at </span><span style=\"color: #008080; text-decoration-color: #008080; font-weight: bold; text-decoration: underline\">https://github.com/LN-Zap/zap-desktop</span>\n",
       "</pre>\n"
      ],
      "text/plain": [
       "\u001b[1;36m[\u001b[0m\u001b[1;36m+\u001b[0m\u001b[1;36m]\u001b[0m\u001b[1;36m Found package.json at \u001b[0m\u001b[1;4;36mhttps://github.com/LN-Zap/zap-desktop\u001b[0m\n"
      ]
     },
     "metadata": {},
     "output_type": "display_data"
    },
    {
     "data": {
      "text/html": [
       "<pre style=\"white-space:pre;overflow-x:auto;line-height:normal;font-family:Menlo,'DejaVu Sans Mono',consolas,'Courier New',monospace\"><span style=\"color: #008080; text-decoration-color: #008080; font-weight: bold\">[+] Getting </span><span style=\"color: #008080; text-decoration-color: #008080; font-weight: bold; text-decoration: underline\">https://github.com/LN-Zap/zap-desktop/blob/master/package.json</span>\n",
       "</pre>\n"
      ],
      "text/plain": [
       "\u001b[1;36m[\u001b[0m\u001b[1;36m+\u001b[0m\u001b[1;36m]\u001b[0m\u001b[1;36m Getting \u001b[0m\u001b[1;4;36mhttps://github.com/LN-Zap/zap-desktop/blob/master/package.json\u001b[0m\n"
      ]
     },
     "metadata": {},
     "output_type": "display_data"
    },
    {
     "data": {
      "text/html": [
       "<pre style=\"white-space:pre;overflow-x:auto;line-height:normal;font-family:Menlo,'DejaVu Sans Mono',consolas,'Courier New',monospace\"><span style=\"color: #008080; text-decoration-color: #008080; font-weight: bold\">[+] Getting repo: </span><span style=\"color: #008080; text-decoration-color: #008080; font-weight: bold; text-decoration: underline\">https://github.com/Zefenify/Wolf-Cola</span>\n",
       "</pre>\n"
      ],
      "text/plain": [
       "\u001b[1;36m[\u001b[0m\u001b[1;36m+\u001b[0m\u001b[1;36m]\u001b[0m\u001b[1;36m Getting repo: \u001b[0m\u001b[1;4;36mhttps://github.com/Zefenify/Wolf-Cola\u001b[0m\n"
      ]
     },
     "metadata": {},
     "output_type": "display_data"
    },
    {
     "data": {
      "text/html": [
       "<pre style=\"white-space:pre;overflow-x:auto;line-height:normal;font-family:Menlo,'DejaVu Sans Mono',consolas,'Courier New',monospace\"><span style=\"color: #008080; text-decoration-color: #008080; font-weight: bold\">[+] Successfully retrieved repo: </span><span style=\"color: #008080; text-decoration-color: #008080; font-weight: bold; text-decoration: underline\">https://github.com/Zefenify/Wolf-Cola</span>\n",
       "</pre>\n"
      ],
      "text/plain": [
       "\u001b[1;36m[\u001b[0m\u001b[1;36m+\u001b[0m\u001b[1;36m]\u001b[0m\u001b[1;36m Successfully retrieved repo: \u001b[0m\u001b[1;4;36mhttps://github.com/Zefenify/Wolf-Cola\u001b[0m\n"
      ]
     },
     "metadata": {},
     "output_type": "display_data"
    },
    {
     "data": {
      "text/html": [
       "<pre style=\"white-space:pre;overflow-x:auto;line-height:normal;font-family:Menlo,'DejaVu Sans Mono',consolas,'Courier New',monospace\"><span style=\"color: #ff5f00; text-decoration-color: #ff5f00; font-weight: bold\">[!] Package.json not found at root of </span><span style=\"color: #ff5f00; text-decoration-color: #ff5f00; font-weight: bold; text-decoration: underline\">https://github.com/Zefenify/Wolf-Cola;</span><span style=\"color: #ff5f00; text-decoration-color: #ff5f00; font-weight: bold\"> trying directories</span>\n",
       "</pre>\n"
      ],
      "text/plain": [
       "\u001b[1;38;5;202m[\u001b[0m\u001b[1;38;5;202m!\u001b[0m\u001b[1;38;5;202m]\u001b[0m\u001b[1;38;5;202m Package.json not found at root of \u001b[0m\u001b[1;4;38;5;202mhttps://github.com/Zefenify/Wolf-Cola;\u001b[0m\u001b[1;38;5;202m trying directories\u001b[0m\n"
      ]
     },
     "metadata": {},
     "output_type": "display_data"
    },
    {
     "data": {
      "text/html": [
       "<pre style=\"white-space:pre;overflow-x:auto;line-height:normal;font-family:Menlo,'DejaVu Sans Mono',consolas,'Courier New',monospace\"><span style=\"color: #008080; text-decoration-color: #008080; font-weight: bold\">[+] Trying </span><span style=\"color: #008080; text-decoration-color: #008080; font-weight: bold; text-decoration: underline\">https://github.com/zefenify/Wolf-Cola/tree/master/screenshots</span>\n",
       "</pre>\n"
      ],
      "text/plain": [
       "\u001b[1;36m[\u001b[0m\u001b[1;36m+\u001b[0m\u001b[1;36m]\u001b[0m\u001b[1;36m Trying \u001b[0m\u001b[1;4;36mhttps://github.com/zefenify/Wolf-Cola/tree/master/screenshots\u001b[0m\n"
      ]
     },
     "metadata": {},
     "output_type": "display_data"
    },
    {
     "data": {
      "text/html": [
       "<pre style=\"white-space:pre;overflow-x:auto;line-height:normal;font-family:Menlo,'DejaVu Sans Mono',consolas,'Courier New',monospace\"><span style=\"color: #008080; text-decoration-color: #008080; font-weight: bold\">[+] Trying </span><span style=\"color: #008080; text-decoration-color: #008080; font-weight: bold; text-decoration: underline\">https://github.com/zefenify/Wolf-Cola/tree/master/wireframes</span>\n",
       "</pre>\n"
      ],
      "text/plain": [
       "\u001b[1;36m[\u001b[0m\u001b[1;36m+\u001b[0m\u001b[1;36m]\u001b[0m\u001b[1;36m Trying \u001b[0m\u001b[1;4;36mhttps://github.com/zefenify/Wolf-Cola/tree/master/wireframes\u001b[0m\n"
      ]
     },
     "metadata": {},
     "output_type": "display_data"
    },
    {
     "data": {
      "text/html": [
       "<pre style=\"white-space:pre;overflow-x:auto;line-height:normal;font-family:Menlo,'DejaVu Sans Mono',consolas,'Courier New',monospace\"><span style=\"color: #800000; text-decoration-color: #800000; font-weight: bold\">[💀] Could not find package.json in first-level-subdirs</span>\n",
       "</pre>\n"
      ],
      "text/plain": [
       "\u001b[1;31m[\u001b[0m\u001b[1;31m💀\u001b[0m\u001b[1;31m]\u001b[0m\u001b[1;31m Could not find package.json in first-level-subdirs\u001b[0m\n"
      ]
     },
     "metadata": {},
     "output_type": "display_data"
    },
    {
     "data": {
      "text/html": [
       "<pre style=\"white-space:pre;overflow-x:auto;line-height:normal;font-family:Menlo,'DejaVu Sans Mono',consolas,'Courier New',monospace\"><span style=\"color: #008080; text-decoration-color: #008080; font-weight: bold\">[+] Getting repo: </span><span style=\"color: #008080; text-decoration-color: #008080; font-weight: bold; text-decoration: underline\">https://github.com/zettlr/zettlr</span>\n",
       "</pre>\n"
      ],
      "text/plain": [
       "\u001b[1;36m[\u001b[0m\u001b[1;36m+\u001b[0m\u001b[1;36m]\u001b[0m\u001b[1;36m Getting repo: \u001b[0m\u001b[1;4;36mhttps://github.com/zettlr/zettlr\u001b[0m\n"
      ]
     },
     "metadata": {},
     "output_type": "display_data"
    },
    {
     "data": {
      "text/html": [
       "<pre style=\"white-space:pre;overflow-x:auto;line-height:normal;font-family:Menlo,'DejaVu Sans Mono',consolas,'Courier New',monospace\"><span style=\"color: #008080; text-decoration-color: #008080; font-weight: bold\">[+] Successfully retrieved repo: </span><span style=\"color: #008080; text-decoration-color: #008080; font-weight: bold; text-decoration: underline\">https://github.com/zettlr/zettlr</span>\n",
       "</pre>\n"
      ],
      "text/plain": [
       "\u001b[1;36m[\u001b[0m\u001b[1;36m+\u001b[0m\u001b[1;36m]\u001b[0m\u001b[1;36m Successfully retrieved repo: \u001b[0m\u001b[1;4;36mhttps://github.com/zettlr/zettlr\u001b[0m\n"
      ]
     },
     "metadata": {},
     "output_type": "display_data"
    },
    {
     "data": {
      "text/html": [
       "<pre style=\"white-space:pre;overflow-x:auto;line-height:normal;font-family:Menlo,'DejaVu Sans Mono',consolas,'Courier New',monospace\"><span style=\"color: #008080; text-decoration-color: #008080; font-weight: bold\">[+] Found package.json at </span><span style=\"color: #008080; text-decoration-color: #008080; font-weight: bold; text-decoration: underline\">https://github.com/zettlr/zettlr</span>\n",
       "</pre>\n"
      ],
      "text/plain": [
       "\u001b[1;36m[\u001b[0m\u001b[1;36m+\u001b[0m\u001b[1;36m]\u001b[0m\u001b[1;36m Found package.json at \u001b[0m\u001b[1;4;36mhttps://github.com/zettlr/zettlr\u001b[0m\n"
      ]
     },
     "metadata": {},
     "output_type": "display_data"
    },
    {
     "data": {
      "text/html": [
       "<pre style=\"white-space:pre;overflow-x:auto;line-height:normal;font-family:Menlo,'DejaVu Sans Mono',consolas,'Courier New',monospace\"><span style=\"color: #008080; text-decoration-color: #008080; font-weight: bold\">[+] Getting </span><span style=\"color: #008080; text-decoration-color: #008080; font-weight: bold; text-decoration: underline\">https://github.com/Zettlr/Zettlr/blob/develop/package.json</span>\n",
       "</pre>\n"
      ],
      "text/plain": [
       "\u001b[1;36m[\u001b[0m\u001b[1;36m+\u001b[0m\u001b[1;36m]\u001b[0m\u001b[1;36m Getting \u001b[0m\u001b[1;4;36mhttps://github.com/Zettlr/Zettlr/blob/develop/package.json\u001b[0m\n"
      ]
     },
     "metadata": {},
     "output_type": "display_data"
    },
    {
     "data": {
      "text/html": [
       "<pre style=\"white-space:pre;overflow-x:auto;line-height:normal;font-family:Menlo,'DejaVu Sans Mono',consolas,'Courier New',monospace\"><span style=\"color: #008080; text-decoration-color: #008080; font-weight: bold\">[+] Getting repo: </span><span style=\"color: #008080; text-decoration-color: #008080; font-weight: bold; text-decoration: underline\">https://github.com/alagrede/znote-app</span>\n",
       "</pre>\n"
      ],
      "text/plain": [
       "\u001b[1;36m[\u001b[0m\u001b[1;36m+\u001b[0m\u001b[1;36m]\u001b[0m\u001b[1;36m Getting repo: \u001b[0m\u001b[1;4;36mhttps://github.com/alagrede/znote-app\u001b[0m\n"
      ]
     },
     "metadata": {},
     "output_type": "display_data"
    },
    {
     "data": {
      "text/html": [
       "<pre style=\"white-space:pre;overflow-x:auto;line-height:normal;font-family:Menlo,'DejaVu Sans Mono',consolas,'Courier New',monospace\"><span style=\"color: #008080; text-decoration-color: #008080; font-weight: bold\">[+] Successfully retrieved repo: </span><span style=\"color: #008080; text-decoration-color: #008080; font-weight: bold; text-decoration: underline\">https://github.com/alagrede/znote-app</span>\n",
       "</pre>\n"
      ],
      "text/plain": [
       "\u001b[1;36m[\u001b[0m\u001b[1;36m+\u001b[0m\u001b[1;36m]\u001b[0m\u001b[1;36m Successfully retrieved repo: \u001b[0m\u001b[1;4;36mhttps://github.com/alagrede/znote-app\u001b[0m\n"
      ]
     },
     "metadata": {},
     "output_type": "display_data"
    },
    {
     "data": {
      "text/html": [
       "<pre style=\"white-space:pre;overflow-x:auto;line-height:normal;font-family:Menlo,'DejaVu Sans Mono',consolas,'Courier New',monospace\"><span style=\"color: #ff5f00; text-decoration-color: #ff5f00; font-weight: bold\">[!] Package.json not found at root of </span><span style=\"color: #ff5f00; text-decoration-color: #ff5f00; font-weight: bold; text-decoration: underline\">https://github.com/alagrede/znote-app;</span><span style=\"color: #ff5f00; text-decoration-color: #ff5f00; font-weight: bold\"> trying directories</span>\n",
       "</pre>\n"
      ],
      "text/plain": [
       "\u001b[1;38;5;202m[\u001b[0m\u001b[1;38;5;202m!\u001b[0m\u001b[1;38;5;202m]\u001b[0m\u001b[1;38;5;202m Package.json not found at root of \u001b[0m\u001b[1;4;38;5;202mhttps://github.com/alagrede/znote-app;\u001b[0m\u001b[1;38;5;202m trying directories\u001b[0m\n"
      ]
     },
     "metadata": {},
     "output_type": "display_data"
    },
    {
     "data": {
      "text/html": [
       "<pre style=\"white-space:pre;overflow-x:auto;line-height:normal;font-family:Menlo,'DejaVu Sans Mono',consolas,'Courier New',monospace\"><span style=\"color: #008080; text-decoration-color: #008080; font-weight: bold\">[+] Trying </span><span style=\"color: #008080; text-decoration-color: #008080; font-weight: bold; text-decoration: underline\">https://github.com/alagrede/znote-app/tree/master/examples</span>\n",
       "</pre>\n"
      ],
      "text/plain": [
       "\u001b[1;36m[\u001b[0m\u001b[1;36m+\u001b[0m\u001b[1;36m]\u001b[0m\u001b[1;36m Trying \u001b[0m\u001b[1;4;36mhttps://github.com/alagrede/znote-app/tree/master/examples\u001b[0m\n"
      ]
     },
     "metadata": {},
     "output_type": "display_data"
    },
    {
     "data": {
      "text/html": [
       "<pre style=\"white-space:pre;overflow-x:auto;line-height:normal;font-family:Menlo,'DejaVu Sans Mono',consolas,'Courier New',monospace\"><span style=\"color: #800000; text-decoration-color: #800000; font-weight: bold\">[💀] Could not find package.json in first-level-subdirs</span>\n",
       "</pre>\n"
      ],
      "text/plain": [
       "\u001b[1;31m[\u001b[0m\u001b[1;31m💀\u001b[0m\u001b[1;31m]\u001b[0m\u001b[1;31m Could not find package.json in first-level-subdirs\u001b[0m\n"
      ]
     },
     "metadata": {},
     "output_type": "display_data"
    },
    {
     "data": {
      "text/html": [
       "<pre style=\"white-space:pre;overflow-x:auto;line-height:normal;font-family:Menlo,'DejaVu Sans Mono',consolas,'Courier New',monospace\"><span style=\"color: #008080; text-decoration-color: #008080; font-weight: bold\">[+] Getting repo: </span><span style=\"color: #008080; text-decoration-color: #008080; font-weight: bold; text-decoration: underline\">https://github.com/zulip/zulip-desktop</span>\n",
       "</pre>\n"
      ],
      "text/plain": [
       "\u001b[1;36m[\u001b[0m\u001b[1;36m+\u001b[0m\u001b[1;36m]\u001b[0m\u001b[1;36m Getting repo: \u001b[0m\u001b[1;4;36mhttps://github.com/zulip/zulip-desktop\u001b[0m\n"
      ]
     },
     "metadata": {},
     "output_type": "display_data"
    },
    {
     "data": {
      "text/html": [
       "<pre style=\"white-space:pre;overflow-x:auto;line-height:normal;font-family:Menlo,'DejaVu Sans Mono',consolas,'Courier New',monospace\"><span style=\"color: #008080; text-decoration-color: #008080; font-weight: bold\">[+] Successfully retrieved repo: </span><span style=\"color: #008080; text-decoration-color: #008080; font-weight: bold; text-decoration: underline\">https://github.com/zulip/zulip-desktop</span>\n",
       "</pre>\n"
      ],
      "text/plain": [
       "\u001b[1;36m[\u001b[0m\u001b[1;36m+\u001b[0m\u001b[1;36m]\u001b[0m\u001b[1;36m Successfully retrieved repo: \u001b[0m\u001b[1;4;36mhttps://github.com/zulip/zulip-desktop\u001b[0m\n"
      ]
     },
     "metadata": {},
     "output_type": "display_data"
    },
    {
     "data": {
      "text/html": [
       "<pre style=\"white-space:pre;overflow-x:auto;line-height:normal;font-family:Menlo,'DejaVu Sans Mono',consolas,'Courier New',monospace\"><span style=\"color: #008080; text-decoration-color: #008080; font-weight: bold\">[+] Found package.json at </span><span style=\"color: #008080; text-decoration-color: #008080; font-weight: bold; text-decoration: underline\">https://github.com/zulip/zulip-desktop</span>\n",
       "</pre>\n"
      ],
      "text/plain": [
       "\u001b[1;36m[\u001b[0m\u001b[1;36m+\u001b[0m\u001b[1;36m]\u001b[0m\u001b[1;36m Found package.json at \u001b[0m\u001b[1;4;36mhttps://github.com/zulip/zulip-desktop\u001b[0m\n"
      ]
     },
     "metadata": {},
     "output_type": "display_data"
    },
    {
     "data": {
      "text/html": [
       "<pre style=\"white-space:pre;overflow-x:auto;line-height:normal;font-family:Menlo,'DejaVu Sans Mono',consolas,'Courier New',monospace\"><span style=\"color: #008080; text-decoration-color: #008080; font-weight: bold\">[+] Getting </span><span style=\"color: #008080; text-decoration-color: #008080; font-weight: bold; text-decoration: underline\">https://github.com/zulip/zulip-desktop/blob/main/package.json</span>\n",
       "</pre>\n"
      ],
      "text/plain": [
       "\u001b[1;36m[\u001b[0m\u001b[1;36m+\u001b[0m\u001b[1;36m]\u001b[0m\u001b[1;36m Getting \u001b[0m\u001b[1;4;36mhttps://github.com/zulip/zulip-desktop/blob/main/package.json\u001b[0m\n"
      ]
     },
     "metadata": {},
     "output_type": "display_data"
    }
   ],
   "source": [
    "for a in non_manual_apps:\n",
    "    package_url = scraper.search_package_json(a[\"repo\"])\n",
    "    if package_url:\n",
    "        electron_version = scraper.get_electron_version(package_url)\n",
    "        if electron_version:\n",
    "            a[\"electron_version\"] = electron_version\n",
    "            for v in vulncheck.PATCHED_VERSIONS:\n",
    "                if vulncheck.is_patched(v, electron_version):\n",
    "                    a[f\"vulnerable_{v}\"] = \"patched\"\n",
    "                else:\n",
    "                    a[f\"vulnerable_{v}\"] = \"vulnerable\"\n",
    "        else:\n",
    "            a[\"electron_version\"] = \"\"\n",
    "            for v in vulncheck.PATCHED_VERSIONS:\n",
    "                a[f\"vulnerable_{v}\"] = \"unknown\"\n",
    "        a[\"date_accessed\"] = time.strftime(\"%Y-%m-%d %H:%M:%S%z\")"
   ]
  },
  {
   "cell_type": "markdown",
   "id": "6f7ce0e0-4ca5-4b7e-9836-593943775ba6",
   "metadata": {},
   "source": [
    "## Saving Data\n",
    "\n",
    "Lastly, we recreate the CSV and JSON files for use by the community!"
   ]
  },
  {
   "cell_type": "code",
   "execution_count": 7,
   "id": "88585b4b-35c0-452e-801f-83df3e7eb3d0",
   "metadata": {
    "tags": []
   },
   "outputs": [],
   "source": [
    "with open(\"electron_apps.csv\",\"w\") as f:\n",
    "    writer = csv.DictWriter(f, apps[0].keys())\n",
    "    writer.writeheader()\n",
    "    writer.writerows(apps)\n",
    "\n",
    "with open(\"electron_apps.json\", \"w\") as f:\n",
    "    json.dump(apps, f, indent=4)"
   ]
  }
 ],
 "metadata": {
  "kernelspec": {
   "display_name": "Python 3 (ipykernel)",
   "language": "python",
   "name": "python3"
  },
  "language_info": {
   "codemirror_mode": {
    "name": "ipython",
    "version": 3
   },
   "file_extension": ".py",
   "mimetype": "text/x-python",
   "name": "python",
   "nbconvert_exporter": "python",
   "pygments_lexer": "ipython3",
   "version": "3.11.4"
  }
 },
 "nbformat": 4,
 "nbformat_minor": 5
}
